{
 "cells": [
  {
   "cell_type": "markdown",
   "metadata": {
    "colab_type": "text",
    "id": "TgUd25L8djhy"
   },
   "source": [
    "# Group Project\n",
    "\n"
   ]
  },
  {
   "cell_type": "markdown",
   "metadata": {
    "colab_type": "text",
    "id": "_a12qwyOdjh0"
   },
   "source": [
    "Formar grupos de 2, máximo 3 pessoas.\n",
    "\n",
    "**Dataset:** https://www.kaggle.com/tmdb/tmdb-movie-metadata\n",
    "\n",
    "\n",
    "**Objectivo:** Usar técnicas de regressão para prever a rating de um filme com base em diferentes características. \n",
    "\n",
    "\n",
    "**Notas importantes**\n",
    "    \n",
    "    1. Usar a coluna \"vote_average\" como target.\n",
    "    2. Usar técnicas de regressão para prever a rating (vote_average) que um filme terá com base em diferentes caracteristicas.\n",
    "    \n",
    "**Recomendações**\n",
    "    \n",
    "    1. Não é necessário, nem recomendável, usar todas as features disponíveis (especialmente as que não são númericas).\n",
    "    2. O exercício pode demorar muito ou pouco tempo, dependendo da exploração que for feita. Não é esperado que sejam explorados todos os detalhes, nem todas as abordagens possíveis.\n",
    "    3. Se houver falta de tempo para explorar tudo o que gostariam, ou querem fazer alguma técnica que iria levar muito tempo, expliquem por escrito qual era a ideia e o que esperariam obter.\n",
    "    4. Tentem explicar o máximo possível o racícionio por detrás de todos os passos que afectuarem.\n",
    "    5. Acima de tudo, divirtam-se!\n",
    "    \n",
    "**Perguntas**\n",
    "\n",
    "    1. Quantos filmes existem no dataset? E quantas features?\n",
    "    2. Existem variáveis que não são independentes entre si?\n",
    "    3. Qual a técnica de regressão que levou a melhores resultados?\n",
    "    4. Quais os factores que mais contribuem para o sucesso de um filme?\n",
    "    5. Recomendariam o vosso modelo a uma produtora de filmes?\n",
    "    "
   ]
  },
  {
   "cell_type": "code",
   "execution_count": 1,
   "metadata": {
    "colab": {
     "base_uri": "https://localhost:8080/",
     "height": 71
    },
    "colab_type": "code",
    "id": "moKnhyYfdjh2",
    "outputId": "57a3d97c-d0c3-46d0-a64f-01a6c4941881"
   },
   "outputs": [],
   "source": [
    "import pandas as pd\n",
    "import numpy as np\n",
    "import matplotlib.pyplot as plt\n",
    "import seaborn as sns\n",
    "from sklearn.model_selection import train_test_split\n",
    "from sklearn.preprocessing import MinMaxScaler\n",
    "from sklearn.linear_model import LinearRegression\n",
    "from sklearn.metrics import r2_score\n",
    "from sklearn.preprocessing import PolynomialFeatures\n",
    "from sklearn.pipeline import Pipeline\n",
    "\n",
    "\n",
    "seed = 42"
   ]
  },
  {
   "cell_type": "code",
   "execution_count": 2,
   "metadata": {
    "colab": {},
    "colab_type": "code",
    "id": "31IJrPzbdjh8"
   },
   "outputs": [],
   "source": [
    "df = pd.read_csv('tmdb_5000_movies.csv')"
   ]
  },
  {
   "cell_type": "code",
   "execution_count": 3,
   "metadata": {
    "colab": {},
    "colab_type": "code",
    "id": "AYscrBdhbcSf"
   },
   "outputs": [],
   "source": [
    "# criar um dataset copia\n",
    "movies = df.copy()"
   ]
  },
  {
   "cell_type": "code",
   "execution_count": 4,
   "metadata": {
    "colab": {
     "base_uri": "https://localhost:8080/",
     "height": 318
    },
    "colab_type": "code",
    "id": "peCqOA4mdjh_",
    "outputId": "e77f7713-162f-4571-c6f0-78f431162327"
   },
   "outputs": [
    {
     "data": {
      "text/html": [
       "<div>\n",
       "<style scoped>\n",
       "    .dataframe tbody tr th:only-of-type {\n",
       "        vertical-align: middle;\n",
       "    }\n",
       "\n",
       "    .dataframe tbody tr th {\n",
       "        vertical-align: top;\n",
       "    }\n",
       "\n",
       "    .dataframe thead th {\n",
       "        text-align: right;\n",
       "    }\n",
       "</style>\n",
       "<table border=\"1\" class=\"dataframe\">\n",
       "  <thead>\n",
       "    <tr style=\"text-align: right;\">\n",
       "      <th></th>\n",
       "      <th>budget</th>\n",
       "      <th>genres</th>\n",
       "      <th>homepage</th>\n",
       "      <th>id</th>\n",
       "      <th>keywords</th>\n",
       "      <th>original_language</th>\n",
       "      <th>original_title</th>\n",
       "      <th>overview</th>\n",
       "      <th>popularity</th>\n",
       "      <th>production_companies</th>\n",
       "      <th>production_countries</th>\n",
       "      <th>release_date</th>\n",
       "      <th>revenue</th>\n",
       "      <th>runtime</th>\n",
       "      <th>spoken_languages</th>\n",
       "      <th>status</th>\n",
       "      <th>tagline</th>\n",
       "      <th>title</th>\n",
       "      <th>vote_average</th>\n",
       "      <th>vote_count</th>\n",
       "    </tr>\n",
       "  </thead>\n",
       "  <tbody>\n",
       "    <tr>\n",
       "      <th>0</th>\n",
       "      <td>237000000</td>\n",
       "      <td>[{\"id\": 28, \"name\": \"Action\"}, {\"id\": 12, \"nam...</td>\n",
       "      <td>http://www.avatarmovie.com/</td>\n",
       "      <td>19995</td>\n",
       "      <td>[{\"id\": 1463, \"name\": \"culture clash\"}, {\"id\":...</td>\n",
       "      <td>en</td>\n",
       "      <td>Avatar</td>\n",
       "      <td>In the 22nd century, a paraplegic Marine is di...</td>\n",
       "      <td>150.437577</td>\n",
       "      <td>[{\"name\": \"Ingenious Film Partners\", \"id\": 289...</td>\n",
       "      <td>[{\"iso_3166_1\": \"US\", \"name\": \"United States o...</td>\n",
       "      <td>2009-12-10</td>\n",
       "      <td>2787965087</td>\n",
       "      <td>162.0</td>\n",
       "      <td>[{\"iso_639_1\": \"en\", \"name\": \"English\"}, {\"iso...</td>\n",
       "      <td>Released</td>\n",
       "      <td>Enter the World of Pandora.</td>\n",
       "      <td>Avatar</td>\n",
       "      <td>7.2</td>\n",
       "      <td>11800</td>\n",
       "    </tr>\n",
       "    <tr>\n",
       "      <th>1</th>\n",
       "      <td>300000000</td>\n",
       "      <td>[{\"id\": 12, \"name\": \"Adventure\"}, {\"id\": 14, \"...</td>\n",
       "      <td>http://disney.go.com/disneypictures/pirates/</td>\n",
       "      <td>285</td>\n",
       "      <td>[{\"id\": 270, \"name\": \"ocean\"}, {\"id\": 726, \"na...</td>\n",
       "      <td>en</td>\n",
       "      <td>Pirates of the Caribbean: At World's End</td>\n",
       "      <td>Captain Barbossa, long believed to be dead, ha...</td>\n",
       "      <td>139.082615</td>\n",
       "      <td>[{\"name\": \"Walt Disney Pictures\", \"id\": 2}, {\"...</td>\n",
       "      <td>[{\"iso_3166_1\": \"US\", \"name\": \"United States o...</td>\n",
       "      <td>2007-05-19</td>\n",
       "      <td>961000000</td>\n",
       "      <td>169.0</td>\n",
       "      <td>[{\"iso_639_1\": \"en\", \"name\": \"English\"}]</td>\n",
       "      <td>Released</td>\n",
       "      <td>At the end of the world, the adventure begins.</td>\n",
       "      <td>Pirates of the Caribbean: At World's End</td>\n",
       "      <td>6.9</td>\n",
       "      <td>4500</td>\n",
       "    </tr>\n",
       "  </tbody>\n",
       "</table>\n",
       "</div>"
      ],
      "text/plain": [
       "      budget                                             genres  \\\n",
       "0  237000000  [{\"id\": 28, \"name\": \"Action\"}, {\"id\": 12, \"nam...   \n",
       "1  300000000  [{\"id\": 12, \"name\": \"Adventure\"}, {\"id\": 14, \"...   \n",
       "\n",
       "                                       homepage     id  \\\n",
       "0                   http://www.avatarmovie.com/  19995   \n",
       "1  http://disney.go.com/disneypictures/pirates/    285   \n",
       "\n",
       "                                            keywords original_language  \\\n",
       "0  [{\"id\": 1463, \"name\": \"culture clash\"}, {\"id\":...                en   \n",
       "1  [{\"id\": 270, \"name\": \"ocean\"}, {\"id\": 726, \"na...                en   \n",
       "\n",
       "                             original_title  \\\n",
       "0                                    Avatar   \n",
       "1  Pirates of the Caribbean: At World's End   \n",
       "\n",
       "                                            overview  popularity  \\\n",
       "0  In the 22nd century, a paraplegic Marine is di...  150.437577   \n",
       "1  Captain Barbossa, long believed to be dead, ha...  139.082615   \n",
       "\n",
       "                                production_companies  \\\n",
       "0  [{\"name\": \"Ingenious Film Partners\", \"id\": 289...   \n",
       "1  [{\"name\": \"Walt Disney Pictures\", \"id\": 2}, {\"...   \n",
       "\n",
       "                                production_countries release_date     revenue  \\\n",
       "0  [{\"iso_3166_1\": \"US\", \"name\": \"United States o...   2009-12-10  2787965087   \n",
       "1  [{\"iso_3166_1\": \"US\", \"name\": \"United States o...   2007-05-19   961000000   \n",
       "\n",
       "   runtime                                   spoken_languages    status  \\\n",
       "0    162.0  [{\"iso_639_1\": \"en\", \"name\": \"English\"}, {\"iso...  Released   \n",
       "1    169.0           [{\"iso_639_1\": \"en\", \"name\": \"English\"}]  Released   \n",
       "\n",
       "                                          tagline  \\\n",
       "0                     Enter the World of Pandora.   \n",
       "1  At the end of the world, the adventure begins.   \n",
       "\n",
       "                                      title  vote_average  vote_count  \n",
       "0                                    Avatar           7.2       11800  \n",
       "1  Pirates of the Caribbean: At World's End           6.9        4500  "
      ]
     },
     "execution_count": 4,
     "metadata": {},
     "output_type": "execute_result"
    }
   ],
   "source": [
    "movies.head(2)"
   ]
  },
  {
   "cell_type": "code",
   "execution_count": 5,
   "metadata": {
    "colab": {
     "base_uri": "https://localhost:8080/",
     "height": 34
    },
    "colab_type": "code",
    "id": "YUkHGE2CQ5gz",
    "outputId": "a445d2b0-8456-405d-b0aa-bfc5f2a0ca4f"
   },
   "outputs": [
    {
     "data": {
      "text/plain": [
       "(4803, 20)"
      ]
     },
     "execution_count": 5,
     "metadata": {},
     "output_type": "execute_result"
    }
   ],
   "source": [
    "movies.shape"
   ]
  },
  {
   "cell_type": "code",
   "execution_count": 6,
   "metadata": {
    "colab": {
     "base_uri": "https://localhost:8080/",
     "height": 34
    },
    "colab_type": "code",
    "id": "rHw5C3z8Y52h",
    "outputId": "67aee60d-82bf-4904-f1ed-4ed2f5f08dc1"
   },
   "outputs": [
    {
     "data": {
      "text/plain": [
       "4803"
      ]
     },
     "execution_count": 6,
     "metadata": {},
     "output_type": "execute_result"
    }
   ],
   "source": [
    "movies.id.nunique()"
   ]
  },
  {
   "cell_type": "markdown",
   "metadata": {
    "colab_type": "text",
    "id": "5xESYM9VZRJ6"
   },
   "source": [
    "#### 1. Quantos filmes existem no dataset? E quantas features?\n",
    "\n",
    "```\n",
    "  - Existem 4803 filmes no dataset. \n",
    "  - Existem 19 features no dataset\n",
    "```\n",
    "\n"
   ]
  },
  {
   "cell_type": "markdown",
   "metadata": {
    "colab_type": "text",
    "id": "M4W2smkfmHgj"
   },
   "source": [
    "# Data cleaning "
   ]
  },
  {
   "cell_type": "code",
   "execution_count": 18,
   "metadata": {},
   "outputs": [
    {
     "data": {
      "text/plain": [
       "genres                  0.244639\n",
       "homepage                0.995628\n",
       "keywords                0.879034\n",
       "original_language       0.007704\n",
       "original_title          0.999584\n",
       "overview                1.000000\n",
       "production_companies    0.769727\n",
       "production_countries    0.097647\n",
       "release_date            0.683115\n",
       "spoken_languages        0.113263\n",
       "status                  0.000625\n",
       "tagline                 0.996877\n",
       "title                   0.999375\n",
       "dtype: float64"
      ]
     },
     "execution_count": 18,
     "metadata": {},
     "output_type": "execute_result"
    }
   ],
   "source": [
    "#Identificação de variáveis potencialmente irrelevantes (muitas categorias + muitos missing values)\n",
    "(movies.select_dtypes('O').isna().sum() + movies.select_dtypes('O').nunique())/movies.shape[0]"
   ]
  },
  {
   "cell_type": "markdown",
   "metadata": {
    "colab_type": "text",
    "id": "4kPL6eyAbB0c"
   },
   "source": [
    "Vamos começar por eliminar features que consideramos pouco interessantes no contexto deste projeto. São elas:\n",
    "\n",
    "\n",
    "1.   id\n",
    "2.   homepage \n",
    "3.   original_title \n",
    "4.   overview\t\n",
    "5.   tagline\n",
    "6.   vote_count\n",
    "\n",
    "Estas features ou são únicas ou missing para cada filme. Enquanto que do id não conseguimos tirar qualquer conhecimento, isto não significa, necessariamente, que não haja conhecimento presente nas restantes 4 variáveis - o título pode-nos remeter para algum tipo de franchise reconhecido pela crítica, a descrição e as taglines podem ter palavras chaves associadas ao sucesso do filme e a homepage, para além de nos dar acesso a conteúdo que, através de um _scrapper_, poderia ajudar a classificar o filme com mais detalhe, pode-nos dar mais dados sobre as produtoras e a relevância entre elas.\n",
    "\n",
    "No entanto, por uma questão de custo-benefício, acreditamos que devemos centrar os esforços na restante informação que temos e que não será tão esparsa como a que poderíamos obter por estas variáveis.\n",
    "\n",
    "É também difícil perceber a utilidade da vote_count, uma vez que só temos acesso a esta variável no mesmo momento em que a pontuação do filme é atribuída, dando origem a um data leak.\n",
    "\n",
    "\n"
   ]
  },
  {
   "cell_type": "code",
   "execution_count": 19,
   "metadata": {
    "colab": {},
    "colab_type": "code",
    "id": "ENp4yoRMfTyp"
   },
   "outputs": [],
   "source": [
    "columns_todrop = [\"id\",\"homepage\",\"original_title\",\"overview\",\"tagline\", 'vote_count']"
   ]
  },
  {
   "cell_type": "code",
   "execution_count": 20,
   "metadata": {
    "colab": {},
    "colab_type": "code",
    "id": "cObHKJ1nfm_x"
   },
   "outputs": [],
   "source": [
    "movies = movies.drop(columns=columns_todrop, axis=1)"
   ]
  },
  {
   "cell_type": "code",
   "execution_count": 21,
   "metadata": {
    "colab": {
     "base_uri": "https://localhost:8080/",
     "height": 34
    },
    "colab_type": "code",
    "id": "aXkyDTH8gE1g",
    "outputId": "d6cca849-77d2-4b6a-e166-e4355c711ad9"
   },
   "outputs": [
    {
     "data": {
      "text/plain": [
       "(4803, 14)"
      ]
     },
     "execution_count": 21,
     "metadata": {},
     "output_type": "execute_result"
    }
   ],
   "source": [
    "movies.shape"
   ]
  },
  {
   "cell_type": "markdown",
   "metadata": {
    "colab_type": "text",
    "id": "N00VDn3fllqk"
   },
   "source": [
    "O dataset possui alguma features que estão em formato json. Vamos simplificar estas colunas para ser mais fácil analisá-las.  "
   ]
  },
  {
   "cell_type": "code",
   "execution_count": 23,
   "metadata": {
    "colab": {
     "base_uri": "https://localhost:8080/",
     "height": 122
    },
    "colab_type": "code",
    "id": "XnqksVynogCY",
    "outputId": "26532637-ff2f-439e-9541-8d0c3e552a74"
   },
   "outputs": [
    {
     "name": "stdout",
     "output_type": "stream",
     "text": [
      "[{\"id\": 28, \"name\": \"Action\"}, {\"id\": 12, \"name\": \"Adventure\"}, {\"id\": 14, \"name\": \"Fantasy\"}, {\"id\": 878, \"name\": \"Science Fiction\"}]\n",
      "\n",
      "[{\"id\": 1463, \"name\": \"culture clash\"}, {\"id\": 2964, \"name\": \"future\"}, {\"id\": 3386, \"name\": \"space war\"}, {\"id\": 3388, \"name\": \"space colony\"}, {\"id\": 3679, \"name\": \"society\"}, {\"id\": 3801, \"name\": \"space travel\"}, {\"id\": 9685, \"name\": \"futuristic\"}, {\"id\": 9840, \"name\": \"romance\"}, {\"id\": 9882, \"name\": \"space\"}, {\"id\": 9951, \"name\": \"alien\"}, {\"id\": 10148, \"name\": \"tribe\"}, {\"id\": 10158, \"name\": \"alien planet\"}, {\"id\": 10987, \"name\": \"cgi\"}, {\"id\": 11399, \"name\": \"marine\"}, {\"id\": 13065, \"name\": \"soldier\"}, {\"id\": 14643, \"name\": \"battle\"}, {\"id\": 14720, \"name\": \"love affair\"}, {\"id\": 165431, \"name\": \"anti war\"}, {\"id\": 193554, \"name\": \"power relations\"}, {\"id\": 206690, \"name\": \"mind and soul\"}, {\"id\": 209714, \"name\": \"3d\"}]\n",
      "\n",
      "[{\"name\": \"Ingenious Film Partners\", \"id\": 289}, {\"name\": \"Twentieth Century Fox Film Corporation\", \"id\": 306}, {\"name\": \"Dune Entertainment\", \"id\": 444}, {\"name\": \"Lightstorm Entertainment\", \"id\": 574}]\n",
      "\n",
      "[{\"iso_3166_1\": \"US\", \"name\": \"United States of America\"}, {\"iso_3166_1\": \"GB\", \"name\": \"United Kingdom\"}]\n",
      "\n",
      "[{\"iso_639_1\": \"en\", \"name\": \"English\"}, {\"iso_639_1\": \"es\", \"name\": \"Espa\\u00f1ol\"}]\n",
      "\n"
     ]
    }
   ],
   "source": [
    "# ver a 1ª linha do genres\n",
    "print(movies.genres.iloc[0] +\"\\n\")\n",
    "print(movies.keywords.iloc[0]+ \"\\n\")\n",
    "print(movies.production_companies.iloc[0]+ \"\\n\")\n",
    "print(movies.production_countries.iloc[0] + \"\\n\")\n",
    "print(movies.spoken_languages.iloc[0] + \"\\n\")"
   ]
  },
  {
   "cell_type": "code",
   "execution_count": 25,
   "metadata": {},
   "outputs": [
    {
     "name": "stdout",
     "output_type": "stream",
     "text": [
      "A coluna genres tem, potencialmente, 7 valores\n",
      "A coluna keywords tem, potencialmente, 97 valores\n",
      "A coluna production_companies tem, potencialmente, 26 valores\n",
      "A coluna production_countries tem, potencialmente, 12 valores\n",
      "A coluna spoken_languages tem, potencialmente, 9 valores\n"
     ]
    }
   ],
   "source": [
    "for column in ['genres', 'keywords', 'production_companies', 'production_countries', 'spoken_languages']:\n",
    "    max_length = max([len(eval(item)) for item in df[column]])\n",
    "    print('A coluna {a} tem, potencialmente, {b} valores'.format(a=column , b=max_length))"
   ]
  },
  {
   "cell_type": "markdown",
   "metadata": {
    "colab_type": "text",
    "id": "9KqZIfEqrGuX"
   },
   "source": [
    "Todas as features estão respresentadas em forma de dicionario ( key, value) em que o value é em todas o \"name\". Vamos criar uma função que nos extrai todos os name e nos coloca em forma de lista. "
   ]
  },
  {
   "cell_type": "code",
   "execution_count": 27,
   "metadata": {
    "colab": {},
    "colab_type": "code",
    "id": "bLMg5GMCrsIe"
   },
   "outputs": [],
   "source": [
    "from pandas.io.json import json_normalize\n",
    "import json\n",
    "def json_decode(data,key):\n",
    "    \n",
    "    \"\"\"\n",
    "Description: This function can be helpful to perform decoding in Python of JSON string.\n",
    "\n",
    "Arguments:\n",
    "    data: the data that we want decoding. \n",
    "    key: the key that we want to return its value.\n",
    "\n",
    "Returns:\n",
    "    list of values\n",
    "\"\"\"\n",
    "    result = []\n",
    "    data = json.loads(data) #convert to json from string\n",
    "    for item in data: #convert to list from json\n",
    "        result.append(item[key])\n",
    "    return result"
   ]
  },
  {
   "cell_type": "code",
   "execution_count": 28,
   "metadata": {
    "colab": {},
    "colab_type": "code",
    "id": "g-v_EtUEsD2S"
   },
   "outputs": [],
   "source": [
    "for column in ['genres', 'keywords', 'production_companies', 'production_countries', 'spoken_languages']:\n",
    "    movies[column] = movies[column].apply(json_decode,key='name')"
   ]
  },
  {
   "cell_type": "code",
   "execution_count": 0,
   "metadata": {
    "colab": {},
    "colab_type": "code",
    "id": "y6dZLovJsQBr"
   },
   "outputs": [],
   "source": [
    "movies.spoken_languages = movies.spoken_languages.apply(json_decode,key='name')"
   ]
  },
  {
   "cell_type": "code",
   "execution_count": 29,
   "metadata": {
    "colab": {
     "base_uri": "https://localhost:8080/",
     "height": 700
    },
    "colab_type": "code",
    "id": "I4EYb5aEsXft",
    "outputId": "5fa77cd3-1517-43fc-e761-ca81f84861da"
   },
   "outputs": [
    {
     "data": {
      "text/html": [
       "<div>\n",
       "<style scoped>\n",
       "    .dataframe tbody tr th:only-of-type {\n",
       "        vertical-align: middle;\n",
       "    }\n",
       "\n",
       "    .dataframe tbody tr th {\n",
       "        vertical-align: top;\n",
       "    }\n",
       "\n",
       "    .dataframe thead th {\n",
       "        text-align: right;\n",
       "    }\n",
       "</style>\n",
       "<table border=\"1\" class=\"dataframe\">\n",
       "  <thead>\n",
       "    <tr style=\"text-align: right;\">\n",
       "      <th></th>\n",
       "      <th>budget</th>\n",
       "      <th>genres</th>\n",
       "      <th>keywords</th>\n",
       "      <th>original_language</th>\n",
       "      <th>popularity</th>\n",
       "      <th>production_companies</th>\n",
       "      <th>production_countries</th>\n",
       "      <th>release_date</th>\n",
       "      <th>revenue</th>\n",
       "      <th>runtime</th>\n",
       "      <th>spoken_languages</th>\n",
       "      <th>status</th>\n",
       "      <th>title</th>\n",
       "      <th>vote_average</th>\n",
       "    </tr>\n",
       "  </thead>\n",
       "  <tbody>\n",
       "    <tr>\n",
       "      <th>0</th>\n",
       "      <td>237000000</td>\n",
       "      <td>[Action, Adventure, Fantasy, Science Fiction]</td>\n",
       "      <td>[culture clash, future, space war, space colon...</td>\n",
       "      <td>en</td>\n",
       "      <td>150.437577</td>\n",
       "      <td>[Ingenious Film Partners, Twentieth Century Fo...</td>\n",
       "      <td>[United States of America, United Kingdom]</td>\n",
       "      <td>2009-12-10</td>\n",
       "      <td>2787965087</td>\n",
       "      <td>162.0</td>\n",
       "      <td>[English, Español]</td>\n",
       "      <td>Released</td>\n",
       "      <td>Avatar</td>\n",
       "      <td>7.2</td>\n",
       "    </tr>\n",
       "    <tr>\n",
       "      <th>1</th>\n",
       "      <td>300000000</td>\n",
       "      <td>[Adventure, Fantasy, Action]</td>\n",
       "      <td>[ocean, drug abuse, exotic island, east india ...</td>\n",
       "      <td>en</td>\n",
       "      <td>139.082615</td>\n",
       "      <td>[Walt Disney Pictures, Jerry Bruckheimer Films...</td>\n",
       "      <td>[United States of America]</td>\n",
       "      <td>2007-05-19</td>\n",
       "      <td>961000000</td>\n",
       "      <td>169.0</td>\n",
       "      <td>[English]</td>\n",
       "      <td>Released</td>\n",
       "      <td>Pirates of the Caribbean: At World's End</td>\n",
       "      <td>6.9</td>\n",
       "    </tr>\n",
       "    <tr>\n",
       "      <th>2</th>\n",
       "      <td>245000000</td>\n",
       "      <td>[Action, Adventure, Crime]</td>\n",
       "      <td>[spy, based on novel, secret agent, sequel, mi...</td>\n",
       "      <td>en</td>\n",
       "      <td>107.376788</td>\n",
       "      <td>[Columbia Pictures, Danjaq, B24]</td>\n",
       "      <td>[United Kingdom, United States of America]</td>\n",
       "      <td>2015-10-26</td>\n",
       "      <td>880674609</td>\n",
       "      <td>148.0</td>\n",
       "      <td>[Français, English, Español, Italiano, Deutsch]</td>\n",
       "      <td>Released</td>\n",
       "      <td>Spectre</td>\n",
       "      <td>6.3</td>\n",
       "    </tr>\n",
       "    <tr>\n",
       "      <th>3</th>\n",
       "      <td>250000000</td>\n",
       "      <td>[Action, Crime, Drama, Thriller]</td>\n",
       "      <td>[dc comics, crime fighter, terrorist, secret i...</td>\n",
       "      <td>en</td>\n",
       "      <td>112.312950</td>\n",
       "      <td>[Legendary Pictures, Warner Bros., DC Entertai...</td>\n",
       "      <td>[United States of America]</td>\n",
       "      <td>2012-07-16</td>\n",
       "      <td>1084939099</td>\n",
       "      <td>165.0</td>\n",
       "      <td>[English]</td>\n",
       "      <td>Released</td>\n",
       "      <td>The Dark Knight Rises</td>\n",
       "      <td>7.6</td>\n",
       "    </tr>\n",
       "    <tr>\n",
       "      <th>4</th>\n",
       "      <td>260000000</td>\n",
       "      <td>[Action, Adventure, Science Fiction]</td>\n",
       "      <td>[based on novel, mars, medallion, space travel...</td>\n",
       "      <td>en</td>\n",
       "      <td>43.926995</td>\n",
       "      <td>[Walt Disney Pictures]</td>\n",
       "      <td>[United States of America]</td>\n",
       "      <td>2012-03-07</td>\n",
       "      <td>284139100</td>\n",
       "      <td>132.0</td>\n",
       "      <td>[English]</td>\n",
       "      <td>Released</td>\n",
       "      <td>John Carter</td>\n",
       "      <td>6.1</td>\n",
       "    </tr>\n",
       "  </tbody>\n",
       "</table>\n",
       "</div>"
      ],
      "text/plain": [
       "      budget                                         genres  \\\n",
       "0  237000000  [Action, Adventure, Fantasy, Science Fiction]   \n",
       "1  300000000                   [Adventure, Fantasy, Action]   \n",
       "2  245000000                     [Action, Adventure, Crime]   \n",
       "3  250000000               [Action, Crime, Drama, Thriller]   \n",
       "4  260000000           [Action, Adventure, Science Fiction]   \n",
       "\n",
       "                                            keywords original_language  \\\n",
       "0  [culture clash, future, space war, space colon...                en   \n",
       "1  [ocean, drug abuse, exotic island, east india ...                en   \n",
       "2  [spy, based on novel, secret agent, sequel, mi...                en   \n",
       "3  [dc comics, crime fighter, terrorist, secret i...                en   \n",
       "4  [based on novel, mars, medallion, space travel...                en   \n",
       "\n",
       "   popularity                               production_companies  \\\n",
       "0  150.437577  [Ingenious Film Partners, Twentieth Century Fo...   \n",
       "1  139.082615  [Walt Disney Pictures, Jerry Bruckheimer Films...   \n",
       "2  107.376788                   [Columbia Pictures, Danjaq, B24]   \n",
       "3  112.312950  [Legendary Pictures, Warner Bros., DC Entertai...   \n",
       "4   43.926995                             [Walt Disney Pictures]   \n",
       "\n",
       "                         production_countries release_date     revenue  \\\n",
       "0  [United States of America, United Kingdom]   2009-12-10  2787965087   \n",
       "1                  [United States of America]   2007-05-19   961000000   \n",
       "2  [United Kingdom, United States of America]   2015-10-26   880674609   \n",
       "3                  [United States of America]   2012-07-16  1084939099   \n",
       "4                  [United States of America]   2012-03-07   284139100   \n",
       "\n",
       "   runtime                                 spoken_languages    status  \\\n",
       "0    162.0                               [English, Español]  Released   \n",
       "1    169.0                                        [English]  Released   \n",
       "2    148.0  [Français, English, Español, Italiano, Deutsch]  Released   \n",
       "3    165.0                                        [English]  Released   \n",
       "4    132.0                                        [English]  Released   \n",
       "\n",
       "                                      title  vote_average  \n",
       "0                                    Avatar           7.2  \n",
       "1  Pirates of the Caribbean: At World's End           6.9  \n",
       "2                                   Spectre           6.3  \n",
       "3                     The Dark Knight Rises           7.6  \n",
       "4                               John Carter           6.1  "
      ]
     },
     "execution_count": 29,
     "metadata": {},
     "output_type": "execute_result"
    }
   ],
   "source": [
    "movies.head()"
   ]
  },
  {
   "cell_type": "code",
   "execution_count": 30,
   "metadata": {
    "colab": {
     "base_uri": "https://localhost:8080/",
     "height": 289
    },
    "colab_type": "code",
    "id": "C2zKnN3Rb5Ud",
    "outputId": "823acca9-baf9-45e5-c933-c0f1e4b3e868"
   },
   "outputs": [
    {
     "data": {
      "text/plain": [
       "budget                    int64\n",
       "genres                   object\n",
       "keywords                 object\n",
       "original_language        object\n",
       "popularity              float64\n",
       "production_companies     object\n",
       "production_countries     object\n",
       "release_date             object\n",
       "revenue                   int64\n",
       "runtime                 float64\n",
       "spoken_languages         object\n",
       "status                   object\n",
       "title                    object\n",
       "vote_average            float64\n",
       "dtype: object"
      ]
     },
     "execution_count": 30,
     "metadata": {},
     "output_type": "execute_result"
    }
   ],
   "source": [
    "movies.dtypes"
   ]
  },
  {
   "cell_type": "code",
   "execution_count": 31,
   "metadata": {
    "colab": {
     "base_uri": "https://localhost:8080/",
     "height": 85
    },
    "colab_type": "code",
    "id": "TY9YYjBfOgeL",
    "outputId": "0cc8a89f-85fa-4dd8-d13c-326b35c8e090"
   },
   "outputs": [
    {
     "data": {
      "text/plain": [
       "object     9\n",
       "float64    3\n",
       "int64      2\n",
       "dtype: int64"
      ]
     },
     "execution_count": 31,
     "metadata": {},
     "output_type": "execute_result"
    }
   ],
   "source": [
    "movies.dtypes.value_counts()"
   ]
  },
  {
   "cell_type": "markdown",
   "metadata": {
    "colab_type": "text",
    "id": "mkOlo_9POvgG"
   },
   "source": [
    "O dataset possui variáveis categóricas(8) e numéricas(5), das quais uma é a target"
   ]
  },
  {
   "cell_type": "code",
   "execution_count": 32,
   "metadata": {
    "colab": {
     "base_uri": "https://localhost:8080/",
     "height": 297
    },
    "colab_type": "code",
    "id": "QEx94g1PO9_e",
    "outputId": "e6e4cb07-6959-47f6-c35b-04c7fe08aa64"
   },
   "outputs": [
    {
     "data": {
      "text/html": [
       "<div>\n",
       "<style scoped>\n",
       "    .dataframe tbody tr th:only-of-type {\n",
       "        vertical-align: middle;\n",
       "    }\n",
       "\n",
       "    .dataframe tbody tr th {\n",
       "        vertical-align: top;\n",
       "    }\n",
       "\n",
       "    .dataframe thead th {\n",
       "        text-align: right;\n",
       "    }\n",
       "</style>\n",
       "<table border=\"1\" class=\"dataframe\">\n",
       "  <thead>\n",
       "    <tr style=\"text-align: right;\">\n",
       "      <th></th>\n",
       "      <th>budget</th>\n",
       "      <th>popularity</th>\n",
       "      <th>revenue</th>\n",
       "      <th>runtime</th>\n",
       "      <th>vote_average</th>\n",
       "    </tr>\n",
       "  </thead>\n",
       "  <tbody>\n",
       "    <tr>\n",
       "      <th>count</th>\n",
       "      <td>4.803000e+03</td>\n",
       "      <td>4803.000000</td>\n",
       "      <td>4.803000e+03</td>\n",
       "      <td>4801.000000</td>\n",
       "      <td>4803.000000</td>\n",
       "    </tr>\n",
       "    <tr>\n",
       "      <th>mean</th>\n",
       "      <td>2.904504e+07</td>\n",
       "      <td>21.492301</td>\n",
       "      <td>8.226064e+07</td>\n",
       "      <td>106.875859</td>\n",
       "      <td>6.092172</td>\n",
       "    </tr>\n",
       "    <tr>\n",
       "      <th>std</th>\n",
       "      <td>4.072239e+07</td>\n",
       "      <td>31.816650</td>\n",
       "      <td>1.628571e+08</td>\n",
       "      <td>22.611935</td>\n",
       "      <td>1.194612</td>\n",
       "    </tr>\n",
       "    <tr>\n",
       "      <th>min</th>\n",
       "      <td>0.000000e+00</td>\n",
       "      <td>0.000000</td>\n",
       "      <td>0.000000e+00</td>\n",
       "      <td>0.000000</td>\n",
       "      <td>0.000000</td>\n",
       "    </tr>\n",
       "    <tr>\n",
       "      <th>25%</th>\n",
       "      <td>7.900000e+05</td>\n",
       "      <td>4.668070</td>\n",
       "      <td>0.000000e+00</td>\n",
       "      <td>94.000000</td>\n",
       "      <td>5.600000</td>\n",
       "    </tr>\n",
       "    <tr>\n",
       "      <th>50%</th>\n",
       "      <td>1.500000e+07</td>\n",
       "      <td>12.921594</td>\n",
       "      <td>1.917000e+07</td>\n",
       "      <td>103.000000</td>\n",
       "      <td>6.200000</td>\n",
       "    </tr>\n",
       "    <tr>\n",
       "      <th>75%</th>\n",
       "      <td>4.000000e+07</td>\n",
       "      <td>28.313505</td>\n",
       "      <td>9.291719e+07</td>\n",
       "      <td>118.000000</td>\n",
       "      <td>6.800000</td>\n",
       "    </tr>\n",
       "    <tr>\n",
       "      <th>max</th>\n",
       "      <td>3.800000e+08</td>\n",
       "      <td>875.581305</td>\n",
       "      <td>2.787965e+09</td>\n",
       "      <td>338.000000</td>\n",
       "      <td>10.000000</td>\n",
       "    </tr>\n",
       "  </tbody>\n",
       "</table>\n",
       "</div>"
      ],
      "text/plain": [
       "             budget   popularity       revenue      runtime  vote_average\n",
       "count  4.803000e+03  4803.000000  4.803000e+03  4801.000000   4803.000000\n",
       "mean   2.904504e+07    21.492301  8.226064e+07   106.875859      6.092172\n",
       "std    4.072239e+07    31.816650  1.628571e+08    22.611935      1.194612\n",
       "min    0.000000e+00     0.000000  0.000000e+00     0.000000      0.000000\n",
       "25%    7.900000e+05     4.668070  0.000000e+00    94.000000      5.600000\n",
       "50%    1.500000e+07    12.921594  1.917000e+07   103.000000      6.200000\n",
       "75%    4.000000e+07    28.313505  9.291719e+07   118.000000      6.800000\n",
       "max    3.800000e+08   875.581305  2.787965e+09   338.000000     10.000000"
      ]
     },
     "execution_count": 32,
     "metadata": {},
     "output_type": "execute_result"
    }
   ],
   "source": [
    "#estatistca para variáveis numéricas\n",
    "movies.describe()"
   ]
  },
  {
   "cell_type": "markdown",
   "metadata": {
    "colab_type": "text",
    "id": "UimKbKPtP3ag"
   },
   "source": [
    "Pelo describe verificamos algo estranho para as variáveis budget, revenue e runtime que possuem como valores minimos 0. O percentil de 25 para a variável revenue é 0! Isto parece não fazer muito sentido. "
   ]
  },
  {
   "cell_type": "code",
   "execution_count": 33,
   "metadata": {
    "colab": {},
    "colab_type": "code",
    "id": "iu8NKRbMklow"
   },
   "outputs": [
    {
     "data": {
      "text/plain": [
       "21.590672496356444"
      ]
     },
     "execution_count": 33,
     "metadata": {},
     "output_type": "execute_result"
    }
   ],
   "source": [
    "#filtrar budget == 0 \n",
    "\n",
    "movies_budget_zero = movies[movies['budget'] == 0]\n",
    "\n",
    "movies_budget_zero.shape[0]/movies.shape[0]*100"
   ]
  },
  {
   "cell_type": "markdown",
   "metadata": {
    "colab_type": "text",
    "id": "urmKf0S_UywU"
   },
   "source": [
    "21,6 % das observações têm valor 0 para a variável budget."
   ]
  },
  {
   "cell_type": "code",
   "execution_count": 34,
   "metadata": {
    "colab": {
     "base_uri": "https://localhost:8080/",
     "height": 445
    },
    "colab_type": "code",
    "id": "XVGhhNpsRnPA",
    "outputId": "57e1032b-783a-40ea-9d32-aafbfebef20a"
   },
   "outputs": [
    {
     "data": {
      "text/html": [
       "<div>\n",
       "<style scoped>\n",
       "    .dataframe tbody tr th:only-of-type {\n",
       "        vertical-align: middle;\n",
       "    }\n",
       "\n",
       "    .dataframe tbody tr th {\n",
       "        vertical-align: top;\n",
       "    }\n",
       "\n",
       "    .dataframe thead th {\n",
       "        text-align: right;\n",
       "    }\n",
       "</style>\n",
       "<table border=\"1\" class=\"dataframe\">\n",
       "  <thead>\n",
       "    <tr style=\"text-align: right;\">\n",
       "      <th></th>\n",
       "      <th>budget</th>\n",
       "      <th>genres</th>\n",
       "      <th>keywords</th>\n",
       "      <th>original_language</th>\n",
       "      <th>popularity</th>\n",
       "      <th>production_companies</th>\n",
       "      <th>production_countries</th>\n",
       "      <th>release_date</th>\n",
       "      <th>revenue</th>\n",
       "      <th>runtime</th>\n",
       "      <th>spoken_languages</th>\n",
       "      <th>status</th>\n",
       "      <th>title</th>\n",
       "      <th>vote_average</th>\n",
       "    </tr>\n",
       "  </thead>\n",
       "  <tbody>\n",
       "    <tr>\n",
       "      <th>265</th>\n",
       "      <td>0</td>\n",
       "      <td>[Comedy, Fantasy, Family]</td>\n",
       "      <td>[cat, brother sister relationship, boredom, ch...</td>\n",
       "      <td>en</td>\n",
       "      <td>18.251129</td>\n",
       "      <td>[Imagine Entertainment, DreamWorks SKG, Univer...</td>\n",
       "      <td>[United States of America]</td>\n",
       "      <td>2003-11-21</td>\n",
       "      <td>0</td>\n",
       "      <td>82.0</td>\n",
       "      <td>[English]</td>\n",
       "      <td>Released</td>\n",
       "      <td>The Cat in the Hat</td>\n",
       "      <td>4.9</td>\n",
       "    </tr>\n",
       "    <tr>\n",
       "      <th>321</th>\n",
       "      <td>0</td>\n",
       "      <td>[Comedy]</td>\n",
       "      <td>[politics, politician, election campaign,  nor...</td>\n",
       "      <td>en</td>\n",
       "      <td>16.460356</td>\n",
       "      <td>[Everyman Pictures, Gary Sanchez Productions, ...</td>\n",
       "      <td>[United States of America]</td>\n",
       "      <td>2012-08-09</td>\n",
       "      <td>104907746</td>\n",
       "      <td>85.0</td>\n",
       "      <td>[English]</td>\n",
       "      <td>Released</td>\n",
       "      <td>The Campaign</td>\n",
       "      <td>5.6</td>\n",
       "    </tr>\n",
       "    <tr>\n",
       "      <th>359</th>\n",
       "      <td>0</td>\n",
       "      <td>[Adventure, Animation, Comedy, Family]</td>\n",
       "      <td>[chipmunk, cgi, talking animal, aftercreditsst...</td>\n",
       "      <td>en</td>\n",
       "      <td>27.867368</td>\n",
       "      <td>[Regency Enterprises, Fox 2000 Pictures, Sunsw...</td>\n",
       "      <td>[United States of America]</td>\n",
       "      <td>2015-12-17</td>\n",
       "      <td>233755553</td>\n",
       "      <td>92.0</td>\n",
       "      <td>[English]</td>\n",
       "      <td>Released</td>\n",
       "      <td>Alvin and the Chipmunks: The Road Chip</td>\n",
       "      <td>5.8</td>\n",
       "    </tr>\n",
       "    <tr>\n",
       "      <th>406</th>\n",
       "      <td>0</td>\n",
       "      <td>[Drama, Animation, Family, Comedy]</td>\n",
       "      <td>[holiday, santa claus, duringcreditsstinger, w...</td>\n",
       "      <td>en</td>\n",
       "      <td>19.836830</td>\n",
       "      <td>[Columbia Pictures, Aardman Animations, Sony P...</td>\n",
       "      <td>[United States of America]</td>\n",
       "      <td>2011-02-22</td>\n",
       "      <td>0</td>\n",
       "      <td>97.0</td>\n",
       "      <td>[English]</td>\n",
       "      <td>Released</td>\n",
       "      <td>Arthur Christmas</td>\n",
       "      <td>6.7</td>\n",
       "    </tr>\n",
       "    <tr>\n",
       "      <th>409</th>\n",
       "      <td>0</td>\n",
       "      <td>[Drama, Music]</td>\n",
       "      <td>[show business, film making, tap dancing, movi...</td>\n",
       "      <td>en</td>\n",
       "      <td>5.159407</td>\n",
       "      <td>[Twentieth Century Fox Film Corporation, Colum...</td>\n",
       "      <td>[United States of America]</td>\n",
       "      <td>1979-12-20</td>\n",
       "      <td>37823676</td>\n",
       "      <td>123.0</td>\n",
       "      <td>[English]</td>\n",
       "      <td>Released</td>\n",
       "      <td>All That Jazz</td>\n",
       "      <td>7.3</td>\n",
       "    </tr>\n",
       "  </tbody>\n",
       "</table>\n",
       "</div>"
      ],
      "text/plain": [
       "     budget                                  genres  \\\n",
       "265       0               [Comedy, Fantasy, Family]   \n",
       "321       0                                [Comedy]   \n",
       "359       0  [Adventure, Animation, Comedy, Family]   \n",
       "406       0      [Drama, Animation, Family, Comedy]   \n",
       "409       0                          [Drama, Music]   \n",
       "\n",
       "                                              keywords original_language  \\\n",
       "265  [cat, brother sister relationship, boredom, ch...                en   \n",
       "321  [politics, politician, election campaign,  nor...                en   \n",
       "359  [chipmunk, cgi, talking animal, aftercreditsst...                en   \n",
       "406  [holiday, santa claus, duringcreditsstinger, w...                en   \n",
       "409  [show business, film making, tap dancing, movi...                en   \n",
       "\n",
       "     popularity                               production_companies  \\\n",
       "265   18.251129  [Imagine Entertainment, DreamWorks SKG, Univer...   \n",
       "321   16.460356  [Everyman Pictures, Gary Sanchez Productions, ...   \n",
       "359   27.867368  [Regency Enterprises, Fox 2000 Pictures, Sunsw...   \n",
       "406   19.836830  [Columbia Pictures, Aardman Animations, Sony P...   \n",
       "409    5.159407  [Twentieth Century Fox Film Corporation, Colum...   \n",
       "\n",
       "           production_countries release_date    revenue  runtime  \\\n",
       "265  [United States of America]   2003-11-21          0     82.0   \n",
       "321  [United States of America]   2012-08-09  104907746     85.0   \n",
       "359  [United States of America]   2015-12-17  233755553     92.0   \n",
       "406  [United States of America]   2011-02-22          0     97.0   \n",
       "409  [United States of America]   1979-12-20   37823676    123.0   \n",
       "\n",
       "    spoken_languages    status                                   title  \\\n",
       "265        [English]  Released                      The Cat in the Hat   \n",
       "321        [English]  Released                            The Campaign   \n",
       "359        [English]  Released  Alvin and the Chipmunks: The Road Chip   \n",
       "406        [English]  Released                        Arthur Christmas   \n",
       "409        [English]  Released                           All That Jazz   \n",
       "\n",
       "     vote_average  \n",
       "265           4.9  \n",
       "321           5.6  \n",
       "359           5.8  \n",
       "406           6.7  \n",
       "409           7.3  "
      ]
     },
     "execution_count": 34,
     "metadata": {},
     "output_type": "execute_result"
    }
   ],
   "source": [
    "movies_budget_zero.head()"
   ]
  },
  {
   "cell_type": "markdown",
   "metadata": {
    "colab_type": "text",
    "id": "YdkZH1mcTT3O"
   },
   "source": [
    "Através de pesquisas no google verificámos que, por exemplo, o filme \"The Cat in the Hat\" teve um budget de 109 milhões de dolares e o \"All That Jazz\" 12 millhões. Concluímos assim que os 0 para a feature budget foram erros de registo. \n",
    "\n",
    "Surge aqui um dilema na hora de manter ou eliminar estas observações. São muitas observações e eliminá-las pode levar a um modelo menos robusto. Por outro lado mantê-las vai enviezar os resultados. \n",
    "A opção mais correta seria tentar o seu preenchimento. Poderiamos ir consultar outras fontes de dados, ou fazer web scraping de forma a encontrar o budget para estes casos e depois completar estes registos. Por falta de tempo, e uma vez que o principal objetivo deste projeto é a aplicação do modelo final vamos optar por eliminar estas observações."
   ]
  },
  {
   "cell_type": "code",
   "execution_count": 35,
   "metadata": {
    "colab": {},
    "colab_type": "code",
    "id": "tQThECHNWk1t"
   },
   "outputs": [],
   "source": [
    "#filtrar revenue == 0 \n",
    "\n",
    "movies_revenue_zero = movies[movies['revenue'] == 0]"
   ]
  },
  {
   "cell_type": "code",
   "execution_count": 36,
   "metadata": {
    "colab": {
     "base_uri": "https://localhost:8080/",
     "height": 34
    },
    "colab_type": "code",
    "id": "fce2GblhW7Q3",
    "outputId": "19461cfd-2d23-44c3-e475-7e48e62bee48"
   },
   "outputs": [
    {
     "data": {
      "text/plain": [
       "29.710597543202166"
      ]
     },
     "execution_count": 36,
     "metadata": {},
     "output_type": "execute_result"
    }
   ],
   "source": [
    "movies_revenue_zero.shape[0]/movies.shape[0]*100"
   ]
  },
  {
   "cell_type": "code",
   "execution_count": 37,
   "metadata": {
    "colab": {
     "base_uri": "https://localhost:8080/",
     "height": 530
    },
    "colab_type": "code",
    "id": "p-hBXIHjXAd_",
    "outputId": "6a609bb5-621a-4f81-96b2-0f3131cc7bfc"
   },
   "outputs": [
    {
     "data": {
      "text/html": [
       "<div>\n",
       "<style scoped>\n",
       "    .dataframe tbody tr th:only-of-type {\n",
       "        vertical-align: middle;\n",
       "    }\n",
       "\n",
       "    .dataframe tbody tr th {\n",
       "        vertical-align: top;\n",
       "    }\n",
       "\n",
       "    .dataframe thead th {\n",
       "        text-align: right;\n",
       "    }\n",
       "</style>\n",
       "<table border=\"1\" class=\"dataframe\">\n",
       "  <thead>\n",
       "    <tr style=\"text-align: right;\">\n",
       "      <th></th>\n",
       "      <th>budget</th>\n",
       "      <th>genres</th>\n",
       "      <th>keywords</th>\n",
       "      <th>original_language</th>\n",
       "      <th>popularity</th>\n",
       "      <th>production_companies</th>\n",
       "      <th>production_countries</th>\n",
       "      <th>release_date</th>\n",
       "      <th>revenue</th>\n",
       "      <th>runtime</th>\n",
       "      <th>spoken_languages</th>\n",
       "      <th>status</th>\n",
       "      <th>title</th>\n",
       "      <th>vote_average</th>\n",
       "    </tr>\n",
       "  </thead>\n",
       "  <tbody>\n",
       "    <tr>\n",
       "      <th>83</th>\n",
       "      <td>27000000</td>\n",
       "      <td>[Action, Adventure, Science Fiction, Romance]</td>\n",
       "      <td>[]</td>\n",
       "      <td>en</td>\n",
       "      <td>2.418535</td>\n",
       "      <td>[Corsan, Bliss Media, Limelight International ...</td>\n",
       "      <td>[Australia, Belgium, India]</td>\n",
       "      <td>2015-02-13</td>\n",
       "      <td>0</td>\n",
       "      <td>109.0</td>\n",
       "      <td>[English]</td>\n",
       "      <td>Released</td>\n",
       "      <td>The Lovers</td>\n",
       "      <td>4.8</td>\n",
       "    </tr>\n",
       "    <tr>\n",
       "      <th>135</th>\n",
       "      <td>150000000</td>\n",
       "      <td>[Drama, Horror, Thriller]</td>\n",
       "      <td>[father son relationship, victorian england, r...</td>\n",
       "      <td>en</td>\n",
       "      <td>21.214571</td>\n",
       "      <td>[Universal Pictures, Stuber Productions, Relat...</td>\n",
       "      <td>[United States of America]</td>\n",
       "      <td>2010-02-11</td>\n",
       "      <td>0</td>\n",
       "      <td>102.0</td>\n",
       "      <td>[English]</td>\n",
       "      <td>Released</td>\n",
       "      <td>The Wolfman</td>\n",
       "      <td>5.5</td>\n",
       "    </tr>\n",
       "    <tr>\n",
       "      <th>265</th>\n",
       "      <td>0</td>\n",
       "      <td>[Comedy, Fantasy, Family]</td>\n",
       "      <td>[cat, brother sister relationship, boredom, ch...</td>\n",
       "      <td>en</td>\n",
       "      <td>18.251129</td>\n",
       "      <td>[Imagine Entertainment, DreamWorks SKG, Univer...</td>\n",
       "      <td>[United States of America]</td>\n",
       "      <td>2003-11-21</td>\n",
       "      <td>0</td>\n",
       "      <td>82.0</td>\n",
       "      <td>[English]</td>\n",
       "      <td>Released</td>\n",
       "      <td>The Cat in the Hat</td>\n",
       "      <td>4.9</td>\n",
       "    </tr>\n",
       "    <tr>\n",
       "      <th>309</th>\n",
       "      <td>84000000</td>\n",
       "      <td>[Fantasy, Comedy, Family, Adventure]</td>\n",
       "      <td>[baby, mask, viking]</td>\n",
       "      <td>en</td>\n",
       "      <td>17.815595</td>\n",
       "      <td>[New Line Cinema, Pathé Distribution]</td>\n",
       "      <td>[Germany, United States of America]</td>\n",
       "      <td>2005-02-18</td>\n",
       "      <td>0</td>\n",
       "      <td>94.0</td>\n",
       "      <td>[English]</td>\n",
       "      <td>Released</td>\n",
       "      <td>Son of the Mask</td>\n",
       "      <td>3.6</td>\n",
       "    </tr>\n",
       "    <tr>\n",
       "      <th>376</th>\n",
       "      <td>90000000</td>\n",
       "      <td>[Science Fiction, Action, Drama, Thriller]</td>\n",
       "      <td>[subway, lava, volcano, volcanologist, los ang...</td>\n",
       "      <td>en</td>\n",
       "      <td>19.836124</td>\n",
       "      <td>[Twentieth Century Fox Film Corporation]</td>\n",
       "      <td>[United States of America]</td>\n",
       "      <td>1997-04-25</td>\n",
       "      <td>0</td>\n",
       "      <td>104.0</td>\n",
       "      <td>[Deutsch, Español, English]</td>\n",
       "      <td>Released</td>\n",
       "      <td>Volcano</td>\n",
       "      <td>5.2</td>\n",
       "    </tr>\n",
       "  </tbody>\n",
       "</table>\n",
       "</div>"
      ],
      "text/plain": [
       "        budget                                         genres  \\\n",
       "83    27000000  [Action, Adventure, Science Fiction, Romance]   \n",
       "135  150000000                      [Drama, Horror, Thriller]   \n",
       "265          0                      [Comedy, Fantasy, Family]   \n",
       "309   84000000           [Fantasy, Comedy, Family, Adventure]   \n",
       "376   90000000     [Science Fiction, Action, Drama, Thriller]   \n",
       "\n",
       "                                              keywords original_language  \\\n",
       "83                                                  []                en   \n",
       "135  [father son relationship, victorian england, r...                en   \n",
       "265  [cat, brother sister relationship, boredom, ch...                en   \n",
       "309                               [baby, mask, viking]                en   \n",
       "376  [subway, lava, volcano, volcanologist, los ang...                en   \n",
       "\n",
       "     popularity                               production_companies  \\\n",
       "83     2.418535  [Corsan, Bliss Media, Limelight International ...   \n",
       "135   21.214571  [Universal Pictures, Stuber Productions, Relat...   \n",
       "265   18.251129  [Imagine Entertainment, DreamWorks SKG, Univer...   \n",
       "309   17.815595              [New Line Cinema, Pathé Distribution]   \n",
       "376   19.836124           [Twentieth Century Fox Film Corporation]   \n",
       "\n",
       "                    production_countries release_date  revenue  runtime  \\\n",
       "83           [Australia, Belgium, India]   2015-02-13        0    109.0   \n",
       "135           [United States of America]   2010-02-11        0    102.0   \n",
       "265           [United States of America]   2003-11-21        0     82.0   \n",
       "309  [Germany, United States of America]   2005-02-18        0     94.0   \n",
       "376           [United States of America]   1997-04-25        0    104.0   \n",
       "\n",
       "                spoken_languages    status               title  vote_average  \n",
       "83                     [English]  Released          The Lovers           4.8  \n",
       "135                    [English]  Released         The Wolfman           5.5  \n",
       "265                    [English]  Released  The Cat in the Hat           4.9  \n",
       "309                    [English]  Released     Son of the Mask           3.6  \n",
       "376  [Deutsch, Español, English]  Released             Volcano           5.2  "
      ]
     },
     "execution_count": 37,
     "metadata": {},
     "output_type": "execute_result"
    }
   ],
   "source": [
    "movies_revenue_zero.head()"
   ]
  },
  {
   "cell_type": "markdown",
   "metadata": {
    "colab_type": "text",
    "id": "_J-JPA3uXs6M"
   },
   "source": [
    "Vamos seguir o mesmo critério que seguimos para o \"budget\""
   ]
  },
  {
   "cell_type": "code",
   "execution_count": 38,
   "metadata": {
    "colab": {},
    "colab_type": "code",
    "id": "vboLXAHrX3AX"
   },
   "outputs": [],
   "source": [
    "#filtrar runtime == 0 \n",
    "\n",
    "movies_runtime_zero = movies[movies['runtime'] == 0]"
   ]
  },
  {
   "cell_type": "code",
   "execution_count": 39,
   "metadata": {
    "colab": {
     "base_uri": "https://localhost:8080/",
     "height": 34
    },
    "colab_type": "code",
    "id": "VscO-ltQX_1i",
    "outputId": "f38fb12c-ac19-48de-a346-edf9c5a81b64"
   },
   "outputs": [
    {
     "data": {
      "text/plain": [
       "0.7287112221528211"
      ]
     },
     "execution_count": 39,
     "metadata": {},
     "output_type": "execute_result"
    }
   ],
   "source": [
    "movies_runtime_zero.shape[0]/movies.shape[0]*100"
   ]
  },
  {
   "cell_type": "markdown",
   "metadata": {
    "colab_type": "text",
    "id": "JmNhooqvYxEj"
   },
   "source": [
    "aqui já são apenas 0,73% das observações. Vamos proceder primeiro à eliminação das observações que se encontram a 0 para o budget e para o Revenue e depois caso se mantenham estes casos vamos analisar outra vez. "
   ]
  },
  {
   "cell_type": "code",
   "execution_count": 40,
   "metadata": {
    "colab": {},
    "colab_type": "code",
    "id": "cdpMtvBCY6H_"
   },
   "outputs": [],
   "source": [
    "# drop budget == 0 \n",
    "movies = movies[movies.budget != 0]"
   ]
  },
  {
   "cell_type": "code",
   "execution_count": 41,
   "metadata": {
    "colab": {
     "base_uri": "https://localhost:8080/",
     "height": 34
    },
    "colab_type": "code",
    "id": "gsbWO5X0ZrAl",
    "outputId": "5d2a3479-090d-48c4-c74d-dcbbc52c1638"
   },
   "outputs": [
    {
     "data": {
      "text/plain": [
       "(0, 14)"
      ]
     },
     "execution_count": 41,
     "metadata": {},
     "output_type": "execute_result"
    }
   ],
   "source": [
    "movies[movies['budget'] == 0].shape"
   ]
  },
  {
   "cell_type": "code",
   "execution_count": 42,
   "metadata": {
    "colab": {},
    "colab_type": "code",
    "id": "7jXeSGFWaHyf"
   },
   "outputs": [],
   "source": [
    "# drop revenue == 0 \n",
    "movies = movies[movies.revenue != 0]"
   ]
  },
  {
   "cell_type": "code",
   "execution_count": 43,
   "metadata": {
    "colab": {
     "base_uri": "https://localhost:8080/",
     "height": 34
    },
    "colab_type": "code",
    "id": "I1yxf3K2aNVZ",
    "outputId": "795b9dcc-de7c-48e5-80e3-13b4b0b93647"
   },
   "outputs": [
    {
     "data": {
      "text/plain": [
       "(0, 14)"
      ]
     },
     "execution_count": 43,
     "metadata": {},
     "output_type": "execute_result"
    }
   ],
   "source": [
    "movies[movies['revenue'] == 0].shape"
   ]
  },
  {
   "cell_type": "code",
   "execution_count": 44,
   "metadata": {
    "colab": {
     "base_uri": "https://localhost:8080/",
     "height": 34
    },
    "colab_type": "code",
    "id": "M2eU5D7oaRYn",
    "outputId": "fdbf6084-0436-49cf-889f-7f9aa48672d2"
   },
   "outputs": [
    {
     "data": {
      "text/plain": [
       "(3229, 14)"
      ]
     },
     "execution_count": 44,
     "metadata": {},
     "output_type": "execute_result"
    }
   ],
   "source": [
    "movies.shape"
   ]
  },
  {
   "cell_type": "markdown",
   "metadata": {
    "colab_type": "text",
    "id": "rXOifpx-aYes"
   },
   "source": [
    "Temos agora um dataser com 3229 observações. \n",
    "Vamos ver se ainda existem observações com runtime == 0 "
   ]
  },
  {
   "cell_type": "code",
   "execution_count": 45,
   "metadata": {
    "colab": {
     "base_uri": "https://localhost:8080/",
     "height": 34
    },
    "colab_type": "code",
    "id": "MHGur4tzajdP",
    "outputId": "9d00cbf5-7817-455a-e2c9-24075e1e3924"
   },
   "outputs": [
    {
     "data": {
      "text/plain": [
       "41.0"
      ]
     },
     "execution_count": 45,
     "metadata": {},
     "output_type": "execute_result"
    }
   ],
   "source": [
    "movies.runtime.min()"
   ]
  },
  {
   "cell_type": "markdown",
   "metadata": {
    "colab_type": "text",
    "id": "dV35SkGla39M"
   },
   "source": [
    "Já não existem !"
   ]
  },
  {
   "cell_type": "markdown",
   "metadata": {
    "colab_type": "text",
    "id": "fJhlRgdSbHWT"
   },
   "source": [
    "Vamos agora ver se existem missing values. "
   ]
  },
  {
   "cell_type": "code",
   "execution_count": 46,
   "metadata": {
    "colab": {
     "base_uri": "https://localhost:8080/",
     "height": 289
    },
    "colab_type": "code",
    "id": "tTi0sdpHbMMR",
    "outputId": "734eac50-5490-4ea2-a981-830e7f58461f"
   },
   "outputs": [
    {
     "data": {
      "text/plain": [
       "budget                  0\n",
       "genres                  0\n",
       "keywords                0\n",
       "original_language       0\n",
       "popularity              0\n",
       "production_companies    0\n",
       "production_countries    0\n",
       "release_date            0\n",
       "revenue                 0\n",
       "runtime                 0\n",
       "spoken_languages        0\n",
       "status                  0\n",
       "title                   0\n",
       "vote_average            0\n",
       "dtype: int64"
      ]
     },
     "execution_count": 46,
     "metadata": {},
     "output_type": "execute_result"
    }
   ],
   "source": [
    "movies.isnull().sum()"
   ]
  },
  {
   "cell_type": "code",
   "execution_count": 47,
   "metadata": {
    "colab": {
     "base_uri": "https://localhost:8080/",
     "height": 407
    },
    "colab_type": "code",
    "id": "FH3XEDTvdG-r",
    "outputId": "f06f8ab0-f1d4-40f0-b9c6-f6154101f969"
   },
   "outputs": [
    {
     "data": {
      "image/png": "[encoded data removed]",
      "text/plain": [
       "<Figure size 432x432 with 2 Axes>"
      ]
     },
     "metadata": {},
     "output_type": "display_data"
    }
   ],
   "source": [
    "#correlação variáveis numéricas\n",
    "#\n",
    "\n",
    "fig = plt.figure(figsize = (6,6),facecolor=\"white\")\n",
    "\n",
    "sns.heatmap(movies.corr(), annot = True, cmap = 'YlGnBu', square= True)\n",
    "\n",
    "plt.show()"
   ]
  },
  {
   "cell_type": "markdown",
   "metadata": {
    "colab_type": "text",
    "id": "3N0VqaCXeaj_"
   },
   "source": [
    "#### Existem variáveis que não são independentes entre si??\n",
    "\n",
    "```\n",
    "Pelo heatmap verificamos que existem alguma correlações consideráveis, principalmente nos casos: \n",
    "\n",
    "1.   revenue vs budget\n",
    "2.   revenue vs popularity\n",
    "\n",
    "Por outro lado as variáveis vote_average e budget têm uma correlação quase insignificante e por isso pode dizer-se que são independentes. \n",
    "\n",
    "\n",
    "\n",
    "\n",
    "```\n"
   ]
  },
  {
   "cell_type": "markdown",
   "metadata": {
    "colab_type": "text",
    "id": "l8Q7-amVgHKp"
   },
   "source": [
    "## Variáveis Categóricas"
   ]
  },
  {
   "cell_type": "code",
   "execution_count": 57,
   "metadata": {
    "colab": {
     "base_uri": "https://localhost:8080/",
     "height": 289
    },
    "colab_type": "code",
    "id": "jzHol1uBiNRe",
    "outputId": "5a859b95-1fa5-42b0-bf37-216b54646757"
   },
   "outputs": [
    {
     "data": {
      "text/plain": [
       "budget                    int64\n",
       "genres                   object\n",
       "keywords                 object\n",
       "original_language        object\n",
       "popularity              float64\n",
       "production_companies     object\n",
       "production_countries     object\n",
       "revenue                   int64\n",
       "runtime                 float64\n",
       "spoken_languages         object\n",
       "title                    object\n",
       "vote_average            float64\n",
       "year                      int64\n",
       "month                     int64\n",
       "dtype: object"
      ]
     },
     "execution_count": 57,
     "metadata": {},
     "output_type": "execute_result"
    }
   ],
   "source": [
    "movies.dtypes"
   ]
  },
  {
   "cell_type": "code",
   "execution_count": 58,
   "metadata": {
    "colab": {
     "base_uri": "https://localhost:8080/",
     "height": 335
    },
    "colab_type": "code",
    "id": "y6EWbpHvgJ3P",
    "outputId": "e82a5a71-829d-4a18-94c4-d8b8a43d470d"
   },
   "outputs": [
    {
     "data": {
      "text/html": [
       "<div>\n",
       "<style scoped>\n",
       "    .dataframe tbody tr th:only-of-type {\n",
       "        vertical-align: middle;\n",
       "    }\n",
       "\n",
       "    .dataframe tbody tr th {\n",
       "        vertical-align: top;\n",
       "    }\n",
       "\n",
       "    .dataframe thead th {\n",
       "        text-align: right;\n",
       "    }\n",
       "</style>\n",
       "<table border=\"1\" class=\"dataframe\">\n",
       "  <thead>\n",
       "    <tr style=\"text-align: right;\">\n",
       "      <th></th>\n",
       "      <th>genres</th>\n",
       "      <th>keywords</th>\n",
       "      <th>original_language</th>\n",
       "      <th>production_companies</th>\n",
       "      <th>production_countries</th>\n",
       "      <th>spoken_languages</th>\n",
       "      <th>title</th>\n",
       "    </tr>\n",
       "  </thead>\n",
       "  <tbody>\n",
       "    <tr>\n",
       "      <th>0</th>\n",
       "      <td>[Action, Adventure, Fantasy, Science Fiction]</td>\n",
       "      <td>[culture clash, future, space war, space colon...</td>\n",
       "      <td>en</td>\n",
       "      <td>[Ingenious Film Partners, Twentieth Century Fo...</td>\n",
       "      <td>[United States of America, United Kingdom]</td>\n",
       "      <td>[English, Español]</td>\n",
       "      <td>Avatar</td>\n",
       "    </tr>\n",
       "    <tr>\n",
       "      <th>1</th>\n",
       "      <td>[Adventure, Fantasy, Action]</td>\n",
       "      <td>[ocean, drug abuse, exotic island, east india ...</td>\n",
       "      <td>en</td>\n",
       "      <td>[Walt Disney Pictures, Jerry Bruckheimer Films...</td>\n",
       "      <td>[United States of America]</td>\n",
       "      <td>[English]</td>\n",
       "      <td>Pirates of the Caribbean: At World's End</td>\n",
       "    </tr>\n",
       "  </tbody>\n",
       "</table>\n",
       "</div>"
      ],
      "text/plain": [
       "                                          genres  \\\n",
       "0  [Action, Adventure, Fantasy, Science Fiction]   \n",
       "1                   [Adventure, Fantasy, Action]   \n",
       "\n",
       "                                            keywords original_language  \\\n",
       "0  [culture clash, future, space war, space colon...                en   \n",
       "1  [ocean, drug abuse, exotic island, east india ...                en   \n",
       "\n",
       "                                production_companies  \\\n",
       "0  [Ingenious Film Partners, Twentieth Century Fo...   \n",
       "1  [Walt Disney Pictures, Jerry Bruckheimer Films...   \n",
       "\n",
       "                         production_countries    spoken_languages  \\\n",
       "0  [United States of America, United Kingdom]  [English, Español]   \n",
       "1                  [United States of America]           [English]   \n",
       "\n",
       "                                      title  \n",
       "0                                    Avatar  \n",
       "1  Pirates of the Caribbean: At World's End  "
      ]
     },
     "execution_count": 58,
     "metadata": {},
     "output_type": "execute_result"
    }
   ],
   "source": [
    "movies.select_dtypes(exclude=['int64','float64']).head(2)"
   ]
  },
  {
   "cell_type": "code",
   "execution_count": 60,
   "metadata": {
    "colab": {
     "base_uri": "https://localhost:8080/",
     "height": 493
    },
    "colab_type": "code",
    "id": "xeHj8DgPifEV",
    "outputId": "a08fea08-a1a3-46cd-dd28-e6822a856634"
   },
   "outputs": [
    {
     "data": {
      "text/plain": [
       "en    0.960657\n",
       "fr    0.007745\n",
       "es    0.004647\n",
       "ja    0.004027\n",
       "zh    0.004027\n",
       "Name: original_language, dtype: float64"
      ]
     },
     "execution_count": 60,
     "metadata": {},
     "output_type": "execute_result"
    }
   ],
   "source": [
    "movies.original_language.value_counts(normalize=True).head()"
   ]
  },
  {
   "cell_type": "markdown",
   "metadata": {
    "colab_type": "text",
    "id": "rzDdPqIlj9B0"
   },
   "source": [
    "96% das observações pertence à classe en. uma vez que a variância desta feature é quase 0 vamos eliminá-la."
   ]
  },
  {
   "cell_type": "code",
   "execution_count": 61,
   "metadata": {
    "colab": {},
    "colab_type": "code",
    "id": "ejkAyrqbkXI7"
   },
   "outputs": [],
   "source": [
    "movies = movies.drop(columns = ['original_language'] , axis= 1)"
   ]
  },
  {
   "cell_type": "code",
   "execution_count": 53,
   "metadata": {},
   "outputs": [
    {
     "data": {
      "text/plain": [
       "Released    3228\n",
       "Name: status, dtype: int64"
      ]
     },
     "execution_count": 53,
     "metadata": {},
     "output_type": "execute_result"
    }
   ],
   "source": [
    "movies.status.value_counts()"
   ]
  },
  {
   "cell_type": "markdown",
   "metadata": {},
   "source": [
    "Seguindo o mesmo raciocínio, vamos eliminar a variável status"
   ]
  },
  {
   "cell_type": "code",
   "execution_count": 54,
   "metadata": {},
   "outputs": [],
   "source": [
    " movies = movies.drop(columns=['status'] , axis = 1 )"
   ]
  },
  {
   "cell_type": "markdown",
   "metadata": {
    "colab_type": "text",
    "id": "T7FGjYhHk-zc"
   },
   "source": [
    "A release_date trata-se de uma data. O dia, intuitivamente, parece-nos irrelevante considerar. Contudo, o ano e o mês podem trazer informação relevante: bons filmes são tipicamente lançados perto de datas de festivais. O ano também pode ter algum efeito sazonal."
   ]
  },
  {
   "cell_type": "code",
   "execution_count": 48,
   "metadata": {
    "colab": {},
    "colab_type": "code",
    "id": "eRUX9974k4HH"
   },
   "outputs": [],
   "source": [
    "movies.release_date = pd.to_datetime(movies['release_date'])\n",
    "movies[\"year\"] = movies.release_date.dt.year\n",
    "movies['month'] = movies.release_date.dt.month"
   ]
  },
  {
   "cell_type": "code",
   "execution_count": 49,
   "metadata": {
    "colab": {},
    "colab_type": "code",
    "id": "FYnRQ4-zm-_D"
   },
   "outputs": [],
   "source": [
    "movies = movies.drop(columns=['release_date'], axis = 1)"
   ]
  },
  {
   "cell_type": "code",
   "execution_count": 63,
   "metadata": {
    "colab": {
     "base_uri": "https://localhost:8080/",
     "height": 700
    },
    "colab_type": "code",
    "id": "4RQUJgGLm14D",
    "outputId": "ab87a162-97e4-4a14-d44d-f1c9f9b27b2e"
   },
   "outputs": [
    {
     "data": {
      "text/html": [
       "<div>\n",
       "<style scoped>\n",
       "    .dataframe tbody tr th:only-of-type {\n",
       "        vertical-align: middle;\n",
       "    }\n",
       "\n",
       "    .dataframe tbody tr th {\n",
       "        vertical-align: top;\n",
       "    }\n",
       "\n",
       "    .dataframe thead th {\n",
       "        text-align: right;\n",
       "    }\n",
       "</style>\n",
       "<table border=\"1\" class=\"dataframe\">\n",
       "  <thead>\n",
       "    <tr style=\"text-align: right;\">\n",
       "      <th></th>\n",
       "      <th>budget</th>\n",
       "      <th>genres</th>\n",
       "      <th>keywords</th>\n",
       "      <th>popularity</th>\n",
       "      <th>production_companies</th>\n",
       "      <th>production_countries</th>\n",
       "      <th>revenue</th>\n",
       "      <th>runtime</th>\n",
       "      <th>spoken_languages</th>\n",
       "      <th>title</th>\n",
       "      <th>vote_average</th>\n",
       "      <th>year</th>\n",
       "      <th>month</th>\n",
       "    </tr>\n",
       "  </thead>\n",
       "  <tbody>\n",
       "    <tr>\n",
       "      <th>0</th>\n",
       "      <td>237000000</td>\n",
       "      <td>[Action, Adventure, Fantasy, Science Fiction]</td>\n",
       "      <td>[culture clash, future, space war, space colon...</td>\n",
       "      <td>150.437577</td>\n",
       "      <td>[Ingenious Film Partners, Twentieth Century Fo...</td>\n",
       "      <td>[United States of America, United Kingdom]</td>\n",
       "      <td>2787965087</td>\n",
       "      <td>162.0</td>\n",
       "      <td>[English, Español]</td>\n",
       "      <td>Avatar</td>\n",
       "      <td>7.2</td>\n",
       "      <td>2009</td>\n",
       "      <td>12</td>\n",
       "    </tr>\n",
       "    <tr>\n",
       "      <th>1</th>\n",
       "      <td>300000000</td>\n",
       "      <td>[Adventure, Fantasy, Action]</td>\n",
       "      <td>[ocean, drug abuse, exotic island, east india ...</td>\n",
       "      <td>139.082615</td>\n",
       "      <td>[Walt Disney Pictures, Jerry Bruckheimer Films...</td>\n",
       "      <td>[United States of America]</td>\n",
       "      <td>961000000</td>\n",
       "      <td>169.0</td>\n",
       "      <td>[English]</td>\n",
       "      <td>Pirates of the Caribbean: At World's End</td>\n",
       "      <td>6.9</td>\n",
       "      <td>2007</td>\n",
       "      <td>5</td>\n",
       "    </tr>\n",
       "    <tr>\n",
       "      <th>2</th>\n",
       "      <td>245000000</td>\n",
       "      <td>[Action, Adventure, Crime]</td>\n",
       "      <td>[spy, based on novel, secret agent, sequel, mi...</td>\n",
       "      <td>107.376788</td>\n",
       "      <td>[Columbia Pictures, Danjaq, B24]</td>\n",
       "      <td>[United Kingdom, United States of America]</td>\n",
       "      <td>880674609</td>\n",
       "      <td>148.0</td>\n",
       "      <td>[Français, English, Español, Italiano, Deutsch]</td>\n",
       "      <td>Spectre</td>\n",
       "      <td>6.3</td>\n",
       "      <td>2015</td>\n",
       "      <td>10</td>\n",
       "    </tr>\n",
       "    <tr>\n",
       "      <th>3</th>\n",
       "      <td>250000000</td>\n",
       "      <td>[Action, Crime, Drama, Thriller]</td>\n",
       "      <td>[dc comics, crime fighter, terrorist, secret i...</td>\n",
       "      <td>112.312950</td>\n",
       "      <td>[Legendary Pictures, Warner Bros., DC Entertai...</td>\n",
       "      <td>[United States of America]</td>\n",
       "      <td>1084939099</td>\n",
       "      <td>165.0</td>\n",
       "      <td>[English]</td>\n",
       "      <td>The Dark Knight Rises</td>\n",
       "      <td>7.6</td>\n",
       "      <td>2012</td>\n",
       "      <td>7</td>\n",
       "    </tr>\n",
       "    <tr>\n",
       "      <th>4</th>\n",
       "      <td>260000000</td>\n",
       "      <td>[Action, Adventure, Science Fiction]</td>\n",
       "      <td>[based on novel, mars, medallion, space travel...</td>\n",
       "      <td>43.926995</td>\n",
       "      <td>[Walt Disney Pictures]</td>\n",
       "      <td>[United States of America]</td>\n",
       "      <td>284139100</td>\n",
       "      <td>132.0</td>\n",
       "      <td>[English]</td>\n",
       "      <td>John Carter</td>\n",
       "      <td>6.1</td>\n",
       "      <td>2012</td>\n",
       "      <td>3</td>\n",
       "    </tr>\n",
       "  </tbody>\n",
       "</table>\n",
       "</div>"
      ],
      "text/plain": [
       "      budget                                         genres  \\\n",
       "0  237000000  [Action, Adventure, Fantasy, Science Fiction]   \n",
       "1  300000000                   [Adventure, Fantasy, Action]   \n",
       "2  245000000                     [Action, Adventure, Crime]   \n",
       "3  250000000               [Action, Crime, Drama, Thriller]   \n",
       "4  260000000           [Action, Adventure, Science Fiction]   \n",
       "\n",
       "                                            keywords  popularity  \\\n",
       "0  [culture clash, future, space war, space colon...  150.437577   \n",
       "1  [ocean, drug abuse, exotic island, east india ...  139.082615   \n",
       "2  [spy, based on novel, secret agent, sequel, mi...  107.376788   \n",
       "3  [dc comics, crime fighter, terrorist, secret i...  112.312950   \n",
       "4  [based on novel, mars, medallion, space travel...   43.926995   \n",
       "\n",
       "                                production_companies  \\\n",
       "0  [Ingenious Film Partners, Twentieth Century Fo...   \n",
       "1  [Walt Disney Pictures, Jerry Bruckheimer Films...   \n",
       "2                   [Columbia Pictures, Danjaq, B24]   \n",
       "3  [Legendary Pictures, Warner Bros., DC Entertai...   \n",
       "4                             [Walt Disney Pictures]   \n",
       "\n",
       "                         production_countries     revenue  runtime  \\\n",
       "0  [United States of America, United Kingdom]  2787965087    162.0   \n",
       "1                  [United States of America]   961000000    169.0   \n",
       "2  [United Kingdom, United States of America]   880674609    148.0   \n",
       "3                  [United States of America]  1084939099    165.0   \n",
       "4                  [United States of America]   284139100    132.0   \n",
       "\n",
       "                                  spoken_languages  \\\n",
       "0                               [English, Español]   \n",
       "1                                        [English]   \n",
       "2  [Français, English, Español, Italiano, Deutsch]   \n",
       "3                                        [English]   \n",
       "4                                        [English]   \n",
       "\n",
       "                                      title  vote_average  year  month  \n",
       "0                                    Avatar           7.2  2009     12  \n",
       "1  Pirates of the Caribbean: At World's End           6.9  2007      5  \n",
       "2                                   Spectre           6.3  2015     10  \n",
       "3                     The Dark Knight Rises           7.6  2012      7  \n",
       "4                               John Carter           6.1  2012      3  "
      ]
     },
     "execution_count": 63,
     "metadata": {},
     "output_type": "execute_result"
    }
   ],
   "source": [
    "movies.head(5)"
   ]
  },
  {
   "cell_type": "code",
   "execution_count": 64,
   "metadata": {
    "colab": {
     "base_uri": "https://localhost:8080/",
     "height": 179
    },
    "colab_type": "code",
    "id": "qtQQcvEkp52x",
    "outputId": "d8e5ed2e-f1d9-4719-ae18-70312197176f"
   },
   "outputs": [
    {
     "data": {
      "text/html": [
       "<div>\n",
       "<style scoped>\n",
       "    .dataframe tbody tr th:only-of-type {\n",
       "        vertical-align: middle;\n",
       "    }\n",
       "\n",
       "    .dataframe tbody tr th {\n",
       "        vertical-align: top;\n",
       "    }\n",
       "\n",
       "    .dataframe thead th {\n",
       "        text-align: right;\n",
       "    }\n",
       "</style>\n",
       "<table border=\"1\" class=\"dataframe\">\n",
       "  <thead>\n",
       "    <tr style=\"text-align: right;\">\n",
       "      <th></th>\n",
       "      <th>genres</th>\n",
       "      <th>keywords</th>\n",
       "      <th>production_companies</th>\n",
       "      <th>production_countries</th>\n",
       "      <th>spoken_languages</th>\n",
       "      <th>title</th>\n",
       "    </tr>\n",
       "  </thead>\n",
       "  <tbody>\n",
       "    <tr>\n",
       "      <th>0</th>\n",
       "      <td>[Action, Adventure, Fantasy, Science Fiction]</td>\n",
       "      <td>[culture clash, future, space war, space colon...</td>\n",
       "      <td>[Ingenious Film Partners, Twentieth Century Fo...</td>\n",
       "      <td>[United States of America, United Kingdom]</td>\n",
       "      <td>[English, Español]</td>\n",
       "      <td>Avatar</td>\n",
       "    </tr>\n",
       "    <tr>\n",
       "      <th>1</th>\n",
       "      <td>[Adventure, Fantasy, Action]</td>\n",
       "      <td>[ocean, drug abuse, exotic island, east india ...</td>\n",
       "      <td>[Walt Disney Pictures, Jerry Bruckheimer Films...</td>\n",
       "      <td>[United States of America]</td>\n",
       "      <td>[English]</td>\n",
       "      <td>Pirates of the Caribbean: At World's End</td>\n",
       "    </tr>\n",
       "  </tbody>\n",
       "</table>\n",
       "</div>"
      ],
      "text/plain": [
       "                                          genres  \\\n",
       "0  [Action, Adventure, Fantasy, Science Fiction]   \n",
       "1                   [Adventure, Fantasy, Action]   \n",
       "\n",
       "                                            keywords  \\\n",
       "0  [culture clash, future, space war, space colon...   \n",
       "1  [ocean, drug abuse, exotic island, east india ...   \n",
       "\n",
       "                                production_companies  \\\n",
       "0  [Ingenious Film Partners, Twentieth Century Fo...   \n",
       "1  [Walt Disney Pictures, Jerry Bruckheimer Films...   \n",
       "\n",
       "                         production_countries    spoken_languages  \\\n",
       "0  [United States of America, United Kingdom]  [English, Español]   \n",
       "1                  [United States of America]           [English]   \n",
       "\n",
       "                                      title  \n",
       "0                                    Avatar  \n",
       "1  Pirates of the Caribbean: At World's End  "
      ]
     },
     "execution_count": 64,
     "metadata": {},
     "output_type": "execute_result"
    }
   ],
   "source": [
    "movies.select_dtypes(exclude=['int64','float64']).head(2)"
   ]
  },
  {
   "cell_type": "code",
   "execution_count": 65,
   "metadata": {
    "colab": {
     "base_uri": "https://localhost:8080/",
     "height": 34
    },
    "colab_type": "code",
    "id": "I4yqT-YQWNgP",
    "outputId": "89ac6fd0-49b0-4318-e356-ebf82ea8267b"
   },
   "outputs": [
    {
     "data": {
      "text/plain": [
       "(3228, 13)"
      ]
     },
     "execution_count": 65,
     "metadata": {},
     "output_type": "execute_result"
    }
   ],
   "source": [
    "movies.shape"
   ]
  },
  {
   "cell_type": "markdown",
   "metadata": {
    "colab_type": "text",
    "id": "IsB9AQ0OUFd5"
   },
   "source": [
    "Vamos agora olhar para as variáveis que estão apresentadas como lista. "
   ]
  },
  {
   "cell_type": "markdown",
   "metadata": {
    "colab_type": "text",
    "id": "aMv7JuPHUSCu"
   },
   "source": [
    "--Genres"
   ]
  },
  {
   "cell_type": "code",
   "execution_count": 66,
   "metadata": {
    "colab": {
     "base_uri": "https://localhost:8080/",
     "height": 54
    },
    "colab_type": "code",
    "id": "CySgi4gAUUf7",
    "outputId": "b441f43f-a6c0-46c4-fbf4-1645375c5d5a"
   },
   "outputs": [
    {
     "name": "stdout",
     "output_type": "stream",
     "text": [
      "['Action', 'Fantasy', 'History', 'Comedy', 'War', 'Foreign', 'Western', 'Animation', 'Documentary', 'Drama', 'Science Fiction', 'Mystery', 'Music', 'Adventure', 'Thriller', 'Family', 'Horror', 'Romance', 'Crime']\n"
     ]
    }
   ],
   "source": [
    "genres = set()\n",
    "for item in movies.genres:\n",
    "    for genre in item:\n",
    "        genres.add(genre)\n",
    "genres = list(genres)\n",
    "print(genres)"
   ]
  },
  {
   "cell_type": "code",
   "execution_count": 67,
   "metadata": {
    "colab": {
     "base_uri": "https://localhost:8080/",
     "height": 34
    },
    "colab_type": "code",
    "id": "xe5aekROUhjj",
    "outputId": "61bcb79d-9085-4a37-824b-f72cbf59622b"
   },
   "outputs": [
    {
     "data": {
      "text/plain": [
       "19"
      ]
     },
     "execution_count": 67,
     "metadata": {},
     "output_type": "execute_result"
    }
   ],
   "source": [
    "len(genres)"
   ]
  },
  {
   "cell_type": "markdown",
   "metadata": {
    "colab_type": "text",
    "id": "EqxVxko9WBn-"
   },
   "source": [
    "Vamos agora transformar os valores ditintos em colunas para posteriormente fazer join com o dataframe movies. \n"
   ]
  },
  {
   "cell_type": "code",
   "execution_count": 68,
   "metadata": {
    "colab": {
     "base_uri": "https://localhost:8080/",
     "height": 86
    },
    "colab_type": "code",
    "id": "NiEmVVwqUwBb",
    "outputId": "cbaf0fcd-29a5-4242-d8ae-edf6bab661a9"
   },
   "outputs": [
    {
     "data": {
      "text/html": [
       "<div>\n",
       "<style scoped>\n",
       "    .dataframe tbody tr th:only-of-type {\n",
       "        vertical-align: middle;\n",
       "    }\n",
       "\n",
       "    .dataframe tbody tr th {\n",
       "        vertical-align: top;\n",
       "    }\n",
       "\n",
       "    .dataframe thead th {\n",
       "        text-align: right;\n",
       "    }\n",
       "</style>\n",
       "<table border=\"1\" class=\"dataframe\">\n",
       "  <thead>\n",
       "    <tr style=\"text-align: right;\">\n",
       "      <th></th>\n",
       "      <th>Action</th>\n",
       "      <th>Fantasy</th>\n",
       "      <th>History</th>\n",
       "      <th>Comedy</th>\n",
       "      <th>War</th>\n",
       "      <th>Foreign</th>\n",
       "      <th>Western</th>\n",
       "      <th>Animation</th>\n",
       "      <th>Documentary</th>\n",
       "      <th>Drama</th>\n",
       "      <th>Science Fiction</th>\n",
       "      <th>Mystery</th>\n",
       "      <th>Music</th>\n",
       "      <th>Adventure</th>\n",
       "      <th>Thriller</th>\n",
       "      <th>Family</th>\n",
       "      <th>Horror</th>\n",
       "      <th>Romance</th>\n",
       "      <th>Crime</th>\n",
       "    </tr>\n",
       "  </thead>\n",
       "  <tbody>\n",
       "  </tbody>\n",
       "</table>\n",
       "</div>"
      ],
      "text/plain": [
       "Empty DataFrame\n",
       "Columns: [Action, Fantasy, History, Comedy, War, Foreign, Western, Animation, Documentary, Drama, Science Fiction, Mystery, Music, Adventure, Thriller, Family, Horror, Romance, Crime]\n",
       "Index: []"
      ]
     },
     "execution_count": 68,
     "metadata": {},
     "output_type": "execute_result"
    }
   ],
   "source": [
    "df_genres = pd.DataFrame(columns=genres)\n",
    "df_genres.head()"
   ]
  },
  {
   "cell_type": "code",
   "execution_count": 69,
   "metadata": {
    "colab": {
     "base_uri": "https://localhost:8080/",
     "height": 179
    },
    "colab_type": "code",
    "id": "REr-Oe3XVKjT",
    "outputId": "8840a1cd-40b4-4eda-eabb-3026748e89ab"
   },
   "outputs": [
    {
     "data": {
      "text/html": [
       "<div>\n",
       "<style scoped>\n",
       "    .dataframe tbody tr th:only-of-type {\n",
       "        vertical-align: middle;\n",
       "    }\n",
       "\n",
       "    .dataframe tbody tr th {\n",
       "        vertical-align: top;\n",
       "    }\n",
       "\n",
       "    .dataframe thead th {\n",
       "        text-align: right;\n",
       "    }\n",
       "</style>\n",
       "<table border=\"1\" class=\"dataframe\">\n",
       "  <thead>\n",
       "    <tr style=\"text-align: right;\">\n",
       "      <th></th>\n",
       "      <th>Action</th>\n",
       "      <th>Fantasy</th>\n",
       "      <th>History</th>\n",
       "      <th>Comedy</th>\n",
       "      <th>War</th>\n",
       "      <th>Foreign</th>\n",
       "      <th>Western</th>\n",
       "      <th>Animation</th>\n",
       "      <th>Documentary</th>\n",
       "      <th>Drama</th>\n",
       "      <th>Science Fiction</th>\n",
       "      <th>Mystery</th>\n",
       "      <th>Music</th>\n",
       "      <th>Adventure</th>\n",
       "      <th>Thriller</th>\n",
       "      <th>Family</th>\n",
       "      <th>Horror</th>\n",
       "      <th>Romance</th>\n",
       "      <th>Crime</th>\n",
       "    </tr>\n",
       "  </thead>\n",
       "  <tbody>\n",
       "    <tr>\n",
       "      <th>0</th>\n",
       "      <td>1</td>\n",
       "      <td>1</td>\n",
       "      <td>NaN</td>\n",
       "      <td>NaN</td>\n",
       "      <td>NaN</td>\n",
       "      <td>NaN</td>\n",
       "      <td>NaN</td>\n",
       "      <td>NaN</td>\n",
       "      <td>NaN</td>\n",
       "      <td>NaN</td>\n",
       "      <td>1</td>\n",
       "      <td>NaN</td>\n",
       "      <td>NaN</td>\n",
       "      <td>1</td>\n",
       "      <td>NaN</td>\n",
       "      <td>NaN</td>\n",
       "      <td>NaN</td>\n",
       "      <td>NaN</td>\n",
       "      <td>NaN</td>\n",
       "    </tr>\n",
       "    <tr>\n",
       "      <th>1</th>\n",
       "      <td>1</td>\n",
       "      <td>1</td>\n",
       "      <td>NaN</td>\n",
       "      <td>NaN</td>\n",
       "      <td>NaN</td>\n",
       "      <td>NaN</td>\n",
       "      <td>NaN</td>\n",
       "      <td>NaN</td>\n",
       "      <td>NaN</td>\n",
       "      <td>NaN</td>\n",
       "      <td>NaN</td>\n",
       "      <td>NaN</td>\n",
       "      <td>NaN</td>\n",
       "      <td>1</td>\n",
       "      <td>NaN</td>\n",
       "      <td>NaN</td>\n",
       "      <td>NaN</td>\n",
       "      <td>NaN</td>\n",
       "      <td>NaN</td>\n",
       "    </tr>\n",
       "    <tr>\n",
       "      <th>2</th>\n",
       "      <td>1</td>\n",
       "      <td>NaN</td>\n",
       "      <td>NaN</td>\n",
       "      <td>NaN</td>\n",
       "      <td>NaN</td>\n",
       "      <td>NaN</td>\n",
       "      <td>NaN</td>\n",
       "      <td>NaN</td>\n",
       "      <td>NaN</td>\n",
       "      <td>NaN</td>\n",
       "      <td>NaN</td>\n",
       "      <td>NaN</td>\n",
       "      <td>NaN</td>\n",
       "      <td>1</td>\n",
       "      <td>NaN</td>\n",
       "      <td>NaN</td>\n",
       "      <td>NaN</td>\n",
       "      <td>NaN</td>\n",
       "      <td>1</td>\n",
       "    </tr>\n",
       "  </tbody>\n",
       "</table>\n",
       "</div>"
      ],
      "text/plain": [
       "  Action Fantasy History Comedy  War Foreign Western Animation Documentary  \\\n",
       "0      1       1     NaN    NaN  NaN     NaN     NaN       NaN         NaN   \n",
       "1      1       1     NaN    NaN  NaN     NaN     NaN       NaN         NaN   \n",
       "2      1     NaN     NaN    NaN  NaN     NaN     NaN       NaN         NaN   \n",
       "\n",
       "  Drama Science Fiction Mystery Music Adventure Thriller Family Horror  \\\n",
       "0   NaN               1     NaN   NaN         1      NaN    NaN    NaN   \n",
       "1   NaN             NaN     NaN   NaN         1      NaN    NaN    NaN   \n",
       "2   NaN             NaN     NaN   NaN         1      NaN    NaN    NaN   \n",
       "\n",
       "  Romance Crime  \n",
       "0     NaN   NaN  \n",
       "1     NaN   NaN  \n",
       "2     NaN     1  "
      ]
     },
     "execution_count": 69,
     "metadata": {},
     "output_type": "execute_result"
    }
   ],
   "source": [
    "for index, row in movies.iterrows():\n",
    "    for item in row['genres']:\n",
    "        df_genres.loc[index,item] = 1\n",
    "df_genres.head(3)"
   ]
  },
  {
   "cell_type": "code",
   "execution_count": 70,
   "metadata": {
    "colab": {
     "base_uri": "https://localhost:8080/",
     "height": 34
    },
    "colab_type": "code",
    "id": "on0XngWoWXoV",
    "outputId": "c9c067e9-4ebe-486a-971b-fb613d6b2443"
   },
   "outputs": [
    {
     "data": {
      "text/plain": [
       "(3227, 19)"
      ]
     },
     "execution_count": 70,
     "metadata": {},
     "output_type": "execute_result"
    }
   ],
   "source": [
    "df_genres.shape"
   ]
  },
  {
   "cell_type": "code",
   "execution_count": 71,
   "metadata": {
    "colab": {},
    "colab_type": "code",
    "id": "y5XIJf6KYsvL"
   },
   "outputs": [],
   "source": [
    "df_genres.fillna(0,inplace=True)"
   ]
  },
  {
   "cell_type": "code",
   "execution_count": 72,
   "metadata": {
    "colab": {
     "base_uri": "https://localhost:8080/",
     "height": 340
    },
    "colab_type": "code",
    "id": "CpAHtH7ia0gg",
    "outputId": "a1d8ee6e-4563-477c-b0f9-13d6e05425d2"
   },
   "outputs": [
    {
     "name": "stdout",
     "output_type": "stream",
     "text": [
      "Action: 918\n",
      "Fantasy: 342\n",
      "History: 145\n",
      "Comedy: 1110\n",
      "War: 120\n",
      "Foreign: 5\n",
      "Western: 57\n",
      "Animation: 188\n",
      "Documentary: 38\n",
      "Drama: 1440\n",
      "Science Fiction: 431\n",
      "Mystery: 265\n",
      "Music: 111\n",
      "Adventure: 661\n",
      "Thriller: 934\n",
      "Family: 365\n",
      "Horror: 332\n",
      "Romance: 574\n",
      "Crime: 521\n"
     ]
    }
   ],
   "source": [
    "# ver a distribuição por generos\n",
    "for column in df_genres:\n",
    "  print(\"{}: {}\".format(column,df_genres[column][df_genres[column]==1].shape[0]))"
   ]
  },
  {
   "cell_type": "code",
   "execution_count": 73,
   "metadata": {
    "colab": {},
    "colab_type": "code",
    "id": "YUJGsjuvY31y"
   },
   "outputs": [],
   "source": [
    "movies = movies.join(df_genres)"
   ]
  },
  {
   "cell_type": "code",
   "execution_count": 74,
   "metadata": {
    "colab": {
     "base_uri": "https://localhost:8080/",
     "height": 34
    },
    "colab_type": "code",
    "id": "ZaxXta2gW-Zs",
    "outputId": "d180534f-c1b1-4e43-c2b2-fb307ebad5ae"
   },
   "outputs": [
    {
     "data": {
      "text/plain": [
       "(3228, 32)"
      ]
     },
     "execution_count": 74,
     "metadata": {},
     "output_type": "execute_result"
    }
   ],
   "source": [
    "movies.shape"
   ]
  },
  {
   "cell_type": "code",
   "execution_count": 75,
   "metadata": {
    "colab": {
     "base_uri": "https://localhost:8080/",
     "height": 578
    },
    "colab_type": "code",
    "id": "4K-kPwnLXjdp",
    "outputId": "81f34948-a587-4619-9747-72bbad4ca7d5"
   },
   "outputs": [
    {
     "data": {
      "text/plain": [
       "budget                  0\n",
       "genres                  0\n",
       "keywords                0\n",
       "popularity              0\n",
       "production_companies    0\n",
       "production_countries    0\n",
       "revenue                 0\n",
       "runtime                 0\n",
       "spoken_languages        0\n",
       "title                   0\n",
       "vote_average            0\n",
       "year                    0\n",
       "month                   0\n",
       "Action                  1\n",
       "Fantasy                 1\n",
       "History                 1\n",
       "Comedy                  1\n",
       "War                     1\n",
       "Foreign                 1\n",
       "Western                 1\n",
       "Animation               1\n",
       "Documentary             1\n",
       "Drama                   1\n",
       "Science Fiction         1\n",
       "Mystery                 1\n",
       "Music                   1\n",
       "Adventure               1\n",
       "Thriller                1\n",
       "Family                  1\n",
       "Horror                  1\n",
       "Romance                 1\n",
       "Crime                   1\n",
       "dtype: int64"
      ]
     },
     "execution_count": 75,
     "metadata": {},
     "output_type": "execute_result"
    }
   ],
   "source": [
    "movies.isnull().sum()"
   ]
  },
  {
   "cell_type": "code",
   "execution_count": 76,
   "metadata": {
    "colab": {
     "base_uri": "https://localhost:8080/",
     "height": 219
    },
    "colab_type": "code",
    "id": "yeHB8lrMUbUi",
    "outputId": "3d05b064-5cf6-4c43-9eb7-71bffe6fe11d"
   },
   "outputs": [
    {
     "data": {
      "text/html": [
       "<div>\n",
       "<style scoped>\n",
       "    .dataframe tbody tr th:only-of-type {\n",
       "        vertical-align: middle;\n",
       "    }\n",
       "\n",
       "    .dataframe tbody tr th {\n",
       "        vertical-align: top;\n",
       "    }\n",
       "\n",
       "    .dataframe thead th {\n",
       "        text-align: right;\n",
       "    }\n",
       "</style>\n",
       "<table border=\"1\" class=\"dataframe\">\n",
       "  <thead>\n",
       "    <tr style=\"text-align: right;\">\n",
       "      <th></th>\n",
       "      <th>budget</th>\n",
       "      <th>genres</th>\n",
       "      <th>keywords</th>\n",
       "      <th>popularity</th>\n",
       "      <th>production_companies</th>\n",
       "      <th>production_countries</th>\n",
       "      <th>revenue</th>\n",
       "      <th>runtime</th>\n",
       "      <th>spoken_languages</th>\n",
       "      <th>title</th>\n",
       "      <th>...</th>\n",
       "      <th>Drama</th>\n",
       "      <th>Science Fiction</th>\n",
       "      <th>Mystery</th>\n",
       "      <th>Music</th>\n",
       "      <th>Adventure</th>\n",
       "      <th>Thriller</th>\n",
       "      <th>Family</th>\n",
       "      <th>Horror</th>\n",
       "      <th>Romance</th>\n",
       "      <th>Crime</th>\n",
       "    </tr>\n",
       "  </thead>\n",
       "  <tbody>\n",
       "    <tr>\n",
       "      <th>4105</th>\n",
       "      <td>2000000</td>\n",
       "      <td>[]</td>\n",
       "      <td>[]</td>\n",
       "      <td>0.031947</td>\n",
       "      <td>[]</td>\n",
       "      <td>[]</td>\n",
       "      <td>1672730</td>\n",
       "      <td>120.0</td>\n",
       "      <td>[]</td>\n",
       "      <td>The Book of Mormon Movie, Volume 1: The Journey</td>\n",
       "      <td>...</td>\n",
       "      <td>NaN</td>\n",
       "      <td>NaN</td>\n",
       "      <td>NaN</td>\n",
       "      <td>NaN</td>\n",
       "      <td>NaN</td>\n",
       "      <td>NaN</td>\n",
       "      <td>NaN</td>\n",
       "      <td>NaN</td>\n",
       "      <td>NaN</td>\n",
       "      <td>NaN</td>\n",
       "    </tr>\n",
       "  </tbody>\n",
       "</table>\n",
       "<p>1 rows × 32 columns</p>\n",
       "</div>"
      ],
      "text/plain": [
       "       budget genres keywords  popularity production_companies  \\\n",
       "4105  2000000     []       []    0.031947                   []   \n",
       "\n",
       "     production_countries  revenue  runtime spoken_languages  \\\n",
       "4105                   []  1672730    120.0               []   \n",
       "\n",
       "                                                title  ...  Drama  \\\n",
       "4105  The Book of Mormon Movie, Volume 1: The Journey  ...    NaN   \n",
       "\n",
       "      Science Fiction  Mystery  Music  Adventure  Thriller  Family  Horror  \\\n",
       "4105              NaN      NaN    NaN        NaN       NaN     NaN     NaN   \n",
       "\n",
       "      Romance  Crime  \n",
       "4105      NaN    NaN  \n",
       "\n",
       "[1 rows x 32 columns]"
      ]
     },
     "execution_count": 76,
     "metadata": {},
     "output_type": "execute_result"
    }
   ],
   "source": [
    "movies[movies.Music.isnull()]"
   ]
  },
  {
   "cell_type": "markdown",
   "metadata": {
    "colab_type": "text",
    "id": "mGNkWjXIXoR1"
   },
   "source": [
    "Exite uma observação que não possui qualquer valor para o genero. vamos eliminá-lo. "
   ]
  },
  {
   "cell_type": "code",
   "execution_count": 77,
   "metadata": {
    "colab": {},
    "colab_type": "code",
    "id": "1qQ00GgPYIQP"
   },
   "outputs": [],
   "source": [
    "movies = movies[movies.title != 'The Book of Mormon Movie, Volume 1: The Journey']"
   ]
  },
  {
   "cell_type": "code",
   "execution_count": 78,
   "metadata": {
    "colab": {
     "base_uri": "https://localhost:8080/",
     "height": 578
    },
    "colab_type": "code",
    "id": "RtL3IGhdYqhr",
    "outputId": "94ec77d6-f028-48e5-f6b6-f7dd6de15ccb"
   },
   "outputs": [
    {
     "data": {
      "text/plain": [
       "budget                  0\n",
       "genres                  0\n",
       "keywords                0\n",
       "popularity              0\n",
       "production_companies    0\n",
       "production_countries    0\n",
       "revenue                 0\n",
       "runtime                 0\n",
       "spoken_languages        0\n",
       "title                   0\n",
       "vote_average            0\n",
       "year                    0\n",
       "month                   0\n",
       "Action                  0\n",
       "Fantasy                 0\n",
       "History                 0\n",
       "Comedy                  0\n",
       "War                     0\n",
       "Foreign                 0\n",
       "Western                 0\n",
       "Animation               0\n",
       "Documentary             0\n",
       "Drama                   0\n",
       "Science Fiction         0\n",
       "Mystery                 0\n",
       "Music                   0\n",
       "Adventure               0\n",
       "Thriller                0\n",
       "Family                  0\n",
       "Horror                  0\n",
       "Romance                 0\n",
       "Crime                   0\n",
       "dtype: int64"
      ]
     },
     "execution_count": 78,
     "metadata": {},
     "output_type": "execute_result"
    }
   ],
   "source": [
    "movies.isnull().sum()"
   ]
  },
  {
   "cell_type": "code",
   "execution_count": 79,
   "metadata": {
    "colab": {},
    "colab_type": "code",
    "id": "9AHm7awnhyK8"
   },
   "outputs": [],
   "source": [
    "# eliminar coluna genres \n",
    "movies = movies.drop(columns=['genres'] , axis = 1 )"
   ]
  },
  {
   "cell_type": "markdown",
   "metadata": {
    "colab_type": "text",
    "id": "O6SlLtxKiJ_S"
   },
   "source": [
    "--Keywords\n"
   ]
  },
  {
   "cell_type": "code",
   "execution_count": 80,
   "metadata": {
    "colab": {
     "base_uri": "https://localhost:8080/",
     "height": 54
    },
    "colab_type": "code",
    "id": "NXiWJjQ3fTPE",
    "outputId": "85862eca-eb32-4619-aa48-47a18e66d349"
   },
   "outputs": [
    {
     "name": "stdout",
     "output_type": "stream",
     "text": [
      "['montmartre', 'history', 'anthology', 'cadillac convertible', 'orléans', 'oxygen', 'old house', 'saigon', 'grocery', \"girls' boarding school\", 'insecurity', 'middle east', 'loner', 'sports marketing firm', 'matter of life and death', 'benzine', 'motor neuron disease', 'bare knuckle fighting', 'commitment', 'desert scientist', 'dismemberment', 'weather', 'destruction', 'winzer', 'babysitter', 'leukemia', 'simulator', 'speaker phone', 'cab driver', 'battle for survival', 'formula 1', \"hundred years' war\", 'bus trip', 'defeat', 'monkey king', 'home front', 'fat suit', 'garden gnome', 'green beret', 'crocodile', 'diva', 'cultural difference', 'absorbing power', 'apache', 'peasant', 'reverend', 'reference to facebook', 'newfoundland', 'kaffeehaus', 'rich vs poor', 'admissions', 'auction', 'photo lab', 'battleship', 'leather jacket', 'forced prostitution', 'sin', 'dangerous', 'war of independence', 'starships', 'subway', 'red sea', 'inventions and discoveries', 'cover-up', 'british overseas territory', 'plot twist', 'resort', 'music school', 'family history', 'ecstasy', 'swallowed whole', 'anime', 'stamp', 'biology', 'chase on the roof', 'tommy gun', 'dance instructor', 'channel surfing', 'bolivia', 'warp speed', 'pimp', 'zip line', 'dublin', 'shot in the throat', 'flash grenade', 'cityscape', 'burn victim', 'misfit', 'fake id', 'q*bert', 'past', 'disguised voice', 'students', 'indianapolis', 'grizzly bear', 'christmas', 'reluctant hero', 'suspense', 'snowed in', 'race politics', 'trust fund', 'biohazard', 'difficult childhood', 'weightlessness', 'travel agent', 'county jail', 'shoulder holster', 'only child', 'flat', 'grave', 'social differences', 'romania', 'summer', 'female stalker', 'recruiting', 'conservation', 'spats', 'taliban', 'revenge drama', 'losing weight', 'animated credits', 'valet', 'hillbilly', 'death of boyfriend', 'part live action', 'information leak', 'pet shop', 'blood sample', 'corporate take over', 'rail car', 'iceland', 'aviation', 'english', 'martial arts master', 'cryptographic device', 'thrill seeker', 'prescription medication', 'paganism', 'sexual revolution', 'schloss schönbrunn', 'car thief', 'release from prison', 'death by accident', 'master warrior', 'anchor', 'black cop', 'elderly man', 'night club owner', 'thunderstorm', 'emergency', 'puzzle', 'responsibility', 'newcomer', 'black american stereotype', 'self esteem', 'shape shifter', 'christmas eve', 'sea lion', 'governor', 'private eye', 'marriage counselling', 'cutting the cord', 'poseidon \\xa0', 'pavilion', 'vampire sex', 'saxophone', 'egyptian', 'intersecting lives', 'orpheus and eurydice', 'officer involved shooting', 'death of a friend', 'katana', 'missing woman', 'flea market', 'jordan', 'long take', 'war memorial', 'cinderella', 'landmark', 'liaison', 'life imitates art', 'evil doctor', 'shipwreck', 'razor blade', 'bomber pilot', 'tools', 'funeral home', 'fingerprints', 'motorbike', 'western town', 'columbia', 'ghost', 'invite', 'werewolf', 'sherwood forest', 'energy policy', 'police officer shot', 'grudge', 'st. paul minnesota', 'nightclub entertainer', 'paparazzi', 'baccarat', 'burial', 'loss of virginity', 'spoof', 'snow kingdom', 'thomas cromwell', 'reboot', 'dalai lama', 'deep sea', 'helicopter', 'court martial', 'volcanic ash', 'sex doll', 'evolution', 'morphing', 'supernatural', 'social class', 'dual life', 'temptation', 'thanksgiving', 'pizza shop', 'young boy', 'heartache', 'inner city', 'baghdad', 'ensemble cast', 'miscarriage', 'cern', 'sexual humiliation', 'exploding airplane', 'holiday inn', 'spirit', 'baby-snatching', 'confessional', 'rapping in a car', 'italian soldier', 'african american child', 'carny', 'aristotle', 'background singer', 'newspaper columnist', 'rescue operation', 'person on fire', 'hysteria', 'following someone', 'clumsiness', 'eroticism', 'locked door', 'filmdreh', 'epilepsy', 'radio', 'courtship', 'exercise', 'arkansas', 'animate tree', 'compton california', 'psychology', 'high school student', 'mental disease', 'apoplectic stroke', 'all male cast', 'iceberg', 'battering', 'journalism', 'classified', 'warlord', 'world politics', 'texan', 'symbolism', 'plaster cast', 'lion attack', 'assistant', 'cheating on partner', 'savior', 'fire extinguisher', 'lock', 'usa', 'harvard law school', 'big shot', 'voyeur', 'clownfish', 'teacher student sex', 'talisman', 'arson', 'irish', 'hunger strike', 'double crossed', 'shelter', 'mockery', 'airport lounge', 'metamorphosis', 'lifting person in air', 'employer employee relationship', 'examination', 'reference to plato', 'singer', 'locker', 'wife husband relationship', 'delinquency', 'archaeological dig', 'missing father', 'trojan war', 'prayer', 'chivalry', 'supernatural power', 'medusa', 'cafeteria', 'public sex', 'college', 'cider', 'vienna opera', 'survival horror', 'lodger', 'nature', 'mother daughter relationship', 'police state', 'one day', 'spear throwing', 'based on toy', 'eastern block', 'heroin', 'spaghetti', 'occult ritual', 'virus', 'held at gunpoint', 'sentinals', 'protestant church', 'suitcase', 'thriller', 'la traviata', 'giant cockroach', 'burning man', 'iconic', 'sydney', 'fatherhood', 'newsletter', 'firemen', 'tangier morocco', 'view askew', 'dmt', 'literature competition', 'exam', 'white suit', 'giant robot', 'lowell massachusetts', 'corruption', 'breast', 'gross out', 'awol', 'rajah', 'first time', 'animal sidekick', 'puppet show', 'blow job', 'expert marksman', 'uss missouri', 'paranormal investigation', 'basement garage', 'drug deal', 'avant-garde', 'extreme sports', 'generation-x', 'tejano', 'hospital gown', 'entity', 'search party', 'vanity', 'sex comedy', 'protest', 'senior citizen', 'trojan horse', 'deal', 'buried treasure', 'authority', 'collision in space', 'ford mustang', 'quarter', 'killer clown', 'mayor', 'khumba', 'advertising expert', 'omaha beach', 'constable', 'mexican revolution', 'shogun', 'drifting', 'spook', 'beard', 'checks and balances', 'shooting range', 'goon', 'samurai sword', 'mathematical theorem', 'religious sect', 'chance encounter', 'alone', 'pledge', 'monkey actor', 'argentina', 'sexual identity', '1970s', 'blunt', 'mocumentary', 'bomb attack', 'englishwoman', 'fenway park', 'soul transference', 'aston martin', 'screaming', 'shenanigans', 'rubin', 'longing', 'broken engagement', 'giant plant', 'los angeles international airport (lax)', 'approach', 'vengeful', 'kilt', 'mugging', 'sexual frustration', 'bludgeoning', 'crime spree', 'silent man', 'land bridge', 'k2', 'subway train', 'satanism', 'tortuga', \"côte d'azur\", 'poland', 'mumblegore', 'terrorist', 'troubled teen', 'locust', 'hijacking of train', 'trowel', 'cultural revolution', 'sand dancing', 'new york', 'premonition', 'casanova', 'monologue', 'alzheimer', 'killer', 'gremlin', 'film maker', 'teen drama', 'exclusion', 'perfection', 'mistress', 'salvage', 'dystopia', 'infestation', 'anti semitism', 'butler', 'medieval times', 'nanotechnology', '20th century', 'beforecreditsstinger', 'loyal', 'eye gouging', 'maine', 'professional thief', 'irony', 'bratislava', 'siren', 'masked superhero', 'handgun', 'command', 'lost in the desert', 'stabbing', 'bon bon', 'crime boss', 'staff', 'confetti', 'christianity', 'wallet', 'entrepreneur', 'gigolo', 'radio station', 'trapped underground', 'human evolution', 'period drama', 'noodle', 'sunrise', 'scuba diving', 'red riding hood', 'weatherman', 'wire', 'public', 'crook couple', 'part', 'crude humor', 'trustee', 'female protagonist', 'sideshow', 'phone sex', 'audience', 'olympian sports team', 'django', 'attack', 'negotiator', 'drug traffic', 'flu', 'trampled to death', 'drug addict', 'mockumentary', 'dinosaur', 'conservatory', 'ivy league', 'gym', 'photo shoot', 'bottle', 'apology', 'intelligence officer', 'horniness', 'financial problem', 'grasshopper', 'wild man', 'funeral director', 'memories', 'high school sports', 'wild horse', 'joker', 'box cutter', 'guide', 'jewelry heist', 'healing power', 'annabelle', 'milwaukee wisconsin', 'control freak', 'savagery', 'casting', 'german occupation of france', 'lover', 'shih tzu', 'communicating with the dead', 'unemployed', 'pioneer village', 'milieu', 'jealousy', 'swinger', 'violence in schools', 'california', 'choir', 'painter', 'victim', 'hidden camera', 'cookbook', 'hypnosis', 'newspaper reporter', 'commercial agreement', 'afghanistan', 'alcoholism', 'silent protagonist', 'gambling', 'madame', 'barn raising', 'iron', 'law firm', 'recipe', 'screenwriter', 'usa president', 'pleite', 'turning the tables', 'outback', 'tape recorder', 'alien infection', 'mine clearer', 'catfishing', 'tv star', 'independence movement', 'ex-cop', 'alternate dimension', 'prison wagon', 'africa', 'box', 'heroism', 'biblical', 'godmother', 'coin', 'running', 'host body', 'small town', 'denunciation', 'online predator', 'firefly', 'police corruption', 'pickup truck', 'evil brother', 'injustice', 'hitman', 'marxism', 'asian', 'jet engine', 'astrophysicist', 'live concert', 'wine cellar', 'secret laboratory', 'archaeologist', 'moral dilemma', 'night watchman', 'flaming arrow', 'broken trachea', 'sole survivor', 'police officer', 'righting the wronged', 'space war', 'siege', 'alien friendship', 'first date', 'doubt', 'having fun', 'viagra', 'archery', 'wig', 'reavers', 'justice', 'irreverence', 'fat woman', 'silicon valley', 'loudspeaker', 'rogue', 'famous', 'colt', 'assaulting an officer', 'autobiography', 'white house', 'car mechanic', 'stealing a car', 'casualty of war', 'revenge motive', 'parent child relationship', 'butcher', 'ridicule', 'muggle', 'allies', 'gopher', 'lost at sea', 'pool', 'dog dirt', 'reference to google', 'shrimping', 'gum', 'illuminati', 'plane', 'flapper', 'live action and animation', 'huntsman', 'machine', 'method acting', 'reference to gregory hines', 'castingshow', 'nazi germany', 'hostel', 'single parent', 'pregnant', 'very little dialogue', 'expectant mother', 'nuclear power plant', 'shot in the arm', 'musketeer', 'supernatural being', 'blue collar worker', 'dark comedy', 'siberia', 'cole younger', 'macau china', 'sponge bath', 'search', 'couples therapy', 'music record', 'timebomb', 'theremin', 'national socialism', 'ufo', 'teen movie', 'computer scientist', 'tombstone', 'speed date', 'fainting', 'public toilet', 'minister', 'whispering', 'anti-authoritarian upbringing', 'hotel', 'tobacco', 'skull mask', 'pastor', 'cherub', 'u.s. congress', 'heart', 'television producer', 'synthetic drug', 'prince', 'expert', 'music instrument', 'ice fishing', 'galactic war', 'jekyll and hyde', 'heat', 'famous theme', 'alien planet', 'fbi agent', 'teenage prostitute', 'renaissance painting', 'tenement', 'scalping', 'head of state', 'transformation', 'bishop', 'sexual murder', 'soccer', 'iron lung', 'exploding train', 'broom', 'ice skating', 'unwillingly pregnant', 'broken bottle', 'graduation speech', 'brother sister incest', 'panzer', 'meant for each other', 'casket', 'junkie', 'icelandic', 'missing persons case', 'stew', 'theory', 'briefcase', 'comedian', 'warning', 'based on young adult novel', 'drag', 'mother love', 'morocco', 'riesen-ipod', 'love of animals', 'chimney sweeper', 'crisis', 'heirloom', 'asylum', 'log cabin', 'barbed wire', 'terrorist group', 'rescue boat', 'toulouse lautrec', 'nebraska', 'attractiveness', 'kompliment', 'twilight', 'cupboard', 'electric chair', 'world champion', 'neurosis', 'kuala lumpur malaysia', 'drug humor', 'interrupted wedding', 'computer animation', 'metal detector', 'billy the kid', 'robot human relationship', 'paris', 'stranger', 'haunted house', 'abusive marriage', 'self help guru', 'crime solving', 'liberation of hostage', 'hometown', 'sagen', 'airline pilot', 'sikh', 'paranormal', 'fall from height', 'bathing accident', 'australia', 'ship captain', 'bridegroom', 'coal', 'junkyard', 'fbi profiler', 'frustration', 'darkness', 'hibernation', 'one woman army', 'clue', 'nonlinear timeline', 'brawl', 'terrorist attack', 'sunken treasure', 'tragic hero', 'dysfunctional', 'kidnapping', 'tv reporter', 'loss of relative', 'bondage', 'lifeboat', 'hold-up robbery', 'fictional language', 'trade union', 'home', 'police operation', 'reference to rodney king', 'healer', 'will', 'ex special forces', 'army', 'stepmother stepdaughter relationship', 'in love with enemy', 'one by one', 'sex scene', 'waiter', 'irish catholic', 'vampire slayer', 'go-go dancer', 'environmental issue', 'permission to marry', 'imaginary', 'pulp fiction', 'failure', 'red wine', 'beauty contest', 'crime syndicate', 'gnome', 'beatboxing', 'drug addiction', 'experiment', 'dalmatian', 'berater', 'montreal canadiens', 'ancient egypt', 'photographic memory', 'polio victim', 'cell', 'wife murder', 'part animation', 'fashion', 'roman', 'gentle giant', 'sexual fantasy', 'nanny', 'bus hijacking', 'spotlight', 'exploding boat', 'fear of the dark', 'private', 'harlem', 'archdiocese', 'waltzing matilda', 'support', 'spellcasting', 'doomsday device', 'bloodshed', 'falcon', 'yell', 'pot head', 'rope bridge', 'satanic ritual', 'pencil', 'post traumatic stress  disorder', 'bloody body of child', 'snake', 'wolf costume', 'incest', 'todfeind', 'suburban chicago', 'extreme sadism', 'nude fight', 'clone', 'agent coulson', 'forcefield', 'french resistance', 'rice', 'paranormal phenomena', 'based on short story', 'school excursion', 'security guard killed', 'quantum computer', 'violent father', 'captain nemo', 'suspicious wife', 'english subtitles in original', 'gold watch', 'dead body', 'fbi', 'dialogue driven', 'based on short film', 'bank fraud', 'unmarried couple', 'jesuit priest', 'truck stop', 'black slave', 'real estate developer', 'muhammad', 'ugly', 'st. petersburg russia', 'song', 'casino', 'shot point blank', 'marina', 'year 2079', 'koran', 'frigate', 'christmas tree', 'penguin', 'workplace', 'insider', 'sailor', 'death of brother', 'thinness', 'praise', 'coloured', 'star', 'synagogue', 'demon hunter', 'pie', 'institution', 'food', 'misfortune', 'busty', 'yucatec maya language', 'chemical', 'kaiser nero', 'bombay india', 'mauling', 'festival hall', 'cut-off head', 'new home', 'mistake in person', 'loss of powers', 'loss of eyesight', 'controversial', 'reno', 'medication', 'perversion', 'correspondence', 'jfk international airport', 'mujahid', 'bathroom', 'columbia broadcasting system (cbs)', 'honeymoon', 'market economy', 'adolescent boy', 'land mine', 'insurance agent', 'asian lead', 'terraforming', 'sherlock holmes', 'husband', 'lifestyle', 'governance', 'singing photograph', 'walking dead', 'escape agent', 'guilty', 'light', 'german officer', 'north carolina', 'nose', 'twenty something', 'boy scouts leader', 'manhole', 'discontentedness and displeasedness', '21st century', 'yukon', 'talent show', 'feedback', 'samurai', 'lex luthor', 'fireworks', 'leader', 'love at first sight', 'furnace', 'rap music', 'philadelphia', 'homecoming', 'clancy of the overflow', 'farm', 'forever', 'homicide detective', 'family feud', 'bustier', 'transforming robot', 'teleportation', 'fraternity initiation', 'victim of murder', 'obituary', 'diamond mine', 'hangar', 'village council', 'british', 'breakdance', 'red army', 'rio 1', 'mine field', 'talking animal', 'company', 'oktoberfest', 'romantic', 'paramedic', 'escapade', 'extremsport', 'socrates', 'half sister', 'dynasty', 'gas rationing', 'fashion show', 'artifact', 'prison camp', 'audi', 'chain saw', 'electric guitar', 'japan', 'moonshine', 'hawaii', 'software engineer', 'independent film', 'doberman', 'miniaturization', 'anarchic comedy', 'rich people', 'euthanasia', 'sports team', 'sentence', 'drunk', 'deepsea', 'patriotism', 'marketing', 'superstition', 'murder', 'tyranny', 'smoke ring', 'african american comedy', 'man with glasses', 'indiana jones', 'stuck in elevator', 'transvestism', 'exploring', 'rape and revenge', 'inspired by true events', 'october', 'spell', 'father', 'responsability', 'christian film', 'golf', 'extortion', 'silver star', 'killer toys', 'prince charles', 'famine', 'primate', 'abusive father', 'religious fanatic', 'stage show', 'criminal heroes', 'violent man', 'chained', 'loss of daughter', 'narcissism', 'killer robot', 'bullet proof vest', 'pixels', 'lgbt teen', 'jury trial', 'jaipur india', 'coup', 'ferry boat', 'on the run', 'cliffs', 'van', 'geisha', 'westford massachusetts', 'meaning of life', 'body transformation', 'macao', 'cat house', 'inspector', 'security', 'spit in the face', 'manhunt', 'newcastle united', 'bus', 'strength', 'motel room', 'animal', 'taser', 'x-files', 'future noir', '绝地奶霸', 'hotel suite', 'jabba the hutt', 'brothers', 'hit in the crotch', 'dogfight', 'misfit partners', 'fool', 'civil rights movement ', 'dysfunctional marriage', 'shopping mall', 'spelling', 'goggles', 'season', 'gold coin', 'ex priest', 'convoy', 'retirement home', 'toys', 'true life character', 'soong sisters', 'crash landing', 'envy', 'boat chase', 'secret', 'tokyo japan', 'prague', 'orphan', 'last supper', 'reference to sprite', 'pizza delivery', 'cia agent', 'plague', 'fish tank', 'wishes come true', 'unlikely friendship', 'legalized murder', 'corrupt politician', 'parrots', 'clark kent', 'romance', 'wimbledon', 'vororte', 'hypnotism', 'inanimate objects coming to life', 'talking to animals', 'fortress', 'rebel', 'puppeteer', 'energy company', 'duct tape', 'current', 'architecture', 'michael myers', 'curse', 'dentist', 'criticism and blame', 'vehicular accident', 'bad father-in-law', 'implied rape', 'spacecraft accident', 'apprendista', 'flood', 'star crossed lovers', 'body horror', 'auctioneer', 'black panthers', 'godzilla', 'confined', 'erection', 'gender stereotypes', 'deadly', 'car seat', 'al qaeda', 'surfboard', 'stowaway', 'step siblings', 'freeze', 'canadian stereotype', 'capture', 'artwork', 'epidemic', 'fire truck', 'imprinting', 'frat party', 'diving', 'maryland', 'strip club', 'search for dog', 'chance', 'snowmobile', 'eraser', 'accountant', 'renewing wedding vows', 'hicktown', 'egocentrism', 'escape', 'bandleader', 'saving lives', 'hairstyle', 'fictional war', 'new delhi india', 'low intelligence', 'parrot', 'olympian village', 'stag night', 'memory loss', 'fear of clowns', 'blob', 'beer bottle', 'gay', 'crossdressing', 'loop', 'hatter', 'aspiring singer', 'princeton university', 'sexual discrimination', 'texting', 'apple computer', 'peer pressure', '\\xa0nosferatu', 'thoughts of retirement', 'plagiarized novel', 'salt lake city utah', 'reference to bob dylan', 'hangover', 'jewel', 'defense industry', 'black humor', 'munchies', 'repentance', 'stage production', 'queen elizabeth i', 'cinema', 'ottoman empire', 'diner', 'sex slave', 'blogger', 'hipster', 'wilderness', 'mother-in-law', 'estate', 'talk show', 'self-defense', 'teenage boy', 'reference to family circus', 'american football coach', 'neo nazi', 'baltimore maryland', 'jet fighter pilot', 'shooting practice', 'adrenalin', 'uganda', 'silver surfer', 'heartbreak', 'peseta', 'single father', 'brain capacity', 'south central l.a.', 'bouncy castle', 'law student', 'conspiracy theory', 'crime epic', 'microscope', 'pompeii', 'heimdall', 'voodoo ritual', 'movie theater', 'hippie', 'wedding dress', 'puberty', 'sexism', 'betrayal by friend', 'marathon', 'jewish life', 'cryogenics', 'stalingrad', 'rat', 'killer snake', 'based on folk tale', 'armada', 'fight', 'intrigue', 'argentine president', 'screenplay', 'world', 'tenderness', 'arrested', 'catholic priest', 'oberflächlichkeit', 'beef', 'dying mother', 'mexican cartel', 'racehorse', 'catholic school', 'vault', 'severed ear', 'racial slur', 'nascar', 'dead end job', 'crystal skull', 'blood lust', 'virginity', 'death', 'sexual torture', 'obesity', 'anti-communism', 'manslaughter', 'omaha', 'serial kiler', 'dark fantasy', 'storytelling', 'holy water', 'combover', 'rhode island', 'denmark', 'pacific', 'ashram', 'helplessness', 'supernatural horror', 'country estate', 'navy veterans', 'falling star', 'loss of sister', 'pilot school', 'bookshop', 'demon', 'southern california', 'unfaithfulness', 'multiple identities', 'scrooge', 'interracial couple', 'orchid', 'female agent', 'bounty', 'media', 'loss of loved one', 'campfire', 'winegrower', 'security leak', 'immigration law', 'passive aggression', 'switchblade', 'apostle', 'inferiority complex', 'home alone', 'ancient india', 'surprise ending', 'wwe', 'gross out comedy', 'imaginary friend', 'little dog', 'imaginary land', 'lincoln assassination', 'billard', 'boxing', 'droid', 'escaped killer', 'prussia', 'duplicate', 'chubby woman', 'zookeeper', 'fishing', 'ten commandments', 'iodine', 'dea agent', 'easter bunny', 'film festivals', 'advancement', 'good cop bad cop', 'zombie apocalypse', 'co-parenting', 'fiji', 'telephone call \\xa0', 'inheritance', 'psychotherapy', 'roof', 'foreign language adaptation', 'suspicious death', 'amazon river', 'popularity', 'broken nose', 'hostess', 'carnival', 'new world', 'sexual attraction', 'church bells', 'conspiracy', 'mother child relationship', 'sold into slavery', 'first kiss', 'beatnik', 'gulfstream', 'kitchen', 'throat slitting', 'pubic hair', 'capuchin monkey', 'audio cassette', 'kaserne', 'actress', 'morgue', 'gardner', 'jeans', 'drug abuse', 'class prejudice', 'aerial shot', 'limousine', 'potted plant', 'macho', 'cuba', \"philosopher's stone\", 'dubai', 'rendezvous', 'irish immigrant', 'action heroine', 'dark humor', 'hedonism', 'face slap', 'superglue', 'social climbing', 'double cross', 'vespa', 'coral reef', 'genesis', 'electro shock', 'mine car', 'grieving', 'work ethic', 'slice of life', 'talent', 'love letter', 'stock-car-race', 'appeal', 'pervert', 'space colony', 'cleaning lady', 'pendant', 'ark', 'vandalism', 'role of women', 'bathing', 'safecracker', 'montenegro', 'friend', 'tutor', 'hyperspace', 'wax', 'hidden identity', 'government', 'king of england', 'twist', 'illustrator', 'indians vs. settlers', 'connecticut', 'shot repeatedly', 'business', 'stockman', 'boyfriend', 'group of friends', 'park ranger', 'scissors', 'near future', 'dog actor', 'vacation', 'cyborg', 'greek letter', 'rust belt', 'illiteracy', 'college freshman', 'hip hop culture', 'contamination', 'automobile industry', 'adult as a child', 'pilgrimage', 'ex-detainee', 'immunity', 'demigod', 'gunfight', 'cattivissimo', 'scat', 'puerto rico', 'marine corps', 'church', 'adventurer', 'roman empire', 'theme park', 'swimming', 'egg', 'spaceship', 'violin', 'father son relationship', 'north atlantic', 'dracula', 'teacher', 'police sergeant', 'volcano', 'hip-hop', 'burn injury', 'drug mule', 'traffic policeman', 'noises', 'trees', 'porn actress', 'gay interest', 'exploding house', 'post 9/11', 'deer', 'buckingham palace', 'valentine', 'kenya', 'virility', 'muscleman', 'beauty standards', 'theater', 'street race', 'territory', 'getaway driver', 'hoodlum', 'emigrant', 'virginia', 'bad dream', 'jamaican', 'fashion journal', 'headquarter', 'sitting on a toilet', 'fictional city', 'broken arrow', 'dancehall girl', 'french polynesia', 'erotic thriller', 'nanobots', 'deadline', 'ambition', 'stasis', 'sunglasses', 'flashback sequence', 'xenophobia', 'singing competition', 'barrier ice', 'usa politics', 'tour bus', 'return', 'gangster grip', 'exoskeleton', 'illusion', 'doomsday clock', 'yoga', 'hades', 'albania', 'punk', 'schematic', 'psychopathic killer', 'lost child', 'birding', 'plan', 'iowa', 'marching band', 'master villain', 'provence', 'coming of age', 'voice imitation', 'deification', 'psychoanalysis', 'lens flare', 'train explosion', 'cruelty', 'imperial seal', 'orgasm', 'neo-noir', 'grocery store', 'dancing master', 'dhampir', 'pain', 'rural america', '1930s', 'post civil war', 'catatonia', 'clock tower', 'violent husband', 'womb', 'arts', 'drug trip', 'drug trafficker', 'comedy', 'children', 'global economy', 'fraud', 'panther', 'vietnamese', 'erotic movie', 'combat photography', 'dragonfly', 'roman catholic', 'spear', 'police shootout', 'sea battle', 'lovers', 'loss of lover', 'press', 'pug', 'spring break', 'fame', 'laundry', 'estate agent', 'divergent', 'llama', 'black and white scene', 'ohio', 'church choir', 'back from the dead', 'kung fu', 'force field', 'legs', 'star spangled banner', 'air force one', 'prequel', 'safe house', 'puerto rican', 'spaceport', 'mind transfer', 'brother brother relationship', 'cat burglar', 'nothing goes right', 'famous painting', 'bicycle', 'mephisto', 'murderous pair', 'naval', 'patenonkel', 'egyptian mythology', 'blindness', 'stewardess', 'convenience store', 'japanese mafia', 'environmentalism', 'underage drinking', 'living with parents', 'sand', 'evil spirit', 'jury', '25th century', 'motherhood', 'selfishness', 'child murder', 'partnership', 'deceit', 'girlfriend', 'yakuza', 'ideology', 'miniature people', 'secret passage', 'the big game', 'abuse', 'low-budget', 'hedge fund', 'military prison', 'airport', 'wife', 'murderer', 'meet cute', 'music business', 'sewerage', 'bass guitarist', 'spin off', 'creativity', 'man child', 'bed', 'buffalo bill', 'friendship drama', 'moral courage', 'playing chess', 'dead teenager', 'hiding', 'crack', 'walking cane', 'king richard', 'himalaya', 'catholic church', 'depravity', 'city', 'research station', 'camp', 'show business', 'poltergeist', 'eating disorder', 'eye', 'faithlessness', 'satanic', 'lodge', 'construction site', 'japanese mythology', 'supermodel', 'martial arts', 'flower shop', 'mad hatter', 'dream sequence', 'sino japanese war', 'headbanging', 'splatter', 'edgar allan poe', 'jamaica', 'working class', 'british secret service', 'shooting', 'grief', 'actor', 'rooftop fight', 'list', 'american flag', 'criminal gang', 'chute', 'arm ripped off', 'indochina', 'slapstick', 'shocking', 'stock market', 'day of the dead', 'italo-american', 'tv addicted person', 'creature feature', 'well', 'altering history', 'dragonslayer', 'radio call in show', 'cellar', 'vietcong', 'taj mahal', 'political thriller', 'hires root beer', 'corrupt policeman', 'sister sister relationship', 'man hunt', 'yuppie', 'health', 'undercover cop', 'victorian england', 'klondike', 'moving out', 'literature', 'investigative journalism', 'dvd', 'water pollution', 'mythological', 'enchantment', 'turkey', 'lake', 'mullet', 'subtitled scene', 'wrongful arrest', 'electromagnetic pulse', 'sattire', 'stanley cup', 'pollution', 'conflagration', 'voodoo', 'repressed memory', 'san andreas california', 'erased memory', 'pop singer', 'teen superheroes', 'arrogance', 'railroad track', 'vulture', 'safety', 'aquarium', 'nsa agent', 'wasteland', 'chemical plant', 'knight templars', 'job entrant', 'defense', 'h. g. wells', 'pirate gang', 'ira', 'bracelet', 'patriarch', 'chainsaw', 'wake', 'thrift store', 'medical illustrator', 'reckless driving', 'supreme court', 'music journalist', '19th century', 'doping', 'beautiful girl', 'nazism', 'canyon', 'french and indian war', 'state prison', 'cb radio', 'pen pal', 'crime scene', 'coffee shop', 'jail guard', 'excalibur', 'toy comes to life', 'bomb squad', 'australian outback', 'congo', 'videotape', 'human animal relationship', 'instructor', 'lost civilisation', 'shadow boxing', 'tudors', 'brooklyn dodgers', 'news report', 'bmw', 'fund raiser', 'airport security', 'super soldier', 'car breakdown', 'tournament', 'book editor', 'foster parents', 'boxing school', 'mental disorders', 'mariachi', 'satan', 'vegetable garden', 'propaganda', 'buoy', 'public pool', 'squatter', 'self-help', 'flight attendant', 'infertility', 'beastmaster', 'oil tanker', 'voyeurism', 'fetish', 'gallows', 'presidential debate', 'gay man straight woman relationship', 'group dynamics', 'hard drive', 'doorman', 'writing', 'skateboard', 'cloning', 'saved from hanging', 'handcuffs', 'fire escape', 'moon', 'missing son', 'communications expert', 'smoking pot', 'serenade', 'misunderstanding', 'downsizing', 'celebration', 'terror', 'revolver', 'mexican', 'nixe', 'brother-in-law sister-in-law relationship', 'dead wish', 'smoke', 'u.s. air force', 'slaughterhouse', 'mentally handicapped man', 'beating', 'spice', 'air attack', 'train station', 'san francisco', 'louisiana', 'halloween', 'autoritian education', 'drummer', 'oakland california', 'bar exam', 'fighter pilot', 'spontaneous combustion', 'shootout at a train station', 'germany', 'alternative reality', 'eating and drinking', 'hidden truth', 'skunk', 'professional reputation', 'movie studio', 'newspaper review', 'captain america', 'narration', 'alien invasion', 'to shoot dead', 'family clan', 'evil', 'coworker relationship', 'atlantis', 'car', 'hatchet', 'emergency surgery', 'snake attack', 'music fan', 'dyr', 'researcher', 'groundhog', 'based on fairy tale', 'new job', 'individual', 'infidelity', 'cynic', 'summer camp', 'south hypnosis', 'spider queen', 'alien possession', 'job', 'chambers of a barrister', 'boston', 'pride and vanity', 'dead lover', 'megalomaniac', 'meteorology', 'one armed man', 'colony', 'overhead camera shot', 'prejudice', 'grave robbing', 'swimwear', 'musket', 'comeuppance', 'moped', 'based on radio show', 'loser', 'platoon leader', 'hemophagia', 'nesting grounds', 'mother son relationship', 'galaxy', 'regeneration', 'plants', 'hideout', 'bite', 'amnesia', 'vietnam veteran', 'hacking', 'mine', 'tour guide', 'strip show', 'promise', 'homesick', 'talking pig', 'siamese', 'social network', 'tyrannosaurus rex', 'disc jockey', 'repo man', 'replacement', 'food industry', 'wedding ceremony', 'lust', 'crying', 'boxing day', 'rural pennsylvania', 'tarkovskyesque', 'winning', 'hydrogen bomb', 'arms deal', 'laserpointer', 'gold rush', 'dying young', 'maid', 'tale', 'step father', 'broken glass', 'player', 'bravery', 'hotel lobby', 'greenhouse effect', 'neighbor', 'interspecies romance', 'epinephrine', 'drive by shooting', 'boy dog relationship', 'video surveillance', 'scooter', 'hunted', 'discrimination', 'noodle salad', 'new neighbor', 'pin-up', 'imprisonment', 'machinist', 'rumor', 'duff beer', 'teuflisch', 'war veteran', '超级妈妈', 'military life', 'struggling', 'barricade', 'shaving cream', 'shower', 'pillbox', 'sidewalk', 'alien attack', 'genetic engineering', 'man eaten by monster', 'hero', 'motivational speaker', 'body guard', 'amateur detective', 'cult', 'dragging someone', 'african american', 'vegan', 'celebrity cameo', 'laotian soldier', 'grandfather', 'bath', 'pokémon', 'vigilantism', 'house warming', 'cavalry', 'slaughter', \"mama's boy\", 'principal witness ', 'multiple perspectives', 'sperm donor', 'zeus', 'social reject', 'parasite', 'glass pipe', 'secret passageway', 'clubhouse', 'microchip', 'boredom', 'show producer', 'hiding place', 'mummy', '1940s', 'vanity film', 'political', 'scary little people', 'step parents', 'runaway train', 'dummy', 'decipherment', 'held captive', 'shooting party', 'sports car', 'pro bono', 'eyesight', 'mask', 'student protest', 'american civil war', 'immigration', 'new girl at school', 'south korea', 'bachelorette party', 'kazakhstan', 'massage', 'summer job', 'grits', 'the holocaust', 'fashion designer', 'bronx', 'stalking', 'human being', 'sexchat', 'charlie brown', 'pen', 'plant food', 'cowboy', 'dance', 'good becoming evil', 'bipolar disorder', 'screwball comedy', 'freedom', 'insomnia', 'gang warfare', 'bitterness', 'female archeologist', 'high society', 'whip', 'anger', 'mind reading', 'bodybuilder', 'kgb', 'post', 'sumo ringer', 'guinea pig', 'male friendship', 'creepy neighbor', 'speculative', 'violence', 'septic tank', 'wyoming', 'intensive care', 'chains', 'redemption', 'florida keys', 'cricket', 'san fernando valley', 'janitor', 'antidote', 'desolate', 'toddler', 'nuclear explosion', 'secret formula', 'mafia accountant', 'shop', 'android', 'singapur', 'reading', 'eccentric man', 'girl from the province', 'based on comic book', 'hate crime', 'yacht', 'angkor wat', 'ozploitation', 'casino owner', 'magical object', 'ice melting', 'police detective', 'sexual pleasure', 'street', 'track and field', 'funny', 'drugged cookie', 'art house', 'cool hair', 'repossession', 'troubled marriage', 'knights of the round table', 'studies', 'drug smuggle', 'the beatles song', 'reference to macgyver', 'estrangement', 'raumschiffabsturz', 'lockdown', 'swimmer', 'medical experiment', 'ornithology', 'penalty', 'nuns', 'street art', 'distrust', 'union soldier', 'deserted island', 'ghost world', 'heal', 'computer war', 'first crush', 'door', 'negotiation', 'independence', 'scuba', 'city ruin', 'monkey', 'gymnasium', 'olympus', 'silent film', 'gunshot', 'cambodia', 'distress signal', 'feudality', 'war against terror', 'high rise', 'loss of brother', 'somali', 'extremist', 'cajun', 'culvert', 'telecaster', 'desk', 'theatre milieu', 'dictatorship', 'orphanage', 'jungle', 'tears', 'radio broadcast', 'cannes', 'kinky', 'messenger', 'eyeball', 'ancient china', 'perónism', 'right and justice', 'shape shifting alien', 'pride', 'soldier', 'sorority house', 'mother', 'plane wreck', 'life raft', 'weapon', 'strange', 'unfulfilled love', 'cactus', 'advertising', 'hand on crotch', 'community service', 'resistance fighter', 'chinese', 'als', 'parents kids relationship', 'civil war', 'fort knox', 'lunatic asylum', \"sorcerer's apprentice\", 'insulin', 'fast', 'cabriolet', 'cabin', 'car dealership', 'liposuction', 'alligator', 'b horror', 'wish fulfillment', 'son', 'disco', 'laundry room', 'damascus', 'scientist', 'bullet ballet', 'interracial friendship', 'boy next door', 'gift', 'dude', 'hat', 'brother-in-law brother-in-law relationship', 'fetishism', 'clergyman', 'absurdism', 'audio tape', 'beverly hills', 'live performance', 'detective', 'martinique', 'comb', 'hazing', 'to make music', 'potion', \"children's home\", 'electronic voice phenomena', 'brain damage', 'number in title', 'fast food restaurant', 's.a.t.', 'bilbao spain', 'wretch', 'norway', 'computer program', 'taking resposibility', 'florist', 'older woman seduces younger guy', 'samba', 'anaconda', 'feud', 'hand grenade', 'net fishing', 'loyalty', 'burlesque dancer', 'man slaps a woman', 'surgeon', 'news', 'missing', 'tower of babel', 'logbook', 'salt water', 'unfulfillment', 'floatplane', 'eaten by animal', 'belgium', 'assault', 'shootout', 'military tribunal', 'ghost ship', 'rome', 'courtroom drama', 'transporter', 'wedding ring', 'war in afghanistan', 'over-the-hill fighter', 'tall man', 'deluge', 'cornwall', 'pest control', 'outer space', 'jinx', 'swept away', 'kaiju', 'fondling', 'gun fight', 'stroke', 'bayou', 'commoner', 'buddha', 'death penalty', 'mega corporation', 'northern england', 'reference to huckleberry finn', 'joan of arc', 'fidel castro', 'hammer', 'falsifying', 'naivety', 'female singer', 'police', 'ymca', 'iranian', 'losing money', 'santa claus', 'mysterious killer', 'feel-good ending', 'texas ranger', 'aggression by plant', 'shield', 'opera singer', 'powhatan', 'pan', 'norwegian', 'lecture', 'idol', 'dining hall', 'laser', 'woods', 'penal colony', 'engineering', 'suicide thoughts', 'hercules', 'foster home', 'power relations', 'deformed', 'al capone', 'irish american', 'womanizer', 'social status', 'brothers love same woman', 'backpack', 'catholic', 'invasion', 'bunk bed', 'cinematographer', 'british soldier', 'fake boyfriend', 'school principal', 'bathroom humor', 'looking for  birth parents', 'yoda', 'based on graphic novel', 'bromance', 'proposal', 'life changing', 'women', 'prison cell', 'salesclerk', 'seminary', 'grand ole opry', 'leprosy', 'shrinking', 'anger management', 'mystery', 'adopted child', 'banker', 'woman director', 'pacific theater', 'armageddon', 'saloon', 'adultery', 'dove', 'crawling hand', 'single mother', 'ex-wife', 'black and white and color', 'tech noir', 'hazmat suit', 'coot', 'religion', 'bed and breakfast place', 'mountaineer', 'money transfer', 'beauty', 'handicap sex', 'medieval india', 'lethal virus', 'shrew', 'axe in the head', 'automaton', 'clergy', 'englishman', 'genetic mutation', 'destroy', 'budapest', 'policeman', 'spanish', 'frost on a window', 'jet ski', 'games', 'human subjugation', 'torment', 'internment camp', 'graboids', 'mission control', 'new england', 'precocity', 'cellular phone trace', 'girl band', 'troll', 'hair', 'emotions', 'park', 'anthropologist', 'body armor', 'fish market', 'psychosis', 'flask', 'christian', 'suppressed past', \"students' movement\", 'monarchy', 'flesh eating plant', 'golden gate bridge', 'hollywood sign', 'alice in wonderland', 'blood bath', 'totalitarian regime', 'arrow', 'axe', 'oddball', 'sex surrogate', 'escape artist', 'pill', 'dreams', 'crown prince', 'pikey', 'sun glasses', 'oil company', 'sugar', 'spinner', 'playboy', 'race against time', 'farmhouse', 'duke', 'based on cartoon', 'caterer', 'journalist', 'exterminator', 'sponsor', 'alexander the great', 'gas attack', 'guadalcanal', 'partially lost film', 'robocop', 'red sox', 'cosmology', 'boxing trainer', 'submerged', 'plutonium', 'car jump', 'research', 'earthquake', 'alternate timeline', 'klingon', 'islamabad', 'amusement park', 'human nature', 'shake', 'microfilm', 'rogue agent', 'chariot', 'u.s. embassy', 'los angeles riots', 'disaster', 'chorus line', \"character's point of view camera shot\", 'skiing', 'racial issues', 'sense of life', 'saturday night live', 'parole', 'music store', 'bike messenger', 'ashes', 'imax', 'sword and sorcery', 'impregnation', 'world of fasion', 'elite', 'wisconsin', 'infant', 'dredd', 'trust', 'violinist', 'cossack', 'cairo', 'imperial japan', 'bankrupt', 'wedding vows', 'imprisoned', 'h. r. giger', 'mind uploading', 'prologue', 'new school', 'french', 'nerve gas', 'muslim', 'saving christmas', 'downfall', 'wiretap', 'embassy', 'hung upside down', 'possession', 'cabin in the woods', 'innocent', 'protective father', 'stalinism', 'cyrogenics', 'río 1', 'showboat', 'loss of mother', 'hoverboard', 'baseball player', 'maori', 'postman', 'highway', 'helicopter crash', 'sarcasm', 'mentor', 'supernova', 'tony stark', 'stick fighting', 'department of motor vehicles', 'long island', 'artial arts', 'civil registry office', 'anonymous letter', 'gulf war', 'shanghai', 'fbi director', 'trucker', 'arranged marriage', 'precocious child', 'ying yang', 'atheist', 'perversity', 'sea monster', 'rumpelstilzchen', 'wounded', 'mathematician', 'belching', 'sibling', 'pig mask', 'literary agent', 'mission clinic', 'killing', 'falklands war', 'central and south america', 'motorboat', 'best man', 'chinese woman', 'pirate ship', 'south africa', 'strong language', 'strip tease', 'cohabitant', 'valak', 'hobo', 'cut off jeans', 'harvard university', 'bartender', 'illegal immigrant', 'house search', 'dictator', 'porn industry', 'fugitive', 'free running', 'newlywed', 'contraception', 'pennsylvania', 'short term memory loss', 'childhood friends', 'back to school', 'miscegenation', 'student movie', 'building', 'lover (female)', 'card game', 'human cloning', 'flying saucer', 'magistrate', 'heroine', 'cavern', 'hit by truck', 'phasing', 'found footage', 'skid row', 'scotland', 'pipe smoking', 'coast guard', 'future war', 'attempt to escape', 'dominatrix', 'south america', 'gang member', 'business woman', 'southern france', 'religious cult', 'booby trap', 'trial', 'ancient greece', 'deputy sheriff', 'pygmalion', 'king arthur', 'lexington massachusetts', 'the color blue', 'language barrier', 'royalty', 'multiple storylines', 'skyscraper', 'wound', 'amateur radio', \"ladies' man\", 'transformers', 'cruise', 'parents and children', 'escort', 'levitation', 'religious art', 'genocide in rwanda', 'identity crisis', 'convent', 'alien parasites', 'brooklyn new york city', 'gun', 'body in chipper', 'autonomy', 'iraq war veteran', 'repair shop', 'pakistan', 'morning', 'addicted', 'make a match', 'supernatural powers', 'fear of commitment', 'young adult', 'manchuria', 'grandfather grandson relationship', 'eviction', 'apathy', 'murder hunt', 'hitchhiker', 'loss', 'statistics', 'beaver', 'confederate', 'fired', 'meta film', 'beretta', 'silencer', 'jacuzzi', 'the lone ranger', 'alarm clock', 'bullet', 'romantic drama', 'motherly love', 'ritual', 'acapella', 'invulnerability', 'despair', 'adversary', 'tgv', 'stock fraud', 'kryptonite', 'hermit', 'supernatural ability', 'gender', 'realism', 'sharpshooter', 'relativity', 'brass band', 'testing', 'palestine', 'self expression', 'law man', 'bounty hunter', 'brisbane queensland', 'heart-throb', 'jury tampering', 'luxury', 'messiah', 'baseball bat', 'love interest', 'entrapment', 'hockey mask', 'amazon jungle', 'storm', 'hitchhike', 'tricks', 'explosives expert', 'newspaper clipping', 'lovesick', 'poet', 'polar night', 'olympic athlete', 'nike', 'pen pals', 'israel', 'raid', 'seven years war', 'conjoined', 'nevada', 'vengeful ghost', 'facial scar', 'alcoholic', 'humanoid robot', 'library card', 'long distance relationship', 'mother ship', 'pipeline', 'jealous husband', 'lone wolf', 'monte carlo', 'rausschmeißer', 'launch code', 'female prime minister', 'pretty woman', 'swimsuit', 'gags', 'latin america', 'extreme violence', 'video store', 'female doctor', 'loss of sense of reality', 'fascism', 'gallery', 'snowing', 'meth lab', 'eyebrow', 'grandfather granddaughter relationship', 'tradition', 'society', 'union', 'reeducation camp', 'severed foot', 'stagecoach', 'sign', 'american spy', 'female vampire', 'police brutality', 'pill bottle', 'massachusetts', 'rivalry', 'arab', 'perfectionist', 'volkswagen beetle', 'reference to elvis presley', 'chancel', 'ice cream man \\xa0', 'individuality', 'peace contract', 'sexual favor', 'soviet union', 'war on drugs', 'torture porn', 'sister', 'drug smuggling', 'diving suit', 'flying upside down', 'chefin', 'venice', 'hotelier', 'rescue mission', 'toilet', 'social allegory', 'gay lead character', 'christmas parade', 'do over', 'sex-shop', 'gallery owner', 'club', 'beautiful', 'pact with the devil', 'robbery', 'physical deformity', 'stripper', 'tripping', 'organ transplant', 'bisexual', 'grandson', 'righteous rage', 'department store', 'bath tub', 'japanese food', 'adrenaline junkie', 'miniseries', 'lobotomy', 'golf course', 'pool table', 'indiana', 'brain tumor', 'underwater photography', 'stolen truck', 'george washington', 'king', 'documentary filmmaking', 'firearm', 'brontosaurus', 'martin luther king', 'falklands', 'fire', 'cheering', 'murder suspect', 'drug scene', 'piglet', 'denial', 'stigmata', 'uss enterprise-a', 'harley davidson', 'aunt nephew incest', \"alzheimer's disease\", 'demonic possession', 'killing spree', 'locked in trunk of car', 'moviemaking', 'real estate', 'motel', 'liana', 'bars and restaurants', 'video camera', 'yellow bikini', 'room key', 'money problems', 'exploitation', 'canoe', 'crawfish', \"driver's test\", 'loss of job', 'dead animal', 'ledge', 'jesus', 'guerrilla', 'school performance', 'existentialism', \"picking one's nose\", 'guttersnipe', 'gnomes', 'x-ray vision', 'live television', 'pest', 'charity', 'exploding building', 'tambourine', 'southern belle', 'hand to hand combat', 'job transfer', 'ersatz', 'musical segments', 'executive case', 'talk radio', 'talking', 'jocks', 'china town', 'laziness', 'bow and arrow', 'high school rivalry', 'alter ego', 'kuwait', 'growing up', 'animal lead', 'rura penthe', 'grapefruit', 'living dead', 'plot', 'bomb planting', 'vicodin', 'pushing a car', 'blood type', 'factory', 'small town murder', 'dream girl', 'child labour', 'nuclear waste', 'neon light', 'dam', 'staging', 'elephant', 'knight', 'laughter', 'velociraptor', 'fear', 'jedi training', 'portal', 'post it', 'electrocution', 'hurricane', 'fictional place', 'tempel', 'scandal', 'singing in a car', 'acid', 'bet', 'streaking', 'tzar', 'bootlegger', 'morality', 'malpractice', 'sheep', 'ride', 'theatre group', 'genetics', 'librarian', 'hostage-taking', 'escaped prisoner', 'singing false', 'wedding toast', 'mustang', 'film making', 'interpol', 'dinner', 'rehabilitation', 'disgust', 'havanna', 'magnet beam', 'penthouse apartment', 'bus ride', 'pep rally', 'new jersey', 'sponsorship', 'time portal', 'passport', 'model', 'television broadcast', 'bank', 'fiancée', 'stolen pet', 'pity', 'capitalism', 'blackface', 'firecracker', 'trap', 'sfx', 'chaos and mayham', 'minefield', 'talkie', 'beauty pageant', 'target', 'soccer ball', 'criminal lawyer', 'sculpture', 'piranha', 'rock and roll', 'blindness and impaired vision', 'violin player', 'yellow press', 'corporation', 'mistaken for a special education student', 'invasion of privacy', 'sport', 'f word', 'coward', 'blue footed booby', 'nurse', 'bowling ball', 'sadness', 'based on stage musical', 'beast', 'masochism', 'garfield', 'parole board', 'teen suicide', 'therapy', 'boardwalk', 'covert agency', 'antiquary', 'harpoon', 'wolf', 'cape town south africa', 'psychiatric', 'morgana', 'top secret', 'farewell', 'regent', 'trojan', 'crisis line', 'rocket', 'cutting face while shaving', 'performer', 'plato', 'unofficial remake', 'iron man', 'sexual humor', 'auto accident', 'chrysler building', 'triangle', 'post world war i', 'warrior woman', 'mouse', 'potty training', 'chief of police', 'puppy', 'lesbian', 'alien encounter', 'dance company', 'way of life', 'quarantine', 'macabre', 'pizzeria', 'mental institution', 'talking dog', 'country house', 'medical', 'rubble', 'social satire', 'child hero', 'sweatshop', 'camping', 'burial ground', 'gallop', 'getaway', 'dead cat', 'dynamite', 'galicia', 'bag of money', 'environment', 'experimental surgery', 'jewelry', 'bear', 'dog trainer', 'alien technology', 'polio', 'pot smoking', 'pacific war', 'overweight', 'corporate greed', 'amish', 'pity sex', 'fantasy sequence', 'weight lifting', 'black sabbath', 'underwater scene', 'blackout', 'the light brigade', 'blood splatter', 'lgbt', 'prostitute', 'jurors', 'cat and mouse', 'buddy film', 'near-death experience', 'female hero', 'homeless person', 'big brother', 'tween girl', 'terrorist plot', 'hate', 'brutality', 'miraculous event', 'beheading', 'stage', 'town in panic', 'identity', 'new love', 'barbarian', 'part animated', 'mountaineering', 'attraction', 'lab technician', 'hot tub', 'illegal immigration', 'mischievous children', 'chocolate', 'exchange student', 'cia', 'casters', 'sex', 'paraplegic', 'candelabra', 'bride and groom', 'south carolina', 'nihilism', 'superhuman', 'wedding', 'cashier', 'parents-in-law', 'giant  squid', 'split personality', 'shed', 'rural setting', 'law', 'melting ice', 'telekinesis', 'disc', 'paper knife', 'quebec', 'moon base', 'disembowelment', 'numbers', 'based on video game', 'environmental disaster', 'parking lot', 'mining', 'airplane hijack', 'reprimand', 'hanged man', 'downtrodden', 'chain', 'models', 'year', 'music', 'new york city', 'black american', 'assassin', 'john f. kennedy', 'gibberish', 'sweet sixteen', 'mashup', 'genocide', \"you've got red on you\", 'gospel', 'webcam', 'boring', 'transhumanism', 'wuxia', 'heart attack', 'pacific island', 'therapist', 'ankle holster', 'economy', 'newspaper editor', 'female prisoner', 'pogrom', 'irresistible', 'balloon', 'music competition', 'motorcycle gangs', 'pornography', 'cross country', 'swan lake', 'zagreb', 'flooding', 'teen spy', 'immortality', 'exploding car', 'substance abuse', 'planned murder', 'open air cinema', 'sigmund freud', 'minotaur', 'applause', 'greed', 'document', 'dagger', 'text messaging', 'gallipoli campaign', 'father murder', 'dead parents', 'locomotive', 'justin bieber', 'leech', 'philosophic conflict', 'scientific experiment', 'finances', 'gala', 'occult torture', 'giant wave', 'seven deadly sins', 'injury', 'kitten', 'summer vacation', 'triad', 'fetus', 'in flagranti', \"martha's vineyard\", 'moderator', 'seasickness', 'ex kgb', 'snack bar', 'lynching', 'battle of gettysburg', 'munition', 'witness to murder', 'jousting', 'garden shears', 'film industry', 'outcast', 'line drawing', 'jason voorhees', 'doomsday', 'alien queen', 'marriage problems', 'tweety bird', 'commando mission', 'shock in the end', 'atlantic city', 'exorcism', 'security camera', 'vegetarian', 'body exchange', 'snorkel', 'officer', 'damsel in distress', 'ring', 'temple', 'outlaw', 'bare knuckle boxing', 'middle-earth (tolkien)', 'ice age', 'archeological dig', 'marriage counselor', 'wheelchair', 'benito mussolini', 'card dealer', 'stealth aircraft', 'business ethics', 'obedience', 'cartoon skunk', 'torso cut in half', 'police academy', 'brooklyn bridge', 'funny nazi', 'twin brother', 'airship', 'fish', 'death row inmate', 'organized crime', 'pet cemetery', 'red hair', 'private investigator', 'henchmen', 'houston', 'jewel heist', 'persecution', 'military crime', 'palace intrigue', 'debauchery', 'bell', 'pre-code', 'good vs evil', 'iraq veteran', 'television repair', 'story', 'liberal', 'integration', 'grass', 'dirt road', 'habor', 'burnout', 'trainee', 'frankenstein', 'neighborhood watch', 'autocracy', 'kraken', \"boys' school\", 'praline', 'diary', \"family's daily life\", 'dual identity', 'savannah', 'illegal prostitution', 'whale oil', 'intellectual disability', 'maverick cop', 'titanic', 'police officer killed', 'maid of honor', 'child vampire', 'beagle', 'cello', 'infection', 'deadbeat dad', 'machismo', 'crucifixion', 'surveillance camera', 'freedom fighter', 'love story', 'disorder', 'baldness', 'obsession', 'conciliation', 'triplet', 'parakeet', 'yankee stadium bronx new york city', 'insurance salesman', 'firewall', 'hermes', 'crime gone awry', 'based on the bible', 'stormtrooper', 'worship', 'vengeance', 'boa constrictor', 'immaturity', 'auto', 'fencing', 'biological warfare', 'producer', 'drag racing', 'bisexuality', 'ponzi scheme', 'linguist', 'wall street', 'impersonation', 'fan club', 'street war', 'female yakuza', 'customs', 'based on adaptation', 'anonymity', 'promiscuity', 'subconsciousness', 'chinese painting', 'dancer', 'bank heist', 'composer', 'adolf hitler', 'electricity', 'elite club', 'pulitzer prize', 'postwar period', 'spinosaurus', 'world peace', 'spain', 'oil field', 'remote', 'social experiment', 'rocky mountains', 'guardian angel', 'animal lover', 'bad boss', 'toy story', 'muscle car', 'tourist', 'observatory', 'mysterious stranger', 'casual meeting', 'shaved head', 'election campaign', 'bomber', 'evil prince', 'tampa', 'amateur', 'bigotry', 'lgbt family', 'pet', 'pentagram', 'theatre audience', 'polynesia', 'medal of valor', 'anti matter', 'navy', 'cheating fiancée', 'brazil', 'fighter plane', 'penis', 'heist movie', 'amelia earhart', 'hunt', 'eastern europe', 'lousiana bayou', 'melancholy', 'logician', 'park bench', 'adaptation', 'somalia', 'unconsciousness', 'pretended suicide', 'lucky charm', 'motion capture', 'prairie', 'embezzlement', 'air traffic control', 'catch phrase', 'behind enemy lines', 'invisible', 'rock sta', 'poison', 'forced to kill', 'disillusionment', 'chaos', 'wealth differences', 'male camaraderie', 'profit', 'wrestler', 'roulette', 'underground lake', 'claim', 'reference to al green', 'god complex', 'underground fighting', 'east germany', 'cuban missile crisis', 'fast motion scene', \"devil's son\", 'land developer', 'internal affairs', 'adult humor', 'assignment', 'tramp', 'spiritualist', 'death row', 'millennium', 'ninjutsu', 'futuristic city', 'suicide bombing', 'industrial accident', 'radio presenter', 'framed for murder', 'milf', 'world domination', 'champagne', 'president', 'insane asylum', 'hangman', 'kindergarten', 'charisma', 'counselor', 'spongebob', 'heavy weight', 'tropical', 'salesperson', 'ex military', 'henry viii', 'computer virus', 'despicable', 'snob', 'desert thief', 'russian soldier', 'foreign', 'strugatsky', 'journey round the world', 'tang dynasty', 'geek', 'archer', 'mountain climbing', 'flop', 'mouth to mouth resuscitation', 'musical', 'viet cong', 'come back', 'desire', 'preparation', 'atlanta', 'consciousness', 'roach', 'secret lab', 'tantrum', 'superhero spoof', 'witness', 'montage', 'train wreck', 'romanian new wave', 'rage', 'monolith', 'irland', 'kronos', 'picture puzzle', 'psionic power', 'swinging 60s', 'satire', 'alien abduction', 'journey shown on map', 'time capsule', 'weevil', 'delinquent', 'manhattan, new york city', 'witch trial', 'floppy disk', 'rancher', \"st. valentine's day massacre\", 'buried alive', 'duty', 'hippopotamus', 'pottery', 'sandman', 'indiana jones spoof scene', 'pile of dead bodies', 'feral child', 'wedding day', 'high school sweetheart', 'lake placid new york', 'plastic surgery', 'nuclear radiation', 'reaper', 'eye patch', 'boarding school', 'deception', 'challenger', 'missing painting', 'same habits', 'lesbian relationship', 'columbine', 'vegetable', 'teenage life', 'blast', 'elopement', 'look-alike', 'boston garden', \"new year's day\", 'ninja fighter', 'madman', 'assumed identity', 'horniness agent', 'doomed man', 'callboy', 'girl fight', 'aerial combat', 'destruction of earth', 'vulkan', 'riches to rags', 'heir to the throne', 'cyber thriller', 'refugee', 'diet', 'dormitory', 'chief', 'pinocchio', 'little league', 'hit with a telephone', 'pool cleaner', 'lifeguard', 'eternal', 'twilight zone', 'story teller', 'pop', 'mysterious island', 'stamina', 'teenage rebellion', 'trapeze artist', 'nun in love', 'bickering', 'sleeping beauty', 'mercenary', 'cattle empire', 'hot air balloon', 'polaroid', 'business rivalry', 'allied', 'luck', 'niece', 'rock', 'balkan war', 'pretended murder', 'sect', 'man punching a woman', 'electrical torture', 'garden', 'sound barrier', 'scalp', 'design', 'music box', 'nicotine', 'death of daughter', 'britain', 'narcissist', 'fantasy', 'tarot cards', 'lenin', 'make believe', 'illness', 'jam', 'distant future', 'chain gang', 'shaving', 'coach', 'landslide', 'arena', 'poseidon', 'save the day', 'fabergé egg', 'nicaragua', 'loss of a child', 'broken neck', 'wookie', 'monopoly', 'party', 'breeding', 'magician', 'fairy-tale figure', 'syracuse university', 'nostalgia', 'life and death', 'drug trafficking', 'telepathy', 'jazz', 'restart', 'meerkat', 'pregnant minor', 'sexual freedom', 'poster', 'pelican', 'u.s. military', 'rango', 'world war iii', 'zombie', 'broken arm', 'dark', 'lottery', 'special forces', 'tv station', 'chorine', 'music video', 'murder of a police officer', 'cartoon chicken', 'military officer', 'plagiarism', 'precognition', 'fighter', 'class differences', 'rich woman - poor man', 'inuit', 'water', 'ambiguous ending', 'leg brace', 'steel helmet', 'colosseum', 'psychotic epileptic disorder', 'seismologist', 'ghost hunting', 'lost of friend', 'proto-slasher', 'apartment building', 'speed', 'trapped in an elevator', 'torturing', 'dinner party', 'bitch', 'vigilante', 'dysfunctional family', 'christmas party', 'sunset', 'youtube', 'gardener', 'woman drowned', 'blacksmith', 'solar system', 'walkie talkie', 'winner', 'molotow cocktail', 'spirituality', 'unplugged electronic works', 'near miss', 'paralysis', \"mother's day\", 'smuggler', 'entertainer', 'dance class', 'classic', \"child's point of view\", 'container', 'private detective', 'tour de france', 'news reporter', 'roof chase', 'grandmother', 'narcissistic personality disorder', 'extraterrestrial technology', 'baader-meinhof group', 'game of death', 'virgin', 'florida', 'shark', 'world cup', 'manatee', 'jedi master', 'testting', 'space race', 'botanist', 'car dealer', 'self surgery', 'hologram', 'anxiety', 'drums', 'dream', 'daughter', 'islington england', 'scar', 'fantasy world', 'cheat on husband', 'jumping from a rooftop', 'ex-con', 'seattle', 'drug', 'people change', 'woodstock', 'whistleblower', 'saturn v rocket', 'newswoman', 'treason', 'weekend', 'ghetto riot', 'deaf-mute', \"women's prison\", 'ghost town', 'emergency room', 'surfer', 'beer', 'morning prayer', 'british farce', 'gonzo journalist', 'translation', 'ikea', 'one against many', 'fishing boat', 'radio series', 'militia', 'life turned upside down', 'ragtime', 'based on comic strip', 'massacre', 'newsroom', 'fear of flying', 'spitting blood', 'diamond', 'upper class', 'slacker', 'george w. bush', 'cargo ship', 'exploding planet', 'catholic guilt', 'enchantress', 'tahiti', 'comic book', 'based on board game', 'bag over head', 'society ball', 'iguana', 'pub', 'arms dealer', 'ignorance', 'interracial marriage', 'theatrical backer', 'beirut', 'drug crime', 'real time', 'war zone', 'shot in the knee', 'strip', 'hugging', 'singing contest', 'navidad', 'burned alive', 'reference to the big bad wolf', 'reformer', 'mercifulness', 'storm at sea', 'taxes', 'ape', 'solidarity', 'liberation', 'hypodermic needle', 'loan officer', 'invisible woman', 'rock music', 'practical joke', 'movie in movie', 'cigarette', 'reality show', 'second', 'funeral', 'ancient rome', 'cult film', 'duplicity', 'live-reportage', 'female assassin', 'campus', 'constitutional convention', 'struggle for survival', 'journey', 'dancing class', 'family guy', 'call girl', 'marijuana joint', 'police chief', 'tidal wave', 'chile', 'multiple character', 'skateboarding', 'rural farm', 'forced', 'library of alexandria', 'new french extremism', 'evil mother', 'western roman empire', 'class', 'probation', \"homer's iliad\", 'police everyday life', 'war correspondent', 'ninja', 'boy', 'male female relationship', 'walking on piano keys', 'homophobia', 'prosecutor', 'hamburger', 'block party', 'different worlds', 'disfigured face', 'royal court', 'sex addict', 'chastity', 'pharmaceutical industry', 'illegitimate son', 'hamburg germany', 'honesty', 'jazz musician', 'teenage hero', 'mutilation', 'new age', 'orc', 'puke', 'hit and run', 'animation', 'movie reality crossover', 'apple tree', 'suicidal mission', 'jewish man', 'spiritism', 'mountain cabin', 'laboratory', 'attempted suicide', 'engagement', 'shovel', 'cartographer', 'power outage', 'receiving of stolen goods', 'bus station', 'world war ii', 'baseball stadium', 'fairy tale', 'don juan', 'school bus', 'passion', 'elmore leonard', 'sleeper agent', 'cons and scams', 'siblings relations', 'alabama', 'hobbit', 'corvette stingray', 'phone booth', 'arabian', 'nonviolent resistance', 'escapee convict', 'czech', 'equality', 'suitor', 'levee', 'cameos', 'missing wife', 'saudi arabia', 'woman between two men', 'thick accent', 'witness protection', 'teenage daughter', 'wrack', 'investigation', 'storem', 'secession', 'chorus girl', 'bankruptcy', 'waiting', 'radiation', 'tv duel', 'kansas', 'bipolar', 'child killer', 'cryptography', 'jazz age', 'giving birth', 'mekka', 'telegram', 'unprotected sex', 'special car', 'medicine', 'ghost train', 'homage', 'oregon', 'stoner', 'inhumanity', 'bad cop', 'brother-in-law', 'intelligence agent', 'sperm', 'insurgence', 'maya civilization', 'tycoon', 'villainess', 'utah', \"workers' quarter\", 'pipeworks', 'lingerie slip', 'beauty salon', 'english pub', 'metropolis', 'missing person', 'transvestite', 'water torture', 'nigeria', 'secretary', 'truck', 'commuter train', 'dead fish', 'government agent', 'racial segregation', 'clown makeup', 'coffee shop manager', 'indian tribe', 'family reunion', 'toscana', 'surrogate daughter', 'loose cannon', 'doppelganger', 'engineer', 'big爆任务', 'literature research', 'retrofuturism', 'albanian', 'battle of the isonzo', 'sports injury', 'car set on fire', 'sister-in-law', 'sushi bar', 'deserted town', 'retirement', 'femme fatale', 'relic', 'loss of family', 'puppet', 'teacher student relationship', 'loss of wife', 'laxative', 'moses', 'ancient evil', 'false history', 'self-referential', 'all girl band', 'injured animal', 'ex-boyfriend ex-girlfriend relationship', 'tennis', 'step sister', 'ski resort', 'dual role', 'mascot', 'amputee', 'blade', 'teeth', 'persian gulf', 'sex tape', 'bum', 'donkey', 'falling down stairs', 'man punches woman', 'indian burial ground', 'lgbt elderly', 'comic book shop', 'uncle', 'customs house', 'garbage', 'asian woman', 'bail jumper', 'singing', 'jedi', 'old town', 'war strategy', 'motown', 'endangered species', 'sausage', 'judaism', 'childhood sexual abuse', 'national guard', 'mall', 'borg', 'wall of fire', 'abduction', 'rose', 'capitulation', 'thuggee', 'racing', 'forest', 'drunkenness', 'potus', 'drag queen', 'child abuse', 'guitarist', 'psychiatrist', 'haitian gang', 'dating', 'leonardo da vinci', 'elementary school', 'warehouse', 'gatling gun', 'oath', 'reconciliation', 'dancehall hostess', 'odd couple', 'police department', 'safari', 'pandemic', 'estafa', 'telephone', 'credit card', 'first person shooter', 'mother role', 'delta force', 'superheroine', 'knife in hand', 'wedding anniversary', 'mountain', 'beautiful woman', 'motor', 'discipline', 'navy lieutenant', 'black and white to color', 'taxidermy', 'deputy', 'new york city twin towers', 'fox', 'sunlight', 'misogynist', 'superhero team', 'genius', 'trilogy', 'stroke of fate', 'northern france', 'tax evasion', 'saloon girl', 'army sergeant', 'island', 'misanthrope', 'lasers', 'risk', '卧底肥妈', 'backwards', 'pants', 'legend', 'boiler room', 'storm drain', 'haunted', 'sahara', 'indian territory', 'abolitionist', 'handicap', 'goblin', 'widerstand', 'dolly zoom', 'exposé', 'riot', 'trapped in space', 'watergate', 'swastika tattoo', 'vote', 'cataclysm', 'wrestling', 'bank robber', 'exchange', 'steam room', 'fitness-studio', 'book', 'investigator', 'driving range', 'supervisor', 'basketball court', 'middle age', 'little boy', 'memory', 'breaking mirror', 'curfew', 'sierra leone', 'headache', 'middle aged woman', 'broken ankle', 'chosen one', 'stress', 'ethnic stereotype', 'swat', 'crossword puzzle', 'great white shark', 'nazi occupation', 'high school reunion', 'istanbul', 'ark of the covenant', 'biting', 'psychoterror', 'internet', 'castle', 'area 51', 'neighbor neighbor relationship', 'kennedy assassination', 'boy genius', 'schizophrenic', 'rock star', 'old woman', \"driver's license\", 'conscientious objector', 'best friends in love', 'cuban refugees', 'budweiser', 'television', 'stallion', 'ghost child', 'slum', 'intern', '3d', 'slave trade', 'drowning', 'year 2002', \"love of one's life\", 'self sacrifice', 'three kings', 'over the top', 'white trash', 'yogi', 'social worker', 'joint chiefs of staff', 'beguilement', 'military dress uniform', 'loincloth', 'giant crocodile', 'uss reliant', 'prime number', 'arachnophobia', 'hansel and gretel', 'debt', 'jurassic park', 'norad', 'chewing gum', 'toy', 'prohibition', 'police fake', 'impalement', 'child uses gun', 'post nuclear', 'eating brains', 'threat', 'gene manipulation', 'smart kid', 'confederate soldier', 'snooping', 'united kingdom', 'soaked clothes', 'criminal profile', 'giant monster', 'evil queen', 'alaska', 'tattoo', 'secret service agent', 'retired', 'juvenile delinquent', 'treasury agent', 'concentration camp prisoner', 'hikers', 'cybernetics', 'captivity', 'muscles', 'fish out of water', 'russian spy', 'snowboarding', 'convict', 'cheating', 'barbecue', 'political leader', 'nudism', 'skinned alive', 'tall ship', 'chimpanzee', 'teenage sexuality', 'business man', 'male nanny', 'ambassador', 'structure', 'sultriness', 'grandparents', 'white collar criminal', 'poem', 'urination', 'dillinger', 'father son conflict', 'exorcist', 'wallace & gromit', 'fellatio', 'fire engine', 'beer pong', 'pokies', 'basic rights and human rights', 'liberty half dollar', 'boogeyman', 'primal fear', 'climate change', 'madrid', 'criminal underworld', 'violence against women', 'karma', 'fictitious marriage', 'real estate development', 'advice', 'prank gone wrong', 'duchess', 'secret identity', 'ballet', 'russian revolution 1917', 'apollo program', 'prehistoric egg', 'pharaoh', 'forensic', 'insurance risk manager', 'to drop brick', 'dancing', 'stairs', 'nuclear', 'new mexican cinema', 'great soundtrack', 'skinny dipping', 'looting', 'glue', 'set in one room', 'paleontology', 'bureaucracy', 'pope', \"shakespeare's romeo and juliet\", 'archeology\\xa0', 'training', 'magnetic field', 'american dream', 'diaper', 'press conference', 'esther', 'junk food', 'lancaster, pa', 'canadian', 'personality disorder', 'veterinary', 'stable', 'guns', 'blind tutor', 'elderly', 'pharmaceutical lab', 'poetry', 'dark secrets', 'confession booth', 'feminist', 'tuberculosis', 'ares', 'nypd', 'good deed', 'sadomasochism', 'facebook', 'squall', 'lieutenant general', 'smurf', 'psychiatric hospital', 'poverty', 'furry', 'animal experimentation', 'rooftop', 'biker', 'bullet dodging', 'working in the nude', 'shoe', 'bangkok', 'punk band', 'cheating wife', 'defence', 'uss john paul jones', 'mumblecore', 'workaholic', 'lady diana spencer', 'bayonet', 'inmate', 'red cap', 'cruise liner', 'chihuahua', 'mutation', 'ostrich', 'dying', 'single', 'sergeant', 'african', 'christmas horror', 'patriot', 'interracial relationship', 'tree house', 'estranged family member', 'japanese army', 'xanax', 'mob', 'title of nobility', 'motorcycle crash', 'hunger', 'pot', 'palestinian', 'healing gift', 'screwball', 'dystopic future', 'gigantic hand', 'humiliation', 'astronomer', 'shopping', 'warrior', 'deep space explorer', 'apprentice', 'geronimo', 'oasis', 'contest', 'shotgun', 'guru', 'jackass', 'biracial', 'bruce wayne', 'convicted felon', 'engaged', 'infra red', 'malaysia', 'sense of guilt', 'evil witch', 'pregnant wife', 'catacombs', 'audition', 'science', 'machine gun', 'kkk', 'parkour', 'margaret thatcher', 'organ', 'child witch', 'panda', 'normandy', 'daydream', 'music band', 'dementia', 'night vision', 'heir', 'young entrepreneur', 'girl disguised as boy', 'mississippi', 'irish-american', 'ventriloquist dummy', 'room exchange', 'sanatorium', 'fling', 'competition', 'slow motion scene', 'groupthink', 'multiple dimensions', 'hockey game', 'best friend', 'caste system', 'vaccine', 'harrassment', 'princess', 'men', 'sock on the jaw', 'slumber party', 'salem', 'kenia', 'perfume', 'white dove', 'rebellion', 'super speed', 'enforcer', 'crying woman', 'safe deposit box', 'caper comedy', 'based on true story', 'semiautomatic pistol', 'taxi driver', 'drug cartel', 'bird', 'fictional tv show', 'gadfly', 'business trip', 'friends', 'rope', 'karaoke', 'affection', 'remorse', 'disturbed child', 'gossip', 'bullet wound', 'rescue', 'allegory', 'antarctic', 'publicist', 'magical creature', 'super-8', 'downworlder', 'homosexuality', 'spanner', 'figure skating', 'climbing up a wall', 'critically bashed', 'brain', 'woman reporter', 'girl dog relationship', 'underworld', 'rocket launcher', 'the saint', 'head blown off', 'wounded soldier', 'master', 'british sailor', 'car race', 'tv ratings', 'baroness', 'laptop computer', 'superpower', 'tracking device', 'retelling', 'waterfall', 'off season', 'lightning bolt', 'concert tour', 'reality spoof', 'overboard', 'saber-toothed tiger', 'juvenile prison', 'obsessive love', 'spelling bee', 'devastation', 'ibiza', 'provocation', 'german shepherd', 'twister', 'rude', 'reality', 'gang', 'video phone', 'arsonist', 'domestic violence', 'wintry', 'gun rampage', 'rube', 'thailand', 'unsociability', 'blender', 'dead father', 'clumsy fellow', 'simulation', 'promiscuous mother', 'filmmaking', 'space centre', 'snoopy', 'appearance', 'mythical creature', 'hollywoodland', 'high stakes', 'assault rifle', '2000 ad', 'psychosomatic illness', 'cannibal', 'publisher', 'ski', 'ouija', 'social outcast', 'futuristic', 'rookie', 'big family', 'kindness', 'fingers', 'political corruption', 'american football stadium', 'rough sex', 'homework', 'caving', 'intelligence agency', 'cash', 'no opening credits', 'asthma', 'crime lord', 'head coach', 'karakoram', 'disembodied head', 'multiple felonies', 'jakarta indonesia', 'lava', 'amazon rainforest', 'guitar', 'idealist', 'country club', 'costume', 'oakland', 'learning', 'polar bear', 'central park', 'walrus', 'dutch eastindian company', 'western', 'fiancé', 'cult classic', 'horse race', 'jungle girl', 'parts of dead body', 'patriarchy', 'patient', 'grave digger', 'strategy', 'trail of blood', 'blackjack', 'modern society', 'artificial intelligence', 'trust fund baby', 'falling in love', 'san andreas', 'sandwich', 'intergalactic travel', 'barcelona spain', 'wall', 'analyst', 'speed of light', 'islam', 'missing body', 'pharmacy', 'ex-husband ex-wife relationship', 'heist', 'bronko nagurski', 'bruce banner', 'marry rich', 'alley', 'bisexual man', 'gas station', 'reference to prince valiant', 'interrogation', 'prank', 'opera', 'sloth', 'evil plot', 'fistfight', 'criticism', 'vienna', 'toy maker', 'hijack', 'jack the ripper', 'secret headquarters', 'savant', 'hiding in a garbage container', 'injection', 'zeppelin', 'intellectual property', 'gory violence', 'horror movie remade', 'sniper rifle', 'heresy', 'fake identity', 'priest', 'poacher', 'carefree', 'shackles', 'resurrection', 'eccentric', 'moral conflict', 'anchorage alaska', 'cowboy costume', 'man in wheelchair', 'foot chase', 'claustrophobia', 'still', 'hijacking', 'dowager', 'cowardice', 'mandolin', 'help', 'alberta canada', 'pigeon', 'chapter', 'regency period', 'european', 'carousel ', 'montreal', 'early sound film', 'calypso', 'apocalypse', 'national security', 'seismograph', 'intelligence', 'dance club', 'sidekick', 'riverboat', 'person running amok', 'the white house', 'film director', '\\xa0strange noise', 'bullfrog', 'dark future', 'medical research', 'ginger', 'comb over', 'cockroach', 'bank manager', 'kato', 'casa encantada', 'city hall', 'spaceman', 'misinformation', 'depressed mom', 'suicide by gunshot', 'night of the living dead', 'spiral staircase', 'masquerade', \"leaving one's family\", 'interrupted vacation', 'damage', 'trainer', 'trapped underwater\\xa0', 'palace', 'parade', 'film crew', 'anti hero', 'date', 'childbirth', 'judo throw', 'human brain', 'wrong number', 'diplomat', 'basketball team', 'tightrope', 'schizophrenia', 'religion and supernatural', 'leopard', 'pickpocket', 'buddy', 'vineyard', 'computer hacker', 'the muppets', 'tribunal', 'mass murder', 'cross cultural relationship', 'pacifism', 'sword fight', 'funky music', 'school party', 'mountain lake', '2nd century', 'sadist', 'post world war ii', 'jamestown virginia', 'pedophile', 'mayan', 'mortgage', 'gas', 'alien life-form', 'origins of life', 'housemaid', 'show must go on', 'innkeeper', 'los angeles', 'space opera', 'robot fighting', 'runaway', 'afterlife', 'craftsman', 'shot through a door', 'mysterious letter', 'dutch', 'cheese', 'phone', 'oxygen tank', 'theft', 'races', 'oil tycoon', 'prom queen', 'fictionalized biography', 'mortal danger', 'parachute', 'birth mother', 'epic', 'johannesburg', 'secret service', 'fanatic', 'bar brawl', 'low self esteem', 'beehive', 'caller id', 'renegade', 'fitness-training', 'drifter', 'animal killing', 'car bomb', 'jihad', 'pittsburgh steelers', 'glamour', 'spider general', 'tower block', 'flying boat', 'court', 'shot in the face', 'corpse', 'instinct', 'wild bill hickok', 'leap in time', 'medallion', 'toy shop', 'eco-terrorists', 'lye', 'urban life', 'secret agent', 'colorado', 'arthouse', 'self-fulfilling prophecy', 'excavation', 'natural gas', 'learning to drive', 'native american', 'orchestra', 'nobel prize', 'groupie', 'war machine', 'campfire story', 'man-woman relation', 'tyrant', 'talent contest', 'illegal drug', 'steampunk', 'noise complaint', 'loss of husband', 'unfaithful boyfriend', 'russia', 'american football', 'dna', 'fear of unknown', 'based on article', 'gobi desert', 'breaking finger', 'new toy', 'wristwatch', 'sterility', 'animated map', 'vigil', 'flogging', 'prizefighting', 'personification of satan', 'animal in cast credits', 'great barrier reef', 'message', 'biological weapon', 'sondheim', 'archive footage', 'plowing', 'treasure hunt', 'reunited friends', 'contraband', 'necrophilia', 'swimming underwater', 'bittersweet', 'passage of time', 'danube', 'super strength', 'run', 'phantom zone', 'tarmac', 'breaking the fourth wall', 'ontario canada', 'pinhead', 'teenager', 'slevin', 'seduction', 'ghost rider', 'langley virginia', 'law enforcement', 'parents', 'narration from grave', 'landfill', 'hospital bed', 'costume designer', 'herion', 'series of murders', 'sword', 'arrest', 'locksmith', 'circus', 'tv studio', 'foreign legion', 'urban setting', 'electric shock', 'modeling', 'man change', 'endorsement', 'trance', 'federal reserve bank', 'death of husband', 'reincarnation', 'female writer', 'caretaker', 'nuclear weapons', 'coastline', 'loan', 'unlikely lovers', 'playing pool', 'nuremberg trials', 'impostor', 'intolerance', 'pageant', 'outsider', 'baltimore', 'cenobites', 'animated sequence', 'cow', 'monastery', 'worker', 'severed toe', 'anthropomorphism', 'tree', 'fighter jet', 'music tour', 'disobey', 'reality tv', 'story within the story', 'fatal attraction', 'road trip', 'prisoner', 'image campaign', 'france', 'young love', 'skinheads', 'blonde', 'underdog', 'peace', 'sorcery', 'detroit michigan', 'theodore roosevelt', 'attempted jailbreak', 'red dress', 'opec', 'car crash', 'scary', 'shamanism', 'red', 'gas chamber', 'judo', 'mongrel', 'revivalism', 'lobby', 'cartoon', 'incompetence', 'paleontologist', 'horse track', 'evil circus', 'attachment to nature', 'north pole', 'quantum mechanics', 'male nudity', 'father-in-law', 'ram', 'italian army', 'accident', 'capitalist', 'marriage', 'operative', 'aerobics', 'alarm', 'criminal', 'playing god', 'becoming an adult', 'elephant trainer', 'rock band', 'inept assistant', 'child smoking', 'editor-in-chief', 'military spoof', 'spleen', 'radioactive', 'austria', 'prediction', 'sex addiction', 'biological experiment', 'action hero', 'disfigurement', 'skype', 'deceived husband', 'meeting', 'creature', 'artificial insemination', 'western u.s.', 'navy seal', 'pop star', 'leatherface', 'pop music', 'beauty queen contest', 'anti terror', 'plantation', 'london england', 'twin sister', 'anne frank', 'art thief', 'killed in an elevator', 'cat lady', 'pretending to be rich', 'disarmament', 'empathy', 'wolf whistle', 'time machine', 'coffee grower', 'human', 'transylvania', 'military service', 'nervous breakdown', 'guilt', 'hope', 'flower girl', 'refused services', 'bail', 'catholicism', 'albino', 'surrogate mother', 'ailul al aswad', 'stolen money', 'undercover', 'espionage', 'tea', 'surgery', 'gun battle', 'denver', 'western spoof', 'philosopher', 'double life', 'wildlife conservation', 'killer shark', 'hunter', 'hostility', 'cannibals', 'lost love', 'berlin wall', 'tragedy', 'intestines', 'evil genius', \"mcdonald's restaurant\", 'intimidation by police', 'megacity', 'emancipation', 'graveyard', 'arrested development', 'cybercrime', 'tantra', 'secret hideout', 'roses', 'tabloid', 'rural ireland', 'witchcraft', 'snail', 'racer', 'fairy godmother', 'money laundering', 'rhinoceros', 'phantom jam', 'pyramid', 'bonfire', '1950s', 'terrier', 'phobia', 'crematorium', 'family dinner', 'pistol whip', 'mutiny', 'oil', 'jewel robbery', 'ransom', 'music style', 'royal family', 'sucked into jet engine', 'romantic comedy', 'shortage of money', 'commando unit', 'psychiatric ward', 'future', 'space marine', 'transience', 'shakespeare', 'hit with a chair', 'campsite', 'lawsuit', 'moving in', 'survivalist', 'film history', 'death star', 'chimp', 'paranoid', 'doves', \"noah's ark\", 'exile', 'russian', 'spacecraft officer', 'sexual exploration', 'girl', 'switzerland', 'cattle drive', 'public urination', 'episode film', 'support group', 'old man', 'free love', 'race against the clock', 'youth center', 'duel', 'lightning', 'civil rights activist', 'giant worm', 'gothic', 'death of wife', 'government conspiracy', 'psychotronic', 'game', 'intelligence test', 'nuclear device', 'presidential election', 'video nasty', 'alternative', 'ceremony', 'wolf pack', 'psychotherapist', 'expectant father', 'allergy', 'confidence game', 'mars', 'stand-up comedian', 'corrupt cop', 'shot', 'parent-child bond', 'pregnancy', 'rag doll', 'estranged father', 'black ops', 'pentagon', 'animal protection', 'district attorney', 'battle of the sexes', 'lordship', 'daddys home', 'rowboat', 'cousin', 'mass grave', 'wrong accusal', 'festival', 'implanted memory', 'alienation', 'comrade', 'communist', 'polynésie française', 'mad scientist', 'proof', 'step mother', 'anger issues', 'trauma', 'welder', 'oven', 'nun', 'dulles international airport', 'record collection', 'sadistic', 'shared universe', 'tepes', 'right hand man', 'missing child', 'post-apocalyptic', 'prawn', 'race', 'ironing money', 'jail cell', 'high school teacher', 'climbing a tree', 'sale of soul', 'typhus', 'missing daughter', 'national socialist party', 'maniac', 'musical number', 'seoul south korea', 'keith mallory', 'prince albert', 'refrigerator', '15th century', 'family dog', 'library', 'stenographer', 'total destruction', 'right wing', 'porcupine', 'off screen rape', 'pension', 'homepage', 'peace offering', 'motorcyclist', 'divorced parents', 'mentor protégé relationship', 'drill instructor', 'volunteer', 'war victim', 'restaurant critic', 'athlete', 'diabetic', 'repayment', 'corporatism', 'honor', 'mayoral campaign', 'paternity', 'american  way of life', 'panic', 'self-abandonment', 'ocean liner', 'defrost', '\\xa0', 'power plant', 'space pirate', 'safe', 'in-laws', 'showdown', 'charles vii.', 'house on fire', 'tank', 'big corporation', 'revenge killing', 'expensive restaurant', 'baseball card', 'trapped', 'terror cell', 'mine shaft', 'wrecker', 'liberation of prisoners', 'blood spurting', 'felon', 'voice over', 'detective inspector', 'prison guard', 'professional sports', 'mammoth', 'impossible love', 'middle america', 'sombrero', 'writer', 'cambridge', 'perseus', 'mountains', 'minnesota', 'truce', 'wedding planer', 'red curtain', 'deposition', 'crime novelist', 'symbologist', 'self-awareness', 'psychological stress', 'berlin', 'senator', 'gender identity', 'motorcycle chase', 'cauterizing a wound', 'unfinished film', 'peru', 'roller skates', 'resistance', 'supermarket', 'horror spoof', 'double agent', 'fan', 'culture clash', 'tv morning show', 'walking', 'probation assistant ', 'sociopath', 'paradox', 'venezia', 'agent', 'mfs', 'american football player', 'woman', 'squirrel', 'expectant grandmother', 'pirate', 'banishment', \"women's sexual identity\", 'floating in the air', 'wind chime', 'reading a book', 'torture chamber', 'marvel cinematic universe', 'tarzan', 'psycho', 'indigenous', 'bomb', 'aggressive', 'mansion', 'gladiator fight', 'suburb', 'charles dickens', 'mail order bride', 'master and servant', 'korea', 'woman with glasses', 'child labor', 'vienna austria', 'crush', 'evil doll', 'splits', 'lager', 'waitress', 'love sickness', 'public humiliation', 'photograph', 'mysticism', 'vulgar', 'construction worker', 'female mercenary', 'personification', 'money', 'optimism', 'half vampire', 'therapist patient relationship', 'weightlifting', 'government corruption', 'shaolin', 'u.s. army', 'filmed killing', 'daily life', 'napalm', 'warp engine', 'labyrinth', 'step brother', 'strategic air command', 'rodeo', 'labor pain', 'lab experiment', 'communism', 'old couple', 'suffocation', 'masked man', 'car wash', 'realtor', 'weed+', 'farm life', 'ultimate frisbee', 'old friends', 'superhero', 'hindu', 'china', 'bridesmaid', 'methamphetamine', 'rugby', 'glue sniffing', 'health care', 'jet lag', 'record company', 'black female judge', 'secret plot', 'fisherman', 'ultimate victory', 'admiration', 'online hookup', 'mexican american border', 'skinhead', 'era', 'nuclear war', 'armed robbery', 'crisis of conscience', 'weasel', 'testicles', 'boat accident', 'nightmare', 'depth charge', 'merchant marine', 'american', 'barrio', 'drilling', 'corps', 'headline', 'training camp', 'pardon', 'time bomb', 'nordic mythology', 'space station', 'hiking', 'bisexual woman', 'sports agent', 'chain of command', 'sexology', 'teenage girl', 'cheerleading', 'cyberpunk', 'laid off', 'house', 'website', 'mother daughter estrangement', 'war on terror', 'canon', 'hook', 'workplace romance', 'stunts', 'ham radio', 'malnutrition', 'chicken', 'sci-fi thriller', 'complication', 'student of medicine', 'periscope', 'street gang', 'disfigurement mask', 'teenage crush', 'mistaken parentage', 'turbulence', 'lolita', 'destruction of planet', 'labor strike', 'escaped convict', 'psychotic fan', 'berkeley', 'moving', 'hotel clerk', 'homeland', 'art gallery', 'romulans', 'economics', 'dancing scene', 'melting ice caps', 'cold turkey', 'fraternity', 'bombing', 'separation from family', 'humanitarian', 'drug trade', 'night', 'recruit', 'bad luck', 'sleep', 'arizona', 'profanity', 'clock', 'death of superhero', 'business start-up', 'cat', 'soho london', 'catwoman', 'miami', 'biplane', 'campaign speech', 'water monster', 'chinatown', 'starfleet', 'crime family', 'wild girl', 'dead', 'holiday', 'cops', 'book comes to life', 'stairway', 'amateur soccer', 'dead brother', 'gold miner', 'guantánamo', 'evil dictator', 'core melt', 'ex-lover', 'conservative', 'destruction of a civilization', 'homeschooling', 'buenos aires', 'champion', 'black market', 'bunny', 'human cannonball', 'piggy bank', 'anti war', 'stich', 'hollywood', 'kids and family', 'mental illness', 'physicist', 'landscape architect', 'studio tour', 'friendship bracelet', 'doctor', 'female boss', 'mass media', 'cheering crowd', 'tricycle', 'twins', 'sled dogs', 'miracle', 'blueprint', 'revolutionary', 'fire chief', 'sword duel', 'exploitation film', 'aunt nephew relationship', 'biscuit', 'artist', 'polish resistance', 'fighting', 'broadway', 'hatred', 'orgy', 'hemingway', 'tough cop', 'hostile takeover', 'gay sex', 'expecting twins', 'vulcan', 'freemason', 'spider', 'street life', 'ireland', 'premarital sex', 'emergency landing', 'israeli', 'ferris wheel', 'children education', 'lawn mower', 'autopilot', 'deserted by husband', 'outsourcing', 'record player', 'dragonheart', 'vacuum', 'condom', 'travelling circus', 'cleaning bathroom tile', 'child prodigy', 'cyclops', 'lie', 'anniversary', 'satanist', 'cartoon reality crossover', 'orient express', 'apparition', 'aristocrat', 'reality vs fantasy', 'basement', 'marijuana', 'sun', 'rich parents', 'duet', 'internet chat', 'bar', 'sylvester the cat', 'letter from home', 'blue', 'narcism', 'sphinx', 'super powers', 'fur', 'm.i.t.', 'faked footage', 'painting toenails', 'isolation', 'politically incorrect', 'cannabis', 'emotional abuse', 'bullet time', 'climbing', 'psychotic', 'thief', 'woman crying', 'escape from prison', 'lorry', 'electric fence', 'settler', 'mic stand', 'cgi', 'asia', 'hang gliding', 'blizzard', 'visa', 'power of goodness', 'speedy gonzales', 'revenge', 'chapel', 'origin', 'cocaine', 'detox', 'puritan', 'ancient', 'syphillis', 'intimate', 'record producer', 'prison rape', 'music rehearsal', 'glaciale', 'though guy', 'pressure', 'career', 'cultural conflict', 'urn', 'russian orthodox church', 'sepia color', 'relationship', 'new york subway', 'badger', 'heart transplant', 'firing range', 'hamster', 'cage', 'changing the past or future', 'kingdom', 'terrarium', 'straw hat', 'folk hero', 'face transplant', 'normandy beach', 'lovesickness', 'child', 'rage and hate', 'intimidation', 'march', 'prostitution', 'collector', 'jesuit', 'rabbi', 'stealing', 'ocean floor', 'soccer coach', 'boy gang', 'small town thieves', 'alliance', 'pantyhose', 'talking to the camera', 'drink', 'desperation', 'rollerblade', 'martian', 'password', 'nude man murdered', 'explosives', 'queen', 'alien space craft', 'lsd', 'school', 'theatre play', 'pistol', 'visual effect', 'gong', 'ship', 'adoptive mother', 'child murderer', 'job seeking', 'cannibalism', 'one man army', 'queen victoria', 'midnight movie', 'jumping rope', 'hit man', 'high school', 'another dimension', 'missing girl', 'prototype', 'broken lizard', 'nature documentary', 'prey', 'offer', 'kickass', 'idiot', 'sleepwalking', 'monk', 'baustelle', 'dirty tricks', 'handkerchief', 'based on true events', 'mona lisa', 'reanimated corpse', 'georgian', 'gangster boss', 'film business', 'job-hopping', 'swearing', 'idealism', 'text message', 'mill', 'based on tv series', 'georgia', 'kamikaze', 'cheating husband', 'lasagne', 'slasher', 'confession of crime', 'toxic', 'wine garden', 'poisoning', 'rape', 'smart blonde', 'exotic dancer', 'hungarian', 'sin eater', 'installer', 'medical drama', 'changing history', 'river', 'mountain climber', 'socialite', 'sponge', 'bully', 'lost', 'naked scene', '1910s', 'fraternity house', 'hong kong', 'political campaign', 'planning', 'new baby', 'menage a trois', 'cave', 'chinese civil war', 'typewriter', 'driving school', '1990s', 'partner', 'bathtub', 'shot in the shoulder', 'film noir', 'staatsanwältin', 'waterfront', 'youth', 'in vitro fertilisation', 'father figure', 'mafia boss', 'michigan', 'innuendo', 'sinking ship', 'east berlin', 'grieving widower', 'playing piano', 'foreshadowing', 'taskmaster', 'mounted animal head', 'sibling rivalry', 'relatives', 'straight razor', 'woman fights man', 'west virginia', 'transamerica pyramid', 'hostage', 'united states–mexico barrier', 'bar fight', 'lucid dreaming', 'faith', 'military base', 'spider bite', 'graduation', 'sword and planet', 'public relations', 'century', 'hyena', 'capsized ship', 'punched in the face', 'truck hijacking', 'strangulation', 'gambling debts', 'bitten on the arm', 'starlet', 'soul', 'bad smell', 'jaguar', 'publishing', 'hit', 'southeast asia', 'jack of spades', 'night creatures', 'flag', 'hybrid', 'all girl', 'financial crisis', 'remake of japanese film', 'car movie', 'computer screen', 'transport', 'negligent homicide', 'gypsies', 'midwife', 'witch hunt', 'minions', 'education', 'times square', 'heart disease', 'older woman younger man relationship', 'lost mother', 'wedding night', 'new zealand', 'unicorn', 'freak', 'vehicle combat', 'flash mob', 'fairies', 'dealing with the past', 'psychic power', 'shoe store', 'migraine', 'pervertion', 'light bulb', 'swimming pool', 'true', 'ejection seat', 'man man relationship', 'greek island', 'mental health', 'mexico', 'crane', 'exotic island', 'reference to mutt and jeff', 'vanishing figure', 'vernissage', 'body count', 'alien teenager', 'griffon', 'genie', 'mustache', 'organ donation', 'highlands', 'overweight man', 'u boat', 'scarred face', 'slime', 'daytona', 'prehistoric', 'fortune teller', 'criminal mastermind', 'off track betting', 'horses', 'secret location', 'cannon', 'cross dressing', 'robin hood', 'jumping off a bridge', 'tropical island', 'culture', 'secret government organization', 'first class', 'motorcycle', 'volleyball', 'allied forces', 'stringer', 'baja california', 'indonesia', 'london underground', 'bikini', 'kicked in the groin', 'spying', 'self-discovery', 'attempted murder', 'finger gun', 'norse mythology', 'volcanologist', 'rich man', 'climate', 'vlad', 'caddy', 'doing the right thing', 'rape of a male', 'decapitation', 'saving the world', 'search for meaning', 'troops', 'whistle', 'family curse', 'gay couple', 'multiple personality', 'political prisoner', 'finger', 'defecation', 'rio de janeiro', 'honkytonk', 'suicidal thoughts', 'dark horse comics', \"children's book\", 'metaphysics', 'invasive species', 'protector', 'hypertrichosis', 'resort hotel', 'police psychologist', 'love affair', 'waffen ss', 'xenomorph', 'hallucination', 'stampede', 'antigen', 'antisocial personality disorder', 'angel', 'movie star', 'historical', 'wedding reception', 'gang rape', 'suspension', 'evacuation', 'prophecy', 'hinduism', 'bomb explosion', 'boy scouts', 'epistaxis', 'countryside', 'space battle', 'blues', 'horse racing', 'airplane crash', 'aspen colorado', 'osha', 'medieval', 'missed opportunity', 'space mission', 'fate', 'wooden eye', 'magic realism', 'lemur', 'u.s. marine', 'winston churchill', 'radio transmission', 'cathedral', 'externally controlled action', 'millionaire', 'successor', 'elf', 'prison escape', 'pitbull', 'pendulum', 'low tide', 'bible', 'tap dancing', 'purgatory', 'judge', 'paranormal activity', 'floating ice', 'paranoia', 'journey in the past', 'colonel', 'child bride', 'gi', 'gang leader', \"valentine's day\", 'bush whacker', 'verbal abuse', 'politician', 'essex', 'fast cars', 'octogenarian', 'body possession', 'runner', 'roller derby', 'publicity', 'heavy metal', 'toronto', 'brothel', 'refugee camp', 'bat', 'mysterious events', 'destruction  of mankind', 'georgia europe', 'fox news', 'michael jackson', 'midnight', 'market', 'sorority party', 'surreal', 'feel good', 'malibu', 'mighty mo', 'eyes', 'hell', 'zurich', 'falling down a hill', 'male model', 'ascot', 'burglary', 'haunted by the past', 'wild boar', 'wrongful imprisonment', 'crime fighter', 'dog shelter', 'pay phone', 'knife fight', 'paralympics', 'u.s. navy', 'love', 'divorce', 'driving through a wall', 'mystery killer', 'mysterious past', 'burning', 'crusader', 'gang of thieves', 'beggar', 'tragic villain', 'naval combat', 'taboo', 'unemployed actor', 'submachine gun', 'selma', 'brother sister relationship', 'heroic mission', 'deportation', 'mourning', 'wine', 'traffic jam', 'parody', 'blood', 'covert operation', 'raised middle finger', 'space suit', 'prison matron', 'money bag', 'unrequited love', 'beanstalk', 'role reversal', 'frontier town', 'awkwardness', 'danger', 'mass destruction', 'caribbean', 'bakery', 'railroad', 'giant snake', 'chinese military', 'harvard business school', 'child rape', 'adolescence', 'sadism', 'charlatan', 'civilization', 'burglar', 'tennessee', 'trashed house', 'black and white', 'kung fu master', 'corpse in coffin', 'briefs', 'riding a bicycle', 'buffalo', 'collision course', 'fountain', 'dead soldier', 'internet dating', 'teen sex comedy', 'neo-nazi', 'slave', 'cemetery', 'parenting', 'clown', 'mechanical engineering', 'playground', 'edgar rice burroughs', 'dwarves', 'candle', 'plo', 'adoption', 'betrayal', 'stay permit', 'smoking marijuana', 'padlock', 'rag tag group', 'stadium', 'monsoon', 'repairman', 'astronaut', 'online gaming', 'angel costume', 'brother against brother', 'owl', 'housewife', 'national park', 'stealing money', 'scarecrow', 'wildlife reserve', 'cyber terrorist', 'marquee', 'politics', 'bong', 'diction coach', 'country life', 'cricket bat', 'girl scouts', 'knife in thigh', 'saladin', 'columnist', 'italian american', 'frog prince', 'violent death', 'overleven', 'medical examiner', 'begnadigung', 'truck driver', 'boxer shorts', 'melodrama', 'ex cia agent', 'agnostic', 'loss of son', 'solar eclipse', 'stock exchange', 'marooned', 'dog biscuit', 'neurotic', 'southwestern u.s.', 'german accent', 'nudity', 'lasergun', 'broker', 'cardiologist', 'basketball', 'body-swap', 'trapped in building', 'ice', 'classmates', 'mobster', 'factory worker', 'merlin', 'ugliness', 'prehistoric creature', 'mathematics', 'aborigine', 'mischievous child', 'vatican', 'american president', 'lethal injection', 'steerage', 'spanking', 'nazi', 'action', 'radio telescope', 'jesus christ', 'everglades', 'nerd', 'sorcerer', 'newspaper', 'tomb', 'taking a risk', 'the simpsons', 'marcus square', 'self-destruction', 'machinegun', 'strangeness', 'telescope', 'gold digger', 'smoking', 'exhibit', 'sawed off shotgun', 'river boat', 'birthday party', 'santa hat', 'parish hall', 'stuntman', 'ex husband', 'land claim', 'short sighted', 'marine biologist', 'scythe', 'ecw', 'sexual arousal', 'corset', 'sabotage', 'kampfjet', 'transplantation', 'naval battle', 'urban legend', 'snowball fight', 'descendant', 'ancient world', 'cholera', 'marriage proposal', 'cave painting', 'pickup', 'cult favorite', 'sex scandal', 'winter', 'vinegar', 'revolt', 'map', 'rebellious youth', 'transphobia', 'military court', 'invisible man', 'pregnancy and birth', 'gargoyles', 'photo studio', 'based on novel', 'driving a car', 'istanbul turkey', 'protestant', 'bank robbery', 'countdown', 'gang violence', 'war room', 'suspicion of murder', 'restaurant owner', 'oklahoma city bombing', 'choreographer', 'missing in action', 'united nations', 'loss of father', 'scientology', 'laptop', 'sacrifice', 'adultress', 'fashion model', 'disappearance', 'hospital', 'time', 'gods', 'hulk', 'piano wire', 'chicken farm', 'world war i', 'tobacco industry', 'animal horror', 'class conflict', 'female martial artist', 'iwo jima', 'coffee plantation', 'silver', 'munich', 'bollywood', 'blonde woman', 'disaster film', 'witch hunter', 'bandits', 'lapd', 'cryptologist', 'flamethrower', 'ferrari', 'quitting a job', 'engagement ring', 'prom night', \"reference to pandora's box\", 'book of the dead', 'tragic love', 'painting', 'stupidity', 'fratricide', 'director', 'spacecraft', 'foot race', 'ghostbuster', 'lollipop', 'crocodile attack', 'counter terrorism', 'principal', 'inspired by a true story', 'evidence', 'evisceration', 'gay man', 'tease', 'gathering', 'reputation', 'class society', 'easter', 'homicide', 'modern day adaptation', 'dump truck', 'car wreck', 'ex-girlfriend', 'musician', 'gravity', 'hammer horror', 'tomboy', 'shot in the stomach', 'pelz', 'symbol', 'gnosticism', 'holy grail', 'missionary', 'houseboat', 'bureaucrat', 'generation-z', 'low rider', 'speech', 'commando', 'police force', 'golden egg', 'cape kennedy', 'police training', 'brutal death', 'freezer', 'con', 'royal air force', 'imagination', 'relapse', 'wall safe', 'shipyard', 'empowerment', 'mine explosion', 'mental', 'golden retriever', 'uzi', 'denver colorado', 'key west', 'ghouls', 'death of patient', 'angry', 'comic-strip artist', 'ecology', 'law school', 'briefing', 'failed business', 'matt scudder', 'half breed', 'uniform', 'nile', 'overturning car', 'young heroes', 'emasculation', 'overachiever', 'reunion', 'kendo', 'dirty cop', 'mob boss', 'bosnia and herzegovina', 'fat man', 'affair', 'god', 'secret love', 'engagement party', 'ringer', 'swastika', 'maze', 'bobsleighing', 'rise to power', 'doll', \"artists' life\", '16th century', 'cure', 'bathhouse', 'pilot hero', 'industrialist', 'primitive time', 'middle east conflict', 'elvis', 'chaos theory', 'barbie', 'nairobi', 'dignity', 'sting operation', 'secret door', 'tierversuch', 'rich', 'surveillance', 'gold theft', 'ranger', 'naturalist', 'san remo', 'frisbee', 'military', 'terrorist bombing', 'employee', 'cyclist', 'confidant', 'pilot', 'vampire vs vampire', 'black', 'unhappiness', 'essay', 'military law', 'underground', 'james bond spoof', 'deriva', 'u.s. ambassador', 'psychedelic', 'joint', 'rescue team', 'domed city', 'canuxploitation', 'drama', 'doc holliday', 'creek', 'suicidal', 'house fire', 'wyatt earp', 'one-night stand', 'new mexico', 'ticket', 'sake', 'cellphone video', 'native peoples', 'alcoholic drink', 'atrocity', 'documentary filmmaker', 'marital infidelity', 'surfer dude', 'peter pan syndrome', 'delorean', 'political satire', 'trip', 'mobile phone', 'drug dealing', 'yokai', 'car explosion', 'war filmmaking', 'age difference', 'family man', 'great britain', 'pets', 'exploding body', 'national security agency (nsa)', 'aggression', 'nazis', 'tarantula', 'preacher', 'stop motion', 'prison visit', 'aids', 'communication', 'tooth fairy', 'landing', 'rapper', 'india', 'campaign', 'policy and organisations', 'farmland', 'motorcycle jump', 'abandoned mine', 'welding', 'intellectual', 'solar', 'police investigation', 'pet dog', 'mossad', 'miner', 'shrimp', 'claude monet', 'stock market crash', 'broken mirror', 'angry mob', 'watergate scandal', 'environmental', 'torture by the police', 'wisecrack humor', 'abraham lincoln', 'family secrets', 'tunnel', 'employer', 'mountain village', 'arms', 'police raid', 'osama bin laden', 'judiciary', 'surveillance footage', 'pinata', 'anti conformity', 'teenage romance', 'morality tale', 'falling elevator', 'female rocker', 'nitroglycerin', 'dog cat friendship', 'whipping', 'long lost relative', 'defection', 'eye operation', 'sneeze', 'cancer', 'religious conversion', 'animal attack', 'misogyny', 'character is subject of comic', 'time warp', 'wax museum', 'scream', 'lion', 'suspended animation', 'iraq war', 'elves', 'prenzlauer berg', 'priestess', 'dangerous mission', 'sushi restaurant', 'lost weekend', 'white russian', 'city portrait', 'footage', 'sermon on the mount', 'trunk', 'missouri', 'alternate history', 'human sacrifice', 'brother', 'falsely accused', 'battle for power', 'dock', 'divorce lawyer', 'crusade', 'mind control', 'philosophical', 'based on film', 'marshal', 'overthrow olympus', 'wolfman', 'costume party', 'danger of life', 'custody battle', 'u.s. senator', 'porsche', 'pennsylvania coal miner', 'aspiring writer', 'eavesdropping', 'suitcase full of money', 'super villain', 'madagascar', 'life competition', 'seclusion', 'turboman', 'female athlete', 'cemetary', 'sequel', 'riding accident', 'male stripper', 'pager', 'decadence', 'bahamas', 'flush', 'misadventure', 'commodities', 'poker', 'contemporary setting', 'ant', 'case', 'media adviser', 'deja vu', 'mexican standoff', 'little girl', 'female sexuality', 'staring contest', 'reference to jack black', 'polaroid camera', 'flashback', 'homesickness', 'wanderer', 'apple', 'arctic', 'carpet', 'male', 'back stabbing', 'friday the thirteenth', 'scholarship', 'overprotective father', 'terminal illness', 'italian', 'floating on inner tube', 'formalin', 'wildlife', 'franco regime', 'polar zone', 'sparta greece', 'gibraltar', 'royal flying corps', 'country music', 'german submarine', 'gain', 'auto theft', 'privacy', 'kongo', 'tail', 'giraffe', 'british monarchy', 'protest march', 'based on memoir', 'teenage sex', 'antique', 'racoon', 'chinese mafia', 'naked', 'insomniac', 'ladder', 'sorority', 'edinburgh', 'air force', 'tibet', 'head wound', 'indian chief', 'end of world', 'starting over', 'swinger club', 'childhood sweetheart', 'porno star', 'resentment', 'milkman', 'decoy', 'city of argos', 'rock opera', 'dark carnival', 'mission', 'crazy', 'inn', 'chinese tradition', 'red square', 'fictionalized history', 'brokerage', 'motorcycle gang', 'clubbing', 'orcs', \"man of one's dreams\", 'reference to socrates', 'jack ryan', 'pianosa', 'innocence', 'iconography', 'explosion', 'devotion', 'sleeping', 'witch burning', 'assassination attempt', 'sheriff', 'misdirection', 'makeover', 'cigarette lighter', 'u.s. soldier', 'bronze age', 'lesson', 'twinkie', 'wooden boats', 'child pornography', 'one last job', 'machete', 'angels', 'places and planets', 'high', 'santa monica california', 'train accident', 'mandarin', 'jesus freak', 'bowling team', 'simon says', 'dirt bike', 'music contest', 'province', 'igloo', 'last chance', 'snuff', 'amulet', 'undertaker', 'serum', 'prodigy', 'prehistoric times', 'sport competition', 'brazilian', 'security guard', 'news broadcast', 'snake charmer', 'cellist', 'silent film star', 'ancient civilization', 'sequins', 'panama', 'landmine', 'kubakrise', 'phantom', 'prisoners of war', 'bloody fight', 'slow cinema', 'eclipse', 'magic trick', 'buddy comedy', 'human trafficking', 'jerusalem', 'loneliness', 'remake', 'ordensbruder', 'police harassment', 'leaving home', 'letter', 'drone', 'menace', 'documentary crew', 'aggression by animal', 'drugs', 'starvation', 'execution', 'swordplay', 'colonialism', 'armored car', 'stonehenge', 'elevator shaft', 'immoderateness', 'on the road', 'christmas holiday', 'kashmir conflict', 'armadillo', 'javelin', 'good and bad', 'religious delusions', 'pawnshop', 'great wall of china', 'train robbery', 'swordsman', 'idaho', 'village', 'kingpin', 'false memory', 'fascination', 'folk horror', 'oppression', 'literary adaptation', 'book burning', 'rebellious daughter', 'flare', 'dying and death', 'fog', 'springfield', 'dance contest', 'foolish', 'rocket fired grenade', 'demonstration', 'virtual fight', 'cotton', 'fraternity pledge', 'greaser', 'female stripper', 'teddy bear', 'disease', 'humanity', 'plagiarized book', 'british lancers', 'son-in-law', 'tv show in film', 'dog', 'sewer', 'overflowing with imagination', 'fur trapper', 'wood chopping', 'husband wife relationship', 'sensei', 'coat', 'repression', 'investment', 'british empire', 'magic', 'farmer', 'russian mafia', 'hostage negotiator', 'conspiracy of murder', 'coma', 'spiritual journey', 'outbreak', 'tsunami', 'terrorism', 'kosher', 'black people', 'raincoat', 'framed for a crime', 'mold', 'overweight child', 'captain', 'town square', 'third world', \"pandora's box\", 'lakota', 'lavender', 'small person', 'returning money', 'attempted rape', 'author', 'loss of faith', 'scheming', 'day care', 'pyre', 'quick draw', 'wave', 'auto-tuning', 'osteopath', 'banana boat', 'crooked lawyer', 'castration', 'stetson', 'perjury', 'detroit', 'psychopathy', 'lily', 'diver', 'millenium', 'washington state', 'spaghetti western', 'alcohol', 'imaginary kingdom', 'jackhammer', 'monitor', 'insult', 'stone age', 'girlfriend from china', 'saxophonist', 'bitten', 'tavern', 'army base', 'talking to the audience', 'magic show', 'dean', 'sanitarium', 'video game', 'killer doll', 'polygamy', 'asteroid', 'cement truck', 'window', 'metal', 'robot', 'moon landing', 'b movie', 'cyber terrorism', 'september 11 2001', 'giant vegetable', 'badge', 'energy supply', 'cult leader', 'tanker', 'police car', 'wormhole', 'england', 'open relationship', 'courthouse', 'amazon', 'election', 'knife held to throat', 'passenger', 'intellectually gifted', 'scandinavia', 'historical figure', 'washed up star', 'film studio', 'cleopatra', 'told in flashback', 'hit with a rock', 'tearjerker', 'marijuana pipe', 'chat', 'revolution', 'piano lessons', 'labor', 'hacky sack', 'segregation', 'callgirl', 'super cars', 'resignation', 'bloodsucker', 'cutting', 'chemistry', 'despot', 'gettysburg address', 'subway tunnel', 'film', 'manipulation of the media', 'exploding bus', 'buddhist monk', 'white male pretending to be black', 'alien phenomenons', 'bad kids', 'army captain', 'guild', 'punishment', 'frog', 'gainesville florida', 'planet', 'human vs alien', 'ranchers', 'mini cooper', 'middle school', 'investment firm', 'game show', 'hail', 'key', 'guantanamo bay', 'fracking', 'struggling actor', 'crook', 'in the closet', 'd-day', 'newspaper office', 'hick', 'declaration of love', 'petrol', 'blackmail', 'space', 'scam', 'severed head', 'coaction', 'stakeout', 'biological father', 'u.s. marshal', 'tiger', 'lock pick', 'online chat', 'police chase', 'vice', 'famous score', 'sandstorm', 'nazi background', 'protection money', \"coup d'etat\", 'extremis', 'jogging', 'online dating', 'con artist', 'carnivorous plant', 'round table', 'burning car', 'love triangle', 'liquor', 'pretend relationship', 'just married', 'junior high school', 'body mutilation', 'fictional government agency', 'business card', 'galier', 'transportation', 'jazz band', 'compassion', 'automobile racing', 'ultimatum', 'dolphin', 'prime minister', 'swahili', 'commune', 'high school dance', 'cryonics', 'rapist', 'way station', 'gorilla', 'cat vs dog', 'camera', 'shakespeare in modern dress', 'weapon of mass destruction', 'shaman', 'bribe', 'change', 'overweight woman', 'tv news anchor', 'hitchcockian', 'oklahoma', 'racing car', 'vision', 'beach resort', 'underwater', 'mount everest', 'woman in jeopardy', 'paradise', 'jewish convert', 'baseball fan', 'retirement party', 'smithsonian', 'teamwork', 'teenage love', 'recess', 'married', 'black men', 'boxing match', 'compulsive gambling', 'ghetto', \"rock 'n' roll\", 'drug raid', 'business consultant', 'bungee-jump', 'theatre director', 'economic theory', 'addiction', 'analingus', 'chef', 'remake of french film', 'meteorologist', 'thomas more', 'technical toy', 'lawyer', 'indian lead', 'name calling', 'retribution', 'decorum', 'carjacking', 'rolling eyes', 'washington d.c.', 'warsaw ghetto', 'art student', 'socialism', 'evil alien', 'tonto', 'recording studio', 'materialism', 'cocoon', 'investor', 'sioux', 'coven', 'pug dog', 'depression', 'sword and sandal', 'lost communication', 'psychic', 'court case', 'ramses', 'missile', 'fair', 'video wall', 'salem massachusetts', 'media tycoon', 'lime', 'mislaid trust', 'golden fleece', 'teen comedy', 'hanging', 'great depression', 'success', 'drug rehabilitation', 'generation gap', 'suicide attempt', 'war crimes', 'remote control', 'apartment', 'concussion', 'murder investigation', 'existence', 'predator', 'horror', 'death of a child', 'cold war', 'workplace humor', 'bicycle courier', 'ship hijacking', 'rookie cop', 'fascist', 'french revolution', 'jules verne', 'curiosity', 'torture', 'bank vault', 'blind date', 'disabled', 'northern ireland', 'hair loss', 'racism', 'greece', 'advertising executive', 'pizza', 'eminem', 'photographer', 'street fighter', 'technology', 'alien', 'cockney accent', 'dragon', 'hunting human beings', 'spiritualism', 'congress', 'hit with tire iron', 'family conflict', 'family business ', 'aunt niece relationship', 'deceived wife', 'jason vorhees', 'catholic orphanage', 'immortal', 'buffalo skin', 'thirty something', 'dance teacher', 'self mocking', 'sanity', 'hard times', 'car garage', 'snow white', 'nationalism', 'chinese history', 'queen elisabeth ii', 'underwear', 'towel', 'blood on shirt', 'opression', 'graffiti', 'obese', 'second chance', 'bath house', 'power', 'preisgeld', 'work', 'dorm room', 'burn', 'pretend', 'old woman murdered', 'twins separated at birth', 'studio', 'shot to death', 'cadet', 'mole', 'american abroad', 'egyptologist', 'sexual awakening', 'entrance examination', 'old age', 'greek', 'swashbuckler', 'mouth guard', 'porn actor', 'boat', 'manipulation', 'reference to moby dick', 'peter pan', 'multiple stabbings', 'slang', 'transsexuality', 'self exile', 'invisibility', 'wild child', 'getting home', 'heist gone wrong', 'death sentence', 'air marshal', 'cigarette smoking', 'spoiled son', 'ex nazi', 'cowardliness', 'earth in peril', 'medium', 'royal geographic society', 'rampage', 'expatriate', 'redneck', 'meteorite', 'concealed weapon', 'delirium', 'drinking', 'monty python', 'hidden corpse', 'con man', 'tough girl', 'occult', 'professor for literature', 'ku klux klan', 'stolen cars', 'play', 'divorced woman', 'railway station', 'post cold war', 'narcotics cop', 'slavery', 'arrow in back', 'ironclad ship', 'secret intelligence service', 'time paradox', 'first love', 'laguna beach california', 'ethical dilemma', 'space travel', 'sailboat', 'chases and races', 'roller coaster', 'rwanda', 'student', 'daydreaming', 'thunderbirds', 'hustler', 'driven insane', 'record label', 'death of father', 'forbidden love', 'bride', 'stay-at-home dad', 'drug lord', 'filmes focados em um professor', 'hippie lifestyle', 'videoconferencing', 'friendship', 'air', 'stock broker', 'teen angst', 'bias', 'bomb constructor', 'heterosexual', 'hostage situation', 'crop circle', 'watching a movie', 'learning and teaching', 'motor-bike accident', 'mediterranean', 'dare', 'wartime', 'psychopath', 'half-brother', 'prom', 'interrupted hanging', 'monkey warrior', 'swinging', 'society for the prevention of cruelty to animals', 'mafia', 'el paso', 'magazine', 'ressentiment', 'jupiter', 'cartoon cat', 'industrial revolution', 'cook', 'peeping tom', 'mary magdalene', 'celebrity', 'gallon of water', 'freezing', 'evil corporation', 'movie poster', 'chucky', 'radio wave', 'wager', 'opening night', 'tornado', 'wedding party', 'pop culture', 'gun violence', 'brumbies', 'courage', 'futuristic car', 'family vacation', 'child of divorce', 'masturbation', 'unfaithful husband', 'job promotion', 'political drama', 'gambler', 'watching tv', 'cosplay', 'zebra', 'flirting', 'natural history', 'e-mail', 'nantucket', 'ambush', \"women's soccer\", 'treasure map', 'subjective camera', 'mongolia', 'personal growth', 'end of trilogy', 'atlantic ocean', 'crow', 'alcohol abuse', 'moulin rouge', 'groundhog day', 'gun in mouth', 'short', 'greedy developer', 'film score', 'sexuality', 'man between two women', 'reference to pizarro', 'seminar', 'ant-hill', 'folk singer', 'scandinavian', 'blind', 'classical music', 'conference', 'wealthy', 'dressing', 'environmental protection agency', 'opposites attract', 'british army', 'teleprompter', 'sonar', 'suffering', 'x rayed skeleton', 'computer games', 'gender disguise', 'desert', 'sniper', 'tourism', 'teaching the ways of the world', 'russian revolution', 'gang war', 'cocktail', 'annie oakley', 'practice', 'out of body experience', 'decision', 'guitar case', 'waffle', 'silhouette', 'railway car', 'checkpoint', 'mi6', 'playing cards', 'ex soldier', 'nome alaska', 'frontier', 'confronting the past', 'mentally disabled', 'population control', 'turns into animal', 'vampire', 'family holiday', 'kennel', 'neo-western', 'historical fiction', 'compass', 'trouble', 'train ride', 'goth girls', 'cobra', 'fired from the job', 'play adaptation', 'william blake', 'rise and fall', 'news spoof', 'intelligent', 'free spirit', 'enterprise-e', 'birthday', 'east india trading company', 'religious war', 'hide and seek', 'roommate', 'eating contest', 'water park', 'beaten to death', 'beer keg', 'parallel world', 'anti authority', 'modern fairy tale', 'career woman', 'condominium', 'texas', 'school of witchcraft', 'time loop', 'slow motion', 'video tape', 'helicopter pilot', 'fang vamp', 'secret base', 'hot dog', 'survival', 'viking', 'half naked man', 'jew persecution', 'based on greek myth', 'racial tension', 'neo nazism', 'virtual reality', 'lincoln nebraska', 'political unrest', 'hellgate', 'helen of troy', 'bloodthirstiness', 'quest', 'political assassination', 'marilyn monroe', 'doggystyle', 'stephen hawking', 'rite', 'navajo', 'uprising', 'salesman', 'battlefield', 'freak show', 'storm chaser', 'crime', 'knife throwing', 'rifle', 'bleak comedy', 'karate', 'foot', 'the shadow', 'prisoner on the run', 'persia', 'masterpiece', 'garage sale', 'old photograph', 'whaling ship', 'counterfeit', 'mechanical hand', 'breast cancer', 'test', 'interracial adoption', 'old mansion', 'french stereotype', 'performance', 'humvee', 'crutch', 'abusive husband', 'sexappeal', 'tennis racket', 'national transportation safety board', 'weeds', 'mohawk', 'indian war', 'lobbyist', 'bone', 'extraterrestrial', 'strong woman', 'toad', 'troubadour', 'superpowers', 'sha-ka-ree', 'masked killer', 'harbor', 'purse', 'duringcreditsstinger', 'baseball', 'self healing', 'tomahawk', 'childhood trauma', 'widower', 'death threat', 'new hampshire', 'truth', 'family relationships', 'atomic reactor', 'banking', 'donut', 'mind and soul', 'rural', 'goat', 'jail', 'artificial', 'night club', 'shadowhunter', 'klutz', 'river thames', 'hebrews', 'rich snob', 'sailing', 'cell phone', 'strike', 'home movie', 'pier', 'space based weapon', 'fast food', 'forks washington', 'novice', 'high dive', 'saviour', 'vietnam war', 'limp', 'true crime', 'general', 'space invasion', 'street shootout', 'peace conference', 'captive', 'stolen identity', 'reference to god', 'attempted robbery', 'tooth', 'wettermann', 'tv news', 'war trauma', 'skull', 'solitary confinement', 'tryst', 'train crash', 'science experiment', 'colombia', 'gladiator', 'rodent', 'sex therapy', 'caper', 'matrix', 'caregiver', 'ocean', 'hacker', 'shadowing', 'rant', 'chauffeur', 'winery', 'robin', 'ladykiller', 'diamond heist', 'military school', 'bagpipes', 'nasa', 'hidden room', 'civil rights', 'stuffed animal', 'underground world', 'elephant seal', 'naive children', 'tower', 'empty safe', 'coke', 'reconnaissance', 'hairdresser', 'bob dylan', 'louisville', 'biography', 'knoxville', 'masked ball', 'sweaty face', 'lasersight', 'wealth', 'the flemish cap', 'bull riding', 'killer plant', 'steam locomotive', 'shot in the chin', 'trestle', 'the supremes', \"children's perspectives\", 'distress', 'ambulance driver', 'seal', 'surfing', 'evil mastermind', 'prison warden', 'invention', 'nepal', 'child custody', 'lower east side', 'seance', 'hostage drama', 'swat team', 'art school', 'designer drug', 'bruce frederick joseph springsteen', 'glitch', 'novelist', 'rooftop chase', 'sail', 'satellite', 'tattoo shop', 'flight', 'medal', 'toyko', 'snowman', 'mental hospital', 'railgun', 'chicago', 'gondola', 'boyfriend girlfriend relationship', 'maori tradition', 'observer', 'backhand slap', 'jock', 'occupying power', 'inferiority', 'burlesque', 'prison', 'comanche', 'asgard', 'wildcatter', 'music festival', 'control', 'flashback within a flashback', 'hmong', 'baseball field', 'tribe', '18th century', 'empire', 'child kidnapping', 'trailer park', 'reggae', 'train', 'stolen painting', 'little brother', 'gold', 'push ups', 'crimea', 'regret', 'presidential cabinet', 'auroch', 'reporter', 'childhood', 'book store', 'private school', 'songwriter', 'medical test', 'rice paddy', 'seeing the future', 'dilemma', 'blog', 'paranormal investigator', 'spring', 'jeep', 'gurney', 'soap opera', 'childlessness', 'crew', 'socially deprived family', 'psychologist', 'social commentary', 'libya', 'classroom', 'cult director', 'abortion', 'soviet', 'spiders', 'insurrection', 'emperor', 'tiki culture', 'tentacle', 'school dance', 'concert', 'marriage crisis', 'separation', 'grandmother granddaughter relationship', 'autonomous shadow', 'celibacy', 'rose garden', 'earth', 'warfare', 'master thief', 'sorceress', 'italy', 'thalassophobia', 'werewolf child', 'threat to death', 'bali', 'opposites', 'collision', 'what if', 'locker room', 'climber', 'obsessive quest', 'german democratic republic', 'commander', 'tractor', 'birth', 'traveller', 'comeback', 'asian man', 'cardsharp', 'victory', 'attic', 'diamant', 'bedroom', 'elasticity', 'mahatma gandhi', 'crab', 'man vs machine', 'prosecution', 'shot through a wall', 'knitting needle', 'task force', 'occultism', 'lawlessness', 'scorpion', 'expiration', 'prospector', 'nightclub', 'little people', 'elevator', 'disgruntled worker', 'friends with benefit', 'sperm bank', 'social services', 'lhasa', 'bank loan', 'bedtime prayer', 'defibrillation', \"frankenstein's monster\", 'disintegration', 'tortured to death', 'marvel comic', 'jigsaw', 'killer dog', 'cliques', 'riddle', 'white collar', 'sea', 'san francisco giants', 'appropriation of another human being', 'aura', 'enemy', 'language course', 'cleverness', 'community', 'broken heart', 'oil refinery', 'hiv', 'female nudity', 'succubus', 'pat garrett', 'environmental law', 'thompson sub machine gun', 'hood', 'jane austen', 'golf war', 'revelation', 'iraq', 'laser gun', 'bird cage', 'surprising', 'pittsburgh', 'man eating plant', 'camcorder', 'megaphone', 'love crime', 'band', 'baby geniuses', 'howling', 'piano', 'gas mask', 'baby', 'shark attack', 'order of the templars', 'greek history', 'witch', 'biblical interpretation', 'ethics', 'hunting trip', 'aurora borealis', 'scientists', 'blacklight', 'stork', 'greek mythology', 'dj', 'sailing trip', 'hockey player', 'freedom of speech', 'temperature drop', 'bathrobe', 'speaking german', 'contact', 'border patrol', 'notebook', 'parson', 'psychedelic drug', 'undead', 'female spy', 'religious fundamentalism', 'killing a dog', 'art dealer', 'bus accident', 'female politician', 'wrong side of the tracks', 'carriage', 'passion for collection', 'bedridden', 'soccer stadium', 'wizard of oz', 'sexual obsession', 'autograph', 'coming out', 'zoo', 'activist', 'globalization', 'lap dance', 'freshman', 'ax', 'network', 'mormon', 'innocence lost', 'hotel mom', 'baseball pitcher', 'robot cop', 'secret mission', 'dishonesty', 'sidewalk cafe', 'cavemen', 'morphine', 'malcolm x', 'cat thief', 'lifting female in air', 'hypothermia', 'montana', 'ambulance', 'honey pot', 'recording', 'metereologist', 'altar', 'north korea', 'odin', 'mythology', 'disguise', 'travel', 'serial killer', 'oxford', 'eiffel tower paris', 'canada', \"writer's block\", 'young woman', 'central america', 'conscience', 'striptease', 'town', 'little red riding hood', 'harassment', 'meat cleaver', 'changeling', 'valor', 'mischief', 'stage diving', 'retro', 'torpedo', 'prosthetic arm', 'political activism', 'computer expert', 'mexican american', 'merry go round', 'halfway house', 'loss of child', 'nostalgic', 'ceo', 'nest', 'fighting crime', 'museum', 'hypatia', 'gangster', 'religious conflict', 'mushroom cloud', 'boxer', 'hired killer', 'suburbian idyll', 'disabled child', 'impersonating a police officer', 'crossbow', 'tennis player', 'camelot', 'bullfighting', 'selkie', 'ancient astronaut', 'expedition', 'battle assignment', 'gangster rap', 'governess', 'love and romance', 'comic book collector', 'bird hatching', 'strange person', 'hit with a car door', 'war propaganda', 'sliding down a pole', 'mistaken identity', 'cops and robbers\\xa0', 'ultraviolence', 'the color red', 'revenge plot', 'end of the world', 'dead boy', 'high-tension current', 'mistake', 'conveyor belt', 'mechanic', 'loot sharing', 'richard nixon', 'dogsitter', 'candy', 'female corpse', 'reference to superman', 'defense attorney', 'student visa', 'lust and impulsiveness', 'dallas texas', 'singing narrator', 'boating accident', 'mosque', 'combat', 'stau', 'political correctness', 'physical abuse', 'interpreter', 'beach house', 'kids', 'army general', 'blasphemy', 'snow storm', 'night shift', 'isolated', 'lew harper', 'dostoevsky', 'flying car', 'war on freedom', 'pedicab', 'research laboratory', 'fall', 'chemotherapy', 'jack frost', 'paddlewheel boat', 'dance hall', 'model student', 'warlock', 'crystal machine', 'family', 'halloween night', 'marital rape', 'false identity', 'phenomenon', 'manager', 'eugenics', 'kidney transplant ', 'science fiction', 'vulgarity', 'krampus', 'hunting party', 'time magazine', 'hotel room', 'institutionalization', 'devil', 'nation', 'dialect', 'necronomicon', 'female friendship', 'voice', 'classism', 'epic battle', 'songs', 'night life', 'zero gravity', 'teenage pregnancy', 'tragic death', 'audio recording', 'manila philippines', 'barn', 'confidence man', 'concentration camp', 'group', 'salzburg', 'traitor', 'madness', 'irish civil war', 'extraction', 'gore', 'creation', 'nativity', 'avatar', 'pig', 'evangelist', 'san diego', 'mission of murder', 'night vision goggles', 'calcutta', 'muscular', 'police station', 'clairvoyance', 'archangel gabriel', 'secret organization', 'gay relationship', 'last day on job', 'drug overdose', 'reindeer', 'ex-boyfriend', 'state police', 'racist', 'whaling', 'snow', 'new orleans', 'ballet dancer', 'rottweiler', 'dirty joke', 'planes', 'opus dei', 'moral ambiguity', 'basketball hoop', 'unsimulated sex', 'video', 'naval warfare', 'film producer', 'hunting', 'courtly life', 'anarchist', 'fall in love', 'minidisc', 'unreliable narrator', 'naked woman', 'smuggling', 'federation', 'sodomy', 'soulmates', 'married couple', 'lebanon', 'conquest', 'fantastic four', 'dialogue', 'lost shoe', 'arcade', 'coronation', 'rehab', 'harmonica', 'sledgehammer', 'sicilian', 'band singer', 'tony blair', 'university', 'truth serum', 'fairy', 'contortionist', 'killer whale', 'wild west', 'jewry', 'world religion', 'autism', 'semi autobiographical', 'waterloo', 'aftercreditsstinger', 'extramarital affair', 'presidential campaign', 'corporate', 'corpse in freezer', 'war ship', 'egypt', 'skepticism', 'classmate', 'prophet', '\\xa0flipping coin', 'backpacker', 'world trade center', 'mercedes', 'rent', 'homelessness', 'czechoslovakia', 'word domination', 'jay and silent bob', 'japanese', 'past relationship', 'clowning', 'family gathering', 'caso', 'stronger villain', 'recovering drug addict', 'myth', 'filmes contra o comunismo', 'dollar', 'fictional awards show', 'nuclear missile', 'picnic', 'underage soldier', 'chameleon', 'button', 'lost baggage', 'destiny', 'mooning', 'bulle', 'prehistoric man', 'giant', 'lone ranger', 'drug culture', 'laughing', 'scot', 'aspiring actor', 'mermaid', 'family drama', 'mural painting', 'hiv positive', 'cop', 'power takeover', 'winnebago', 'steel worker', 'end is here', 'counter plot', 'behind the scenes', 'shenanigan', 'cancan dance', 'masked hero', 'slovakia', 'black panther', 'candlelight vigil', 'monster', 'flame', 'drawing', 'cheerleader', 'triceratops', 'cable guy', 'video gamer', 'sweepstakes', 'jesse james', 'suicide', 'hijinks', 'pornographic video', 'music lover', 'scotland yard', 'deserter', 'adult animation', 'suburbia', 'squire', 'stasi', 'christmas carol', '1920s', 'hearing', 'totalitarianism', 's.w.a.t.', 'meteor', 'mutant', 'performance art', 'extension ladder', 'medical student', 'enviromental', 'cross', 'alien dna', 'explosive decompression', 'emigration', 'sweden', 'nation of islam', 'survivor', \"based on children's book\", 'buddhism', 'almanac', 'fab four', 'partisan', 'neighborhood', 'code red', 'ritual sacrifice', 'loss of pet', 'lunar mission', 'ptsd', 'steroids', 'rainstorm', 'soviet troops', 'wedding chapel', 'inflatable doll', 'dreamer', 'scavenger hunt', 'nietzsche', 'burnt face', 'crisis of faith', 'incest overtones', 'narcotics', 'photography', 'catastrophe', 'hail mary', 'nuclear scientist', 'cruise ship', 'grenade launcher', 'totalitarian', 'ballerina', 'lying', 'scepter', 'horse', 'white gloves', 'zombification', 'heaven', 'moskow', 'jew', 'relation', 'psychological thriller', 'pedophilia', 'antarctica', 'narnia', 'figaro', 'hard to kill', 'acting', 'exploding ship', 'human experimentation', 'unlikely heroes', 'political cover-up', 'wetting pants', 'volcanic eruption', 'followed', 'submarine', 'domination', 'glider', 'teaching', 'pitchfork', 'water shortage', 'boarding house', 'manchester city', 'lego', 'birdwatching', 'fortune', 'cojote', 'horse and carriage', 'photo', 'gettysburg', 'vietnam', 'exodus', 'horse whisperer', 'mixed martial arts', 'che guevara', 'flying', 'pakistani', 'behavior', 'older man younger woman relationship', 'planetary configuration', 'superhuman strength', 'guard', 'pearl necklace', 'route 66', 'lung cancer', 'warhead', 'bullying', 'special unit', 'wizard', 'projectionist', 'test flight', 'babes', 'drug dealer', 'super computer', 'eternal youth', 'jewish', 'longshoreman', 'bosnian war of 1992-1995', 'drawn', 'ruins', 'sarajevo', 'rhedosaurus', 'suspect', 'bandage', 'restaurant', 'trick or treating', 'orderly', 'sardinien', 'cold', 'child as an adult', 'body snatching', 'alamo', 'center of the earth', 'cigar smoking', 'disaster movie', 'cult figure', 'time travel', 'architect', 'stockbroker', 'clerk', 'surprise', 'holocaust', 'corporate crime', 'philosophy', 'prehistoric adventure', 'dakota', 'nelson mandela', 'co-worker', 'iran hostage crisis', 'gender roles', 'chipmunk', 'schoolteacher', 'brigands', 'mannequin', 'disposing of a dead body', \"new year's eve\", 'transgender', 'alternate reality', 'infatuation', 'air raid', 'cave drawing', 'philadelphia eagles', 'midwest', 'pianist', 'creator', 'wrongful conviction', 'girl next door', 'bagdad', 'grand canyon', 'based on supposedly true story', 'record store', 'apartheid', 'curator', 'survival skills', 'maid uniform', 'swim meet', 'wales', 'turing test', 'untouchable', 'ceti alpha v', 'commercial', 'fireplace', 'religious education', 'dark past', 'operation', 'gloves', 'argument', 'beijing', 'parenthood', 'drug use', 'female musician', 'eaten alive', 'arch villain', 'car journey', 'sneezing', 'perpetual winter', 'director cameo', 'troubled production', 'satanic cult', 'bust', 'delusion', 'battle of the bands', 'carrier pigeon', 'loretta lynn', 'confession', 'alien race', 'stolen patent', 'adventure', 'donuts', 'based on play', 'singularity', 'scene', 'haunting', 'louvre', 'light sensitivity', 'lighthouse', 'robber', 'flirt', 'supervillain', 'love spell', 'air conditioner', 'treasure', 'inventor', 'cardinal', 'bruges belgium', 'knocked out', 'bestiality', 'trapdoor', 'head bashed in', 'youngster', 'nobility', 'police badge', 'cabinet officer', 'vomiting', 'microphone', 'discovery', 'reference to skittles', 'housekeeper', 'fine art', 'noah', 'trans-siberian railway', 'loss of parents', 'plano texas', 'psychological', 'ogre', 'immigrant', 'casual sex', 'smuggling of arms', 'explosive', 'search for witnesses', 'antihero', 'cross breed', 'playboy mansion', 'veterinarian', 'foster child', 'pirate radio', 'umbrella', 'servant', 'bohemian', 'ranch', 'archeologist', 'beach', 'knife', 'surrealism', 'ego', 'cupcake', 'the rapture', 'plan gone wrong', 'chick flick', 'sonogram', 'natural disaster', 'awful leader', 'bridge', 'aircraft carrier', 'battle', 'stolen novel', 'ronin', 'boulder', 'helix', 'alan smithee', 'uss enterprise', 'rain', 'agriculture', 'smartphone', 'protection', 'code', 'everyman', 'karate class', 'senate', 'horseback riding', 'county fair', 'loan shark', 'kentucky', 'tank car', 'broadway musical', 'ewoks', 'talking robot', 'midlife crisis', 'mirror', 'binoculars', 'big city', 'shyness', 'yin yang', 'group therapy', 'dea', 'oil rig\\xa0', 'private club', 'threesome', 'bourgeoisie', 'local speciality', 'formaldehyde', 'tax collector', 'rabbit', 'hearing voices', 'bowling', 'mind games', 'looking at the camera', 'bodyguard', 'gruuthuse museum bruges', 'atomic bomb', 'horror anthology', 'lethargy', 'chase', 'cut arm', 'serial murder', 'derelict ship', 'art', 'uneasy alliance', 'false accusations', 'folk music', 'utopia', 'arbitrary law', 'pursuit', 'tolerance', 'death of son', 'head stomp', 'mexico city', 'rejection', 'ball', 'sexual harassment', 'covered investigation', 'lingerie', 'surrey', 'mercy petition', 'wish', 'movies', 'mars civilization', 'amsterdam', 'gunfighter', 'rave', 'father son reunion', 'faked death', 'batman', 'adoptive father', 'out of control', 'mythological beast', 'hitwoman', 'heiress', 'bats', 'evil dead', 'fable', 'aging', 'infantry', 'olympic games', 'gotham city', 'healing', 'from rags to riches', 'blood ritual', 'nemesis', 'crucifix', 'canary', 'eye specialist', 'rhyme battle', 'forty something', 'golden gun', 'the doors', 'political negotiations', 'paranoid fantasy', 'fort', 'machine town', 'bandit', 'coal mining', 'double murder', 'low men', 'europe', 'navy life', 'marine', 'possesion', 'black hole', 'tulips', 'ayn rand', 'aphrodisiac', 'alcatraz', 'excrements ', 'next door neighbor', 'railroad robber', 'bitten in the neck', 'golddigger', 'steve jobs', 'la roque', 'kurdish', 'liar', 'evil stepmother', 'Γη', 'basketball game', 'fiction', 'rocker', 'pikachu', '1960s', 'swing', 'call', 'coal mine', 'fourth dimension', 'informant', 'skeleton', 'greenpeace', 'house party', 'stonewall riot', 'father daughter relationship', 'war', 'transport of prisoners', 'dc extended universe', 'cottage', 'police surveillance', 'human weakness', 'solar energy', 'comet', 'katana sword', 'vampire hunter', 'masked vigilante', 'romulus', 'job interview', 'boss', 'tunnel construction', 'white horse', 'chase scene', 'subculture', 'air controller', 'bad mother-in-law', 'netherlands', 'alien contact', 'shot in the back', 'leave', 'bodily disabled person', 'pizza hut', 'head injury', 'insurgent', 'thesis', 'assassination', 'garage', 'middle ages', 'camel', 'baby powder', 'southern usa', 'car accident', 'underage girlfriend', 'tourette syndrome', '17th century', 'answering machine', 'ticket booth', 'tied up', 'julius caesar', 'evil child', 'blaxploitation', 'lemonade', 'obnoxious', 'sexual abuse', 'shoe seller', 'soft boiled egg', 'moscow', 'quarry', 'fake documentary', 'recording contract', 'mining accident', 'airplane accident', 'bedtime story', 'turbo intercepter', 'green', 'asbestos', 'rapier', 'child driving a car', 'hard hat', 'mailbox', 'lightsaber', 'oscar award', 'humor', 'fire repellent', 'new identity', 'genghis khan', 'manufacturing', 'spy', 'vortex', 'rule of law', 'substance', 'turtle', 'coffin', 'relationship problems', 'car siren', 'road movie', 'animal death', 'artillery', 'mango', 'ruse', 'iron patriot', 'nuclear threat', 'music teacher', 'forgiveness', 'big dreams', 'bunker', 'duck', 'store', 'witness to a crime', 'nude protest', 'working mum', 'police convention', 'taunting', 'astrophysics', 'charismatic leader', 'dry humour', 'kerouac', 'bdsm', 'extra credit assignment', 'tdrug lord', 'omen', 'product placement', 'one night', 'boomerang', 'crash', 'domineering mother', 'secret society', 'contract killer', 'assertion', 'menschheit', 'casablanca', 'second wife', 'new york state', 'unemployment', 'dark hero', 'hallucinogen', 'brumby', 'las vegas', 'gypsy', 'suspicion', 'weather forecast', 'countess', 'british prime minister', 'courtroom', 'village and town', 'wizardry', 'bible quote', 'song writing', 'false passport', 'chancellor', 'kiss', 'mothman', 'puzzle box', 'secretary of defense', 'broken wrist', 'dungeon', 'teachers and students', 'flowerpot', 'big wheel', 'british pub', 'tv show', 'irish republican army', 'vertigo', \"life's dream\", \"ant's nest\", 'church service', 'kangaroo', 'gang of smugglers', 'chair', 'buddy cop', 'sexless marriage', 'small town sheriff', 'anti-christ', 'syringe', 'billionaire', 'egomania', 'legal', 'war hero', 'domestic abuse', 'gothic horror', 'florence', 'illegal drugs', 'car chase', 'determination', 'global warming', 'jade', 'testament', 'religious', 'professor', 'time traveler', 'housebreaking', 'strange behavior', 'cholo', 'art theft', 'telephone call', 'young people', 'stretch limousine', 'male bonding', 'conversation', 'black magic', 'boys', 'childhood memory', 'platonic love', 'circumcision', 'burning of witches', 'tension', 'pizza boy', 'the force', 'whale', 'bucket list', 'office', 'napoleon bonaparte', 'vengeful spirit', 'financial transactions', 'referee', '1980s', 'pearl harbor', 'artist colony', 'manuscript', 'fishing net', 'undercover agent', 'telephone conversation', 'irak', 'widow', 'jds myoko', 'city country contrast', 'stalker', 'insanity', 'television director', 'new life', 'allan quatermain', 'group sex', 'ouija board', 'bear attack', 'brainwashing', 'skylight', 'ski jump', 'framed', 'cattle', 'fire fighting', 'demeanor course', 'tumor', 'valuable painting', 'brood', 'interview', 'death of king', 'stranded', 'bookstore', 'hereditary disease', 'implant', 'computer dating', 'generations confilct', 'yard sale', 'exit', 'bachelor', 'pie machine', 'iraqi\\xa0', 'journal', 'southern', 'farm worker', 'condition', 'girl power', 'nfl', 'ice hockey', 'tough love', 'marseille', 'seed', 'vomit', 'villain', 'flower', 'imperialism', 'episodic', 'gunslinger', 'convertible', 'school presentation', 'loft', 'exhibitionism', 'wrigley field', 'organic food', 'cliff', 'biotechnology', 'estranged wife', 'possessiveness', 'assurance', 'flunking out of school', 'airplane', 'fleet', 'slave owner', 'french accent', 'peak oil', 'home invasion', 'resident evil', 'loss of friend', 'clairvoyant', 'comic strip', 'rest stop', 'hebrew', 'rising star', 'nashville tennessee', 'british politics', 'break-up', 'cooking', 'disarming someone', 'roasted pig', 'confidence', 'destroyer', 'delivery', 'split screen', 'male virgin', 'animated flashback', 'major', 'computer', 'dc comics', 'bearer bonds', 'alps', 'one-sided love', 'spectacle', 'maya', 'amateur theater', 'social decay', 'pinball machine', 'aqueduct', 'barbarian horde', 'improvised explosive device', 'recreational vehicle', 'taxi', 'minister for education', 'overdose']\n"
     ]
    }
   ],
   "source": [
    "keywords = set()\n",
    "for item in movies.keywords:\n",
    "    for keyword in item:\n",
    "        keywords.add(keyword)\n",
    "keywords = list(keywords)\n",
    "print(keywords)"
   ]
  },
  {
   "cell_type": "code",
   "execution_count": 81,
   "metadata": {
    "colab": {
     "base_uri": "https://localhost:8080/",
     "height": 34
    },
    "colab_type": "code",
    "id": "-GqUkVFOgSm2",
    "outputId": "d06e1408-8d0c-470e-bf85-75bdb836b51d"
   },
   "outputs": [
    {
     "data": {
      "text/plain": [
       "8657"
      ]
     },
     "execution_count": 81,
     "metadata": {},
     "output_type": "execute_result"
    }
   ],
   "source": [
    "len(keywords)"
   ]
  },
  {
   "cell_type": "markdown",
   "metadata": {
    "colab_type": "text",
    "id": "tk0oJgw6gWv6"
   },
   "source": [
    "Existem mais keywords distintas do que filmes  o que indica que cada filme vai ter o seu conjunto de keywords  e estes varia muito de filme para filme.  Vamos eliminar esta variável. \n",
    "\n",
    "Nota: Caso existisse tempo poderíamos ir ver se existem keywords que aparecem com mais frequencia para vote_average superiores/ inferiores e assim criar clusters de keywords. "
   ]
  },
  {
   "cell_type": "code",
   "execution_count": 0,
   "metadata": {
    "colab": {},
    "colab_type": "code",
    "id": "zBzAv6YjhuSu"
   },
   "outputs": [],
   "source": [
    "# eliminar coluna keywords\n",
    "movies = movies.drop(columns=['keywords'] , axis = 1 )"
   ]
  },
  {
   "cell_type": "code",
   "execution_count": 0,
   "metadata": {
    "colab": {
     "base_uri": "https://localhost:8080/",
     "height": 428
    },
    "colab_type": "code",
    "id": "zoNzGD6ciBwt",
    "outputId": "b35f907b-f0c2-4b79-891d-27a4361e7ce8"
   },
   "outputs": [
    {
     "data": {
      "text/html": [
       "<div>\n",
       "<style scoped>\n",
       "    .dataframe tbody tr th:only-of-type {\n",
       "        vertical-align: middle;\n",
       "    }\n",
       "\n",
       "    .dataframe tbody tr th {\n",
       "        vertical-align: top;\n",
       "    }\n",
       "\n",
       "    .dataframe thead th {\n",
       "        text-align: right;\n",
       "    }\n",
       "</style>\n",
       "<table border=\"1\" class=\"dataframe\">\n",
       "  <thead>\n",
       "    <tr style=\"text-align: right;\">\n",
       "      <th></th>\n",
       "      <th>budget</th>\n",
       "      <th>popularity</th>\n",
       "      <th>production_companies</th>\n",
       "      <th>production_countries</th>\n",
       "      <th>revenue</th>\n",
       "      <th>runtime</th>\n",
       "      <th>spoken_languages</th>\n",
       "      <th>title</th>\n",
       "      <th>vote_average</th>\n",
       "      <th>vote_count</th>\n",
       "      <th>year</th>\n",
       "      <th>Western</th>\n",
       "      <th>Family</th>\n",
       "      <th>Music</th>\n",
       "      <th>Horror</th>\n",
       "      <th>Thriller</th>\n",
       "      <th>Science Fiction</th>\n",
       "      <th>Animation</th>\n",
       "      <th>Fantasy</th>\n",
       "      <th>Crime</th>\n",
       "      <th>War</th>\n",
       "      <th>Adventure</th>\n",
       "      <th>Documentary</th>\n",
       "      <th>Foreign</th>\n",
       "      <th>Drama</th>\n",
       "      <th>Mystery</th>\n",
       "      <th>Romance</th>\n",
       "      <th>Comedy</th>\n",
       "      <th>History</th>\n",
       "      <th>Action</th>\n",
       "    </tr>\n",
       "  </thead>\n",
       "  <tbody>\n",
       "    <tr>\n",
       "      <th>0</th>\n",
       "      <td>237000000</td>\n",
       "      <td>150.437577</td>\n",
       "      <td>[Ingenious Film Partners, Twentieth Century Fo...</td>\n",
       "      <td>[United States of America, United Kingdom]</td>\n",
       "      <td>2787965087</td>\n",
       "      <td>162.0</td>\n",
       "      <td>[English, Español]</td>\n",
       "      <td>Avatar</td>\n",
       "      <td>7.2</td>\n",
       "      <td>11800</td>\n",
       "      <td>2009</td>\n",
       "      <td>0.0</td>\n",
       "      <td>0.0</td>\n",
       "      <td>0.0</td>\n",
       "      <td>0.0</td>\n",
       "      <td>0.0</td>\n",
       "      <td>1.0</td>\n",
       "      <td>0.0</td>\n",
       "      <td>1.0</td>\n",
       "      <td>0.0</td>\n",
       "      <td>0.0</td>\n",
       "      <td>1.0</td>\n",
       "      <td>0.0</td>\n",
       "      <td>0.0</td>\n",
       "      <td>0.0</td>\n",
       "      <td>0.0</td>\n",
       "      <td>0.0</td>\n",
       "      <td>0.0</td>\n",
       "      <td>0.0</td>\n",
       "      <td>1.0</td>\n",
       "    </tr>\n",
       "    <tr>\n",
       "      <th>1</th>\n",
       "      <td>300000000</td>\n",
       "      <td>139.082615</td>\n",
       "      <td>[Walt Disney Pictures, Jerry Bruckheimer Films...</td>\n",
       "      <td>[United States of America]</td>\n",
       "      <td>961000000</td>\n",
       "      <td>169.0</td>\n",
       "      <td>[English]</td>\n",
       "      <td>Pirates of the Caribbean: At World's End</td>\n",
       "      <td>6.9</td>\n",
       "      <td>4500</td>\n",
       "      <td>2007</td>\n",
       "      <td>0.0</td>\n",
       "      <td>0.0</td>\n",
       "      <td>0.0</td>\n",
       "      <td>0.0</td>\n",
       "      <td>0.0</td>\n",
       "      <td>0.0</td>\n",
       "      <td>0.0</td>\n",
       "      <td>1.0</td>\n",
       "      <td>0.0</td>\n",
       "      <td>0.0</td>\n",
       "      <td>1.0</td>\n",
       "      <td>0.0</td>\n",
       "      <td>0.0</td>\n",
       "      <td>0.0</td>\n",
       "      <td>0.0</td>\n",
       "      <td>0.0</td>\n",
       "      <td>0.0</td>\n",
       "      <td>0.0</td>\n",
       "      <td>1.0</td>\n",
       "    </tr>\n",
       "    <tr>\n",
       "      <th>2</th>\n",
       "      <td>245000000</td>\n",
       "      <td>107.376788</td>\n",
       "      <td>[Columbia Pictures, Danjaq, B24]</td>\n",
       "      <td>[United Kingdom, United States of America]</td>\n",
       "      <td>880674609</td>\n",
       "      <td>148.0</td>\n",
       "      <td>[Français, English, Español, Italiano, Deutsch]</td>\n",
       "      <td>Spectre</td>\n",
       "      <td>6.3</td>\n",
       "      <td>4466</td>\n",
       "      <td>2015</td>\n",
       "      <td>0.0</td>\n",
       "      <td>0.0</td>\n",
       "      <td>0.0</td>\n",
       "      <td>0.0</td>\n",
       "      <td>0.0</td>\n",
       "      <td>0.0</td>\n",
       "      <td>0.0</td>\n",
       "      <td>0.0</td>\n",
       "      <td>1.0</td>\n",
       "      <td>0.0</td>\n",
       "      <td>1.0</td>\n",
       "      <td>0.0</td>\n",
       "      <td>0.0</td>\n",
       "      <td>0.0</td>\n",
       "      <td>0.0</td>\n",
       "      <td>0.0</td>\n",
       "      <td>0.0</td>\n",
       "      <td>0.0</td>\n",
       "      <td>1.0</td>\n",
       "    </tr>\n",
       "    <tr>\n",
       "      <th>3</th>\n",
       "      <td>250000000</td>\n",
       "      <td>112.312950</td>\n",
       "      <td>[Legendary Pictures, Warner Bros., DC Entertai...</td>\n",
       "      <td>[United States of America]</td>\n",
       "      <td>1084939099</td>\n",
       "      <td>165.0</td>\n",
       "      <td>[English]</td>\n",
       "      <td>The Dark Knight Rises</td>\n",
       "      <td>7.6</td>\n",
       "      <td>9106</td>\n",
       "      <td>2012</td>\n",
       "      <td>0.0</td>\n",
       "      <td>0.0</td>\n",
       "      <td>0.0</td>\n",
       "      <td>0.0</td>\n",
       "      <td>1.0</td>\n",
       "      <td>0.0</td>\n",
       "      <td>0.0</td>\n",
       "      <td>0.0</td>\n",
       "      <td>1.0</td>\n",
       "      <td>0.0</td>\n",
       "      <td>0.0</td>\n",
       "      <td>0.0</td>\n",
       "      <td>0.0</td>\n",
       "      <td>1.0</td>\n",
       "      <td>0.0</td>\n",
       "      <td>0.0</td>\n",
       "      <td>0.0</td>\n",
       "      <td>0.0</td>\n",
       "      <td>1.0</td>\n",
       "    </tr>\n",
       "    <tr>\n",
       "      <th>4</th>\n",
       "      <td>260000000</td>\n",
       "      <td>43.926995</td>\n",
       "      <td>[Walt Disney Pictures]</td>\n",
       "      <td>[United States of America]</td>\n",
       "      <td>284139100</td>\n",
       "      <td>132.0</td>\n",
       "      <td>[English]</td>\n",
       "      <td>John Carter</td>\n",
       "      <td>6.1</td>\n",
       "      <td>2124</td>\n",
       "      <td>2012</td>\n",
       "      <td>0.0</td>\n",
       "      <td>0.0</td>\n",
       "      <td>0.0</td>\n",
       "      <td>0.0</td>\n",
       "      <td>0.0</td>\n",
       "      <td>1.0</td>\n",
       "      <td>0.0</td>\n",
       "      <td>0.0</td>\n",
       "      <td>0.0</td>\n",
       "      <td>0.0</td>\n",
       "      <td>1.0</td>\n",
       "      <td>0.0</td>\n",
       "      <td>0.0</td>\n",
       "      <td>0.0</td>\n",
       "      <td>0.0</td>\n",
       "      <td>0.0</td>\n",
       "      <td>0.0</td>\n",
       "      <td>0.0</td>\n",
       "      <td>1.0</td>\n",
       "    </tr>\n",
       "  </tbody>\n",
       "</table>\n",
       "</div>"
      ],
      "text/plain": [
       "      budget  popularity  ... History Action\n",
       "0  237000000  150.437577  ...     0.0    1.0\n",
       "1  300000000  139.082615  ...     0.0    1.0\n",
       "2  245000000  107.376788  ...     0.0    1.0\n",
       "3  250000000  112.312950  ...     0.0    1.0\n",
       "4  260000000   43.926995  ...     0.0    1.0\n",
       "\n",
       "[5 rows x 30 columns]"
      ]
     },
     "execution_count": 68,
     "metadata": {
      "tags": []
     },
     "output_type": "execute_result"
    }
   ],
   "source": [
    "movies.head()"
   ]
  },
  {
   "cell_type": "markdown",
   "metadata": {
    "colab_type": "text",
    "id": "6M611c-WiNEa"
   },
   "source": [
    "--production_companies"
   ]
  },
  {
   "cell_type": "code",
   "execution_count": 0,
   "metadata": {
    "colab": {
     "base_uri": "https://localhost:8080/",
     "height": 54
    },
    "colab_type": "code",
    "id": "VoKRqJipiTor",
    "outputId": "d8deaa81-34e1-4078-a255-57d0bd57d145"
   },
   "outputs": [
    {
     "name": "stdout",
     "output_type": "stream",
     "text": [
      "['Heineken Branded Entertainment', 'Gospel of John Ltd.', 'Ten Thirteen Productions', 'On Entertainment', 'John Wells Productions', 'Tall Trees Productions', 'UIP', 'Marubeni', 'Kasdan Pictures', 'Outlaw Sinema', 'Liberty Pictures', 'Obelisk Productions', 'Versátil Cinema', 'Robert Simonds Productions', 'Endgame Entertainment', 'Pure Flix Entertainment', 'Sierra / Affinity', 'Baltimore Pictures', 'Zaftig Films', 'Mace Neufeld Productions', 'Canal Plus Group', 'Bonnie Timmermann Productions', 'Wadleigh-Maurice', 'Global Medien KG', 'Open Road Films', 'Such Much Films', 'Midnight Picture Show', 'Avenue Pictures Productions', 'Columbia Pictures Corporation', 'Miho Film', 'Occupant Entertainment', 'BrownHouse Productions', 'Alvernia Studios', 'Stéphan Films', 'Allied Stars, Ltd.', 'Sudden Storm Productions', '3D Entertainment', 'Dark Harbor Stories', 'Gaylord Films', 'Mitsubishi', 'TaliaFilm II Productions', 'Courtside Seats Productions', 'Constantin Film Ltd.', 'Blossom Films', 'Media Magik Entertainment', 'Da Vinci Media Ventures', 'Turner Pictures', 'Grive Productions', 'Carolco International N.V.', 'Silverwood Films', 'Central Cinema Company Film', 'Red Bank Films', 'Duplass Brothers Productions', 'CoBo Fund', 'Intellectual Properties Worldwide', 'Quick Draw Productions', 'InDigEnt (Independent Digital Entertainment)', 'Huahua Media', 'Quick Six Entertainment', 'Eclectic pictures', 'Jersey Films', 'Medienboard Berlin-Brandenburg', 'Friendly Films (II)', 'Bazmark Films', 'Instituto Nacional de Cine y Artes Audiovisuales (INCAA)', 'Saturn Films', 'Cecchi Gori Group Tiger Cinematografica', 'Core Productions', 'Paradox Entertainment', 'MMCB Film Produktion 2004', 'Valhalla Motion Pictures', 'Ciné+', 'Wild Bunch', 'Mpower Pictures', 'Maverick Films', \"Willie's Movies\", 'Fantasy Films', 'UW3 Film Productions', 'BBC Worldwide', 'A&B Producoes', 'KC Medien', 'Generalitat Valenciana', 'The Tyler Perry Company', 'Oil Flick Films No.2', 'Kinberg Genre', 'Lumière Pictures', 'Hector BV', 'Grand Slam Productions', 'National Lottery', 'Motion Picture Production GmbH & Co. Erste KG', 'T-Series', 'Baldwin Entertainment Group', 'Danny the Dog Prods Ltd.', 'Wolper Organization', 'SPD Films', 'Creepshow Films Inc.', 'Pariah Entertainment Group', 'Corsan', 'Code Entertainment', 'Three Good Men', 'FilmColony', 'Great Oaks Entertainment', 'Carol Baum Productions', 'Odin', 'Regione Lazio', 'Mirage Studios', 'Jonathan Krane Group', 'Harbor Light Entertainment', 'WideAwake', 'David Kirschner Productions', 'Crucial Films', 'EMJAG Productions', 'Doosabu Film', 'LStar Capital', 'Les Films Alain Sarde', 'Barentsfilm', 'Etalon film', 'CJ Capital Investment', 'Arte France Cinéma', 'Blue-Tongue Films', 'Hopscotch Productions', 'Mirisch Corporation, The', 'Fox Filmes do Brasil', 'Jan Chapman Pictures', 'Collision Entertainment', 'Dog Eat Dog Productions Inc.', 'Arc Productions', 'Pascal Pictures', 'Runteam', 'Toho Pictures', 'Blue Wolf', 'Rational Packaging Company', 'Appian Way', 'Traveling Picture Show Company (TPSC)', 'Image Entertainment', 'Vulcan Productions Inc.', 'Rat Entertainment', 'Dharma Productions', 'Double Nickel Entertainment', 'Filmax', 'Sobras International Pictures', 'Nina Saxon Film Design', 'Material Pictures', 'Echo Lake Productions', 'Arachnid Productions Ltd.', 'Cruel and Unusual Films', 'Groucho II Film Partnership', 'Eleventh Street Production', 'NetFlix', 'Scared Productions', 'De Line Pictures', 'Allegiance Theater', 'The Virginia Company LLC', 'Nimbus Film Productions', 'Museum Canada Productions', 'Nelson Entertainment', 'MVL Incredible Productions', 'Lansdown Films', 'Initial Entertainment Group (IEG)', 'Studio Babelsberg', 'Seagal/Nasso Productions', 'Canal+Polska', 'Buena Vista International Film Production France', 'Brian Grazer/Scott Rudin Productions', 'Douglas/Reuther Productions', 'Bluewater Pictures', 'EDKO Film', 'Summertime Entertainment', 'Inferno Distribution', 'Troublemaker Studios', 'Columbia Pictures Industries', 'Bona Fide Productions', 'Battleplan Productions', 'Mediastream Dritte Film GmbH & Co. Beteiligungs KG', 'Mutant Enemy Productions', 'Pulse Films', 'Biscayne Pictures', 'Ringerike Zweite Filmproduktion', 'Earth Canada Productions', 'Fünfte Babelsberg Film', 'Stephen J. Cannell Productions', 'ShadowCatcher Entertainment', 'Icelandic Film', 'Warner Bros. Animation', 'Cobalt Media Group', 'Classic Media', 'Reliance Entertainment', 'Schroeder Hoffman Productions', 'Akil Production Company', 'Apaches Entertainment', 'Sneaky Shark', 'Picture Machine', 'Latitude Media', 'Pax Enterprises', 'IMF Internationale Medien und Film GmbH & Co. 3. Produktions KG', 'Tracy Films', 'Channel Four Films', 'Bomar OOD', 'Dribble Productions', 'Gruber Bros.', 'No Such Productions', 'Manifest Film Company', 'Horror Inc.', 'Sierra Pictures', 'RCS', 'Jouer Limited', 'Kinokompaniya CTB', 'Monolith Pictures (III)', 'Internationale Filmproduktion Stella-del-Süd', 'International Film Investors', 'Mass Hysteria Entertainment', 'Redeemable Features', 'Spitfire Pictures', 'Walter Shenson Films', 'Pain Unlimited GmbH Filmproduktion', 'Cinémage 4', 'Mars Media Beteiligungs', 'Taurus Film', 'Color Force', 'Temple Hill Productions', 'Kaitz Productions', 'Colgems Productions Ltd.', \"D'Artagnan Productions Limited\", 'Court Five', 'Twentieth Century Fox Animation', 'MFPV Film', 'Palomar Pictures International', 'Cantharus Productions', 'The Cantillon Company', 'Zininsa Film Production', 'Kut Productions', 'Casual Friday Productions', 'Bazelevs Production', 'ImageMovers', 'Fox Searchlight Pictures', 'United Plankton Pictures', 'Dirty Hands Productions', 'Overbrook Films', 'JEMPSA', 'Filmhuset Gruppen', 'Firm Films', 'ADF Acquisitions', 'ITS Capital', 'August Entertainment', 'Sortie 22', 'Lleju Productions', 'MEDIA Programme of the European Union', 'Chicago Pacific Entertainment', 'QED International', 'Tiggy Films', 'Saville Productions', 'Younggu-Art Movies', 'Signature Entertainment', 'Windy Hill Pictures', 'Hilary Henkin', 'Washington Square Films', 'Harvest Filmworks', 'Sighvatsson Films', 'Harris Company', 'Showtime Networks', 'BIM Distribuzione', 'JC 23 Entertainment', 'Omnilab Media', 'LBI Productions', 'Matter Productions', 'Brood Syndicate', 'Sahara Productions', 'Rhino Films', 'The Turman-Morrissey Company', 'Ontario Film Development Corporation', 'Opperman Viner Chrystyn Entertainment', 'Troika Pictures', 'Cube Libre', 'Produzioni Europee Associati (PEA)', 'Huayi Brothers Media', 'Sullivan Bluth Studios', 'Clubdeal', 'Block 2 Pictures', 'Unfinished Films', 'Journeyman Pictures', 'ChickFlick Productions', 'Buena Vista', 'Luna Pictures', 'IDG China Media', 'Emergency Films', 'Hedge Fund Film Partners', 'Canal+', 'Nibariki', 'Mitteldeutsche Medienförderung (MDM)', 'Junger Witt Productions', 'Triggerfish Animation', 'Parallel Film Productions', 'Ministerio de Cultura', 'American Entertainment Partners L.P.', 'NDF International', 'Origen Producciones Cinematograficas S.A.', 'The Catalina Production Group', 'The Weinstein Company', 'City of Lodz', 'Ada Films', 'Hong Kong Alpha Motion Pictures Co.', 'Allied Filmmakers', 'Zero Fiction Film', 'Twickenham Film Studios', 'Warner Bros. Pictures', 'Foxtor Productions', 'Animal Kingdom', 'Regency Enterprises', 'Five Drops', 'Sean Daniel Company', 'Munich Film Partners New Century & Company (MFP) Core Productions', 'JVC Entertainment Networks', 'Incentive Filmed Entertainment', 'Blue Askew', 'Blue Star Pictures', 'Long Distance Films', 'The Glasgow Film Fund', \"Mel's Cite du Cinema\", 'AFG Talons Productions', 'MNP Entreprise', 'Telecinco Cinema', 'Fuzzy Door Productions', 'Media Rights Capital (MRC)', 'Channel One Russia', 'DreamWorks Pictures', 'Capella International', 'Walwa Films S.A.', 'Allison Shearmur Productions', 'Pinema', 'Hobby Films', 'Warner Brothers/Seven Arts', 'Broken Road Productions', 'Samuels Media', 'Cottage Industries', 'Toast Films', 'Denver and Delilah Productions', 'Maiden Voyage Pictures', 'Larry Franco Productions', 'BBC Earth', 'Act III', 'Cliffhanger Productions', 'Spectrum Effects', 'Plantain Films', 'Walt Disney', 'Edward R. Pressman Film', 'Benderspink', 'Cinetel Films', 'Material', 'Blue Sky Studios', 'Angel City Pictures', 'Jet Tone Films', 'Gold Circle Films', 'Popaganda Films', 'Misher Films', 'Det Danske Filminstitut', 'Roxlom Films', 'LHF Film', 'This Is That Productions', 'Scottish Screen', 'GH One', 'Nostromo Pictures', 'Kontsept Film Company', 'Participant Productions', 'British Film Institute', 'Lightstorm Entertainment', 'Q&Q Medien GmbH', 'Tiger Aspect Productions', 'Sogepaq', 'Filmfour', 'Sociedad General de Cine S.A.', 'NPV Entertainment', 'Phantom Four Films', 'Toho Company', 'Archer Gray', 'Dreamworks Pictures', 'ATR Films', 'National Film Development Corporation of India', 'Lime Orchard Productions', 'BH Tilt', 'British Broadcasting Corporation (BBC) Television', 'Mantello Brothers Productions', 'Konami', 'Quincy Jones-David Salzman Entertainment', '20th Century Fox Russia', 'Linovo Productions GmbH & Co. KG', 'Fuzzy Bunny Films (I)', 'HandMade Films', 'Artemple - Hollywood', 'Rollercoaster Entertainment', 'Handprint Entertainment', 'Producciones Anhelo', 'Furst Films', 'Chockstone Pictures', 'Suntaur Entertainment Company', 'Bedford Falls Company, The', 'Slate Films', 'double A Films', 'Prototype', 'Disney Double Dare You (DDY)', 'New Zealand Large Budget Screen Production Grant', 'Nick Wechsler Productions', 'Caro-McLeod', 'Clifford Werber Productions', 'Handsomecharlie Films', 'Ghoulardi Film Company', 'French Tax Credit', 'Virtual Studios', 'RKB Mainichi Broadcasting Corporation', 'Valentina Films', 'Delphi III Productions', 'SPAD Films', 'Egg Films', 'Argyle Enterprises', 'Smokewood Entertainment Group', 'Number 9 Films', 'Epsilon Motion Pictures', 'Babbo Inc.', 'Outpost Studios', 'Bernard Gayle Productions', 'Tim Burton Animation Company', 'K. JAM Media', 'IDEA Filmproduktions', 'Cinema Four', 'Silver Plane Films', 'Galatée Films', 'Bob Yari Productions', 'Gilbert Films', 'Chuan Production Film Studio', 'Haddock Films S.R.L.', 'Red Wagon Entertainment', 'Transmission Pictures', 'National Geographic Entertainment', 'Warner Bros. Family Entertainment', 'Micro Fusion 2003-2', 'Gerard Butler Alan Siegel Entertainment', 'Don Carmody Productions', 'Industrial Development Corporation of South Africa', 'Film 4', 'Prophecy Pictures Ltd.', 'Island Film Group', 'National Film Board of Canada (NFB)', 'FourBoys Entertainment', 'Cape Of Good Films', 'Kathbur Pictures', 'Good Machine', 'Mediapro', 'Aardman Animations', 'Blue Productions', 'Solid Entertainment', 'Wendy Finerman Productions', 'JW Films', 'Egmond Film & Television', 'Edith Film Oy', 'Onyx Films', 'Slough Pond', 'Monsoon Films Private Limited', 'Leverage Entertainment', 'Translux', 'Sigma Films', 'Les Films Ariane', 'Irwin Allen Productions', 'Hit & Run Productions', 'Government of Malta', 'Topkick Productions', 'Blueeyes Productions', 'Starz Animation', 'Beverly Detroit', \"Forest Whitaker's Significant Productions\", 'Mirage Enterprises', 'La Parti Productions', 'The Production Company', 'Penn Station Entertainment', 'American Zoetrope', 'Sony Pictures Releasing', 'Lonetree Entertainment', 'Prone Gunman', 'Gold/Miller Productions', '4DH Films', 'China Film Co.', 'The Ladd Company', 'Ghost House Pictures', 'Will Packer Productions', 'Angel Eyes Productions', 'Orange Studios', 'BCDF Pictures', 'Ontario Media Development Corporation (OMDC)', 'Animal Logic', 'Fidélité Films', 'Carousel Picture Company, The', 'Cruise-Wagner Productions', 'TF 1 Film Productions', 'Republic Pictures', 'Embargo Films', 'GH Three', 'Cowboy Films', 'Red Hour Films', '2929 Productions', 'Camelot Pictures', 'Synchronistic Pictures', 'Molinare Studios', 'Mainichi Broadcasting System (MBS)', 'Brad Grey Pictures', 'Lennox House Films', 'John Ford Productions', 'China Film & TV Capital', 'Equity Pictures Medienfonds GmbH & Co. KG II', 'An Olive Branch Productions', 'Maljack Productions', 'B.D.S. Productions Inc.', 'MFP Munich Film Partners', 'MP Film Management', 'De Laurentiis Entertainment Group', 'Polar Productions', 'Diaphana Films', 'Asia Union Film & Entertainment Ltd.', 'Carolco Pictures', 'Nutcracker Holdings', 'World 2000 Entertainment', 'Dayday Films', 'British Columbia Film', 'FOZ', 'Moving Picture Company (MPC)', 'Orange Cinéma Séries', 'Radio Telefís Éireann (RTÉ)', 'Next Wednesday Productions', 'Kite Runner Holdings', 'Stereo D', 'Gama Entertainment Partners', 'Laura Ziskin Productions', 'Heyday Films', 'Hypnotic', 'Munich Film Partners & Company (MFP) GHS Productions', 'Filmgate Films', 'La Petite Reine', 'Cub Eight Productions', 'Motel Films', 'Falcon International Productions', 'Phoenix Pictures', 'Daniel Bobker Productions', 'Groundswell Productions', 'Pathe Productions', 'Larger Than Life Productions', 'Disruption Entertainment', 'Horsethief Pictures', 'Telefilm Canada', 'RatPac-Dune Entertainment', 'Venture Forth', 'Screen Australia', 'Peirce Pictures', 'Surefire Film Productions', 'Jan Chapman Productions', 'Televisió de Catalunya TV3', 'British Film Institute (BFI)', 'VIP Medienfonds 4', 'C.R.G. International', 'Ladbroke', 'Mott Street Pictures', 'Ocean Films', 'Lietuvos Kinostudija', 'Hakuhodo DY Media Partners', 'Canlaws Productions', 'Paramount', 'Compass International Pictures', 'Good Night Productions', 'Film4', 'Rising Star', 'AVCO Embassy Pictures', 'HSX Films', 'Silver Bullet Productions (II)', 'Stuber Productions', 'Wonder works studios entertainment group', 'The Fourth Production Company Film Group', 'Lieutenant Productions', 'Arnold Kopelson Productions', 'Cronos Entertainment AIE', 'Georgetown Productions Inc.', 'Bee Vine Pictures', 'Medici Entertainment', 'No Frills Film Production', 'Armada Films', 'Green Hat Films', 'Bill/Phillips', 'BenderSpink', 'Curzon Film Distributors', '1821 Pictures', 'Mediaset España', 'Artists Public Domain', 'Zanagar Films', 'Reforma Films', 'Lions Gate', 'Monarchy Enterprises B.V.', 'Rook Films', 'Left Tackle Pictures', 'Right of Way Films', 'Marimark Productions', 'Fortissimo Films', 'Film 111', 'Walt Disney Studios Motion Pictures', 'Barry Mendel Productions', 'Cineblue Internationale Filmproduktionsgesellschaft', 'Covert Media', 'State Street Pictures', 'U-Drive Productions', 'Polygon Entertainment', 'Nu Image Entertainment GmbH', 'The Selznik Studio', 'Sony Pictures Entertainment', 'Cinerama Releasing Corporation', 'KOH', 'Georgetown Productions, Inc.', 'Stan Winston Studio', 'Avalanche Productions', 'Little Bird', 'St. Tropez Films', 'Eketahuna LLC', 'DJ Films', 'Alberto Grimaldi Productions', 'Mark Gordon Productions', 'Langley Park Production', 'Universal Cartoon Studios', 'Jouror Productions', 'Superfinger Entertainment', 'EMI Films', 'Protozoa Pictures', 'Isabella Films', 'M Productions', 'Isabella Films BV', 'bob industries', 'Parkes+MacDonald Image Nation', 'Arcadia Motion Pictures', 'The Mirisch Corporation', 'Geisler-Roberdeau', 'Manderlay', 'Razor Film Produktion', 'Horizon Pictures', 'Jack Rollins & Charles H. Joffe Productions', 'Allied Artists Pictures', 'Les Editions Albert René', 'Monophonic Inc.', 'Dentsu', 'Delphi II Productions', 'O2 Filmes', 'Dear Film Produzione', 'Werc Werk Works', 'The Safran Company', 'Darryl F. Zanuck Productions', 'Media Pro Pictures', 'Paul Schiff Productions', 'Global Entertainment Group', 'Forward Pass', 'Producers Sales Organization', 'District 9', 'Carolina Bank', 'Crossbow Productions', 'SModcast Pictures', 'Merchant Ivory Productions', 'Alive Films', 'Alphaville Films', 'Hari Om Entertainment Co.', 'Global Entertainment Productions GmbH & Company Medien KG', 'Pacifica Film', 'Skydance Media', 'Harold Greenberg Fund', 'Milk & Honey', 'Versus Entertainment', 'Harpo Films', 'Playtone Productions', 'Toma 78', 'Eagle Vision Inc.', 'Filmförderungsanstalt (FFA)', 'Wells Productions', \"O' Salvation\", 'Fuji Television Network', 'Mediana Productions Filmgesellschaft', 'Black & White Productions', 'XM2 Productions', 'Str8jacket Creations', 'Chambara Pictures', 'Ground Control', 'Babylon Films Limited', 'Undisputed Cinema', 'Smoke House', 'Filmtribe', 'Intrepid Pictures', 'Patrick Aiello Productions', 'Birnbaum / Barber Productions', 'The Big Gun Project', 'Room 101', 'Caviar Films', 'Nickelodeon Animation Studios', 'TSG Entertainment', 'Kinowelt Median', '1818', 'Michael Alden Productions', 'Constant c Productions', 'Art Pictures Studio', 'Film Colony', 'Alloy Entertainment', 'City Film', 'Post Empire Films', 'Phase 1 Productions', 'LBI Entertainment', 'Tightrope Pictures', 'RT Features', 'Shoakuken', 'JD Prod', 'Maysville Pictures', 'Babieka', 'Mystery Clock Cinema', 'Skydance Productions', 'Ursa Major Films LLC', 'Electronic Arts', 'Sommers Company, The', 'Red Envelope Entertainment', 'WV Films LLC', 'Danjaq', 'Belstar Productions', 'Liberty Films (II)', 'Cinéart', 'Cruella Productions', 'News On Request (NOR)', '100 Bares', 'Inferno Entertainment', 'Pacific Western', 'Friuli Venezia Giulia Film Commission', 'Kalkronkie', 'Goldcrest Pictures', 'Lone Wolf McQuade Associates', 'Sodium Fox', 'HorrorFlix', 'Deuce Three Productions', 'Cheerland Entertainment Organization', 'Samuel Goldwyn', 'The Jacobson Company', 'Dartmouth International', 'Maven Entertainment', 'Conquest Productions', 'France 3 Cinéma', 'Marianne Productions', 'Charles K. Feldman Group', 'Globo filmes', 'Liberty Films UK', 'Aegis Film Fund', 'Mundy Lane Entertainment', 'Plum Pictures', 'Melvin Simon Productions', 'Close Call Films', 'd-rights', 'Jerome Hellman Productions', 'Route One Films', 'Irish Screen', 'Autonomous', 'Pontchartrain Productions', 'Asmik Ace Entertainment', 'Ghost Ship Films Pty. Ltd.', 'Highland Films', 'Medusa Produzione', 'Russian Roulette Ltd.', 'GreeneStreet Films', 'Vortex', 'Krisjair', 'Patalex V Productions Limited', 'Sixteen Films', 'Huayi Brothers Pictures', 'Vast Entertainment', 'Anagram Pictures Inc.', 'Sunlight Productions', 'Centre Régional des Ressources Audiovisuelles (CRRAV)', 'PolyGram Filmed Entertainment', 'Touchstone Pictures', 'Italian Tax Credit', 'Wayfare Entertainment', 'Film Science', 'MMC Studios', 'Overnight Films', 'Galactic Films', 'Arts Council of England', 'Conseil Régional de Franche-Comté', 'Camelot Productions', 'Visiona Romantica', 'Trilogy Entertainment Group', 'Paradis Films', 'Good Films', 'Molinare Investment', 'National Film Finance Corporation (NFFC)', 'Tapestry Films', 'Sumitomo Corporation', 'Linson Films', 'Springwood Productions', 'DreamWorks SKG', 'NuAmerica Entertainment', 'Cinerenta-Cinebeta', 'Oops Doughnuts Productions', 'Lions Gate Films', 'Atmosphere Entertainment MM', 'C-2 Pictures', 'Friendly Films Productions', 'Entertainment One', 'Furia de Titanes II, A.I.E.', 'Ciné@', 'Lucasfilm', 'Hart-Sharp Entertainment', 'Bulletproof Cupid', 'Lantia Cinema & Audiovisivi', 'Depth Entertainment', 'Constellation Films', 'Max TV', 'Stratus Film Co.', 'Outlaw Productions', '1984 Private Defense Contractors', 'TABBAK', 'Motion Picture KAPPA Produktionsgesellschaft', 'National Geographic Films', 'Show East', 'Top Hat Releasing', 'Synchronicity Films', 'Jolly Film', 'Vendian Entertainment', 'South Side Amusement Company', 'Village-A.M. Partnership', 'Amen Ra Films', '3 in the Box', 'Our Stories Films', 'Neal Street Productions', 'Count of Monte Cristo Ltd.', 'Olympus Pictures', 'Carnaby International', 'Happinet Pictures', 'Biride Productions', 'North Box Productions', 'Samuel Goldwyn Films', 'D8', 'Brooksfilms Ltd.', 'Native Pictures Productions', 'Eden Rock Media', 'Télévision Suisse-Romande (TSR)', 'Esparza / Katz Productions', 'Fox Films Ltd.', 'Fellah Pictures', 'LOVEFiLM International', 'Attitude Pinículas y Films A.I.E.', 'Nippon Television Network (NTV)', 'Legend3D', 'Twentieth Century Fox Film Corporation', 'Di Bonaventura Pictures', 'Illumination Entertainment', 'Gaumont', 'Muse Entertainment Enterprises', 'Chernin Entertainment', 'Really Useful Films', 'RKO', 'No Trace Camping', 'Electric City Entertainment', 'Jack and Henry Productions Inc.', 'Coconut Pete Productions', 'American Films', 'TBB', 'Internationale Filmproduktion Blackswan', 'Wes Craven Films', 'Millbrook Farm Productions', 'Cappa Productions', 'Toho-Towa', 'Greenlit Rights', 'Internationale Filmproduktion Blackbird Erste', 'Foresight Unlimited', 'Unique Features', 'Zoetrope Studios', 'Hirsch', 'Koan Films', 'Taormina Productions', 'Film Afrika Worldwide', 'MavroCine Pictures GmbH & Co. KG', 'Natural Nylon Entertainment', 'Hand Made Films', 'TAO Film', 'Osiris Films', 'Victor Company of Japan (JVC)', 'LivePlanet', 'Manhattan Project', 'All Pictures Media', 'Fria Luz Del Dia, A.I.E.', 'Callahan Filmworks', 'Indigo Film', 'Big Primate Pictures', 'First Look Media', 'France2 Cinéma', 'Fantail Films Inc.', 'Marvel Entertainment', 'Rocklin / Faust', 'Hopscotch Features', 'Easy There Tiger Productions', 'LB Productions', 'Image Ten', 'Union Générale Cinématographique', 'Spyglass Entertainment', 'Rogue', 'DisneyToon Studios', 'Tatfilm', 'Région Nord-Pas-de-Calais', 'Magical Elves Productions', 'Spelling Films', 'Televisión Federal (Telefe)', 'Cinema Line Film Corporation', 'Darkwoods Productions', 'X3US Productions', 'Hallway Pictures', 'Quo Vadis Cinéma', 'Walt Disney Pictures', 'Starz Media', 'SuperMega', 'Immortal Thoughts', 'Team Todd', 'Scenario Lane Productions', 'Lereby Productions', 'Filmauro', 'De Wolfe Music', 'Giant Pictures', 'Neo Art & Logic', 'Daybreak', 'Dune Entertainment', 'Michael De Luca Productions', 'Shopgirl', 'The Film Farm', 'Underground', 'Overture Films', 'Amercent Films', 'Rex Media', 'FilmWorks', 'Cinema Group Ventures', 'Pandora Filmproduktion', 'Proscenium Films', 'Process Productions', \"Centre National du Cinéma et de L'image Animée (CNC)\", 'Panorama Media', 'Nu-Image Films', 'Ronald Shusett/Gary Goldman', 'Indo-British', 'TF1 Films Productions', 'Davis-Panzer Productions', 'QI Quality International GmbH Co. KG', 'Stardust Pictures', 'Hiett Designs of Las Vegas', 'Prettybird', 'Treasure Company', 'SLM Production Group', 'Vanguard Animation', 'HBO', 'Bristol Bay Productions', 'Pledge Productions', 'Neunte Babelsberg Film', 'Gaumont Columbia Tristar Films', 'Dreamland Productions', 'Home Media & Entertainment Fund', 'Hungry Eye Lowland Pictures B.V.', 'Global Produce', 'Wild Things Productions', 'AI-Film', 'Deutsche Filmförderfonds (DFFF)', 'Parabolic Pictures', 'Brothers Dowdle Productions', 'Bandai Visual Company', 'Paramount Classics', 'Bangkok Dangerous', 'Pirol Stiftung', 'Videovision Entertainment', 'Mandalay Entertainment', 'Société Radio-Canada', 'Indian Paintbrush', 'Dark Castle Entertainment', 'Finding Forrester Productions', 'Provident Films', 'Evergreen MD', 'Big Talk Productions', 'Blue Light', 'Calimari Productions', 'Mainframe Entertainment', 'Fandango', 'British Film Council', 'Westdeutscher Rundfunk (WDR)', 'Glitter Productions', 'Mandalay Vision', 'Elías Querejeta Producciones Cinematográficas S.L.', 'Enigma Productions', 'Iguana Producciones', 'Silver Screen Partners III', 'MPH Entertainment Productions', 'UGC PH', 'Persistent Entertainment', 'Cinereach', 'Tim Burton Productions', 'First Knight Productions', 'Flower Films (II)', 'WTC Productions', 'Q Productions', 'Ixtlan', 'Vengeance Productions Pty. Ltd.', 'Kouf/Bigelow Productions', 'Exponential Films', 'Cambridge Productions', 'Fireworks Pictures', 'IndieProd Company Productions', 'Buffalo Gal Pictures', '2 Entertain', 'Australian Film Finance Corporation (AFFC)', 'Northern Lights Films', 'Ad Hominem Enterprises', 'Sean S. Cunningham Films', 'Campanile Productions', 'Imagi Production', 'Timnick Films', 'Sidney Kimmel Entertainment', 'NALA Films', 'KISS Nation', 'Red Hour Productions', 'Dog Eat Dog Films', 'SBS Productions', 'Lynda Obst Productions', 'Yellow Bird', 'Golan-Globus Productions', 'K/O Paper Products', 'Strike Entertainment', 'Stone Group Pictures', 'Strange Matter Films', 'Andale Pictures', 'Entertainment Manufacturing Company', 'Skate Away Productions', 'Pictures in Paradise', 'Medienproduktion Poseidon Filmgesellschaft', 'Ruby Films', 'ApolloMedia Distribution', 'De Milo', 'Knickerbocker Films', 'Itaca Films', 'Jim Henson Company, The', '80 Days Productions', 'Medusa Film', 'Inside Track 3', \"The Donners' Company\", 'Tomboy Films', 'Perfect Game, The', 'Strong Heart/Demme Production', 'Anarchos Productions', '22 & Indiana Pictures', 'Tax Credit Finance', 'Tiger Moth Productions', 'Golden Harvest Company', 'France 4', 'Yeah', 'Canal+ Droits Audiovisuels', 'Tollin/Robbins Productions', 'Smart Egg Pictures', 'Broad Green Pictures', 'Amblin Entertainment', 'Pioneer Pictures', 'Samson Films', 'AZL Productions KG', 'Crowvision Inc.', 'Nederlandse Programma Stichting (NPS)', 'Compulsion Inc.', 'R.P. Productions', 'Beijing Happy Pictures Cultural Communications Co.', 'Wigram Productions', 'Rocking Chair Productions', 'Movie Central Network', 'Lions Gate Family Entertainment', 'CinemaNX', 'Motion Investment Group', 'Electric Shepherd Productions', 'Grove Hill Productions', 'Banca Popolare di Vicenza', 'Silver Screen Partners IV', 'Wheelhouse Entertainment', 'Wayans Bros. Entertainment', 'XM3 Service', 'Syndicate Films International', 'Mostow/Lieberman Productions', 'Residaco', 'Reino del Cielo', 'Dovemead Films', 'Lawrence Gordon Productions', 'Doom Buggy Productions', 'Pioneer', 'See-Saw Films', 'Truth Entertainment', 'Industrial Light & Magic (ILM)', 'Kalis Productions GmbH & Co. Zweite KG', 'Ithaca Pictures', 'Human Worldwide', 'Jiangsu Broadcasting System', 'Worldview Entertainment', 'Aggregate Films', 'Lipsync Productions', 'Novo RPI', 'Python (Monty) Pictures Limited', 'NBC Universal Global Networks', 'Necropia', 'area japan', 'SW7D Productions', 'Initial Groupe', 'Fifty First Films', 'Biograf Jan Svěrák', 'ICF', 'First Point Entertainment', 'A Loopy Production LLC', 'Cold Spring Pictures', 'Art In Motion', 'Beacon Communications', 'JTP Films', 'Valkyrie Films', 'Visualizer Film Company', 'Taken 3', 'ScreenWest', 'Cross Creek Pictures', 'Saints LA', 'Jonesfilm', 'Prime Universe Productions', 'Main Street Movie Company', 'Tamm Productions', 'Rio Dulce', 'HighRoad Entertainment', 'Anka Film', 'Bi-polar Pictures', 'Rosebud Productions', 'The Ink Factory', 'Babe Ruthless Productions', 'I Remember Productions', 'Space Rocket Nation', 'Threshold Entertainment', 'Newcomm', 'Alphaville Productions', 'Village Roadshow Pictures', 'Frontier Pictures', 'Galaxy Productions', 'Sunrise Entertainment (II)', 'Samuelson Productions', 'Night and Day Pictures', 'Low Spark Films', 'Home Box Office', 'Filmko Pictures', 'Reliance BIG Entertainment', 'LEGO', 'New Wave Entertainment', 'Toff Guy Films', 'France 2 Cinéma', 'Les Productions du Trésor', 'United Artists', 'Hydraulx', 'Half Circle', 'McCann-Erickson', 'Ilion Animation Studios', 'Slap Happy Productions (II)', 'Saw 2 Productions', 'Krasnoff Foster Productions', 'Di Bonaventura Picture', 'Les Productions du Chicon', 'Spring Films', 'Schine-Moore Productions', 'Jean Doumanian Productions', 'Phoenix Film Poland', 'The Department of Trade and Industry of South Africa', 'MID Foundation', 'Blackfriars Bridge Films', 'Orion Pictures', 'Blumhouse Productions', 'Merlina Entertainment', 'Richard Williams Productions', 'N3D Land Productions', 'Telefónica Producciones', 'Got Films', '2DUX²', 'Piraya Film A/S', 'RCS Video', 'Headshot Films', 'Furry Vengeance Productions', 'Universal Animation Studios', 'Alfran Productions', 'Double Feature Films', 'The Directors Company', 'Cheongeoram', 'Beech Hill Films', 'Laurinfilm', 'Dawliz', 'MovieBank', 'Vrijzinnig Protestantse Radio Omroep (VPRO)', 'Cineclick Asia', 'National Geographic Society', 'Mad Chance', 'Rogue Films', 'Double Negative', 'Finestkind', 'Banque Populaire Images 9', 'Robert Lawrence Productions', 'K5 International', 'Summit Entertainment', 'Colossal Pictures', 'Pop Films', 'LD Entertainment', 'CineSon Entertainment', 'FGM Entertainment', 'Dr D Studios', 'Element Pictures', 'Plural - Jempsa', 'Spikings Entertainment', 'Blue Flower Productions', 'Palace Pictures', 'Marked Entertainment', 'Mirage Entertainment', 'Nitrogen Studios Canada', 'Solofilms', 'Amazon Prime Instant Video', 'Nu Image Films', 'Cott Productions', 'Independent Film Group', 'The Mirisch Company', 'Mikona Productions GmbH & Co. KG', 'Studio Canal', 'Red-horse Native', 'Punch Productions', 'Spacegate Productions', 'Granada Film Productions', 'Moonrise', 'FilmDistrict', 'Splendid Medien AG', 'ShivHans Pictures', 'Pink Machine', 'Aja / Levasseur Productions', 'Ultravi Productions', 'Warp X', 'Gordon Company', 'Newman/Tooley Films', 'Clarius Entertainment', 'Tig Productions', 'Momentum Pictures', \"Cooper's Town Productions\", 'C&P Productions', 'Barclays Mercantile Industrial Finance', 'Davis Films', 'London-Cannon Films', 'Team Ninja', 'DEJ Productions', 'Alcor Films', 'Pacific Renaissance Pictures Ltd.', 'Riche-Ludwig Productions', 'Cine Bazar', 'Blizzard Entertainment', 'Peter Frankfurt Productions', 'EMC Produktion', 'The Princess Bride Ltd.', 'Kartemquin Films', 'Brookwell-McNamara Entertainment', 'Ludlum Entertainment', 'Fellowship Adventure Group', 'Jericho Productions Ltd.', 'Little Brother Inc.', 'Liveplanet', 'WV Films III', 'BK', 'Challenge Film Corporation', 'UTV Motion Pictures', 'Banter', 'Fortress Films', 'White Noise Factory', 'Pacific Title and Art Studio', 'All Knight Productions', 'Pit Bull Productions', 'Deep River Productions', 'Joseph M. Singer Entertainment', 'The Saul Zaentz Company', 'Vnesheconombank', 'Mango Farms', 'Kino Vision', 'Terra Firma Films', 'VIP 4 Medienfonds', 'Saint Aire Production', 'Artina Films', 'Blinding Edge Pictures', 'Ollin Studio', 'Dreambridge Films', 'OddLot Entertainment', 'The Mark Gordon Company', 'TLA Releasing', 'Umedia', 'Dot Dot Dot Productions', 'Pikachu Project', 'Oak Productions', 'Internationale Filmproduktion Eagle', 'Boll KG', 'Enchanted Productions', 'Magnolia Mae Films', 'Contrafilm', 'Centropolis Film Productions', 'Scout Productions', 'SAI Productions', 'Cannon Pictures', 'Crossroads', 'Scott Pictures', 'Alan Young Pictures', 'Runteam III Ltd.', 'Regent Capital', 'Infogrames Entertainment', 'Flicks Motion Pictures', 'TAFT Entertainment Pictures', 'Triple Ajaxxx', 'Voltage Pictures', 'Robot Communications', 'Corus', 'Bergsten Music', 'Fountainbridge Films', 'Edmonds Entertainment Group (EEG)', 'Film Futures', 'Beijing New Picture Film Co. Ltd.', 'WV Films IV', 'Winkler Films', 'Lotus Entertainment (I)', 'Trans-Film', 'Film Victoria', 'Big Indie Pictures', 'Casey Silver Productions', 'NDE Productions', 'City Productions', 'Soficinéma 6', 'Mate Producciones S.A.', 'Safady Entertainment', 'Hammer Film Productions', 'Liberty Pictures (II)', 'VBT Productions', 'Right Coast Productions', '16 Block Productions', 'SpotFilms', 'Baumgarten Merims Productions', 'Recorded Picture Company (RPC)', 'Screen NSW', 'Le Grisbi Productions', 'Fipex Holding', 'Constantin Film International', 'Point Grey Pictures', 'Stage 6 Films', 'New World Pictures', 'Toho Film (Eiga) Co. Ltd.', 'Blueprint Pictures', 'Jon Kilik', 'Exception Wild Bunch', 'Goldcrest Films International', 'Feigco Entertainment', 'Underworld Entertainment', 'L.I.F.T. Production', 'Republic Pictures (I)', 'Will Vinton Studios', 'Fox Family Films', 'Dune Films', 'Dead Films', 'Sonnenfeld Josephson Worldwide Entertainment', 'Genre Films', 'Flashpoint Entertainment', 'Film Capital Europe Funds (FCEF )', 'Revolution Studios', 'Pegasus Film Partners', 'Maple Shade Films', 'Tencent Video', 'The Bureau', 'Lava Bear Films', 'Polski Instytut Sztuki Filmowej', 'chateau productions', 'MACT Productions', 'Plinyminor', 'Studiopolis', 'Claudie Ossard Productions', 'Detour Filmproduction', 'Furthur Films', 'Oriental DreamWorks', 'Stoller Global Solutions', 'Swedish Film Institute', 'Ehman Productions', 'Gotham Entertainment Group', 'Manitoba Film & Music', 'Hacienda Productions', 'Laura Bickford Productions', 'Babelsberg Film', 'Artfire Films', 'Wescom Productions', 'Dreamachine', 'Lunar Industries', \"Butcher's Run Films\", 'Filmförderung Hamburg', 'Tri Vision Pictures', 'Constantin Film', 'SNL Studios', 'Stonebridge Entertainment', 'X3 Canada Productions', 'Mandarin Films Distribution Co.', 'Majestic Films International', 'Apparatus Productions', 'Wildgaze Films', 'China Film Co-Production Corporation', 'Mutual Film Company', 'Little Wave Productions', 'Novaya Zemlya', 'Sil-Metropole Organisation', 'Run It Up Productions Inc.', 'Brass Hat Films', 'Fourth Kind Productions', 'Moonlighting Films', 'United Broadcasting Inc.', 'Invicta Capital', 'Picture Perfect Corporation', \"Large's Ark Productions\", 'Hwy61', 'Stillking Films', 'Icon Productions', 'Rooks Nest Entertainment', 'Academy Films', '4M', 'Kintop Pictures', 'DC Entertainment', 'Gimages', 'Propeler', 'Parkway Productions', 'Producers Circle', 'Alibaba Pictures Group', 'Fuller Films', 'Mark Johnson Productions', 'Andell Entertainment', 'Thinkfilm', 'Ten-Four Productions', 'Nord-Ouest Productions', 'DC Comics', 'Peters Entertainment', 'New Zealand Post Digital and Visual Effects Grant', 'Crystal Lake Entertainment', 'Big Arty Productions', 'Alan Jay Lerner Productions', 'Film Consortium', 'S & L Films', 'Papercut Films', 'Montecito Picture Company, The', 'Room 9 Entertainment', 'Blind Wink', '369 Productions', 'QC Entertainment', 'Newbridge Film Capital', 'Green Film Company', 'BBC', 'Twin Bros. Productions', 'A Band Apart', '98 MPH Productions', 'Rena Film', 'Clipsal Films', 'MMP Erste Filmproduktions', 'Film Council', 'Starway International Inc.', 'St. Petersburg Clearwater Film Commission', 'Jaffilms Inc.', 'Imprint Entertainment', 'Storefront Films', 'Québec Production Services Tax Credit', 'Internationale Scarena Filmproduktionsgesellschaft 2', 'Apjac International', 'Ubu Productions', 'Stage III Productions', 'National Film Trustee Company', 'Matt Tolmach Productions', 'Hawk Films', 'Genetics Productions', 'Scooter Braun Films', 'Centropolis Entertainment', 'TPS Star', 'A Plus Image', 'Flan de Coco Films', 'Depth of Field', 'Icon Entertainment International', 'Winking Productions', 'Mr. Mudd Production', 'Illusion Entertainment Group', 'Homegrown Pictures', 'Danish Film Institute', 'PeaPie Films', 'Vision View Entertainment', 'Untitled Entertainment', 'Visionview Production', 'IamOTHER Entertainment', 'Sikelia Productions', 'New Visions Pictures', 'Pyramania', 'Top Rope', 'Hofflund/Polone', 'Stone Village Pictures', 'Automatik Entertainment', 'Yucaipa Films', 'Kevin Messick Productions', 'Nides/McCormick Productions', 'Lonely Film Productions GmbH & Co. KG.', 'Tri-State Pictures', 'Crave Films', 'Seven Arts', 'WingNut Films', 'Samuel Goldwyn Company, The', 'Rough House Pictures', 'Quality Growth International Ltd.', 'Dylan Sellers Productions', 'Hostage GmbH', 'Jet Tone Production', 'Romulus Films', 'Start Motion Pictures', 'Zucker/Netter Productions', 'American Filmworks', 'Maybe Movies', 'VN Productions', 'Sycamore Pictures', 'Unfaithful Filmproduktion GmbH & Co. KG', 'Noel Gay Motion Picture Company', 'ARD Degeto Film', 'Columbia Pictures', 'Centre National de la Cinématographie', 'Vita-Ray Dutch Productions (III)', 'Impact Pictures', 'Sofica Europacorp', 'Lonlink Productions', 'Pangaea', 'Vincent Newman Entertainment', 'Nickelodeon Movies', 'Munich Film Partners & Company (MFP) MI2 Productions', 'Birnbaum/Barber', 'Pointe Studios', 'Abandon Entertainment', 'Flashpoint (I)', 'Backup Films', 'Iron Film', 'Inside Track 2', 'Magic Light Pictures', 'Euro Film Funding', 'Follow Through Productions', 'Hybrid Productions Inc.', 'Mosaic', 'Conundrum Entertainment', 'Cinéfrance 1888', 'Lakeshore Entertainment', 'Programme MEDIA de la Communauté Européenne', 'Mosfilm', 'Enelmar Productions, A.I.E.', 'Thin Man Films', 'Hunting Lane Films', 'Sony Pictures Classics', 'Practical Pictures', 'Bedford Falls Productions', 'Lorimar Film Entertainment', 'Ponty Up Pictures', 'Centrul National al Cinematografiei (CNC)', 'Franklin/Waterman Productions', 'Art Linson Productions', 'Extension 765', 'Perdido Prod.', 'WCG Entertainment Productions', 'Astral Media', 'Thirteen Productions', 'Savoy Pictures', 'Evamere Entertainment', 'Malpaso Company', 'Nix Films', 'Alliance Entertainment', 'Plunge Pictures LLC', 'Storefront Pictures', 'Antena 3 Televisión', 'Ecosse Films', 'Ian Page Productions', 'One Race Productions', 'TMS Entertainment', 'Off Color Films', 'Canal+ Television AB', 'Tokyo Broadcasting System (TBS)', 'Sweetland Films', 'Signature Pictures', 'Filmkameratene A/S', 'Indochina Productions', 'Rodriguez International Pictures', 'Screen Gems', 'Miramax', 'A Bigger Boat', 'Farewell Productions', 'Shangri-La Entertainment', 'Süddeutscher Rundfunk', 'Eagle Beach Productions', 'Key Creatives', 'Fallingcloud', 'Apatow Productions', 'Odyssey', 'Catmandu Branded Entertainment', 'Focus Films', 'Case 39 Productions', 'Entertainment Films', 'Cruel & Unusual Films', 'Radical Studios', 'Eurotrustees', 'AdScott Pictures', 'Edition Video', 'Headline Pictures', 'Film Properties International N.V.', 'Melusine Productions', 'Killer Films', 'Fitzwilliam Productions', 'MHF Zweite Academy Film', 'Matten Productions', 'AR Films', 'World Wrestling Entertainment (WWE)', 'Nu Boyana Film Studios', 'Boll Kino Beteiligungs GmbH & Co. KG', 'October Pictures', 'UK Film Council', \"Kids' WB\", 'Thai Occidental Productions', 'Dee Gee Entertainment', 'Internationale Filmproduktion Richter', 'Producers Sales Organization (PSO)', 'Algonquin Productions Limited', 'Toei', 'Walt Disney Animation Studios', 'Filmcoopi Zürich', 'Sunflower Productions', 'Pariah', 'Four By Two Productions', 'Film Department, The', 'Film Rites', 'Radar Pictures', 'Ink Connection', 'Hachette Première', 'Ognon Pictures', 'Juno Pix', 'Lion Rock Productions', 'Shanghai Film Group', 'Erste MMC-Production', 'Ancine', 'Raw Nerve', 'Sony Pictures Imageworks (SPI)', 'Région Ile-de-France', 'The Last Picture Company', 'Stargate Studios', 'SF Norge A/S', 'Arturo González Producciones Cinematográficas S.A.', 'Libra Films', 'Surf Film', 'Ascension Pictures', 'Julia Phillips and Michael Phillips Productions', 'Hey Eddie', 'Svenska Filminstitutet (SFI)', 'Jolie Pas', 'Campbell Grobman Films', 'Banques Populaire Image 7', 'Oscilloscope Laboratories', 'Top Cow Productions', 'Sony Pictures Worldwide Acquisitions (SPWA)', 'IM Filmproduktion', '26 Films', 'Kingsgate Films', 'Recorded Pictures Company', 'Hollywood Gang Productions', 'Metanoia Films', 'Sherwood Productions', 'Films en Stock', 'Irish Dreamtime', 'American Entertainment Partners II L.P.', 'Celador Films', 'Reserve Room', 'Malvern Pictures', 'Cruise/Wagner Productions', 'IFP Westcoast Erste', 'Cindy Cowan Entertainment', 'Straight Up Films', 'Andalasia Productions', 'What Else? B.V', 'BN Films', 'The Shuman Company', 'Cattleya', 'Rimfire Films', 'Little Wolf Entertainment', 'Keep Your Head', 'Milagro Films', 'Intandem Films', 'Runteldat Entertainment', 'Walrus & Associates', 'FilmNation Entertainment', 'Bill Kenwright Films', 'Criminal Productions', 'Cookout Productions', 'Bridgit Folman Film Gang', 'American Film Institute (AFI)', 'British Screen Productions', 'Brightlight Pictures', 'Bridget Johnson Films', 'HanWay Films', 'Golden Harvest Pictures', 'Daiei Studios', 'Pantelion Films', 'Mandeville Films', 'Clyde Is Hungry Films', 'Riff Raff Film Productions', 'Polsky Films', 'Bésame Mucho Pictures', 'Rovio Animation', 'Prospero Pictures', 'Court 13 Pictures', 'Coast Ridge', 'Hearst Entertainment Productions', 'Latina Pictures', 'Myriad Pictures', 'Assassin Films', 'Cliffjack Motion Pictures', 'Bungalow Productions', 'Televiziunea Romana (TVR1)', 'Himenóptero', 'MDP Worldwide', 'Abu Dhabi Film Commission', 'Farah Films & Management', 'Largo Entertainment', 'Marvel Enterprises', 'Clear Blue Sky Productions', 'Freestyle Releasing', 'Televisión Española (TVE)', 'Buttercup Films Ltd.', 'Nuyorican Productions', 'Lago Film', 'Serendipity Productions', 'Hoyts Film Partnership', 'Smartest Man Productions', 'ELC Productions Ltd.', 'Victoires International', 'Filmax International', 'TV Tokyo', '\"DIA\" Productions GmbH & Co. KG', 'Storm King Productions', 'Amazon Studios', 'Technical Black', 'Spectrum Films', 'Todman, Simon, LeMasters Productions', 'Tornasol Films', 'Wind Dancer Productions', '3DTK', 'Antietam Filmworks', 'Paramount Animation', 'Nanny McPhee Productions', 'WV Films II', 'Sony Pictures Home Entertainment', 'The Australian Film Commission', 'Mikado Film', 'Ambience Entertainment', 'Ott Medien', 'Kramer & Sigman Films', 'UniCredit Group', 'Osiris Productions', 'Mars Distribution', 'Millar Gough Ink', 'Fox Atomic', 'Energy Entertainment', 'Filmax Entertainment', 'Jerry Leider Company', 'Newmarket Capital Group', 'Media Asia Films', 'Allied Artists', 'Phantom Four', 'Zoom Hunt International Productions Company Ltd.', 'Tele München Fernseh Produktionsgesellschaft (TMG)', 'De Fina-Cappa', 'Hargitay & Hargitay Pictures in Motion', 'Yanco', 'Grindstone Entertainment Group', 'Sanctum Australia', 'Digital Domain', 'Desertlands Entertainment', 'Jaguar Films', 'Wanda Visión S.A.', 'Vendome Pictures', 'Zide-Perry Productions', 'Wonderland Sound and Vision', 'Pellikola', 'Jerry Bruckheimer Films', 'Linson Entertainment', 'Moulin Productions Inc.', 'Pandora Cinema', 'Screen Yorkshire', 'Twisted Pictures', 'Essential Media & Entertainment', 'Viacom Canada', 'New Amsterdam Entertainment', 'Dunulf Productions', 'Flynn Picture Company', 'Tohokushinsha Film', 'Asymmetrical Productions', 'Pendle Mountain Productions', 'Waverly Films', 'Escape Artists', 'Riche Productions', 'Taleswapper', 'Wonderland Films', 'Robert Stigwood Organization (RSO)', 'Eidos Interactive', 'Le Tax Shelter du Gouvernement Fédéral de Belgique', 'Lenfilm Studio', 'Tree Line Films', 'Flyboys Films', 'Totally Independent', 'Crystal Sky Pictures', 'Act III Communications', 'New Line Cinema', 'Havoc', 'Pacific Data Images (PDI)', 'Atlas 3 Productions', 'Marv Films', 'Domino 17521', 'Shawn Danielle Productions Ltd.', 'MCG', 'Feelgood Entertainment', 'Katalyst Films', '33andOut Productions', 'One Race Films', 'Amusement Park Films', 'Gravier Productions', 'The Movie Network (TMN)', 'Instituto de la Cinematografía y de las Artes Audiovisuales (ICAA)', 'Movie Central', 'AR-TL', 'Southpaw Entertainment', 'Signal Film Group', 'First Foot Films', 'Creative Scotland', 'Millbrook Pictures', 'Bagman (2009)', 'New Zealand Film Commission', 'Free State Pictures', 'Archer Street Productions', 'Alliance Atlantis Communications', 'Walt Disney Television Animation', 'Brillstein-Grey Entertainment', 'DNA Films', 'Forrest Films', 'Kanbar Entertainment', 'Corrupter Production Service Ltd.', 'Great Wight Productions/ Osford Films', 'Mindhunters (UK) Limited', 'Jaffe / Braunstein Enterprise', 'Manitoba Film and Video Production Tax Credit', 'Sea Breeze Productions Inc.', 'Castelao Producciones', 'Jackie Chan Films Limited', 'Feature Film Project', 'DMG Entertainment', 'W9', 'Dreams of Dragon Picture', 'Lobell/Bergman Productions', 'Solomon/Hackett Productions', 'Elevation Pictures', 'U.K. Tax Credit', 'Walt Disney Animation Canada', 'Hollywood Studios International', 'National Lottery through UK Film Council', 'Napoleon Pictures Limited', 'Eddie Murphy Productions', 'Neufeld Rehme Productions', 'Videofilms', 'FilmEngine', 'Generalitat de Catalunya - Institut Català de les Indústries Culturals (ICIC)', 'CBS Films', 'Informant Media', 'McMurdo (Canada) Productions', 'SkyLand Entertainment', 'Renaissance Films', 'ContentFilm', 'Filmstiftung Nordrhein-Westfalen', 'EFTI', 'Section Eight', 'Horticus UK', 'Indelible Productions', 'Dune Entertainment III', 'Les Films du Losange', 'Dark Sky Films', 'Demarest Films', 'Quantum Entertainment', 'Jason Productions', 'Blue Yonder Films', 'Sound for Film', 'Sil-Metropole Organisation Ltd.', 'VIP 3 Medienfonds', 'Solaris Film', 'Triptych Pictures', 'SITE Productions', 'Chubu-nippon Broadcasting Company (CBC)', 'NVSH Productions', 'Type A Films', 'Bagdasarian Productions', 'Non-Stop Productions', 'Cineroma SRL', 'Hemdale Film', 'Entertainment Media Investment Corporation', 'Evansgideon/Lazar', 'Sorolla Films', 'Off Hollywood Pictures', 'Giving Films', 'Redbus Pictures', 'Georgia International Films', 'Mainstream S.A.', 'MK2 Productions', 'Fu Works', 'Alliance Communications', 'Tiny Ponies', 'EMI Films Ltd.', 'Zookeeper Productions', 'Twentieth Century Fox Television', 'Aggregate Film', 'The Halcyon Company', 'Rogue Pictures', 'Chi-Fou-Mi Productions', 'Crescendo Productions', 'Millennium Films', 'Evil Twins', 'Mediaset', 'Brooksfilms', 'Figment Films', '120dB Films', 'Brad Zions Films', 'GG Filmz', 'Premiere Stealth Rights', 'Monterey Productions', 'Infinitum Nihil', 'Spectacle Entertainment Group', 'Item 7', 'Kanal Russia 1', 'Cinema 77', 'Warner Animation Group', 'Populist Pictures', 'Star Partners II Ltd.', 'Triangle Film Corporation', 'Kemp Company', 'Scott Free Productions', 'Subterranean Productions UK Ltd.', 'Starling Films', 'Progres Film Distribution', 'Mobra Films', 'Filmazure', 'American Film Company', 'icon', 'Walt Disney Productions', 'Fantastic Films', 'Prone Gunman A.I.E.', 'Sunset Gower Studios', 'Matrix Film Finance', 'Marvel Studios', 'Calle Cruzada', 'Mandalay Pictures', 'Tonna Oy', 'Bad Robot', 'Old Bull Pictures', 'Scottish Arts Council, The', 'Evergreen Media Group', 'Goodspeed Productions', 'Shogakukan', 'StudioCanal', 'Hollywood Pictures', 'The Movie Network', 'Ikiru Films', 'Loofah Productions', 'Chris Brinker Productions', 'Super Crispy Entertainment', 'Opus Film', 'M6 Films', 'Starburns Industries', '21 Laps Entertainment', 'La Trini', 'Lynch Siderow Productions', 'LionsGate', 'Tank Caterpillar', 'SOIXAN7E QUIN5E', 'Darko Entertainment', 'Sunrise Filmvertriebs AG', 'DreamWorks Animation', 'Teen Life Productions', 'Sly Predator', 'Face Productions', 'David Foster Productions', 'Ex3 Productions', 'Same Player', 'Madacy Entertainment', 'GK Films', 'Cloud Atlas Productions', 'The Harold Greenberg Fund', 'Curmudgeon Films', 'United China Vision', 'Bekmambetov Projects Ltd.', 'Hubert Bals Fund of the Rotterdam Festival, The', 'Andrew Lauren Productions (ALP)', 'Belle Pictures', 'Gener8Xion Entertainment', 'Fortis Films', 'Sunswept Entertainment', 'Intermedia Films', 'thefyzz', 'A-Team', 'Mid Atlantic Films', 'Nancy Tenenbaum Films', 'Mr. Smith Productions', 'Relativity Sports', 'MI 3 Film', 'Black and Blu Entertainment', 'NeoReel', 'Littlestar', 'Wessler Entertainment', 'Liaison Films', 'SenArt Films', 'The Complex Studio', 'GGR', 'Filmanova', 'Bold Films', 'Artist International', 'Stable Way Entertainment', 'Hasbro Studios', 'Shamley Productions', 'NFH Productions', 'Morgan Creek Productions', 'Cannon Films', 'Aperture Entertainment', 'TF1 Films Production', 'Wark Producing Corp.', 'Village Roadshow Films North America', 'Business Location Sudtirol Alto Adige', 'Bueprint Pictures', 'Toronto Film Studios', 'Entertainment Film Distributors', 'Jerkschool Productions', 'JHF Productions', 'Universal City Studios', 'Gracie Films', 'Nora Ephron Productions', 'Prospect Park', 'Lions Gate Entertainments', 'The Independent Film Channel Productions', \"Ninjas Runnin' Wild Productions\", 'Onda Entertainment', 'Entertainment Motion Pictures', 'Fear of God Films', 'Red Turtle', 'Sedic', 'Perdido Productions', '1492 Pictures', 'Sogecine', 'Magna Films', 'Copag V', 'Cheri Productions', 'RKO Radio Pictures', 'Cinema 77 Films', 'Jesse Films Inc.', 'SprocketHeads', 'Lionsgate', 'Braveworld Productions', 'LGM Productions', 'Kopelson Entertainment', 'Trailblazer Films', 'Motown Productions', 'Bookshop Productions', 'Twitching Image Studio', 'Woodfall Film Productions', 'VIP 1 Medienfonds', '5150 Action', 'Magna Global Entertainment', 'Newman-Foreman Productions', 'Herrick Entertainment', 'Pole Star', 'Panorama Films', 'Insight Film Releasing', 'MICA Entertainment', 'Ghostcorps', 'On My Own', 'Delphi Films', 'Outlaw Productions (I)', '360 Pictures', 'Wild Bunch Distribution', 'Pure Flix Productions', 'Yash Raj Films', 'Bel Air Entertainment', 'Helena Productions', 'Romero-Grunwald Productions', 'Ingenious Media', 'Film Fund FUZZ', 'Diamond Films', 'Benaroya Pictures', 'Ingenious Film Partners', 'Beacon Pictures', 'Holleran Company', 'Thousand Words', 'Destination Films', 'Alberta Film Entertainment', 'Jaret Entertainment', 'Reiner / Greisman Productions', 'Selznick International Pictures', 'Hopscotch Films', 'Vincent Pictures', 'Digital Image Associates', 'Creado Film', 'Internationale Filmproduktion Blackbird Dritte', 'Parkway Pictures (I)', 'JLT Productions', 'Vertigo Entertainment', 'Cinerenta Medienbeteiligungs KG', 'Metropolitan Filmexport', 'SKA Films', 'Trinity Race', 'Panay Films', 'Babe Films', 'Witness Protection Films', 'David Brown Productions', 'Kramer-Tornell Productions', 'Hyde Park Entertainment', 'Everyman Pictures', 'Studio 37', 'Dispictures', 'Continental Entertainment Group (CEG)', 'TS Productions', 'Intial Productions', 'Soprofilms', 'Plan B Entertainment', 'Brooklyn Films II', 'Broadway Video', 'Alpha Core', 'Three Strange Angels', 'The Collective Studios', 'Brightside Entertainment', 'Apostle Productions', 'Motion Picture BETA Produktionsgesellschaft', 'China Film Group Corporation (CFGC)', 'Paco Cinematografica', 'Dollface', 'Bristol Automotive', 'Cruel Productions', 'Wintergreen Productions', 'Winchester Multimedia PLC', 'Slot Machine', 'Cherry Alley Productions', 'Open City Films', 'Thunder Road Pictures', 'Horseshoe Bay Productions', 'Mann/Roth Productions', 'Alan Greenspan Productions', 'Woods Entertainment', 'Adam Schroeder Productions', 'Family of the Year Productions', 'Eden Roc Productions', 'Astral Bellevue Pathé', 'Akira Committee Company Ltd.', 'Initial Entertainment Group', 'Summer Knowledge LLC', 'Punch 21 Productions', 'Wiedemann & Berg Filmproduktion', 'Amasia Entertainment', 'C.R.R.A.V. Nord Pas de Calais', 'MJZ', 'Optional Pictures', 'Perfume Films', 'Echo Films', 'Storyline Entertainment', 'Disney World Cinema', 'Parnassus Productions', 'Matinee Pictures', 'Zadan / Meron Productions', 'Origo Film Group', 'Silver Reel', 'FilmFernsehFonds Bayern', 'Florin Productions', 'Grand March Productions', 'Immortal Entertainment', 'DeBart', 'Jack and Rose Productions', 'New Upstairs Productions', 'Freddie Fields Productions', 'S.O.A.F. Productions', 'Parallel Zide', 'Senator Film Produktion', 'MFF (Sound of Thunder)', 'Craven-Maddalena Films', 'Black Bear Pictures', 'Zeta Film', 'Ixtlan Productions', 'Pan Nalin Pictures', 'Tripod Entertainment', 'Lin Pictures', 'Golar Productions', 'Cutting Edge Films', '40 Acres & A Mule Filmworks', 'Fairview Entertainment', 'Province of British Columbia Film Incentive BC', 'Behavioral Problem Productions Ltd.', 'William Castle Productions', 'Vinyl Films', 'Smart Entertainment', 'Burke/Samples/Foster Productions', 'France 3 (FR 3)', 'Steady Aim', 'Prime Time', 'The Combine', 'New Line Productions', 'Asis Productions', 'Broken Chair Flickz', 'Pull Down Your Pants Pictures', 'Sveriges Television (SVT)', 'Trigger Street Productions', 'Block / Hanson', 'Fierce Entertainment', 'Hannibal Pictures', 'City Light Films', 'Freestone Pictures', 'Marshall Production', 'Hughes Entertainment', 'Treehouse Pictures', 'Battlefield Productions', 'Hard Eight Pictures', 'Anvil Films', 'The Institute for the Intellectual Development of Children & Young Adults', 'JVC Entertainment', 'Seed Productions', 'Woodcote', 'Taikei Office', 'Zanuck Company, The', 'Infinity Features Entertainment', 'Eyescreen S.r.l.', 'Cloud Eight Films', 'Andrea Sperling Productions', 'Samuel Bronston Productions', 'Capcom', 'Subterranean Productions LLC', 'Eden Wurmfeld Films', 'Peregrine', 'Artisan Entertainment', 'Bavaria Film', 'Rivdel Films', 'Baumgarten-Prophet Entertainment', 'A-Line Pictures', 'Internationale Filmproduktion', 'Altavista Films', 'HCC Media Group', 'First Light Production', 'Filmboard Berlin-Brandenburg (FBB)', 'Vivendi', 'Hostel LLC', 'MGP Productions', 'Warwick Film Productions', 'Fine Productions', 'Warner Bros. Entertainment France', \"Fonds Eurimages du Conseil de l'Europe\", 'Weed Road Pictures', 'Participant Media', 'Legion Entertainment', 'Mon Voisin Productions', 'Industrial House Films', 'Eyetronics', 'Jaffe-Lansing', 'The Guber-Peters Company', 'Focus Features', 'Senator International', 'TC Productions', 'Laurel Entertainment', 'Franchise Pictures', 'Emmitt Productions Limited', 'Boxing Cat Films', 'Carmel Entertainment', 'Fox Entertainment Group', 'warner bross Turkey', 'TF1', 'Picnic Basket', 'Dieter Geissler Filmproduktion', 'Paramount Vantage', 'Contagious Entertainment', 'Y Productions', 'Gambit Pictures', 'Metro-Goldwyn-Mayer (MGM)', 'Volcano Films', 'Motion Picture JOTA Produktions', '3 Arts Entertainment', 'CityMation', 'Rossen Films', 'Phi Group', 'Chapter 2', 'Broken Lizard Industries', 'Mediastream Vierte Film GmbH & Co. Vermarktungs KG', 'Guy Walks into a Bar Productions', 'Jon Shestack Productions', 'Chime Films', 'Stoney Lake Entertainment', 'Fuqua Films', 'Laredo', 'Televisió de Catalunya (TV3)', 'Debra Hill Productions', 'Access Films', 'Rafran Cinematografica', 'A Hot Dog', 'Road Rebel', '3Mark Entertainment', 'Nederlands Fonds voor de Film', 'Josephson Entertainment', 'Iyara Films', 'Production Champion', 'Renaissance Pictures', 'Inferno International', 'Dozen Canada Productions', 'DRO Entertainment', 'Universum Film (UFA)', 'Three Rivers Production', 'Walt Disney Company', 'Overbrook Entertainment', 'MPI Media Group', 'Michaels-Goldwyn', 'Walden Media', 'White Noise UK Ltd.', 'Weinstein Company, The', \"O'Connor Brothers\", 'Hal Lieberman Company', 'Alliance de Production Cinematographique (APC)', 'Cranium Films', 'Galavis Film', 'Cecchi Gori Pictures', 'Poo Poo Pictures', 'Potboiler Productions', 'Darius Films', \"Eric's Boy\", 'Evolution Entertainment', 'Green Tulip Productions', 'Redwave Films', 'Chatrone', 'ASAF', 'Boies / Schiller Film Group', 'Ascendant Pictures', 'Live Entertainment', 'Téléfilm Canada', 'Pricel', 'DreamWorks Studios', 'TiMe Film- und TV-Produktions GmbH', 'Reperage', 'Haxan Films', 'Telewizja Polska (TVP)', 'Trans Pacific Films', 'Verisimilitude', 'Sparkle Roll Media', 'ABC Pictures', 'Dolly Hall Productions', 'Groucho III Film Partnership', 'South Pacific Pictures', 'Loki Films', 'Revolution Sun Studios', 'Square USA', \"Winter's Bone Productions\", 'Paragon Entertainment Corp.', 'Dangerous Method Film AG', 'Iconolatry Productions Inc.', 'Gran Via', \"Les Films d'Ici\", 'Bórd Scannán na hÉireann', 'Target Media Entertainment', 'Jackie & JJ Production', 'Scholastic Productions', 'CiBy 2000', 'Silver Pictures', 'Film i Väst', 'GraceWorks Pictures', 'Dreamagine Entertainment', 'Castle Rock Entertainment', 'Caravan Pictures', 'Aversano Films', 'BillBlock Media', 'Australian Film Finance Corporation', 'Park Ex Pictures', 'Realitism Films', 'Bourne Again', 'Skylark Productions', 'Frantic Films', 'Serendipity Point Films', 'X-Filme Creative Pool', 'Zanuck/Brown Productions', 'KC Medien AG', 'Great Scott Productions Pty. Ltd.', 'David Dobkin Productions', 'Fox 2000 Pictures', 'Sony Pictures Animation', 'National Film & Video Foundation of South Africa', 'Asahi Soft Drinks Company', 'Televisión de Galicia (TVG) S.A.', 'Tri Pictures', 'Monarchy Enterprises S.a.r.l.', 'Catwoman Films', 'Mad Hatter Entertainment', 'Red Granite Pictures', 'Grosvenor Park Media Ltd.', 'Pathé', 'Brat Na Pont Productions', 'Living Films', 'Film and General Productions', 'Headforce Ltd.', 'InVenture Entertainment', 'Jinks/Cohen Company', 'Zephyr Films', 'Cinema Gypsy Productions', 'Atchity Entertainment International (AEI)', 'ETIC Films', 'Down Productions', 'IM Global', 'Fabula', 'Tailor Made', 'Witt/Thomas Productions', 'FortyFour Studios', 'N1 European Film Produktions GmbH & Co. KG', 'Salter Street Films International', 'Before the Door Pictures', 'Prana Animation Studios', 'First Generation Films', 'Union Générale Cinématographique (UGC)', 'Ballpark Productions Partnership', 'Emmett/Furla Films', '2 Loop Films', 'Chartoff-Winkler Productions', 'Nintendo', 'Andreevsky Flag Film Company', 'Gran Via Productions', 'Babylon', 'Estudios Picasso', 'Konami Corporation Ltd.', 'Elevation Filmworks', 'Moviemakers Productions (MMP)', 'Silver Lion Films', 'GAGA', 'Reel FX Creative Studios', 'Mooseport Productions', 'Neal H. Moritz Productions', 'Vif Babelsberger Filmproduktion GmbH & Co. Zweite KG', 'Karz Entertainment', 'Brownstone Productions', 'Nexus Factory', 'Instinctive Film', 'Scion Films', 'Velocity Productions', 'Cold Iron Pictures', 'Eurasia Film Production', 'Permut Presentations', 'Sarah Green Film', 'La Sexta', 'Danmarks Radio (DR)', 'Agencja Produkcji Filmowej', 'Sony Pictures', 'Hoya Productions', 'Black Entertainment Television (BET)', 'Sketch Films', 'Abe Shuji', 'Midnight Sun Pictures', 'Nimar Studios', 'Transworld Pictures', 'Tokyo FM Broadcasting Co.', 'Peach Trees', 'Franton Production', 'Bisgrove Entertainment', 'Synthesis Entertainment', 'Ashton Productions', 'Showbox Entertainment', 'Ozla Productions', 'Sony Pictures International', 'El Deseo', 'Vertigo Films', 'Variance Films', 'Eclipse Catering', 'BBC Films', 'Pam Williams Productions', 'Shanghai Film Group Corporation', 'Joseph E. Levine Productions', 'Polar Entertainment Corporation', 'Intermedia', '10th Hole Productions', 'Be Gentlemen Limited Partnership', 'The Body', 'Jigsaw Productions', 'Ombra Films', 'Edge City', 'Matador Pictures', 'Fake Empire', 'Peninsula Films', 'Zehnte Babelsberg', 'Triumph', 'Failure to Launch Productions', 'Gratitude International', 'Rainforest Films', 'Dragonfly Entertainment', 'Aldamisa Entertainment', 'Stuber/Parent', 'Lonely Dragon', 'Légende Entreprises', 'A113', 'Ufland', 'Trust Film Svenska', 'Iconoclast', 'J.K. Livin Productions', 'Artist International Management', 'APJAC Productions', 'Karbo Vantas Entertainment', 'Canadian Film or Video Production Tax Credit (CPTC)', \"Bull's Eye Entertainment\", 'Riofilm', 'New Redemption Pictures', 'Tremendum Pictures', 'Current Entertainment', 'Hasbro', 'Canal+ Polska', 'Ascension Productions', 'Euroimages Fund of the Council of Europe', 'Yannix Technology Corporation', 'Media Rights Capital', 'SBK Pictures', 'Avi Arad Productions', 'Belhaven Limited', 'Sneak Preview Productions', 'ITC Entertainment', 'Resident Evil Productions', 'Daybreak Productions', 'Clockwork Pictures', 'Mimran Schur Pictures', 'Norddeutscher Rundfunk (NDR)', 'Instituto de Crédito Oficial (ICO)', 'Media Cooperation One', 'Marc Platt Productions', 'The Magnolia Project', 'Trackform Film Productions', 'Egoli Tossell Film AG', 'Ocean Pictures', 'Zentropa International Sweden', 'Mediastream Film GmbH & Co. Productions KG', 'Forge', 'Azoff Entertainment', 'Sony', 'DreamWorks', 'Hemdale Film Corporation', 'Fine Line Features', 'ApolloProScreen Filmproduktion', 'Sever Studio', 'Next Entertainment', 'Muse Productions', 'Misha Films', 'Capitol Films', 'Celluloid Dreams', 'Davis-Films', 'Bullwinkle Studios', 'SND', 'Screenland Pictures', 'Province of British Columbia Production Services Tax Credit', 'Alcon Entertainment', 'Columbia Pictures Film Production Asia', 'Crystal Sky Worldwide', 'Conquistador Entertainment', 'Heyday films', 'TDJ Enterprises / New Dimensions Entertainment', 'International Pictures Two', 'Ahimsa Films', 'Xingu Films', 'Principato-Young Entertainment', 'Traction Media', 'Filmways Productions', 'Nippon Film Development and Finance Inc.', 'Anonymous Content', 'Pikachu Project 2001', 'Farraday Films', 'Annapurna Pictures', 'Cinémaginaire Inc.', 'Outerbanks Entertainment', 'Solana Films', 'MacDonald/Parkes Productions', 'Qian Yian International', 'Two Brothers Productions', 'Universal', 'RVK Studios', 'TV3 Television Network Ireland', 'Upstairs Canada Productions', 'Charenton Productions Limited', 'Baltimore Spring Creek Pictures', 'Extreme Productions', 'Artists Production Group (APG)', 'Independent Pictures (II)', 'Atlas Entertainment', 'Arte', 'Commission du Film France', 'LightWorkers Media', 'Yer Dead Productions', 'A24', 'Shaw Brothers', 'Kodansha', 'Imhotep Productions', 'New Legacy', 'Bavaria Studios', 'China Film Group Corporation', 'Summit Entertainment, LLC', 'Alfred J. Hitchcock Productions', 'The Bubble Factory', 'Lars Productions', 'H2F Entertainment', 'TriStar Pictures', 'Team Downey', 'Constantin Film.', 'Tailored Films', 'Cosmic Pictures', 'Malpaso Productions', 'Cineritmo', 'Scythia Films', 'Nordisk Film Distribution', 'Staccato Films', 'Kennedy Miller Mitchell', 'Electric Entertainment', 'Central Films', 'VideoFilmes', 'Affirm Films', 'SnowPiercer', 'Axon Films', 'Back Lot Pictures', 'TOKYOPOP', 'Empire Pictures', 'CN Film', 'BSM Studio', 'Gary Sanchez Productions', 'KMP Film Invest', 'Portobello Studios', 'RabbitBandini Productions', 'Original Media', 'What to Expect Productions', 'Glendale Picture Company', 'Sindika Dokolo', 'Motion Picture THETA Produktionsgesellschaft', 'Qwerty Films', 'Yuk Films', 'Arcade Pictures', 'Rhombus Media', 'TV 1000', 'Ventanarosa Productions', 'Gavin McKinney Underwater Productions', 'Isle of Man Film', 'Yleisradio (YLE)', 'Crossroads Films', 'Zwart Arbeid', 'CinéCinéma', 'Suftley', 'Outlaw Victoria Productions Inc.', 'Antidote Films (I)', 'Muskat Filmed Properties', 'Taurus Films', 'Limelight Fund', 'The Harvey Entertainment Company', 'Imaginary Forces', 'Saltire Entertainment', 'Verdi Productions', 'Merlin Films', 'Charenton Productions', 'Platinum Dunes', '2S Films', 'Weimaraner Republic Pictures', 'Filmula', 'Takoma Entertainment', 'Maipo Film- og TV Produksjon', 'Tenth Planet Productions', 'Perfect World Pictures', 'Route One Entertainment', 'Pathé Distribution', 'Huayi Brothers', 'Constellation Entertainment', 'Catch 23 Entertainment', 'Very Special Projects', 'Carnival Films', 'TCF Vancouver Productions', 'Carthago Films S.a.r.l.', 'Young Hannibal Productions', 'Licht/Mueller Film Corporation', 'Eurimages', '1.85 Films', 'The Steve Tisch Company', 'Ardustry Entertainment', 'Laika Entertainment', 'Simon Fields Productions', 'Pimlico Films', 'Alta Loma Entertainment', 'Epidemic Pictures', 'Elle Driver', 'Achte Babelsberg Film', 'Gruskoff/Venture Films', 'Madhouse Entertainment', 'Geffen Pictures', 'American Empirical Pictures', 'Media Asia Group', 'Dentsu Inc.', 'Nordisk Film- & TV-Fond', 'Film Afrika', 'Rovio Mobile', 'Emperor Motion Pictures', 'Goldenlight Films', 'PSO International', 'Orly Films', 'Grand Army Entertainment', 'Lumiere', 'Oriental Light and Magic (OLM)', 'Syalis DA', 'Grisbi Productions', 'Grosvenor Park Productions', 'Tangled Web Productions', 'Universal Studios', 'Colorado Office of Film, Television & Media', 'Abraham Productions', 'Blue Sky Films', 'Traveling Film Productions', 'ANA Media', 'Wardour Street Pictures', 'Cube Vision', 'New Century Entertainment Corporation', 'Handmade Films Ltd.', 'Out of the Blue... Entertainment', 'Gidden Media', 'Lotus Pictures', 'Syncopy', 'Seven Arts Productions', 'CatchPlay', 'France 2 (FR2)', 'Offspring Entertainment', 'Management 360', 'Sid & Marty Krofft Pictures', 'Katira Productions GmbH & Co. KG', 'Yellow Bastard Production', 'Reperage & Vanguard Films', 'Parkes/MacDonald Productions', 'Zero Gravity Management', 'McLaughlin Films', 'Biscottificio Verona', 'Filmways Pictures', 'Patalex III Productions Limited', 'Buena Vista Home Entertainment', 'David Ladd Films', 'Goldsmith-Thomas Productions', 'Numb Gums Production Inc.', 'Junction Entertainment', 'Platinum Equity', 'Baltimore Spring Creek Productions', 'Mindshare Media', 'Sony Pictures Entertainment (SPE)', 'Cort/Madden Productions', 'Isabella Films B.V.', 'Everest Entertainment', 'Spanky Pictures', 'David L. Wolper Productions', 'The Javelina Film Company', 'Filmline International', 'Pin Hole Productions LLC', 'VCL Communications', 'Nouvelles Éditions de Films (NEF)', 'Voltage pictures', \"L'Institut Polare Français Paul-Émile Victor\", 'Pyramide Productions', 'Thunder Road Productions', 'Odd Lot Entertainment', 'Picture Perfect (I)', 'Loumolo & Co.', 'Aldrich Group', 'Kawoosh! Productions DTV I', 'MDBF Zweite Filmgesellschaft', 'River Road Entertainment', 'Centre National de la Cinématographie (CNC)', 'Roth Films', 'Stanley Kramer Productions', 'Kennedy Miller Productions', 'Geffen Company, The', 'Across the River Productions', 'Constantin Film Produktion', 'Single Cell Pictures', 'Starlite Films', 'Midwinter Productions Inc.', 'High Sierra Carpeting', 'Rickshaw Productions', 'Friday Four, Inc.', 'SAF Productions', 'Mythology Entertainment (II)', 'Filmyard Underwaterdeco', 'Cheyenne Enterprises', 'Radiant Productions', 'Toei Animation Company', 'Motion Picture Corporation of America (MPCA)', 'Dark Horse Entertainment', 'Justin Pictures', 'Berlanti Productions', 'Columbus 81 Productions', 'Showbox', 'Lee Daniels Entertainment', 'Palomar Pictures (II)', 'Chako Film Company', 'KirchMedia', 'Legendary Pictures', 'Roxbury', 'Tiger Productions', 'Office Kitano', 'Trancas International Films', 'Mark Canton Productions', 'Ram Bergman Productions', 'Rollins-Joffe Productions', '8:38 Productions', 'Turbo Productions', 'Newmarket Films', 'Imagi Animation Studios', 'Deluxe Digital Studios', 'Green Room Films', 'October Films', 'Bac Films', 'MMC Independent', 'Leverage Communications', 'Notting Hill Pictures', 'Institut Valenciã de Cinematografia (IVAC)', 'Universal Pictures', 'Class 5 Films', 'Relativity Media', 'Magnolia Films', 'Lauren Levine Productions Inc.', 'Dillinger Productions', 'Big Lou House Productions', 'Silent Hill DCP Inc.', 'Motel Movies', 'Cinema One', 'Leverage Management', 'Original Film', 'Hyde Park Films', 'IMF Internationale Medien und Film GmbH & Co. Produktions KG', 'Stanley Kubrick Productions', 'Shadow Shows', 'Internationale Filmproduktion Stella-del-Sud Second', 'Union Investment Partners', '3ality Digital Entertainment', 'Pixar Animation Studios', 'Animationwerks', 'ASIG Productions', 'Salamander Pictures', 'Sideways Productions Inc.', 'Gone North Productions', 'Birdsong Pictures', 'Distant Horizons', 'Second Mate Productions', 'Element Films', 'Full Crew/Say Yea', 'Apipoulaï', 'Two Flints', 'Adam Fields Productions', 'HBO Films', 'Paradise Productions', 'Laurel Entertainment Inc.', 'Gold Star Films', 'Rome Film Commission', 'The Zanuck Company', 'Northern Lights Entertainment', 'Gremi Film Production', 'Lawrence Bender Productions', 'Stellar Megamedia', 'Tiberius Film Productions', 'Imagine Entertainment', '4 Kids Entertainment', 'A.J.O.Z. Films', 'Cartier Productions', 'Los Hooligans Productions', 'Dos Corazones', 'Fontana Productions', 'Les Productions de la Guéville', 'Glass Eye Pix', 'Krane Entertainment', 'Jeff Most Productions', 'Avon Production', 'Good Universe', 'Gunn Films', 'Cinema 84', 'Thorn EMI Screen Entertainment', 'Lorimar Motion Pictures', 'Moving Pictures', 'Matt Baer Films', 'WDR', 'Italo/Judeo Productions', 'Zupnik Cinema Group II', 'The Film Consortium', 'NEW Century', 'MadRiver Pictures', 'Herold Productions', 'Universal Pictures International (UPI)', 'Cine Productions', 'Mindfire Entertainment', 'Big Bug Pictures', 'Anchor Bay Films', 'Gulfstream Pictures', 'New Crime Productions', 'Kinofabrika', 'Chapter One Films', 'Studio Babelsberg Motion Pictures', 'Kalima Productions GmbH & Co. KG', \"It's a Laugh Productions\", 'Mirisch Pictures', 'One Way Productions', 'Hammerhead Productions', 'Pistolero Productions LLC', 'Zentropa International Köln', 'Portobello Pictures', 'Boram Entertainment Inc.', 'Jerry Weintraub Productions', 'Cofinova 6', 'Julijette', 'Equity Pictures Medienfonds GmbH & Co. KG III', 'Q Television', 'Kudos Film and Television', 'Phase 4 Films', 'USA Films', 'Kernos Filmproduktionsgesellschaft & Company', 'Interscope Communications', 'Edward Small Productions', 'McCreary Entertainment', 'Market Square Productions', 'Reprisal Films', 'Cinemarque Entertainment BV', 'True Grit Productions', 'The Geffen Company', 'Envision Entertainment Corporation', 'Crimson Bolt', 'Palo Vista Productions', 'Anton Capital Entertainment (ACE)', 'Two Ton Films', 'Splendid Productions', 'Fox Animation Studios', 'Burg/Koules Productions', 'Nine Yards Two Productions', 'IAC Films', 'Famous Films (II)', 'Österreichischer Rundfunk (ORF)', 'Magnolia Pictures', 'Pandemonium Productions', 'Kumar Mobiliengesellschaft mbH & Co. Projekt Nr. 1 KG', 'Perfect Storm Entertainment', 'Talisman Productions', 'Cineplex-Odeon Films', 'Skyline (Baker St)', 'XYZ Funding N.V.', 'Catfish Productions', 'Greenestreet Films', 'Front Street Productions', 'platinum studios', 'Spanknyce Films', 'Hokkaido Broadcasting Co.', 'France Télévision', 'Chrysler Corporation', 'DumbDumb', 'Soho VFX', 'Teitler Film', 'Wild West Picture Show Productions', 'Studio Ghibli', 'Octagon Films', 'Sneak Preview Entertainment', 'Tiara Blu Films', 'Shade Pictures', 'View Askew Productions', 'HDNet Films', 'Rival Pictures', 'Corner Store Entertainment', 'Clinica Estetico', 'Decibel Films', 'Horsepower Films', 'Colombia Pictures', 'Tohokushinsha', 'Bird and a Bear Entertainment', 'Catch Productions', 'Media Farm', 'FilmCamp', 'Spring Creek Productions', 'Rice Films', 'Laurel Group', 'Hungarian National Film Office', 'Tohokushinsha Film Corporation', 'Horizon Pictures (II)', 'Donner/Shuler-Donner Productions', 'Top Shelf Productions', 'Solipsist Film', 'Prufrock Pictures', 'Future Films', 'Tiny Giant Entertainment', 'B24', 'Captivate Entertainment', 'Dimension Films', 'M6', 'Envision Entertainment', 'Sunday Night', 'Baby Cow Productions', 'Night Chronicles', 'See Me Louisiana', 'Forecast Pictures', 'SGF Entertainment', 'Nine Yards Productions', 'Oz Productions Ltd.', 'Tijuana Productions', 'Division Films', 'Haunted Movies', 'ContentFilm International', 'Shady Acres Entertainment', 'Origin Pictures', 'Momentum Films', 'Sofica Sofinergie 5', 'Micro scope', 'Euforia Film', 'C.H.U.D. Productions', 'Bay Films', 'Black Label Media', 'Gordonstreet Pictures', 'Parts and Labor', 'Golden Mean', 'Big Screen Productions', 'Pathe', 'Unanimous Pictures', 'Filmax Group', 'XYZ Films', 'Tezuka Production Company Ltd.', 'Blind Spot Pictures Oy', 'Surefire Capital', 'Pt. Merantau Films', 'Kanzaman', 'VIP 2 Medienfonds', 'Working Title Films', 'Rysher Entertainment', 'Prelude Pictures', 'Limited Edition Productions Inc.', 'Sean Bailey Productions', 'Twins Financing', 'Premiere Picture', 'BR Group', 'Gotham Group', 'Possessed Pictures', 'Mirabai Films', 'Playtone Production', 'Turman-Foster Company', 'Keith Barish Productions', 'Atlantic Swiss Productions', 'Canadian Television Fund', 'EuropaCorp', 'Insurge Pictures', '19 Entertainment', 'uFilm', 'Paramount Pictures', 'France 3 Cinema', 'Tazora Films', 'Imagenation Abu Dhabi FZ', 'Lucky Monkey Pictures', 'Pathé Pictures International', 'Screen Gems, Inc.', 'Silver Screen Partners', 'Fidélité Productions', 'Classic Media Productions', 'Spy Next Door', 'Joanna Productions', 'Lazio Film Commission', 'Nomadic Pictures', 'DCP Wrong Turn Productions', 'Simon Kinberg Productions', 'Whizbang Films', 'Marcy Media', \"D'Antoni Productions\", 'The Picture Factory', 'Monkey Dance Productions', 'Apotheosis Media Group', 'Tooley Productions', 'Red Lion Sarl', 'Revolt Films', 'Martin Poll Productions', 'Commission du Film Île-de-France', 'Varsity Pictures', 'Todd McFarlane Entertainment', 'Cornelius Productions', 'Skylight Cinema Foto Art', 'Industry Entertainment', 'Reveal Entertainment', '87Eleven', 'Crusader Entertainment', 'Oasis Films', 'Curse Productions', 'Bayerischer Rundfunk (BR)', 'Smokehouse Pictures', 'Mosaic Media Group', 'Oregon Film Factory', 'Cherry Road Films LLC', 'Yoruba Saxon Productions', 'Chartoff Winkler Productions', 'DoRo Fiction Film', 'AE Two Film Productions', 'Tartan Films', '1019 Entertainment', 'Jack Dietz Productions', 'Movieworld Productions', 'Bron Studios', 'Bad Hat Harry Productions', 'Virgin Produced', 'Longfellow Pictures', 'REI Capital', 'Monarch Pictures', 'Super Cool ManChu', 'Codi S.p.a.', 'DiNovi Pictures', 'Cubicle Inc.', 'Level 1 Entertainment', 'Twilight Productions', 'Bernd Eichinger Productions', 'Warner Independent Pictures (WIP)', 'WWE Studios', 'Doom Productions', 'Muse Entertainment', 'Picturehouse Entertainment', 'Forensic Films', 'Dante Entertainment', 'Major Studio Partners', 'Vía Digital', 'Head Gear Films', 'Kasander Film Company', 'Max Stronghold Productions Inc.', 'VH1 Television', 'DOS', 'Heritage Films', 'Warner Bros.', 'Red Hawk Entertainment', 'Kurtzman/Orci', 'Bluegrass Films', 'Avery Pix', 'Mile High Productions', 'Moguletta', 'Cinergi Pictures Entertainment', 'Blue Tulip Productions', 'Lucamar Productions', 'Phoenix Film Investments', 'Filmek A/S', 'Cheetah Vision', 'Barwood Films', 'Davis Entertainment', 'Canal+ España', 'The Alfred Shay Company Inc.', 'Procirep', 'Le Studio Canal+', 'Evergreen Films', 'Visual Bible International', 'Rocklock Films', 'Farrell/Minoff', 'Afrodita Audiovisual, A.I.E.', 'Dog Run Pictures', 'Jeepers Creepers II', 'Marty Katz Productions', 'BNDES', 'Perfect World (Beijing) Pictures Co.', 'Central Motion Pictures', 'Park Pictures', 'Institut Català de les Empreses Culturals (ICEC)', 'Pathé Renn Productions', 'Drafthouse Films', 'Angel films', 'HW Two', 'Tonik Productions', 'Bottom of the Ninth Productions', 'Vivi Film', 'Quinta Communications', 'Whitaker Entertainment', 'Infinity Media', 'EM Media', 'Open Road Films (II)', 'Filmförderanstalt (FFA)', 'The Kennedy/Marshall Company', 'Polygram Filmed Entertainment', 'Millenium Films', 'RatPac Entertainment', 'UW4 Productions', 'Kaplan/Perrone Entertainment', 'Media Programme of the European Community', \"Loew's Incorporated\", 'Proposal Productions', 'Sor Productions', 'Casey Productions', 'Watermark', 'Patalex IV Productions Limited', 'New Picture Company', 'Runteam Ltd.', 'British Broadcasting Corporation (BBC)', 'Yuma', 'Cineric', 'Flower Films', 'Medienproduktion Prometheus Filmgesellschaft', 'Primate Pictures', 'Cine Grande Corporation', 'Mod Producciones', 'Sentinel Productions', 'Roger Birnbaum Productions', 'H2S2 Filmproduktionsgesellschaft', 'Dino de Laurentiis Cinematografica', 'Prescience', 'Final Cut for Real', 'Scott Rudin Productions', 'Zhejiang Huace Film & TV', 'Bleiberg Entertainment', 'Silverbell Films', 'Ian Bryce Productions', 'MFP Munich Film Partners GmbH & Company I. Produktions KG', 'Playtone', 'Sahamongkol Film International', 'Miramax Films', 'Caneo Films', 'Eigerwand Pictures', 'Maroon Entertainment', 'Artémis Productions', 'Cent Productions Inc.', 'Moho Film', 'Red Chillies Entertainment', 'IFC Films', 'Astral Films', 'Swanford Films', 'Hammer & Tongs', 'Scorsese Productions', 'Runway Pictures Inc', 'Mad Chance Productions', 'Ambush Entertainment', 'Lawson', 'Zentropa Entertainments', 'Turner Feature Animation', 'Warner Bros. Feature Animation', 'Walt Disney Animation Australia', 'K/O Camera Toys', 'Disney Toon Studio', 'Peter V. Miller Investment Corp.', 'Milkshake Films', 'Finanzia San Marco', 'Wild Ocean Films', 'Material Entertainment', 'Big Beach Films', 'Victoires Productions', 'Parlay Films', 'Radical Media', 'Leiknar Myndir', 'Vaughn Productions', 'Filmsmith Productions', 'Kingston Film Productions Ltd.', 'Legendary Entertainment', 'EDI', 'The Coppola Company', 'Underworld Produktions GmbH', 'ATO Pictures', 'Mandate Pictures', 'Carousel Productions', 'Big Kid Pictures', 'Les Armateurs', 'Polar Entertainment', 'Santa Fé Films', 'Alliance Films', 'Triple Threat Talent', 'Laurence Mark Productions', 'Grosvenor Park Impact Productions', 'Propaganda Films', 'IFC Productions', 'Truth and Soul Pictures Inc', 'Dark Trick Films', 'Aramid Entertainment Fund', 'Beagle Pug Films', 'Shine Pictures', 'Ming Productions', 'Fear and Loathing LLC', 'Seven Arts Pictures', 'Tecmo', 'Magnet Productions', 'Exclusive Media Group', 'Charles Chaplin Productions', 'Maguire Entertainment', 'Epithète Films', 'Section Eight Productions', 'Tempesta Films', 'Luxembourg Film Fund', 'Stone Productions', 'GHS Productions KG', 'Mars Production Pty. Ltd.', 'Arte France', 'Baumgarten Management and Productions (BMP)', 'Motion Picture Corporation of America', 'Blind Wink Productions', 'La Classe Américaine', 'Canal Plus', 'Les Productions Artistes Associés', 'The Yomiuri Shimbun', 'MCL Films S.A.', 'High Frequency Entertainment', 'Bedlam Productions', 'Refugee Films', 'New South Wales Film & Television Office', 'XF2 Canada Productions', 'Kumar Mobiliengesellschaft mbH & Co. Projekt Nr. 2 KG', 'Crest Animation Productions', 'Gramercy Pictures', 'Coco', 'Partnership Pictures', 'Tribeca Productions', 'Degeto Film', 'Screen East', 'Studio Babelsberg StudioBabelsberg Motion Pictures', 'DNA Productions', 'JoBro Productions & Film Finance', 'Radiant Film GmbH', 'Dan Curtis Productions', 'A Grand Elephant', 'Filmplan International II', 'IM3 Entertainment', 'Foxstar', 'Silver Screen Partners II', 'EOS Entertainment', 'Société de Développement des Entreprises Culturelles (SODEC)', 'France Télévisions', 'T2 Productions', 'Hank Levine Film', 'Kickstart Productions', 'Michael London Productions', 'M.G. Films', 'Polish Brothers Construction', 'Crying Box Productions', 'Chad Troutwine Films', 'Rogue Marble', 'Sedic International', 'Camp / Thompson Pictures', 'Trademark Films', 'Liberator Productions', 'Universal Pictures Corporation', 'Film 44', 'Backup Media', 'Kennedy/Marshall Company, The', 'Odeon Films', 'Sixth Sense Productions', 'American Work', 'Middle Fork Productions', 'Fat Free', 'BBC Earth MD (WWD)', 'Iron Horse Entertainment (II)', 'Wales Creative IP Fund', 'Belladonna Productions', 'WR Universal Group', 'Two Girls Productions', 'Gerber Pictures', 'Patalex Productions', 'Comedy Central Films', 'Lou Yi Inc.', 'Roth-Arnold Productions', 'Likely Story', 'Bill Plympton Studios', 'Whitewater Films', 'Hanna-Barbera Productions', 'Chartoff Productions', 'Bandito Brothers', 'Michael Lobell Productions', 'Knightsbridge Entertainment', 'Amy Robinson Productions', 'The Caddo Company', 'Filmworks/FX', 'TIK Films', 'Rhythm and Hues', 'RTE', 'Angry Films', 'Marvel Knights', 'Robert Wise Productions', 'Clearwater Holdings Limited', 'Ultra Films', 'Lip Sync Post', 'B.H. Finance C.V.', 'International Production Company', 'Continental Producciones', 'Whamaphram Productions', 'Blue Sea Productions', 'Brick Dust Productions LLC', 'China Dream Film Culture Industry', 'Mike Zoss Productions', 'Shutt/Jones Productions', 'Olive Bridge Entertainment', 'Irish Film Board', 'Joseph Nittolo Entertainment', 'Film Export A.G.', 'CJ Entertainment', 'Antena 3 Films', 'Home Box Office (HBO)', 'Weintraub Entertainment Group', 'Saga Film', 'Choke Film', 'CAMERON MACKINTOSH', 'Panda Productions Inc.', 'New Deal Productions', 'Ryan Murphy Productions', 'Atman Entertainment', 'Dickhouse Productions', 'Zip Films', 'Revelations Entertainment', 'Odyssey Entertainment', 'Hachiko', 'Rye Road Productions', 'Gkids', 'Illusion Entertainment', 'Simian Films', 'Brandywine Productions', 'Metro-Goldwyn-Mayer Pictures', 'Hollywood Partners', 'The Canton Company', 'The Harvey Boys', 'Esperanto Filmoj', 'Pacific Film and Television Commission', 'Closest to the Hole Productions', 'Miracle Pictures', 'The Rank Organisation', 'Disney', 'Michael White Productions', 'JRS Productions', 'Kim and Jim Productions', 'Jewel Productions', 'Telekanal STS', 'Elektra Productions', 'Madison 23', 'Chris Lee Productions', 'Tokyo Movie Shinsha (TMS)', 'Distant Planet Productions', 'Faliro House Productions', 'Goldmann Pictures', 'John Goldwyn Productions', 'Vortex Words Pictures', 'Kenio Films', 'The First Channel', 'Ruby in Paradise', 'Zippcast Films', 'Wildwood Enterprises', 'MBC Beteiligungs Filmproduktion', 'Orion-Nova Productions', 'Reel Chefs Catering', 'White Hat', 'Crystal City Entertainment', 'Also Known As Pictures', 'UK Film & TV Production Company', 'Metal Productions Inc.', 'Corazón International', 'Original Pictures', 'Ozumi Films', 'Yari Film Group', 'Chrysalis Films', '3Foot7', 'International Traders', 'Walt Disney Feature Animation', 'First Independent Films', 'Warp Films', 'Dominion Productions', 'Corrino Media Corporation', 'Arsénico Producciones', 'SVT Drama', 'The Criterion Collection', 'Pacific Standard', 'Scholastic Entertainment', 'Scanbox', 'Rai Cinema', 'DW Studios', 'Haishang Films', 'Tapioca Films', 'Detour Film Production', 'Mad Max Films', 'Cinema Investment', 'Ed Friendly Productions', 'Entertainment', 'Les Films 21', 'A&E Television Networks', 'Shark Productions', 'Random Films', 'Red Om Films', 'Buckaroo Entertainment', 'Sherwood Pictures', 'Red Wagon Productions', 'Unification Church', 'MHF Erste Academy Film GmbH & Co. Produktions KG', 'Dead Crow Productions', 'Post No Bills Films', 'SPI Film Studio', 'C & L', 'Nu Image Entertainment', 'Jerry Bresler Productions', 'Bonne Pioche', 'Alabama Production Group', 'Tequila Gang', 'Prime Focus', 'Cinematograph A/S', 'Pearl Street Films', 'Mill Film', 'Revolution Films', 'thinkfilm', 'Langley Productions', 'Ternion Pictures', 'JD Productions', 'After Dark Films', 'Base 12 Productions', 'Pandora Pictures', 'Inside Track Films', 'The Montecito Picture Company', 'Wind Dancer Films', 'Wega Film', 'Sechzehnte Babelsberg Film', 'Hugo Productions', 'Standard Film Company', 'Into the Wild', 'Happy Madison Productions', 'Dino De Laurentiis Company', 'Corus Entertainment', 'Dimension Films (US version)', 'Paradise/MGN', 'Land Films Inc.', 'Theobald Film Productions', 'Iron Fists', 'Don Simpson/Jerry Bruckheimer Films', 'Dark Lot Entertainment', 'Pierce/Williams Entertainment', 'Blue Parrot Productions', 'Film Väst', 'Castel Film Romania', 'Film & Entertainment VIP Medienfonds 4 GmbH & Co. KG (I)', 'Red Horizon Productions', 'Hemisphere Media Capital', 'Riddick Canada Productions', 'TF1 Droits Audiovisuels', 'Saw Productions Inc.', 'Famous Players Ltd', 'Preferred Content', 'Rovio Entertainment', 'Bungalow 78 Productions', 'Incorporated Television Company (ITC)', 'Reaper Productions', '20th Century Fox Home Entertainment', 'Code Red Productions', 'Guardian Trust Company', 'Memfis Film', 'Why Not Productions', 'Vanguard Films', 'Lone Runner Entertainment', 'Viz Media', 'Mindhunters Productie BV', 'Temple Hill Entertainment', 'Prana Studios', 'Konrad Pictures', 'Allied Vision', 'Splendid Pictures', 'Neverland Films', 'MTV Films', 'Arka Media Works', 'Cannell Studios', 'George Stevens Productions', \"Donners' Company\", 'Atomic Monster', 'Mayhem Pictures', 'WT2 Productions', 'Location Gourmet', 'Senator Entertainment Co', 'Stars Road Entertainment', 'Jasmine Productions Inc.', 'STX Entertainment', 'Cohen/Pearl Productions', 'China Movie Channel', 'Fast Track Productions', 'Atlantic Television', 'Starbucks Entertainment', 'Artemis Films', 'Sierra/Affinity', 'Ebeling Group', 'Albert S. Ruddy Productions', 'Bill Graham Films', 'Rainmaker Entertainment', 'Opus Pictures', 'Kerner Entertainment Company', 'Eon Productions', 'Grey Water Park Productions', 'Trap-Two-Zero Productions', 'New Regency Pictures', 'Hermetof Pictures', 'O Entertainment', 'MTV Productions', 'Applecross']\n"
     ]
    }
   ],
   "source": [
    "production_companies = set()\n",
    "for item in movies.production_companies:\n",
    "    for company in item:\n",
    "        production_companies.add(company)\n",
    "production_companies = list(production_companies)\n",
    "print(production_companies)"
   ]
  },
  {
   "cell_type": "code",
   "execution_count": 0,
   "metadata": {
    "colab": {
     "base_uri": "https://localhost:8080/",
     "height": 34
    },
    "colab_type": "code",
    "id": "zdz2xdCziekJ",
    "outputId": "c2de0962-4842-4c6e-c585-44bca91e5c98"
   },
   "outputs": [
    {
     "data": {
      "text/plain": [
       "3564"
      ]
     },
     "execution_count": 70,
     "metadata": {
      "tags": []
     },
     "output_type": "execute_result"
    }
   ],
   "source": [
    "len(production_companies)"
   ]
  },
  {
   "cell_type": "markdown",
   "metadata": {
    "colab_type": "text",
    "id": "sohJdw5_iq1d"
   },
   "source": [
    "Visto o número grande de companhias de produção distintas vamos aplicar o mesmo racionio que foi aplicado para a feature keywords e vamos elimar esta feature "
   ]
  },
  {
   "cell_type": "code",
   "execution_count": 0,
   "metadata": {
    "colab": {},
    "colab_type": "code",
    "id": "j-0Lwms9jGld"
   },
   "outputs": [],
   "source": [
    "movies = movies.drop(columns=['production_companies'] , axis = 1 )"
   ]
  },
  {
   "cell_type": "markdown",
   "metadata": {
    "colab_type": "text",
    "id": "Cr3pIeGrjJQb"
   },
   "source": [
    "--production_countries"
   ]
  },
  {
   "cell_type": "code",
   "execution_count": 0,
   "metadata": {
    "colab": {
     "base_uri": "https://localhost:8080/",
     "height": 54
    },
    "colab_type": "code",
    "id": "MSDUqT14jR1b",
    "outputId": "1df21447-5986-4940-d7a0-c4647b48281f"
   },
   "outputs": [
    {
     "name": "stdout",
     "output_type": "stream",
     "text": [
      "['Czech Republic', 'Romania', 'Finland', 'Norway', 'Italy', 'Hong Kong', 'Hungary', 'Singapore', 'Luxembourg', 'New Zealand', 'Bulgaria', 'Chile', 'France', 'Poland', 'Denmark', 'Austria', 'Thailand', 'Fiji', 'Iran', 'Spain', 'Bahamas', 'China', 'Morocco', 'Kazakhstan', 'Slovenia', 'Netherlands', 'Brazil', 'Portugal', 'Argentina', 'United Kingdom', 'Jamaica', 'Belgium', 'Greece', 'Indonesia', 'South Korea', 'Russia', 'Iceland', 'Lithuania', 'Switzerland', 'Dominica', 'South Africa', 'Japan', 'Australia', 'Serbia', 'Israel', 'Germany', 'Peru', 'United Arab Emirates', 'Sweden', 'Mexico', 'United States of America', 'Pakistan', 'Canada', 'Tunisia', 'Malta', 'India', 'Angola', 'Philippines', 'Serbia and Montenegro', 'Taiwan', 'Ireland']\n"
     ]
    }
   ],
   "source": [
    "production_countries = set()\n",
    "for item in movies.production_countries:\n",
    "    for country in item:\n",
    "        production_countries.add(country)\n",
    "production_countries = list(production_countries)\n",
    "print(production_countries)"
   ]
  },
  {
   "cell_type": "code",
   "execution_count": 0,
   "metadata": {
    "colab": {
     "base_uri": "https://localhost:8080/",
     "height": 34
    },
    "colab_type": "code",
    "id": "nILKHboLjWb3",
    "outputId": "d94be7ce-1156-4946-a61e-b1c1d6722ccd"
   },
   "outputs": [
    {
     "data": {
      "text/plain": [
       "61"
      ]
     },
     "execution_count": 73,
     "metadata": {
      "tags": []
     },
     "output_type": "execute_result"
    }
   ],
   "source": [
    "len(production_countries)"
   ]
  },
  {
   "cell_type": "code",
   "execution_count": 0,
   "metadata": {
    "colab": {
     "base_uri": "https://localhost:8080/",
     "height": 120
    },
    "colab_type": "code",
    "id": "9SLDKXs4kSct",
    "outputId": "39582343-4b40-4c56-dc46-8058b2d28d8f"
   },
   "outputs": [
    {
     "data": {
      "text/html": [
       "<div>\n",
       "<style scoped>\n",
       "    .dataframe tbody tr th:only-of-type {\n",
       "        vertical-align: middle;\n",
       "    }\n",
       "\n",
       "    .dataframe tbody tr th {\n",
       "        vertical-align: top;\n",
       "    }\n",
       "\n",
       "    .dataframe thead th {\n",
       "        text-align: right;\n",
       "    }\n",
       "</style>\n",
       "<table border=\"1\" class=\"dataframe\">\n",
       "  <thead>\n",
       "    <tr style=\"text-align: right;\">\n",
       "      <th></th>\n",
       "      <th>Czech Republic</th>\n",
       "      <th>Romania</th>\n",
       "      <th>Finland</th>\n",
       "      <th>Norway</th>\n",
       "      <th>Italy</th>\n",
       "      <th>Hong Kong</th>\n",
       "      <th>Hungary</th>\n",
       "      <th>Singapore</th>\n",
       "      <th>Luxembourg</th>\n",
       "      <th>New Zealand</th>\n",
       "      <th>Bulgaria</th>\n",
       "      <th>Chile</th>\n",
       "      <th>France</th>\n",
       "      <th>Poland</th>\n",
       "      <th>Denmark</th>\n",
       "      <th>Austria</th>\n",
       "      <th>Thailand</th>\n",
       "      <th>Fiji</th>\n",
       "      <th>Iran</th>\n",
       "      <th>Spain</th>\n",
       "      <th>Bahamas</th>\n",
       "      <th>China</th>\n",
       "      <th>Morocco</th>\n",
       "      <th>Kazakhstan</th>\n",
       "      <th>Slovenia</th>\n",
       "      <th>Netherlands</th>\n",
       "      <th>Brazil</th>\n",
       "      <th>Portugal</th>\n",
       "      <th>Argentina</th>\n",
       "      <th>United Kingdom</th>\n",
       "      <th>Jamaica</th>\n",
       "      <th>Belgium</th>\n",
       "      <th>Greece</th>\n",
       "      <th>Indonesia</th>\n",
       "      <th>South Korea</th>\n",
       "      <th>Russia</th>\n",
       "      <th>Iceland</th>\n",
       "      <th>Lithuania</th>\n",
       "      <th>Switzerland</th>\n",
       "      <th>Dominica</th>\n",
       "      <th>South Africa</th>\n",
       "      <th>Japan</th>\n",
       "      <th>Australia</th>\n",
       "      <th>Serbia</th>\n",
       "      <th>Israel</th>\n",
       "      <th>Germany</th>\n",
       "      <th>Peru</th>\n",
       "      <th>United Arab Emirates</th>\n",
       "      <th>Sweden</th>\n",
       "      <th>Mexico</th>\n",
       "      <th>United States of America</th>\n",
       "      <th>Pakistan</th>\n",
       "      <th>Canada</th>\n",
       "      <th>Tunisia</th>\n",
       "      <th>Malta</th>\n",
       "      <th>India</th>\n",
       "      <th>Angola</th>\n",
       "      <th>Philippines</th>\n",
       "      <th>Serbia and Montenegro</th>\n",
       "      <th>Taiwan</th>\n",
       "      <th>Ireland</th>\n",
       "    </tr>\n",
       "  </thead>\n",
       "  <tbody>\n",
       "  </tbody>\n",
       "</table>\n",
       "</div>"
      ],
      "text/plain": [
       "Empty DataFrame\n",
       "Columns: [Czech Republic, Romania, Finland, Norway, Italy, Hong Kong, Hungary, Singapore, Luxembourg, New Zealand, Bulgaria, Chile, France, Poland, Denmark, Austria, Thailand, Fiji, Iran, Spain, Bahamas, China, Morocco, Kazakhstan, Slovenia, Netherlands, Brazil, Portugal, Argentina, United Kingdom, Jamaica, Belgium, Greece, Indonesia, South Korea, Russia, Iceland, Lithuania, Switzerland, Dominica, South Africa, Japan, Australia, Serbia, Israel, Germany, Peru, United Arab Emirates, Sweden, Mexico, United States of America, Pakistan, Canada, Tunisia, Malta, India, Angola, Philippines, Serbia and Montenegro, Taiwan, Ireland]\n",
       "Index: []"
      ]
     },
     "execution_count": 74,
     "metadata": {
      "tags": []
     },
     "output_type": "execute_result"
    }
   ],
   "source": [
    "df_production_countries = pd.DataFrame(columns=production_countries)\n",
    "df_production_countries.head()"
   ]
  },
  {
   "cell_type": "code",
   "execution_count": 0,
   "metadata": {
    "colab": {
     "base_uri": "https://localhost:8080/",
     "height": 213
    },
    "colab_type": "code",
    "id": "RBepdZePkbVW",
    "outputId": "0354aeca-13c8-4487-e6b8-48d38731b5b9"
   },
   "outputs": [
    {
     "data": {
      "text/html": [
       "<div>\n",
       "<style scoped>\n",
       "    .dataframe tbody tr th:only-of-type {\n",
       "        vertical-align: middle;\n",
       "    }\n",
       "\n",
       "    .dataframe tbody tr th {\n",
       "        vertical-align: top;\n",
       "    }\n",
       "\n",
       "    .dataframe thead th {\n",
       "        text-align: right;\n",
       "    }\n",
       "</style>\n",
       "<table border=\"1\" class=\"dataframe\">\n",
       "  <thead>\n",
       "    <tr style=\"text-align: right;\">\n",
       "      <th></th>\n",
       "      <th>Czech Republic</th>\n",
       "      <th>Romania</th>\n",
       "      <th>Finland</th>\n",
       "      <th>Norway</th>\n",
       "      <th>Italy</th>\n",
       "      <th>Hong Kong</th>\n",
       "      <th>Hungary</th>\n",
       "      <th>Singapore</th>\n",
       "      <th>Luxembourg</th>\n",
       "      <th>New Zealand</th>\n",
       "      <th>Bulgaria</th>\n",
       "      <th>Chile</th>\n",
       "      <th>France</th>\n",
       "      <th>Poland</th>\n",
       "      <th>Denmark</th>\n",
       "      <th>Austria</th>\n",
       "      <th>Thailand</th>\n",
       "      <th>Fiji</th>\n",
       "      <th>Iran</th>\n",
       "      <th>Spain</th>\n",
       "      <th>Bahamas</th>\n",
       "      <th>China</th>\n",
       "      <th>Morocco</th>\n",
       "      <th>Kazakhstan</th>\n",
       "      <th>Slovenia</th>\n",
       "      <th>Netherlands</th>\n",
       "      <th>Brazil</th>\n",
       "      <th>Portugal</th>\n",
       "      <th>Argentina</th>\n",
       "      <th>United Kingdom</th>\n",
       "      <th>Jamaica</th>\n",
       "      <th>Belgium</th>\n",
       "      <th>Greece</th>\n",
       "      <th>Indonesia</th>\n",
       "      <th>South Korea</th>\n",
       "      <th>Russia</th>\n",
       "      <th>Iceland</th>\n",
       "      <th>Lithuania</th>\n",
       "      <th>Switzerland</th>\n",
       "      <th>Dominica</th>\n",
       "      <th>South Africa</th>\n",
       "      <th>Japan</th>\n",
       "      <th>Australia</th>\n",
       "      <th>Serbia</th>\n",
       "      <th>Israel</th>\n",
       "      <th>Germany</th>\n",
       "      <th>Peru</th>\n",
       "      <th>United Arab Emirates</th>\n",
       "      <th>Sweden</th>\n",
       "      <th>Mexico</th>\n",
       "      <th>United States of America</th>\n",
       "      <th>Pakistan</th>\n",
       "      <th>Canada</th>\n",
       "      <th>Tunisia</th>\n",
       "      <th>Malta</th>\n",
       "      <th>India</th>\n",
       "      <th>Angola</th>\n",
       "      <th>Philippines</th>\n",
       "      <th>Serbia and Montenegro</th>\n",
       "      <th>Taiwan</th>\n",
       "      <th>Ireland</th>\n",
       "    </tr>\n",
       "  </thead>\n",
       "  <tbody>\n",
       "    <tr>\n",
       "      <th>0</th>\n",
       "      <td>NaN</td>\n",
       "      <td>NaN</td>\n",
       "      <td>NaN</td>\n",
       "      <td>NaN</td>\n",
       "      <td>NaN</td>\n",
       "      <td>NaN</td>\n",
       "      <td>NaN</td>\n",
       "      <td>NaN</td>\n",
       "      <td>NaN</td>\n",
       "      <td>NaN</td>\n",
       "      <td>NaN</td>\n",
       "      <td>NaN</td>\n",
       "      <td>NaN</td>\n",
       "      <td>NaN</td>\n",
       "      <td>NaN</td>\n",
       "      <td>NaN</td>\n",
       "      <td>NaN</td>\n",
       "      <td>NaN</td>\n",
       "      <td>NaN</td>\n",
       "      <td>NaN</td>\n",
       "      <td>NaN</td>\n",
       "      <td>NaN</td>\n",
       "      <td>NaN</td>\n",
       "      <td>NaN</td>\n",
       "      <td>NaN</td>\n",
       "      <td>NaN</td>\n",
       "      <td>NaN</td>\n",
       "      <td>NaN</td>\n",
       "      <td>NaN</td>\n",
       "      <td>1</td>\n",
       "      <td>NaN</td>\n",
       "      <td>NaN</td>\n",
       "      <td>NaN</td>\n",
       "      <td>NaN</td>\n",
       "      <td>NaN</td>\n",
       "      <td>NaN</td>\n",
       "      <td>NaN</td>\n",
       "      <td>NaN</td>\n",
       "      <td>NaN</td>\n",
       "      <td>NaN</td>\n",
       "      <td>NaN</td>\n",
       "      <td>NaN</td>\n",
       "      <td>NaN</td>\n",
       "      <td>NaN</td>\n",
       "      <td>NaN</td>\n",
       "      <td>NaN</td>\n",
       "      <td>NaN</td>\n",
       "      <td>NaN</td>\n",
       "      <td>NaN</td>\n",
       "      <td>NaN</td>\n",
       "      <td>1</td>\n",
       "      <td>NaN</td>\n",
       "      <td>NaN</td>\n",
       "      <td>NaN</td>\n",
       "      <td>NaN</td>\n",
       "      <td>NaN</td>\n",
       "      <td>NaN</td>\n",
       "      <td>NaN</td>\n",
       "      <td>NaN</td>\n",
       "      <td>NaN</td>\n",
       "      <td>NaN</td>\n",
       "    </tr>\n",
       "    <tr>\n",
       "      <th>1</th>\n",
       "      <td>NaN</td>\n",
       "      <td>NaN</td>\n",
       "      <td>NaN</td>\n",
       "      <td>NaN</td>\n",
       "      <td>NaN</td>\n",
       "      <td>NaN</td>\n",
       "      <td>NaN</td>\n",
       "      <td>NaN</td>\n",
       "      <td>NaN</td>\n",
       "      <td>NaN</td>\n",
       "      <td>NaN</td>\n",
       "      <td>NaN</td>\n",
       "      <td>NaN</td>\n",
       "      <td>NaN</td>\n",
       "      <td>NaN</td>\n",
       "      <td>NaN</td>\n",
       "      <td>NaN</td>\n",
       "      <td>NaN</td>\n",
       "      <td>NaN</td>\n",
       "      <td>NaN</td>\n",
       "      <td>NaN</td>\n",
       "      <td>NaN</td>\n",
       "      <td>NaN</td>\n",
       "      <td>NaN</td>\n",
       "      <td>NaN</td>\n",
       "      <td>NaN</td>\n",
       "      <td>NaN</td>\n",
       "      <td>NaN</td>\n",
       "      <td>NaN</td>\n",
       "      <td>NaN</td>\n",
       "      <td>NaN</td>\n",
       "      <td>NaN</td>\n",
       "      <td>NaN</td>\n",
       "      <td>NaN</td>\n",
       "      <td>NaN</td>\n",
       "      <td>NaN</td>\n",
       "      <td>NaN</td>\n",
       "      <td>NaN</td>\n",
       "      <td>NaN</td>\n",
       "      <td>NaN</td>\n",
       "      <td>NaN</td>\n",
       "      <td>NaN</td>\n",
       "      <td>NaN</td>\n",
       "      <td>NaN</td>\n",
       "      <td>NaN</td>\n",
       "      <td>NaN</td>\n",
       "      <td>NaN</td>\n",
       "      <td>NaN</td>\n",
       "      <td>NaN</td>\n",
       "      <td>NaN</td>\n",
       "      <td>1</td>\n",
       "      <td>NaN</td>\n",
       "      <td>NaN</td>\n",
       "      <td>NaN</td>\n",
       "      <td>NaN</td>\n",
       "      <td>NaN</td>\n",
       "      <td>NaN</td>\n",
       "      <td>NaN</td>\n",
       "      <td>NaN</td>\n",
       "      <td>NaN</td>\n",
       "      <td>NaN</td>\n",
       "    </tr>\n",
       "    <tr>\n",
       "      <th>2</th>\n",
       "      <td>NaN</td>\n",
       "      <td>NaN</td>\n",
       "      <td>NaN</td>\n",
       "      <td>NaN</td>\n",
       "      <td>NaN</td>\n",
       "      <td>NaN</td>\n",
       "      <td>NaN</td>\n",
       "      <td>NaN</td>\n",
       "      <td>NaN</td>\n",
       "      <td>NaN</td>\n",
       "      <td>NaN</td>\n",
       "      <td>NaN</td>\n",
       "      <td>NaN</td>\n",
       "      <td>NaN</td>\n",
       "      <td>NaN</td>\n",
       "      <td>NaN</td>\n",
       "      <td>NaN</td>\n",
       "      <td>NaN</td>\n",
       "      <td>NaN</td>\n",
       "      <td>NaN</td>\n",
       "      <td>NaN</td>\n",
       "      <td>NaN</td>\n",
       "      <td>NaN</td>\n",
       "      <td>NaN</td>\n",
       "      <td>NaN</td>\n",
       "      <td>NaN</td>\n",
       "      <td>NaN</td>\n",
       "      <td>NaN</td>\n",
       "      <td>NaN</td>\n",
       "      <td>1</td>\n",
       "      <td>NaN</td>\n",
       "      <td>NaN</td>\n",
       "      <td>NaN</td>\n",
       "      <td>NaN</td>\n",
       "      <td>NaN</td>\n",
       "      <td>NaN</td>\n",
       "      <td>NaN</td>\n",
       "      <td>NaN</td>\n",
       "      <td>NaN</td>\n",
       "      <td>NaN</td>\n",
       "      <td>NaN</td>\n",
       "      <td>NaN</td>\n",
       "      <td>NaN</td>\n",
       "      <td>NaN</td>\n",
       "      <td>NaN</td>\n",
       "      <td>NaN</td>\n",
       "      <td>NaN</td>\n",
       "      <td>NaN</td>\n",
       "      <td>NaN</td>\n",
       "      <td>NaN</td>\n",
       "      <td>1</td>\n",
       "      <td>NaN</td>\n",
       "      <td>NaN</td>\n",
       "      <td>NaN</td>\n",
       "      <td>NaN</td>\n",
       "      <td>NaN</td>\n",
       "      <td>NaN</td>\n",
       "      <td>NaN</td>\n",
       "      <td>NaN</td>\n",
       "      <td>NaN</td>\n",
       "      <td>NaN</td>\n",
       "    </tr>\n",
       "  </tbody>\n",
       "</table>\n",
       "</div>"
      ],
      "text/plain": [
       "  Czech Republic Romania Finland  ... Serbia and Montenegro Taiwan Ireland\n",
       "0            NaN     NaN     NaN  ...                   NaN    NaN     NaN\n",
       "1            NaN     NaN     NaN  ...                   NaN    NaN     NaN\n",
       "2            NaN     NaN     NaN  ...                   NaN    NaN     NaN\n",
       "\n",
       "[3 rows x 61 columns]"
      ]
     },
     "execution_count": 75,
     "metadata": {
      "tags": []
     },
     "output_type": "execute_result"
    }
   ],
   "source": [
    "for index, row in movies.iterrows():\n",
    "    for item in row['production_countries']:\n",
    "        df_production_countries.loc[index,item] = 1\n",
    "df_production_countries.head(3)"
   ]
  },
  {
   "cell_type": "code",
   "execution_count": 0,
   "metadata": {
    "colab": {},
    "colab_type": "code",
    "id": "9QVm6VPElNOO"
   },
   "outputs": [],
   "source": [
    "df_production_countries.fillna(0,inplace=True)"
   ]
  },
  {
   "cell_type": "code",
   "execution_count": 0,
   "metadata": {
    "colab": {
     "base_uri": "https://localhost:8080/",
     "height": 1000
    },
    "colab_type": "code",
    "id": "-8NKLf3TlXBs",
    "outputId": "07db1ce0-7d0c-43f2-cf3c-f447c5147543"
   },
   "outputs": [
    {
     "name": "stdout",
     "output_type": "stream",
     "text": [
      "Czech Republic: 16\n",
      "Romania: 7\n",
      "Finland: 3\n",
      "Norway: 8\n",
      "Italy: 48\n",
      "Hong Kong: 26\n",
      "Hungary: 8\n",
      "Singapore: 1\n",
      "Luxembourg: 6\n",
      "New Zealand: 21\n",
      "Bulgaria: 3\n",
      "Chile: 2\n",
      "France: 196\n",
      "Poland: 4\n",
      "Denmark: 9\n",
      "Austria: 5\n",
      "Thailand: 3\n",
      "Fiji: 1\n",
      "Iran: 1\n",
      "Spain: 43\n",
      "Bahamas: 3\n",
      "China: 37\n",
      "Morocco: 3\n",
      "Kazakhstan: 1\n",
      "Slovenia: 1\n",
      "Netherlands: 14\n",
      "Brazil: 5\n",
      "Portugal: 1\n",
      "Argentina: 3\n",
      "United Kingdom: 436\n",
      "Jamaica: 2\n",
      "Belgium: 14\n",
      "Greece: 2\n",
      "Indonesia: 1\n",
      "South Korea: 7\n",
      "Russia: 11\n",
      "Iceland: 5\n",
      "Lithuania: 1\n",
      "Switzerland: 12\n",
      "Dominica: 1\n",
      "South Africa: 9\n",
      "Japan: 40\n",
      "Australia: 78\n",
      "Serbia: 1\n",
      "Israel: 1\n",
      "Germany: 233\n",
      "Peru: 2\n",
      "United Arab Emirates: 13\n",
      "Sweden: 8\n",
      "Mexico: 16\n",
      "United States of America: 2907\n",
      "Pakistan: 2\n",
      "Canada: 162\n",
      "Tunisia: 1\n",
      "Malta: 4\n",
      "India: 29\n",
      "Angola: 1\n",
      "Philippines: 1\n",
      "Serbia and Montenegro: 1\n",
      "Taiwan: 4\n",
      "Ireland: 25\n"
     ]
    }
   ],
   "source": [
    "# ver a distribuição por pais \n",
    "for column in df_production_countries:\n",
    "  print(\"{}: {}\".format(column,df_production_countries[column][df_production_countries[column]==1].shape[0]))"
   ]
  },
  {
   "cell_type": "code",
   "execution_count": 0,
   "metadata": {
    "colab": {
     "base_uri": "https://localhost:8080/",
     "height": 34
    },
    "colab_type": "code",
    "id": "ZtlmpDmXnBbB",
    "outputId": "50cd941f-7344-4ccd-b4b6-b0f7e94c0b5d"
   },
   "outputs": [
    {
     "data": {
      "text/plain": [
       "90.08366904245429"
      ]
     },
     "execution_count": 78,
     "metadata": {
      "tags": []
     },
     "output_type": "execute_result"
    }
   ],
   "source": [
    "(df_production_countries[df_production_countries['United States of America'] ==1].shape[0]/movies.shape[0])*100"
   ]
  },
  {
   "cell_type": "markdown",
   "metadata": {
    "colab_type": "text",
    "id": "K4I3yOcFnybM"
   },
   "source": [
    "Verificamos que 90% das observações foram efetuadas em USA e por isso assumimos que não existes variância significatica e vamos elimar ets coluna também. "
   ]
  },
  {
   "cell_type": "code",
   "execution_count": 0,
   "metadata": {
    "colab": {},
    "colab_type": "code",
    "id": "dhTuPymSoOd-"
   },
   "outputs": [],
   "source": [
    "movies = movies.drop(columns=['production_countries'] , axis = 1 )"
   ]
  },
  {
   "cell_type": "markdown",
   "metadata": {
    "colab_type": "text",
    "id": "M7KPew3XJPo2"
   },
   "source": [
    "--spoken_languages "
   ]
  },
  {
   "cell_type": "code",
   "execution_count": 0,
   "metadata": {
    "colab": {
     "base_uri": "https://localhost:8080/",
     "height": 54
    },
    "colab_type": "code",
    "id": "CGsGvxiGJQ8w",
    "outputId": "da22ea91-da84-48a2-94ec-b453a6418b11"
   },
   "outputs": [
    {
     "name": "stdout",
     "output_type": "stream",
     "text": [
      "['', 'हिन्दी', 'العربية', 'Gaeilge', 'ภาษาไทย', 'தமிழ்', 'shqip', 'isiZulu', 'қазақ', 'Somali', 'Slovenčina', 'Français', 'Eesti', 'Galego', '한국어/조선말', 'Português', 'English', 'Norsk', 'Polski', 'తెలుగు', 'ქართული', 'فارسی', '日本語', 'Hrvatski', 'Latin', 'Tiếng Việt', 'עִבְרִית', 'Español', 'Italiano', 'Română', 'Nederlands', 'Íslenska', 'Esperanto', 'ਪੰਜਾਬੀ', 'ελληνικά', 'Český', 'Magyar', 'বাংলা', 'Català', '广州话 / 廣州話', 'Dansk', 'Cymraeg', 'پښتو', 'Bahasa indonesia', '普通话', 'Afrikaans', 'suomi', 'Kiswahili', 'اردو', 'Srpski', 'Türkçe', 'Український', 'Deutsch', 'български език', 'No Language', 'Pусский', 'svenska', 'Bosanski']\n"
     ]
    }
   ],
   "source": [
    "spoken_languages  = set()\n",
    "for item in movies.spoken_languages :\n",
    "    for spoken_language in item:\n",
    "        spoken_languages.add(spoken_language)\n",
    "spoken_languages  = list(spoken_languages )\n",
    "print(spoken_languages)"
   ]
  },
  {
   "cell_type": "code",
   "execution_count": 0,
   "metadata": {
    "colab": {
     "base_uri": "https://localhost:8080/",
     "height": 34
    },
    "colab_type": "code",
    "id": "kjdxUtZqJnnS",
    "outputId": "a1c8dd44-d292-4487-fa44-d679f8ce3b9b"
   },
   "outputs": [
    {
     "data": {
      "text/plain": [
       "58"
      ]
     },
     "execution_count": 81,
     "metadata": {
      "tags": []
     },
     "output_type": "execute_result"
    }
   ],
   "source": [
    "len(spoken_languages)"
   ]
  },
  {
   "cell_type": "code",
   "execution_count": 0,
   "metadata": {
    "colab": {
     "base_uri": "https://localhost:8080/",
     "height": 171
    },
    "colab_type": "code",
    "id": "0dZx8eKEJqhj",
    "outputId": "b5951a12-d38f-4347-b3b9-76bf97d97cc6"
   },
   "outputs": [
    {
     "data": {
      "text/html": [
       "<div>\n",
       "<style scoped>\n",
       "    .dataframe tbody tr th:only-of-type {\n",
       "        vertical-align: middle;\n",
       "    }\n",
       "\n",
       "    .dataframe tbody tr th {\n",
       "        vertical-align: top;\n",
       "    }\n",
       "\n",
       "    .dataframe thead th {\n",
       "        text-align: right;\n",
       "    }\n",
       "</style>\n",
       "<table border=\"1\" class=\"dataframe\">\n",
       "  <thead>\n",
       "    <tr style=\"text-align: right;\">\n",
       "      <th></th>\n",
       "      <th></th>\n",
       "      <th>हिन्दी</th>\n",
       "      <th>العربية</th>\n",
       "      <th>Gaeilge</th>\n",
       "      <th>ภาษาไทย</th>\n",
       "      <th>தமிழ்</th>\n",
       "      <th>shqip</th>\n",
       "      <th>isiZulu</th>\n",
       "      <th>қазақ</th>\n",
       "      <th>Somali</th>\n",
       "      <th>Slovenčina</th>\n",
       "      <th>Français</th>\n",
       "      <th>Eesti</th>\n",
       "      <th>Galego</th>\n",
       "      <th>한국어/조선말</th>\n",
       "      <th>Português</th>\n",
       "      <th>English</th>\n",
       "      <th>Norsk</th>\n",
       "      <th>Polski</th>\n",
       "      <th>తెలుగు</th>\n",
       "      <th>ქართული</th>\n",
       "      <th>فارسی</th>\n",
       "      <th>日本語</th>\n",
       "      <th>Hrvatski</th>\n",
       "      <th>Latin</th>\n",
       "      <th>Tiếng Việt</th>\n",
       "      <th>עִבְרִית</th>\n",
       "      <th>Español</th>\n",
       "      <th>Italiano</th>\n",
       "      <th>Română</th>\n",
       "      <th>Nederlands</th>\n",
       "      <th>Íslenska</th>\n",
       "      <th>Esperanto</th>\n",
       "      <th>ਪੰਜਾਬੀ</th>\n",
       "      <th>ελληνικά</th>\n",
       "      <th>Český</th>\n",
       "      <th>Magyar</th>\n",
       "      <th>বাংলা</th>\n",
       "      <th>Català</th>\n",
       "      <th>广州话 / 廣州話</th>\n",
       "      <th>Dansk</th>\n",
       "      <th>Cymraeg</th>\n",
       "      <th>پښتو</th>\n",
       "      <th>Bahasa indonesia</th>\n",
       "      <th>普通话</th>\n",
       "      <th>Afrikaans</th>\n",
       "      <th>suomi</th>\n",
       "      <th>Kiswahili</th>\n",
       "      <th>اردو</th>\n",
       "      <th>Srpski</th>\n",
       "      <th>Türkçe</th>\n",
       "      <th>Український</th>\n",
       "      <th>Deutsch</th>\n",
       "      <th>български език</th>\n",
       "      <th>No Language</th>\n",
       "      <th>Pусский</th>\n",
       "      <th>svenska</th>\n",
       "      <th>Bosanski</th>\n",
       "    </tr>\n",
       "  </thead>\n",
       "  <tbody>\n",
       "  </tbody>\n",
       "</table>\n",
       "</div>"
      ],
      "text/plain": [
       "Empty DataFrame\n",
       "Columns: [, हिन्दी, العربية, Gaeilge, ภาษาไทย, தமிழ், shqip, isiZulu, қазақ, Somali, Slovenčina, Français, Eesti, Galego, 한국어/조선말, Português, English, Norsk, Polski, తెలుగు, ქართული, فارسی, 日本語, Hrvatski, Latin, Tiếng Việt, עִבְרִית, Español, Italiano, Română, Nederlands, Íslenska, Esperanto, ਪੰਜਾਬੀ, ελληνικά, Český, Magyar, বাংলা, Català, 广州话 / 廣州話, Dansk, Cymraeg, پښتو, Bahasa indonesia, 普通话, Afrikaans, suomi, Kiswahili, اردو, Srpski, Türkçe, Український, Deutsch, български език, No Language, Pусский, svenska, Bosanski]\n",
       "Index: []"
      ]
     },
     "execution_count": 82,
     "metadata": {
      "tags": []
     },
     "output_type": "execute_result"
    }
   ],
   "source": [
    "df_spoken_languages= pd.DataFrame(columns=spoken_languages)\n",
    "df_spoken_languages.head()"
   ]
  },
  {
   "cell_type": "code",
   "execution_count": 0,
   "metadata": {
    "colab": {
     "base_uri": "https://localhost:8080/",
     "height": 264
    },
    "colab_type": "code",
    "id": "RWvYTXpBJ2GM",
    "outputId": "85f20f9f-ea68-4355-f3bb-89c592b22b1e"
   },
   "outputs": [
    {
     "data": {
      "text/html": [
       "<div>\n",
       "<style scoped>\n",
       "    .dataframe tbody tr th:only-of-type {\n",
       "        vertical-align: middle;\n",
       "    }\n",
       "\n",
       "    .dataframe tbody tr th {\n",
       "        vertical-align: top;\n",
       "    }\n",
       "\n",
       "    .dataframe thead th {\n",
       "        text-align: right;\n",
       "    }\n",
       "</style>\n",
       "<table border=\"1\" class=\"dataframe\">\n",
       "  <thead>\n",
       "    <tr style=\"text-align: right;\">\n",
       "      <th></th>\n",
       "      <th></th>\n",
       "      <th>हिन्दी</th>\n",
       "      <th>العربية</th>\n",
       "      <th>Gaeilge</th>\n",
       "      <th>ภาษาไทย</th>\n",
       "      <th>தமிழ்</th>\n",
       "      <th>shqip</th>\n",
       "      <th>isiZulu</th>\n",
       "      <th>қазақ</th>\n",
       "      <th>Somali</th>\n",
       "      <th>Slovenčina</th>\n",
       "      <th>Français</th>\n",
       "      <th>Eesti</th>\n",
       "      <th>Galego</th>\n",
       "      <th>한국어/조선말</th>\n",
       "      <th>Português</th>\n",
       "      <th>English</th>\n",
       "      <th>Norsk</th>\n",
       "      <th>Polski</th>\n",
       "      <th>తెలుగు</th>\n",
       "      <th>ქართული</th>\n",
       "      <th>فارسی</th>\n",
       "      <th>日本語</th>\n",
       "      <th>Hrvatski</th>\n",
       "      <th>Latin</th>\n",
       "      <th>Tiếng Việt</th>\n",
       "      <th>עִבְרִית</th>\n",
       "      <th>Español</th>\n",
       "      <th>Italiano</th>\n",
       "      <th>Română</th>\n",
       "      <th>Nederlands</th>\n",
       "      <th>Íslenska</th>\n",
       "      <th>Esperanto</th>\n",
       "      <th>ਪੰਜਾਬੀ</th>\n",
       "      <th>ελληνικά</th>\n",
       "      <th>Český</th>\n",
       "      <th>Magyar</th>\n",
       "      <th>বাংলা</th>\n",
       "      <th>Català</th>\n",
       "      <th>广州话 / 廣州話</th>\n",
       "      <th>Dansk</th>\n",
       "      <th>Cymraeg</th>\n",
       "      <th>پښتو</th>\n",
       "      <th>Bahasa indonesia</th>\n",
       "      <th>普通话</th>\n",
       "      <th>Afrikaans</th>\n",
       "      <th>suomi</th>\n",
       "      <th>Kiswahili</th>\n",
       "      <th>اردو</th>\n",
       "      <th>Srpski</th>\n",
       "      <th>Türkçe</th>\n",
       "      <th>Український</th>\n",
       "      <th>Deutsch</th>\n",
       "      <th>български език</th>\n",
       "      <th>No Language</th>\n",
       "      <th>Pусский</th>\n",
       "      <th>svenska</th>\n",
       "      <th>Bosanski</th>\n",
       "    </tr>\n",
       "  </thead>\n",
       "  <tbody>\n",
       "    <tr>\n",
       "      <th>0</th>\n",
       "      <td>NaN</td>\n",
       "      <td>NaN</td>\n",
       "      <td>NaN</td>\n",
       "      <td>NaN</td>\n",
       "      <td>NaN</td>\n",
       "      <td>NaN</td>\n",
       "      <td>NaN</td>\n",
       "      <td>NaN</td>\n",
       "      <td>NaN</td>\n",
       "      <td>NaN</td>\n",
       "      <td>NaN</td>\n",
       "      <td>NaN</td>\n",
       "      <td>NaN</td>\n",
       "      <td>NaN</td>\n",
       "      <td>NaN</td>\n",
       "      <td>NaN</td>\n",
       "      <td>1</td>\n",
       "      <td>NaN</td>\n",
       "      <td>NaN</td>\n",
       "      <td>NaN</td>\n",
       "      <td>NaN</td>\n",
       "      <td>NaN</td>\n",
       "      <td>NaN</td>\n",
       "      <td>NaN</td>\n",
       "      <td>NaN</td>\n",
       "      <td>NaN</td>\n",
       "      <td>NaN</td>\n",
       "      <td>1</td>\n",
       "      <td>NaN</td>\n",
       "      <td>NaN</td>\n",
       "      <td>NaN</td>\n",
       "      <td>NaN</td>\n",
       "      <td>NaN</td>\n",
       "      <td>NaN</td>\n",
       "      <td>NaN</td>\n",
       "      <td>NaN</td>\n",
       "      <td>NaN</td>\n",
       "      <td>NaN</td>\n",
       "      <td>NaN</td>\n",
       "      <td>NaN</td>\n",
       "      <td>NaN</td>\n",
       "      <td>NaN</td>\n",
       "      <td>NaN</td>\n",
       "      <td>NaN</td>\n",
       "      <td>NaN</td>\n",
       "      <td>NaN</td>\n",
       "      <td>NaN</td>\n",
       "      <td>NaN</td>\n",
       "      <td>NaN</td>\n",
       "      <td>NaN</td>\n",
       "      <td>NaN</td>\n",
       "      <td>NaN</td>\n",
       "      <td>NaN</td>\n",
       "      <td>NaN</td>\n",
       "      <td>NaN</td>\n",
       "      <td>NaN</td>\n",
       "      <td>NaN</td>\n",
       "      <td>NaN</td>\n",
       "    </tr>\n",
       "    <tr>\n",
       "      <th>1</th>\n",
       "      <td>NaN</td>\n",
       "      <td>NaN</td>\n",
       "      <td>NaN</td>\n",
       "      <td>NaN</td>\n",
       "      <td>NaN</td>\n",
       "      <td>NaN</td>\n",
       "      <td>NaN</td>\n",
       "      <td>NaN</td>\n",
       "      <td>NaN</td>\n",
       "      <td>NaN</td>\n",
       "      <td>NaN</td>\n",
       "      <td>NaN</td>\n",
       "      <td>NaN</td>\n",
       "      <td>NaN</td>\n",
       "      <td>NaN</td>\n",
       "      <td>NaN</td>\n",
       "      <td>1</td>\n",
       "      <td>NaN</td>\n",
       "      <td>NaN</td>\n",
       "      <td>NaN</td>\n",
       "      <td>NaN</td>\n",
       "      <td>NaN</td>\n",
       "      <td>NaN</td>\n",
       "      <td>NaN</td>\n",
       "      <td>NaN</td>\n",
       "      <td>NaN</td>\n",
       "      <td>NaN</td>\n",
       "      <td>NaN</td>\n",
       "      <td>NaN</td>\n",
       "      <td>NaN</td>\n",
       "      <td>NaN</td>\n",
       "      <td>NaN</td>\n",
       "      <td>NaN</td>\n",
       "      <td>NaN</td>\n",
       "      <td>NaN</td>\n",
       "      <td>NaN</td>\n",
       "      <td>NaN</td>\n",
       "      <td>NaN</td>\n",
       "      <td>NaN</td>\n",
       "      <td>NaN</td>\n",
       "      <td>NaN</td>\n",
       "      <td>NaN</td>\n",
       "      <td>NaN</td>\n",
       "      <td>NaN</td>\n",
       "      <td>NaN</td>\n",
       "      <td>NaN</td>\n",
       "      <td>NaN</td>\n",
       "      <td>NaN</td>\n",
       "      <td>NaN</td>\n",
       "      <td>NaN</td>\n",
       "      <td>NaN</td>\n",
       "      <td>NaN</td>\n",
       "      <td>NaN</td>\n",
       "      <td>NaN</td>\n",
       "      <td>NaN</td>\n",
       "      <td>NaN</td>\n",
       "      <td>NaN</td>\n",
       "      <td>NaN</td>\n",
       "    </tr>\n",
       "    <tr>\n",
       "      <th>2</th>\n",
       "      <td>NaN</td>\n",
       "      <td>NaN</td>\n",
       "      <td>NaN</td>\n",
       "      <td>NaN</td>\n",
       "      <td>NaN</td>\n",
       "      <td>NaN</td>\n",
       "      <td>NaN</td>\n",
       "      <td>NaN</td>\n",
       "      <td>NaN</td>\n",
       "      <td>NaN</td>\n",
       "      <td>NaN</td>\n",
       "      <td>1</td>\n",
       "      <td>NaN</td>\n",
       "      <td>NaN</td>\n",
       "      <td>NaN</td>\n",
       "      <td>NaN</td>\n",
       "      <td>1</td>\n",
       "      <td>NaN</td>\n",
       "      <td>NaN</td>\n",
       "      <td>NaN</td>\n",
       "      <td>NaN</td>\n",
       "      <td>NaN</td>\n",
       "      <td>NaN</td>\n",
       "      <td>NaN</td>\n",
       "      <td>NaN</td>\n",
       "      <td>NaN</td>\n",
       "      <td>NaN</td>\n",
       "      <td>1</td>\n",
       "      <td>1</td>\n",
       "      <td>NaN</td>\n",
       "      <td>NaN</td>\n",
       "      <td>NaN</td>\n",
       "      <td>NaN</td>\n",
       "      <td>NaN</td>\n",
       "      <td>NaN</td>\n",
       "      <td>NaN</td>\n",
       "      <td>NaN</td>\n",
       "      <td>NaN</td>\n",
       "      <td>NaN</td>\n",
       "      <td>NaN</td>\n",
       "      <td>NaN</td>\n",
       "      <td>NaN</td>\n",
       "      <td>NaN</td>\n",
       "      <td>NaN</td>\n",
       "      <td>NaN</td>\n",
       "      <td>NaN</td>\n",
       "      <td>NaN</td>\n",
       "      <td>NaN</td>\n",
       "      <td>NaN</td>\n",
       "      <td>NaN</td>\n",
       "      <td>NaN</td>\n",
       "      <td>NaN</td>\n",
       "      <td>1</td>\n",
       "      <td>NaN</td>\n",
       "      <td>NaN</td>\n",
       "      <td>NaN</td>\n",
       "      <td>NaN</td>\n",
       "      <td>NaN</td>\n",
       "    </tr>\n",
       "  </tbody>\n",
       "</table>\n",
       "</div>"
      ],
      "text/plain": [
       "       हिन्दी العربية Gaeilge  ... No Language Pусский svenska Bosanski\n",
       "0  NaN    NaN     NaN     NaN  ...         NaN     NaN     NaN      NaN\n",
       "1  NaN    NaN     NaN     NaN  ...         NaN     NaN     NaN      NaN\n",
       "2  NaN    NaN     NaN     NaN  ...         NaN     NaN     NaN      NaN\n",
       "\n",
       "[3 rows x 58 columns]"
      ]
     },
     "execution_count": 83,
     "metadata": {
      "tags": []
     },
     "output_type": "execute_result"
    }
   ],
   "source": [
    "for index, row in movies.iterrows():\n",
    "    for item in row['spoken_languages']:\n",
    "        df_spoken_languages.loc[index,item] = 1\n",
    "df_spoken_languages.head(3)"
   ]
  },
  {
   "cell_type": "code",
   "execution_count": 0,
   "metadata": {
    "colab": {},
    "colab_type": "code",
    "id": "b9pB9LrZKS4L"
   },
   "outputs": [],
   "source": [
    "df_spoken_languages.fillna(0,inplace=True)"
   ]
  },
  {
   "cell_type": "code",
   "execution_count": 0,
   "metadata": {
    "colab": {
     "base_uri": "https://localhost:8080/",
     "height": 1000
    },
    "colab_type": "code",
    "id": "lMvk7ISNKWS6",
    "outputId": "b159ae77-150d-4572-c821-0a4acab7dfa3"
   },
   "outputs": [
    {
     "name": "stdout",
     "output_type": "stream",
     "text": [
      ": 36\n",
      "हिन्दी: 23\n",
      "العربية: 55\n",
      "Gaeilge: 4\n",
      "ภาษาไทย: 34\n",
      "தமிழ்: 2\n",
      "shqip: 3\n",
      "isiZulu: 2\n",
      "қазақ: 1\n",
      "Somali: 2\n",
      "Slovenčina: 1\n",
      "Français: 304\n",
      "Eesti: 2\n",
      "Galego: 1\n",
      "한국어/조선말: 23\n",
      "Português: 46\n",
      "English: 3134\n",
      "Norsk: 7\n",
      "Polski: 29\n",
      "తెలుగు: 1\n",
      "ქართული: 1\n",
      "فارسی: 7\n",
      "日本語: 82\n",
      "Hrvatski: 3\n",
      "Latin: 43\n",
      "Tiếng Việt: 15\n",
      "עִבְרִית: 25\n",
      "Español: 273\n",
      "Italiano: 143\n",
      "Română: 9\n",
      "Nederlands: 7\n",
      "Íslenska: 5\n",
      "Esperanto: 2\n",
      "ਪੰਜਾਬੀ: 1\n",
      "ελληνικά: 19\n",
      "Český: 29\n",
      "Magyar: 24\n",
      "বাংলা: 1\n",
      "Català: 1\n",
      "广州话 / 廣州話: 32\n",
      "Dansk: 7\n",
      "Cymraeg: 2\n",
      "پښتو: 1\n",
      "Bahasa indonesia: 2\n",
      "普通话: 79\n",
      "Afrikaans: 5\n",
      "suomi: 3\n",
      "Kiswahili: 5\n",
      "اردو: 13\n",
      "Srpski: 4\n",
      "Türkçe: 15\n",
      "Український: 9\n",
      "Deutsch: 179\n",
      "български език: 3\n",
      "No Language: 2\n",
      "Pусский: 148\n",
      "svenska: 16\n",
      "Bosanski: 1\n"
     ]
    }
   ],
   "source": [
    "# ver a distribuição por lingua\n",
    "for column in df_spoken_languages:\n",
    "  print(\"{}: {}\".format(column,df_spoken_languages[column][df_spoken_languages[column]==1].shape[0]))"
   ]
  },
  {
   "cell_type": "code",
   "execution_count": 0,
   "metadata": {
    "colab": {
     "base_uri": "https://localhost:8080/",
     "height": 34
    },
    "colab_type": "code",
    "id": "T7gg60I9Krzc",
    "outputId": "8c5be37d-0bcb-4e82-e730-9901e45484f2"
   },
   "outputs": [
    {
     "data": {
      "text/plain": [
       "97.11806631546328"
      ]
     },
     "execution_count": 86,
     "metadata": {
      "tags": []
     },
     "output_type": "execute_result"
    }
   ],
   "source": [
    "(df_spoken_languages[df_spoken_languages['English'] ==1].shape[0]/movies.shape[0])*100"
   ]
  },
  {
   "cell_type": "markdown",
   "metadata": {
    "colab_type": "text",
    "id": "TNXjl7lEK2Sm"
   },
   "source": [
    "97% dos filmes possuem o inglês como idioma.Uma vez que é uma carateristica quase presente em todas as observações vamos eliminar esta feature também. "
   ]
  },
  {
   "cell_type": "code",
   "execution_count": 0,
   "metadata": {
    "colab": {},
    "colab_type": "code",
    "id": "kTwjZpRTLKoI"
   },
   "outputs": [],
   "source": [
    "movies = movies.drop(columns=['spoken_languages'] , axis = 1 )"
   ]
  },
  {
   "cell_type": "markdown",
   "metadata": {
    "colab_type": "text",
    "id": "Db15Q2tZLavv"
   },
   "source": [
    "Vamos eliminar a coluna title também visto que já não necessitamos mais dela e é uma feature identificativa. "
   ]
  },
  {
   "cell_type": "code",
   "execution_count": 0,
   "metadata": {
    "colab": {},
    "colab_type": "code",
    "id": "CjeOoyi7Ljn9"
   },
   "outputs": [],
   "source": [
    "movies = movies.drop(columns=['title'] , axis = 1 )"
   ]
  },
  {
   "cell_type": "code",
   "execution_count": 0,
   "metadata": {
    "colab": {
     "base_uri": "https://localhost:8080/",
     "height": 241
    },
    "colab_type": "code",
    "id": "P9qxhExXLneS",
    "outputId": "a1bd924a-cddb-425c-bb9a-0991ea8093c3"
   },
   "outputs": [
    {
     "data": {
      "text/html": [
       "<div>\n",
       "<style scoped>\n",
       "    .dataframe tbody tr th:only-of-type {\n",
       "        vertical-align: middle;\n",
       "    }\n",
       "\n",
       "    .dataframe tbody tr th {\n",
       "        vertical-align: top;\n",
       "    }\n",
       "\n",
       "    .dataframe thead th {\n",
       "        text-align: right;\n",
       "    }\n",
       "</style>\n",
       "<table border=\"1\" class=\"dataframe\">\n",
       "  <thead>\n",
       "    <tr style=\"text-align: right;\">\n",
       "      <th></th>\n",
       "      <th>budget</th>\n",
       "      <th>popularity</th>\n",
       "      <th>revenue</th>\n",
       "      <th>runtime</th>\n",
       "      <th>vote_average</th>\n",
       "      <th>vote_count</th>\n",
       "      <th>year</th>\n",
       "      <th>Western</th>\n",
       "      <th>Family</th>\n",
       "      <th>Music</th>\n",
       "      <th>Horror</th>\n",
       "      <th>Thriller</th>\n",
       "      <th>Science Fiction</th>\n",
       "      <th>Animation</th>\n",
       "      <th>Fantasy</th>\n",
       "      <th>Crime</th>\n",
       "      <th>War</th>\n",
       "      <th>Adventure</th>\n",
       "      <th>Documentary</th>\n",
       "      <th>Foreign</th>\n",
       "      <th>Drama</th>\n",
       "      <th>Mystery</th>\n",
       "      <th>Romance</th>\n",
       "      <th>Comedy</th>\n",
       "      <th>History</th>\n",
       "      <th>Action</th>\n",
       "    </tr>\n",
       "  </thead>\n",
       "  <tbody>\n",
       "    <tr>\n",
       "      <th>0</th>\n",
       "      <td>237000000</td>\n",
       "      <td>150.437577</td>\n",
       "      <td>2787965087</td>\n",
       "      <td>162.0</td>\n",
       "      <td>7.2</td>\n",
       "      <td>11800</td>\n",
       "      <td>2009</td>\n",
       "      <td>0.0</td>\n",
       "      <td>0.0</td>\n",
       "      <td>0.0</td>\n",
       "      <td>0.0</td>\n",
       "      <td>0.0</td>\n",
       "      <td>1.0</td>\n",
       "      <td>0.0</td>\n",
       "      <td>1.0</td>\n",
       "      <td>0.0</td>\n",
       "      <td>0.0</td>\n",
       "      <td>1.0</td>\n",
       "      <td>0.0</td>\n",
       "      <td>0.0</td>\n",
       "      <td>0.0</td>\n",
       "      <td>0.0</td>\n",
       "      <td>0.0</td>\n",
       "      <td>0.0</td>\n",
       "      <td>0.0</td>\n",
       "      <td>1.0</td>\n",
       "    </tr>\n",
       "    <tr>\n",
       "      <th>1</th>\n",
       "      <td>300000000</td>\n",
       "      <td>139.082615</td>\n",
       "      <td>961000000</td>\n",
       "      <td>169.0</td>\n",
       "      <td>6.9</td>\n",
       "      <td>4500</td>\n",
       "      <td>2007</td>\n",
       "      <td>0.0</td>\n",
       "      <td>0.0</td>\n",
       "      <td>0.0</td>\n",
       "      <td>0.0</td>\n",
       "      <td>0.0</td>\n",
       "      <td>0.0</td>\n",
       "      <td>0.0</td>\n",
       "      <td>1.0</td>\n",
       "      <td>0.0</td>\n",
       "      <td>0.0</td>\n",
       "      <td>1.0</td>\n",
       "      <td>0.0</td>\n",
       "      <td>0.0</td>\n",
       "      <td>0.0</td>\n",
       "      <td>0.0</td>\n",
       "      <td>0.0</td>\n",
       "      <td>0.0</td>\n",
       "      <td>0.0</td>\n",
       "      <td>1.0</td>\n",
       "    </tr>\n",
       "    <tr>\n",
       "      <th>2</th>\n",
       "      <td>245000000</td>\n",
       "      <td>107.376788</td>\n",
       "      <td>880674609</td>\n",
       "      <td>148.0</td>\n",
       "      <td>6.3</td>\n",
       "      <td>4466</td>\n",
       "      <td>2015</td>\n",
       "      <td>0.0</td>\n",
       "      <td>0.0</td>\n",
       "      <td>0.0</td>\n",
       "      <td>0.0</td>\n",
       "      <td>0.0</td>\n",
       "      <td>0.0</td>\n",
       "      <td>0.0</td>\n",
       "      <td>0.0</td>\n",
       "      <td>1.0</td>\n",
       "      <td>0.0</td>\n",
       "      <td>1.0</td>\n",
       "      <td>0.0</td>\n",
       "      <td>0.0</td>\n",
       "      <td>0.0</td>\n",
       "      <td>0.0</td>\n",
       "      <td>0.0</td>\n",
       "      <td>0.0</td>\n",
       "      <td>0.0</td>\n",
       "      <td>1.0</td>\n",
       "    </tr>\n",
       "    <tr>\n",
       "      <th>3</th>\n",
       "      <td>250000000</td>\n",
       "      <td>112.312950</td>\n",
       "      <td>1084939099</td>\n",
       "      <td>165.0</td>\n",
       "      <td>7.6</td>\n",
       "      <td>9106</td>\n",
       "      <td>2012</td>\n",
       "      <td>0.0</td>\n",
       "      <td>0.0</td>\n",
       "      <td>0.0</td>\n",
       "      <td>0.0</td>\n",
       "      <td>1.0</td>\n",
       "      <td>0.0</td>\n",
       "      <td>0.0</td>\n",
       "      <td>0.0</td>\n",
       "      <td>1.0</td>\n",
       "      <td>0.0</td>\n",
       "      <td>0.0</td>\n",
       "      <td>0.0</td>\n",
       "      <td>0.0</td>\n",
       "      <td>1.0</td>\n",
       "      <td>0.0</td>\n",
       "      <td>0.0</td>\n",
       "      <td>0.0</td>\n",
       "      <td>0.0</td>\n",
       "      <td>1.0</td>\n",
       "    </tr>\n",
       "    <tr>\n",
       "      <th>4</th>\n",
       "      <td>260000000</td>\n",
       "      <td>43.926995</td>\n",
       "      <td>284139100</td>\n",
       "      <td>132.0</td>\n",
       "      <td>6.1</td>\n",
       "      <td>2124</td>\n",
       "      <td>2012</td>\n",
       "      <td>0.0</td>\n",
       "      <td>0.0</td>\n",
       "      <td>0.0</td>\n",
       "      <td>0.0</td>\n",
       "      <td>0.0</td>\n",
       "      <td>1.0</td>\n",
       "      <td>0.0</td>\n",
       "      <td>0.0</td>\n",
       "      <td>0.0</td>\n",
       "      <td>0.0</td>\n",
       "      <td>1.0</td>\n",
       "      <td>0.0</td>\n",
       "      <td>0.0</td>\n",
       "      <td>0.0</td>\n",
       "      <td>0.0</td>\n",
       "      <td>0.0</td>\n",
       "      <td>0.0</td>\n",
       "      <td>0.0</td>\n",
       "      <td>1.0</td>\n",
       "    </tr>\n",
       "  </tbody>\n",
       "</table>\n",
       "</div>"
      ],
      "text/plain": [
       "      budget  popularity     revenue  runtime  ...  Romance  Comedy  History  Action\n",
       "0  237000000  150.437577  2787965087    162.0  ...      0.0     0.0      0.0     1.0\n",
       "1  300000000  139.082615   961000000    169.0  ...      0.0     0.0      0.0     1.0\n",
       "2  245000000  107.376788   880674609    148.0  ...      0.0     0.0      0.0     1.0\n",
       "3  250000000  112.312950  1084939099    165.0  ...      0.0     0.0      0.0     1.0\n",
       "4  260000000   43.926995   284139100    132.0  ...      0.0     0.0      0.0     1.0\n",
       "\n",
       "[5 rows x 26 columns]"
      ]
     },
     "execution_count": 89,
     "metadata": {
      "tags": []
     },
     "output_type": "execute_result"
    }
   ],
   "source": [
    "movies.head()"
   ]
  },
  {
   "cell_type": "code",
   "execution_count": 0,
   "metadata": {
    "colab": {
     "base_uri": "https://localhost:8080/",
     "height": 94
    },
    "colab_type": "code",
    "id": "nh35unnAL0Q-",
    "outputId": "ba05f157-d37f-4964-f32c-ae215467323f"
   },
   "outputs": [
    {
     "data": {
      "text/html": [
       "<div>\n",
       "<style scoped>\n",
       "    .dataframe tbody tr th:only-of-type {\n",
       "        vertical-align: middle;\n",
       "    }\n",
       "\n",
       "    .dataframe tbody tr th {\n",
       "        vertical-align: top;\n",
       "    }\n",
       "\n",
       "    .dataframe thead th {\n",
       "        text-align: right;\n",
       "    }\n",
       "</style>\n",
       "<table border=\"1\" class=\"dataframe\">\n",
       "  <thead>\n",
       "    <tr style=\"text-align: right;\">\n",
       "      <th></th>\n",
       "    </tr>\n",
       "  </thead>\n",
       "  <tbody>\n",
       "    <tr>\n",
       "      <th>0</th>\n",
       "    </tr>\n",
       "    <tr>\n",
       "      <th>1</th>\n",
       "    </tr>\n",
       "  </tbody>\n",
       "</table>\n",
       "</div>"
      ],
      "text/plain": [
       "Empty DataFrame\n",
       "Columns: []\n",
       "Index: [0, 1]"
      ]
     },
     "execution_count": 90,
     "metadata": {
      "tags": []
     },
     "output_type": "execute_result"
    }
   ],
   "source": [
    "movies.select_dtypes(exclude=['int64','float64']).head(2)"
   ]
  },
  {
   "cell_type": "markdown",
   "metadata": {
    "colab_type": "text",
    "id": "adW04z6UL3fJ"
   },
   "source": [
    "Já todas as nosssa features estão em formato numérico.  \n"
   ]
  },
  {
   "cell_type": "markdown",
   "metadata": {
    "colab_type": "text",
    "id": "PdR9qS0_Pc0-"
   },
   "source": [
    "## Modelo"
   ]
  },
  {
   "cell_type": "markdown",
   "metadata": {
    "colab_type": "text",
    "id": "vR9nq2C9PhHZ"
   },
   "source": [
    "Vamos então dividir o dataset em treino e teste:"
   ]
  },
  {
   "cell_type": "code",
   "execution_count": 0,
   "metadata": {
    "colab": {},
    "colab_type": "code",
    "id": "HFCGlYJYPfCe"
   },
   "outputs": [],
   "source": [
    "train_set, test_set = train_test_split(movies, test_size = 0.2, random_state = seed)"
   ]
  },
  {
   "cell_type": "code",
   "execution_count": 0,
   "metadata": {
    "colab": {},
    "colab_type": "code",
    "id": "H5mJv_A7Qdxr"
   },
   "outputs": [],
   "source": [
    "X_train = train_set.drop(['vote_average'], axis = 1)\n",
    "y_train = train_set['vote_average']\n",
    "\n",
    "X_test = test_set.drop(['vote_average'], axis = 1)\n",
    "y_test = test_set['vote_average']"
   ]
  },
  {
   "cell_type": "code",
   "execution_count": 0,
   "metadata": {
    "colab": {
     "base_uri": "https://localhost:8080/",
     "height": 459
    },
    "colab_type": "code",
    "id": "eKdnf9OFTytl",
    "outputId": "9ac0f283-8e76-4889-cd4a-41ee408da1a0"
   },
   "outputs": [
    {
     "data": {
      "text/plain": [
       "budget             0\n",
       "popularity         0\n",
       "revenue            0\n",
       "runtime            0\n",
       "vote_count         0\n",
       "year               0\n",
       "Western            0\n",
       "Family             0\n",
       "Music              0\n",
       "Horror             0\n",
       "Thriller           0\n",
       "Science Fiction    0\n",
       "Animation          0\n",
       "Fantasy            0\n",
       "Crime              0\n",
       "War                0\n",
       "Adventure          0\n",
       "Documentary        0\n",
       "Foreign            0\n",
       "Drama              0\n",
       "Mystery            0\n",
       "Romance            0\n",
       "Comedy             0\n",
       "History            0\n",
       "Action             0\n",
       "dtype: int64"
      ]
     },
     "execution_count": 93,
     "metadata": {
      "tags": []
     },
     "output_type": "execute_result"
    }
   ],
   "source": [
    "X_test.isnull().sum()"
   ]
  },
  {
   "cell_type": "markdown",
   "metadata": {
    "colab_type": "text",
    "id": "DKDmdm9nP-BY"
   },
   "source": [
    "Normalização:"
   ]
  },
  {
   "cell_type": "code",
   "execution_count": 0,
   "metadata": {
    "colab": {},
    "colab_type": "code",
    "id": "EQ2GxWF7RWt8"
   },
   "outputs": [],
   "source": [
    "scaler = MinMaxScaler()\n",
    "\n",
    "features_names = X_train.columns\n",
    "\n",
    "X_train = scaler.fit_transform(X_train)\n",
    "X_train = pd.DataFrame(X_train, columns = features_names)\n",
    "\n",
    "X_test = scaler.transform(X_test)\n",
    "X_test = pd.DataFrame(X_test, columns = features_names)"
   ]
  },
  {
   "cell_type": "markdown",
   "metadata": {
    "colab_type": "text",
    "id": "OMUqnF-xRrPH"
   },
   "source": [
    "--Regression linear"
   ]
  },
  {
   "cell_type": "code",
   "execution_count": 0,
   "metadata": {
    "colab": {},
    "colab_type": "code",
    "id": "WxKBSkAiRt9Y"
   },
   "outputs": [],
   "source": [
    "lr = LinearRegression().fit(X_train, y_train)"
   ]
  },
  {
   "cell_type": "code",
   "execution_count": 0,
   "metadata": {
    "colab": {},
    "colab_type": "code",
    "id": "oacBgTJ1Y_Iv"
   },
   "outputs": [],
   "source": [
    "y_preds = lr.predict(X_test)"
   ]
  },
  {
   "cell_type": "code",
   "execution_count": 0,
   "metadata": {
    "colab": {
     "base_uri": "https://localhost:8080/",
     "height": 34
    },
    "colab_type": "code",
    "id": "AIwbHCTpZDWl",
    "outputId": "52d00b64-df04-4b44-a029-141d9a5688b9"
   },
   "outputs": [
    {
     "data": {
      "text/plain": [
       "0.4046517693714917"
      ]
     },
     "execution_count": 97,
     "metadata": {
      "tags": []
     },
     "output_type": "execute_result"
    }
   ],
   "source": [
    "lr.score(X_test, y_test)"
   ]
  },
  {
   "cell_type": "code",
   "execution_count": 0,
   "metadata": {
    "colab": {
     "base_uri": "https://localhost:8080/",
     "height": 34
    },
    "colab_type": "code",
    "id": "zR5bVtvcZGyZ",
    "outputId": "e11229b6-f16e-4e42-c00c-0b389f2b42ba"
   },
   "outputs": [
    {
     "data": {
      "text/plain": [
       "0.4046517693714917"
      ]
     },
     "execution_count": 98,
     "metadata": {
      "tags": []
     },
     "output_type": "execute_result"
    }
   ],
   "source": [
    "r2_score(y_test, y_preds)"
   ]
  },
  {
   "cell_type": "markdown",
   "metadata": {
    "colab_type": "text",
    "id": "cd3taja_ZiKP"
   },
   "source": [
    "-- Non Linear Multiple Regression"
   ]
  },
  {
   "cell_type": "code",
   "execution_count": 0,
   "metadata": {
    "colab": {},
    "colab_type": "code",
    "id": "QBVpe2zOZly3"
   },
   "outputs": [],
   "source": [
    "nonlinear_model = Pipeline( steps = [('poly', PolynomialFeatures(degree = 3)),\n",
    "                                 ('linear', LinearRegression())])"
   ]
  },
  {
   "cell_type": "code",
   "execution_count": 0,
   "metadata": {
    "colab": {},
    "colab_type": "code",
    "id": "Hj5wdZfSaq4n"
   },
   "outputs": [],
   "source": [
    "multiple_poly_model = nonlinear_model.fit(X_train, y_train)"
   ]
  },
  {
   "cell_type": "code",
   "execution_count": 0,
   "metadata": {
    "colab": {},
    "colab_type": "code",
    "id": "rEHn9eRFavST"
   },
   "outputs": [],
   "source": [
    "preds_multiple_poly = nonlinear_model.predict(X_test)"
   ]
  },
  {
   "cell_type": "code",
   "execution_count": 0,
   "metadata": {
    "colab": {},
    "colab_type": "code",
    "id": "kJS9kUubbH1M"
   },
   "outputs": [],
   "source": [
    "r2_multiple_poly = r2_score(y_test, preds_multiple_poly)"
   ]
  },
  {
   "cell_type": "code",
   "execution_count": 0,
   "metadata": {
    "colab": {
     "base_uri": "https://localhost:8080/",
     "height": 34
    },
    "colab_type": "code",
    "id": "VmF0hBERbKf-",
    "outputId": "1c2735e7-17a3-4635-fbc8-8e26a53674a5"
   },
   "outputs": [
    {
     "data": {
      "text/plain": [
       "-1.1285608080348057e+20"
      ]
     },
     "execution_count": 103,
     "metadata": {
      "tags": []
     },
     "output_type": "execute_result"
    }
   ],
   "source": [
    "r2_multiple_poly"
   ]
  }
 ],
 "metadata": {
  "colab": {
   "collapsed_sections": [],
   "name": "group_project_Tiago.ipynb",
   "provenance": [],
   "toc_visible": true
  },
  "kernelspec": {
   "display_name": "Python 3",
   "language": "python",
   "name": "python3"
  },
  "language_info": {
   "codemirror_mode": {
    "name": "ipython",
    "version": 3
   },
   "file_extension": ".py",
   "mimetype": "text/x-python",
   "name": "python",
   "nbconvert_exporter": "python",
   "pygments_lexer": "ipython3",
   "version": "3.7.3"
  },
  "varInspector": {
   "cols": {
    "lenName": 16,
    "lenType": 16,
    "lenVar": 40
   },
   "kernels_config": {
    "python": {
     "delete_cmd_postfix": "",
     "delete_cmd_prefix": "del ",
     "library": "var_list.py",
     "varRefreshCmd": "print(var_dic_list())"
    },
    "r": {
     "delete_cmd_postfix": ") ",
     "delete_cmd_prefix": "rm(",
     "library": "var_list.r",
     "varRefreshCmd": "cat(var_dic_list()) "
    }
   },
   "types_to_exclude": [
    "module",
    "function",
    "builtin_function_or_method",
    "instance",
    "_Feature"
   ],
   "window_display": false
  }
 },
 "nbformat": 4,
 "nbformat_minor": 1
}
