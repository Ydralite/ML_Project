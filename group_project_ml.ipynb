{
  "nbformat": 4,
  "nbformat_minor": 0,
  "metadata": {
    "colab": {
      "name": "group_project_Tiago.ipynb",
      "provenance": [],
      "collapsed_sections": [],
      "toc_visible": true
    },
    "kernelspec": {
      "display_name": "Python 3",
      "language": "python",
      "name": "python3"
    }
  },
  "cells": [
    {
      "cell_type": "markdown",
      "metadata": {
        "id": "TgUd25L8djhy",
        "colab_type": "text"
      },
      "source": [
        "# Group Project\n",
        "\n"
      ]
    },
    {
      "cell_type": "markdown",
      "metadata": {
        "id": "_a12qwyOdjh0",
        "colab_type": "text"
      },
      "source": [
        "Formar grupos de 2, máximo 3 pessoas.\n",
        "\n",
        "**Dataset:** https://www.kaggle.com/tmdb/tmdb-movie-metadata\n",
        "\n",
        "\n",
        "**Objectivo:** Usar técnicas de regressão para prever a rating de um filme com base em diferentes características. \n",
        "\n",
        "\n",
        "**Notas importantes**\n",
        "    \n",
        "    1. Usar a coluna \"vote_average\" como target.\n",
        "    2. Usar técnicas de regressão para prever a rating (vote_average) que um filme terá com base em diferentes caracteristicas.\n",
        "    \n",
        "**Recomendações**\n",
        "    \n",
        "    1. Não é necessário, nem recomendável, usar todas as features disponíveis (especialmente as que não são númericas).\n",
        "    2. O exercício pode demorar muito ou pouco tempo, dependendo da exploração que for feita. Não é esperado que sejam explorados todos os detalhes, nem todas as abordagens possíveis.\n",
        "    3. Se houver falta de tempo para explorar tudo o que gostariam, ou querem fazer alguma técnica que iria levar muito tempo, expliquem por escrito qual era a ideia e o que esperariam obter.\n",
        "    4. Tentem explicar o máximo possível o racícionio por detrás de todos os passos que afectuarem.\n",
        "    5. Acima de tudo, divirtam-se!\n",
        "    \n",
        "**Perguntas**\n",
        "\n",
        "    1. Quantos filmes existem no dataset? E quantas features?\n",
        "    2. Existem variáveis que não são independentes entre si?\n",
        "    3. Qual a técnica de regressão que levou a melhores resultados?\n",
        "    4. Quais os factores que mais contribuem para o sucesso de um filme?\n",
        "    5. Recomendariam o vosso modelo a uma produtora de filmes?\n",
        "    "
      ]
    },
    {
      "cell_type": "code",
      "metadata": {
        "id": "moKnhyYfdjh2",
        "colab_type": "code",
        "outputId": "57a3d97c-d0c3-46d0-a64f-01a6c4941881",
        "colab": {
          "base_uri": "https://localhost:8080/",
          "height": 71
        }
      },
      "source": [
        "import pandas as pd\n",
        "import numpy as np\n",
        "import matplotlib.pyplot as plt\n",
        "import seaborn as sns\n",
        "from sklearn.model_selection import train_test_split\n",
        "from sklearn.preprocessing import MinMaxScaler\n",
        "from sklearn.linear_model import LinearRegression\n",
        "from sklearn.metrics import r2_score\n",
        "from sklearn.preprocessing import PolynomialFeatures\n",
        "from sklearn.pipeline import Pipeline\n",
        "\n",
        "\n",
        "seed = 42"
      ],
      "execution_count": 0,
      "outputs": [
        {
          "output_type": "stream",
          "text": [
            "/usr/local/lib/python3.6/dist-packages/statsmodels/tools/_testing.py:19: FutureWarning: pandas.util.testing is deprecated. Use the functions in the public API at pandas.testing instead.\n",
            "  import pandas.util.testing as tm\n"
          ],
          "name": "stderr"
        }
      ]
    },
    {
      "cell_type": "code",
      "metadata": {
        "id": "31IJrPzbdjh8",
        "colab_type": "code",
        "colab": {}
      },
      "source": [
        "df = pd.read_csv('tmdb_5000_movies.csv')"
      ],
      "execution_count": 0,
      "outputs": []
    },
    {
      "cell_type": "code",
      "metadata": {
        "id": "AYscrBdhbcSf",
        "colab_type": "code",
        "colab": {}
      },
      "source": [
        "# criar um dataset copia\n",
        "movies = df.copy()"
      ],
      "execution_count": 0,
      "outputs": []
    },
    {
      "cell_type": "code",
      "metadata": {
        "id": "peCqOA4mdjh_",
        "colab_type": "code",
        "outputId": "e77f7713-162f-4571-c6f0-78f431162327",
        "colab": {
          "base_uri": "https://localhost:8080/",
          "height": 318
        }
      },
      "source": [
        "movies.head(2)"
      ],
      "execution_count": 0,
      "outputs": [
        {
          "output_type": "execute_result",
          "data": {
            "text/html": [
              "<div>\n",
              "<style scoped>\n",
              "    .dataframe tbody tr th:only-of-type {\n",
              "        vertical-align: middle;\n",
              "    }\n",
              "\n",
              "    .dataframe tbody tr th {\n",
              "        vertical-align: top;\n",
              "    }\n",
              "\n",
              "    .dataframe thead th {\n",
              "        text-align: right;\n",
              "    }\n",
              "</style>\n",
              "<table border=\"1\" class=\"dataframe\">\n",
              "  <thead>\n",
              "    <tr style=\"text-align: right;\">\n",
              "      <th></th>\n",
              "      <th>budget</th>\n",
              "      <th>genres</th>\n",
              "      <th>homepage</th>\n",
              "      <th>id</th>\n",
              "      <th>keywords</th>\n",
              "      <th>original_language</th>\n",
              "      <th>original_title</th>\n",
              "      <th>overview</th>\n",
              "      <th>popularity</th>\n",
              "      <th>production_companies</th>\n",
              "      <th>production_countries</th>\n",
              "      <th>release_date</th>\n",
              "      <th>revenue</th>\n",
              "      <th>runtime</th>\n",
              "      <th>spoken_languages</th>\n",
              "      <th>status</th>\n",
              "      <th>tagline</th>\n",
              "      <th>title</th>\n",
              "      <th>vote_average</th>\n",
              "      <th>vote_count</th>\n",
              "    </tr>\n",
              "  </thead>\n",
              "  <tbody>\n",
              "    <tr>\n",
              "      <th>0</th>\n",
              "      <td>237000000</td>\n",
              "      <td>[{\"id\": 28, \"name\": \"Action\"}, {\"id\": 12, \"nam...</td>\n",
              "      <td>http://www.avatarmovie.com/</td>\n",
              "      <td>19995</td>\n",
              "      <td>[{\"id\": 1463, \"name\": \"culture clash\"}, {\"id\":...</td>\n",
              "      <td>en</td>\n",
              "      <td>Avatar</td>\n",
              "      <td>In the 22nd century, a paraplegic Marine is di...</td>\n",
              "      <td>150.437577</td>\n",
              "      <td>[{\"name\": \"Ingenious Film Partners\", \"id\": 289...</td>\n",
              "      <td>[{\"iso_3166_1\": \"US\", \"name\": \"United States o...</td>\n",
              "      <td>2009-12-10</td>\n",
              "      <td>2787965087</td>\n",
              "      <td>162.0</td>\n",
              "      <td>[{\"iso_639_1\": \"en\", \"name\": \"English\"}, {\"iso...</td>\n",
              "      <td>Released</td>\n",
              "      <td>Enter the World of Pandora.</td>\n",
              "      <td>Avatar</td>\n",
              "      <td>7.2</td>\n",
              "      <td>11800</td>\n",
              "    </tr>\n",
              "    <tr>\n",
              "      <th>1</th>\n",
              "      <td>300000000</td>\n",
              "      <td>[{\"id\": 12, \"name\": \"Adventure\"}, {\"id\": 14, \"...</td>\n",
              "      <td>http://disney.go.com/disneypictures/pirates/</td>\n",
              "      <td>285</td>\n",
              "      <td>[{\"id\": 270, \"name\": \"ocean\"}, {\"id\": 726, \"na...</td>\n",
              "      <td>en</td>\n",
              "      <td>Pirates of the Caribbean: At World's End</td>\n",
              "      <td>Captain Barbossa, long believed to be dead, ha...</td>\n",
              "      <td>139.082615</td>\n",
              "      <td>[{\"name\": \"Walt Disney Pictures\", \"id\": 2}, {\"...</td>\n",
              "      <td>[{\"iso_3166_1\": \"US\", \"name\": \"United States o...</td>\n",
              "      <td>2007-05-19</td>\n",
              "      <td>961000000</td>\n",
              "      <td>169.0</td>\n",
              "      <td>[{\"iso_639_1\": \"en\", \"name\": \"English\"}]</td>\n",
              "      <td>Released</td>\n",
              "      <td>At the end of the world, the adventure begins.</td>\n",
              "      <td>Pirates of the Caribbean: At World's End</td>\n",
              "      <td>6.9</td>\n",
              "      <td>4500</td>\n",
              "    </tr>\n",
              "  </tbody>\n",
              "</table>\n",
              "</div>"
            ],
            "text/plain": [
              "      budget  ... vote_count\n",
              "0  237000000  ...      11800\n",
              "1  300000000  ...       4500\n",
              "\n",
              "[2 rows x 20 columns]"
            ]
          },
          "metadata": {
            "tags": []
          },
          "execution_count": 6
        }
      ]
    },
    {
      "cell_type": "code",
      "metadata": {
        "id": "YUkHGE2CQ5gz",
        "colab_type": "code",
        "outputId": "a445d2b0-8456-405d-b0aa-bfc5f2a0ca4f",
        "colab": {
          "base_uri": "https://localhost:8080/",
          "height": 34
        }
      },
      "source": [
        "movies.shape"
      ],
      "execution_count": 0,
      "outputs": [
        {
          "output_type": "execute_result",
          "data": {
            "text/plain": [
              "(4803, 20)"
            ]
          },
          "metadata": {
            "tags": []
          },
          "execution_count": 7
        }
      ]
    },
    {
      "cell_type": "code",
      "metadata": {
        "id": "rHw5C3z8Y52h",
        "colab_type": "code",
        "outputId": "67aee60d-82bf-4904-f1ed-4ed2f5f08dc1",
        "colab": {
          "base_uri": "https://localhost:8080/",
          "height": 34
        }
      },
      "source": [
        "movies.id.nunique()"
      ],
      "execution_count": 0,
      "outputs": [
        {
          "output_type": "execute_result",
          "data": {
            "text/plain": [
              "4803"
            ]
          },
          "metadata": {
            "tags": []
          },
          "execution_count": 8
        }
      ]
    },
    {
      "cell_type": "markdown",
      "metadata": {
        "id": "5xESYM9VZRJ6",
        "colab_type": "text"
      },
      "source": [
        "#### 1. Quantos filmes existem no dataset? E quantas features?\n",
        "\n",
        "```\n",
        "  - Existem 4803 filmes no dataset. \n",
        "  - Existem 19 features no dataset\n",
        "```\n",
        "\n"
      ]
    },
    {
      "cell_type": "markdown",
      "metadata": {
        "id": "M4W2smkfmHgj",
        "colab_type": "text"
      },
      "source": [
        "#Data cleaning "
      ]
    },
    {
      "cell_type": "markdown",
      "metadata": {
        "id": "4kPL6eyAbB0c",
        "colab_type": "text"
      },
      "source": [
        "Vamos começar por eliminar features que que não fornecem  informação de interesse.  São elas: \n",
        "\n",
        "\n",
        "1.   id\n",
        "2.   homepage \n",
        "1.   original_title \n",
        "2.   overview\t\n",
        "1.   tagline\n",
        "\n",
        "Estas features são unicas para cada filme.\n",
        "\n",
        "\n",
        "\n",
        "\n",
        "\n",
        "\n"
      ]
    },
    {
      "cell_type": "code",
      "metadata": {
        "id": "ENp4yoRMfTyp",
        "colab_type": "code",
        "colab": {}
      },
      "source": [
        "columns_todrop = [\"id\",\"homepage\",\"original_title\",\"overview\",\"tagline\"]"
      ],
      "execution_count": 0,
      "outputs": []
    },
    {
      "cell_type": "code",
      "metadata": {
        "id": "cObHKJ1nfm_x",
        "colab_type": "code",
        "colab": {}
      },
      "source": [
        "movies = movies.drop(columns=columns_todrop, axis=1)"
      ],
      "execution_count": 0,
      "outputs": []
    },
    {
      "cell_type": "code",
      "metadata": {
        "id": "aXkyDTH8gE1g",
        "colab_type": "code",
        "outputId": "d6cca849-77d2-4b6a-e166-e4355c711ad9",
        "colab": {
          "base_uri": "https://localhost:8080/",
          "height": 34
        }
      },
      "source": [
        "movies.shape"
      ],
      "execution_count": 0,
      "outputs": [
        {
          "output_type": "execute_result",
          "data": {
            "text/plain": [
              "(4803, 15)"
            ]
          },
          "metadata": {
            "tags": []
          },
          "execution_count": 11
        }
      ]
    },
    {
      "cell_type": "markdown",
      "metadata": {
        "id": "N00VDn3fllqk",
        "colab_type": "text"
      },
      "source": [
        "O dataset possui alguma fetures que estão em formato json. Vamos ver simplificar estas colunas para ser mais fácil analisá-las.  "
      ]
    },
    {
      "cell_type": "code",
      "metadata": {
        "id": "XnqksVynogCY",
        "colab_type": "code",
        "outputId": "26532637-ff2f-439e-9541-8d0c3e552a74",
        "colab": {
          "base_uri": "https://localhost:8080/",
          "height": 122
        }
      },
      "source": [
        "# ver a 1ª linha do genres\n",
        "print(movies.genres.iloc[0])\n",
        "print(movies.keywords.iloc[0])\n",
        "print(movies.production_companies.iloc[0])\n",
        "print(movies.production_countries.iloc[0])\n",
        "print(movies.spoken_languages.iloc[0])"
      ],
      "execution_count": 0,
      "outputs": [
        {
          "output_type": "stream",
          "text": [
            "[{\"id\": 28, \"name\": \"Action\"}, {\"id\": 12, \"name\": \"Adventure\"}, {\"id\": 14, \"name\": \"Fantasy\"}, {\"id\": 878, \"name\": \"Science Fiction\"}]\n",
            "[{\"id\": 1463, \"name\": \"culture clash\"}, {\"id\": 2964, \"name\": \"future\"}, {\"id\": 3386, \"name\": \"space war\"}, {\"id\": 3388, \"name\": \"space colony\"}, {\"id\": 3679, \"name\": \"society\"}, {\"id\": 3801, \"name\": \"space travel\"}, {\"id\": 9685, \"name\": \"futuristic\"}, {\"id\": 9840, \"name\": \"romance\"}, {\"id\": 9882, \"name\": \"space\"}, {\"id\": 9951, \"name\": \"alien\"}, {\"id\": 10148, \"name\": \"tribe\"}, {\"id\": 10158, \"name\": \"alien planet\"}, {\"id\": 10987, \"name\": \"cgi\"}, {\"id\": 11399, \"name\": \"marine\"}, {\"id\": 13065, \"name\": \"soldier\"}, {\"id\": 14643, \"name\": \"battle\"}, {\"id\": 14720, \"name\": \"love affair\"}, {\"id\": 165431, \"name\": \"anti war\"}, {\"id\": 193554, \"name\": \"power relations\"}, {\"id\": 206690, \"name\": \"mind and soul\"}, {\"id\": 209714, \"name\": \"3d\"}]\n",
            "[{\"name\": \"Ingenious Film Partners\", \"id\": 289}, {\"name\": \"Twentieth Century Fox Film Corporation\", \"id\": 306}, {\"name\": \"Dune Entertainment\", \"id\": 444}, {\"name\": \"Lightstorm Entertainment\", \"id\": 574}]\n",
            "[{\"iso_3166_1\": \"US\", \"name\": \"United States of America\"}, {\"iso_3166_1\": \"GB\", \"name\": \"United Kingdom\"}]\n",
            "[{\"iso_639_1\": \"en\", \"name\": \"English\"}, {\"iso_639_1\": \"es\", \"name\": \"Espa\\u00f1ol\"}]\n"
          ],
          "name": "stdout"
        }
      ]
    },
    {
      "cell_type": "markdown",
      "metadata": {
        "id": "9KqZIfEqrGuX",
        "colab_type": "text"
      },
      "source": [
        "Todas as features estão respresentadas em forma de dicionario ( key, value) em que o value é em todas o \"name\". Vamos criar uma função que nos extrai todos os name e nos coloca em forma de lista. "
      ]
    },
    {
      "cell_type": "code",
      "metadata": {
        "id": "bLMg5GMCrsIe",
        "colab_type": "code",
        "colab": {}
      },
      "source": [
        "from pandas.io.json import json_normalize\n",
        "import json\n",
        "def json_decode(data,key):\n",
        "    \n",
        "    \"\"\"\n",
        "Description: This function can be used to helpful to perform decoding in Python of JSON string.\n",
        "\n",
        "Arguments:\n",
        "    data: the data that we want decoding. \n",
        "    key: the key that we want to return its value.\n",
        "\n",
        "Returns:\n",
        "    list of values\n",
        "\"\"\"\n",
        "    result = []\n",
        "    data = json.loads(data) #convert to jsonjsonn from string\n",
        "    for item in data: #convert to list from json\n",
        "        result.append(item[key])\n",
        "    return result"
      ],
      "execution_count": 0,
      "outputs": []
    },
    {
      "cell_type": "code",
      "metadata": {
        "id": "g-v_EtUEsD2S",
        "colab_type": "code",
        "colab": {}
      },
      "source": [
        "movies.genres = movies.genres.apply(json_decode,key='name')"
      ],
      "execution_count": 0,
      "outputs": []
    },
    {
      "cell_type": "code",
      "metadata": {
        "id": "CtyrX147sJ1f",
        "colab_type": "code",
        "colab": {}
      },
      "source": [
        "movies.keywords = movies.keywords.apply(json_decode,key='name')"
      ],
      "execution_count": 0,
      "outputs": []
    },
    {
      "cell_type": "code",
      "metadata": {
        "id": "Ezq_BISpsKef",
        "colab_type": "code",
        "colab": {}
      },
      "source": [
        "movies.production_companies = movies.production_companies.apply(json_decode,key='name')"
      ],
      "execution_count": 0,
      "outputs": []
    },
    {
      "cell_type": "code",
      "metadata": {
        "id": "YKh5GZQnsOSL",
        "colab_type": "code",
        "colab": {}
      },
      "source": [
        "movies.production_countries = movies.production_countries.apply(json_decode,key='name')"
      ],
      "execution_count": 0,
      "outputs": []
    },
    {
      "cell_type": "code",
      "metadata": {
        "id": "y6dZLovJsQBr",
        "colab_type": "code",
        "colab": {}
      },
      "source": [
        "movies.spoken_languages = movies.spoken_languages.apply(json_decode,key='name')"
      ],
      "execution_count": 0,
      "outputs": []
    },
    {
      "cell_type": "code",
      "metadata": {
        "id": "I4EYb5aEsXft",
        "colab_type": "code",
        "outputId": "5fa77cd3-1517-43fc-e761-ca81f84861da",
        "colab": {
          "base_uri": "https://localhost:8080/",
          "height": 700
        }
      },
      "source": [
        "movies.head()"
      ],
      "execution_count": 0,
      "outputs": [
        {
          "output_type": "execute_result",
          "data": {
            "text/html": [
              "<div>\n",
              "<style scoped>\n",
              "    .dataframe tbody tr th:only-of-type {\n",
              "        vertical-align: middle;\n",
              "    }\n",
              "\n",
              "    .dataframe tbody tr th {\n",
              "        vertical-align: top;\n",
              "    }\n",
              "\n",
              "    .dataframe thead th {\n",
              "        text-align: right;\n",
              "    }\n",
              "</style>\n",
              "<table border=\"1\" class=\"dataframe\">\n",
              "  <thead>\n",
              "    <tr style=\"text-align: right;\">\n",
              "      <th></th>\n",
              "      <th>budget</th>\n",
              "      <th>genres</th>\n",
              "      <th>keywords</th>\n",
              "      <th>original_language</th>\n",
              "      <th>popularity</th>\n",
              "      <th>production_companies</th>\n",
              "      <th>production_countries</th>\n",
              "      <th>release_date</th>\n",
              "      <th>revenue</th>\n",
              "      <th>runtime</th>\n",
              "      <th>spoken_languages</th>\n",
              "      <th>status</th>\n",
              "      <th>title</th>\n",
              "      <th>vote_average</th>\n",
              "      <th>vote_count</th>\n",
              "    </tr>\n",
              "  </thead>\n",
              "  <tbody>\n",
              "    <tr>\n",
              "      <th>0</th>\n",
              "      <td>237000000</td>\n",
              "      <td>[Action, Adventure, Fantasy, Science Fiction]</td>\n",
              "      <td>[culture clash, future, space war, space colon...</td>\n",
              "      <td>en</td>\n",
              "      <td>150.437577</td>\n",
              "      <td>[Ingenious Film Partners, Twentieth Century Fo...</td>\n",
              "      <td>[United States of America, United Kingdom]</td>\n",
              "      <td>2009-12-10</td>\n",
              "      <td>2787965087</td>\n",
              "      <td>162.0</td>\n",
              "      <td>[English, Español]</td>\n",
              "      <td>Released</td>\n",
              "      <td>Avatar</td>\n",
              "      <td>7.2</td>\n",
              "      <td>11800</td>\n",
              "    </tr>\n",
              "    <tr>\n",
              "      <th>1</th>\n",
              "      <td>300000000</td>\n",
              "      <td>[Adventure, Fantasy, Action]</td>\n",
              "      <td>[ocean, drug abuse, exotic island, east india ...</td>\n",
              "      <td>en</td>\n",
              "      <td>139.082615</td>\n",
              "      <td>[Walt Disney Pictures, Jerry Bruckheimer Films...</td>\n",
              "      <td>[United States of America]</td>\n",
              "      <td>2007-05-19</td>\n",
              "      <td>961000000</td>\n",
              "      <td>169.0</td>\n",
              "      <td>[English]</td>\n",
              "      <td>Released</td>\n",
              "      <td>Pirates of the Caribbean: At World's End</td>\n",
              "      <td>6.9</td>\n",
              "      <td>4500</td>\n",
              "    </tr>\n",
              "    <tr>\n",
              "      <th>2</th>\n",
              "      <td>245000000</td>\n",
              "      <td>[Action, Adventure, Crime]</td>\n",
              "      <td>[spy, based on novel, secret agent, sequel, mi...</td>\n",
              "      <td>en</td>\n",
              "      <td>107.376788</td>\n",
              "      <td>[Columbia Pictures, Danjaq, B24]</td>\n",
              "      <td>[United Kingdom, United States of America]</td>\n",
              "      <td>2015-10-26</td>\n",
              "      <td>880674609</td>\n",
              "      <td>148.0</td>\n",
              "      <td>[Français, English, Español, Italiano, Deutsch]</td>\n",
              "      <td>Released</td>\n",
              "      <td>Spectre</td>\n",
              "      <td>6.3</td>\n",
              "      <td>4466</td>\n",
              "    </tr>\n",
              "    <tr>\n",
              "      <th>3</th>\n",
              "      <td>250000000</td>\n",
              "      <td>[Action, Crime, Drama, Thriller]</td>\n",
              "      <td>[dc comics, crime fighter, terrorist, secret i...</td>\n",
              "      <td>en</td>\n",
              "      <td>112.312950</td>\n",
              "      <td>[Legendary Pictures, Warner Bros., DC Entertai...</td>\n",
              "      <td>[United States of America]</td>\n",
              "      <td>2012-07-16</td>\n",
              "      <td>1084939099</td>\n",
              "      <td>165.0</td>\n",
              "      <td>[English]</td>\n",
              "      <td>Released</td>\n",
              "      <td>The Dark Knight Rises</td>\n",
              "      <td>7.6</td>\n",
              "      <td>9106</td>\n",
              "    </tr>\n",
              "    <tr>\n",
              "      <th>4</th>\n",
              "      <td>260000000</td>\n",
              "      <td>[Action, Adventure, Science Fiction]</td>\n",
              "      <td>[based on novel, mars, medallion, space travel...</td>\n",
              "      <td>en</td>\n",
              "      <td>43.926995</td>\n",
              "      <td>[Walt Disney Pictures]</td>\n",
              "      <td>[United States of America]</td>\n",
              "      <td>2012-03-07</td>\n",
              "      <td>284139100</td>\n",
              "      <td>132.0</td>\n",
              "      <td>[English]</td>\n",
              "      <td>Released</td>\n",
              "      <td>John Carter</td>\n",
              "      <td>6.1</td>\n",
              "      <td>2124</td>\n",
              "    </tr>\n",
              "  </tbody>\n",
              "</table>\n",
              "</div>"
            ],
            "text/plain": [
              "      budget  ... vote_count\n",
              "0  237000000  ...      11800\n",
              "1  300000000  ...       4500\n",
              "2  245000000  ...       4466\n",
              "3  250000000  ...       9106\n",
              "4  260000000  ...       2124\n",
              "\n",
              "[5 rows x 15 columns]"
            ]
          },
          "metadata": {
            "tags": []
          },
          "execution_count": 19
        }
      ]
    },
    {
      "cell_type": "code",
      "metadata": {
        "id": "C2zKnN3Rb5Ud",
        "colab_type": "code",
        "outputId": "823acca9-baf9-45e5-c933-c0f1e4b3e868",
        "colab": {
          "base_uri": "https://localhost:8080/",
          "height": 289
        }
      },
      "source": [
        "movies.dtypes"
      ],
      "execution_count": 0,
      "outputs": [
        {
          "output_type": "execute_result",
          "data": {
            "text/plain": [
              "budget                    int64\n",
              "genres                   object\n",
              "keywords                 object\n",
              "original_language        object\n",
              "popularity              float64\n",
              "production_companies     object\n",
              "production_countries     object\n",
              "release_date             object\n",
              "revenue                   int64\n",
              "runtime                 float64\n",
              "spoken_languages         object\n",
              "status                   object\n",
              "title                    object\n",
              "vote_average            float64\n",
              "vote_count                int64\n",
              "dtype: object"
            ]
          },
          "metadata": {
            "tags": []
          },
          "execution_count": 20
        }
      ]
    },
    {
      "cell_type": "code",
      "metadata": {
        "id": "TY9YYjBfOgeL",
        "colab_type": "code",
        "outputId": "0cc8a89f-85fa-4dd8-d13c-326b35c8e090",
        "colab": {
          "base_uri": "https://localhost:8080/",
          "height": 85
        }
      },
      "source": [
        "movies.dtypes.value_counts()"
      ],
      "execution_count": 0,
      "outputs": [
        {
          "output_type": "execute_result",
          "data": {
            "text/plain": [
              "object     9\n",
              "float64    3\n",
              "int64      3\n",
              "dtype: int64"
            ]
          },
          "metadata": {
            "tags": []
          },
          "execution_count": 21
        }
      ]
    },
    {
      "cell_type": "markdown",
      "metadata": {
        "id": "mkOlo_9POvgG",
        "colab_type": "text"
      },
      "source": [
        "o dataset possui variáveis numéricas(6) e categóricas(8)"
      ]
    },
    {
      "cell_type": "code",
      "metadata": {
        "id": "QEx94g1PO9_e",
        "colab_type": "code",
        "outputId": "e6e4cb07-6959-47f6-c35b-04c7fe08aa64",
        "colab": {
          "base_uri": "https://localhost:8080/",
          "height": 297
        }
      },
      "source": [
        "#estatistca para variáveis numéricas\n",
        "movies.describe()"
      ],
      "execution_count": 0,
      "outputs": [
        {
          "output_type": "execute_result",
          "data": {
            "text/html": [
              "<div>\n",
              "<style scoped>\n",
              "    .dataframe tbody tr th:only-of-type {\n",
              "        vertical-align: middle;\n",
              "    }\n",
              "\n",
              "    .dataframe tbody tr th {\n",
              "        vertical-align: top;\n",
              "    }\n",
              "\n",
              "    .dataframe thead th {\n",
              "        text-align: right;\n",
              "    }\n",
              "</style>\n",
              "<table border=\"1\" class=\"dataframe\">\n",
              "  <thead>\n",
              "    <tr style=\"text-align: right;\">\n",
              "      <th></th>\n",
              "      <th>budget</th>\n",
              "      <th>popularity</th>\n",
              "      <th>revenue</th>\n",
              "      <th>runtime</th>\n",
              "      <th>vote_average</th>\n",
              "      <th>vote_count</th>\n",
              "    </tr>\n",
              "  </thead>\n",
              "  <tbody>\n",
              "    <tr>\n",
              "      <th>count</th>\n",
              "      <td>4.803000e+03</td>\n",
              "      <td>4803.000000</td>\n",
              "      <td>4.803000e+03</td>\n",
              "      <td>4801.000000</td>\n",
              "      <td>4803.000000</td>\n",
              "      <td>4803.000000</td>\n",
              "    </tr>\n",
              "    <tr>\n",
              "      <th>mean</th>\n",
              "      <td>2.904504e+07</td>\n",
              "      <td>21.492301</td>\n",
              "      <td>8.226064e+07</td>\n",
              "      <td>106.875859</td>\n",
              "      <td>6.092172</td>\n",
              "      <td>690.217989</td>\n",
              "    </tr>\n",
              "    <tr>\n",
              "      <th>std</th>\n",
              "      <td>4.072239e+07</td>\n",
              "      <td>31.816650</td>\n",
              "      <td>1.628571e+08</td>\n",
              "      <td>22.611935</td>\n",
              "      <td>1.194612</td>\n",
              "      <td>1234.585891</td>\n",
              "    </tr>\n",
              "    <tr>\n",
              "      <th>min</th>\n",
              "      <td>0.000000e+00</td>\n",
              "      <td>0.000000</td>\n",
              "      <td>0.000000e+00</td>\n",
              "      <td>0.000000</td>\n",
              "      <td>0.000000</td>\n",
              "      <td>0.000000</td>\n",
              "    </tr>\n",
              "    <tr>\n",
              "      <th>25%</th>\n",
              "      <td>7.900000e+05</td>\n",
              "      <td>4.668070</td>\n",
              "      <td>0.000000e+00</td>\n",
              "      <td>94.000000</td>\n",
              "      <td>5.600000</td>\n",
              "      <td>54.000000</td>\n",
              "    </tr>\n",
              "    <tr>\n",
              "      <th>50%</th>\n",
              "      <td>1.500000e+07</td>\n",
              "      <td>12.921594</td>\n",
              "      <td>1.917000e+07</td>\n",
              "      <td>103.000000</td>\n",
              "      <td>6.200000</td>\n",
              "      <td>235.000000</td>\n",
              "    </tr>\n",
              "    <tr>\n",
              "      <th>75%</th>\n",
              "      <td>4.000000e+07</td>\n",
              "      <td>28.313505</td>\n",
              "      <td>9.291719e+07</td>\n",
              "      <td>118.000000</td>\n",
              "      <td>6.800000</td>\n",
              "      <td>737.000000</td>\n",
              "    </tr>\n",
              "    <tr>\n",
              "      <th>max</th>\n",
              "      <td>3.800000e+08</td>\n",
              "      <td>875.581305</td>\n",
              "      <td>2.787965e+09</td>\n",
              "      <td>338.000000</td>\n",
              "      <td>10.000000</td>\n",
              "      <td>13752.000000</td>\n",
              "    </tr>\n",
              "  </tbody>\n",
              "</table>\n",
              "</div>"
            ],
            "text/plain": [
              "             budget   popularity  ...  vote_average    vote_count\n",
              "count  4.803000e+03  4803.000000  ...   4803.000000   4803.000000\n",
              "mean   2.904504e+07    21.492301  ...      6.092172    690.217989\n",
              "std    4.072239e+07    31.816650  ...      1.194612   1234.585891\n",
              "min    0.000000e+00     0.000000  ...      0.000000      0.000000\n",
              "25%    7.900000e+05     4.668070  ...      5.600000     54.000000\n",
              "50%    1.500000e+07    12.921594  ...      6.200000    235.000000\n",
              "75%    4.000000e+07    28.313505  ...      6.800000    737.000000\n",
              "max    3.800000e+08   875.581305  ...     10.000000  13752.000000\n",
              "\n",
              "[8 rows x 6 columns]"
            ]
          },
          "metadata": {
            "tags": []
          },
          "execution_count": 22
        }
      ]
    },
    {
      "cell_type": "markdown",
      "metadata": {
        "id": "UimKbKPtP3ag",
        "colab_type": "text"
      },
      "source": [
        "Pelo describe verificamos algo estranho parea as variáveis budget,revenue e runtime que possuem como valores minimos 0. o percentil de 25 para a variável revenue é 0 ! Isto parece não fazer muito sentido. "
      ]
    },
    {
      "cell_type": "code",
      "metadata": {
        "id": "iu8NKRbMklow",
        "colab_type": "code",
        "colab": {}
      },
      "source": [
        "#filtrar budget == 0 \n",
        "\n",
        "movies_budget_zero = movies[movies['budget'] == 0]"
      ],
      "execution_count": 0,
      "outputs": []
    },
    {
      "cell_type": "code",
      "metadata": {
        "id": "GZW_oyZlRItB",
        "colab_type": "code",
        "outputId": "f394579d-0572-432a-8f96-cd100ebf68e5",
        "colab": {
          "base_uri": "https://localhost:8080/",
          "height": 34
        }
      },
      "source": [
        "movies_budget_zero.shape[0]/movies.shape[0]*100"
      ],
      "execution_count": 0,
      "outputs": [
        {
          "output_type": "execute_result",
          "data": {
            "text/plain": [
              "21.590672496356444"
            ]
          },
          "metadata": {
            "tags": []
          },
          "execution_count": 24
        }
      ]
    },
    {
      "cell_type": "markdown",
      "metadata": {
        "id": "urmKf0S_UywU",
        "colab_type": "text"
      },
      "source": [
        "21,6 % das observações têm valor 0 para a variável budget."
      ]
    },
    {
      "cell_type": "code",
      "metadata": {
        "id": "XVGhhNpsRnPA",
        "colab_type": "code",
        "outputId": "57e1032b-783a-40ea-9d32-aafbfebef20a",
        "colab": {
          "base_uri": "https://localhost:8080/",
          "height": 445
        }
      },
      "source": [
        "movies_budget_zero.head()"
      ],
      "execution_count": 0,
      "outputs": [
        {
          "output_type": "execute_result",
          "data": {
            "text/html": [
              "<div>\n",
              "<style scoped>\n",
              "    .dataframe tbody tr th:only-of-type {\n",
              "        vertical-align: middle;\n",
              "    }\n",
              "\n",
              "    .dataframe tbody tr th {\n",
              "        vertical-align: top;\n",
              "    }\n",
              "\n",
              "    .dataframe thead th {\n",
              "        text-align: right;\n",
              "    }\n",
              "</style>\n",
              "<table border=\"1\" class=\"dataframe\">\n",
              "  <thead>\n",
              "    <tr style=\"text-align: right;\">\n",
              "      <th></th>\n",
              "      <th>budget</th>\n",
              "      <th>genres</th>\n",
              "      <th>keywords</th>\n",
              "      <th>original_language</th>\n",
              "      <th>popularity</th>\n",
              "      <th>production_companies</th>\n",
              "      <th>production_countries</th>\n",
              "      <th>release_date</th>\n",
              "      <th>revenue</th>\n",
              "      <th>runtime</th>\n",
              "      <th>spoken_languages</th>\n",
              "      <th>status</th>\n",
              "      <th>title</th>\n",
              "      <th>vote_average</th>\n",
              "      <th>vote_count</th>\n",
              "    </tr>\n",
              "  </thead>\n",
              "  <tbody>\n",
              "    <tr>\n",
              "      <th>265</th>\n",
              "      <td>0</td>\n",
              "      <td>[Comedy, Fantasy, Family]</td>\n",
              "      <td>[cat, brother sister relationship, boredom, ch...</td>\n",
              "      <td>en</td>\n",
              "      <td>18.251129</td>\n",
              "      <td>[Imagine Entertainment, DreamWorks SKG, Univer...</td>\n",
              "      <td>[United States of America]</td>\n",
              "      <td>2003-11-21</td>\n",
              "      <td>0</td>\n",
              "      <td>82.0</td>\n",
              "      <td>[English]</td>\n",
              "      <td>Released</td>\n",
              "      <td>The Cat in the Hat</td>\n",
              "      <td>4.9</td>\n",
              "      <td>366</td>\n",
              "    </tr>\n",
              "    <tr>\n",
              "      <th>321</th>\n",
              "      <td>0</td>\n",
              "      <td>[Comedy]</td>\n",
              "      <td>[politics, politician, election campaign,  nor...</td>\n",
              "      <td>en</td>\n",
              "      <td>16.460356</td>\n",
              "      <td>[Everyman Pictures, Gary Sanchez Productions, ...</td>\n",
              "      <td>[United States of America]</td>\n",
              "      <td>2012-08-09</td>\n",
              "      <td>104907746</td>\n",
              "      <td>85.0</td>\n",
              "      <td>[English]</td>\n",
              "      <td>Released</td>\n",
              "      <td>The Campaign</td>\n",
              "      <td>5.6</td>\n",
              "      <td>578</td>\n",
              "    </tr>\n",
              "    <tr>\n",
              "      <th>359</th>\n",
              "      <td>0</td>\n",
              "      <td>[Adventure, Animation, Comedy, Family]</td>\n",
              "      <td>[chipmunk, cgi, talking animal, aftercreditsst...</td>\n",
              "      <td>en</td>\n",
              "      <td>27.867368</td>\n",
              "      <td>[Regency Enterprises, Fox 2000 Pictures, Sunsw...</td>\n",
              "      <td>[United States of America]</td>\n",
              "      <td>2015-12-17</td>\n",
              "      <td>233755553</td>\n",
              "      <td>92.0</td>\n",
              "      <td>[English]</td>\n",
              "      <td>Released</td>\n",
              "      <td>Alvin and the Chipmunks: The Road Chip</td>\n",
              "      <td>5.8</td>\n",
              "      <td>428</td>\n",
              "    </tr>\n",
              "    <tr>\n",
              "      <th>406</th>\n",
              "      <td>0</td>\n",
              "      <td>[Drama, Animation, Family, Comedy]</td>\n",
              "      <td>[holiday, santa claus, duringcreditsstinger, w...</td>\n",
              "      <td>en</td>\n",
              "      <td>19.836830</td>\n",
              "      <td>[Columbia Pictures, Aardman Animations, Sony P...</td>\n",
              "      <td>[United States of America]</td>\n",
              "      <td>2011-02-22</td>\n",
              "      <td>0</td>\n",
              "      <td>97.0</td>\n",
              "      <td>[English]</td>\n",
              "      <td>Released</td>\n",
              "      <td>Arthur Christmas</td>\n",
              "      <td>6.7</td>\n",
              "      <td>333</td>\n",
              "    </tr>\n",
              "    <tr>\n",
              "      <th>409</th>\n",
              "      <td>0</td>\n",
              "      <td>[Drama, Music]</td>\n",
              "      <td>[show business, film making, tap dancing, movi...</td>\n",
              "      <td>en</td>\n",
              "      <td>5.159407</td>\n",
              "      <td>[Twentieth Century Fox Film Corporation, Colum...</td>\n",
              "      <td>[United States of America]</td>\n",
              "      <td>1979-12-20</td>\n",
              "      <td>37823676</td>\n",
              "      <td>123.0</td>\n",
              "      <td>[English]</td>\n",
              "      <td>Released</td>\n",
              "      <td>All That Jazz</td>\n",
              "      <td>7.3</td>\n",
              "      <td>85</td>\n",
              "    </tr>\n",
              "  </tbody>\n",
              "</table>\n",
              "</div>"
            ],
            "text/plain": [
              "     budget                                  genres  ... vote_average vote_count\n",
              "265       0               [Comedy, Fantasy, Family]  ...          4.9        366\n",
              "321       0                                [Comedy]  ...          5.6        578\n",
              "359       0  [Adventure, Animation, Comedy, Family]  ...          5.8        428\n",
              "406       0      [Drama, Animation, Family, Comedy]  ...          6.7        333\n",
              "409       0                          [Drama, Music]  ...          7.3         85\n",
              "\n",
              "[5 rows x 15 columns]"
            ]
          },
          "metadata": {
            "tags": []
          },
          "execution_count": 25
        }
      ]
    },
    {
      "cell_type": "markdown",
      "metadata": {
        "id": "YdkZH1mcTT3O",
        "colab_type": "text"
      },
      "source": [
        "Através de pesquisas no google verificámos que, por exemplo, o filme \"The Cat in the Hat\" teve um budget de 109 milhões de dolares e o \"All That Jazz\" 12 millhões. Concluímos assim que os 0 para a feature budget foram erros de registo. \n",
        "\n",
        "Surge aqui um dilema na hora de manter ou eliminar estas observações. São muitas observações e eliminá-las pode levar a um modelo menos robusto. Por outro lado mantê-las vai enviezar os resultados. \n",
        "A opção mais correta seria tentar o seu preenchimento. Poderiamos ir consultar outras fontes de dados, ou fazer web scraping de forma a encontrar o budget para estes casos e depois completar estes registos. Por falta de tempo, e uma vez que o principal objetivo deste projeto é a aplicação do modelo final vamos optar por eliminar estas observações."
      ]
    },
    {
      "cell_type": "code",
      "metadata": {
        "id": "tQThECHNWk1t",
        "colab_type": "code",
        "colab": {}
      },
      "source": [
        "#filtrar revenue == 0 \n",
        "\n",
        "movies_revenue_zero = movies[movies['revenue'] == 0]"
      ],
      "execution_count": 0,
      "outputs": []
    },
    {
      "cell_type": "code",
      "metadata": {
        "id": "fce2GblhW7Q3",
        "colab_type": "code",
        "outputId": "19461cfd-2d23-44c3-e475-7e48e62bee48",
        "colab": {
          "base_uri": "https://localhost:8080/",
          "height": 34
        }
      },
      "source": [
        "movies_revenue_zero.shape[0]/movies.shape[0]*100"
      ],
      "execution_count": 0,
      "outputs": [
        {
          "output_type": "execute_result",
          "data": {
            "text/plain": [
              "29.710597543202166"
            ]
          },
          "metadata": {
            "tags": []
          },
          "execution_count": 27
        }
      ]
    },
    {
      "cell_type": "code",
      "metadata": {
        "id": "p-hBXIHjXAd_",
        "colab_type": "code",
        "outputId": "6a609bb5-621a-4f81-96b2-0f3131cc7bfc",
        "colab": {
          "base_uri": "https://localhost:8080/",
          "height": 530
        }
      },
      "source": [
        "movies_revenue_zero.head()"
      ],
      "execution_count": 0,
      "outputs": [
        {
          "output_type": "execute_result",
          "data": {
            "text/html": [
              "<div>\n",
              "<style scoped>\n",
              "    .dataframe tbody tr th:only-of-type {\n",
              "        vertical-align: middle;\n",
              "    }\n",
              "\n",
              "    .dataframe tbody tr th {\n",
              "        vertical-align: top;\n",
              "    }\n",
              "\n",
              "    .dataframe thead th {\n",
              "        text-align: right;\n",
              "    }\n",
              "</style>\n",
              "<table border=\"1\" class=\"dataframe\">\n",
              "  <thead>\n",
              "    <tr style=\"text-align: right;\">\n",
              "      <th></th>\n",
              "      <th>budget</th>\n",
              "      <th>genres</th>\n",
              "      <th>keywords</th>\n",
              "      <th>original_language</th>\n",
              "      <th>popularity</th>\n",
              "      <th>production_companies</th>\n",
              "      <th>production_countries</th>\n",
              "      <th>release_date</th>\n",
              "      <th>revenue</th>\n",
              "      <th>runtime</th>\n",
              "      <th>spoken_languages</th>\n",
              "      <th>status</th>\n",
              "      <th>title</th>\n",
              "      <th>vote_average</th>\n",
              "      <th>vote_count</th>\n",
              "    </tr>\n",
              "  </thead>\n",
              "  <tbody>\n",
              "    <tr>\n",
              "      <th>83</th>\n",
              "      <td>27000000</td>\n",
              "      <td>[Action, Adventure, Science Fiction, Romance]</td>\n",
              "      <td>[]</td>\n",
              "      <td>en</td>\n",
              "      <td>2.418535</td>\n",
              "      <td>[Corsan, Bliss Media, Limelight International ...</td>\n",
              "      <td>[Australia, Belgium, India]</td>\n",
              "      <td>2015-02-13</td>\n",
              "      <td>0</td>\n",
              "      <td>109.0</td>\n",
              "      <td>[English]</td>\n",
              "      <td>Released</td>\n",
              "      <td>The Lovers</td>\n",
              "      <td>4.8</td>\n",
              "      <td>34</td>\n",
              "    </tr>\n",
              "    <tr>\n",
              "      <th>135</th>\n",
              "      <td>150000000</td>\n",
              "      <td>[Drama, Horror, Thriller]</td>\n",
              "      <td>[father son relationship, victorian england, r...</td>\n",
              "      <td>en</td>\n",
              "      <td>21.214571</td>\n",
              "      <td>[Universal Pictures, Stuber Productions, Relat...</td>\n",
              "      <td>[United States of America]</td>\n",
              "      <td>2010-02-11</td>\n",
              "      <td>0</td>\n",
              "      <td>102.0</td>\n",
              "      <td>[English]</td>\n",
              "      <td>Released</td>\n",
              "      <td>The Wolfman</td>\n",
              "      <td>5.5</td>\n",
              "      <td>549</td>\n",
              "    </tr>\n",
              "    <tr>\n",
              "      <th>265</th>\n",
              "      <td>0</td>\n",
              "      <td>[Comedy, Fantasy, Family]</td>\n",
              "      <td>[cat, brother sister relationship, boredom, ch...</td>\n",
              "      <td>en</td>\n",
              "      <td>18.251129</td>\n",
              "      <td>[Imagine Entertainment, DreamWorks SKG, Univer...</td>\n",
              "      <td>[United States of America]</td>\n",
              "      <td>2003-11-21</td>\n",
              "      <td>0</td>\n",
              "      <td>82.0</td>\n",
              "      <td>[English]</td>\n",
              "      <td>Released</td>\n",
              "      <td>The Cat in the Hat</td>\n",
              "      <td>4.9</td>\n",
              "      <td>366</td>\n",
              "    </tr>\n",
              "    <tr>\n",
              "      <th>309</th>\n",
              "      <td>84000000</td>\n",
              "      <td>[Fantasy, Comedy, Family, Adventure]</td>\n",
              "      <td>[baby, mask, viking]</td>\n",
              "      <td>en</td>\n",
              "      <td>17.815595</td>\n",
              "      <td>[New Line Cinema, Pathé Distribution]</td>\n",
              "      <td>[Germany, United States of America]</td>\n",
              "      <td>2005-02-18</td>\n",
              "      <td>0</td>\n",
              "      <td>94.0</td>\n",
              "      <td>[English]</td>\n",
              "      <td>Released</td>\n",
              "      <td>Son of the Mask</td>\n",
              "      <td>3.6</td>\n",
              "      <td>338</td>\n",
              "    </tr>\n",
              "    <tr>\n",
              "      <th>376</th>\n",
              "      <td>90000000</td>\n",
              "      <td>[Science Fiction, Action, Drama, Thriller]</td>\n",
              "      <td>[subway, lava, volcano, volcanologist, los ang...</td>\n",
              "      <td>en</td>\n",
              "      <td>19.836124</td>\n",
              "      <td>[Twentieth Century Fox Film Corporation]</td>\n",
              "      <td>[United States of America]</td>\n",
              "      <td>1997-04-25</td>\n",
              "      <td>0</td>\n",
              "      <td>104.0</td>\n",
              "      <td>[Deutsch, Español, English]</td>\n",
              "      <td>Released</td>\n",
              "      <td>Volcano</td>\n",
              "      <td>5.2</td>\n",
              "      <td>376</td>\n",
              "    </tr>\n",
              "  </tbody>\n",
              "</table>\n",
              "</div>"
            ],
            "text/plain": [
              "        budget  ... vote_count\n",
              "83    27000000  ...         34\n",
              "135  150000000  ...        549\n",
              "265          0  ...        366\n",
              "309   84000000  ...        338\n",
              "376   90000000  ...        376\n",
              "\n",
              "[5 rows x 15 columns]"
            ]
          },
          "metadata": {
            "tags": []
          },
          "execution_count": 28
        }
      ]
    },
    {
      "cell_type": "markdown",
      "metadata": {
        "id": "_J-JPA3uXs6M",
        "colab_type": "text"
      },
      "source": [
        "Vamos seguir o mesmo critério que seguimos para o \"budget\""
      ]
    },
    {
      "cell_type": "code",
      "metadata": {
        "id": "vboLXAHrX3AX",
        "colab_type": "code",
        "colab": {}
      },
      "source": [
        "#filtrar runtime == 0 \n",
        "\n",
        "movies_runtime_zero = movies[movies['runtime'] == 0]"
      ],
      "execution_count": 0,
      "outputs": []
    },
    {
      "cell_type": "code",
      "metadata": {
        "id": "VscO-ltQX_1i",
        "colab_type": "code",
        "outputId": "f38fb12c-ac19-48de-a346-edf9c5a81b64",
        "colab": {
          "base_uri": "https://localhost:8080/",
          "height": 34
        }
      },
      "source": [
        "movies_runtime_zero.shape[0]/movies.shape[0]*100"
      ],
      "execution_count": 0,
      "outputs": [
        {
          "output_type": "execute_result",
          "data": {
            "text/plain": [
              "0.7287112221528211"
            ]
          },
          "metadata": {
            "tags": []
          },
          "execution_count": 30
        }
      ]
    },
    {
      "cell_type": "markdown",
      "metadata": {
        "id": "JmNhooqvYxEj",
        "colab_type": "text"
      },
      "source": [
        "aqui já são apenas 0,73% das observações. Vamos proceder primeiro à eliminação das observações que se encontram a 0 para o budget e para o Revenue e depois caso se mantenham estes casos vamos analisar outra vez. "
      ]
    },
    {
      "cell_type": "code",
      "metadata": {
        "id": "cdpMtvBCY6H_",
        "colab_type": "code",
        "colab": {}
      },
      "source": [
        "# drop budget == 0 \n",
        "movies = movies[movies.budget != 0]"
      ],
      "execution_count": 0,
      "outputs": []
    },
    {
      "cell_type": "code",
      "metadata": {
        "id": "gsbWO5X0ZrAl",
        "colab_type": "code",
        "outputId": "5d2a3479-090d-48c4-c74d-dcbbc52c1638",
        "colab": {
          "base_uri": "https://localhost:8080/",
          "height": 34
        }
      },
      "source": [
        "movies[movies['budget'] == 0].shape"
      ],
      "execution_count": 0,
      "outputs": [
        {
          "output_type": "execute_result",
          "data": {
            "text/plain": [
              "(0, 15)"
            ]
          },
          "metadata": {
            "tags": []
          },
          "execution_count": 32
        }
      ]
    },
    {
      "cell_type": "code",
      "metadata": {
        "id": "7jXeSGFWaHyf",
        "colab_type": "code",
        "colab": {}
      },
      "source": [
        "# drop revenue == 0 \n",
        "movies = movies[movies.revenue != 0]"
      ],
      "execution_count": 0,
      "outputs": []
    },
    {
      "cell_type": "code",
      "metadata": {
        "id": "I1yxf3K2aNVZ",
        "colab_type": "code",
        "outputId": "795b9dcc-de7c-48e5-80e3-13b4b0b93647",
        "colab": {
          "base_uri": "https://localhost:8080/",
          "height": 34
        }
      },
      "source": [
        "movies[movies['revenue'] == 0].shape"
      ],
      "execution_count": 0,
      "outputs": [
        {
          "output_type": "execute_result",
          "data": {
            "text/plain": [
              "(0, 15)"
            ]
          },
          "metadata": {
            "tags": []
          },
          "execution_count": 34
        }
      ]
    },
    {
      "cell_type": "code",
      "metadata": {
        "id": "M2eU5D7oaRYn",
        "colab_type": "code",
        "outputId": "fdbf6084-0436-49cf-889f-7f9aa48672d2",
        "colab": {
          "base_uri": "https://localhost:8080/",
          "height": 34
        }
      },
      "source": [
        "movies.shape"
      ],
      "execution_count": 0,
      "outputs": [
        {
          "output_type": "execute_result",
          "data": {
            "text/plain": [
              "(3229, 15)"
            ]
          },
          "metadata": {
            "tags": []
          },
          "execution_count": 35
        }
      ]
    },
    {
      "cell_type": "markdown",
      "metadata": {
        "id": "rXOifpx-aYes",
        "colab_type": "text"
      },
      "source": [
        "Temos agora um dataser com 3229 observações. \n",
        "Vamos ver se ainda existem observações com runtime == 0 "
      ]
    },
    {
      "cell_type": "code",
      "metadata": {
        "id": "MHGur4tzajdP",
        "colab_type": "code",
        "outputId": "9d00cbf5-7817-455a-e2c9-24075e1e3924",
        "colab": {
          "base_uri": "https://localhost:8080/",
          "height": 34
        }
      },
      "source": [
        "movies.runtime.min()"
      ],
      "execution_count": 0,
      "outputs": [
        {
          "output_type": "execute_result",
          "data": {
            "text/plain": [
              "41.0"
            ]
          },
          "metadata": {
            "tags": []
          },
          "execution_count": 36
        }
      ]
    },
    {
      "cell_type": "markdown",
      "metadata": {
        "id": "dV35SkGla39M",
        "colab_type": "text"
      },
      "source": [
        "Já não existem !"
      ]
    },
    {
      "cell_type": "markdown",
      "metadata": {
        "id": "fJhlRgdSbHWT",
        "colab_type": "text"
      },
      "source": [
        "Vamos agora ver se existem missing values. "
      ]
    },
    {
      "cell_type": "code",
      "metadata": {
        "id": "tTi0sdpHbMMR",
        "colab_type": "code",
        "outputId": "734eac50-5490-4ea2-a981-830e7f58461f",
        "colab": {
          "base_uri": "https://localhost:8080/",
          "height": 289
        }
      },
      "source": [
        "movies.isnull().sum()"
      ],
      "execution_count": 0,
      "outputs": [
        {
          "output_type": "execute_result",
          "data": {
            "text/plain": [
              "budget                  0\n",
              "genres                  0\n",
              "keywords                0\n",
              "original_language       0\n",
              "popularity              0\n",
              "production_companies    0\n",
              "production_countries    0\n",
              "release_date            0\n",
              "revenue                 0\n",
              "runtime                 0\n",
              "spoken_languages        0\n",
              "status                  0\n",
              "title                   0\n",
              "vote_average            0\n",
              "vote_count              0\n",
              "dtype: int64"
            ]
          },
          "metadata": {
            "tags": []
          },
          "execution_count": 37
        }
      ]
    },
    {
      "cell_type": "code",
      "metadata": {
        "id": "FH3XEDTvdG-r",
        "colab_type": "code",
        "outputId": "f06f8ab0-f1d4-40f0-b9c6-f6154101f969",
        "colab": {
          "base_uri": "https://localhost:8080/",
          "height": 407
        }
      },
      "source": [
        "#correlação variáveis numéricas\n",
        "#\n",
        "\n",
        "fig = plt.figure(figsize = (6,6),facecolor=\"white\")\n",
        "\n",
        "sns.heatmap(movies.corr(), annot = True, cmap = 'YlGnBu', square= True)\n",
        "\n",
        "plt.show()"
      ],
      "execution_count": 0,
      "outputs": [
        {
          "output_type": "display_data",
          "data": {
            "image/png": "[encoded data removed]",
            "text/plain": [
              "<Figure size 432x432 with 2 Axes>"
            ]
          },
          "metadata": {
            "tags": []
          }
        }
      ]
    },
    {
      "cell_type": "markdown",
      "metadata": {
        "id": "3N0VqaCXeaj_",
        "colab_type": "text"
      },
      "source": [
        "#### Existem variáveis que não são independentes entre si??\n",
        "\n",
        "```\n",
        "Pelo heatmap verificamos que existem variávais correlações consideráveis como são os casos: \n",
        "\n",
        "1.   vote_count vs revenue\n",
        "2.   vote_count vs popularity\n",
        "1.   revenue vs budget\n",
        "\n",
        "Por outro lado as variáveis vote_average e budget têm uma correlação quase insignificativa e por isso pode dizer-se que são independentes. \n",
        "\n",
        "\n",
        "\n",
        "\n",
        "```\n"
      ]
    },
    {
      "cell_type": "markdown",
      "metadata": {
        "id": "l8Q7-amVgHKp",
        "colab_type": "text"
      },
      "source": [
        "##Variáveis Categóricas"
      ]
    },
    {
      "cell_type": "code",
      "metadata": {
        "id": "jzHol1uBiNRe",
        "colab_type": "code",
        "outputId": "5a859b95-1fa5-42b0-bf37-216b54646757",
        "colab": {
          "base_uri": "https://localhost:8080/",
          "height": 289
        }
      },
      "source": [
        "movies.dtypes"
      ],
      "execution_count": 0,
      "outputs": [
        {
          "output_type": "execute_result",
          "data": {
            "text/plain": [
              "budget                    int64\n",
              "genres                   object\n",
              "keywords                 object\n",
              "original_language        object\n",
              "popularity              float64\n",
              "production_companies     object\n",
              "production_countries     object\n",
              "release_date             object\n",
              "revenue                   int64\n",
              "runtime                 float64\n",
              "spoken_languages         object\n",
              "status                   object\n",
              "title                    object\n",
              "vote_average            float64\n",
              "vote_count                int64\n",
              "dtype: object"
            ]
          },
          "metadata": {
            "tags": []
          },
          "execution_count": 39
        }
      ]
    },
    {
      "cell_type": "code",
      "metadata": {
        "id": "y6EWbpHvgJ3P",
        "colab_type": "code",
        "outputId": "e82a5a71-829d-4a18-94c4-d8b8a43d470d",
        "colab": {
          "base_uri": "https://localhost:8080/",
          "height": 335
        }
      },
      "source": [
        "movies.select_dtypes(exclude=['int64','float64']).head(2)"
      ],
      "execution_count": 0,
      "outputs": [
        {
          "output_type": "execute_result",
          "data": {
            "text/html": [
              "<div>\n",
              "<style scoped>\n",
              "    .dataframe tbody tr th:only-of-type {\n",
              "        vertical-align: middle;\n",
              "    }\n",
              "\n",
              "    .dataframe tbody tr th {\n",
              "        vertical-align: top;\n",
              "    }\n",
              "\n",
              "    .dataframe thead th {\n",
              "        text-align: right;\n",
              "    }\n",
              "</style>\n",
              "<table border=\"1\" class=\"dataframe\">\n",
              "  <thead>\n",
              "    <tr style=\"text-align: right;\">\n",
              "      <th></th>\n",
              "      <th>genres</th>\n",
              "      <th>keywords</th>\n",
              "      <th>original_language</th>\n",
              "      <th>production_companies</th>\n",
              "      <th>production_countries</th>\n",
              "      <th>release_date</th>\n",
              "      <th>spoken_languages</th>\n",
              "      <th>status</th>\n",
              "      <th>title</th>\n",
              "    </tr>\n",
              "  </thead>\n",
              "  <tbody>\n",
              "    <tr>\n",
              "      <th>0</th>\n",
              "      <td>[Action, Adventure, Fantasy, Science Fiction]</td>\n",
              "      <td>[culture clash, future, space war, space colon...</td>\n",
              "      <td>en</td>\n",
              "      <td>[Ingenious Film Partners, Twentieth Century Fo...</td>\n",
              "      <td>[United States of America, United Kingdom]</td>\n",
              "      <td>2009-12-10</td>\n",
              "      <td>[English, Español]</td>\n",
              "      <td>Released</td>\n",
              "      <td>Avatar</td>\n",
              "    </tr>\n",
              "    <tr>\n",
              "      <th>1</th>\n",
              "      <td>[Adventure, Fantasy, Action]</td>\n",
              "      <td>[ocean, drug abuse, exotic island, east india ...</td>\n",
              "      <td>en</td>\n",
              "      <td>[Walt Disney Pictures, Jerry Bruckheimer Films...</td>\n",
              "      <td>[United States of America]</td>\n",
              "      <td>2007-05-19</td>\n",
              "      <td>[English]</td>\n",
              "      <td>Released</td>\n",
              "      <td>Pirates of the Caribbean: At World's End</td>\n",
              "    </tr>\n",
              "  </tbody>\n",
              "</table>\n",
              "</div>"
            ],
            "text/plain": [
              "                                          genres  ...                                     title\n",
              "0  [Action, Adventure, Fantasy, Science Fiction]  ...                                    Avatar\n",
              "1                   [Adventure, Fantasy, Action]  ...  Pirates of the Caribbean: At World's End\n",
              "\n",
              "[2 rows x 9 columns]"
            ]
          },
          "metadata": {
            "tags": []
          },
          "execution_count": 40
        }
      ]
    },
    {
      "cell_type": "code",
      "metadata": {
        "id": "xeHj8DgPifEV",
        "colab_type": "code",
        "outputId": "a08fea08-a1a3-46cd-dd28-e6822a856634",
        "colab": {
          "base_uri": "https://localhost:8080/",
          "height": 493
        }
      },
      "source": [
        "movies.original_language.value_counts(normalize=True)"
      ],
      "execution_count": 0,
      "outputs": [
        {
          "output_type": "execute_result",
          "data": {
            "text/plain": [
              "en    0.960669\n",
              "fr    0.007742\n",
              "es    0.004645\n",
              "ja    0.004026\n",
              "zh    0.004026\n",
              "de    0.002787\n",
              "hi    0.002168\n",
              "ru    0.001858\n",
              "it    0.001858\n",
              "ko    0.001548\n",
              "cn    0.001548\n",
              "da    0.001239\n",
              "id    0.000619\n",
              "pt    0.000619\n",
              "th    0.000619\n",
              "nl    0.000619\n",
              "is    0.000310\n",
              "no    0.000310\n",
              "he    0.000310\n",
              "xx    0.000310\n",
              "af    0.000310\n",
              "fa    0.000310\n",
              "nb    0.000310\n",
              "te    0.000310\n",
              "vi    0.000310\n",
              "ro    0.000310\n",
              "pl    0.000310\n",
              "Name: original_language, dtype: float64"
            ]
          },
          "metadata": {
            "tags": []
          },
          "execution_count": 41
        }
      ]
    },
    {
      "cell_type": "markdown",
      "metadata": {
        "id": "rzDdPqIlj9B0",
        "colab_type": "text"
      },
      "source": [
        "96% das observações pertence à classe en. uma vez que não a variancia desta feature é quase 0 vamos eliminá-la."
      ]
    },
    {
      "cell_type": "code",
      "metadata": {
        "id": "ejkAyrqbkXI7",
        "colab_type": "code",
        "colab": {}
      },
      "source": [
        "movies = movies.drop(columns = ['original_language'] , axis= 1)"
      ],
      "execution_count": 0,
      "outputs": []
    },
    {
      "cell_type": "markdown",
      "metadata": {
        "id": "T7FGjYhHk-zc",
        "colab_type": "text"
      },
      "source": [
        "A release_date trata-se de uma data.Vamos extrair o ano e ficar apenas com esta informação. "
      ]
    },
    {
      "cell_type": "code",
      "metadata": {
        "id": "eRUX9974k4HH",
        "colab_type": "code",
        "colab": {}
      },
      "source": [
        "movies.release_date = pd.to_datetime(movies['release_date'])\n",
        "movies[\"year\"] = movies.release_date.dt.year"
      ],
      "execution_count": 0,
      "outputs": []
    },
    {
      "cell_type": "code",
      "metadata": {
        "id": "FYnRQ4-zm-_D",
        "colab_type": "code",
        "colab": {}
      },
      "source": [
        "movies = movies.drop(columns=['release_date'], axis = 1)"
      ],
      "execution_count": 0,
      "outputs": []
    },
    {
      "cell_type": "code",
      "metadata": {
        "id": "4RQUJgGLm14D",
        "colab_type": "code",
        "outputId": "ab87a162-97e4-4a14-d44d-f1c9f9b27b2e",
        "colab": {
          "base_uri": "https://localhost:8080/",
          "height": 700
        }
      },
      "source": [
        "movies.head(5)"
      ],
      "execution_count": 0,
      "outputs": [
        {
          "output_type": "execute_result",
          "data": {
            "text/html": [
              "<div>\n",
              "<style scoped>\n",
              "    .dataframe tbody tr th:only-of-type {\n",
              "        vertical-align: middle;\n",
              "    }\n",
              "\n",
              "    .dataframe tbody tr th {\n",
              "        vertical-align: top;\n",
              "    }\n",
              "\n",
              "    .dataframe thead th {\n",
              "        text-align: right;\n",
              "    }\n",
              "</style>\n",
              "<table border=\"1\" class=\"dataframe\">\n",
              "  <thead>\n",
              "    <tr style=\"text-align: right;\">\n",
              "      <th></th>\n",
              "      <th>budget</th>\n",
              "      <th>genres</th>\n",
              "      <th>keywords</th>\n",
              "      <th>popularity</th>\n",
              "      <th>production_companies</th>\n",
              "      <th>production_countries</th>\n",
              "      <th>revenue</th>\n",
              "      <th>runtime</th>\n",
              "      <th>spoken_languages</th>\n",
              "      <th>status</th>\n",
              "      <th>title</th>\n",
              "      <th>vote_average</th>\n",
              "      <th>vote_count</th>\n",
              "      <th>year</th>\n",
              "    </tr>\n",
              "  </thead>\n",
              "  <tbody>\n",
              "    <tr>\n",
              "      <th>0</th>\n",
              "      <td>237000000</td>\n",
              "      <td>[Action, Adventure, Fantasy, Science Fiction]</td>\n",
              "      <td>[culture clash, future, space war, space colon...</td>\n",
              "      <td>150.437577</td>\n",
              "      <td>[Ingenious Film Partners, Twentieth Century Fo...</td>\n",
              "      <td>[United States of America, United Kingdom]</td>\n",
              "      <td>2787965087</td>\n",
              "      <td>162.0</td>\n",
              "      <td>[English, Español]</td>\n",
              "      <td>Released</td>\n",
              "      <td>Avatar</td>\n",
              "      <td>7.2</td>\n",
              "      <td>11800</td>\n",
              "      <td>2009</td>\n",
              "    </tr>\n",
              "    <tr>\n",
              "      <th>1</th>\n",
              "      <td>300000000</td>\n",
              "      <td>[Adventure, Fantasy, Action]</td>\n",
              "      <td>[ocean, drug abuse, exotic island, east india ...</td>\n",
              "      <td>139.082615</td>\n",
              "      <td>[Walt Disney Pictures, Jerry Bruckheimer Films...</td>\n",
              "      <td>[United States of America]</td>\n",
              "      <td>961000000</td>\n",
              "      <td>169.0</td>\n",
              "      <td>[English]</td>\n",
              "      <td>Released</td>\n",
              "      <td>Pirates of the Caribbean: At World's End</td>\n",
              "      <td>6.9</td>\n",
              "      <td>4500</td>\n",
              "      <td>2007</td>\n",
              "    </tr>\n",
              "    <tr>\n",
              "      <th>2</th>\n",
              "      <td>245000000</td>\n",
              "      <td>[Action, Adventure, Crime]</td>\n",
              "      <td>[spy, based on novel, secret agent, sequel, mi...</td>\n",
              "      <td>107.376788</td>\n",
              "      <td>[Columbia Pictures, Danjaq, B24]</td>\n",
              "      <td>[United Kingdom, United States of America]</td>\n",
              "      <td>880674609</td>\n",
              "      <td>148.0</td>\n",
              "      <td>[Français, English, Español, Italiano, Deutsch]</td>\n",
              "      <td>Released</td>\n",
              "      <td>Spectre</td>\n",
              "      <td>6.3</td>\n",
              "      <td>4466</td>\n",
              "      <td>2015</td>\n",
              "    </tr>\n",
              "    <tr>\n",
              "      <th>3</th>\n",
              "      <td>250000000</td>\n",
              "      <td>[Action, Crime, Drama, Thriller]</td>\n",
              "      <td>[dc comics, crime fighter, terrorist, secret i...</td>\n",
              "      <td>112.312950</td>\n",
              "      <td>[Legendary Pictures, Warner Bros., DC Entertai...</td>\n",
              "      <td>[United States of America]</td>\n",
              "      <td>1084939099</td>\n",
              "      <td>165.0</td>\n",
              "      <td>[English]</td>\n",
              "      <td>Released</td>\n",
              "      <td>The Dark Knight Rises</td>\n",
              "      <td>7.6</td>\n",
              "      <td>9106</td>\n",
              "      <td>2012</td>\n",
              "    </tr>\n",
              "    <tr>\n",
              "      <th>4</th>\n",
              "      <td>260000000</td>\n",
              "      <td>[Action, Adventure, Science Fiction]</td>\n",
              "      <td>[based on novel, mars, medallion, space travel...</td>\n",
              "      <td>43.926995</td>\n",
              "      <td>[Walt Disney Pictures]</td>\n",
              "      <td>[United States of America]</td>\n",
              "      <td>284139100</td>\n",
              "      <td>132.0</td>\n",
              "      <td>[English]</td>\n",
              "      <td>Released</td>\n",
              "      <td>John Carter</td>\n",
              "      <td>6.1</td>\n",
              "      <td>2124</td>\n",
              "      <td>2012</td>\n",
              "    </tr>\n",
              "  </tbody>\n",
              "</table>\n",
              "</div>"
            ],
            "text/plain": [
              "      budget                                         genres  ... vote_count  year\n",
              "0  237000000  [Action, Adventure, Fantasy, Science Fiction]  ...      11800  2009\n",
              "1  300000000                   [Adventure, Fantasy, Action]  ...       4500  2007\n",
              "2  245000000                     [Action, Adventure, Crime]  ...       4466  2015\n",
              "3  250000000               [Action, Crime, Drama, Thriller]  ...       9106  2012\n",
              "4  260000000           [Action, Adventure, Science Fiction]  ...       2124  2012\n",
              "\n",
              "[5 rows x 14 columns]"
            ]
          },
          "metadata": {
            "tags": []
          },
          "execution_count": 45
        }
      ]
    },
    {
      "cell_type": "markdown",
      "metadata": {
        "id": "gqPD-gx1oh1G",
        "colab_type": "text"
      },
      "source": [
        "--STATUS"
      ]
    },
    {
      "cell_type": "code",
      "metadata": {
        "id": "zfxbsC3foliT",
        "colab_type": "code",
        "outputId": "3808a4ca-a2e9-442b-98a6-a51056e58560",
        "colab": {
          "base_uri": "https://localhost:8080/",
          "height": 68
        }
      },
      "source": [
        "movies.status.value_counts()"
      ],
      "execution_count": 0,
      "outputs": [
        {
          "output_type": "execute_result",
          "data": {
            "text/plain": [
              "Released           3228\n",
              "Post Production       1\n",
              "Name: status, dtype: int64"
            ]
          },
          "metadata": {
            "tags": []
          },
          "execution_count": 46
        }
      ]
    },
    {
      "cell_type": "markdown",
      "metadata": {
        "id": "hI2YYb-0o4Uf",
        "colab_type": "text"
      },
      "source": [
        "apenas uma observação nao possui o valor \"Released\". Vamos eliminar esta observação. "
      ]
    },
    {
      "cell_type": "code",
      "metadata": {
        "id": "WN1UvoUcpFBQ",
        "colab_type": "code",
        "colab": {}
      },
      "source": [
        " movies = movies[movies.status == \"Released\"]"
      ],
      "execution_count": 0,
      "outputs": []
    },
    {
      "cell_type": "markdown",
      "metadata": {
        "id": "74sQqAARpmGL",
        "colab_type": "text"
      },
      "source": [
        "Podemos também eliminar esta coluna uma vez que vai ser uma constante"
      ]
    },
    {
      "cell_type": "code",
      "metadata": {
        "id": "uC9kMsmYpqbY",
        "colab_type": "code",
        "colab": {}
      },
      "source": [
        " movies = movies.drop(columns=['status'] , axis = 1 )"
      ],
      "execution_count": 0,
      "outputs": []
    },
    {
      "cell_type": "code",
      "metadata": {
        "id": "qtQQcvEkp52x",
        "colab_type": "code",
        "outputId": "d8e5ed2e-f1d9-4719-ae18-70312197176f",
        "colab": {
          "base_uri": "https://localhost:8080/",
          "height": 179
        }
      },
      "source": [
        "movies.select_dtypes(exclude=['int64','float64']).head(2)"
      ],
      "execution_count": 0,
      "outputs": [
        {
          "output_type": "execute_result",
          "data": {
            "text/html": [
              "<div>\n",
              "<style scoped>\n",
              "    .dataframe tbody tr th:only-of-type {\n",
              "        vertical-align: middle;\n",
              "    }\n",
              "\n",
              "    .dataframe tbody tr th {\n",
              "        vertical-align: top;\n",
              "    }\n",
              "\n",
              "    .dataframe thead th {\n",
              "        text-align: right;\n",
              "    }\n",
              "</style>\n",
              "<table border=\"1\" class=\"dataframe\">\n",
              "  <thead>\n",
              "    <tr style=\"text-align: right;\">\n",
              "      <th></th>\n",
              "      <th>genres</th>\n",
              "      <th>keywords</th>\n",
              "      <th>production_companies</th>\n",
              "      <th>production_countries</th>\n",
              "      <th>spoken_languages</th>\n",
              "      <th>title</th>\n",
              "    </tr>\n",
              "  </thead>\n",
              "  <tbody>\n",
              "    <tr>\n",
              "      <th>0</th>\n",
              "      <td>[Action, Adventure, Fantasy, Science Fiction]</td>\n",
              "      <td>[culture clash, future, space war, space colon...</td>\n",
              "      <td>[Ingenious Film Partners, Twentieth Century Fo...</td>\n",
              "      <td>[United States of America, United Kingdom]</td>\n",
              "      <td>[English, Español]</td>\n",
              "      <td>Avatar</td>\n",
              "    </tr>\n",
              "    <tr>\n",
              "      <th>1</th>\n",
              "      <td>[Adventure, Fantasy, Action]</td>\n",
              "      <td>[ocean, drug abuse, exotic island, east india ...</td>\n",
              "      <td>[Walt Disney Pictures, Jerry Bruckheimer Films...</td>\n",
              "      <td>[United States of America]</td>\n",
              "      <td>[English]</td>\n",
              "      <td>Pirates of the Caribbean: At World's End</td>\n",
              "    </tr>\n",
              "  </tbody>\n",
              "</table>\n",
              "</div>"
            ],
            "text/plain": [
              "                                          genres  ...                                     title\n",
              "0  [Action, Adventure, Fantasy, Science Fiction]  ...                                    Avatar\n",
              "1                   [Adventure, Fantasy, Action]  ...  Pirates of the Caribbean: At World's End\n",
              "\n",
              "[2 rows x 6 columns]"
            ]
          },
          "metadata": {
            "tags": []
          },
          "execution_count": 49
        }
      ]
    },
    {
      "cell_type": "code",
      "metadata": {
        "id": "I4yqT-YQWNgP",
        "colab_type": "code",
        "outputId": "89ac6fd0-49b0-4318-e356-ebf82ea8267b",
        "colab": {
          "base_uri": "https://localhost:8080/",
          "height": 34
        }
      },
      "source": [
        "movies.shape"
      ],
      "execution_count": 0,
      "outputs": [
        {
          "output_type": "execute_result",
          "data": {
            "text/plain": [
              "(3228, 13)"
            ]
          },
          "metadata": {
            "tags": []
          },
          "execution_count": 50
        }
      ]
    },
    {
      "cell_type": "markdown",
      "metadata": {
        "id": "IsB9AQ0OUFd5",
        "colab_type": "text"
      },
      "source": [
        "Vamos agora olhar para as variáveis que estão apresentadas como lista. "
      ]
    },
    {
      "cell_type": "markdown",
      "metadata": {
        "id": "aMv7JuPHUSCu",
        "colab_type": "text"
      },
      "source": [
        "--Genres"
      ]
    },
    {
      "cell_type": "code",
      "metadata": {
        "id": "CySgi4gAUUf7",
        "colab_type": "code",
        "outputId": "b441f43f-a6c0-46c4-fbf4-1645375c5d5a",
        "colab": {
          "base_uri": "https://localhost:8080/",
          "height": 54
        }
      },
      "source": [
        "genres = set()\n",
        "for item in movies.genres:\n",
        "    for genre in item:\n",
        "        genres.add(genre)\n",
        "genres = list(genres)\n",
        "print(genres)"
      ],
      "execution_count": 0,
      "outputs": [
        {
          "output_type": "stream",
          "text": [
            "['Western', 'Family', 'Music', 'Horror', 'Thriller', 'Science Fiction', 'Animation', 'Fantasy', 'Crime', 'War', 'Adventure', 'Documentary', 'Foreign', 'Drama', 'Mystery', 'Romance', 'Comedy', 'History', 'Action']\n"
          ],
          "name": "stdout"
        }
      ]
    },
    {
      "cell_type": "code",
      "metadata": {
        "id": "xe5aekROUhjj",
        "colab_type": "code",
        "outputId": "61bcb79d-9085-4a37-824b-f72cbf59622b",
        "colab": {
          "base_uri": "https://localhost:8080/",
          "height": 34
        }
      },
      "source": [
        "len(genres)"
      ],
      "execution_count": 0,
      "outputs": [
        {
          "output_type": "execute_result",
          "data": {
            "text/plain": [
              "19"
            ]
          },
          "metadata": {
            "tags": []
          },
          "execution_count": 52
        }
      ]
    },
    {
      "cell_type": "markdown",
      "metadata": {
        "id": "EqxVxko9WBn-",
        "colab_type": "text"
      },
      "source": [
        "Vamos agora transformar os valores ditintos em colunas para posteriormente fazer join com o dataframe movies. \n"
      ]
    },
    {
      "cell_type": "code",
      "metadata": {
        "id": "NiEmVVwqUwBb",
        "colab_type": "code",
        "outputId": "cbaf0fcd-29a5-4242-d8ae-edf6bab661a9",
        "colab": {
          "base_uri": "https://localhost:8080/",
          "height": 86
        }
      },
      "source": [
        "df_genres = pd.DataFrame(columns=genres)\n",
        "df_genres.head()"
      ],
      "execution_count": 0,
      "outputs": [
        {
          "output_type": "execute_result",
          "data": {
            "text/html": [
              "<div>\n",
              "<style scoped>\n",
              "    .dataframe tbody tr th:only-of-type {\n",
              "        vertical-align: middle;\n",
              "    }\n",
              "\n",
              "    .dataframe tbody tr th {\n",
              "        vertical-align: top;\n",
              "    }\n",
              "\n",
              "    .dataframe thead th {\n",
              "        text-align: right;\n",
              "    }\n",
              "</style>\n",
              "<table border=\"1\" class=\"dataframe\">\n",
              "  <thead>\n",
              "    <tr style=\"text-align: right;\">\n",
              "      <th></th>\n",
              "      <th>Western</th>\n",
              "      <th>Family</th>\n",
              "      <th>Music</th>\n",
              "      <th>Horror</th>\n",
              "      <th>Thriller</th>\n",
              "      <th>Science Fiction</th>\n",
              "      <th>Animation</th>\n",
              "      <th>Fantasy</th>\n",
              "      <th>Crime</th>\n",
              "      <th>War</th>\n",
              "      <th>Adventure</th>\n",
              "      <th>Documentary</th>\n",
              "      <th>Foreign</th>\n",
              "      <th>Drama</th>\n",
              "      <th>Mystery</th>\n",
              "      <th>Romance</th>\n",
              "      <th>Comedy</th>\n",
              "      <th>History</th>\n",
              "      <th>Action</th>\n",
              "    </tr>\n",
              "  </thead>\n",
              "  <tbody>\n",
              "  </tbody>\n",
              "</table>\n",
              "</div>"
            ],
            "text/plain": [
              "Empty DataFrame\n",
              "Columns: [Western, Family, Music, Horror, Thriller, Science Fiction, Animation, Fantasy, Crime, War, Adventure, Documentary, Foreign, Drama, Mystery, Romance, Comedy, History, Action]\n",
              "Index: []"
            ]
          },
          "metadata": {
            "tags": []
          },
          "execution_count": 53
        }
      ]
    },
    {
      "cell_type": "code",
      "metadata": {
        "id": "REr-Oe3XVKjT",
        "colab_type": "code",
        "outputId": "8840a1cd-40b4-4eda-eabb-3026748e89ab",
        "colab": {
          "base_uri": "https://localhost:8080/",
          "height": 179
        }
      },
      "source": [
        "for index, row in movies.iterrows():\n",
        "    for item in row['genres']:\n",
        "        df_genres.loc[index,item] = 1\n",
        "df_genres.head(3)"
      ],
      "execution_count": 0,
      "outputs": [
        {
          "output_type": "execute_result",
          "data": {
            "text/html": [
              "<div>\n",
              "<style scoped>\n",
              "    .dataframe tbody tr th:only-of-type {\n",
              "        vertical-align: middle;\n",
              "    }\n",
              "\n",
              "    .dataframe tbody tr th {\n",
              "        vertical-align: top;\n",
              "    }\n",
              "\n",
              "    .dataframe thead th {\n",
              "        text-align: right;\n",
              "    }\n",
              "</style>\n",
              "<table border=\"1\" class=\"dataframe\">\n",
              "  <thead>\n",
              "    <tr style=\"text-align: right;\">\n",
              "      <th></th>\n",
              "      <th>Western</th>\n",
              "      <th>Family</th>\n",
              "      <th>Music</th>\n",
              "      <th>Horror</th>\n",
              "      <th>Thriller</th>\n",
              "      <th>Science Fiction</th>\n",
              "      <th>Animation</th>\n",
              "      <th>Fantasy</th>\n",
              "      <th>Crime</th>\n",
              "      <th>War</th>\n",
              "      <th>Adventure</th>\n",
              "      <th>Documentary</th>\n",
              "      <th>Foreign</th>\n",
              "      <th>Drama</th>\n",
              "      <th>Mystery</th>\n",
              "      <th>Romance</th>\n",
              "      <th>Comedy</th>\n",
              "      <th>History</th>\n",
              "      <th>Action</th>\n",
              "    </tr>\n",
              "  </thead>\n",
              "  <tbody>\n",
              "    <tr>\n",
              "      <th>0</th>\n",
              "      <td>NaN</td>\n",
              "      <td>NaN</td>\n",
              "      <td>NaN</td>\n",
              "      <td>NaN</td>\n",
              "      <td>NaN</td>\n",
              "      <td>1</td>\n",
              "      <td>NaN</td>\n",
              "      <td>1</td>\n",
              "      <td>NaN</td>\n",
              "      <td>NaN</td>\n",
              "      <td>1</td>\n",
              "      <td>NaN</td>\n",
              "      <td>NaN</td>\n",
              "      <td>NaN</td>\n",
              "      <td>NaN</td>\n",
              "      <td>NaN</td>\n",
              "      <td>NaN</td>\n",
              "      <td>NaN</td>\n",
              "      <td>1</td>\n",
              "    </tr>\n",
              "    <tr>\n",
              "      <th>1</th>\n",
              "      <td>NaN</td>\n",
              "      <td>NaN</td>\n",
              "      <td>NaN</td>\n",
              "      <td>NaN</td>\n",
              "      <td>NaN</td>\n",
              "      <td>NaN</td>\n",
              "      <td>NaN</td>\n",
              "      <td>1</td>\n",
              "      <td>NaN</td>\n",
              "      <td>NaN</td>\n",
              "      <td>1</td>\n",
              "      <td>NaN</td>\n",
              "      <td>NaN</td>\n",
              "      <td>NaN</td>\n",
              "      <td>NaN</td>\n",
              "      <td>NaN</td>\n",
              "      <td>NaN</td>\n",
              "      <td>NaN</td>\n",
              "      <td>1</td>\n",
              "    </tr>\n",
              "    <tr>\n",
              "      <th>2</th>\n",
              "      <td>NaN</td>\n",
              "      <td>NaN</td>\n",
              "      <td>NaN</td>\n",
              "      <td>NaN</td>\n",
              "      <td>NaN</td>\n",
              "      <td>NaN</td>\n",
              "      <td>NaN</td>\n",
              "      <td>NaN</td>\n",
              "      <td>1</td>\n",
              "      <td>NaN</td>\n",
              "      <td>1</td>\n",
              "      <td>NaN</td>\n",
              "      <td>NaN</td>\n",
              "      <td>NaN</td>\n",
              "      <td>NaN</td>\n",
              "      <td>NaN</td>\n",
              "      <td>NaN</td>\n",
              "      <td>NaN</td>\n",
              "      <td>1</td>\n",
              "    </tr>\n",
              "  </tbody>\n",
              "</table>\n",
              "</div>"
            ],
            "text/plain": [
              "  Western Family Music Horror Thriller  ... Mystery Romance Comedy History Action\n",
              "0     NaN    NaN   NaN    NaN      NaN  ...     NaN     NaN    NaN     NaN      1\n",
              "1     NaN    NaN   NaN    NaN      NaN  ...     NaN     NaN    NaN     NaN      1\n",
              "2     NaN    NaN   NaN    NaN      NaN  ...     NaN     NaN    NaN     NaN      1\n",
              "\n",
              "[3 rows x 19 columns]"
            ]
          },
          "metadata": {
            "tags": []
          },
          "execution_count": 54
        }
      ]
    },
    {
      "cell_type": "code",
      "metadata": {
        "id": "on0XngWoWXoV",
        "colab_type": "code",
        "outputId": "c9c067e9-4ebe-486a-971b-fb613d6b2443",
        "colab": {
          "base_uri": "https://localhost:8080/",
          "height": 34
        }
      },
      "source": [
        "df_genres.shape"
      ],
      "execution_count": 0,
      "outputs": [
        {
          "output_type": "execute_result",
          "data": {
            "text/plain": [
              "(3227, 19)"
            ]
          },
          "metadata": {
            "tags": []
          },
          "execution_count": 55
        }
      ]
    },
    {
      "cell_type": "code",
      "metadata": {
        "id": "y5XIJf6KYsvL",
        "colab_type": "code",
        "colab": {}
      },
      "source": [
        "df_genres.fillna(0,inplace=True)"
      ],
      "execution_count": 0,
      "outputs": []
    },
    {
      "cell_type": "code",
      "metadata": {
        "id": "CpAHtH7ia0gg",
        "colab_type": "code",
        "outputId": "a1d8ee6e-4563-477c-b0f9-13d6e05425d2",
        "colab": {
          "base_uri": "https://localhost:8080/",
          "height": 340
        }
      },
      "source": [
        "# ver a distribuição por generos\n",
        "for column in df_genres:\n",
        "  print(\"{}: {}\".format(column,df_genres[column][df_genres[column]==1].shape[0]))"
      ],
      "execution_count": 0,
      "outputs": [
        {
          "output_type": "stream",
          "text": [
            "Western: 57\n",
            "Family: 365\n",
            "Music: 111\n",
            "Horror: 332\n",
            "Thriller: 934\n",
            "Science Fiction: 431\n",
            "Animation: 188\n",
            "Fantasy: 342\n",
            "Crime: 521\n",
            "War: 120\n",
            "Adventure: 661\n",
            "Documentary: 38\n",
            "Foreign: 5\n",
            "Drama: 1440\n",
            "Mystery: 265\n",
            "Romance: 574\n",
            "Comedy: 1110\n",
            "History: 145\n",
            "Action: 918\n"
          ],
          "name": "stdout"
        }
      ]
    },
    {
      "cell_type": "code",
      "metadata": {
        "id": "YUJGsjuvY31y",
        "colab_type": "code",
        "colab": {}
      },
      "source": [
        "movies = movies.join(df_genres)"
      ],
      "execution_count": 0,
      "outputs": []
    },
    {
      "cell_type": "code",
      "metadata": {
        "id": "ZaxXta2gW-Zs",
        "colab_type": "code",
        "outputId": "d180534f-c1b1-4e43-c2b2-fb307ebad5ae",
        "colab": {
          "base_uri": "https://localhost:8080/",
          "height": 34
        }
      },
      "source": [
        "movies.shape"
      ],
      "execution_count": 0,
      "outputs": [
        {
          "output_type": "execute_result",
          "data": {
            "text/plain": [
              "(3228, 32)"
            ]
          },
          "metadata": {
            "tags": []
          },
          "execution_count": 59
        }
      ]
    },
    {
      "cell_type": "code",
      "metadata": {
        "id": "4K-kPwnLXjdp",
        "colab_type": "code",
        "outputId": "81f34948-a587-4619-9747-72bbad4ca7d5",
        "colab": {
          "base_uri": "https://localhost:8080/",
          "height": 578
        }
      },
      "source": [
        "movies.isnull().sum()"
      ],
      "execution_count": 0,
      "outputs": [
        {
          "output_type": "execute_result",
          "data": {
            "text/plain": [
              "budget                  0\n",
              "genres                  0\n",
              "keywords                0\n",
              "popularity              0\n",
              "production_companies    0\n",
              "production_countries    0\n",
              "revenue                 0\n",
              "runtime                 0\n",
              "spoken_languages        0\n",
              "title                   0\n",
              "vote_average            0\n",
              "vote_count              0\n",
              "year                    0\n",
              "Western                 1\n",
              "Family                  1\n",
              "Music                   1\n",
              "Horror                  1\n",
              "Thriller                1\n",
              "Science Fiction         1\n",
              "Animation               1\n",
              "Fantasy                 1\n",
              "Crime                   1\n",
              "War                     1\n",
              "Adventure               1\n",
              "Documentary             1\n",
              "Foreign                 1\n",
              "Drama                   1\n",
              "Mystery                 1\n",
              "Romance                 1\n",
              "Comedy                  1\n",
              "History                 1\n",
              "Action                  1\n",
              "dtype: int64"
            ]
          },
          "metadata": {
            "tags": []
          },
          "execution_count": 60
        }
      ]
    },
    {
      "cell_type": "code",
      "metadata": {
        "id": "yeHB8lrMUbUi",
        "colab_type": "code",
        "outputId": "3d05b064-5cf6-4c43-9eb7-71bffe6fe11d",
        "colab": {
          "base_uri": "https://localhost:8080/",
          "height": 219
        }
      },
      "source": [
        "movies[movies.Music.isnull()]"
      ],
      "execution_count": 0,
      "outputs": [
        {
          "output_type": "execute_result",
          "data": {
            "text/html": [
              "<div>\n",
              "<style scoped>\n",
              "    .dataframe tbody tr th:only-of-type {\n",
              "        vertical-align: middle;\n",
              "    }\n",
              "\n",
              "    .dataframe tbody tr th {\n",
              "        vertical-align: top;\n",
              "    }\n",
              "\n",
              "    .dataframe thead th {\n",
              "        text-align: right;\n",
              "    }\n",
              "</style>\n",
              "<table border=\"1\" class=\"dataframe\">\n",
              "  <thead>\n",
              "    <tr style=\"text-align: right;\">\n",
              "      <th></th>\n",
              "      <th>budget</th>\n",
              "      <th>genres</th>\n",
              "      <th>keywords</th>\n",
              "      <th>popularity</th>\n",
              "      <th>production_companies</th>\n",
              "      <th>production_countries</th>\n",
              "      <th>revenue</th>\n",
              "      <th>runtime</th>\n",
              "      <th>spoken_languages</th>\n",
              "      <th>title</th>\n",
              "      <th>vote_average</th>\n",
              "      <th>vote_count</th>\n",
              "      <th>year</th>\n",
              "      <th>Western</th>\n",
              "      <th>Family</th>\n",
              "      <th>Music</th>\n",
              "      <th>Horror</th>\n",
              "      <th>Thriller</th>\n",
              "      <th>Science Fiction</th>\n",
              "      <th>Animation</th>\n",
              "      <th>Fantasy</th>\n",
              "      <th>Crime</th>\n",
              "      <th>War</th>\n",
              "      <th>Adventure</th>\n",
              "      <th>Documentary</th>\n",
              "      <th>Foreign</th>\n",
              "      <th>Drama</th>\n",
              "      <th>Mystery</th>\n",
              "      <th>Romance</th>\n",
              "      <th>Comedy</th>\n",
              "      <th>History</th>\n",
              "      <th>Action</th>\n",
              "    </tr>\n",
              "  </thead>\n",
              "  <tbody>\n",
              "    <tr>\n",
              "      <th>4105</th>\n",
              "      <td>2000000</td>\n",
              "      <td>[]</td>\n",
              "      <td>[]</td>\n",
              "      <td>0.031947</td>\n",
              "      <td>[]</td>\n",
              "      <td>[]</td>\n",
              "      <td>1672730</td>\n",
              "      <td>120.0</td>\n",
              "      <td>[]</td>\n",
              "      <td>The Book of Mormon Movie, Volume 1: The Journey</td>\n",
              "      <td>5.0</td>\n",
              "      <td>2</td>\n",
              "      <td>2003</td>\n",
              "      <td>NaN</td>\n",
              "      <td>NaN</td>\n",
              "      <td>NaN</td>\n",
              "      <td>NaN</td>\n",
              "      <td>NaN</td>\n",
              "      <td>NaN</td>\n",
              "      <td>NaN</td>\n",
              "      <td>NaN</td>\n",
              "      <td>NaN</td>\n",
              "      <td>NaN</td>\n",
              "      <td>NaN</td>\n",
              "      <td>NaN</td>\n",
              "      <td>NaN</td>\n",
              "      <td>NaN</td>\n",
              "      <td>NaN</td>\n",
              "      <td>NaN</td>\n",
              "      <td>NaN</td>\n",
              "      <td>NaN</td>\n",
              "      <td>NaN</td>\n",
              "    </tr>\n",
              "  </tbody>\n",
              "</table>\n",
              "</div>"
            ],
            "text/plain": [
              "       budget genres keywords  popularity  ... Romance Comedy  History  Action\n",
              "4105  2000000     []       []    0.031947  ...     NaN    NaN      NaN     NaN\n",
              "\n",
              "[1 rows x 32 columns]"
            ]
          },
          "metadata": {
            "tags": []
          },
          "execution_count": 61
        }
      ]
    },
    {
      "cell_type": "markdown",
      "metadata": {
        "id": "mGNkWjXIXoR1",
        "colab_type": "text"
      },
      "source": [
        "Exite uma observação que não possui qualquer valor para o genero. vamos eliminá-lo. "
      ]
    },
    {
      "cell_type": "code",
      "metadata": {
        "id": "1qQ00GgPYIQP",
        "colab_type": "code",
        "colab": {}
      },
      "source": [
        "movies = movies[movies.title != 'The Book of Mormon Movie, Volume 1: The Journey']"
      ],
      "execution_count": 0,
      "outputs": []
    },
    {
      "cell_type": "code",
      "metadata": {
        "id": "RtL3IGhdYqhr",
        "colab_type": "code",
        "outputId": "94ec77d6-f028-48e5-f6b6-f7dd6de15ccb",
        "colab": {
          "base_uri": "https://localhost:8080/",
          "height": 578
        }
      },
      "source": [
        "movies.isnull().sum()"
      ],
      "execution_count": 0,
      "outputs": [
        {
          "output_type": "execute_result",
          "data": {
            "text/plain": [
              "budget                  0\n",
              "genres                  0\n",
              "keywords                0\n",
              "popularity              0\n",
              "production_companies    0\n",
              "production_countries    0\n",
              "revenue                 0\n",
              "runtime                 0\n",
              "spoken_languages        0\n",
              "title                   0\n",
              "vote_average            0\n",
              "vote_count              0\n",
              "year                    0\n",
              "Western                 0\n",
              "Family                  0\n",
              "Music                   0\n",
              "Horror                  0\n",
              "Thriller                0\n",
              "Science Fiction         0\n",
              "Animation               0\n",
              "Fantasy                 0\n",
              "Crime                   0\n",
              "War                     0\n",
              "Adventure               0\n",
              "Documentary             0\n",
              "Foreign                 0\n",
              "Drama                   0\n",
              "Mystery                 0\n",
              "Romance                 0\n",
              "Comedy                  0\n",
              "History                 0\n",
              "Action                  0\n",
              "dtype: int64"
            ]
          },
          "metadata": {
            "tags": []
          },
          "execution_count": 63
        }
      ]
    },
    {
      "cell_type": "code",
      "metadata": {
        "id": "9AHm7awnhyK8",
        "colab_type": "code",
        "colab": {}
      },
      "source": [
        "# eliminar coluna genres \n",
        "movies = movies.drop(columns=['genres'] , axis = 1 )"
      ],
      "execution_count": 0,
      "outputs": []
    },
    {
      "cell_type": "markdown",
      "metadata": {
        "id": "O6SlLtxKiJ_S",
        "colab_type": "text"
      },
      "source": [
        "--Keywords\n"
      ]
    },
    {
      "cell_type": "code",
      "metadata": {
        "id": "NXiWJjQ3fTPE",
        "colab_type": "code",
        "outputId": "85862eca-eb32-4619-aa48-47a18e66d349",
        "colab": {
          "base_uri": "https://localhost:8080/",
          "height": 54
        }
      },
      "source": [
        "keywords = set()\n",
        "for item in movies.keywords:\n",
        "    for keyword in item:\n",
        "        keywords.add(keyword)\n",
        "keywords = list(keywords)\n",
        "print(keywords)"
      ],
      "execution_count": 0,
      "outputs": [
        {
          "output_type": "stream",
          "text": [
            "['gallipoli campaign', 'dialogue', 'civil rights activist', 'fraternity', 'ruins', 'whip', 'missing child', 'meant for each other', 'time bomb', 'nairobi', 'autism', 'drug lord', 'gangster grip', 'brother-in-law sister-in-law relationship', 'pension', 'psychotic', 'mango', 'storytelling', 'commitment', 'bet', 'multiple identities', 'depression', 'group therapy', 'snow', 'bride', 'country club', 'horror anthology', 'military', 'potted plant', 'clock', 'squatter', 'popularity', 'sentinals', 'blackout', 'casanova', 'stallion', 'oil tanker', 'd-day', 'capitalism', 'nepal', 'young love', 'awkwardness', 'improvised explosive device', 'crawfish', 'evil spirit', 'laughing', 'san andreas california', 'trapped in building', 'speed', 'pretended murder', 'dead soldier', 'coffin', 'heart disease', 'woman director', 'petrol', 'mariachi', 'film making', 'automobile racing', 'destruction of a civilization', 'grenade launcher', 'internet', 'lakota', 'pendant', 'cure', 'chains', 'swahili', 'new job', 'formalin', 'contraception', 'zebra', 'staff', 'vicodin', 'to make music', 'collision in space', 'smuggler', 'german democratic republic', 'expectant mother', 'existence', 'current', 'discipline', 'dolly zoom', 'environmental issue', 'engagement ring', 'militia', 'torment', 'tornado', 'guard', 'sex', 'statistics', 'father son relationship', 'war strategy', 'seoul south korea', 'rabbi', 'revelation', 'desert', 'crisis', 'dance instructor', 'bandleader', 'palace', 'red', 'garfield', 'literature research', 'san francisco', 'governess', 'bunny', 'stock fraud', 'prequel', 'grandson', 'fairy godmother', 'mysterious letter', 'tower of babel', 'defection', 'mexico', 'lollipop', 'semiautomatic pistol', 'bakery', 'duct tape', 'motorcyclist', 'gladiator', 'survival horror', 'imprisonment', 'thief', 'crime gone awry', '超级妈妈', 'famous score', 'fox', 'rome', 'political', 'mining accident', 'yellow bikini', 'sneezing', 'rebellious daughter', 'wild man', 'tv show in film', 'assurance', 'cleverness', 'spongebob', 'sequel', '21st century', 'super soldier', 'fbi director', 'university', 'classmates', 'wormhole', 'sports marketing firm', 'command', 'naked woman', 'auto-tuning', 'tour de france', 'homecoming', 'slow motion', 'flashback', 'virus', 'lab technician', 'summer vacation', 'dual identity', 'protector', 'orgasm', 'slovakia', 'bobsleighing', 'texan', 'don juan', 'aunt niece relationship', 'pakistani', 'reference to jack black', 'peace conference', 'black men', 'underground world', 'over the top', 'garage', 'gigolo', 'sonogram', 'cultural difference', 'iceland', 'liberation', 'genie', 'nicotine', 'car accident', 'control freak', 'untouchable', 'pig', 'osha', 'eye patch', 'confidence', 'bridesmaid', 'kitten', 'night of the living dead', 'vertigo', 'parkour', 'real estate', 'evil brother', 'inspector', 'shooting', 'knife', 'wood chopping', 'egyptian mythology', 'cut off jeans', 'tooth fairy', 'meteor', 'cold turkey', 'deep sea', 'silent film', 'broadway musical', 'self-destruction', 'drug raid', 'drifting', 'group', 'the light brigade', 'shape shifting alien', 'creek', 'swallowed whole', 'time warp', 'alternate dimension', 'implanted memory', 'nuclear power plant', 'mashup', 'chemistry', 'healer', 'homeland', 'lily', 'engaged', 'returning money', 'organ', 'mona lisa', 'juvenile delinquent', 'slow motion scene', 'modern society', 'self expression', 'playboy mansion', 'downfall', 'home', 'music lover', 'master', 'egomania', 'misunderstanding', 'makeover', 'paper knife', 'auroch', 'constitutional convention', 'marriage counselling', 'reference to plato', 'hicktown', 'senior citizen', 'tree house', 'green beret', 'concert tour', 'victory', 'climate', 'deputy sheriff', 'movie in movie', 'blood spurting', 'talking animal', 'champion', 'twins', 'multiple storylines', 'pirate', 'denial', 'poland', 'nest', 'gobi desert', 'laptop computer', 'psychotherapy', 'vice', 'jaguar', 'corpse in coffin', 'nazi background', 'provence', \"based on children's book\", 'mother-in-law', 'white collar criminal', 'maid uniform', 'risk', 'airship', 'professional reputation', 'horses', 'crisis line', 'psychoanalysis', 'rolling eyes', 'woods', 'dead end job', 'extramarital affair', 'beauty salon', 'combat', 'poltergeist', 'moving out', 'taskmaster', 'armed robbery', 'lsd', 'corporate', 'salesperson', 'television director', 'martian', 'aviation', 'bloodshed', 'clone', 'little red riding hood', 'bathroom', 'research', 'the force', 'holiday inn', 'male stripper', 'dummy', 'super villain', 'victim of murder', 'adolescent boy', 'family', 'urn', 'brass band', 'homesickness', 'possession', 'cuban refugees', 'disobey', 'mountain', 'crime family', 'yoga', 'intellectual disability', 'disguised voice', 'bad cop', 'defecation', 'boogeyman', 'prom night', 'fish out of water', 'music style', 'japanese mythology', 'yukon', 'black people', 'camcorder', 'divorced parents', 'suffering', 'night', 'curse', 'country life', 'b movie', 'female hero', 'atheist', 'fake identity', 'wedding night', 'cavern', 'swat', 'kung fu', 'assassin', 'bathtub', 'kidnapping', \"rock 'n' roll\", 'spaceport', 'heart transplant', 'serenade', 'crime novelist', 'labor strike', 'fighter jet', 'storem', 'ice skating', 'occupying power', 'aquarium', 'masked man', 'berater', 'allied', 'missing girl', 'religious art', 'mohawk', 'ex-boyfriend', 'conflagration', 'scat', 'double murder', 'high school sweetheart', 'virginia', 'beaver', 'sexappeal', 'art school', 'dancing', 'outer space', 'horse', 'environmental protection agency', 'heist gone wrong', 'colosseum', 'alcohol', 'cheering', 'hebrew', 'famine', 'potus', 'archaeological dig', 'literary agent', 'crab', 'montreal', 'deaf-mute', 'skid row', 'child custody', 'inventions and discoveries', 'subconsciousness', 'guinea pig', 'noah', 'lost love', 'ronin', 'calcutta', 'death of boyfriend', 'decorum', 'fracking', 'american abroad', 'butler', 'casual sex', 'guardian angel', 'toscana', 'spring break', 'professor for literature', 'game show', 'vietnamese', 'charisma', 'gallon of water', \"driver's license\", 'inmate', 'deserter', 'enterprise-e', 'based on folk tale', 'security leak', 'italian', 'jfk international airport', 'witness to a crime', 'saxophonist', 'park ranger', 'pentagram', 'star', 'mexican cartel', 'top secret', 'spinosaurus', 'parenthood', 'dark', 'hook', 'divergent', 'amazon', 'drug trade', 'cape town south africa', 'fictional city', 'videoconferencing', 'informant', 'flooding', 'swordplay', 'storm', 'reindeer', 'milwaukee wisconsin', 'fictional awards show', 'wine', 'murderous pair', 'medication', 'tramp', 'flashback sequence', 'paradox', 'hate', 'culture clash', 'suspect', 'bilbao spain', 'government conspiracy', 'briefcase', 'grand canyon', 'nfl', 'serial kiler', 'greek letter', 'longing', 'postwar period', 'english', 'menschheit', 'octogenarian', 'lie', 'fairy', 'mother role', 'boy genius', 'pulitzer prize', 'sheriff', 'officer involved shooting', 'essay', 'tuberculosis', 'letter', 'turing test', 'sex therapy', 'megacity', 'tyranny', 'air raid', 'paganism', 'principal witness ', 'assistant', 'queen victoria', 'terror cell', 'rura penthe', 'trade union', 'teen drama', 'melting ice', 'scene', 'smart kid', 'flying boat', 'adventure', 'inanimate objects coming to life', 'aristotle', 'car dealer', 'answering machine', 'carnivorous plant', 'energy policy', 'trapeze artist', 'narration from grave', 'bruce wayne', 'viagra', 'childhood trauma', 'terrorist bombing', 'panther', 'gender stereotypes', 'stolen identity', 'hard drive', 'taxi driver', 'suspicion', 'lost', 'giant monster', 'joker', 'secret government organization', 'police convention', 'gypsies', 'eaten alive', 'welding', 'overprotective father', 'financial problem', 'boston garden', 'romania', \"students' movement\", 'misanthrope', 'spectacle', 'bleak comedy', 'sidewalk cafe', 'chain saw', 'archdiocese', 'investigation', 'psychotic fan', 'toy shop', 'gardener', 'same habits', 'wine garden', 'miniaturization', 'russian mafia', 'new york city twin towers', 'shamanism', 'animal horror', 'misfortune', 'poisoning', 'metamorphosis', 'occult torture', 'verbal abuse', 'switchblade', 'burnt face', 'ghost train', 'submerged', 'break-up', 'jeans', 'assertion', 'loan officer', 'lovesickness', 'h. r. giger', 'detroit michigan', 'burn injury', 'pitchfork', 'revenge drama', 'backpack', 'affair', 'medical experiment', 'north pole', 'saturn v rocket', 'based on true events', 'space war', 'covert agency', 'equality', 'babes', 'dredd', 'aunt nephew relationship', 'airplane hijack', 'car set on fire', 'cleopatra', 'eye', 'grandmother', \"women's soccer\", 'donkey', 'missing', 'planning', 'british lancers', 'speaker phone', 'art student', 'heaven', 'troubadour', 'having fun', 'cathedral', 'firemen', 'omaha', 'prime minister', 'doomsday', 'hitwoman', 'wedding chapel', 'buddy cop', 'breaking mirror', 'fan club', 'society for the prevention of cruelty to animals', 'perfume', 'desire', 'lecture', 'hidden corpse', 'narcissism', 'spain', 'mental institution', 'burning man', 'enviromental', 'vengeful ghost', 'engineering', 'lost at sea', 'vegetarian', 'lifestyle', 'anti war', 'jail guard', 'washington d.c.', 'speed date', 'secret lab', 'wedding planer', 'celibacy', 'mysticism', 'emotions', 'body armor', 'scandinavia', 'divorced woman', 'ancient rome', 'jousting', 'distant future', 'animal', 'cultural revolution', 'swimwear', 'scream', 'seduction', 'drummer', 'advertising expert', 'ocean liner', 'dalai lama', 'bully', 'robot fighting', 'wolf whistle', 'wild west', 'criticism and blame', 'old age', 'grave robbing', 'confession booth', 'wall of fire', 'anime', 'poetry', 'talent', 'chemical plant', 'robocop', 'road trip', 'post cold war', 'radio call in show', 'cement truck', 'box cutter', 'chinese military', 'social status', 'atomic reactor', 'solar energy', 'commercial', 'mansion', 'mill', 'world peace', 'comrade', 'change', 'sake', 'ransom', 'doctor', 'surfer dude', 'half sister', 'difficult childhood', 'cover-up', 'devotion', 'commune', 'exploding airplane', 'cyrogenics', 'naval', 'tommy gun', 'civil registry office', 'amish', 'rail car', 'morgue', 'social satire', 'near-death experience', 'superpowers', 'fetish', 'reference to moby dick', 'pain', 'fear of commitment', 'hermes', 'physicist', 'man in wheelchair', 'indian lead', 'pikey', 'egyptian', 'hysteria', 'tour bus', 'escaped prisoner', 'headache', 'english subtitles in original', 'noise complaint', 'husband', 'puke', 'canadian stereotype', 'knife fight', 'travelling circus', 'leech', 'staging', 'video store', 'rocket fired grenade', 'mysterious stranger', 'ideology', 'political correctness', 'show business', 'twist', 'prawn', 'eternal', 'tale', 'angels', 'amsterdam', 'air force one', 'city of argos', 'recording contract', 'press conference', 'killer shark', 'jack of spades', 'fire escape', 'bus ride', 'pinocchio', 'animated flashback', 'chinese tradition', 'stage production', 'tentacle', 'bestiality', 'social experiment', 'day care', 'robot human relationship', 'maniac', 'chinese history', 'year 2079', 'drug dealing', 'rumor', 'tejano', 'schematic', 'pelican', 'pier', 'denver colorado', 'possesion', 'love story', 'boat', 'deepsea', 'extortion', 'toad', 'grasshopper', 'spaceman', 'danube', 'reference to facebook', 'wyoming', 'neo-western', 'orderly', 'radio broadcast', 'street life', 'female singer', 'youngster', 'megaphone', 'rock opera', 'optimism', 'tough love', 'death threat', 'courtroom', 'friendship bracelet', 'separation from family', 'peer pressure', 'transportation', 'garden shears', 'single', 'target', 'talent show', 'enchantment', 'penguin', 'clumsy fellow', 'missing in action', 'based on the bible', 'secretary', 'maryland', 'ejection seat', 'carousel ', 'racoon', \"man of one's dreams\", 'imaginary', 'psychosomatic illness', 'unfinished film', 'deadbeat dad', 'body transformation', 'runaway train', 'ski resort', 'abusive husband', 'hair loss', 'dragon', 'middle east conflict', 'sexual torture', 'arrogance', 'unlikely heroes', 'dream girl', 'indian burial ground', 'bruce frederick joseph springsteen', 'orchid', 'secret', 'fish market', 'snow white', 'nanny', 'intergalactic travel', 'thriller', 'rumpelstilzchen', 'cabin', 'wild horse', 'gardner', 'negotiation', 'employer employee relationship', 'golden fleece', 'bike messenger', 'riding a bicycle', 'telepathy', 'moscow', 'gargoyles', 'truck', 'ancient egypt', 'maori', 'milieu', 'ritual', 'debauchery', 'female nudity', 'rebellion', 'radioactive', 'landslide', 'video surveillance', 'slaughterhouse', 'truck hijacking', 'police investigation', 'work ethic', 'holiday', 'radio wave', 'car siren', 'survival', 'rodent', 'missing son', 'united states–mexico barrier', 'gospel', 'cartographer', 'metropolis', 'film festivals', 'language course', 'mirror', 'knoxville', 'long lost relative', 'glider', 'derelict ship', 'scavenger hunt', 'anniversary', 'kryptonite', 'destiny', 'anonymity', 'american dream', 'constable', 'fat man', 'porcupine', 'medieval india', 'french resistance', 'expensive restaurant', 'last chance', 'safe house', 'tombstone', 'wax museum', 'brazilian', 'virility', 'wrestling', 'buenos aires', 'receiving of stolen goods', 'screwball', 'struggle for survival', 'cop', 'gorilla', 'doping', 'child labour', 'music school', 'evil queen', 'abandoned mine', 'ira', 'abolitionist', 'science fiction', 'theft', 'juvenile prison', 'heiress', 'time loop', 'lifeguard', 'roasted pig', 'louisville', 'fencing', 'gas', 'sniper', 'amazon river', 'wine cellar', 'bankruptcy', 'principal', 'medical research', 'knife throwing', 'river', 'house on fire', 'wrongful imprisonment', 'gang violence', 'ultraviolence', 'king richard', 'prosthetic arm', 'post it', 'chained', 'greed', 'ski', 'brothel', 'lifting person in air', 'edgar allan poe', 'blood splatter', 'crazy', 'another dimension', 'smoking marijuana', 'breakdance', 'justin bieber', 'new french extremism', 'research laboratory', 'bandit', 'kurdish', 'news report', 'blunt', 'panic', 'behavior', 'loss of brother', 'policy and organisations', 'computer expert', 'body horror', 'extremis', 'guide', 'secret passageway', 'man between two women', 'electric fence', 'recreational vehicle', 'stable', 'choir', 'roller derby', 'birth mother', 'heart-throb', 'gainesville florida', 'cheating on partner', 'solar eclipse', 'observatory', 'video phone', 'hospital', 'dishonesty', 'healing gift', 'resort hotel', 'ancient astronaut', 'power takeover', 'puerto rican', 'atlanta', 'irresistible', 'fat woman', 'defense attorney', 'mythology', 'talking', 'meeting', 'regent', 'eyebrow', 'world', 'straight razor', 'burned alive', 'infidelity', 'disfigurement mask', 'temperature drop', 'british pub', 'talking to the camera', 'cool hair', 'tobacco industry', 'police officer shot', 'village and town', 'spanking', 'reality vs fantasy', 'appropriation of another human being', 'alternate history', 'king', 'fatherhood', 'vote', 'pinhead', 'duke', 'hinduism', 'science experiment', 'death star', 'famous theme', 'military officer', \"coup d'etat\", 'boy next door', 'supernova', 'katana', 'eyes', 'dance contest', 'teaching the ways of the world', 'arsonist', 'superglue', 'soul', 'promiscuous mother', 'volcanic eruption', 'exterminator', 'painter', 'father figure', 'hunger strike', 'whispering', 'hacking', 'asylum', 'volleyball', 'new neighbor', 'psychiatric hospital', 'rural ireland', 'society ball', 'marriage proposal', 'picture puzzle', 'television producer', 'teenage prostitute', 'little girl', 'light bulb', 'based on stage musical', 'james bond spoof', 'backwards', 'kgb', 'retirement', 'anthropologist', 'manipulation', 'bank', 'reanimated corpse', 'step father', 'seattle', 'help', 'baseball fan', 'landmark', 'loss of lover', 'unsimulated sex', 'tdrug lord', 'collision', 'tyrant', 'nun in love', 'baroness', 'identity crisis', 'nose', 'plutonium', 'menace', 'cancan dance', 'railway station', 'philadelphia eagles', 'ladder', 'smurf', 'brother-in-law', 'sideshow', 'container', 'high school student', 'jew', 'coast guard', 'cider', 'princess', 'crook couple', 'welder', 'allan quatermain', 'cross country', 'secret passage', 'gender', 'reporter', 'corporatism', 'log cabin', 'france', \"children's home\", 'sorceress', 'mourning', 'medical examiner', 'bribe', 'living dead', 'matt scudder', 'commuter train', 'sex surrogate', 'insurance risk manager', 'country music', 'rest stop', 'nitroglycerin', 'cellular phone trace', 'hanged man', 'horse race', 'velociraptor', 'haunted by the past', 'spin off', 'metal detector', 'recording studio', 'suspicion of murder', 'loretta lynn', 'starlet', 'sparta greece', 'cat thief', 'polio victim', 'aurora borealis', 'rent', 'free spirit', 'hurricane', 'rapper', 'brigands', 'super speed', 'escaped convict', 'killer', 'phobia', 'passport', 'line drawing', 'man eaten by monster', 'backpacker', 'jew persecution', 'chauffeur', 'floating in the air', 'san remo', 'hustler', 'wales', 'roller skates', 'himalaya', 'werewolf child', 'countryside', 'katana sword', 'sexual abuse', 'cross cultural relationship', 'forgiveness', 'brutal death', 'los angeles riots', 'christmas holiday', 'tragic villain', 'mall', 'crop circle', 'workplace humor', 'jigsaw', 'brood', 'quantum computer', 'supernatural power', 'lady diana spencer', 'stunts', 'llama', 'suicide by gunshot', 'chile', 'tween girl', 'archeologist', 'maid of honor', 'turboman', 'loss of wife', 'hippie lifestyle', 'community', 'ramses', 'commando mission', 'ladykiller', 'thailand', 'love letter', 'throat slitting', 'teen sex comedy', 'englishwoman', 'arcade', 'apparition', 'dog biscuit', 'sand dancing', 'poster', 'barbecue', 'heroic mission', 'frisbee', 'apoplectic stroke', 'boarding school', 'new baby', 'new jersey', 'alien infection', 'waffle', 'hatchet', 'bombay india', 'bloody body of child', 'harvard business school', 'mafia boss', 'miracle', 'mentor', 'high', 'chemotherapy', 'nuclear threat', 'soap opera', 'dark carnival', 'ambush', 'macau china', 'tv studio', 'bomb', 'levee', 'journey round the world', 'babysitter', 'adoption', 'revolver', 'toddler', 'cat burglar', 'diaper', 'secret laboratory', 'ballet', 'arachnophobia', 'snooping', 'unicorn', 'illegitimate son', 'death of a friend', 'southeast asia', 'woman between two men', 'u boat', 'jewel heist', 'cartoon reality crossover', 'soaked clothes', 'fisherman', 'missionary', 'rising star', 'entity', 'student visa', 'violent husband', 'drug overdose', 'learning and teaching', 'scalp', 'bail', 'catholic school', 'alien', 'reference to bob dylan', 'british secret service', 'chancel', 'giant vegetable', 'madman', 'clowning', 'grandmother granddaughter relationship', 'clown', 'guantánamo', 'fbi agent', 'choreographer', 'horror', 'denmark', 'grief', 'united kingdom', 'sexual freedom', 'ancient civilization', 'frog prince', 'violent father', 'pixels', 'priest', 'phasing', 'hair', 'rage', 'gondola', 'surrogate mother', 'american football', 'golf war', 'inflatable doll', 'overachiever', 'police station', 'conscience', 'hijacking', 'dark horse comics', 'henchmen', 'ninjutsu', 'illegal drug', 'con man', 'street war', 'pavilion', 'paparazzi', 'splatter', 'insurance salesman', 'ice', 'madness', 'hippie', 'messenger', 'race against time', 'vulkan', 'chemical', 'rice', 'librarian', 'performer', 'lethal virus', 'institutionalization', 'mannequin', 'beach house', 'catholic guilt', 'step brother', 'mighty mo', 'theatre director', 'war filmmaking', 'silver surfer', 'mountain cabin', 'rural', 'female prime minister', 'playground', 'sexual arousal', 'doll', 'commando', 'oxygen tank', 'nervous breakdown', 'architect', 'no opening credits', 'based on novel', 'wild child', 'spiritualism', 'thunderbirds', 'dual role', 'montana', 'ultimate frisbee', 'vegetable garden', 'sadistic', 'mystery', 'central and south america', 'space marine', 'oakland', 'rehabilitation', 'british monarchy', 'diet', 'cinema', 'barbarian', 'magical object', 'mask', 'annie oakley', 'kung fu master', 'crawling hand', 'job promotion', 'captain america', 'publisher', 'forced to kill', 'urban life', 'locksmith', 'car garage', 'losing money', 'car movie', 'mexican', 'terraforming', 'gallery', 'stetson', 'ex priest', 'boxer shorts', 'interracial marriage', 'german submarine', 'climbing up a wall', 'overboard', 'stop motion', 'witch trial', 'judiciary', 'pile of dead bodies', 'bank fraud', 'rock and roll', 'funny nazi', 'symbologist', 'step sister', 'ressentiment', 'irish catholic', 'bullying', 'the doors', 'havanna', 'silicon valley', 'vengeful spirit', 'facial scar', 'leg brace', 'individual', 'audience', 'scrooge', 'laughter', 'mongolia', 'dead boy', 'shock in the end', 'theodore roosevelt', 'narcissistic personality disorder', 'cons and scams', 'spider', 'caper', 'vinegar', 'blacksmith', 'tea', 'witch hunter', 'cold war', 'rubble', 'blue collar worker', 'sequins', 'tax evasion', 'trip', 'space suit', 'photographic memory', 'exorcism', 'train crash', 'alienation', 'zagreb', 'doberman', 'name calling', 'terror', 'gathering', 'laser', 'che guevara', 'broken lizard', 'death of brother', 'descendant', 'dubai', 'f word', 'unlikely lovers', 'monty python', 'epic', 'prison', 'trapped underwater\\xa0', 'steam locomotive', 'film maker', 'wedding reception', 'window', 'pakistan', 'supernatural', 'deserted island', 'manhattan, new york city', 'military law', 'interrupted wedding', 'balloon', 'pirate radio', 'assaulting an officer', 'siren', 'middle-earth (tolkien)', 'hawaii', 'drug rehabilitation', 'tax collector', 'chinatown', 'exchange student', 'occultism', 'club', 'interracial couple', 'holy water', 'cannabis', 'all girl band', 'different worlds', 'falling elevator', 'man-woman relation', 'dead teenager', 'sibling', 'pro bono', 'flood', 'prehistoric egg', 'poseidon \\xa0', 'surgery', 'religious', 'self exile', 'health care', 'anchorage alaska', 'antidote', 'search for meaning', 'socially deprived family', 'discovery', 'oil refinery', 'norad', 'falsely accused', 'europe', 'soulmates', 'laguna beach california', 'deja vu', 'goat', 'mislaid trust', 'warlord', 'dillinger', 'broken engagement', 'british sailor', 'streaking', 'murderer', 'voodoo ritual', 'anti authority', 'airplane crash', 'western roman empire', 'girl', 'submachine gun', 'multiple personality', 'veterinary', 'crucifix', 'basketball team', 'lesbian relationship', 'singing false', 'skull mask', 'social decay', 'caste system', 'knights of the round table', 'flat', 'sikh', 'inventor', 'burnout', 'reality', 'marital infidelity', 'brother sister relationship', 'thick accent', 'bell', 'axe', 'motherhood', 'candle', 'riverboat', 'bearer bonds', 'theory', 'publicity', 'suburbian idyll', 'duringcreditsstinger', 'laxative', 'shakespeare', 'floating on inner tube', 'music video', 'united nations', 'singing narrator', 'oven', 'book', 'mosque', 'interview', 'hobo', 'dogsitter', 'alley', 'support', 'empire', 'boardwalk', 'anchor', 'lap dance', 'ghost town', 'sin', 'grits', 'cosmology', 'racial segregation', 'transhumanism', 'royal air force', 'social differences', 'attempted jailbreak', 'youtube', 'narcotics cop', 'billy the kid', 'come back', 'catholic orphanage', 'invulnerability', 'hitchcockian', 'nuclear war', 'breeding', 'indiana jones', 'pay phone', 'animal lead', 'working in the nude', 'talkie', 'wake', 'iranian', 'dwarves', 'satan', 'irland', 'hanging', 'though guy', 'baltimore', 'snowboarding', 'christian', 'hamburg germany', 'body-swap', 'chaos theory', 'guitarist', 'obituary', 'ferris wheel', 'telescope', 'gunfighter', 'parallel world', 'biracial', 'child driving a car', 'anarchist', 'loss of father', 'framed for murder', 'helicopter pilot', 'medical illustrator', 'father son conflict', 'police harassment', 'electronic voice phenomena', 'head blown off', 'hide and seek', 'diplomat', 'fantasy', 'climate change', 'masked superhero', 'pretend relationship', 'midnight', 'college freshman', 'reference to superman', 'politics', 'labyrinth', 'human subjugation', 'death of daughter', 'prince', 'military spoof', 'franco regime', 'victorian england', 'screaming', 'riding accident', 'cult leader', 'human cannonball', 'dog cat friendship', 'berkeley', 'rhedosaurus', 'saved from hanging', 'chapel', 'saber-toothed tiger', 'godmother', 'catholic church', 'curator', 'wallet', 'hacker', 'unofficial remake', 'seminary', 'pest control', 'merchant marine', 'shopping', 'titanic', 'ceo', 'erased memory', 'u.s. ambassador', 'opposites', 'human animal relationship', 'escape artist', 'cross breed', 'karate class', 'dmt', 'mars civilization', 'space mission', 'thompson sub machine gun', 'saigon', 'robin hood', 'jaipur india', 'cousin', 'shape shifter', 'the color blue', 'self-fulfilling prophecy', 'minotaur', 'tunnel construction', 'recess', 'malcolm x', 'extreme sadism', 'woman in jeopardy', 'bag over head', 'farm worker', 'mfs', 'rock', 'master and servant', 'boa constrictor', 'magnet beam', 'military base', 'sponge', 'jacuzzi', 'rogue agent', 'kenia', 'death of wife', 'romulus', 'belgium', 'salt lake city utah', 'spider queen', 'insecurity', 'boyfriend', 'pogrom', 'china town', 'time machine', 'crying woman', 'video gamer', 'insanity', 'complication', 'suitcase', 'institution', 'one man army', 'preparation', 'jordan', 'pianist', 'malnutrition', 'lager', 'man vs machine', 'bed', 'forty something', 'force field', 'aggression by animal', 'strangulation', 'small town murder', 'vengeful', 'hostage situation', 'stolen painting', 'casting', 'campsite', 'tape recorder', 'witchcraft', 'showboat', 'elephant trainer', 'interrupted hanging', 'robin', 'magic trick', 'shrimping', 'chinese civil war', 'weasel', 'computer', 'jungle', 'group sex', 'bowling', 'autograph', 'snowball fight', 'fling', 'high stakes', 'hercules', 'pittsburgh steelers', 'incest overtones', 'corruption', 'billard', 'spitting blood', 'psychiatric ward', 'realtor', 'pet dog', 'dutch', 'sex-shop', 'samurai', 'mass destruction', 'blood bath', 'vulgar', 'loser', 'pizza boy', 'outcast', 'travel agent', 'generation-z', 'new york subway', 'shih tzu', 'venice', 'space race', 'masturbation', 'southern belle', 'hedonism', 'judo', 'criminal underworld', 'search', 'settler', 'ant', 'blonde', 'master villain', 'birth', 'communism', 'swinging 60s', 'sleeper agent', 'destruction  of mankind', 'sagen', 'crash', 'charlatan', 'pianosa', 'false identity', 'drag racing', 'phantom jam', 'boy scouts', 'elderly', 'attic', 'trucker', 'agent coulson', 'counter plot', 'masked hero', 'pledge', 'clubbing', 'accident', 'battle assignment', 'voice', 'laserpointer', 'cops', 'remorse', 'part animation', 'candelabra', 'pipe smoking', 'couples therapy', 'fur trapper', 'foster home', 'loft', 'infection', 'appearance', 'contortionist', 'call', 'prehistoric times', 'deception', 'student protest', 'bong', 'milkman', 'storm at sea', 'monkey king', 'steroids', 'restaurant owner', 'salesclerk', 'vanishing figure', 'morning prayer', 'unfulfilled love', 'motorboat', 'cowboy', 'cadillac convertible', 'pioneer village', 'television repair', 'code red', 'wildlife reserve', 'aerial combat', 'pimp', 'mother daughter relationship', 'invasive species', 'photo studio', 'jet engine', 'imaginary land', 'symbol', 'aura', 'cold', 'pendulum', 'splits', 'mafia accountant', 'law student', 'wig', 'car jump', 'gene manipulation', 'junkie', 'wedding vows', 'profit', 'irish immigrant', 'serial killer', '2000 ad', 'bullfighting', 'referee', 'reference to socrates', 'poseidon', 'bite', 'girl next door', 'jamaica', 'police raid', 'end is here', '15th century', 'country house', 'head of state', 'language barrier', 'battle of the isonzo', 'pride', 'courthouse', 'alcoholic', 'search party', 'teddy bear', 'mechanical hand', 'alien technology', 'alien race', 'accountant', 'mercy petition', 'partisan', 'stampede', 'forever', 'songwriter', 'director cameo', 'jedi master', 'minions', 'sex scene', 'gong', 'mumblecore', 'widower', 'flash mob', 'missile', 'entrapment', 'bad father-in-law', 'rottweiler', 'speed of light', 'heroism', 'tsunami', 'hungarian', 'extension ladder', 'political prisoner', 'vienna', 'pizza', 'manila philippines', 'saving christmas', 'beating', 'mandarin', 'coma', 'boating accident', 'william blake', 'cellar', 'based on video game', 'smithsonian', 'bureaucrat', 'amusement park', 'low self esteem', 'vegan', 'skateboarding', 'insomnia', 'kkk', 'condom', 'inuit', 'tony stark', 'refugee', 'greedy developer', 'chef', 'kennedy assassination', 'bullfrog', 'bishop', 'silver', 'cheating wife', 'fraternity pledge', 'christmas party', 'inspired by a true story', 'dancing master', 'southern france', 'miami', 'invisible woman', 'formaldehyde', 'secret formula', 'evil doctor', 'barricade', 'stew', 'wrigley field', 'private', 'pursuit', 'economics', 'apple tree', 'cell', 'heist', 'callboy', 'giraffe', 'necronomicon', 'rave', 'figure skating', 'bad mother-in-law', '1940s', 'despair', 'childlessness', 'sugar', 'modern day adaptation', 'pyramid', 'cairo', 'long distance relationship', 'gum', 'tidal wave', 'supreme court', 'merry go round', 'heterosexual', 'burning of witches', 'trapped underground', 'stakeout', 'soul transference', 'arena', 'rope', 'hitchhiker', 'pigeon', 'rich snob', 'shrew', 'air conditioner', 'george washington', 'precocity', 'military school', 'head stomp', 'los angeles international airport (lax)', 'budapest', 'tension', 'casino owner', 'unrequited love', 'detective', 'gay relationship', 'sigmund freud', 'death penalty', 'twister', 'torture by the police', 'san diego', 'severed foot', 'stairs', 'army base', 'epinephrine', 'tools', 'time capsule', 'parking lot', 'truth', 'self esteem', 'crimea', 'psychologist', 'biological experiment', 'memory loss', 'violence against women', 'crisis of conscience', 'friends with benefit', 'the saint', 'business rivalry', 'truth serum', 'cocoon', 'new world', 'child murder', 'girl scouts', 'millennium', 'wall safe', 'hatred', 'based on comic book', 'gift', 'liberal', 'class', 'u.s. navy', 'child prodigy', 'haunted house', 'refused services', 'ex-con', 'pope', 'human being', 'ford mustang', 'zoo', 'giant crocodile', 'nativity', 'comedian', 'olympic games', 'literary adaptation', 'existentialism', 'kingpin', 'dragonheart', 'religious fanatic', 'downworlder', 'shot in the shoulder', 'nuclear scientist', 'red dress', 'perversity', 'black and white scene', 'chain of command', 'ornithology', 'horse whisperer', 'foreshadowing', 'warning', 'ferrari', 'santa claus', 'sleeping beauty', 'live television', 'reference to huckleberry finn', 'hearing voices', 'hammer', 'naked', 'first love', 'evil child', 'hotel suite', 'criminal lawyer', 'quarry', 'biplane', 'liaison', 'arms dealer', 'bosnian war of 1992-1995', 'drug abuse', 'muhammad', 'waltzing matilda', 'ottoman empire', 'behind enemy lines', 'injustice', 'struggling', 'troll', 'life and death', 'camelot', 'car seat', 'drill instructor', 'bucket list', 'rich vs poor', 'boat accident', 'uganda', 'integration', 'testament', 'online hookup', 'naval battle', 'female martial artist', 'blind tutor', 'song writing', 'power plant', 'child vampire', 'chastity', 'beer bottle', 'blood type', 'shenanigans', 'fictional place', 'cajun', 'snack bar', 'victim', 'look-alike', 'norwegian', 'famous', 'dead brother', 'buddhist monk', 'riot', 'game of death', 'blackjack', 'missing painting', 'gala', 'miraculous event', 'golddigger', 'twins separated at birth', 'based on short film', 'reference to mutt and jeff', 'brooklyn dodgers', 'georgia europe', 'fast', 'diary', 'bomb constructor', 'motel', 'dark comedy', 'al qaeda', 'racial tension', 'fire fighting', \"children's book\", 'art theft', 'stolen truck', 'idiot', 'super powers', 'salem', 'oregon', 'uss john paul jones', 'male camaraderie', 'plan', 'soviet', 'love affair', 'hot air balloon', 'alcoholic drink', 'woman drowned', 'the lone ranger', 'marketing', 'american president', 'driving through a wall', 'parasite', \"you've got red on you\", 'brumbies', 'teenage hero', 'police chase', 'beatnik', 'biography', 'outlaw', 'film score', 'bayou', 'dog dirt', 'cell phone', 'declaration of love', 'gangster boss', 'cat lady', 'jade', 'ancient world', 'excavation', 'bullet dodging', 'examination', 'third world', 'bomb explosion', 'missing person', 'raised middle finger', 'deluge', 'al capone', 'spook', 'factory', 'acting', 'dostoevsky', 'begnadigung', 'stock-car-race', 'tractor', 'nelson mandela', 'healing', 'columnist', 'county jail', 'confession', 'classroom', 'tambourine', 'blood lust', 'hazing', 'revivalism', 'deer', 'irish civil war', 'phenomenon', 'zookeeper', 'hometown', 'undertaker', 'writing', 'honey pot', 'core melt', 'locust', 'mistaken for a special education student', 'impersonating a police officer', 'brokerage', 'unsociability', 'sport competition', 'mocumentary', 'iraq war veteran', 'horniness', 'coastline', 'horseback riding', 'bridge', 'coven', 'jam', 'potion', 'u.s. congress', 'high school dance', 'band singer', 'funeral', 'quest', 'illusion', 'musician', 'briefs', 'salt water', 'inspired by true events', 'mooning', 'war trauma', 'lighthouse', 'vatican', 'stripper', 'stigmata', 'sin eater', 'pot head', 'alien abduction', 'boxing school', 'flush', 'audio cassette', 'parent child relationship', 'cooking', 'spider bite', 'aircraft carrier', 'covert operation', 'south korea', 'falling down a hill', 'ex nazi', 'leap in time', 'drug mule', 'revolution', 'pill', 'coworker relationship', 'temple', 'alien encounter', 'cheerleading', 'kenya', 'fair', 'christmas tree', 'bass guitarist', 'resident evil', 'law man', 'drunkenness', 'apostle', 'ghetto', 'lenin', 'kinky', 'morphing', 'future noir', 'rubin', 'maine', '1950s', 'eastern block', 'jealous husband', 'campfire story', 'desert scientist', 'sweatshop', 'charity', 'lightsaber', 'innocent', 'gadfly', 'mormon', 'lemonade', 'animal lover', 'compton california', 'yard sale', 'route 66', 'hockey game', 'jewelry heist', 'fratricide', 'wisconsin', 'twin sister', 'tricycle', 'invasion of privacy', 'harassment', 'e-mail', 'stick fighting', 'dean', 'male female relationship', 'bus station', 'single mother', 'body exchange', 'ozploitation', 'department store', 'sunken treasure', 'medieval', 'sexuality', 'on the road', 'hiding place', 'invite', 'female mercenary', 'honeymoon', 'origins of life', 'ceremony', 'the beatles song', 'scalping', 'lava', 'war zone', 'dead fish', 'celebration', 'mind games', 'machinegun', 'telephone call \\xa0', 'ferry boat', 'friends', 'delinquent', 'suspicious death', 'shaved head', 'sepia color', 'vulture', 'oktoberfest', 'southern usa', 'face transplant', 'metereologist', 'perfection', 'gain', 'cello', 'videotape', 'cruelty', 'straw hat', 'mountaineering', 'recording', 'captain nemo', 'high dive', 'colonialism', 'phantom', 'diving', 'glue sniffing', 'winter', 'monkey warrior', 'heroin', 'home alone', 'group of friends', 'torture', 'creepy neighbor', 'desert thief', 'toilet', 'faked death', 'tenement', 'ocean floor', \"new year's eve\", 'dead animal', 'sledgehammer', 'woman reporter', 'dragging someone', 'weekend', 'school party', 'joint chiefs of staff', '19th century', 'stowaway', 'motorcycle crash', 'manhunt', 'deadline', 'teacher student sex', 'night vision', 'catholic priest', 'anthology', 'civil rights', 'competition', 'persia', 'bon bon', 'monk', 'opec', 'arrest', 'cliff', 'heal', 'sentence', 'conveyor belt', 'jewel', 'innocence lost', 'pipeline', 'gopher', 'inept assistant', 'slaughter', 'teenage romance', 'aristocrat', 'mole', 'utah', 'sunlight', 'interracial relationship', 'torture porn', 'bar fight', 'selma', 'man punching a woman', 'revenge', 'based on graphic novel', 'mafia', 'old photograph', 'drug dealer', 'pug', 'male nudity', 'arizona', 'swept away', 'paranoia', 'bikini', 'carefree', 'coal mining', 'title of nobility', 'out of control', 'prison guard', 'globalization', 'advertising', 'car wash', 'painting', 'self-awareness', 'landfill', 'exploring', 'new york state', 'voice over', 'fashion journal', 'vanity', 'lust', 'murder of a police officer', 'dutch eastindian company', 'alamo', 'illegal drugs', 'castingshow', 'salvage', 'war', 'fake boyfriend', 'isolated', 'nation', 'motorbike', 'gunfight', 'office', 'countdown', 'sound barrier', 'investment', 'back stabbing', 'arrow', 'testing', 'mind reading', 'lake', 'chocolate', 'occult', 'priestess', 'snake attack', 'still', 'aspiring actor', 'mountain lake', 'bungee-jump', 'disfigurement', 'attachment to nature', 'estranged wife', 'jesus christ', 'essex', 'laser gun', 'subtitled scene', 'big brother', 'iraq', 'separation', 'police surveillance', 'movie studio', 'pilot hero', 'poker', 'money bag', 'horse racing', 'woman with glasses', 'distress', 'macabre', 'trailer park', 'stamp', 'nietzsche', 'reprimand', 'female archeologist', 'local speciality', 'role reversal', 'gambler', 'man with glasses', 'mechanic', 'charismatic leader', 'geek', 'mass media', 'cenobites', 'good deed', 'persecution', 'macho', 'finger', 'black market', 'over-the-hill fighter', 'zeppelin', 'ponzi scheme', 'giant cockroach', 'metaphysics', 'view askew', 'stonehenge', 'samba', 'polar zone', 'book comes to life', 'pirate gang', 'death row', 'surprise', 'stroke of fate', 'human weakness', 'danger of life', 'dancer', 'intellectually gifted', 'diamond heist', 'nightmare', 'train station', 'soho london', '1990s', 'tripping', 'adrenalin', 'refrigerator', 'sleeping', 'spaceship', 'gambling', 'labor', 'therapy', 'film business', 'midlife crisis', 'police detective', 'protection', 'mountain village', 'lifeboat', 'play adaptation', 'national guard', 'working mum', 'teenage crush', 'time traveler', 'one night', 'tumor', 'mermaid', 'black panther', 'cabriolet', 'nature', 'ego', 'singer', 'sea monster', 'career', 'casino', 'dog shelter', 'als', 'joint', 'held at gunpoint', 'boxing day', 'toxic', 'wallace & gromit', 'epic battle', 'freedom of speech', 'dressing', \"life's dream\", 'television broadcast', 'ball', 'lgbt teen', 'meth lab', 'ailul al aswad', 'autonomy', 'rape and revenge', 'doggystyle', 'hidden identity', 'rough sex', 'hiv', 'private school', 'climber', 'air attack', 'military crime', 'love at first sight', 'ares', 'good becoming evil', 'crossdressing', 'foot', 'tarkovskyesque', 'barbed wire', 'boxing trainer', 'alien planet', 'combover', 'radio series', 'railroad', 'retirement home', 'howling', 'broadway', 'publishing', \"women's prison\", 'cellist', 'ham radio', 'ireland', 'zombie apocalypse', 'bus trip', 'election', 'christmas parade', 'motorcycle gangs', 'public toilet', 'sawed off shotgun', 'parenting', 'tourist', 'coffee grower', 'day of the dead', 'fraternity house', 'evil alien', 'mic stand', 'jerusalem', 'subway train', 'sausage', 'spelling bee', 'sperm', 'sherwood forest', 'servant', 'reputation', 'stepmother stepdaughter relationship', 'estafa', 'night watchman', 'gang of thieves', 'gibberish', 'heat', 'animal in cast credits', 'black panthers', 'briefing', 'manhole', 'british empire', 'engineer', 'amputee', 'johannesburg', 'grieving widower', 'tribe', 'duchess', 'entertainer', 'business', 'stormtrooper', 'animation', 'family dinner', 'predator', 'trans-siberian railway', 'depth charge', 'corporate take over', 'inferiority complex', 'schizophrenia', 'revolt', 'rhyme battle', 'sexual revolution', 'wealth differences', 'islington england', 'chase scene', 'construction site', 'cartoon chicken', 'fairy tale', 'quarantine', 'repairman', 'insurance agent', 'israeli', 'key west', 'woman fights man', 'testting', 'basic rights and human rights', 'naturalist', 'entrance examination', 'squirrel', 'elvis', 'housebreaking', 'mobster', 'cholo', 'marriage crisis', 'dove', 'british politics', 'fashion model', 'dentist', 'body snatching', 'picnic', 'basketball game', 'short', 'savagery', 'pregnant minor', 'lost child', 'search for dog', 'underground', 'childhood friends', 'vaccine', 'book editor', 'diva', 'pilot', 'royal family', 'scholarship', 'parts of dead body', 'baseball player', 'stenographer', 'ex-husband ex-wife relationship', 'sheep', 'car bomb', 'valentine', 'playing cards', 'economic theory', 'taboo', 'suspended animation', 'intensive care', 'collector', 'fire chief', 'kaiser nero', 'way of life', 'peseta', 'ride', 'african american', 'fear of the dark', 'head coach', 'obsessive quest', 'drug crime', 'detroit', 'show producer', 'ankle holster', 'music store', 'skateboard', 'mephisto', 'loss of faith', 'manuscript', 'overweight child', 'countess', 'russian spy', 'burial ground', 'lawlessness', 'structure', 'humor', 'experimental surgery', 'chicken farm', 'buried treasure', 'mythical creature', 'october', 'cliques', 'peter pan syndrome', 'contest', 'jet lag', 'boss', 'broken trachea', 'amazon rainforest', 'walking dead', 'war against terror', 'violin', \"homer's iliad\", 'drag queen', 'gang warfare', 'romantic comedy', 'summer job', 'opus dei', 'teenage boy', 'irreverence', 'captivity', 'rural setting', 'past relationship', 'survivalist', 'cynic', 'art house', 'dream', 'catwoman', 'broken glass', 'incest', 'totalitarianism', 'extreme sports', 'strong woman', 'father-in-law', 'exorcist', 'battlefield', 'brumby', 'to shoot dead', 'catacombs', 'baldness', 'radio telescope', 'medal', 'goon', 'exploding ship', 'rodeo', 'teenage daughter', 'kendo', 'groupthink', 'transvestite', 'worship', 'tough girl', 'iconic', 'tonto', 'esther', 'pilot school', 'record store', 'valor', 'womb', 'ohio', 'theatrical backer', 'special car', 'bird', 'girl disguised as boy', 'surprising', 'volcano', 'london underground', 'disorder', 'disgruntled worker', 'graveyard', 'ruse', 'afghanistan', 'falling in love', 'eating contest', 'green', 'gay', 'manufacturing', 'st. petersburg russia', 'face slap', 'cabinet officer', 'spice', 'london england', 'tv station', 'lobotomy', 'danger', 'cellphone video', 'exploding planet', 'psychopath', 'highlands', 'hunting party', 'rajah', 'arrested development', 'downsizing', 'safe', 'plato', 'ledge', 'based on radio show', 'black american', 'wimbledon', 'czech', 'car race', 'hat', 'taliban', 'adultery', 'crocodile', 'folk horror', 'creativity', 'wwe', 'turning the tables', 'political satire', 'new school', 'anti conformity', 'loss of a child', 'gang rape', 'lion attack', 'fraud', 'medical test', 'musical', 'alliance', 'delorean', 'sexual discrimination', 'religion', 'stalker', 'black cop', 'jewish convert', 'glamour', 'action hero', 'prosecutor', 'stock broker', 'chicago', 'urination', 'lucky charm', 'conference', 'pop singer', 'deceit', 'video', 'slapstick', 'responsability', 'funeral director', 'audio tape', 'río 1', 'based on tv series', 'palestinian', 'rabbit', 'eye specialist', 'groundhog', 'weed+', 'studio tour', 'inheritance', 'racism', 'heroine', 'judo throw', 'knife in hand', 'swastika', 'watching tv', 'investment firm', 'analingus', 'rejection', 'fetishism', 'historical', 'auto theft', 'buried alive', 'sphinx', 'exposé', 'memories', 'swashbuckler', 'unemployment', 'virgin', 'radiation', 'holy grail', 'invisible', 'blues', 'marquee', 'helplessness', 'columbia', 'minister for education', 'dinner party', 'x rayed skeleton', 'euthanasia', 'dying', 'visual effect', 'hyperspace', 'wildcatter', 'passion for collection', 'job transfer', \"women's sexual identity\", 'bourgeoisie', 'southwestern u.s.', 'christianity', 'allegory', 'deadly', 'springfield', 'human trafficking', 'deal', 'caddy', 'crystal skull', 'philosopher', 'lesson', 'overthrow olympus', 'physical deformity', 'enemy', 'cyclops', 'single parent', 'police brutality', 'heir', 'kampfjet', \"sorcerer's apprentice\", 'computer hacker', 'changeling', 'traffic jam', 'checks and balances', 'surreal', 'online predator', 'big city', 'bath house', 'north atlantic', 'son', 'hemophagia', 'prayer', 'diabetic', 'political activism', 'big dreams', 'confederate', 'true', 'episode film', 'shot in the back', 'septic tank', 'stealing', 'stolen novel', 'peru', 'communications expert', 'arms', 'apartment', 'war crimes', 'prince albert', 'costume party', 'discontentedness and displeasedness', 'bad boss', 'liquor', 'indian tribe', 'nashville tennessee', 'mumblegore', 'ex cia agent', 'hick', 'tough cop', 'dance company', 'immigration law', 'mystery killer', 'porno star', 'right hand man', 'plastic surgery', 'headquarter', 'negligent homicide', 'group dynamics', 'leopard', 'scandinavian', 'giant wave', 'angry mob', 'benzine', 'village', 'seven deadly sins', 'rivalry', 'decapitation', 'drug deal', 'cottage', 'hacky sack', 'ranchers', 'moviemaking', 'comic book shop', 'blast', 'monkey', 'class society', 'corpse', 'performance art', 'razor blade', 'casualty of war', 'war memorial', 'thanksgiving', 'handkerchief', 'camera', 'horniness agent', 'reality tv', 'sniper rifle', 'cactus', 'langley virginia', 'gnome', 'admissions', 'unfaithful husband', '3d', 'tearjerker', 'virginity', 'jewel robbery', 'high school rivalry', 'walking cane', 'decision', 'mental hospital', 'sahara', 'astrophysics', 'pharaoh', 'male nanny', 'mujahid', 'criminal gang', 'upper class', 'insult', 'antique', 'wettermann', 'severed head', 'bipolar', 'future', 'light', 'young heroes', 'twilight zone', 'newspaper office', 'political assassination', 'growing up', 'childhood sexual abuse', 'blindness and impaired vision', 'conquest', 'house party', 'eraser', 'airplane', 'gay sex', 'coke', 'catatonia', 'september 11 2001', 'war correspondent', 'clubhouse', 'lobby', 'hunted', 'canoe', 'batman', 'hang gliding', 'limousine', 'wasteland', 'lawn mower', 'talisman', 'koran', 'unconsciousness', 'car crash', 'agriculture', 'craftsman', 'satanic cult', 'bathhouse', 'book store', 'world trade center', 'terrorist', 'player', 'helicopter', 'beautiful girl', 'cia', 'judaism', 'bomb squad', 'shaving', 'alabama', 'drug cartel', 'south central l.a.', 'punk', 'pennsylvania coal miner', 'duet', 'heartbreak', 'child smoking', 'rebellious youth', 'witch hunt', 'treasure map', 'tragedy', 'newspaper review', 'behind the scenes', 'prototype', 'skyscraper', 'crush', 'stabbing', 'science', 'new life', 'computer screen', 'photography', 'retired', 'vampire', 'jason vorhees', 'teenage pregnancy', 'bank vault', 'back to school', 'sandman', 'surfboard', 'irish republican army', 'mongrel', 'canuxploitation', 'virtual fight', 'aston martin', 'expert marksman', 'tournament', 'stringer', 'rich parents', 'metal', 'fall in love', 'reincarnation', 'parish hall', 'blind', 'method acting', 'cat vs dog', 'bus accident', '\\xa0flipping coin', 'donut', 'traffic policeman', 'falling down stairs', 'internal affairs', 'brain', 'fire truck', 'con artist', \"picking one's nose\", 'damage', 'private eye', 'security', 'pandemic', 'ritual sacrifice', 'tudors', 'public', 'car breakdown', 'penis', 'rainstorm', 'earth', 'wave', 'englishman', 'task force', 'drink', 'luxury', 'jewish', 'room exchange', 'small town', 'mischief', 'hatter', 'environmental disaster', 'iguana', 'estrangement', 'following someone', 'police shootout', 'superstition', 'space opera', 'sitting on a toilet', 'pompeii', 'based on fairy tale', 'cherub', 'bludgeoning', 'cryonics', 'chief of police', 'moped', 'off screen rape', 'publicist', 'shenanigan', 'argentine president', 'british overseas territory', 'trapped in an elevator', 'piano lessons', 'grieving', 'garden gnome', 'warp speed', 'march', 'soviet union', 'violent death', 'kubakrise', 'hotel room', 'omaha beach', 'cheat on husband', 'origin', 'futuristic', 'scientology', 'perversion', 'peter pan', 'scuba', 'superhuman strength', 'dragonslayer', 'probation assistant ', 'mental illness', 'in flagranti', 'great britain', 'tracking device', 'determination', 'coal', 'shooting practice', 'tall ship', 'patenonkel', 'runaway', 'beauty queen contest', 'brain tumor', 'autobiography', 'industrial revolution', 'melodrama', 'shocking', 'reference to family circus', 'water pollution', 'psychic power', 'seed', 'opera', 'islamabad', 'coffee plantation', 'photo lab', 'audition', 'western', 'bomber pilot', 'bulle', 'igloo', 'bowling team', 'arm ripped off', 'hipster', 'vacation', 'talk radio', 'cab driver', 'african', 'killing', 'corrupt policeman', 'national park', 'french and indian war', 'slow cinema', 'armageddon', 'courage', 'teen superheroes', 'power', 'wedding', 'the supremes', 'mine', 'old couple', 'waitress', 'barrio', 'pollution', 'mars', 'prisoner', 'sponsorship', 'friendship', 'ancient evil', 'convertible', 'war ship', 'release from prison', 'trail of blood', 'moon landing', 'florist', 'samurai sword', 'self-help', 'door', 'volcanic ash', 'one against many', 'family secrets', 'film', 'maya civilization', 'minidisc', 'tennis', 'cryptographic device', 'gotham city', 'hedge fund', 'drugged cookie', 'ice fishing', 'reggae', 'shot in the throat', 'spirituality', 'dining hall', 'elephant', 'president', 'dolphin', 'century', 'female assassin', 'proof', 'uneasy alliance', 'waffen ss', 'man hunt', 'gun rampage', 'overturning car', 'transylvania', 'freemason', 'anthropomorphism', 'skull', 'fortress', 'chance encounter', 'blindness', 'hired killer', 'doomsday device', 'lemur', 'midwife', 'endangered species', '卧底肥妈', 'headbanging', 'election campaign', 'floating ice', 'ufo', 'homelessness', 'funny', 'immigrant', 'church bells', 'serial murder', 'lost of friend', 'sidekick', 'trestle', 'realism', 'roman', 'religious sect', 'vietnam veteran', 'clairvoyance', 'ghost world', 'escort', 'demonstration', 'drugs', 'beach resort', 'aborigine', 'strip show', 'antarctica', '1960s', 'dock', 'innkeeper', 'battleship', 'jazz band', 'ninja', 'scepter', 'city hall', 'reformer', 'military service', 'helicopter crash', 'tangier morocco', '\\xa0strange noise', 'epistaxis', 'assassination', 'sodomy', 'heart', 'ku klux klan', 'crystal machine', 'lunar mission', 'black and white', 'chucky', 'challenger', 'neighborhood watch', 'hit man', 'soccer ball', 'despot', 'yacht', 'apartment building', 'teachers and students', 'slacker', 'traitor', 'sport', 'daydream', 'alien parasites', 'arkansas', 'patriotism', 'in the closet', 'cotton', 'remote control', 'methamphetamine', 'hellgate', 'indian territory', 'waterloo', 'nature documentary', 'job seeking', 'ethnic stereotype', 'social services', 'flop', 'orgy', 'sperm bank', 'staatsanwältin', 'animated credits', 'medium', 'depressed mom', 'indians vs. settlers', 'floppy disk', 'tattoo shop', 'seismologist', 'appeal', 'convenience store', 'night life', 'computer games', 'alice in wonderland', 'polish resistance', 'strike', 'chinese woman', 'nemesis', 'lost in the desert', 'railroad track', 'super cars', 'broken bottle', 'primate', 'musical number', 'fireplace', 'chewing gum', 'fascism', 'infestation', 'bomb planting', 'criminal heroes', 'x-files', 'tears', 'pop star', 'scam', 'addiction', 'wealth', 'genocide', 'men', 'x-ray vision', 'governance', 'texas ranger', \"writer's block\", 'haitian gang', 'future war', 'bandits', 'sexual murder', 'suburban chicago', 'wizard of oz', 'nazi occupation', 'child hero', 'half breed', 'brainwashing', 'kangaroo', 'u.s. senator', 'hockey mask', 'population control', 'montmartre', 'funky music', 'internet chat', 'berlin wall', 'expatriate', 'steampunk', 'jules verne', 'life changing', 'conservation', 'cable guy', 'all male cast', 'sydney', 'wookie', 'beauty pageant', 'underage soldier', 'repo man', 'trampled to death', 'groupie', 'atlantis', 'spiritual journey', 'car explosion', 'british', 'drug trip', 'starfleet', 'self healing', 'hail', 'nile', 'bowling ball', 'strength', 'marseille', 'harlem', 'public sex', 'motor neuron disease', 'magnetic field', 'triangle', 'parson', 'paranormal activity', 'police chief', 'blackmail', 'family gathering', 'hit by truck', 'creator', 'research station', 'telephone', 'jet fighter pilot', 'spellcasting', 'rich woman - poor man', 'chihuahua', 'stalingrad', 'shot repeatedly', 'pardon', 'army sergeant', 'gay interest', 'zeus', 'homeless person', 'wolf', 'cupboard', 'family guy', 'hotel', 'fake id', 'frog', 'energy company', 'dance club', 'cave drawing', 'femme fatale', 'female corpse', 'prison matron', 'multiple character', 'number in title', 'chorus line', 'giant worm', 'disfigured face', 'vengeance', 'evil corporation', 'chase on the roof', 'propaganda', 'undead', 'battering', 'nypd', 'shot', 'snowmobile', 'moderator', 'city', 'psychotherapist', 'diamond', 'snuff', 'marital rape', 'wife', 'icelandic', 'looting', 'flunking out of school', 'corporation', 'great soundtrack', 'prospector', 'marijuana pipe', 'episodic', 'female musician', 'flamethrower', 'jazz musician', 'rifle', 'retribution', 'cobra', 'paris', 'law school', 'control', 'train robbery', 'royal geographic society', 'collision course', 'obese', 'little boy', 'demon', 'film industry', 'plagiarized book', 'mysterious island', 'adolf hitler', 'fear of clowns', 'english pub', 'embassy', 'secession', 'sword duel', 'off season', 'scorpion', 'spit in the face', 'purse', 'housemaid', 'bull riding', 'lens flare', 'north korea', 'mischievous child', 'supervisor', 'irish', 'aging', 'worker', 'ancient', 'anti semitism', 'viet cong', 'male', 'fat suit', 'film producer', 'ghost hunting', 'invention', 'maze', 'fighter', 'potty training', 'boarding house', 'employee', 'melting ice caps', 'rich', 'narcotics', 'shipyard', 'festival', 'vietnam war', 'deputy', 'lynching', 'bayonet', 'godzilla', 'cut-off head', 'social reject', 'bible', 'parents kids relationship', 'seasickness', 'male virgin', 'shrinking', 'loss of mother', 'prague', 'expert', 'exotic dancer', 'triplet', 'hit with a chair', 'junior high school', 'stone age', 'disposing of a dead body', 'devastation', 'broken ankle', 'word domination', 'brooklyn new york city', 'bus', 'brothers love same woman', 'lavender', 'cigarette', 'food industry', 'nuclear radiation', 'tower block', 'noodle salad', 'hot dog', 'chicken', 'american flag', 'royalty', 'pan', 'satanic ritual', 'royal flying corps', 'war on freedom', 'tribunal', 'oakland california', 'bath', 'unlikely friendship', 'proposal', 'wartime', 'treasure hunt', 'italian army', 'deceived wife', 'half naked man', 'pub', 'dark fantasy', 'heist movie', 'train ride', 'usa', 'youth', 'play', 'filmes focados em um professor', 'rehab', 'weightlifting', 'talent contest', 'space station', 'bdsm', 'cancer', 'family man', 'foot race', 'intolerance', 'protestant church', \"boys' school\", 'raincoat', 'exploding train', 'amulet', 'trick or treating', 'edinburgh', 'munich', 'kilt', 'savant', 'lgbt family', 'veterinarian', 'mountains', 'leonardo da vinci', 'laboratory', 'polaroid', 'skinheads', 'staring contest', 'mission clinic', 'clerk', 'succubus', 'laid off', 'cut arm', 'denunciation', 'female doctor', 'evil doll', 'troubled teen', 'yin yang', 'jackass', 'love crime', 'george w. bush', 'trowel', 'early sound film', 'coat', 'french stereotype', 'navy life', 'catch phrase', 'snorkel', 'masked ball', 'black humor', 'drug culture', 'sorcerer', 'human cloning', 'cattivissimo', 'birthday party', 'curiosity', 'company', 'defeat', 'shot point blank', 'white collar', 'taunting', 'box', 'old town', 'live performance', 'advertising executive', 'amazon jungle', 'mercifulness', 'cb radio', 'shaving cream', 'western spoof', 'disabled', 'human nature', 'greece', 'magic', 'multiple stabbings', 'newspaper editor', 'school bus', 'st. paul minnesota', 'adult as a child', 'kids and family', 'pacific island', 'trapdoor', 'camel', 'swimming pool', 'cult classic', 'philosophic conflict', 'vortex', 'surveillance', 'sperm donor', 'sports team', 'krampus', 'shootout at a train station', 'germany', 'concussion', 'duel', 'super strength', 'oil tycoon', 'family feud', 'little people', 'emigration', 'abusive father', 'cutting face while shaving', 'cockney accent', 'live concert', 'electric guitar', 'monopoly', 'family business ', 'mammoth', 'record company', 'alexander the great', \"ladies' man\", 'bad dream', 'tv show', 'storm drain', 'man eating plant', 'racing car', 'hebrews', 'punishment', 'student movie', 'gun in mouth', 'on the run', 'napalm', 'nothing goes right', 'unprotected sex', 'audio recording', 'flu', 'guantanamo bay', 'tryst', 'pickup truck', 'boat chase', 'man man relationship', 'critically bashed', 'hostility', 'protestant', 'chancellor', 'buddha', 'king of england', 'school performance', 'cannibalism', 'high rise', 'false accusations', 'home movie', 'fiancé', 'eating and drinking', 'electricity', 'satanic', 'hypnotism', 'underage drinking', 'sanatorium', 'netherlands', 'marijuana', 'supermodel', 'donuts', 'banana boat', 'iraqi\\xa0', 'widow', 'spleen', \"valentine's day\", 'times square', 'foster child', 'good and bad', 'king arthur', 'battle of gettysburg', 'riesen-ipod', 'hobbit', 'virtual reality', 'night club', 'plowing', 'intellectual property', 'fanatic', 'maya', 'lasers', 'wax', 'first class', 'dual life', 'toy comes to life', 'siamese', 'surrey', 'girl power', 'based on comic strip', 'defence', 'exploding car', 'hit and run', 'patriarchy', 'twinkie', 'little league', 'police force', 'mission control', 'massacre', 'wuxia', 'rag tag group', 'world religion', 'jekyll and hyde', 'documentary filmmaker', 'abduction', 'infant', 'venezia', 'tower', 'xenomorph', 'italo-american', 'places and planets', 'girlfriend', 'paranoid fantasy', 'oath', 'midwest', 'xanax', 'bodily disabled person', 'apollo program', 'campaign', 'stich', 'black american stereotype', 'messiah', 'african american comedy', 'neurotic', 'farmhouse', 'violinist', 'lordship', 'naval warfare', 'mossad', 'wilderness', 'alien attack', 'brain damage', 'ghost rider', 'magic show', 'blacklight', 'sexchat', 'medical drama', 'sermon on the mount', 'spy', 'imperialism', 'british prime minister', 'spaghetti western', 'landing', 'prisoner on the run', 'el paso', 'wrong side of the tracks', 'student', 'surveillance camera', 'civilization', 'evil circus', 'iron patriot', 'department of motor vehicles', 'italian soldier', 'chute', 'overhead camera shot', 'swimsuit', 'footage', 'general', 'drive by shooting', 'clown makeup', 'drug smuggle', 'small person', 'prisoners of war', 'natural gas', 'lowell massachusetts', 'crack', 'education', 'political campaign', 'british soldier', 'computer dating', 'navy seal', 'killer snake', 'money transfer', 'fate', 'lovers', 'relationship', 'kompliment', 'houseboat', 'firecracker', 'eating brains', 'gender roles', 'ptsd', 'karaoke', 'pennsylvania', 'renegade', 'mounted animal head', 'crime lord', 'loss', 'winery', 'music record', 'photo shoot', 'legal', 'disease', 'delirium', 'sword fight', 'deep space explorer', 'ex-wife', 'muggle', 'antigen', 'korea', 'global economy', 'ex kgb', 'alien life-form', 'sushi bar', 'religious cult', 'safe deposit box', 'impostor', 'american civil war', 'skepticism', 'oddball', 'lobbyist', 'life raft', 'exploding boat', 'harley davidson', 'hockey player', 'mission', 'haunting', 'master thief', 'cambodia', 'based on adaptation', 'beer', 'punk band', 'tank car', \"shakespeare's romeo and juliet\", 'fab four', 'brother against brother', 'young people', 'periscope', 'school excursion', 'bus hijacking', 'pikachu', 'fish', 'resistance fighter', 'domestic violence', 'iron', 'lower east side', 'feral child', \"hundred years' war\", 'stadium', 'albino', 'band', 'second', 'microfilm', 'gay couple', 'iceberg', 'notebook', 'golden gate bridge', 'amateur soccer', 'mayan', 'beagle', 'newspaper clipping', \"workers' quarter\", 'alien contact', \"mama's boy\", 'roman catholic', 'reunited friends', 'world war ii', 'freedom', 'cossack', 'car dealership', 'breast cancer', 'beirut', 'lock', 'kicked in the groin', 'rust belt', 'abuse', 'motorcycle chase', 'bronx', 'organized crime', 'corrupt cop', 'cataclysm', 'decipherment', 'observer', 'alcatraz', 'washington state', 'bureaucracy', 'wooden boats', 'rose', 'recruiting', 'movie reality crossover', 'lovesick', 'hazmat suit', 'meerkat', 'approach', 'synthetic drug', 'self-defense', 'supernatural horror', 'self surgery', 'blob', 'false passport', 'horror movie remade', 'nonlinear timeline', 'suburb', 'dirty tricks', 'rape', 'court martial', 'tunnel', 'asbestos', 'father son reunion', 'design', 'dancehall girl', 'war in afghanistan', 'fortune', 'first person shooter', 'comic book', 'personification', 'dream sequence', 'assumed identity', 'rural pennsylvania', 'burial', 'binoculars', 'reality spoof', 'power outage', 'world cup', 'dynasty', 'morgana', 'hiking', 'roses', 'shakespeare in modern dress', 'movie star', 'adrenaline junkie', 'flash grenade', 'bunker', 'heartache', 'airline pilot', 's.w.a.t.', 'hypnosis', 'dangerous', 'panama', 'hospital bed', 'land claim', 'law firm', 'caregiver', 'dominatrix', 'psychic', 'mouth guard', 'secret hideout', 'film noir', 'normandy beach', 'proto-slasher', 'bodybuilder', 'music festival', 'identity', 'teenage life', 'gun fight', 'forbidden love', 'navy', 'luck', 'fugitive', 'blaxploitation', 'eye gouging', 'goggles', 'old woman murdered', 'japan', 'alarm', 'comeuppance', 'dating', 'environmental law', 'orc', 'baby', 'explosives expert', 'grapefruit', 'police psychologist', 'religious delusions', 'evil mother', 'medal of valor', 'ascot', 'workplace', 'mural painting', 'ultimatum', 'lost shoe', 'bar exam', 'animal experimentation', 'cult film', 'knife held to throat', 'spell', 'snail', 'paralympics', 'nebraska', 'marine corps', 'buffalo skin', 'split personality', 'loyal', 'religious education', 'fiction', 'female writer', 'arab', 'blogger', 'marvel comic', 'biblical interpretation', 'the flemish cap', 'daydreaming', 'hamburger', 'disaster film', 'sarcasm', 'female agent', 'american football stadium', 'cohabitant', 'injection', 'loincloth', \"st. valentine's day massacre\", 'year', 'zero gravity', 'run', 'piranha', 'saloon', 'compassion', \"leaving one's family\", 'the color red', 'mortgage', 'broken neck', 'sadomasochism', 'hippopotamus', 'javelin', 'reference to al green', 'singing', 'vehicular accident', 'mexican standoff', 'light sensitivity', 'marxism', 'summer camp', 'bias', 'fake documentary', 'house warming', 'sword', 'carpet', 'florence', 'indian chief', 'music competition', 'ex military', 'pacific', 'jealousy', 'lesbian', 'ouija', 'radio presenter', 'slave', 'sex slave', 'tomboy', 'map', 'climbing', 'killer toys', 'mother love', 'morphine', 'people change', 'newcastle united', 'mountaineer', 'small town sheriff', 'personality disorder', 'space pirate', 'polynesia', 'mental health', 'peeping tom', 'battle of the sexes', 'fighting crime', 'foreign', 'ranch', 'muscleman', 'swordsman', 'eyeball', 'checkpoint', 'indigenous', 'toys', 'speedy gonzales', 'empowerment', 'duplicate', 'evil stepmother', 'enchantress', 'cook', 'disabled child', 'record player', 'flea market', 'snowman', 'caso', 'ying yang', 'parade', 'night creatures', 'condition', 'owl', 'shadow boxing', 'curfew', 'unwillingly pregnant', 'plague', 'hiv positive', 'man punches woman', 'sexual humiliation', 'elite', 'long island', 'park', 'southern', 'u.s. military', 'mercenary', 'death of king', 'ecology', 'cross', 'sign', 'tony blair', 'record producer', 'bum', 'rape of a male', \"love of one's life\", 'son-in-law', 'ginger', 'slevin', 'cyclist', 'self sacrifice', 'nuclear explosion', 'tzar', 'poacher', 'live-reportage', 'insider', 'marine', 'pushing a car', 'healing power', 'biological warfare', 'singularity', 'capuchin monkey', 'loss of eyesight', 'extraterrestrial technology', 'sex comedy', 'tooth', 'alternative', 'post 9/11', 'paranormal investigator', 'inhumanity', 'misogyny', 'vietnam', 'crusade', 'prison camp', 'hibernation', 'giant', 'bodyguard', 'national transportation safety board', 'bromance', 'surrealism', 'romantic', 'brooklyn bridge', 'all girl', 'jewelry', 'kosher', 'buoy', 'expedition', 'animal killing', 'getaway driver', 'claustrophobia', 'nerd', 'miscarriage', 'gun battle', 'public urination', 'pager', 'cupcake', 'french revolution', 'tour guide', 'puppy', 'driving a car', 'stuck in elevator', 'warehouse', 'love', 'foreign legion', 'hip-hop', 'reading', 'confetti', 'radio station', 'jesus freak', 'political leader', 'widerstand', 'phone sex', 'longshoreman', 'african american child', 'columbia broadcasting system (cbs)', 'sexless marriage', 'captain', 'explosive', 'vietcong', 'cybercrime', 'street race', 'racer', 'flying', 'crude humor', 'pizza hut', 'south carolina', 'found footage', 'pearl harbor', 'dystopia', 'jamestown virginia', 'asian man', 'epidemic', 'pearl necklace', 'phone', 'beehive', 'engagement party', 'magician', 'harpoon', 'police department', 'talk show', 'clergy', 'caribbean', 'gangster rap', 'film director', 'sunrise', 'louisiana', 'male bonding', 'vampire vs vampire', 'labor pain', 'rain', 'zombie', 'rock band', 'coot', 'emergency surgery', 'cattle drive', 'hospital gown', \"mother's day\", 'interrogation', 'odin', 'one last job', 'adult humor', 'valet', 'exploding body', 'communist', 'mi6', 'ark of the covenant', 'factory worker', 'lost mother', 'adoptive mother', 'shadowing', 'diver', 'witness to murder', 'bath tub', 'disaster', 'snoopy', 'lunatic asylum', 'farewell', 'bitterness', 'arbitrary law', 'q*bert', 'shackles', 'nazism', 'co-parenting', 'village council', 'spear', 'ethical dilemma', 'the simpsons', 'barn', 'timebomb', 'corpse in freezer', 'police officer killed', 'classism', 'zurich', 'candy', 'anti-authoritarian upbringing', 'stroke', 'bittersweet', 'galactic war', 'swinger club', 'baghdad', 'exchange', 'congress', 'water shortage', 'american spy', 'surfing', 'padlock', 'habor', 'weather forecast', 'boy gang', 'air', 'white russian', 'cult director', 'striptease', 'soccer coach', 'adopted child', 'music band', 'snake charmer', 'genius', 'nurse', 'hunting human beings', 'egocentrism', 'the shadow', 'superhuman', 'channel surfing', 'ayn rand', 'ship hijacking', 'suicide', 'kuwait', 'prison warden', 'fishing boat', 'deserted town', 'joan of arc', 'role of women', 'fictional language', 'burning car', 'alcoholism', 'investigator', 'private detective', 'immaturity', 'rebel', 'paternity', 'boulder', 'marilyn monroe', 'moral ambiguity', 'hikers', 'fable', 'host body', 'loop', 'artist', 'connecticut', 'deposition', 'plagiarized novel', 'basement garage', 'old man', 'military tribunal', 'dance teacher', 'charles vii.', 'whale', 'south africa', 'transformation', 'yankee stadium bronx new york city', 'legalized murder', 'doomsday clock', 'finger gun', 'parole board', 'lasagne', 'children education', 'street art', 'sock on the jaw', 'orléans', 'text message', 'giant robot', 'kindergarten', 'playing piano', 'pittsburgh', 'purgatory', 'drug smuggling', 'recovering drug addict', 'cruise liner', 'cafeteria', 'navy veterans', 'wire', 'comeback', 'mahatma gandhi', 'knife in thigh', 'norse mythology', 'casablanca', 'concentration camp', 'superpower', 'tech noir', 'deportation', 'spanish', 'mother daughter estrangement', 'bust', 'case', 'solar system', 'models', 'giant plant', 'blonde woman', 'shark attack', 'generation-x', 'senator', 'diction coach', 'woman crying', 'jewry', 'iowa', 'egg', 'racing', 'plot', 'rich people', 'medical student', 'crime scene', 'disintegration', 'battle', 'scandal', 'child pornography', 'dance hall', 'mad hatter', 'self-discovery', 'cave', 'black ops', 'lgbt', 'war on terror', 'diamond mine', 'illegal immigrant', 'hairstyle', 'french', 'immigration', 'forest', 'tgv', 'chain', 'sexual attraction', 'scientific experiment', 'kickass', 'erotic movie', 'furry', 'rancher', 'secret organization', 'suicide attempt', 'sleepwalking', 'comanche', 'u.s. air force', 'gothic horror', 'robber', 'wrecker', 'avatar', 'minnesota', 'counselor', 'fainting', 'witch', 'angel', 'off track betting', 'chubby woman', 'psychology', 'spelling', 'apple computer', 'stage', 'rocket', 'prison escape', 'ostrich', 'biblical', 'freeze', 'high-tension current', 'immortality', 'flare', 'fictional tv show', 'mexico city', 'architecture', 'prussia', 'fort knox', 'industrial accident', 'hostage negotiator', 'reference to rodney king', 'photograph', 'molotow cocktail', 'broken nose', 'prostitute', 'sculpture', 'gettysburg address', 'interpol', 'blue footed booby', 'truce', 'sense of life', 'protest', 'alien possession', 'mini cooper', 'successor', 'masked vigilante', 'thrill seeker', 'skiing', 'odd couple', 'snake', 'loan shark', 'ninja fighter', 'female friendship', 'new identity', 'thrift store', 'dormitory', 'hit with a rock', 'frankenstein', 'costume designer', 'lethal injection', 'one-night stand', 'caretaker', 'parents-in-law', 'kronos', 'guild', 'sinking ship', 'money problems', 'barbarian horde', 'struggling actor', 'students', 'dirt bike', 'money laundering', 'knocked out', 'turbo intercepter', 'charles dickens', 'obedience', 'unfaithfulness', 'scotland yard', 'strangeness', 'sci-fi thriller', 'angkor wat', 'drawn', 'zombification', 'marcus square', 'ocean', 'jackhammer', 'city country contrast', 'dirty joke', 'female prisoner', 'paralysis', 'taxes', 'mechanical engineering', 'whaling ship', 'home front', 'gold rush', 'calypso', 'female stripper', 'stealing money', 'clock tower', 'bonfire', 'library', 'sardinien', 'army general', 'public relations', 'sponge bath', 'witness', 'elmore leonard', 'homicide detective', 'world war i', 'headline', 'fighter pilot', 'olympus', 'stock market crash', 'hijinks', 'high school teacher', 'army', 'security camera', 'double life', 'imperial japan', 'leukemia', 'everglades', 'street shootout', 'mustache', 'indiana', 'materialism', 'net fishing', 'caller id', 'ship', 'telephone conversation', 'artificial', 'killing a dog', 'star spangled banner', 'absurdism', 'followed', 'jet ski', 'famous painting', 'dysfunctional', 'junkyard', 'child as an adult', 'spiritism', 'mistaken parentage', 'torso cut in half', 'missing father', 'small town thieves', 'domination', 'magic realism', 'underwear', 'congo', 'sex addiction', 'culture', 'action', 'psychedelic drug', 'romantic drama', 'pawnshop', 'talking to the audience', 'lone wolf', 'slum', 'filmmaking', 'handicap', 'justice', 'annabelle', 'extra credit assignment', 'stranger', 'piglet', 'sfx', 'sumo ringer', 'mob boss', 'attack', 'girl fight', 'gothic', 'treason', 'insane asylum', 'reference to god', 'ambiguous ending', 'newcomer', 'east germany', 'mortal danger', 'u.s. soldier', 'quebec', 'profanity', 'czechoslovakia', 'underground lake', 'cityscape', 'hangover', 'daytona', 'middle ages', 'feel good', 'sandstorm', 'queen elizabeth i', 'female rocker', 'clairvoyant', 'province', 'resentment', 'manipulation of the media', 'prison visit', 'hostile takeover', 'lieutenant general', 'cow', 'fast food restaurant', 'wedding dress', 'half-brother', 'downtrodden', 'elves', 'tattoo', 'stagecoach', 'convent', 'hood', 'vernissage', 'pornographic video', 'dj', 'secret door', 'oberflächlichkeit', 'post traumatic stress  disorder', 'barcelona spain', 'the muppets', 'renewing wedding vows', 'media adviser', 'tv morning show', 'based on play', 'beforecreditsstinger', 'anger management', 'paramedic', 'market', 'lock pick', 'fairies', 'bartender', 'reference to gregory hines', 'thuggee', 'bruce banner', 'philosophical', 'activist', 'evisceration', 'fatal attraction', 'premarital sex', 'sole survivor', 'shooting party', 'moon', 'gold miner', 'guns', 'nesting grounds', 'genocide in rwanda', 'historical fiction', 'list', 'machine', 'explosives', 'house search', 'railway car', 'synagogue', 'air controller', 'toy', 'chair', 'blender', 'fishing net', 'visa', 'looking at the camera', 'vision', 'war of independence', 'manatee', 'pretend', 'wrestler', 'pug dog', 'fire repellent', 'misdirection', 'irish american', 'unfaithful boyfriend', 'midnight movie', 'love of animals', 'hold-up robbery', 'vanity film', 'hit', 'coral reef', 'mega corporation', 'exercise', 'deformed', 'tarot cards', 'tradition', 'precognition', 'werewolf', 'stonewall riot', 'audi', 'war machine', 'peace', 'apology', 'wild boar', 'religious conversion', 'dark humor', 'delivery', 'gurney', 'volcanologist', 'pie', 'infantry', 'pillbox', 'ikea', 'bitch', 'wolf pack', 'anti matter', 'ersatz', 'cadet', 'recipe', 'corrupt politician', 'shop', 'jesuit', 'taxi', 'acapella', 'modern fairy tale', 'body guard', 'cheating', 'russian orthodox church', 'jungle girl', 'muslim', 'deriva', 'phantom zone', 'secret mission', 'in vitro fertilisation', 'childhood', 'melancholy', 'greek history', 'shaolin', 'fitness-studio', 'nike', 'human brain', 'pool', 'basement', 'penthouse apartment', 'brother sister incest', 'sioux', 'pitbull', 'dog actor', 'latin america', 'umbrella', 'nanotechnology', 'sterility', 'subway tunnel', 'walrus', 'palestine', 'napoleon bonaparte', 'beast', 'fictionalized history', 'scarecrow', 'success', 'sexual obsession', 'video nasty', 'distress signal', 'wrong number', 'montreal canadiens', 'almanac', 'transport of prisoners', 'graboids', 'rogue', 'loyalty', 'drug use', 'galaxy', 'beauty contest', 'disillusionment', 'cartoon skunk', 'psychoterror', 'life imitates art', 'watergate scandal', 'zip line', 'shot in the chin', 'ceti alpha v', 'subjective camera', 'whipping', 'sale of soul', 'tarzan', 'philadelphia', 'swing', 'love interest', 'sattire', 'coffee shop', 'libya', 'northern england', 'white male pretending to be black', 'order of the templars', 'h. g. wells', 'intellectual', 'peak oil', 'northern ireland', 'pre-code', 'border patrol', 'snob', 'civil rights movement ', 'distrust', 'job entrant', 'faithlessness', 'unplugged electronic works', 'ex-detainee', 'betrayal by friend', 'massachusetts', 'fear of unknown', 'thunderstorm', 'landmine', 'nation of islam', 'wisecrack humor', 'destruction of earth', 'reavers', 'hallucinogen', 'artillery', 'white horse', 'canada', 'painting toenails', 'reference to skittles', 'falling star', 'moses', 'organ donation', 'chambers of a barrister', 'sword and sandal', 'medicine', 'date', 'taj mahal', 'daily life', 'eternal youth', 'dance class', 'thalassophobia', 'fantasy world', 'person on fire', 'schizophrenic', \"character's point of view camera shot\", 'building', 'technical toy', 'wrong accusal', 'handgun', '1920s', 'east berlin', 'murder hunt', 'mythological beast', 'black slave', 'greek mythology', 'motel room', 'genetics', 'secret base', 'greenhouse effect', 'bank heist', 'experiment', 'gas attack', 'holocaust', 'creature', 'business trip', 'freshman', 'gruuthuse museum bruges', 'music teacher', 'eye operation', 'newspaper', 'tantra', 'great white shark', 'daddys home', 'pokies', 'webcam', 'simulation', 'hollywoodland', 'baader-meinhof group', 'dreams', 'landscape architect', 'story within the story', 'sexual harassment', 'fired from the job', 'fighting', 'teuflisch', 'practical joke', 'geronimo', 'low intelligence', 'double cross', 'impregnation', 'gold', 'bustier', 'millionaire', 'loose cannon', 'older woman seduces younger guy', 'ignorance', 'strange person', 'love sickness', 'hollywood sign', 'narcissist', 'archangel gabriel', 'multiple dimensions', 'low men', 'dirty cop', 'powhatan', 'psychiatric', 'blizzard', 'conspiracy', 'first crush', 'san fernando valley', 'background singer', 'gallop', 'sweet sixteen', 'police academy', 'presidential campaign', 'bondage', 'bat', 'buffalo bill', 'car wreck', 'walking on piano keys', 'industrialist', 'hong kong', 'roller coaster', 'native american', 'religious war', 'race against the clock', 'griffon', 'unhappiness', 'chivalry', 'money', 'polar bear', 'bisexual man', 'skinny dipping', 'flight', 'logbook', 'avant-garde', 'family relationships', '1930s', 'slave trade', 'middle america', 'jurors', 'anti-communism', 'neighborhood', 'sailor', 'navajo', 'nudity', 'framed for a crime', 'central america', 'concert', 'strip', 'dakota', 'water park', 'asia', 'bank loan', 'defibrillation', 'male model', 'roulette', 'weevil', 'empathy', 'swan lake', 'shot through a door', 'fast cars', 'excalibur', 'bad smell', 'whistle', 'cat', 'lung cancer', 'island', 'rock sta', 'weightlessness', 'invisible man', 'talking pig', 'gang war', 'princeton university', 'marching band', 'gross out comedy', 'multiple perspectives', 'spinner', 'dagger', 'child bride', 'greaser', 'backhand slap', 'bear attack', 'spiral staircase', 'bad luck', 'mouth to mouth resuscitation', 'set in one room', 'driving school', 'sleep', 'air marshal', 'colt', 'starships', 'getaway', 'prosecution', 'exile', 'assignment', 'mathematics', 'dialect', 'crossword puzzle', 'roommate', 'stupidity', 'crane', 'church', 'right and justice', 'first date', 'sewerage', 'television', 'drums', 'chimp', 'product placement', 'grandparents', 'superhero', 'knitting needle', 'bagpipes', 'gladiator fight', 'coronation', 'scissors', 'todfeind', 'prom', 'disembodied head', 'foot chase', 'dementia', 'criminal profile', 'gods', 'cigarette smoking', 'mine shaft', 'android', 'planes', 'dignity', 'german occupation of france', 'perpetual winter', 'magazine', 'survival skills', 'beheading', 'wintry', 'independence movement', 'friend', 'sorority', 'bookshop', 'cyberpunk', 'instructor', 'go-go dancer', 'scarred face', 'severed toe', 'sibling rivalry', 'killer doll', 'sweaty face', 'sweepstakes', 'resort', 'pharmacy', 'glue', 'trust fund baby', 'locked in trunk of car', 'cricket bat', 'warfare', 'fictional war', 'firearm', 'uniform', 'hulk', 'cole younger', 'sicilian', 'relapse', 'bars and restaurants', 'woman', 'cannes', 'gang of smugglers', 'rowboat', 'real time', 'reference to prince valiant', 'banker', 'hero', 'pedophile', 'bipolar disorder', 'bunk bed', 'wife murder', 'martinique', 'mexican american', 'guadalcanal', 'burglar', 'extraction', 'adultress', 'vandalism', 'sewer', 'volkswagen beetle', 'jock', 'stag night', 'anti terror', 'socrates', 'dalmatian', 'human experimentation', 'liberty half dollar', 'cross dressing', 'last day on job', 'photo', 'ex special forces', 'age difference', 'rooftop chase', 'penal colony', 'spanner', 'dog trainer', 'stolen pet', 'commercial agreement', 'taser', 'birthday', 'ax', 'paranoid', 'california', 'apprentice', 'search for witnesses', 'loudspeaker', 'invisibility', 'extraterrestrial', 'bolivia', 'kids', 'bottle', 'prison cell', 'angel costume', 'concentration camp prisoner', 'season', 'astronomer', 'supermarket', 'temptation', 'estranged father', 'regret', 'black and white and color', 'paranormal', 'flapper', 'wounded soldier', 'resurrection', 'teeth', 'dysfunctional marriage', 'convict', 'dhampir', 'transience', 'filmdreh', 'dictator', 'musketeer', 'home invasion', 'pat garrett', 'high school reunion', 'gory violence', 'button', 'catastrophe', 'fired', 'ugly', 'mutation', 'crusader', 'puppet', 'baseball card', 'slang', 'trapped', 's.a.t.', 'thirty something', 'german officer', 'tomahawk', 'trashed house', 'video wall', 'art thief', 'beaten to death', 'jay and silent bob', 'arranged marriage', 'pinata', \"child's point of view\", 'self mocking', 'duty', 'mountain climber', 'car mechanic', 'hostage', 'advancement', 'flask', 'confederate soldier', 'dogfight', 'missing daughter', 'pickup', 'recruit', 'doing the right thing', 'battle of the bands', 'jumping from a rooftop', 'private club', 'farmer', 'counterfeit', 'sergeant', 'killed in an elevator', 'marooned', 'champagne', 'polygamy', 'waterfall', 'rule of law', 'smart blonde', 'immortal', 'country estate', 'social network', 'fashion show', 'bridegroom', 'chainsaw', 'gonzo journalist', 'freak show', 'loss of husband', 'self-abandonment', 'missing body', 'wall', 'klutz', 'torturing', 'steve jobs', 'female boss', 'little dog', 'vineyard', 'bank manager', 'millenium', 'operative', 'kingdom', 'coffee shop manager', 'yell', 'hand on crotch', 'darkness', 'siege', 'stealing a car', 'renaissance painting', 'reunion', 'dog', 'morocco', 'bedridden', 'restaurant', 'u.s. army', 'dead', 'bisexuality', 'symbolism', 'cigarette lighter', 'coaction', 'ridicule', 'spear throwing', 'jewish man', 'clue', 'rock music', 'dictatorship', 'duff beer', 'new england', 'screenplay', 'grocery store', 'mary magdalene', 'self-referential', 'saloon girl', 'hit with tire iron', 'ghost ship', 'sultriness', 'sanitarium', 'beach', 'sherlock holmes', 'thinness', 'campfire', 'society', 'humvee', 'rapist', 'ouija board', 'live action and animation', 'broken wrist', 'failure', 'based on film', 'tennis racket', 'sexual favor', 'dea agent', 'detective inspector', 'husband wife relationship', 'retrofuturism', 'biology', 'ice melting', 'fenway park', 'brazil', 'brisbane queensland', 'sharpshooter', 'sondheim', 'return', 'vampire hunter', 'coup', 'investigative journalism', 'power relations', 'pet cemetery', 'secretary of defense', 'bratislava', 'french polynesia', 'bandage', 'lime', 'eugenics', 'confidence man', 'dea', 'las vegas', 'political unrest', 'car thief', 'broken heart', 'killer plant', 'watching a movie', 'hunting', 'female athlete', 'b horror', 'social allegory', 'duck', 'cojote', 'mandolin', 'malaysia', 'computer war', 'letter from home', 'transporter', 'gun violence', 'cultural conflict', 'pencil', 'loss of virginity', 'laundry', 'gulfstream', 'slavery', 'amateur', 'alien invasion', 'flashback within a flashback', 'creature feature', 'police operation', 'brontosaurus', 'business man', 'prehistoric adventure', 'tennis player', 'ordensbruder', 'socialite', 'religious conflict', 'madrid', 'monologue', 'death sentence', 'crime fighter', 'older woman younger man relationship', 'outsider', 'strange behavior', 'great barrier reef', 'pet', 'brutality', 'domestic abuse', 'steel worker', 'pact with the devil', 'friendship drama', 'ski jump', 'marriage counselor', 'soft boiled egg', 'racial issues', 'locker room', 'secret society', 'trap', 'unemployed', 'fascination', 'surrogate daughter', 'teenage sex', 'sushi restaurant', 'parole', 'based on toy', 'cuban missile crisis', 'illiteracy', 'marry rich', 'jupiter', 'police officer', 'security guard', 'head injury', 'wooden eye', 'rage and hate', 'basketball hoop', 'mockumentary', 'wolfman', 'heimdall', 'moon base', 'historical figure', 'high school', 'post world war i', 'bohemian', 'block party', 'leather jacket', 'disturbed child', 'mexican revolution', 'one woman army', \"driver's test\", 'flogging', 'puppet show', 'helix', 'reference to macgyver', 'communication', 'cricket', 'pornography', 'afterlife', 'parents', 'youth center', 'reckless driving', 'dysfunctional family', 'new mexico', 'crocodile attack', 'socialism', 'transgender', 'end of world', 'demeanor course', 'online dating', 'real estate developer', 'game', 'stolen patent', 'casket', 'puritan', 'u.s. marine', 'fast motion scene', 'domed city', 'power of goodness', 'british farce', 'shoe store', 'cutting the cord', 'space invasion', 'groundhog day', 'gay man straight woman relationship', 'gas rationing', 'year 2002', 'news spoof', 'tang dynasty', 'amelia earhart', 'occult ritual', 'sociopath', 'loss of sister', 'beretta', 'disgust', 'war hero', 'rio 1', 'step mother', 'galicia', 'dulles international airport', 'rango', 'suitcase full of money', 'ape', 'refugee camp', 'practice', 'psychotic epileptic disorder', 'silver star', 'balkan war', 'treasury agent', 'ten commandments', 'wretch', 'polynésie française', 'world war iii', 'book burning', 'rocky mountains', 'working class', 'iraq veteran', 'assault rifle', 'space battle', 'biting', 'space based weapon', 'record label', 'nerve gas', 'crisis of faith', 'fiancée', 'capitalist', 'tropical island', 'altar', 'stau', 'martial arts master', 'golf', 'sunset', 'robbery', 'animated sequence', \"côte d'azur\", 'strip club', 'demon hunter', 'maverick cop', 'library of alexandria', 'winner', 'mad scientist', 'moral dilemma', 'freak', 'aerobics', 'elderly man', 'environmental', 'scientist', 'carrier pigeon', 'winnebago', 'mining', 'mutilation', 'smoke', 'brain capacity', 'world champion', 'intelligence officer', 'space colony', 'east india trading company', 'new zealand', 'sacrifice', 'environment', 'best friends in love', 'middle east', 'janitor', 'mother ship', 'hoodlum', 'roach', 'true life character', 'vulgarity', 'sense of guilt', 'elementary school', 'supernatural being', 'japanese army', 'music business', 'castration', 'theater', 'literature', 'nixe', 'burning', 'alzheimer', 'step siblings', 'cryptologist', 'guitar', 'beef', \"noah's ark\", 'casa encantada', 'plaster cast', 'courtship', 'rural america', 'shark', 'death of superhero', 'prank gone wrong', 'berlin', 'save the day', 'nicaragua', 'drama', 'campus', 'alien friendship', 'smoking pot', 'killer clown', 'burlesque', 'iron man', 'based on article', 'edgar rice burroughs', 'man child', 'protection money', 'kidney transplant ', 'imaginary friend', 'community service', 'trance', 'idealism', 'fraternity initiation', 'tahiti', 'corvette stingray', 'grudge', 'cargo ship', 'artist colony', 'nostalgia', 'comic-strip artist', 'wall street', 'riches to rags', 'hail mary', 'arctic', 'french accent', 'new orleans', 'skype', 'new york', 'playing god', 'lousiana bayou', 'good vs evil', 'poet', 'toulouse lautrec', 'transphobia', 'circus', 'wild bill hickok', 'flight attendant', 'antihero', 'switzerland', 'motorcycle gang', 'laotian soldier', 'wanderer', 'passion', 'law', 'khumba', 'ghouls', 'long take', 'storm chaser', 'bounty', 'very little dialogue', 'texting', 'opression', 'festival hall', 'loss of sense of reality', 'psychological', 'golf course', 'baseball stadium', 'bachelor', 'quantum mechanics', 'regency period', 'remote', 'anti-christ', 'dallas texas', 'handcuffs', 'hotel lobby', 'troops', 'sidewalk', 'key', 'captive', 'oppression', 'mummy', 'duplicity', 'kato', 'charlie brown', 'typhus', 'greenpeace', 'conciliation', 'whale oil', 'based on memoir', 'protective father', 'homeschooling', 'penalty', 'hologram', 'humanity', \"pandora's box\", 'human vs alien', 'talking to animals', 'relic', 'emotional abuse', 'federation', 'golden retriever', 'park bench', 'guilt', 'altering history', 'sadism', 'hunter', 'santa monica california', 'oil company', 'blade', 'insulin', 'post world war ii', 'precocious child', 'jesuit priest', 'jesse james', 'what if', 'wish', 'evidence', 'changing the past or future', 'ambulance driver', 'hostage drama', 'stewardess', 'klondike', 'asgard', 'time travel', 'night club owner', 'telegram', 'flying saucer', 'deceived husband', 'dancehall hostess', 'winegrower', 'classified', 'rapping in a car', 'boxing', 'sailing', 'butcher', 'music tour', 'newspaper columnist', 'defense industry', 'musical segments', 'thomas cromwell', 'dance', 'aerial shot', 'gossip', 'leatherface', 'folk singer', 'escape from prison', 'emancipation', 'child abuse', 'big wheel', 'loneliness', 'steerage', 'mind control', 'terrier', 'retirement party', 'transport', 'spotlight', 'human', 'crime', 'morality', 'designer drug', 'cutting', 'corporate greed', 'rocker', 'river boat', 'redneck', 'card game', 'narration', 'exploding building', 'police badge', 'computer animation', 'high school sports', 'axe in the head', 'threat', 'depravity', 'ultimate victory', 'corps', 'felon', 'mediterranean', 'agent', 'mullet', 'insurgence', 'nanobots', 'jewish life', 'pacifism', 'graduation', 'jogging', 'phone booth', 'compulsive gambling', 'waterfront', 'locked door', 'shopping mall', 'red square', 'oklahoma city bombing', 'compass', 'launch code', 'tourette syndrome', 'amnesia', 'yokai', 'levitation', 'gettysburg', 'low rider', 'misfit', 'undercover agent', 'child labor', 'red cap', 'in-laws', 'will', 'mauling', 'cameos', 'armada', 'conservative', 'prescription medication', 'hidden truth', 'destroyer', 'chefin', 'repossession', 'bouncy castle', 'interspecies romance', 'prank', 'employer', 'world domination', 'adventurer', 'suicidal thoughts', 'asian woman', 'nuclear', 'american football coach', 'gold coin', 'suffocation', 'customs', 'oxygen', 'jazz', 'hunt', 'hope', 'bomb attack', 'carnival', 'dancing class', 'coloured', 'losing weight', 'neo-noir', 'orient express', 'jazz age', 'russian', 'genetic mutation', 'alberta canada', 'conjoined', 'passenger', 'natural history', 'catfishing', 'mentally handicapped man', 'nuclear missile', 'pregnant wife', 'rural farm', 'old mansion', 'super computer', 'circumcision', 'beauty', 'polar night', 'night shift', 'killer whale', 'chapter', 'movie poster', 'delusion', 'impalement', 'miner', 'normandy', 'substance abuse', 'finances', 'preisgeld', 'sand', 'barbie', 'secret plot', 'swimming underwater', 'singing photograph', 'lone ranger', 'motherly love', 'communicating with the dead', 'primitive time', 'intimate', 'romanian new wave', 'dead lover', 'knight templars', 'corset', 'harbor', 'big shot', 'baby powder', 'literature competition', 'mysterious past', 'stay-at-home dad', 'cardinal', 'erection', 'wild girl', 'primal fear', 'exploitation film', 'saviour', 'climbing a tree', 'chrysler building', 'nazis', 'archaeologist', 'convoy', 'water monster', 'slime', 'older man younger woman relationship', 'betrayal', 'margaret thatcher', 'gangster', 'albania', 'prophecy', 'weapon of mass destruction', 'asthma', 'operation', 'loner', 'tv news', 'bedtime prayer', 'karate', 'smuggling', 'emasculation', 'preacher', 'marathon', 'spoof', 'vigilantism', 'spats', 'family reunion', 'one armed man', 'video camera', 'apache', 'istanbul', 'house', 'iran hostage crisis', 'catholicism', 'tenderness', 'black', 'shoe seller', 'chief', 'politician', 'fleet', 'bush whacker', 'aggressive', 'suicide thoughts', 'exploitation', 'archeology\\xa0', 'water', 'boomerang', 'chaos and mayham', 'single father', 'relativity', 'airport lounge', 'autopilot', 'special unit', 'autonomous shadow', 'russian revolution', 'drilling', 'spacecraft', 'japanese food', 'novice', 'hypothermia', 'spring', 'saving lives', 'hunger', 'confidence game', 'cat and mouse', 'iraq war', 'tarantula', 'grave digger', 'satellite', 'lodger', 'isolation', 'trainee', 'bronze age', 'athlete', 'conspiracy theory', 'eviction', 'puerto rico', 'blow job', 'railgun', 'hollywood', 'hand grenade', 'chorus girl', 'speech', 'intimidation by police', 'document', 'sun', 'navy lieutenant', 'tantrum', 'antisocial personality disorder', 'persian gulf', 'underwater', 'seance', 'ranger', 'silhouette', 'drone', 'swearing', 'fire', 'crew', 'quick draw', 'fire engine', 'life competition', 'trojan war', 'england', 'masochism', 'world of fasion', 'mountain climbing', 'aspen colorado', 'bullet proof vest', 'interracial adoption', 'beverly hills', 'gender identity', 'argument', 'carjacking', 'nsa agent', 'honesty', 'rugby', 'plano texas', 'contraband', 'biscuit', 'earth in peril', 'police sergeant', 'oxford', 'jamaican', 'buddhism', 'house fire', 'pharmaceutical industry', 'nobility', 'hate crime', 'snowed in', 'homework', 'ironing money', 'liberation of hostage', 'niece', 'nordic mythology', 'tibet', 'post nuclear', 'coach', 'financial crisis', 'despicable', 'con', 'reference to elvis presley', 'young woman', 'arms deal', 'richard nixon', 'broom', 'eccentric man', 'anxiety', 'coward', 'prejudice', 'folk music', 'gold watch', 'repayment', 'the rapture', 'neighbor neighbor relationship', 'faith', 'reluctant hero', \"frankenstein's monster\", 'plane wreck', 'agnostic', 'father', 'free running', 'vehicle combat', 'hmong', 'political cover-up', 'matrix', 'gas mask', 'true crime', 'child rape', 'impossible love', 'speaking german', 'german accent', 'egyptologist', 'global warming', 'armadillo', 'vampire sex', 'big corporation', 'lake placid new york', 'cruise ship', 'pedophilia', 'call girl', 'florida', 'motorcycle jump', 'romance', 'prey', 'hard to kill', 'fox news', 'hostel', 'coal mine', 'tv reporter', 'waiter', 'old woman', 'haunted', 'woodstock', 'caving', \"philosopher's stone\", 'secret headquarters', 'piggy bank', 'postman', 'ambulance', 'discrimination', 'tempel', 'rapier', 'horse and carriage', 'missing woman', 'games', 'police everyday life', 'leader', 'perjury', 'wolf costume', 'remake of japanese film', 'dry humour', 'partner', 'fingers', 'malpractice', 'trustee', 'syringe', 'hot tub', 'pantyhose', 'illuminati', 'china', 'children', 'terrorist plot', 'elopement', 'russian soldier', 'patriarch', 'underworld', 'jason voorhees', 'aftercreditsstinger', 'stockbroker', 'patriot', 'soccer stadium', 'series of murders', 'suburbia', 'guru', 'sail', 'harvard law school', 'irak', 'terrorism', 'teenager', 'rose garden', 'blood ritual', 'farm life', 'mixed martial arts', 'sea lion', 'lover', 'chinese mafia', 'gore', 'neighbor', 'artificial intelligence', 'wife husband relationship', 'commando unit', 'secret location', 'pest', 'cheating fiancée', 'taking a risk', 'psychological thriller', 'uncle', 'war on drugs', 'miniature people', 'family clan', 'fire extinguisher', 'brother brother relationship', 'teamwork', 'grandfather grandson relationship', 'tutor', 'kamikaze', 'dude', 'cgi', 'artifact', 'stress', 'train explosion', 'sandwich', 'loss of powers', 'cosplay', 'blood sample', 'adoptive father', 'animal protection', 'public humiliation', 'fool', 'clark kent', 'memory', 'spiritualist', 'estranged family member', 'threat to death', 'walking', 'teenage love', 'court', 'crematorium', 'spying', 'secret love', 'bob dylan', 'yogi', 'benito mussolini', 'naked scene', 'scooter', 'next door neighbor', 'lingerie slip', 'one day', 'bracelet', 'infra red', 'pregnant', 'secret service agent', \"martha's vineyard\", 'escaped killer', 'seven years war', 'beastmaster', 'way station', 'extremist', 'debt', 'stalinism', 'national security', 'yakuza', 'puzzle', 'sea battle', 'giant snake', 'stay permit', 'obnoxious', \"devil's son\", 'northern france', 'prison wagon', 'bar brawl', 'women', 'shelter', 'beatboxing', 'pig mask', 'italian american', 'area 51', 'rat', 'cannon', 'imprisoned', 'traveller', 'train accident', 'crime syndicate', 'tv addicted person', 'hermit', 'alaska', 'infertility', 'end of the world', 'marriage', 'birding', 'awol', 'solar', 'hotel clerk', 'nantucket', 'conspiracy of murder', 'nuclear weapons', 'girlfriend from china', 'tweety bird', 'sunglasses', 'piano wire', 'false history', 'empty safe', 'artial arts', 'epilepsy', 'john f. kennedy', 'shovel', 'fast food', 'masquerade', 'half vampire', 'totalitarian', 'black female judge', 'suspension', 'missing persons case', 'minefield', 'regeneration', 'blackface', 'evil dictator', 'troubled production', 'art gallery', 'halloween night', 'tank', 'shared universe', 'confined', 'gremlin', 'robot', 'vomiting', 'tortuga', 'execution', 'from rags to riches', 'lost weekend', 'gender disguise', 'warsaw ghetto', 'kongo', 'repression', 'showdown', 'crucifixion', 'twenty something', 'monte carlo', 'death by accident', 'senate', 'herion', 'private investigator', 'short term memory loss', 'record collection', 'ant-hill', 'estate', 'emergency landing', 'tv star', 'stage show', 'police car', 'concealed weapon', 'anaconda', 'pistol whip', 'independent film', 'cartoon', 'test flight', 'middle school', 'land mine', 'big爆任务', 'correspondence', 'attempted suicide', 'pacific war', 'chaos', 'salesman', 'grass', 'love triangle', 'cavalry', 'one-sided love', 'reading a book', 'farmland', 'psychedelic', 'cyber thriller', 'near future', 'moving', 'flower', 'warp engine', 'scheming', 'rescue team', 'reconciliation', 'falsifying', 'executive case', 'sensei', 'test', 'casters', 'ewoks', 'violent man', 'crime boss', 'slasher', 'defrost', 'embezzlement', 'sex addict', 'florida keys', 'aphrodisiac', 'arts', 'gross out', 'jeep', 'meteorite', 'futuristic city', 'lying', 'master warrior', 'heirloom', 'obesity', 'shanghai', 'colonel', 'hard hat', 'parody', 'easter bunny', 'utopia', 'tiger', 'bare knuckle boxing', 'boy scouts leader', 'student of medicine', 'online gaming', 'voodoo', 'high society', 'crown prince', 'playboy', 'barrier ice', 'clancy of the overflow', 'mount everest', 'school dance', 'canary', \"ant's nest\", 'highway', 'mine clearer', 'cavemen', 'patient', 'the white house', 'terminal illness', 'bathing', 'cinderella', 'cashier', \"mcdonald's restaurant\", 'cigar smoking', 'church choir', 'disc jockey', 'bullet', 'graduation speech', 'liposuction', 'producer', 'ice hockey', 'doc holliday', 'unmarried couple', 'twilight', 'fashion designer', 'muscular', 'firefly', 'morning', 'callgirl', 'combat photography', 'composer', 'pirate ship', 'india', 'flower shop', 'dracula', 'drag', 'denver', 'forced', 'toy story', 'rope bridge', 'locomotive', 'tobacco', 'bank robbery', 'gambling debts', 'hemingway', 'stranded', 'pity sex', 'saxophone', 'training camp', 'contemporary setting', 'young adult', 'mind transfer', 'bloody fight', 'comic strip', 'workplace romance', 'cern', 'muscle car', 'fireworks', 'foolish', 'superhero team', 'hiding in a garbage container', 'medieval times', 'mascot', 'idealist', 'monolith', 'party', 'time paradox', 'necrophilia', 'great wall of china', 'asian', 'albanian', 'washed up star', 'irish-american', 'dump truck', 'marina', 'sucked into jet engine', 'misfit partners', 'tropical', 'harvard university', 'perseus', 'disco', 'egypt', 'extremsport', 'indochina', 'swinging', 'prom queen', 'person running amok', 'pop culture', 'paleontologist', 'louvre', 'chariot', 'classic', 'prison rape', 'death of son', 'comb', 'geisha', 'secret agent', 'plan gone wrong', 'pipeworks', 'war propaganda', 'bomber', 'blind date', 'security guard killed', 'projectionist', 'evil dead', 'bag of money', 'bicycle courier', 'forced prostitution', 'feel-good ending', 'folk hero', 'pen pal', 'air force', 'strange', 'aids', 'karakoram', 'forks washington', 'catholic', 'premonition', 'garbage', 'ticket', 'instinct', 'economy', 'teen angst', 'brothers', 'car chase', 'hell', 'one by one', 'sexual awakening', 'alternate reality', 'nostalgic', 'personal growth', 'bitten on the arm', 'raid', 'nightclub entertainer', 'substance', 'the holocaust', 'autoritian education', '17th century', 'mutiny', 'baseball field', 'saturday night live', 'parrots', 'hyena', 'urban legend', 'meet cute', 'filmes contra o comunismo', 'school principal', 'well', 'promiscuity', 'canadian', 'class prejudice', 'assault', 'news', 'mockery', 'permission to marry', 'retro', 'silent film star', 'megalomaniac', \"new year's day\", 'insurrection', 'superheroine', 'outsourcing', 'tycoon', 'criticism', 'murder suspect', 'kaserne', 'dilemma', 'paleontology', 'eavesdropping', 'red riding hood', 'hypertrichosis', 'repair shop', 'rausschmeißer', 'typewriter', 'escapee convict', 'church service', 'pizza delivery', 'stamina', 'trapped in space', 'fan', 'fish tank', 'music contest', 'saudi arabia', 'winning', 'dismemberment', 'planet', 'banking', 'illegal immigration', 'selfishness', 'porn actor', 'atrocity', 'union', 'pet shop', 'raumschiffabsturz', 'military dress uniform', 'back from the dead', 'absorbing power', 'partially lost film', 'cowboy costume', 'villain', 'creation', 'attempted rape', 'psychological stress', 'drug trafficker', 'dc comics', 'fashion', 'central park', 'camping', 'nude fight', 'organic food', 'ticket booth', 'government corruption', 'outbreak', 'lost baggage', 'weapon', 'songs', 'la traviata', 'sexism', 'busty', 'personification of satan', 'gas chamber', 'bachelorette party', 'montage', 'rise to power', 'commander', 'remake', 'weeds', 'ghost', 'jocks', 'treasure', 'doppelganger', 'reference to google', 'time', 'anarchic comedy', 'argentina', 'explosion', 'eccentric', 'emperor', 'wetting pants', 'vault', 'action heroine', 'mothman', 'ballet dancer', 'archeological dig', 'hitchhike', 'fictionalized biography', 'externally controlled action', 'suitor', 'capitulation', 'oklahoma', 'swastika tattoo', 'mother son relationship', 'Γη', 'fame', 'syphillis', 'damsel in distress', 'arrested', 'celebrity', 'film crew', 'homepage', '\\xa0nosferatu', 'bloodthirstiness', 'illustrator', 'nun', 'wizard', 'mysterious events', 'meteorology', 'wyatt earp', 'starvation', 'blood', 'pentagon', 'liar', 'pubic hair', 'dublin', 'uss enterprise', 'tiki culture', 'crime epic', 'flowerpot', 'god complex', 'canon', 'genesis', 'los angeles', 'little brother', 'grand ole opry', 'social climbing', 'prenzlauer berg', 'based on board game', 'taxidermy', 'loss of relative', 'government', 'insurgent', 'rag doll', 'clergyman', 'escape agent', 'strip tease', 'skinhead', 'comedy', 'pen pals', 'moral conflict', 'julius caesar', 'arch villain', 'georgian', 'parents and children', 'legs', 'secret service', 'imaginary kingdom', 'breast', 'monarchy', 'comic book collector', 'chinese', 'cauterizing a wound', 'biker', 'cyborg', 'passage of time', 'dowager', 'voice imitation', 'natural disaster', 'uss reliant', 'turtle', 'pep rally', 'land developer', 'philosophy', 'repentance', 'newsletter', 'military life', 'south america', 'stalking', 'trust', 'aggression', 'hitman', 'water torture', 'dead cat', 'double agent', 'learning', 'tv duel', 'replacement', 'paddlewheel boat', 'irony', 'squire', 'entrepreneur', 'parakeet', 'skeleton', 'tied up', 'rock star', 'telephone call', 'female spy', 'expectant grandmother', 'religion and supernatural', 'interpreter', 'alternative reality', 'undercover cop', 'golden gun', 'mischievous children', 'machete', 'theatre milieu', 'attempted murder', 'hearing', 'new delhi india', 'train', 'bruges belgium', 'monastery', 'shed', 'comb over', 'womanizer', 'huntsman', 'fall', 'plane', 'tree', 'monster', 'intelligence agent', 'macao', 'intelligence agency', 'tall man', 'custody battle', 'grocery', 'seismograph', 'mailbox', 'ragtime', 'presidential cabinet', 'gold digger', 'satanist', 'schoolteacher', 'middle age', 'reno', 'machine gun', 'aunt nephew incest', 'vespa', 'pill bottle', 'pharmaceutical lab', 'black hole', 'canyon', 'intersecting lives', 'mugging', 'travel', 'loss of child', 'cholera', 'boy dog relationship', 'japanese', 'drawing', 'pool cleaner', 'protest march', 'mob', 'loan', 'animal sidekick', 'horse track', 'slumber party', 'pizza shop', 'music', 'britain', 'installer', 'oasis', 'soong sisters', 'body in chipper', 'computer scientist', 'buddy', 'buckingham palace', 'neo nazism', 'mobile phone', 'street gang', 'hiding', 'male friendship', 'lego', 'best man', 'internet dating', 'falcon', 'evil mastermind', 'angry', 'christmas horror', 'orpheus and eurydice', 'exhibitionism', 'child', 'semi autobiographical', 'gang', 'vomit', 'co-worker', 'jurassic park', 'skinned alive', 'book of the dead', 'dinner', 'nuclear waste', 'sneeze', 'strategic air command', 'hijacking of train', 'supernatural powers', 'child killer', 'biological father', 'car', 'tap dancing', 'land bridge', 'monitor', 'opposites attract', 'lexington massachusetts', 'vampire slayer', 'dam', 'exploding house', 'police training', 'sloth', 'kentucky', 'alarm clock', 'overflowing with imagination', 'murder investigation', 'professional thief', 'new age', 'birdwatching', 'aspiring writer', 'turkey', 'fear of flying', 'bow and arrow', 'suicidal', 'delta force', 'overweight woman', 'political thriller', 'grandfather granddaughter relationship', 'implied rape', 'triceratops', 'based on short story', 'space', 'wizardry', 'shrimp', 'auto', 'somalia', 'coming out', 'bitten', 'iodine', 'ex-lover', 'omen', 'night vision goggles', 'swimming', 'song', 'michigan', 'explosive decompression', 'intelligent', 'nuremberg trials', 'road movie', 'morality tale', 'damascus', 'trial', 'frontier', 'therapist patient relationship', 'muscles', 'network', 'speculative', 'ensemble cast', 'witch burning', 'australian outback', 'steel helmet', 'job', 'prime number', 'carriage', 'suppressed past', 'human sacrifice', 'everyman', 'disaster movie', 'attempt to escape', 'bisexual', 'fall from height', 'kansas', 'female protagonist', 'bravery', 'room key', 'photographer', 'escapade', 'to drop brick', 'righteous rage', 'chick flick', 'sexual pleasure', 'nude protest', 'japanese mafia', 'bedroom', 'three kings', 'boxer', 'lgbt elderly', 'revolutionary', 'stolen cars', 'shield', 'period drama', 'baseball', 'policeman', 'movie theater', 'swinger', 'rendezvous', 'lorry', 'disguise', 'police', 'technology', 'love spell', 'secret identity', 'silent man', 'portal', 'medusa', 'endorsement', 'oil', 'idaho', 'fitness-training', 'gym', 'contract killer', 'courtly life', 'poison', 'race', 'mayor', 'attraction', 'make believe', 'author', 'reboot', 'baseball pitcher', 'bookstore', 'split screen', 'stock market', 'idol', 'caterer', 'teaching', 'yellow press', 'crying', 'reference to sprite', 'aspiring singer', 'amateur detective', 'trust fund', 'engagement', 'cocaine', 'beard', 'pervertion', 'hit with a telephone', 'cannibal', 'leprosy', 'adolescence', 'based on true story', 'ventriloquist dummy', 'gloves', 'seminar', 'iconography', 'hidden camera', 'jack ryan', 'ringer', 'fingerprints', 'right wing', 'girl from the province', 'round table', 'government agent', 'trouble', 'state police', 'rooftop', 'space travel', 'watergate', 'star crossed lovers', 'imagination', 'corporate crime', 'wish fulfillment', 'vienna austria', 'volunteer', 'oscar award', 'prodigy', 'jesus', 'investor', 'tarmac', 'family drama', 'eiffel tower paris', 'mysterious killer', 'singing competition', 'honkytonk', 'girl dog relationship', 'gi', 'based on supposedly true story', 'fear', 'gas station', 'family history', 'studio', 'newfoundland', 'lincoln nebraska', 'implant', 'neon light', 'lab experiment', 'bird cage', 'microscope', 'wedding ceremony', 'dragonfly', 'psionic power', 'foster parents', 'bootlegger', 'drinking', 'promise', 'national socialist party', 'confession of crime', 'secret intelligence service', 'paraplegic', 'singing contest', 'evil prince', 'espionage', 'cabin in the woods', 'italy', 'goth girls', 'ashram', 'christmas eve', 'rice paddy', 'lhasa', 'parrot', 'safety', 'russian revolution 1917', 'anne frank', 'only child', 'loss of loved one', 'perfectionist', 'wheelchair', 'motown', 'admiration', 'basketball', 'praise', 'homicide', 'kitchen', 'blueprint', 'robot cop', 'psychopathy', 'time magazine', 'automaton', 'drifter', 'reverend', 'sonar', 'city portrait', 'christian film', 'bigotry', 'platonic love', 'simon says', 'social commentary', 'invasion', 'business woman', 'exclusion', 'sylvester the cat', 'turbulence', \"reference to pandora's box\", 'newswoman', 'apathy', 'physical abuse', 'decadence', 'adaptation', 'houston', 'new love', 'open relationship', 'music journalist', 'gymnasium', 'interrupted vacation', 'badger', 'chases and races', 'old house', 'false memory', 'rescue operation', 'prediction', 'elephant seal', 'mother', 'work', 'sexual frustration', 'sexual identity', 'movies', 'job interview', 'hereditary disease', 'rhode island', 'school presentation', 'ugliness', 'fang vamp', 'delinquency', 'war victim', 'alps', 'rampage', 'earthquake', 'immunity', 'wedding toast', 'simulator', 'psycho', 'elf', 'new mexican cinema', 'young boy', 'bounty hunter', 'pregnancy and birth', 'jack the ripper', 'uzi', 'college', 'whaling', 'jane austen', 'rite', 'immoderateness', 'american  way of life', 'garage sale', 'jail', 'mine car', 'satire', 'authority', 'overdose', '25th century', 'humanoid robot', 'advice', 'selkie', 'illness', 'good cop bad cop', 'out of body experience', 'noises', 'rookie', 'boredom', 'scythe', 'boston', 'animal death', 'demigod', 'radio', 'disc', 'tokyo japan', 'wildlife', 'freezing', 'daughter', 'roof chase', 'swimmer', 'san andreas', 'newlywed', 'musket', 'scientists', 'learning to drive', 'abusive marriage', 'wrongful arrest', 'art', 'child murderer', 'death of a child', 'turns into animal', 'federal reserve bank', 'astronaut', 'cruise', 'pageant', 'post-apocalyptic', 'tricks', 'psychotronic', 'nome alaska', 'motor-bike accident', 'hotel mom', 'boy', 'emigrant', 'battle for survival', 'trauma', 'kindness', 'attempted robbery', 'chimney sweeper', 'sabotage', 'chorine', 'sexual fantasy', 'madame', 'fidel castro', 'second wife', 'lockdown', 'bedtime story', 'impersonation', 'loot sharing', 'toronto', 'childhood memory', 'superhero spoof', 'anger', 'opening night', 'model', 'alter ego', 'moving in', 'changing history', 'parachute', 'possessiveness', 'blasphemy', 'defense', 'homesick', 'flirting', 'becoming an adult', 'female politician', 'gypsy', 'tv news anchor', 'budweiser', 'lightning bolt', 'teenage girl', 'twin brother', 'transvestism', 'bicycle', 'military court', 'lottery', 'editor-in-chief', 'telekinesis', 'exotic island', 'neo nazi', 'crime solving', 'artwork', 'sorcery', 'flying car', 'hammer horror', 'social outcast', 'pinball machine', 'girl band', 'ethics', 'brother', 'town square', 'tragic hero', 'gang leader', 'computer program', 'feedback', 'migraine', 'singapur', 'prologue', 'brother-in-law brother-in-law relationship', 'ashes', 'public pool', 'breaking finger', 'keith mallory', 'devil', 'rescue boat', 'sorority party', 'mold', 'fighter plane', 'fistfight', 'expiration', 'provocation', 'u.s. embassy', 'sex scandal', 'wound', 'feud', 'klingon', 'bats', 'lust and impulsiveness', 'text messaging', 'bronko nagurski', 'actor', 'mathematician', 'death of father', 'futuristic car', 'apprendista', 'child uses gun', 'wishes come true', 'jail cell', 'saladin', 'somali', 'officer', 'native peoples', 'poem', 'mass grave', 'toy maker', 'platoon leader', 'cryptography', 'fascist', 'diamant', 'mythological', 'blog', 'eaten by animal', 'family holiday', 'nazi germany', 'sino japanese war', 'nihilism', 'psychosis', 'negotiator', 'bankrupt', 'prehistoric creature', 'town', 'flesh eating plant', 'hostage-taking', 'dungeon', 'dancing scene', 'soccer', 'first time', 'jabba the hutt', 'show must go on', 'cleaning lady', 'prophet', 'cave painting', 'tennessee', 'pin-up', 'kazakhstan', 'talking robot', 'workaholic', 'nasa', 'slice of life', 'clumsiness', 'figaro', 'gang member', 'pressure', 'cyber terrorist', 'breaking the fourth wall', 'based on greek myth', 'surprise ending', 'violin player', 'criminal', 'dollar', 'hostess', 'poverty', 'pot', 'savannah', 'wildlife conservation', 'polaroid camera', 'cheerleader', 'meta film', 'wedding day', 'yucatec maya language', 'confronting the past', 'dystopic future', 'floatplane', 'spacecraft officer', 'low tide', 'sombrero', 'injured animal', 'voyeur', 'beautiful', 'alien teenager', 'tolerance', 'cockroach', 'flame', 'giving birth', 'driven insane', 'loss of job', 'electric shock', 'stuntman', 'chain gang', 'loss of friend', 'pedicab', 'awful leader', 'laziness', 'trunk', 'gravity', 'lingerie', 'syracuse university', 'droid', 'nuclear device', 'bird hatching', 'red sox', 'tragic love', 'just married', 'wrongful conviction', 'mine explosion', 'liberation of prisoners', 'bisexual woman', 'tomb', 'testicles', 'post', 'fight', 'training', 'panda', 'banishment', 'food', 'buddy film', 'dvd', 'trilogy', \"artists' life\", 'cemetery', 'reference to pizarro', 'georgia', 'elasticity', 'shot in the face', 'applause', 'broken arm', 'porn industry', 'crutch', 'pool table', 'heavy weight', 'pants', 'xenophobia', 'hit with a car door', 'middle aged woman', 'waiting', 'missed opportunity', 'mathematical theorem', 'van', 'hoverboard', 'rooftop fight', 'alternate timeline', 'multiple felonies', 'pot smoking', 'forcefield', 'overweight', 'journalism', 'divorce lawyer', 'vacuum', 'numbers', 'consciousness', 'outback', 'machismo', 'kaffeehaus', 'evil plot', 'animated map', 'ancient india', 'death of husband', 'performance', 'astrophysicist', 'singing in a car', 'self help guru', 'press', 'revenge motive', 'grandfather', 'revenge killing', 'coming of age', 'neo-nazi', 'end of trilogy', 'actress', 'borg', 'missing wife', 'wedding anniversary', '20th century', 'apocalypse', 'surveillance footage', 'housewife', 'indian war', 'shipwreck', 'retelling', 'civil war', 'lolita', 'airplane accident', 'pregnancy', 'space centre', 'transforming robot', 'vigil', 'director', 'puzzle box', 'environmentalism', 'orchestra', 'strategy', 'plant food', 'translation', 'desperation', 'revenge plot', 'fine art', 'bible quote', 'threesome', 'tyrannosaurus rex', \"children's perspectives\", 'free love', 'giant  squid', 'salem massachusetts', 'lodge', 'crash landing', 'reconnaissance', 'north carolina', 'card dealer', 'animate tree', 'innuendo', 'warrior woman', 'wager', 'based on young adult novel', 'racial slur', 'beijing', 'violence', 'san francisco giants', 'bloodsucker', 'first kiss', 'cape kennedy', 'suicide bombing', 'frost on a window', '2nd century', 'abortion', 'gay lead character', 'monsoon', 'peace contract', 'air traffic control', 'music fan', 'western u.s.', 'western town', 'cheese', 'loss of son', 'walkie talkie', \"family's daily life\", 'hires root beer', 'spontaneous combustion', 'fishing', 'peace offering', 'pacific theater', 'governor', 'music rehearsal', 'fourth dimension', 'crow', 'flaming arrow', 'ice age', 'shooting range', 'best friend', 'mentor protégé relationship', 'tabloid', 'dying young', 'plot twist', 'facebook', 'ex soldier', 'gay man', 'told in flashback', 'torture chamber', 'reaper', 'colorado', 'badge', 'menage a trois', 'fantastic four', 'fictional government agency', 'marshal', 'archive footage', 'loss of parents', 'valuable painting', 'battle for power', 'madagascar', 'safari', 'rwanda', 'montenegro', 'interracial friendship', 'quitting a job', 'disarming someone', 'documentary crew', 'nonviolent resistance', 'cannibals', 'pelz', 'cartoon cat', 'sex doll', 'graffiti', 'arson', 'intelligence', 'pop music', 'relationship problems', 'humiliation', 'blue', 'big family', 'ancient greece', 'wiretap', 'belching', 'cryogenics', 'swat team', 'criminal mastermind', 'bullet ballet', 'lethargy', 'dc extended universe', 'business card', 'fort', 'river thames', 'evolution', 'child witch', 'dna', 'shot to death', 'santa hat', 'bullet time', 'glass pipe', 'istanbul turkey', 'pistol', 'teen movie', 'usa politics', 'confessional', 'hip hop culture', 'reality show', 'sports agent', 'generations confilct', 'bmw', 'capsized ship', 'cops and robbers\\xa0', 'crossbow', 'skylight', 'drowning', 'fur', 'armored car', 'israel', 'police state', 'repressed memory', 'spaghetti', 'body possession', 'grave', 'culvert', 'housekeeper', 'tv ratings', 'orcs', 'media', 'heresy', 'evangelist', 'gold theft', 'knight', 'murder', 'beguilement', 'gibraltar', 'army captain', 'cult figure', 'plants', 'masked killer', 'innocence', 'glitch', 'nightclub', 'european', 'deification', 'gigantic hand', 'body mutilation', 'hypodermic needle', 'teen suicide', 'myth', 'segregation', 'boiler room', 'ice cream man \\xa0', 'foreign language adaptation', 'archer', 'praline', 'pie machine', 'living with parents', 'piano', 'moral courage', 'tail', 'homosexuality', 'meaning of life', 'mail order bride', 'guilty', 'smoking', 'alligator', 'shake', 'weather', 'lightning', 'tampa', 'pickpocket', 'burglary', 'train wreck', 'maid', 'parent-child bond', 'theremin', 'privacy', 'bickering', 'female vampire', 'rap music', 'sweden', 'marvel cinematic universe', 'responsibility', 'valak', 'rant', 'auctioneer', 'funeral home', 'alien phenomenons', 'electromagnetic pulse', 'minister', 'capture', 'generation gap', 'pulp fiction', 'colombia', 'antarctic', 'imperial seal', 'nuns', 'squall', 'emergency', 'head bashed in', 'sexology', 'laundry room', 'miscegenation', 'teleportation', 'child of divorce', 'playing pool', 'adult animation', 'restart', 'trojan horse', 'sports car', 'opera singer', 'truck stop', 'cardiologist', 'chance', 'telecaster', 'roman empire', 'hairdresser', 'jumping rope', 'theatre play', 'conservatory', 'story', 'hillbilly', 'nudism', 'bride and groom', 'winston churchill', 'mississippi', 'ex-girlfriend', 'cult favorite', 'boxing match', 'soviet troops', 'mother child relationship', 'severed ear', 'getting home', 'strong language', 'black sabbath', 'claim', 'unemployed actor', 'u.s. marshal', 'hugging', '1910s', 'cheering crowd', 'indonesia', 'australia', 'winzer', 'sea', 'infatuation', 'punched in the face', 'rio de janeiro', 'wedding party', 'liana', 'bollywood', 'claude monet', 'diving suit', 'planetary configuration', 'father murder', 'war veteran', 'stealth aircraft', 'mentally disabled', 'court case', 'bad kids', 'conversation', 'baseball bat', 'automobile industry', 'stephen hawking', 'illegal prostitution', 'second chance', 'sexual exploration', 'assassination attempt', 'disappearance', 'nude man murdered', 'married couple', 'meat cleaver', 'noodle', 'acid', 'business consultant', 'sexual humor', 'killer dog', 'jihad', 'life turned upside down', 'spirit', 'dealing with the past', 'pyre', 'dying and death', 'auction', 'osteopath', 'lasergun', 'satanism', 'spiders', 'nigeria', 'wristwatch', 'past', 'puppeteer', 'cleaning bathroom tile', 'manchuria', 'exploding bus', 'destroy', 'mekka', 'transsexuality', 'henry viii', 'yoda', 'weatherman', 'relatives', 'model student', 'shot through a wall', 'based on cartoon', 'sword and planet', 'redemption', 'internment camp', 'lost civilisation', 'exit', 'filmed killing', 'kuala lumpur malaysia', 'voyeurism', 'faked footage', 'evacuation', 'special forces', 'make a match', 'queen', 'bagdad', 'vigilante', 'news reporter', 'bed and breakfast place', 'push ups', 'transformers', \"alzheimer's disease\", 'microchip', 'falklands', 'scotland', 'safecracker', 'doomed man', 'social worker', 'oil field', 'tavern', 'triad', 'rude', 'independence', 'planned murder', 'drug traffic', 'double crossed', 'red sea', 'fund raiser', 'slave owner', 'pretended suicide', 'suspicious wife', 'dreamer', 'intimidation', 'childhood sweetheart', 'restaurant critic', 'kerouac', 'hangar', 'navidad', 'snow kingdom', 'mutant', 'police fake', 'political negotiations', 'disarmament', 'chimpanzee', 'panzer', 'white suit', 'new girl at school', 'image campaign', 'romulans', 'password', 'marijuana joint', 'elevator shaft', 'magistrate', 'man change', 'stolen money', 'major', 'playing chess', 'in love with enemy', 'newsroom', 'class conflict', 'ogre', 'hamster', 'colony', 'booby trap', 'karma', 'uss missouri', 'puberty', 'trainer', 'music instrument', 'kraken', 'south hypnosis', 'bar', 'frontier town', 'stasis', 'city ruin', 'gulf war', 'feudality', 'gnosticism', 'quarter', 'plantation', 'offer', 'anger issues', 'scar', 'enforcer', 'rise and fall', 'furnace', 'resistance', 'lover (female)', 'fellatio', '1970s', 'partnership', 'rescue', 'christmas', 'arthouse', 'feminist', 'cult', 'moskow', 'humanitarian', 'artificial insemination', 'injury', 'yuppie', 'underage girlfriend', 'street fighter', 'sun glasses', 'west virginia', 'code', 'siberia', 'electro shock', 'subway', 'golden egg', 'cyber terrorism', 'law enforcement', 'deserted by husband', 'judge', 'excrements ', 'state prison', 'vienna opera', 'hung upside down', 'motor', 'bone', 'mental', 'glaciale', 'doves', 'stanley cup', 'weight lifting', 'journal', 'news broadcast', 'electric chair', 'bahamas', 'death row inmate', 'atlantic ocean', 'abraham lincoln', 'animal attack', 'rhinoceros', 'towel', 'castle', 'dark past', 'nazi', 'evil genius', 'gun', 'pity', 'dead wish', 'german shepherd', 'frigate', 'national security agency (nsa)', 'wrack', 'last supper', 'underwater photography', 'smoke ring', 'stork', 'stoner', 'thesis', 'railroad robber', 'bullet wound', 'death of patient', 'righting the wronged', 'merlin', 'red curtain', 'cage', 'mouse', 'union soldier', 'writer', 'seeing the future', 'la roque', 'ymca', 'ship captain', 'shortage of money', '1980s', 'martial arts', 'drug scene', 'ex-boyfriend ex-girlfriend relationship', 'desolate', 'iwo jima', 'lincoln assassination', 'running', 'cowardice', 'energy supply', 'body count', 'lawyer', 'terrorist group', 'wealthy', 'paradise', 'drug addiction', 'boys', 'harrassment', 'warrior', 'drug', 'shoulder holster', 'sports injury', 'novelist', 'sword and sorcery', 'near miss', 'coin', 'confidant', 'super-8', 'shoe', 'tightrope', 'ark', 'malibu', 'female stalker', 'red wine', 'frat party', 'cattle empire', 'shotgun', 'microphone', 'jakarta indonesia', 'dark future', 'm.i.t.', 'logician', 'monkey actor', 'teleprompter', 'motion capture', 'hit in the crotch', 'underwater scene', 'anti hero', 'dark hero', 'lye', 'jury tampering', 'framed', 'center of the earth', 'norway', 'heavy metal', 'martin luther king', 'russia', 'asteroid', 'dead body', 'bosnia and herzegovina', 'ecw', 'covered investigation', 'jinx', 'pygmalion', 'overleven', 'nevada', 'man slaps a woman', 'jedi training', 'dangerous mission', 'shower', 'cloning', 'neurosis', 'roof', 'married', 'machine town', 'doorman', 'support group', 'teenage sexuality', 'swim meet', 'lex luthor', 'flag', 'held captive', 'miniseries', 'human evolution', 'family curse', 'inner city', 'dirt road', 'heir to the throne', 'sarajevo', 'story teller', 'commodities', 'scary little people', 'olympian village', 'olympian sports team', 'villainess', 'chameleon', 'royal court', 'baccarat', 'classmate', 'contact', 'mercedes', 'individuality', 'cowardliness', 'disembowelment', 'gunshot', 'dying mother', 'head wound', 'wedding ring', 'ivy league', 'military prison', 'halloween', 'mine field', 'columbine', 'alone', 'pride and vanity', 'billionaire', 'paranormal phenomena', 'arabian', 'mexican american border', 'shaman', 'county fair', 'exhibit', 'moulin rouge', 'unfulfillment', 'eroticism', 'caper comedy', 'mayoral campaign', 'rube', '绝地奶霸', 'short sighted', 'theatre group', 'aqueduct', 'courtroom drama', 'bangkok', 'journey shown on map', 'naive children', 'video game', 'sister', 'website', 'shootout', 'domineering mother', 'flower girl', 'auto accident', 'austria', 'doubt', 'low-budget', 'car journey', 'burn victim', 'chase', 'cinematographer', 'totalitarian regime', 'marine biologist', 'stuffed animal', 'business start-up', 'mistress', 'do over', 'nationalism', 'era', 'psychiatrist', 'sect', 'jedi', 'freedom fighter', 'black magic', 'medical', 'pokémon', 'carny', 'viking', 'career woman', 'arrow in back', 'candlelight vigil', 'stronger villain', 'tierversuch', 'lew harper', 'buddy comedy', 'legend', 'iron lung', 'firewall', 'computer virus', 'misogynist', 'skunk', 'american', 'exodus', 'terrarium', 'basketball court', 'drug trafficking', 'kaiju', 'young entrepreneur', 'open air cinema', 'smuggling of arms', 'helen of troy', 'casual meeting', 'construction worker', 'political drama', 'market economy', 'islam', 'police corruption', 'contamination', 'olympic athlete', 'ecstasy', 'starting over', 'eating disorder', 'broken arrow', 'school of witchcraft', 'mushroom cloud', 'social class', 'loss of pet', 'saving the world', 'celebrity cameo', 'presidential election', 'elite club', 'sister-in-law', 'soldier', 'teen spy', 'easter', 'amateur radio', 'frustration', 'teenage rebellion', 'biohazard', 'cliffs', 'laptop', 'lost communication', 'flying upside down', 'hydrogen bomb', 'envy', 'truck driver', 'runner', 'magical creature', 'salzburg', 'uss enterprise-a', 'scary', 'submarine', 'war room', 'sponsor', 'crooked lawyer', 'firing range', 'controversial', 'fountain', 'burn', 'bare knuckle fighting', 'savior', 'comet', 'bombing', 'jds myoko', 'hunting trip', 'sanity', 'marriage problems', 'naivety', 'shogun', 'transplantation', 'vegetable', 'paranormal investigation', 'alien queen', 'limp', 'supervillain', 'sister sister relationship', 'class differences', 'destruction of planet', 'job-hopping', 'africa', 'ambition', 'snow storm', 'michael jackson', 'presidential debate', 'falklands war', 'locker', 'hansel and gretel', 'chat', 'district attorney', 'female yakuza', 'atlantic city', 'forensic', 'escape', 'resignation', 'ghostbuster', 'chinese painting', 'commoner', 'broker', 'palace intrigue', 'alien space craft', 'scuba diving', 'lawsuit', 'psychopathic killer', 'exam', 'silent protagonist', 'rollerblade', 'sex tape', 'cia agent', 'intestines', '16th century', 'porn actress', 'professor', 'freezer', 'exoskeleton', 'shyness', 'sadness', 'pretending to be rich', 'antiquary', 'beanstalk', 'red hair', 'mind uploading', 'newspaper reporter', 'cookbook', 'sailing trip', 'kashmir conflict', 'extreme violence', 'pen', 'family dog', 'shadowhunter', 'dyr', 'fortune teller', 'anonymous letter', 'guitar case', 'father daughter relationship', 'homage', 'great depression', 'remake of french film', 'kennel', 'milf', 'violence in schools', 'film history', 'suicidal mission', 'decoy', 'silencer', 'online chat', 'expectant father', 'pizzeria', 'prehistoric', 'software engineer', 'flirt', 'kiss', 'new york city', 'documentary filmmaking', 'steam room', 'bank robber', 'jury', 'peasant', 'undercover', 'seal', 'british army', 'gnomes', 'dialogue driven', 'baltimore maryland', 'dorm room', 'therapist', 'world politics', 'prohibition', 'thoughts of retirement', 'apple', 'beggar', 'lapd', 'organ transplant', 'moonshine', 'guerrilla', 'new toy', 'national socialism', 'barn raising', 'looking for  birth parents', 'riddle', 'porsche', 'rescue mission', 'hijack', 'race politics', 'honor', 'lancaster, pa', 'pop', 'business ethics', 'polio', 'baja california', 'message', 'old friends', 'boyfriend girlfriend relationship', 'video tape', 'sadist', 'customs house', 'serum', 'bathing accident', 'halfway house', 'friday the thirteenth', 'relation', 'dark secrets', 'thomas more', 'django', 'masterpiece', 'survivor', 'school', 'allergy', 'incompetence', 'hybrid', 'drug humor', 'alan smithee', 'cybernetics', 'goblin', 'killing spree', 'demonic possession', 'track and field', 'reference to the big bad wolf', 'pilgrimage', 'part', 'lebanon', 'mistake', 'library card', 'expecting twins', 'ontario canada', 'ambassador', 'screenwriter', 'greek', 'toyko', 'erotic thriller', 'step parents', 'seclusion', 'suspense', 'autocracy', 'mission of murder', 'time portal', 'professional sports', 'theatre audience', 'queen elisabeth ii', 'film studio', 'sha-ka-ree', 'spider general', 'allies', 'cuba', 'political corruption', 'ghetto riot', 'adversary', 'researcher', 'chosen one', 'talking dog', \"girls' boarding school\", 'brawl', 'street', 'munchies', 'matter of life and death', 'warlock', 'teacher', 'fog', 'fbi profiler', 'shot in the knee', 'gallery owner', 'hypatia', 'beer keg', 'lion', 'horror spoof', 'harmonica', 'addicted', 'pleite', 'religious fundamentalism', 'cambridge', 'dead father', 'ex husband', 'perónism', 'sorority house', 'manslaughter', 'scot', 'shot in the arm', 'genghis khan', 'prairie', 'killer robot', 'sold into slavery', 'guttersnipe', 'drug addict', 'tanker', 'politically incorrect', 'leave', 'eyesight', 'stasi', 'total destruction', 'motorcycle', 'southern california', 'drunk', 'orphanage', 'financial transactions', 'inn', 'white trash', 'hotelier', 'campaign speech', 'clownfish', 'beer pong', 'death', 'love and romance', 'ghost child', 'history', 'the big game', 'biotechnology', 'rookie cop', 'stockman', 'cat house', 'american football player', 'meteorologist', 'territory', 'supernatural ability', 'new home', 'gunslinger', 'homophobia', 'taking resposibility', 'cheating husband', 'ring', 'ex-cop', 'machinist', '18th century', 'osama bin laden', 'amateur theater', 'summer', 'costume', 'aggression by plant', 'probation', 'vlad', 'female sexuality', 'usa president', 'blood on shirt', 'white dove', 'childbirth', 'part animated', 'baby geniuses', 'airport security', 'insomniac', 'munition', 'surgeon', 'junk food', 'racist', 'god', 'mistake in person', 'hard times', 'archery', 'spoiled son', 'studies', 'witness protection', 'alien dna', 'town in panic', 'real estate development', 'fetus', 'driving range', 'pottery', 'jumping off a bridge', 'new hampshire', 'fiji', '\\xa0', 'urban setting', 'cornwall', 'dead parents', 'pretty woman', 'medallion', 'shot in the stomach', 'elevator', 'failed business', 'bathroom humor', 'ancient china', 'radio transmission', 'lifting female in air', 'fairy-tale figure', 'apartheid', 'linguist', 'trees', 'botanist', 'formula 1', 'hand to hand combat', 'tulips', 'texas', 'attractiveness', 'white gloves', 'handicap sex', 'fantasy sequence', 'bail jumper', 'michael myers', 'schloss schönbrunn', 'unreliable narrator', 'estate agent', 'diner', 'bali', 'intrigue', 'crime spree', 'fictitious marriage', 'strugatsky', 'chipmunk', 'snowing', 'smartphone', 'journey', 'ballerina', 'tortured to death', 'sting operation', 'white house', 'rich man', 'condominium', 'maori tradition', 'hangman', 'prehistoric man', 'narcism', 'mustang', 'subculture', 'teen comedy', 'greek island', 'manchester city', 'cocktail', 'tease', 'troubled marriage', 'manager', 'dinosaur', 'camp', 'classical music', 'baby-snatching', 'emergency room', 'wounded', 'fabergé egg', 'red army', 'stage diving', 'jack frost', 'analyst', 'hidden room', 'counter terrorism', 'jury trial', 'whistleblower', 'divorce', 'mass murder', 'lucid dreaming', 'leaving home', 'bitten in the neck', 'black and white to color', 'narnia', 'gentle giant', 'dare', 'gallows', 'transamerica pyramid', 'fondling', 'part live action', 'indiana jones spoof scene', 'electrical torture', 'misadventure', 'races', 'ironclad ship', 'pervert', 'vororte', 'post civil war', 'rocket launcher', 'buffalo', 'beauty standards', 'sailboat', 'convicted felon', 'stock exchange', 'crook', 'journalist', 'solidarity', 'orphan', 'media tycoon', 'gags', 'credit card', 'desk', 'detox', 'intern', 'wind chime', 'nobel prize', 'uprising', 'cattle', 'fbi', 'gatling gun', 'modeling', 'allied forces', 'prizefighting', 'family conflict', 'vulcan', 'solitary confinement', 'underdog', 'museum', 'boring', 'torpedo', 'cardsharp', 'siblings relations', 'stairway', 'art dealer', 'pets', 'misinformation', 'grizzly bear', 'terrorist attack', 'beautiful woman', 'mental disorders', 'obsession', 'plagiarism', 'eastern europe', 'journey in the past', 'overweight man', 'tourism', 'electrocution', 'ram', 'pastor', 'motivational speaker', 'stand-up comedian', 'galier', 'information leak', 'passive aggression', 'teacher student relationship', 'obsessive love', 'hindu', 'lasersight', 'reeducation camp', 'inferiority', 'loss of family', 'spacecraft accident', 'loss of daughter', 'westford massachusetts', 'mental disease', 'hideout', 'baustelle', 'eco-terrorists', 'atomic bomb', 'prostitution', 'bear', 'massage', 'ibiza', 'evil witch', 'intelligence test', 'health', 'broken mirror', 'eclipse', 'indianapolis', 'screwball comedy', 'hades', 'conscientious objector', 'surfer', 'imprinting', 'biological weapon', 'child kidnapping', 'music box', 'underground fighting', 'hallucination', 'airport', 'eminem', 'character is subject of comic', 'affection', 'racehorse', 'theme park', 'stretch limousine', 'bathrobe', 'plo', 'warhead', 'prince charles', 'trojan', 'sliding down a pole', 'dynamite', 'store', 'oil rig\\xa0', 'genetic engineering', 'imax', 'sled dogs', 'cemetary', 'mistaken identity', 'missouri', 'cash', 'garden', 'k2', 'sierra leone', 'naval combat', 'evil', 'family vacation', 'tragic death', 'tepes', 'destruction', 'burlesque dancer', 'nascar', 'heart attack', 'mind and soul', 'alcohol abuse', 'asian lead', 'farm', 'christmas carol']\n"
          ],
          "name": "stdout"
        }
      ]
    },
    {
      "cell_type": "code",
      "metadata": {
        "id": "-GqUkVFOgSm2",
        "colab_type": "code",
        "outputId": "d06e1408-8d0c-470e-bf85-75bdb836b51d",
        "colab": {
          "base_uri": "https://localhost:8080/",
          "height": 34
        }
      },
      "source": [
        "len(keywords)"
      ],
      "execution_count": 0,
      "outputs": [
        {
          "output_type": "execute_result",
          "data": {
            "text/plain": [
              "8657"
            ]
          },
          "metadata": {
            "tags": []
          },
          "execution_count": 66
        }
      ]
    },
    {
      "cell_type": "markdown",
      "metadata": {
        "id": "tk0oJgw6gWv6",
        "colab_type": "text"
      },
      "source": [
        "Existem mais keywords distintas do que filmes  o que indica que cada filme vai ter o seu conjunto de keywords  e estes varia muito de filme para filme.  Vamos eliminar esta variável. \n",
        "\n",
        "Nota: Caso existisse tempo poderíamos ir ver se existem keywords que aparecem com mais frequencia para vote_average superiores/ inferiores e assim criar clusters de keywords. "
      ]
    },
    {
      "cell_type": "code",
      "metadata": {
        "id": "zBzAv6YjhuSu",
        "colab_type": "code",
        "colab": {}
      },
      "source": [
        "# eliminar coluna keywords\n",
        "movies = movies.drop(columns=['keywords'] , axis = 1 )"
      ],
      "execution_count": 0,
      "outputs": []
    },
    {
      "cell_type": "code",
      "metadata": {
        "id": "zoNzGD6ciBwt",
        "colab_type": "code",
        "outputId": "b35f907b-f0c2-4b79-891d-27a4361e7ce8",
        "colab": {
          "base_uri": "https://localhost:8080/",
          "height": 428
        }
      },
      "source": [
        "movies.head()"
      ],
      "execution_count": 0,
      "outputs": [
        {
          "output_type": "execute_result",
          "data": {
            "text/html": [
              "<div>\n",
              "<style scoped>\n",
              "    .dataframe tbody tr th:only-of-type {\n",
              "        vertical-align: middle;\n",
              "    }\n",
              "\n",
              "    .dataframe tbody tr th {\n",
              "        vertical-align: top;\n",
              "    }\n",
              "\n",
              "    .dataframe thead th {\n",
              "        text-align: right;\n",
              "    }\n",
              "</style>\n",
              "<table border=\"1\" class=\"dataframe\">\n",
              "  <thead>\n",
              "    <tr style=\"text-align: right;\">\n",
              "      <th></th>\n",
              "      <th>budget</th>\n",
              "      <th>popularity</th>\n",
              "      <th>production_companies</th>\n",
              "      <th>production_countries</th>\n",
              "      <th>revenue</th>\n",
              "      <th>runtime</th>\n",
              "      <th>spoken_languages</th>\n",
              "      <th>title</th>\n",
              "      <th>vote_average</th>\n",
              "      <th>vote_count</th>\n",
              "      <th>year</th>\n",
              "      <th>Western</th>\n",
              "      <th>Family</th>\n",
              "      <th>Music</th>\n",
              "      <th>Horror</th>\n",
              "      <th>Thriller</th>\n",
              "      <th>Science Fiction</th>\n",
              "      <th>Animation</th>\n",
              "      <th>Fantasy</th>\n",
              "      <th>Crime</th>\n",
              "      <th>War</th>\n",
              "      <th>Adventure</th>\n",
              "      <th>Documentary</th>\n",
              "      <th>Foreign</th>\n",
              "      <th>Drama</th>\n",
              "      <th>Mystery</th>\n",
              "      <th>Romance</th>\n",
              "      <th>Comedy</th>\n",
              "      <th>History</th>\n",
              "      <th>Action</th>\n",
              "    </tr>\n",
              "  </thead>\n",
              "  <tbody>\n",
              "    <tr>\n",
              "      <th>0</th>\n",
              "      <td>237000000</td>\n",
              "      <td>150.437577</td>\n",
              "      <td>[Ingenious Film Partners, Twentieth Century Fo...</td>\n",
              "      <td>[United States of America, United Kingdom]</td>\n",
              "      <td>2787965087</td>\n",
              "      <td>162.0</td>\n",
              "      <td>[English, Español]</td>\n",
              "      <td>Avatar</td>\n",
              "      <td>7.2</td>\n",
              "      <td>11800</td>\n",
              "      <td>2009</td>\n",
              "      <td>0.0</td>\n",
              "      <td>0.0</td>\n",
              "      <td>0.0</td>\n",
              "      <td>0.0</td>\n",
              "      <td>0.0</td>\n",
              "      <td>1.0</td>\n",
              "      <td>0.0</td>\n",
              "      <td>1.0</td>\n",
              "      <td>0.0</td>\n",
              "      <td>0.0</td>\n",
              "      <td>1.0</td>\n",
              "      <td>0.0</td>\n",
              "      <td>0.0</td>\n",
              "      <td>0.0</td>\n",
              "      <td>0.0</td>\n",
              "      <td>0.0</td>\n",
              "      <td>0.0</td>\n",
              "      <td>0.0</td>\n",
              "      <td>1.0</td>\n",
              "    </tr>\n",
              "    <tr>\n",
              "      <th>1</th>\n",
              "      <td>300000000</td>\n",
              "      <td>139.082615</td>\n",
              "      <td>[Walt Disney Pictures, Jerry Bruckheimer Films...</td>\n",
              "      <td>[United States of America]</td>\n",
              "      <td>961000000</td>\n",
              "      <td>169.0</td>\n",
              "      <td>[English]</td>\n",
              "      <td>Pirates of the Caribbean: At World's End</td>\n",
              "      <td>6.9</td>\n",
              "      <td>4500</td>\n",
              "      <td>2007</td>\n",
              "      <td>0.0</td>\n",
              "      <td>0.0</td>\n",
              "      <td>0.0</td>\n",
              "      <td>0.0</td>\n",
              "      <td>0.0</td>\n",
              "      <td>0.0</td>\n",
              "      <td>0.0</td>\n",
              "      <td>1.0</td>\n",
              "      <td>0.0</td>\n",
              "      <td>0.0</td>\n",
              "      <td>1.0</td>\n",
              "      <td>0.0</td>\n",
              "      <td>0.0</td>\n",
              "      <td>0.0</td>\n",
              "      <td>0.0</td>\n",
              "      <td>0.0</td>\n",
              "      <td>0.0</td>\n",
              "      <td>0.0</td>\n",
              "      <td>1.0</td>\n",
              "    </tr>\n",
              "    <tr>\n",
              "      <th>2</th>\n",
              "      <td>245000000</td>\n",
              "      <td>107.376788</td>\n",
              "      <td>[Columbia Pictures, Danjaq, B24]</td>\n",
              "      <td>[United Kingdom, United States of America]</td>\n",
              "      <td>880674609</td>\n",
              "      <td>148.0</td>\n",
              "      <td>[Français, English, Español, Italiano, Deutsch]</td>\n",
              "      <td>Spectre</td>\n",
              "      <td>6.3</td>\n",
              "      <td>4466</td>\n",
              "      <td>2015</td>\n",
              "      <td>0.0</td>\n",
              "      <td>0.0</td>\n",
              "      <td>0.0</td>\n",
              "      <td>0.0</td>\n",
              "      <td>0.0</td>\n",
              "      <td>0.0</td>\n",
              "      <td>0.0</td>\n",
              "      <td>0.0</td>\n",
              "      <td>1.0</td>\n",
              "      <td>0.0</td>\n",
              "      <td>1.0</td>\n",
              "      <td>0.0</td>\n",
              "      <td>0.0</td>\n",
              "      <td>0.0</td>\n",
              "      <td>0.0</td>\n",
              "      <td>0.0</td>\n",
              "      <td>0.0</td>\n",
              "      <td>0.0</td>\n",
              "      <td>1.0</td>\n",
              "    </tr>\n",
              "    <tr>\n",
              "      <th>3</th>\n",
              "      <td>250000000</td>\n",
              "      <td>112.312950</td>\n",
              "      <td>[Legendary Pictures, Warner Bros., DC Entertai...</td>\n",
              "      <td>[United States of America]</td>\n",
              "      <td>1084939099</td>\n",
              "      <td>165.0</td>\n",
              "      <td>[English]</td>\n",
              "      <td>The Dark Knight Rises</td>\n",
              "      <td>7.6</td>\n",
              "      <td>9106</td>\n",
              "      <td>2012</td>\n",
              "      <td>0.0</td>\n",
              "      <td>0.0</td>\n",
              "      <td>0.0</td>\n",
              "      <td>0.0</td>\n",
              "      <td>1.0</td>\n",
              "      <td>0.0</td>\n",
              "      <td>0.0</td>\n",
              "      <td>0.0</td>\n",
              "      <td>1.0</td>\n",
              "      <td>0.0</td>\n",
              "      <td>0.0</td>\n",
              "      <td>0.0</td>\n",
              "      <td>0.0</td>\n",
              "      <td>1.0</td>\n",
              "      <td>0.0</td>\n",
              "      <td>0.0</td>\n",
              "      <td>0.0</td>\n",
              "      <td>0.0</td>\n",
              "      <td>1.0</td>\n",
              "    </tr>\n",
              "    <tr>\n",
              "      <th>4</th>\n",
              "      <td>260000000</td>\n",
              "      <td>43.926995</td>\n",
              "      <td>[Walt Disney Pictures]</td>\n",
              "      <td>[United States of America]</td>\n",
              "      <td>284139100</td>\n",
              "      <td>132.0</td>\n",
              "      <td>[English]</td>\n",
              "      <td>John Carter</td>\n",
              "      <td>6.1</td>\n",
              "      <td>2124</td>\n",
              "      <td>2012</td>\n",
              "      <td>0.0</td>\n",
              "      <td>0.0</td>\n",
              "      <td>0.0</td>\n",
              "      <td>0.0</td>\n",
              "      <td>0.0</td>\n",
              "      <td>1.0</td>\n",
              "      <td>0.0</td>\n",
              "      <td>0.0</td>\n",
              "      <td>0.0</td>\n",
              "      <td>0.0</td>\n",
              "      <td>1.0</td>\n",
              "      <td>0.0</td>\n",
              "      <td>0.0</td>\n",
              "      <td>0.0</td>\n",
              "      <td>0.0</td>\n",
              "      <td>0.0</td>\n",
              "      <td>0.0</td>\n",
              "      <td>0.0</td>\n",
              "      <td>1.0</td>\n",
              "    </tr>\n",
              "  </tbody>\n",
              "</table>\n",
              "</div>"
            ],
            "text/plain": [
              "      budget  popularity  ... History Action\n",
              "0  237000000  150.437577  ...     0.0    1.0\n",
              "1  300000000  139.082615  ...     0.0    1.0\n",
              "2  245000000  107.376788  ...     0.0    1.0\n",
              "3  250000000  112.312950  ...     0.0    1.0\n",
              "4  260000000   43.926995  ...     0.0    1.0\n",
              "\n",
              "[5 rows x 30 columns]"
            ]
          },
          "metadata": {
            "tags": []
          },
          "execution_count": 68
        }
      ]
    },
    {
      "cell_type": "markdown",
      "metadata": {
        "id": "6M611c-WiNEa",
        "colab_type": "text"
      },
      "source": [
        "--production_companies"
      ]
    },
    {
      "cell_type": "code",
      "metadata": {
        "id": "VoKRqJipiTor",
        "colab_type": "code",
        "outputId": "d8deaa81-34e1-4078-a255-57d0bd57d145",
        "colab": {
          "base_uri": "https://localhost:8080/",
          "height": 54
        }
      },
      "source": [
        "production_companies = set()\n",
        "for item in movies.production_companies:\n",
        "    for company in item:\n",
        "        production_companies.add(company)\n",
        "production_companies = list(production_companies)\n",
        "print(production_companies)"
      ],
      "execution_count": 0,
      "outputs": [
        {
          "output_type": "stream",
          "text": [
            "['Heineken Branded Entertainment', 'Gospel of John Ltd.', 'Ten Thirteen Productions', 'On Entertainment', 'John Wells Productions', 'Tall Trees Productions', 'UIP', 'Marubeni', 'Kasdan Pictures', 'Outlaw Sinema', 'Liberty Pictures', 'Obelisk Productions', 'Versátil Cinema', 'Robert Simonds Productions', 'Endgame Entertainment', 'Pure Flix Entertainment', 'Sierra / Affinity', 'Baltimore Pictures', 'Zaftig Films', 'Mace Neufeld Productions', 'Canal Plus Group', 'Bonnie Timmermann Productions', 'Wadleigh-Maurice', 'Global Medien KG', 'Open Road Films', 'Such Much Films', 'Midnight Picture Show', 'Avenue Pictures Productions', 'Columbia Pictures Corporation', 'Miho Film', 'Occupant Entertainment', 'BrownHouse Productions', 'Alvernia Studios', 'Stéphan Films', 'Allied Stars, Ltd.', 'Sudden Storm Productions', '3D Entertainment', 'Dark Harbor Stories', 'Gaylord Films', 'Mitsubishi', 'TaliaFilm II Productions', 'Courtside Seats Productions', 'Constantin Film Ltd.', 'Blossom Films', 'Media Magik Entertainment', 'Da Vinci Media Ventures', 'Turner Pictures', 'Grive Productions', 'Carolco International N.V.', 'Silverwood Films', 'Central Cinema Company Film', 'Red Bank Films', 'Duplass Brothers Productions', 'CoBo Fund', 'Intellectual Properties Worldwide', 'Quick Draw Productions', 'InDigEnt (Independent Digital Entertainment)', 'Huahua Media', 'Quick Six Entertainment', 'Eclectic pictures', 'Jersey Films', 'Medienboard Berlin-Brandenburg', 'Friendly Films (II)', 'Bazmark Films', 'Instituto Nacional de Cine y Artes Audiovisuales (INCAA)', 'Saturn Films', 'Cecchi Gori Group Tiger Cinematografica', 'Core Productions', 'Paradox Entertainment', 'MMCB Film Produktion 2004', 'Valhalla Motion Pictures', 'Ciné+', 'Wild Bunch', 'Mpower Pictures', 'Maverick Films', \"Willie's Movies\", 'Fantasy Films', 'UW3 Film Productions', 'BBC Worldwide', 'A&B Producoes', 'KC Medien', 'Generalitat Valenciana', 'The Tyler Perry Company', 'Oil Flick Films No.2', 'Kinberg Genre', 'Lumière Pictures', 'Hector BV', 'Grand Slam Productions', 'National Lottery', 'Motion Picture Production GmbH & Co. Erste KG', 'T-Series', 'Baldwin Entertainment Group', 'Danny the Dog Prods Ltd.', 'Wolper Organization', 'SPD Films', 'Creepshow Films Inc.', 'Pariah Entertainment Group', 'Corsan', 'Code Entertainment', 'Three Good Men', 'FilmColony', 'Great Oaks Entertainment', 'Carol Baum Productions', 'Odin', 'Regione Lazio', 'Mirage Studios', 'Jonathan Krane Group', 'Harbor Light Entertainment', 'WideAwake', 'David Kirschner Productions', 'Crucial Films', 'EMJAG Productions', 'Doosabu Film', 'LStar Capital', 'Les Films Alain Sarde', 'Barentsfilm', 'Etalon film', 'CJ Capital Investment', 'Arte France Cinéma', 'Blue-Tongue Films', 'Hopscotch Productions', 'Mirisch Corporation, The', 'Fox Filmes do Brasil', 'Jan Chapman Pictures', 'Collision Entertainment', 'Dog Eat Dog Productions Inc.', 'Arc Productions', 'Pascal Pictures', 'Runteam', 'Toho Pictures', 'Blue Wolf', 'Rational Packaging Company', 'Appian Way', 'Traveling Picture Show Company (TPSC)', 'Image Entertainment', 'Vulcan Productions Inc.', 'Rat Entertainment', 'Dharma Productions', 'Double Nickel Entertainment', 'Filmax', 'Sobras International Pictures', 'Nina Saxon Film Design', 'Material Pictures', 'Echo Lake Productions', 'Arachnid Productions Ltd.', 'Cruel and Unusual Films', 'Groucho II Film Partnership', 'Eleventh Street Production', 'NetFlix', 'Scared Productions', 'De Line Pictures', 'Allegiance Theater', 'The Virginia Company LLC', 'Nimbus Film Productions', 'Museum Canada Productions', 'Nelson Entertainment', 'MVL Incredible Productions', 'Lansdown Films', 'Initial Entertainment Group (IEG)', 'Studio Babelsberg', 'Seagal/Nasso Productions', 'Canal+Polska', 'Buena Vista International Film Production France', 'Brian Grazer/Scott Rudin Productions', 'Douglas/Reuther Productions', 'Bluewater Pictures', 'EDKO Film', 'Summertime Entertainment', 'Inferno Distribution', 'Troublemaker Studios', 'Columbia Pictures Industries', 'Bona Fide Productions', 'Battleplan Productions', 'Mediastream Dritte Film GmbH & Co. Beteiligungs KG', 'Mutant Enemy Productions', 'Pulse Films', 'Biscayne Pictures', 'Ringerike Zweite Filmproduktion', 'Earth Canada Productions', 'Fünfte Babelsberg Film', 'Stephen J. Cannell Productions', 'ShadowCatcher Entertainment', 'Icelandic Film', 'Warner Bros. Animation', 'Cobalt Media Group', 'Classic Media', 'Reliance Entertainment', 'Schroeder Hoffman Productions', 'Akil Production Company', 'Apaches Entertainment', 'Sneaky Shark', 'Picture Machine', 'Latitude Media', 'Pax Enterprises', 'IMF Internationale Medien und Film GmbH & Co. 3. Produktions KG', 'Tracy Films', 'Channel Four Films', 'Bomar OOD', 'Dribble Productions', 'Gruber Bros.', 'No Such Productions', 'Manifest Film Company', 'Horror Inc.', 'Sierra Pictures', 'RCS', 'Jouer Limited', 'Kinokompaniya CTB', 'Monolith Pictures (III)', 'Internationale Filmproduktion Stella-del-Süd', 'International Film Investors', 'Mass Hysteria Entertainment', 'Redeemable Features', 'Spitfire Pictures', 'Walter Shenson Films', 'Pain Unlimited GmbH Filmproduktion', 'Cinémage 4', 'Mars Media Beteiligungs', 'Taurus Film', 'Color Force', 'Temple Hill Productions', 'Kaitz Productions', 'Colgems Productions Ltd.', \"D'Artagnan Productions Limited\", 'Court Five', 'Twentieth Century Fox Animation', 'MFPV Film', 'Palomar Pictures International', 'Cantharus Productions', 'The Cantillon Company', 'Zininsa Film Production', 'Kut Productions', 'Casual Friday Productions', 'Bazelevs Production', 'ImageMovers', 'Fox Searchlight Pictures', 'United Plankton Pictures', 'Dirty Hands Productions', 'Overbrook Films', 'JEMPSA', 'Filmhuset Gruppen', 'Firm Films', 'ADF Acquisitions', 'ITS Capital', 'August Entertainment', 'Sortie 22', 'Lleju Productions', 'MEDIA Programme of the European Union', 'Chicago Pacific Entertainment', 'QED International', 'Tiggy Films', 'Saville Productions', 'Younggu-Art Movies', 'Signature Entertainment', 'Windy Hill Pictures', 'Hilary Henkin', 'Washington Square Films', 'Harvest Filmworks', 'Sighvatsson Films', 'Harris Company', 'Showtime Networks', 'BIM Distribuzione', 'JC 23 Entertainment', 'Omnilab Media', 'LBI Productions', 'Matter Productions', 'Brood Syndicate', 'Sahara Productions', 'Rhino Films', 'The Turman-Morrissey Company', 'Ontario Film Development Corporation', 'Opperman Viner Chrystyn Entertainment', 'Troika Pictures', 'Cube Libre', 'Produzioni Europee Associati (PEA)', 'Huayi Brothers Media', 'Sullivan Bluth Studios', 'Clubdeal', 'Block 2 Pictures', 'Unfinished Films', 'Journeyman Pictures', 'ChickFlick Productions', 'Buena Vista', 'Luna Pictures', 'IDG China Media', 'Emergency Films', 'Hedge Fund Film Partners', 'Canal+', 'Nibariki', 'Mitteldeutsche Medienförderung (MDM)', 'Junger Witt Productions', 'Triggerfish Animation', 'Parallel Film Productions', 'Ministerio de Cultura', 'American Entertainment Partners L.P.', 'NDF International', 'Origen Producciones Cinematograficas S.A.', 'The Catalina Production Group', 'The Weinstein Company', 'City of Lodz', 'Ada Films', 'Hong Kong Alpha Motion Pictures Co.', 'Allied Filmmakers', 'Zero Fiction Film', 'Twickenham Film Studios', 'Warner Bros. Pictures', 'Foxtor Productions', 'Animal Kingdom', 'Regency Enterprises', 'Five Drops', 'Sean Daniel Company', 'Munich Film Partners New Century & Company (MFP) Core Productions', 'JVC Entertainment Networks', 'Incentive Filmed Entertainment', 'Blue Askew', 'Blue Star Pictures', 'Long Distance Films', 'The Glasgow Film Fund', \"Mel's Cite du Cinema\", 'AFG Talons Productions', 'MNP Entreprise', 'Telecinco Cinema', 'Fuzzy Door Productions', 'Media Rights Capital (MRC)', 'Channel One Russia', 'DreamWorks Pictures', 'Capella International', 'Walwa Films S.A.', 'Allison Shearmur Productions', 'Pinema', 'Hobby Films', 'Warner Brothers/Seven Arts', 'Broken Road Productions', 'Samuels Media', 'Cottage Industries', 'Toast Films', 'Denver and Delilah Productions', 'Maiden Voyage Pictures', 'Larry Franco Productions', 'BBC Earth', 'Act III', 'Cliffhanger Productions', 'Spectrum Effects', 'Plantain Films', 'Walt Disney', 'Edward R. Pressman Film', 'Benderspink', 'Cinetel Films', 'Material', 'Blue Sky Studios', 'Angel City Pictures', 'Jet Tone Films', 'Gold Circle Films', 'Popaganda Films', 'Misher Films', 'Det Danske Filminstitut', 'Roxlom Films', 'LHF Film', 'This Is That Productions', 'Scottish Screen', 'GH One', 'Nostromo Pictures', 'Kontsept Film Company', 'Participant Productions', 'British Film Institute', 'Lightstorm Entertainment', 'Q&Q Medien GmbH', 'Tiger Aspect Productions', 'Sogepaq', 'Filmfour', 'Sociedad General de Cine S.A.', 'NPV Entertainment', 'Phantom Four Films', 'Toho Company', 'Archer Gray', 'Dreamworks Pictures', 'ATR Films', 'National Film Development Corporation of India', 'Lime Orchard Productions', 'BH Tilt', 'British Broadcasting Corporation (BBC) Television', 'Mantello Brothers Productions', 'Konami', 'Quincy Jones-David Salzman Entertainment', '20th Century Fox Russia', 'Linovo Productions GmbH & Co. KG', 'Fuzzy Bunny Films (I)', 'HandMade Films', 'Artemple - Hollywood', 'Rollercoaster Entertainment', 'Handprint Entertainment', 'Producciones Anhelo', 'Furst Films', 'Chockstone Pictures', 'Suntaur Entertainment Company', 'Bedford Falls Company, The', 'Slate Films', 'double A Films', 'Prototype', 'Disney Double Dare You (DDY)', 'New Zealand Large Budget Screen Production Grant', 'Nick Wechsler Productions', 'Caro-McLeod', 'Clifford Werber Productions', 'Handsomecharlie Films', 'Ghoulardi Film Company', 'French Tax Credit', 'Virtual Studios', 'RKB Mainichi Broadcasting Corporation', 'Valentina Films', 'Delphi III Productions', 'SPAD Films', 'Egg Films', 'Argyle Enterprises', 'Smokewood Entertainment Group', 'Number 9 Films', 'Epsilon Motion Pictures', 'Babbo Inc.', 'Outpost Studios', 'Bernard Gayle Productions', 'Tim Burton Animation Company', 'K. JAM Media', 'IDEA Filmproduktions', 'Cinema Four', 'Silver Plane Films', 'Galatée Films', 'Bob Yari Productions', 'Gilbert Films', 'Chuan Production Film Studio', 'Haddock Films S.R.L.', 'Red Wagon Entertainment', 'Transmission Pictures', 'National Geographic Entertainment', 'Warner Bros. Family Entertainment', 'Micro Fusion 2003-2', 'Gerard Butler Alan Siegel Entertainment', 'Don Carmody Productions', 'Industrial Development Corporation of South Africa', 'Film 4', 'Prophecy Pictures Ltd.', 'Island Film Group', 'National Film Board of Canada (NFB)', 'FourBoys Entertainment', 'Cape Of Good Films', 'Kathbur Pictures', 'Good Machine', 'Mediapro', 'Aardman Animations', 'Blue Productions', 'Solid Entertainment', 'Wendy Finerman Productions', 'JW Films', 'Egmond Film & Television', 'Edith Film Oy', 'Onyx Films', 'Slough Pond', 'Monsoon Films Private Limited', 'Leverage Entertainment', 'Translux', 'Sigma Films', 'Les Films Ariane', 'Irwin Allen Productions', 'Hit & Run Productions', 'Government of Malta', 'Topkick Productions', 'Blueeyes Productions', 'Starz Animation', 'Beverly Detroit', \"Forest Whitaker's Significant Productions\", 'Mirage Enterprises', 'La Parti Productions', 'The Production Company', 'Penn Station Entertainment', 'American Zoetrope', 'Sony Pictures Releasing', 'Lonetree Entertainment', 'Prone Gunman', 'Gold/Miller Productions', '4DH Films', 'China Film Co.', 'The Ladd Company', 'Ghost House Pictures', 'Will Packer Productions', 'Angel Eyes Productions', 'Orange Studios', 'BCDF Pictures', 'Ontario Media Development Corporation (OMDC)', 'Animal Logic', 'Fidélité Films', 'Carousel Picture Company, The', 'Cruise-Wagner Productions', 'TF 1 Film Productions', 'Republic Pictures', 'Embargo Films', 'GH Three', 'Cowboy Films', 'Red Hour Films', '2929 Productions', 'Camelot Pictures', 'Synchronistic Pictures', 'Molinare Studios', 'Mainichi Broadcasting System (MBS)', 'Brad Grey Pictures', 'Lennox House Films', 'John Ford Productions', 'China Film & TV Capital', 'Equity Pictures Medienfonds GmbH & Co. KG II', 'An Olive Branch Productions', 'Maljack Productions', 'B.D.S. Productions Inc.', 'MFP Munich Film Partners', 'MP Film Management', 'De Laurentiis Entertainment Group', 'Polar Productions', 'Diaphana Films', 'Asia Union Film & Entertainment Ltd.', 'Carolco Pictures', 'Nutcracker Holdings', 'World 2000 Entertainment', 'Dayday Films', 'British Columbia Film', 'FOZ', 'Moving Picture Company (MPC)', 'Orange Cinéma Séries', 'Radio Telefís Éireann (RTÉ)', 'Next Wednesday Productions', 'Kite Runner Holdings', 'Stereo D', 'Gama Entertainment Partners', 'Laura Ziskin Productions', 'Heyday Films', 'Hypnotic', 'Munich Film Partners & Company (MFP) GHS Productions', 'Filmgate Films', 'La Petite Reine', 'Cub Eight Productions', 'Motel Films', 'Falcon International Productions', 'Phoenix Pictures', 'Daniel Bobker Productions', 'Groundswell Productions', 'Pathe Productions', 'Larger Than Life Productions', 'Disruption Entertainment', 'Horsethief Pictures', 'Telefilm Canada', 'RatPac-Dune Entertainment', 'Venture Forth', 'Screen Australia', 'Peirce Pictures', 'Surefire Film Productions', 'Jan Chapman Productions', 'Televisió de Catalunya TV3', 'British Film Institute (BFI)', 'VIP Medienfonds 4', 'C.R.G. International', 'Ladbroke', 'Mott Street Pictures', 'Ocean Films', 'Lietuvos Kinostudija', 'Hakuhodo DY Media Partners', 'Canlaws Productions', 'Paramount', 'Compass International Pictures', 'Good Night Productions', 'Film4', 'Rising Star', 'AVCO Embassy Pictures', 'HSX Films', 'Silver Bullet Productions (II)', 'Stuber Productions', 'Wonder works studios entertainment group', 'The Fourth Production Company Film Group', 'Lieutenant Productions', 'Arnold Kopelson Productions', 'Cronos Entertainment AIE', 'Georgetown Productions Inc.', 'Bee Vine Pictures', 'Medici Entertainment', 'No Frills Film Production', 'Armada Films', 'Green Hat Films', 'Bill/Phillips', 'BenderSpink', 'Curzon Film Distributors', '1821 Pictures', 'Mediaset España', 'Artists Public Domain', 'Zanagar Films', 'Reforma Films', 'Lions Gate', 'Monarchy Enterprises B.V.', 'Rook Films', 'Left Tackle Pictures', 'Right of Way Films', 'Marimark Productions', 'Fortissimo Films', 'Film 111', 'Walt Disney Studios Motion Pictures', 'Barry Mendel Productions', 'Cineblue Internationale Filmproduktionsgesellschaft', 'Covert Media', 'State Street Pictures', 'U-Drive Productions', 'Polygon Entertainment', 'Nu Image Entertainment GmbH', 'The Selznik Studio', 'Sony Pictures Entertainment', 'Cinerama Releasing Corporation', 'KOH', 'Georgetown Productions, Inc.', 'Stan Winston Studio', 'Avalanche Productions', 'Little Bird', 'St. Tropez Films', 'Eketahuna LLC', 'DJ Films', 'Alberto Grimaldi Productions', 'Mark Gordon Productions', 'Langley Park Production', 'Universal Cartoon Studios', 'Jouror Productions', 'Superfinger Entertainment', 'EMI Films', 'Protozoa Pictures', 'Isabella Films', 'M Productions', 'Isabella Films BV', 'bob industries', 'Parkes+MacDonald Image Nation', 'Arcadia Motion Pictures', 'The Mirisch Corporation', 'Geisler-Roberdeau', 'Manderlay', 'Razor Film Produktion', 'Horizon Pictures', 'Jack Rollins & Charles H. Joffe Productions', 'Allied Artists Pictures', 'Les Editions Albert René', 'Monophonic Inc.', 'Dentsu', 'Delphi II Productions', 'O2 Filmes', 'Dear Film Produzione', 'Werc Werk Works', 'The Safran Company', 'Darryl F. Zanuck Productions', 'Media Pro Pictures', 'Paul Schiff Productions', 'Global Entertainment Group', 'Forward Pass', 'Producers Sales Organization', 'District 9', 'Carolina Bank', 'Crossbow Productions', 'SModcast Pictures', 'Merchant Ivory Productions', 'Alive Films', 'Alphaville Films', 'Hari Om Entertainment Co.', 'Global Entertainment Productions GmbH & Company Medien KG', 'Pacifica Film', 'Skydance Media', 'Harold Greenberg Fund', 'Milk & Honey', 'Versus Entertainment', 'Harpo Films', 'Playtone Productions', 'Toma 78', 'Eagle Vision Inc.', 'Filmförderungsanstalt (FFA)', 'Wells Productions', \"O' Salvation\", 'Fuji Television Network', 'Mediana Productions Filmgesellschaft', 'Black & White Productions', 'XM2 Productions', 'Str8jacket Creations', 'Chambara Pictures', 'Ground Control', 'Babylon Films Limited', 'Undisputed Cinema', 'Smoke House', 'Filmtribe', 'Intrepid Pictures', 'Patrick Aiello Productions', 'Birnbaum / Barber Productions', 'The Big Gun Project', 'Room 101', 'Caviar Films', 'Nickelodeon Animation Studios', 'TSG Entertainment', 'Kinowelt Median', '1818', 'Michael Alden Productions', 'Constant c Productions', 'Art Pictures Studio', 'Film Colony', 'Alloy Entertainment', 'City Film', 'Post Empire Films', 'Phase 1 Productions', 'LBI Entertainment', 'Tightrope Pictures', 'RT Features', 'Shoakuken', 'JD Prod', 'Maysville Pictures', 'Babieka', 'Mystery Clock Cinema', 'Skydance Productions', 'Ursa Major Films LLC', 'Electronic Arts', 'Sommers Company, The', 'Red Envelope Entertainment', 'WV Films LLC', 'Danjaq', 'Belstar Productions', 'Liberty Films (II)', 'Cinéart', 'Cruella Productions', 'News On Request (NOR)', '100 Bares', 'Inferno Entertainment', 'Pacific Western', 'Friuli Venezia Giulia Film Commission', 'Kalkronkie', 'Goldcrest Pictures', 'Lone Wolf McQuade Associates', 'Sodium Fox', 'HorrorFlix', 'Deuce Three Productions', 'Cheerland Entertainment Organization', 'Samuel Goldwyn', 'The Jacobson Company', 'Dartmouth International', 'Maven Entertainment', 'Conquest Productions', 'France 3 Cinéma', 'Marianne Productions', 'Charles K. Feldman Group', 'Globo filmes', 'Liberty Films UK', 'Aegis Film Fund', 'Mundy Lane Entertainment', 'Plum Pictures', 'Melvin Simon Productions', 'Close Call Films', 'd-rights', 'Jerome Hellman Productions', 'Route One Films', 'Irish Screen', 'Autonomous', 'Pontchartrain Productions', 'Asmik Ace Entertainment', 'Ghost Ship Films Pty. Ltd.', 'Highland Films', 'Medusa Produzione', 'Russian Roulette Ltd.', 'GreeneStreet Films', 'Vortex', 'Krisjair', 'Patalex V Productions Limited', 'Sixteen Films', 'Huayi Brothers Pictures', 'Vast Entertainment', 'Anagram Pictures Inc.', 'Sunlight Productions', 'Centre Régional des Ressources Audiovisuelles (CRRAV)', 'PolyGram Filmed Entertainment', 'Touchstone Pictures', 'Italian Tax Credit', 'Wayfare Entertainment', 'Film Science', 'MMC Studios', 'Overnight Films', 'Galactic Films', 'Arts Council of England', 'Conseil Régional de Franche-Comté', 'Camelot Productions', 'Visiona Romantica', 'Trilogy Entertainment Group', 'Paradis Films', 'Good Films', 'Molinare Investment', 'National Film Finance Corporation (NFFC)', 'Tapestry Films', 'Sumitomo Corporation', 'Linson Films', 'Springwood Productions', 'DreamWorks SKG', 'NuAmerica Entertainment', 'Cinerenta-Cinebeta', 'Oops Doughnuts Productions', 'Lions Gate Films', 'Atmosphere Entertainment MM', 'C-2 Pictures', 'Friendly Films Productions', 'Entertainment One', 'Furia de Titanes II, A.I.E.', 'Ciné@', 'Lucasfilm', 'Hart-Sharp Entertainment', 'Bulletproof Cupid', 'Lantia Cinema & Audiovisivi', 'Depth Entertainment', 'Constellation Films', 'Max TV', 'Stratus Film Co.', 'Outlaw Productions', '1984 Private Defense Contractors', 'TABBAK', 'Motion Picture KAPPA Produktionsgesellschaft', 'National Geographic Films', 'Show East', 'Top Hat Releasing', 'Synchronicity Films', 'Jolly Film', 'Vendian Entertainment', 'South Side Amusement Company', 'Village-A.M. Partnership', 'Amen Ra Films', '3 in the Box', 'Our Stories Films', 'Neal Street Productions', 'Count of Monte Cristo Ltd.', 'Olympus Pictures', 'Carnaby International', 'Happinet Pictures', 'Biride Productions', 'North Box Productions', 'Samuel Goldwyn Films', 'D8', 'Brooksfilms Ltd.', 'Native Pictures Productions', 'Eden Rock Media', 'Télévision Suisse-Romande (TSR)', 'Esparza / Katz Productions', 'Fox Films Ltd.', 'Fellah Pictures', 'LOVEFiLM International', 'Attitude Pinículas y Films A.I.E.', 'Nippon Television Network (NTV)', 'Legend3D', 'Twentieth Century Fox Film Corporation', 'Di Bonaventura Pictures', 'Illumination Entertainment', 'Gaumont', 'Muse Entertainment Enterprises', 'Chernin Entertainment', 'Really Useful Films', 'RKO', 'No Trace Camping', 'Electric City Entertainment', 'Jack and Henry Productions Inc.', 'Coconut Pete Productions', 'American Films', 'TBB', 'Internationale Filmproduktion Blackswan', 'Wes Craven Films', 'Millbrook Farm Productions', 'Cappa Productions', 'Toho-Towa', 'Greenlit Rights', 'Internationale Filmproduktion Blackbird Erste', 'Foresight Unlimited', 'Unique Features', 'Zoetrope Studios', 'Hirsch', 'Koan Films', 'Taormina Productions', 'Film Afrika Worldwide', 'MavroCine Pictures GmbH & Co. KG', 'Natural Nylon Entertainment', 'Hand Made Films', 'TAO Film', 'Osiris Films', 'Victor Company of Japan (JVC)', 'LivePlanet', 'Manhattan Project', 'All Pictures Media', 'Fria Luz Del Dia, A.I.E.', 'Callahan Filmworks', 'Indigo Film', 'Big Primate Pictures', 'First Look Media', 'France2 Cinéma', 'Fantail Films Inc.', 'Marvel Entertainment', 'Rocklin / Faust', 'Hopscotch Features', 'Easy There Tiger Productions', 'LB Productions', 'Image Ten', 'Union Générale Cinématographique', 'Spyglass Entertainment', 'Rogue', 'DisneyToon Studios', 'Tatfilm', 'Région Nord-Pas-de-Calais', 'Magical Elves Productions', 'Spelling Films', 'Televisión Federal (Telefe)', 'Cinema Line Film Corporation', 'Darkwoods Productions', 'X3US Productions', 'Hallway Pictures', 'Quo Vadis Cinéma', 'Walt Disney Pictures', 'Starz Media', 'SuperMega', 'Immortal Thoughts', 'Team Todd', 'Scenario Lane Productions', 'Lereby Productions', 'Filmauro', 'De Wolfe Music', 'Giant Pictures', 'Neo Art & Logic', 'Daybreak', 'Dune Entertainment', 'Michael De Luca Productions', 'Shopgirl', 'The Film Farm', 'Underground', 'Overture Films', 'Amercent Films', 'Rex Media', 'FilmWorks', 'Cinema Group Ventures', 'Pandora Filmproduktion', 'Proscenium Films', 'Process Productions', \"Centre National du Cinéma et de L'image Animée (CNC)\", 'Panorama Media', 'Nu-Image Films', 'Ronald Shusett/Gary Goldman', 'Indo-British', 'TF1 Films Productions', 'Davis-Panzer Productions', 'QI Quality International GmbH Co. KG', 'Stardust Pictures', 'Hiett Designs of Las Vegas', 'Prettybird', 'Treasure Company', 'SLM Production Group', 'Vanguard Animation', 'HBO', 'Bristol Bay Productions', 'Pledge Productions', 'Neunte Babelsberg Film', 'Gaumont Columbia Tristar Films', 'Dreamland Productions', 'Home Media & Entertainment Fund', 'Hungry Eye Lowland Pictures B.V.', 'Global Produce', 'Wild Things Productions', 'AI-Film', 'Deutsche Filmförderfonds (DFFF)', 'Parabolic Pictures', 'Brothers Dowdle Productions', 'Bandai Visual Company', 'Paramount Classics', 'Bangkok Dangerous', 'Pirol Stiftung', 'Videovision Entertainment', 'Mandalay Entertainment', 'Société Radio-Canada', 'Indian Paintbrush', 'Dark Castle Entertainment', 'Finding Forrester Productions', 'Provident Films', 'Evergreen MD', 'Big Talk Productions', 'Blue Light', 'Calimari Productions', 'Mainframe Entertainment', 'Fandango', 'British Film Council', 'Westdeutscher Rundfunk (WDR)', 'Glitter Productions', 'Mandalay Vision', 'Elías Querejeta Producciones Cinematográficas S.L.', 'Enigma Productions', 'Iguana Producciones', 'Silver Screen Partners III', 'MPH Entertainment Productions', 'UGC PH', 'Persistent Entertainment', 'Cinereach', 'Tim Burton Productions', 'First Knight Productions', 'Flower Films (II)', 'WTC Productions', 'Q Productions', 'Ixtlan', 'Vengeance Productions Pty. Ltd.', 'Kouf/Bigelow Productions', 'Exponential Films', 'Cambridge Productions', 'Fireworks Pictures', 'IndieProd Company Productions', 'Buffalo Gal Pictures', '2 Entertain', 'Australian Film Finance Corporation (AFFC)', 'Northern Lights Films', 'Ad Hominem Enterprises', 'Sean S. Cunningham Films', 'Campanile Productions', 'Imagi Production', 'Timnick Films', 'Sidney Kimmel Entertainment', 'NALA Films', 'KISS Nation', 'Red Hour Productions', 'Dog Eat Dog Films', 'SBS Productions', 'Lynda Obst Productions', 'Yellow Bird', 'Golan-Globus Productions', 'K/O Paper Products', 'Strike Entertainment', 'Stone Group Pictures', 'Strange Matter Films', 'Andale Pictures', 'Entertainment Manufacturing Company', 'Skate Away Productions', 'Pictures in Paradise', 'Medienproduktion Poseidon Filmgesellschaft', 'Ruby Films', 'ApolloMedia Distribution', 'De Milo', 'Knickerbocker Films', 'Itaca Films', 'Jim Henson Company, The', '80 Days Productions', 'Medusa Film', 'Inside Track 3', \"The Donners' Company\", 'Tomboy Films', 'Perfect Game, The', 'Strong Heart/Demme Production', 'Anarchos Productions', '22 & Indiana Pictures', 'Tax Credit Finance', 'Tiger Moth Productions', 'Golden Harvest Company', 'France 4', 'Yeah', 'Canal+ Droits Audiovisuels', 'Tollin/Robbins Productions', 'Smart Egg Pictures', 'Broad Green Pictures', 'Amblin Entertainment', 'Pioneer Pictures', 'Samson Films', 'AZL Productions KG', 'Crowvision Inc.', 'Nederlandse Programma Stichting (NPS)', 'Compulsion Inc.', 'R.P. Productions', 'Beijing Happy Pictures Cultural Communications Co.', 'Wigram Productions', 'Rocking Chair Productions', 'Movie Central Network', 'Lions Gate Family Entertainment', 'CinemaNX', 'Motion Investment Group', 'Electric Shepherd Productions', 'Grove Hill Productions', 'Banca Popolare di Vicenza', 'Silver Screen Partners IV', 'Wheelhouse Entertainment', 'Wayans Bros. Entertainment', 'XM3 Service', 'Syndicate Films International', 'Mostow/Lieberman Productions', 'Residaco', 'Reino del Cielo', 'Dovemead Films', 'Lawrence Gordon Productions', 'Doom Buggy Productions', 'Pioneer', 'See-Saw Films', 'Truth Entertainment', 'Industrial Light & Magic (ILM)', 'Kalis Productions GmbH & Co. Zweite KG', 'Ithaca Pictures', 'Human Worldwide', 'Jiangsu Broadcasting System', 'Worldview Entertainment', 'Aggregate Films', 'Lipsync Productions', 'Novo RPI', 'Python (Monty) Pictures Limited', 'NBC Universal Global Networks', 'Necropia', 'area japan', 'SW7D Productions', 'Initial Groupe', 'Fifty First Films', 'Biograf Jan Svěrák', 'ICF', 'First Point Entertainment', 'A Loopy Production LLC', 'Cold Spring Pictures', 'Art In Motion', 'Beacon Communications', 'JTP Films', 'Valkyrie Films', 'Visualizer Film Company', 'Taken 3', 'ScreenWest', 'Cross Creek Pictures', 'Saints LA', 'Jonesfilm', 'Prime Universe Productions', 'Main Street Movie Company', 'Tamm Productions', 'Rio Dulce', 'HighRoad Entertainment', 'Anka Film', 'Bi-polar Pictures', 'Rosebud Productions', 'The Ink Factory', 'Babe Ruthless Productions', 'I Remember Productions', 'Space Rocket Nation', 'Threshold Entertainment', 'Newcomm', 'Alphaville Productions', 'Village Roadshow Pictures', 'Frontier Pictures', 'Galaxy Productions', 'Sunrise Entertainment (II)', 'Samuelson Productions', 'Night and Day Pictures', 'Low Spark Films', 'Home Box Office', 'Filmko Pictures', 'Reliance BIG Entertainment', 'LEGO', 'New Wave Entertainment', 'Toff Guy Films', 'France 2 Cinéma', 'Les Productions du Trésor', 'United Artists', 'Hydraulx', 'Half Circle', 'McCann-Erickson', 'Ilion Animation Studios', 'Slap Happy Productions (II)', 'Saw 2 Productions', 'Krasnoff Foster Productions', 'Di Bonaventura Picture', 'Les Productions du Chicon', 'Spring Films', 'Schine-Moore Productions', 'Jean Doumanian Productions', 'Phoenix Film Poland', 'The Department of Trade and Industry of South Africa', 'MID Foundation', 'Blackfriars Bridge Films', 'Orion Pictures', 'Blumhouse Productions', 'Merlina Entertainment', 'Richard Williams Productions', 'N3D Land Productions', 'Telefónica Producciones', 'Got Films', '2DUX²', 'Piraya Film A/S', 'RCS Video', 'Headshot Films', 'Furry Vengeance Productions', 'Universal Animation Studios', 'Alfran Productions', 'Double Feature Films', 'The Directors Company', 'Cheongeoram', 'Beech Hill Films', 'Laurinfilm', 'Dawliz', 'MovieBank', 'Vrijzinnig Protestantse Radio Omroep (VPRO)', 'Cineclick Asia', 'National Geographic Society', 'Mad Chance', 'Rogue Films', 'Double Negative', 'Finestkind', 'Banque Populaire Images 9', 'Robert Lawrence Productions', 'K5 International', 'Summit Entertainment', 'Colossal Pictures', 'Pop Films', 'LD Entertainment', 'CineSon Entertainment', 'FGM Entertainment', 'Dr D Studios', 'Element Pictures', 'Plural - Jempsa', 'Spikings Entertainment', 'Blue Flower Productions', 'Palace Pictures', 'Marked Entertainment', 'Mirage Entertainment', 'Nitrogen Studios Canada', 'Solofilms', 'Amazon Prime Instant Video', 'Nu Image Films', 'Cott Productions', 'Independent Film Group', 'The Mirisch Company', 'Mikona Productions GmbH & Co. KG', 'Studio Canal', 'Red-horse Native', 'Punch Productions', 'Spacegate Productions', 'Granada Film Productions', 'Moonrise', 'FilmDistrict', 'Splendid Medien AG', 'ShivHans Pictures', 'Pink Machine', 'Aja / Levasseur Productions', 'Ultravi Productions', 'Warp X', 'Gordon Company', 'Newman/Tooley Films', 'Clarius Entertainment', 'Tig Productions', 'Momentum Pictures', \"Cooper's Town Productions\", 'C&P Productions', 'Barclays Mercantile Industrial Finance', 'Davis Films', 'London-Cannon Films', 'Team Ninja', 'DEJ Productions', 'Alcor Films', 'Pacific Renaissance Pictures Ltd.', 'Riche-Ludwig Productions', 'Cine Bazar', 'Blizzard Entertainment', 'Peter Frankfurt Productions', 'EMC Produktion', 'The Princess Bride Ltd.', 'Kartemquin Films', 'Brookwell-McNamara Entertainment', 'Ludlum Entertainment', 'Fellowship Adventure Group', 'Jericho Productions Ltd.', 'Little Brother Inc.', 'Liveplanet', 'WV Films III', 'BK', 'Challenge Film Corporation', 'UTV Motion Pictures', 'Banter', 'Fortress Films', 'White Noise Factory', 'Pacific Title and Art Studio', 'All Knight Productions', 'Pit Bull Productions', 'Deep River Productions', 'Joseph M. Singer Entertainment', 'The Saul Zaentz Company', 'Vnesheconombank', 'Mango Farms', 'Kino Vision', 'Terra Firma Films', 'VIP 4 Medienfonds', 'Saint Aire Production', 'Artina Films', 'Blinding Edge Pictures', 'Ollin Studio', 'Dreambridge Films', 'OddLot Entertainment', 'The Mark Gordon Company', 'TLA Releasing', 'Umedia', 'Dot Dot Dot Productions', 'Pikachu Project', 'Oak Productions', 'Internationale Filmproduktion Eagle', 'Boll KG', 'Enchanted Productions', 'Magnolia Mae Films', 'Contrafilm', 'Centropolis Film Productions', 'Scout Productions', 'SAI Productions', 'Cannon Pictures', 'Crossroads', 'Scott Pictures', 'Alan Young Pictures', 'Runteam III Ltd.', 'Regent Capital', 'Infogrames Entertainment', 'Flicks Motion Pictures', 'TAFT Entertainment Pictures', 'Triple Ajaxxx', 'Voltage Pictures', 'Robot Communications', 'Corus', 'Bergsten Music', 'Fountainbridge Films', 'Edmonds Entertainment Group (EEG)', 'Film Futures', 'Beijing New Picture Film Co. Ltd.', 'WV Films IV', 'Winkler Films', 'Lotus Entertainment (I)', 'Trans-Film', 'Film Victoria', 'Big Indie Pictures', 'Casey Silver Productions', 'NDE Productions', 'City Productions', 'Soficinéma 6', 'Mate Producciones S.A.', 'Safady Entertainment', 'Hammer Film Productions', 'Liberty Pictures (II)', 'VBT Productions', 'Right Coast Productions', '16 Block Productions', 'SpotFilms', 'Baumgarten Merims Productions', 'Recorded Picture Company (RPC)', 'Screen NSW', 'Le Grisbi Productions', 'Fipex Holding', 'Constantin Film International', 'Point Grey Pictures', 'Stage 6 Films', 'New World Pictures', 'Toho Film (Eiga) Co. Ltd.', 'Blueprint Pictures', 'Jon Kilik', 'Exception Wild Bunch', 'Goldcrest Films International', 'Feigco Entertainment', 'Underworld Entertainment', 'L.I.F.T. Production', 'Republic Pictures (I)', 'Will Vinton Studios', 'Fox Family Films', 'Dune Films', 'Dead Films', 'Sonnenfeld Josephson Worldwide Entertainment', 'Genre Films', 'Flashpoint Entertainment', 'Film Capital Europe Funds (FCEF )', 'Revolution Studios', 'Pegasus Film Partners', 'Maple Shade Films', 'Tencent Video', 'The Bureau', 'Lava Bear Films', 'Polski Instytut Sztuki Filmowej', 'chateau productions', 'MACT Productions', 'Plinyminor', 'Studiopolis', 'Claudie Ossard Productions', 'Detour Filmproduction', 'Furthur Films', 'Oriental DreamWorks', 'Stoller Global Solutions', 'Swedish Film Institute', 'Ehman Productions', 'Gotham Entertainment Group', 'Manitoba Film & Music', 'Hacienda Productions', 'Laura Bickford Productions', 'Babelsberg Film', 'Artfire Films', 'Wescom Productions', 'Dreamachine', 'Lunar Industries', \"Butcher's Run Films\", 'Filmförderung Hamburg', 'Tri Vision Pictures', 'Constantin Film', 'SNL Studios', 'Stonebridge Entertainment', 'X3 Canada Productions', 'Mandarin Films Distribution Co.', 'Majestic Films International', 'Apparatus Productions', 'Wildgaze Films', 'China Film Co-Production Corporation', 'Mutual Film Company', 'Little Wave Productions', 'Novaya Zemlya', 'Sil-Metropole Organisation', 'Run It Up Productions Inc.', 'Brass Hat Films', 'Fourth Kind Productions', 'Moonlighting Films', 'United Broadcasting Inc.', 'Invicta Capital', 'Picture Perfect Corporation', \"Large's Ark Productions\", 'Hwy61', 'Stillking Films', 'Icon Productions', 'Rooks Nest Entertainment', 'Academy Films', '4M', 'Kintop Pictures', 'DC Entertainment', 'Gimages', 'Propeler', 'Parkway Productions', 'Producers Circle', 'Alibaba Pictures Group', 'Fuller Films', 'Mark Johnson Productions', 'Andell Entertainment', 'Thinkfilm', 'Ten-Four Productions', 'Nord-Ouest Productions', 'DC Comics', 'Peters Entertainment', 'New Zealand Post Digital and Visual Effects Grant', 'Crystal Lake Entertainment', 'Big Arty Productions', 'Alan Jay Lerner Productions', 'Film Consortium', 'S & L Films', 'Papercut Films', 'Montecito Picture Company, The', 'Room 9 Entertainment', 'Blind Wink', '369 Productions', 'QC Entertainment', 'Newbridge Film Capital', 'Green Film Company', 'BBC', 'Twin Bros. Productions', 'A Band Apart', '98 MPH Productions', 'Rena Film', 'Clipsal Films', 'MMP Erste Filmproduktions', 'Film Council', 'Starway International Inc.', 'St. Petersburg Clearwater Film Commission', 'Jaffilms Inc.', 'Imprint Entertainment', 'Storefront Films', 'Québec Production Services Tax Credit', 'Internationale Scarena Filmproduktionsgesellschaft 2', 'Apjac International', 'Ubu Productions', 'Stage III Productions', 'National Film Trustee Company', 'Matt Tolmach Productions', 'Hawk Films', 'Genetics Productions', 'Scooter Braun Films', 'Centropolis Entertainment', 'TPS Star', 'A Plus Image', 'Flan de Coco Films', 'Depth of Field', 'Icon Entertainment International', 'Winking Productions', 'Mr. Mudd Production', 'Illusion Entertainment Group', 'Homegrown Pictures', 'Danish Film Institute', 'PeaPie Films', 'Vision View Entertainment', 'Untitled Entertainment', 'Visionview Production', 'IamOTHER Entertainment', 'Sikelia Productions', 'New Visions Pictures', 'Pyramania', 'Top Rope', 'Hofflund/Polone', 'Stone Village Pictures', 'Automatik Entertainment', 'Yucaipa Films', 'Kevin Messick Productions', 'Nides/McCormick Productions', 'Lonely Film Productions GmbH & Co. KG.', 'Tri-State Pictures', 'Crave Films', 'Seven Arts', 'WingNut Films', 'Samuel Goldwyn Company, The', 'Rough House Pictures', 'Quality Growth International Ltd.', 'Dylan Sellers Productions', 'Hostage GmbH', 'Jet Tone Production', 'Romulus Films', 'Start Motion Pictures', 'Zucker/Netter Productions', 'American Filmworks', 'Maybe Movies', 'VN Productions', 'Sycamore Pictures', 'Unfaithful Filmproduktion GmbH & Co. KG', 'Noel Gay Motion Picture Company', 'ARD Degeto Film', 'Columbia Pictures', 'Centre National de la Cinématographie', 'Vita-Ray Dutch Productions (III)', 'Impact Pictures', 'Sofica Europacorp', 'Lonlink Productions', 'Pangaea', 'Vincent Newman Entertainment', 'Nickelodeon Movies', 'Munich Film Partners & Company (MFP) MI2 Productions', 'Birnbaum/Barber', 'Pointe Studios', 'Abandon Entertainment', 'Flashpoint (I)', 'Backup Films', 'Iron Film', 'Inside Track 2', 'Magic Light Pictures', 'Euro Film Funding', 'Follow Through Productions', 'Hybrid Productions Inc.', 'Mosaic', 'Conundrum Entertainment', 'Cinéfrance 1888', 'Lakeshore Entertainment', 'Programme MEDIA de la Communauté Européenne', 'Mosfilm', 'Enelmar Productions, A.I.E.', 'Thin Man Films', 'Hunting Lane Films', 'Sony Pictures Classics', 'Practical Pictures', 'Bedford Falls Productions', 'Lorimar Film Entertainment', 'Ponty Up Pictures', 'Centrul National al Cinematografiei (CNC)', 'Franklin/Waterman Productions', 'Art Linson Productions', 'Extension 765', 'Perdido Prod.', 'WCG Entertainment Productions', 'Astral Media', 'Thirteen Productions', 'Savoy Pictures', 'Evamere Entertainment', 'Malpaso Company', 'Nix Films', 'Alliance Entertainment', 'Plunge Pictures LLC', 'Storefront Pictures', 'Antena 3 Televisión', 'Ecosse Films', 'Ian Page Productions', 'One Race Productions', 'TMS Entertainment', 'Off Color Films', 'Canal+ Television AB', 'Tokyo Broadcasting System (TBS)', 'Sweetland Films', 'Signature Pictures', 'Filmkameratene A/S', 'Indochina Productions', 'Rodriguez International Pictures', 'Screen Gems', 'Miramax', 'A Bigger Boat', 'Farewell Productions', 'Shangri-La Entertainment', 'Süddeutscher Rundfunk', 'Eagle Beach Productions', 'Key Creatives', 'Fallingcloud', 'Apatow Productions', 'Odyssey', 'Catmandu Branded Entertainment', 'Focus Films', 'Case 39 Productions', 'Entertainment Films', 'Cruel & Unusual Films', 'Radical Studios', 'Eurotrustees', 'AdScott Pictures', 'Edition Video', 'Headline Pictures', 'Film Properties International N.V.', 'Melusine Productions', 'Killer Films', 'Fitzwilliam Productions', 'MHF Zweite Academy Film', 'Matten Productions', 'AR Films', 'World Wrestling Entertainment (WWE)', 'Nu Boyana Film Studios', 'Boll Kino Beteiligungs GmbH & Co. KG', 'October Pictures', 'UK Film Council', \"Kids' WB\", 'Thai Occidental Productions', 'Dee Gee Entertainment', 'Internationale Filmproduktion Richter', 'Producers Sales Organization (PSO)', 'Algonquin Productions Limited', 'Toei', 'Walt Disney Animation Studios', 'Filmcoopi Zürich', 'Sunflower Productions', 'Pariah', 'Four By Two Productions', 'Film Department, The', 'Film Rites', 'Radar Pictures', 'Ink Connection', 'Hachette Première', 'Ognon Pictures', 'Juno Pix', 'Lion Rock Productions', 'Shanghai Film Group', 'Erste MMC-Production', 'Ancine', 'Raw Nerve', 'Sony Pictures Imageworks (SPI)', 'Région Ile-de-France', 'The Last Picture Company', 'Stargate Studios', 'SF Norge A/S', 'Arturo González Producciones Cinematográficas S.A.', 'Libra Films', 'Surf Film', 'Ascension Pictures', 'Julia Phillips and Michael Phillips Productions', 'Hey Eddie', 'Svenska Filminstitutet (SFI)', 'Jolie Pas', 'Campbell Grobman Films', 'Banques Populaire Image 7', 'Oscilloscope Laboratories', 'Top Cow Productions', 'Sony Pictures Worldwide Acquisitions (SPWA)', 'IM Filmproduktion', '26 Films', 'Kingsgate Films', 'Recorded Pictures Company', 'Hollywood Gang Productions', 'Metanoia Films', 'Sherwood Productions', 'Films en Stock', 'Irish Dreamtime', 'American Entertainment Partners II L.P.', 'Celador Films', 'Reserve Room', 'Malvern Pictures', 'Cruise/Wagner Productions', 'IFP Westcoast Erste', 'Cindy Cowan Entertainment', 'Straight Up Films', 'Andalasia Productions', 'What Else? B.V', 'BN Films', 'The Shuman Company', 'Cattleya', 'Rimfire Films', 'Little Wolf Entertainment', 'Keep Your Head', 'Milagro Films', 'Intandem Films', 'Runteldat Entertainment', 'Walrus & Associates', 'FilmNation Entertainment', 'Bill Kenwright Films', 'Criminal Productions', 'Cookout Productions', 'Bridgit Folman Film Gang', 'American Film Institute (AFI)', 'British Screen Productions', 'Brightlight Pictures', 'Bridget Johnson Films', 'HanWay Films', 'Golden Harvest Pictures', 'Daiei Studios', 'Pantelion Films', 'Mandeville Films', 'Clyde Is Hungry Films', 'Riff Raff Film Productions', 'Polsky Films', 'Bésame Mucho Pictures', 'Rovio Animation', 'Prospero Pictures', 'Court 13 Pictures', 'Coast Ridge', 'Hearst Entertainment Productions', 'Latina Pictures', 'Myriad Pictures', 'Assassin Films', 'Cliffjack Motion Pictures', 'Bungalow Productions', 'Televiziunea Romana (TVR1)', 'Himenóptero', 'MDP Worldwide', 'Abu Dhabi Film Commission', 'Farah Films & Management', 'Largo Entertainment', 'Marvel Enterprises', 'Clear Blue Sky Productions', 'Freestyle Releasing', 'Televisión Española (TVE)', 'Buttercup Films Ltd.', 'Nuyorican Productions', 'Lago Film', 'Serendipity Productions', 'Hoyts Film Partnership', 'Smartest Man Productions', 'ELC Productions Ltd.', 'Victoires International', 'Filmax International', 'TV Tokyo', '\"DIA\" Productions GmbH & Co. KG', 'Storm King Productions', 'Amazon Studios', 'Technical Black', 'Spectrum Films', 'Todman, Simon, LeMasters Productions', 'Tornasol Films', 'Wind Dancer Productions', '3DTK', 'Antietam Filmworks', 'Paramount Animation', 'Nanny McPhee Productions', 'WV Films II', 'Sony Pictures Home Entertainment', 'The Australian Film Commission', 'Mikado Film', 'Ambience Entertainment', 'Ott Medien', 'Kramer & Sigman Films', 'UniCredit Group', 'Osiris Productions', 'Mars Distribution', 'Millar Gough Ink', 'Fox Atomic', 'Energy Entertainment', 'Filmax Entertainment', 'Jerry Leider Company', 'Newmarket Capital Group', 'Media Asia Films', 'Allied Artists', 'Phantom Four', 'Zoom Hunt International Productions Company Ltd.', 'Tele München Fernseh Produktionsgesellschaft (TMG)', 'De Fina-Cappa', 'Hargitay & Hargitay Pictures in Motion', 'Yanco', 'Grindstone Entertainment Group', 'Sanctum Australia', 'Digital Domain', 'Desertlands Entertainment', 'Jaguar Films', 'Wanda Visión S.A.', 'Vendome Pictures', 'Zide-Perry Productions', 'Wonderland Sound and Vision', 'Pellikola', 'Jerry Bruckheimer Films', 'Linson Entertainment', 'Moulin Productions Inc.', 'Pandora Cinema', 'Screen Yorkshire', 'Twisted Pictures', 'Essential Media & Entertainment', 'Viacom Canada', 'New Amsterdam Entertainment', 'Dunulf Productions', 'Flynn Picture Company', 'Tohokushinsha Film', 'Asymmetrical Productions', 'Pendle Mountain Productions', 'Waverly Films', 'Escape Artists', 'Riche Productions', 'Taleswapper', 'Wonderland Films', 'Robert Stigwood Organization (RSO)', 'Eidos Interactive', 'Le Tax Shelter du Gouvernement Fédéral de Belgique', 'Lenfilm Studio', 'Tree Line Films', 'Flyboys Films', 'Totally Independent', 'Crystal Sky Pictures', 'Act III Communications', 'New Line Cinema', 'Havoc', 'Pacific Data Images (PDI)', 'Atlas 3 Productions', 'Marv Films', 'Domino 17521', 'Shawn Danielle Productions Ltd.', 'MCG', 'Feelgood Entertainment', 'Katalyst Films', '33andOut Productions', 'One Race Films', 'Amusement Park Films', 'Gravier Productions', 'The Movie Network (TMN)', 'Instituto de la Cinematografía y de las Artes Audiovisuales (ICAA)', 'Movie Central', 'AR-TL', 'Southpaw Entertainment', 'Signal Film Group', 'First Foot Films', 'Creative Scotland', 'Millbrook Pictures', 'Bagman (2009)', 'New Zealand Film Commission', 'Free State Pictures', 'Archer Street Productions', 'Alliance Atlantis Communications', 'Walt Disney Television Animation', 'Brillstein-Grey Entertainment', 'DNA Films', 'Forrest Films', 'Kanbar Entertainment', 'Corrupter Production Service Ltd.', 'Great Wight Productions/ Osford Films', 'Mindhunters (UK) Limited', 'Jaffe / Braunstein Enterprise', 'Manitoba Film and Video Production Tax Credit', 'Sea Breeze Productions Inc.', 'Castelao Producciones', 'Jackie Chan Films Limited', 'Feature Film Project', 'DMG Entertainment', 'W9', 'Dreams of Dragon Picture', 'Lobell/Bergman Productions', 'Solomon/Hackett Productions', 'Elevation Pictures', 'U.K. Tax Credit', 'Walt Disney Animation Canada', 'Hollywood Studios International', 'National Lottery through UK Film Council', 'Napoleon Pictures Limited', 'Eddie Murphy Productions', 'Neufeld Rehme Productions', 'Videofilms', 'FilmEngine', 'Generalitat de Catalunya - Institut Català de les Indústries Culturals (ICIC)', 'CBS Films', 'Informant Media', 'McMurdo (Canada) Productions', 'SkyLand Entertainment', 'Renaissance Films', 'ContentFilm', 'Filmstiftung Nordrhein-Westfalen', 'EFTI', 'Section Eight', 'Horticus UK', 'Indelible Productions', 'Dune Entertainment III', 'Les Films du Losange', 'Dark Sky Films', 'Demarest Films', 'Quantum Entertainment', 'Jason Productions', 'Blue Yonder Films', 'Sound for Film', 'Sil-Metropole Organisation Ltd.', 'VIP 3 Medienfonds', 'Solaris Film', 'Triptych Pictures', 'SITE Productions', 'Chubu-nippon Broadcasting Company (CBC)', 'NVSH Productions', 'Type A Films', 'Bagdasarian Productions', 'Non-Stop Productions', 'Cineroma SRL', 'Hemdale Film', 'Entertainment Media Investment Corporation', 'Evansgideon/Lazar', 'Sorolla Films', 'Off Hollywood Pictures', 'Giving Films', 'Redbus Pictures', 'Georgia International Films', 'Mainstream S.A.', 'MK2 Productions', 'Fu Works', 'Alliance Communications', 'Tiny Ponies', 'EMI Films Ltd.', 'Zookeeper Productions', 'Twentieth Century Fox Television', 'Aggregate Film', 'The Halcyon Company', 'Rogue Pictures', 'Chi-Fou-Mi Productions', 'Crescendo Productions', 'Millennium Films', 'Evil Twins', 'Mediaset', 'Brooksfilms', 'Figment Films', '120dB Films', 'Brad Zions Films', 'GG Filmz', 'Premiere Stealth Rights', 'Monterey Productions', 'Infinitum Nihil', 'Spectacle Entertainment Group', 'Item 7', 'Kanal Russia 1', 'Cinema 77', 'Warner Animation Group', 'Populist Pictures', 'Star Partners II Ltd.', 'Triangle Film Corporation', 'Kemp Company', 'Scott Free Productions', 'Subterranean Productions UK Ltd.', 'Starling Films', 'Progres Film Distribution', 'Mobra Films', 'Filmazure', 'American Film Company', 'icon', 'Walt Disney Productions', 'Fantastic Films', 'Prone Gunman A.I.E.', 'Sunset Gower Studios', 'Matrix Film Finance', 'Marvel Studios', 'Calle Cruzada', 'Mandalay Pictures', 'Tonna Oy', 'Bad Robot', 'Old Bull Pictures', 'Scottish Arts Council, The', 'Evergreen Media Group', 'Goodspeed Productions', 'Shogakukan', 'StudioCanal', 'Hollywood Pictures', 'The Movie Network', 'Ikiru Films', 'Loofah Productions', 'Chris Brinker Productions', 'Super Crispy Entertainment', 'Opus Film', 'M6 Films', 'Starburns Industries', '21 Laps Entertainment', 'La Trini', 'Lynch Siderow Productions', 'LionsGate', 'Tank Caterpillar', 'SOIXAN7E QUIN5E', 'Darko Entertainment', 'Sunrise Filmvertriebs AG', 'DreamWorks Animation', 'Teen Life Productions', 'Sly Predator', 'Face Productions', 'David Foster Productions', 'Ex3 Productions', 'Same Player', 'Madacy Entertainment', 'GK Films', 'Cloud Atlas Productions', 'The Harold Greenberg Fund', 'Curmudgeon Films', 'United China Vision', 'Bekmambetov Projects Ltd.', 'Hubert Bals Fund of the Rotterdam Festival, The', 'Andrew Lauren Productions (ALP)', 'Belle Pictures', 'Gener8Xion Entertainment', 'Fortis Films', 'Sunswept Entertainment', 'Intermedia Films', 'thefyzz', 'A-Team', 'Mid Atlantic Films', 'Nancy Tenenbaum Films', 'Mr. Smith Productions', 'Relativity Sports', 'MI 3 Film', 'Black and Blu Entertainment', 'NeoReel', 'Littlestar', 'Wessler Entertainment', 'Liaison Films', 'SenArt Films', 'The Complex Studio', 'GGR', 'Filmanova', 'Bold Films', 'Artist International', 'Stable Way Entertainment', 'Hasbro Studios', 'Shamley Productions', 'NFH Productions', 'Morgan Creek Productions', 'Cannon Films', 'Aperture Entertainment', 'TF1 Films Production', 'Wark Producing Corp.', 'Village Roadshow Films North America', 'Business Location Sudtirol Alto Adige', 'Bueprint Pictures', 'Toronto Film Studios', 'Entertainment Film Distributors', 'Jerkschool Productions', 'JHF Productions', 'Universal City Studios', 'Gracie Films', 'Nora Ephron Productions', 'Prospect Park', 'Lions Gate Entertainments', 'The Independent Film Channel Productions', \"Ninjas Runnin' Wild Productions\", 'Onda Entertainment', 'Entertainment Motion Pictures', 'Fear of God Films', 'Red Turtle', 'Sedic', 'Perdido Productions', '1492 Pictures', 'Sogecine', 'Magna Films', 'Copag V', 'Cheri Productions', 'RKO Radio Pictures', 'Cinema 77 Films', 'Jesse Films Inc.', 'SprocketHeads', 'Lionsgate', 'Braveworld Productions', 'LGM Productions', 'Kopelson Entertainment', 'Trailblazer Films', 'Motown Productions', 'Bookshop Productions', 'Twitching Image Studio', 'Woodfall Film Productions', 'VIP 1 Medienfonds', '5150 Action', 'Magna Global Entertainment', 'Newman-Foreman Productions', 'Herrick Entertainment', 'Pole Star', 'Panorama Films', 'Insight Film Releasing', 'MICA Entertainment', 'Ghostcorps', 'On My Own', 'Delphi Films', 'Outlaw Productions (I)', '360 Pictures', 'Wild Bunch Distribution', 'Pure Flix Productions', 'Yash Raj Films', 'Bel Air Entertainment', 'Helena Productions', 'Romero-Grunwald Productions', 'Ingenious Media', 'Film Fund FUZZ', 'Diamond Films', 'Benaroya Pictures', 'Ingenious Film Partners', 'Beacon Pictures', 'Holleran Company', 'Thousand Words', 'Destination Films', 'Alberta Film Entertainment', 'Jaret Entertainment', 'Reiner / Greisman Productions', 'Selznick International Pictures', 'Hopscotch Films', 'Vincent Pictures', 'Digital Image Associates', 'Creado Film', 'Internationale Filmproduktion Blackbird Dritte', 'Parkway Pictures (I)', 'JLT Productions', 'Vertigo Entertainment', 'Cinerenta Medienbeteiligungs KG', 'Metropolitan Filmexport', 'SKA Films', 'Trinity Race', 'Panay Films', 'Babe Films', 'Witness Protection Films', 'David Brown Productions', 'Kramer-Tornell Productions', 'Hyde Park Entertainment', 'Everyman Pictures', 'Studio 37', 'Dispictures', 'Continental Entertainment Group (CEG)', 'TS Productions', 'Intial Productions', 'Soprofilms', 'Plan B Entertainment', 'Brooklyn Films II', 'Broadway Video', 'Alpha Core', 'Three Strange Angels', 'The Collective Studios', 'Brightside Entertainment', 'Apostle Productions', 'Motion Picture BETA Produktionsgesellschaft', 'China Film Group Corporation (CFGC)', 'Paco Cinematografica', 'Dollface', 'Bristol Automotive', 'Cruel Productions', 'Wintergreen Productions', 'Winchester Multimedia PLC', 'Slot Machine', 'Cherry Alley Productions', 'Open City Films', 'Thunder Road Pictures', 'Horseshoe Bay Productions', 'Mann/Roth Productions', 'Alan Greenspan Productions', 'Woods Entertainment', 'Adam Schroeder Productions', 'Family of the Year Productions', 'Eden Roc Productions', 'Astral Bellevue Pathé', 'Akira Committee Company Ltd.', 'Initial Entertainment Group', 'Summer Knowledge LLC', 'Punch 21 Productions', 'Wiedemann & Berg Filmproduktion', 'Amasia Entertainment', 'C.R.R.A.V. Nord Pas de Calais', 'MJZ', 'Optional Pictures', 'Perfume Films', 'Echo Films', 'Storyline Entertainment', 'Disney World Cinema', 'Parnassus Productions', 'Matinee Pictures', 'Zadan / Meron Productions', 'Origo Film Group', 'Silver Reel', 'FilmFernsehFonds Bayern', 'Florin Productions', 'Grand March Productions', 'Immortal Entertainment', 'DeBart', 'Jack and Rose Productions', 'New Upstairs Productions', 'Freddie Fields Productions', 'S.O.A.F. Productions', 'Parallel Zide', 'Senator Film Produktion', 'MFF (Sound of Thunder)', 'Craven-Maddalena Films', 'Black Bear Pictures', 'Zeta Film', 'Ixtlan Productions', 'Pan Nalin Pictures', 'Tripod Entertainment', 'Lin Pictures', 'Golar Productions', 'Cutting Edge Films', '40 Acres & A Mule Filmworks', 'Fairview Entertainment', 'Province of British Columbia Film Incentive BC', 'Behavioral Problem Productions Ltd.', 'William Castle Productions', 'Vinyl Films', 'Smart Entertainment', 'Burke/Samples/Foster Productions', 'France 3 (FR 3)', 'Steady Aim', 'Prime Time', 'The Combine', 'New Line Productions', 'Asis Productions', 'Broken Chair Flickz', 'Pull Down Your Pants Pictures', 'Sveriges Television (SVT)', 'Trigger Street Productions', 'Block / Hanson', 'Fierce Entertainment', 'Hannibal Pictures', 'City Light Films', 'Freestone Pictures', 'Marshall Production', 'Hughes Entertainment', 'Treehouse Pictures', 'Battlefield Productions', 'Hard Eight Pictures', 'Anvil Films', 'The Institute for the Intellectual Development of Children & Young Adults', 'JVC Entertainment', 'Seed Productions', 'Woodcote', 'Taikei Office', 'Zanuck Company, The', 'Infinity Features Entertainment', 'Eyescreen S.r.l.', 'Cloud Eight Films', 'Andrea Sperling Productions', 'Samuel Bronston Productions', 'Capcom', 'Subterranean Productions LLC', 'Eden Wurmfeld Films', 'Peregrine', 'Artisan Entertainment', 'Bavaria Film', 'Rivdel Films', 'Baumgarten-Prophet Entertainment', 'A-Line Pictures', 'Internationale Filmproduktion', 'Altavista Films', 'HCC Media Group', 'First Light Production', 'Filmboard Berlin-Brandenburg (FBB)', 'Vivendi', 'Hostel LLC', 'MGP Productions', 'Warwick Film Productions', 'Fine Productions', 'Warner Bros. Entertainment France', \"Fonds Eurimages du Conseil de l'Europe\", 'Weed Road Pictures', 'Participant Media', 'Legion Entertainment', 'Mon Voisin Productions', 'Industrial House Films', 'Eyetronics', 'Jaffe-Lansing', 'The Guber-Peters Company', 'Focus Features', 'Senator International', 'TC Productions', 'Laurel Entertainment', 'Franchise Pictures', 'Emmitt Productions Limited', 'Boxing Cat Films', 'Carmel Entertainment', 'Fox Entertainment Group', 'warner bross Turkey', 'TF1', 'Picnic Basket', 'Dieter Geissler Filmproduktion', 'Paramount Vantage', 'Contagious Entertainment', 'Y Productions', 'Gambit Pictures', 'Metro-Goldwyn-Mayer (MGM)', 'Volcano Films', 'Motion Picture JOTA Produktions', '3 Arts Entertainment', 'CityMation', 'Rossen Films', 'Phi Group', 'Chapter 2', 'Broken Lizard Industries', 'Mediastream Vierte Film GmbH & Co. Vermarktungs KG', 'Guy Walks into a Bar Productions', 'Jon Shestack Productions', 'Chime Films', 'Stoney Lake Entertainment', 'Fuqua Films', 'Laredo', 'Televisió de Catalunya (TV3)', 'Debra Hill Productions', 'Access Films', 'Rafran Cinematografica', 'A Hot Dog', 'Road Rebel', '3Mark Entertainment', 'Nederlands Fonds voor de Film', 'Josephson Entertainment', 'Iyara Films', 'Production Champion', 'Renaissance Pictures', 'Inferno International', 'Dozen Canada Productions', 'DRO Entertainment', 'Universum Film (UFA)', 'Three Rivers Production', 'Walt Disney Company', 'Overbrook Entertainment', 'MPI Media Group', 'Michaels-Goldwyn', 'Walden Media', 'White Noise UK Ltd.', 'Weinstein Company, The', \"O'Connor Brothers\", 'Hal Lieberman Company', 'Alliance de Production Cinematographique (APC)', 'Cranium Films', 'Galavis Film', 'Cecchi Gori Pictures', 'Poo Poo Pictures', 'Potboiler Productions', 'Darius Films', \"Eric's Boy\", 'Evolution Entertainment', 'Green Tulip Productions', 'Redwave Films', 'Chatrone', 'ASAF', 'Boies / Schiller Film Group', 'Ascendant Pictures', 'Live Entertainment', 'Téléfilm Canada', 'Pricel', 'DreamWorks Studios', 'TiMe Film- und TV-Produktions GmbH', 'Reperage', 'Haxan Films', 'Telewizja Polska (TVP)', 'Trans Pacific Films', 'Verisimilitude', 'Sparkle Roll Media', 'ABC Pictures', 'Dolly Hall Productions', 'Groucho III Film Partnership', 'South Pacific Pictures', 'Loki Films', 'Revolution Sun Studios', 'Square USA', \"Winter's Bone Productions\", 'Paragon Entertainment Corp.', 'Dangerous Method Film AG', 'Iconolatry Productions Inc.', 'Gran Via', \"Les Films d'Ici\", 'Bórd Scannán na hÉireann', 'Target Media Entertainment', 'Jackie & JJ Production', 'Scholastic Productions', 'CiBy 2000', 'Silver Pictures', 'Film i Väst', 'GraceWorks Pictures', 'Dreamagine Entertainment', 'Castle Rock Entertainment', 'Caravan Pictures', 'Aversano Films', 'BillBlock Media', 'Australian Film Finance Corporation', 'Park Ex Pictures', 'Realitism Films', 'Bourne Again', 'Skylark Productions', 'Frantic Films', 'Serendipity Point Films', 'X-Filme Creative Pool', 'Zanuck/Brown Productions', 'KC Medien AG', 'Great Scott Productions Pty. Ltd.', 'David Dobkin Productions', 'Fox 2000 Pictures', 'Sony Pictures Animation', 'National Film & Video Foundation of South Africa', 'Asahi Soft Drinks Company', 'Televisión de Galicia (TVG) S.A.', 'Tri Pictures', 'Monarchy Enterprises S.a.r.l.', 'Catwoman Films', 'Mad Hatter Entertainment', 'Red Granite Pictures', 'Grosvenor Park Media Ltd.', 'Pathé', 'Brat Na Pont Productions', 'Living Films', 'Film and General Productions', 'Headforce Ltd.', 'InVenture Entertainment', 'Jinks/Cohen Company', 'Zephyr Films', 'Cinema Gypsy Productions', 'Atchity Entertainment International (AEI)', 'ETIC Films', 'Down Productions', 'IM Global', 'Fabula', 'Tailor Made', 'Witt/Thomas Productions', 'FortyFour Studios', 'N1 European Film Produktions GmbH & Co. KG', 'Salter Street Films International', 'Before the Door Pictures', 'Prana Animation Studios', 'First Generation Films', 'Union Générale Cinématographique (UGC)', 'Ballpark Productions Partnership', 'Emmett/Furla Films', '2 Loop Films', 'Chartoff-Winkler Productions', 'Nintendo', 'Andreevsky Flag Film Company', 'Gran Via Productions', 'Babylon', 'Estudios Picasso', 'Konami Corporation Ltd.', 'Elevation Filmworks', 'Moviemakers Productions (MMP)', 'Silver Lion Films', 'GAGA', 'Reel FX Creative Studios', 'Mooseport Productions', 'Neal H. Moritz Productions', 'Vif Babelsberger Filmproduktion GmbH & Co. Zweite KG', 'Karz Entertainment', 'Brownstone Productions', 'Nexus Factory', 'Instinctive Film', 'Scion Films', 'Velocity Productions', 'Cold Iron Pictures', 'Eurasia Film Production', 'Permut Presentations', 'Sarah Green Film', 'La Sexta', 'Danmarks Radio (DR)', 'Agencja Produkcji Filmowej', 'Sony Pictures', 'Hoya Productions', 'Black Entertainment Television (BET)', 'Sketch Films', 'Abe Shuji', 'Midnight Sun Pictures', 'Nimar Studios', 'Transworld Pictures', 'Tokyo FM Broadcasting Co.', 'Peach Trees', 'Franton Production', 'Bisgrove Entertainment', 'Synthesis Entertainment', 'Ashton Productions', 'Showbox Entertainment', 'Ozla Productions', 'Sony Pictures International', 'El Deseo', 'Vertigo Films', 'Variance Films', 'Eclipse Catering', 'BBC Films', 'Pam Williams Productions', 'Shanghai Film Group Corporation', 'Joseph E. Levine Productions', 'Polar Entertainment Corporation', 'Intermedia', '10th Hole Productions', 'Be Gentlemen Limited Partnership', 'The Body', 'Jigsaw Productions', 'Ombra Films', 'Edge City', 'Matador Pictures', 'Fake Empire', 'Peninsula Films', 'Zehnte Babelsberg', 'Triumph', 'Failure to Launch Productions', 'Gratitude International', 'Rainforest Films', 'Dragonfly Entertainment', 'Aldamisa Entertainment', 'Stuber/Parent', 'Lonely Dragon', 'Légende Entreprises', 'A113', 'Ufland', 'Trust Film Svenska', 'Iconoclast', 'J.K. Livin Productions', 'Artist International Management', 'APJAC Productions', 'Karbo Vantas Entertainment', 'Canadian Film or Video Production Tax Credit (CPTC)', \"Bull's Eye Entertainment\", 'Riofilm', 'New Redemption Pictures', 'Tremendum Pictures', 'Current Entertainment', 'Hasbro', 'Canal+ Polska', 'Ascension Productions', 'Euroimages Fund of the Council of Europe', 'Yannix Technology Corporation', 'Media Rights Capital', 'SBK Pictures', 'Avi Arad Productions', 'Belhaven Limited', 'Sneak Preview Productions', 'ITC Entertainment', 'Resident Evil Productions', 'Daybreak Productions', 'Clockwork Pictures', 'Mimran Schur Pictures', 'Norddeutscher Rundfunk (NDR)', 'Instituto de Crédito Oficial (ICO)', 'Media Cooperation One', 'Marc Platt Productions', 'The Magnolia Project', 'Trackform Film Productions', 'Egoli Tossell Film AG', 'Ocean Pictures', 'Zentropa International Sweden', 'Mediastream Film GmbH & Co. Productions KG', 'Forge', 'Azoff Entertainment', 'Sony', 'DreamWorks', 'Hemdale Film Corporation', 'Fine Line Features', 'ApolloProScreen Filmproduktion', 'Sever Studio', 'Next Entertainment', 'Muse Productions', 'Misha Films', 'Capitol Films', 'Celluloid Dreams', 'Davis-Films', 'Bullwinkle Studios', 'SND', 'Screenland Pictures', 'Province of British Columbia Production Services Tax Credit', 'Alcon Entertainment', 'Columbia Pictures Film Production Asia', 'Crystal Sky Worldwide', 'Conquistador Entertainment', 'Heyday films', 'TDJ Enterprises / New Dimensions Entertainment', 'International Pictures Two', 'Ahimsa Films', 'Xingu Films', 'Principato-Young Entertainment', 'Traction Media', 'Filmways Productions', 'Nippon Film Development and Finance Inc.', 'Anonymous Content', 'Pikachu Project 2001', 'Farraday Films', 'Annapurna Pictures', 'Cinémaginaire Inc.', 'Outerbanks Entertainment', 'Solana Films', 'MacDonald/Parkes Productions', 'Qian Yian International', 'Two Brothers Productions', 'Universal', 'RVK Studios', 'TV3 Television Network Ireland', 'Upstairs Canada Productions', 'Charenton Productions Limited', 'Baltimore Spring Creek Pictures', 'Extreme Productions', 'Artists Production Group (APG)', 'Independent Pictures (II)', 'Atlas Entertainment', 'Arte', 'Commission du Film France', 'LightWorkers Media', 'Yer Dead Productions', 'A24', 'Shaw Brothers', 'Kodansha', 'Imhotep Productions', 'New Legacy', 'Bavaria Studios', 'China Film Group Corporation', 'Summit Entertainment, LLC', 'Alfred J. Hitchcock Productions', 'The Bubble Factory', 'Lars Productions', 'H2F Entertainment', 'TriStar Pictures', 'Team Downey', 'Constantin Film.', 'Tailored Films', 'Cosmic Pictures', 'Malpaso Productions', 'Cineritmo', 'Scythia Films', 'Nordisk Film Distribution', 'Staccato Films', 'Kennedy Miller Mitchell', 'Electric Entertainment', 'Central Films', 'VideoFilmes', 'Affirm Films', 'SnowPiercer', 'Axon Films', 'Back Lot Pictures', 'TOKYOPOP', 'Empire Pictures', 'CN Film', 'BSM Studio', 'Gary Sanchez Productions', 'KMP Film Invest', 'Portobello Studios', 'RabbitBandini Productions', 'Original Media', 'What to Expect Productions', 'Glendale Picture Company', 'Sindika Dokolo', 'Motion Picture THETA Produktionsgesellschaft', 'Qwerty Films', 'Yuk Films', 'Arcade Pictures', 'Rhombus Media', 'TV 1000', 'Ventanarosa Productions', 'Gavin McKinney Underwater Productions', 'Isle of Man Film', 'Yleisradio (YLE)', 'Crossroads Films', 'Zwart Arbeid', 'CinéCinéma', 'Suftley', 'Outlaw Victoria Productions Inc.', 'Antidote Films (I)', 'Muskat Filmed Properties', 'Taurus Films', 'Limelight Fund', 'The Harvey Entertainment Company', 'Imaginary Forces', 'Saltire Entertainment', 'Verdi Productions', 'Merlin Films', 'Charenton Productions', 'Platinum Dunes', '2S Films', 'Weimaraner Republic Pictures', 'Filmula', 'Takoma Entertainment', 'Maipo Film- og TV Produksjon', 'Tenth Planet Productions', 'Perfect World Pictures', 'Route One Entertainment', 'Pathé Distribution', 'Huayi Brothers', 'Constellation Entertainment', 'Catch 23 Entertainment', 'Very Special Projects', 'Carnival Films', 'TCF Vancouver Productions', 'Carthago Films S.a.r.l.', 'Young Hannibal Productions', 'Licht/Mueller Film Corporation', 'Eurimages', '1.85 Films', 'The Steve Tisch Company', 'Ardustry Entertainment', 'Laika Entertainment', 'Simon Fields Productions', 'Pimlico Films', 'Alta Loma Entertainment', 'Epidemic Pictures', 'Elle Driver', 'Achte Babelsberg Film', 'Gruskoff/Venture Films', 'Madhouse Entertainment', 'Geffen Pictures', 'American Empirical Pictures', 'Media Asia Group', 'Dentsu Inc.', 'Nordisk Film- & TV-Fond', 'Film Afrika', 'Rovio Mobile', 'Emperor Motion Pictures', 'Goldenlight Films', 'PSO International', 'Orly Films', 'Grand Army Entertainment', 'Lumiere', 'Oriental Light and Magic (OLM)', 'Syalis DA', 'Grisbi Productions', 'Grosvenor Park Productions', 'Tangled Web Productions', 'Universal Studios', 'Colorado Office of Film, Television & Media', 'Abraham Productions', 'Blue Sky Films', 'Traveling Film Productions', 'ANA Media', 'Wardour Street Pictures', 'Cube Vision', 'New Century Entertainment Corporation', 'Handmade Films Ltd.', 'Out of the Blue... Entertainment', 'Gidden Media', 'Lotus Pictures', 'Syncopy', 'Seven Arts Productions', 'CatchPlay', 'France 2 (FR2)', 'Offspring Entertainment', 'Management 360', 'Sid & Marty Krofft Pictures', 'Katira Productions GmbH & Co. KG', 'Yellow Bastard Production', 'Reperage & Vanguard Films', 'Parkes/MacDonald Productions', 'Zero Gravity Management', 'McLaughlin Films', 'Biscottificio Verona', 'Filmways Pictures', 'Patalex III Productions Limited', 'Buena Vista Home Entertainment', 'David Ladd Films', 'Goldsmith-Thomas Productions', 'Numb Gums Production Inc.', 'Junction Entertainment', 'Platinum Equity', 'Baltimore Spring Creek Productions', 'Mindshare Media', 'Sony Pictures Entertainment (SPE)', 'Cort/Madden Productions', 'Isabella Films B.V.', 'Everest Entertainment', 'Spanky Pictures', 'David L. Wolper Productions', 'The Javelina Film Company', 'Filmline International', 'Pin Hole Productions LLC', 'VCL Communications', 'Nouvelles Éditions de Films (NEF)', 'Voltage pictures', \"L'Institut Polare Français Paul-Émile Victor\", 'Pyramide Productions', 'Thunder Road Productions', 'Odd Lot Entertainment', 'Picture Perfect (I)', 'Loumolo & Co.', 'Aldrich Group', 'Kawoosh! Productions DTV I', 'MDBF Zweite Filmgesellschaft', 'River Road Entertainment', 'Centre National de la Cinématographie (CNC)', 'Roth Films', 'Stanley Kramer Productions', 'Kennedy Miller Productions', 'Geffen Company, The', 'Across the River Productions', 'Constantin Film Produktion', 'Single Cell Pictures', 'Starlite Films', 'Midwinter Productions Inc.', 'High Sierra Carpeting', 'Rickshaw Productions', 'Friday Four, Inc.', 'SAF Productions', 'Mythology Entertainment (II)', 'Filmyard Underwaterdeco', 'Cheyenne Enterprises', 'Radiant Productions', 'Toei Animation Company', 'Motion Picture Corporation of America (MPCA)', 'Dark Horse Entertainment', 'Justin Pictures', 'Berlanti Productions', 'Columbus 81 Productions', 'Showbox', 'Lee Daniels Entertainment', 'Palomar Pictures (II)', 'Chako Film Company', 'KirchMedia', 'Legendary Pictures', 'Roxbury', 'Tiger Productions', 'Office Kitano', 'Trancas International Films', 'Mark Canton Productions', 'Ram Bergman Productions', 'Rollins-Joffe Productions', '8:38 Productions', 'Turbo Productions', 'Newmarket Films', 'Imagi Animation Studios', 'Deluxe Digital Studios', 'Green Room Films', 'October Films', 'Bac Films', 'MMC Independent', 'Leverage Communications', 'Notting Hill Pictures', 'Institut Valenciã de Cinematografia (IVAC)', 'Universal Pictures', 'Class 5 Films', 'Relativity Media', 'Magnolia Films', 'Lauren Levine Productions Inc.', 'Dillinger Productions', 'Big Lou House Productions', 'Silent Hill DCP Inc.', 'Motel Movies', 'Cinema One', 'Leverage Management', 'Original Film', 'Hyde Park Films', 'IMF Internationale Medien und Film GmbH & Co. Produktions KG', 'Stanley Kubrick Productions', 'Shadow Shows', 'Internationale Filmproduktion Stella-del-Sud Second', 'Union Investment Partners', '3ality Digital Entertainment', 'Pixar Animation Studios', 'Animationwerks', 'ASIG Productions', 'Salamander Pictures', 'Sideways Productions Inc.', 'Gone North Productions', 'Birdsong Pictures', 'Distant Horizons', 'Second Mate Productions', 'Element Films', 'Full Crew/Say Yea', 'Apipoulaï', 'Two Flints', 'Adam Fields Productions', 'HBO Films', 'Paradise Productions', 'Laurel Entertainment Inc.', 'Gold Star Films', 'Rome Film Commission', 'The Zanuck Company', 'Northern Lights Entertainment', 'Gremi Film Production', 'Lawrence Bender Productions', 'Stellar Megamedia', 'Tiberius Film Productions', 'Imagine Entertainment', '4 Kids Entertainment', 'A.J.O.Z. Films', 'Cartier Productions', 'Los Hooligans Productions', 'Dos Corazones', 'Fontana Productions', 'Les Productions de la Guéville', 'Glass Eye Pix', 'Krane Entertainment', 'Jeff Most Productions', 'Avon Production', 'Good Universe', 'Gunn Films', 'Cinema 84', 'Thorn EMI Screen Entertainment', 'Lorimar Motion Pictures', 'Moving Pictures', 'Matt Baer Films', 'WDR', 'Italo/Judeo Productions', 'Zupnik Cinema Group II', 'The Film Consortium', 'NEW Century', 'MadRiver Pictures', 'Herold Productions', 'Universal Pictures International (UPI)', 'Cine Productions', 'Mindfire Entertainment', 'Big Bug Pictures', 'Anchor Bay Films', 'Gulfstream Pictures', 'New Crime Productions', 'Kinofabrika', 'Chapter One Films', 'Studio Babelsberg Motion Pictures', 'Kalima Productions GmbH & Co. KG', \"It's a Laugh Productions\", 'Mirisch Pictures', 'One Way Productions', 'Hammerhead Productions', 'Pistolero Productions LLC', 'Zentropa International Köln', 'Portobello Pictures', 'Boram Entertainment Inc.', 'Jerry Weintraub Productions', 'Cofinova 6', 'Julijette', 'Equity Pictures Medienfonds GmbH & Co. KG III', 'Q Television', 'Kudos Film and Television', 'Phase 4 Films', 'USA Films', 'Kernos Filmproduktionsgesellschaft & Company', 'Interscope Communications', 'Edward Small Productions', 'McCreary Entertainment', 'Market Square Productions', 'Reprisal Films', 'Cinemarque Entertainment BV', 'True Grit Productions', 'The Geffen Company', 'Envision Entertainment Corporation', 'Crimson Bolt', 'Palo Vista Productions', 'Anton Capital Entertainment (ACE)', 'Two Ton Films', 'Splendid Productions', 'Fox Animation Studios', 'Burg/Koules Productions', 'Nine Yards Two Productions', 'IAC Films', 'Famous Films (II)', 'Österreichischer Rundfunk (ORF)', 'Magnolia Pictures', 'Pandemonium Productions', 'Kumar Mobiliengesellschaft mbH & Co. Projekt Nr. 1 KG', 'Perfect Storm Entertainment', 'Talisman Productions', 'Cineplex-Odeon Films', 'Skyline (Baker St)', 'XYZ Funding N.V.', 'Catfish Productions', 'Greenestreet Films', 'Front Street Productions', 'platinum studios', 'Spanknyce Films', 'Hokkaido Broadcasting Co.', 'France Télévision', 'Chrysler Corporation', 'DumbDumb', 'Soho VFX', 'Teitler Film', 'Wild West Picture Show Productions', 'Studio Ghibli', 'Octagon Films', 'Sneak Preview Entertainment', 'Tiara Blu Films', 'Shade Pictures', 'View Askew Productions', 'HDNet Films', 'Rival Pictures', 'Corner Store Entertainment', 'Clinica Estetico', 'Decibel Films', 'Horsepower Films', 'Colombia Pictures', 'Tohokushinsha', 'Bird and a Bear Entertainment', 'Catch Productions', 'Media Farm', 'FilmCamp', 'Spring Creek Productions', 'Rice Films', 'Laurel Group', 'Hungarian National Film Office', 'Tohokushinsha Film Corporation', 'Horizon Pictures (II)', 'Donner/Shuler-Donner Productions', 'Top Shelf Productions', 'Solipsist Film', 'Prufrock Pictures', 'Future Films', 'Tiny Giant Entertainment', 'B24', 'Captivate Entertainment', 'Dimension Films', 'M6', 'Envision Entertainment', 'Sunday Night', 'Baby Cow Productions', 'Night Chronicles', 'See Me Louisiana', 'Forecast Pictures', 'SGF Entertainment', 'Nine Yards Productions', 'Oz Productions Ltd.', 'Tijuana Productions', 'Division Films', 'Haunted Movies', 'ContentFilm International', 'Shady Acres Entertainment', 'Origin Pictures', 'Momentum Films', 'Sofica Sofinergie 5', 'Micro scope', 'Euforia Film', 'C.H.U.D. Productions', 'Bay Films', 'Black Label Media', 'Gordonstreet Pictures', 'Parts and Labor', 'Golden Mean', 'Big Screen Productions', 'Pathe', 'Unanimous Pictures', 'Filmax Group', 'XYZ Films', 'Tezuka Production Company Ltd.', 'Blind Spot Pictures Oy', 'Surefire Capital', 'Pt. Merantau Films', 'Kanzaman', 'VIP 2 Medienfonds', 'Working Title Films', 'Rysher Entertainment', 'Prelude Pictures', 'Limited Edition Productions Inc.', 'Sean Bailey Productions', 'Twins Financing', 'Premiere Picture', 'BR Group', 'Gotham Group', 'Possessed Pictures', 'Mirabai Films', 'Playtone Production', 'Turman-Foster Company', 'Keith Barish Productions', 'Atlantic Swiss Productions', 'Canadian Television Fund', 'EuropaCorp', 'Insurge Pictures', '19 Entertainment', 'uFilm', 'Paramount Pictures', 'France 3 Cinema', 'Tazora Films', 'Imagenation Abu Dhabi FZ', 'Lucky Monkey Pictures', 'Pathé Pictures International', 'Screen Gems, Inc.', 'Silver Screen Partners', 'Fidélité Productions', 'Classic Media Productions', 'Spy Next Door', 'Joanna Productions', 'Lazio Film Commission', 'Nomadic Pictures', 'DCP Wrong Turn Productions', 'Simon Kinberg Productions', 'Whizbang Films', 'Marcy Media', \"D'Antoni Productions\", 'The Picture Factory', 'Monkey Dance Productions', 'Apotheosis Media Group', 'Tooley Productions', 'Red Lion Sarl', 'Revolt Films', 'Martin Poll Productions', 'Commission du Film Île-de-France', 'Varsity Pictures', 'Todd McFarlane Entertainment', 'Cornelius Productions', 'Skylight Cinema Foto Art', 'Industry Entertainment', 'Reveal Entertainment', '87Eleven', 'Crusader Entertainment', 'Oasis Films', 'Curse Productions', 'Bayerischer Rundfunk (BR)', 'Smokehouse Pictures', 'Mosaic Media Group', 'Oregon Film Factory', 'Cherry Road Films LLC', 'Yoruba Saxon Productions', 'Chartoff Winkler Productions', 'DoRo Fiction Film', 'AE Two Film Productions', 'Tartan Films', '1019 Entertainment', 'Jack Dietz Productions', 'Movieworld Productions', 'Bron Studios', 'Bad Hat Harry Productions', 'Virgin Produced', 'Longfellow Pictures', 'REI Capital', 'Monarch Pictures', 'Super Cool ManChu', 'Codi S.p.a.', 'DiNovi Pictures', 'Cubicle Inc.', 'Level 1 Entertainment', 'Twilight Productions', 'Bernd Eichinger Productions', 'Warner Independent Pictures (WIP)', 'WWE Studios', 'Doom Productions', 'Muse Entertainment', 'Picturehouse Entertainment', 'Forensic Films', 'Dante Entertainment', 'Major Studio Partners', 'Vía Digital', 'Head Gear Films', 'Kasander Film Company', 'Max Stronghold Productions Inc.', 'VH1 Television', 'DOS', 'Heritage Films', 'Warner Bros.', 'Red Hawk Entertainment', 'Kurtzman/Orci', 'Bluegrass Films', 'Avery Pix', 'Mile High Productions', 'Moguletta', 'Cinergi Pictures Entertainment', 'Blue Tulip Productions', 'Lucamar Productions', 'Phoenix Film Investments', 'Filmek A/S', 'Cheetah Vision', 'Barwood Films', 'Davis Entertainment', 'Canal+ España', 'The Alfred Shay Company Inc.', 'Procirep', 'Le Studio Canal+', 'Evergreen Films', 'Visual Bible International', 'Rocklock Films', 'Farrell/Minoff', 'Afrodita Audiovisual, A.I.E.', 'Dog Run Pictures', 'Jeepers Creepers II', 'Marty Katz Productions', 'BNDES', 'Perfect World (Beijing) Pictures Co.', 'Central Motion Pictures', 'Park Pictures', 'Institut Català de les Empreses Culturals (ICEC)', 'Pathé Renn Productions', 'Drafthouse Films', 'Angel films', 'HW Two', 'Tonik Productions', 'Bottom of the Ninth Productions', 'Vivi Film', 'Quinta Communications', 'Whitaker Entertainment', 'Infinity Media', 'EM Media', 'Open Road Films (II)', 'Filmförderanstalt (FFA)', 'The Kennedy/Marshall Company', 'Polygram Filmed Entertainment', 'Millenium Films', 'RatPac Entertainment', 'UW4 Productions', 'Kaplan/Perrone Entertainment', 'Media Programme of the European Community', \"Loew's Incorporated\", 'Proposal Productions', 'Sor Productions', 'Casey Productions', 'Watermark', 'Patalex IV Productions Limited', 'New Picture Company', 'Runteam Ltd.', 'British Broadcasting Corporation (BBC)', 'Yuma', 'Cineric', 'Flower Films', 'Medienproduktion Prometheus Filmgesellschaft', 'Primate Pictures', 'Cine Grande Corporation', 'Mod Producciones', 'Sentinel Productions', 'Roger Birnbaum Productions', 'H2S2 Filmproduktionsgesellschaft', 'Dino de Laurentiis Cinematografica', 'Prescience', 'Final Cut for Real', 'Scott Rudin Productions', 'Zhejiang Huace Film & TV', 'Bleiberg Entertainment', 'Silverbell Films', 'Ian Bryce Productions', 'MFP Munich Film Partners GmbH & Company I. Produktions KG', 'Playtone', 'Sahamongkol Film International', 'Miramax Films', 'Caneo Films', 'Eigerwand Pictures', 'Maroon Entertainment', 'Artémis Productions', 'Cent Productions Inc.', 'Moho Film', 'Red Chillies Entertainment', 'IFC Films', 'Astral Films', 'Swanford Films', 'Hammer & Tongs', 'Scorsese Productions', 'Runway Pictures Inc', 'Mad Chance Productions', 'Ambush Entertainment', 'Lawson', 'Zentropa Entertainments', 'Turner Feature Animation', 'Warner Bros. Feature Animation', 'Walt Disney Animation Australia', 'K/O Camera Toys', 'Disney Toon Studio', 'Peter V. Miller Investment Corp.', 'Milkshake Films', 'Finanzia San Marco', 'Wild Ocean Films', 'Material Entertainment', 'Big Beach Films', 'Victoires Productions', 'Parlay Films', 'Radical Media', 'Leiknar Myndir', 'Vaughn Productions', 'Filmsmith Productions', 'Kingston Film Productions Ltd.', 'Legendary Entertainment', 'EDI', 'The Coppola Company', 'Underworld Produktions GmbH', 'ATO Pictures', 'Mandate Pictures', 'Carousel Productions', 'Big Kid Pictures', 'Les Armateurs', 'Polar Entertainment', 'Santa Fé Films', 'Alliance Films', 'Triple Threat Talent', 'Laurence Mark Productions', 'Grosvenor Park Impact Productions', 'Propaganda Films', 'IFC Productions', 'Truth and Soul Pictures Inc', 'Dark Trick Films', 'Aramid Entertainment Fund', 'Beagle Pug Films', 'Shine Pictures', 'Ming Productions', 'Fear and Loathing LLC', 'Seven Arts Pictures', 'Tecmo', 'Magnet Productions', 'Exclusive Media Group', 'Charles Chaplin Productions', 'Maguire Entertainment', 'Epithète Films', 'Section Eight Productions', 'Tempesta Films', 'Luxembourg Film Fund', 'Stone Productions', 'GHS Productions KG', 'Mars Production Pty. Ltd.', 'Arte France', 'Baumgarten Management and Productions (BMP)', 'Motion Picture Corporation of America', 'Blind Wink Productions', 'La Classe Américaine', 'Canal Plus', 'Les Productions Artistes Associés', 'The Yomiuri Shimbun', 'MCL Films S.A.', 'High Frequency Entertainment', 'Bedlam Productions', 'Refugee Films', 'New South Wales Film & Television Office', 'XF2 Canada Productions', 'Kumar Mobiliengesellschaft mbH & Co. Projekt Nr. 2 KG', 'Crest Animation Productions', 'Gramercy Pictures', 'Coco', 'Partnership Pictures', 'Tribeca Productions', 'Degeto Film', 'Screen East', 'Studio Babelsberg StudioBabelsberg Motion Pictures', 'DNA Productions', 'JoBro Productions & Film Finance', 'Radiant Film GmbH', 'Dan Curtis Productions', 'A Grand Elephant', 'Filmplan International II', 'IM3 Entertainment', 'Foxstar', 'Silver Screen Partners II', 'EOS Entertainment', 'Société de Développement des Entreprises Culturelles (SODEC)', 'France Télévisions', 'T2 Productions', 'Hank Levine Film', 'Kickstart Productions', 'Michael London Productions', 'M.G. Films', 'Polish Brothers Construction', 'Crying Box Productions', 'Chad Troutwine Films', 'Rogue Marble', 'Sedic International', 'Camp / Thompson Pictures', 'Trademark Films', 'Liberator Productions', 'Universal Pictures Corporation', 'Film 44', 'Backup Media', 'Kennedy/Marshall Company, The', 'Odeon Films', 'Sixth Sense Productions', 'American Work', 'Middle Fork Productions', 'Fat Free', 'BBC Earth MD (WWD)', 'Iron Horse Entertainment (II)', 'Wales Creative IP Fund', 'Belladonna Productions', 'WR Universal Group', 'Two Girls Productions', 'Gerber Pictures', 'Patalex Productions', 'Comedy Central Films', 'Lou Yi Inc.', 'Roth-Arnold Productions', 'Likely Story', 'Bill Plympton Studios', 'Whitewater Films', 'Hanna-Barbera Productions', 'Chartoff Productions', 'Bandito Brothers', 'Michael Lobell Productions', 'Knightsbridge Entertainment', 'Amy Robinson Productions', 'The Caddo Company', 'Filmworks/FX', 'TIK Films', 'Rhythm and Hues', 'RTE', 'Angry Films', 'Marvel Knights', 'Robert Wise Productions', 'Clearwater Holdings Limited', 'Ultra Films', 'Lip Sync Post', 'B.H. Finance C.V.', 'International Production Company', 'Continental Producciones', 'Whamaphram Productions', 'Blue Sea Productions', 'Brick Dust Productions LLC', 'China Dream Film Culture Industry', 'Mike Zoss Productions', 'Shutt/Jones Productions', 'Olive Bridge Entertainment', 'Irish Film Board', 'Joseph Nittolo Entertainment', 'Film Export A.G.', 'CJ Entertainment', 'Antena 3 Films', 'Home Box Office (HBO)', 'Weintraub Entertainment Group', 'Saga Film', 'Choke Film', 'CAMERON MACKINTOSH', 'Panda Productions Inc.', 'New Deal Productions', 'Ryan Murphy Productions', 'Atman Entertainment', 'Dickhouse Productions', 'Zip Films', 'Revelations Entertainment', 'Odyssey Entertainment', 'Hachiko', 'Rye Road Productions', 'Gkids', 'Illusion Entertainment', 'Simian Films', 'Brandywine Productions', 'Metro-Goldwyn-Mayer Pictures', 'Hollywood Partners', 'The Canton Company', 'The Harvey Boys', 'Esperanto Filmoj', 'Pacific Film and Television Commission', 'Closest to the Hole Productions', 'Miracle Pictures', 'The Rank Organisation', 'Disney', 'Michael White Productions', 'JRS Productions', 'Kim and Jim Productions', 'Jewel Productions', 'Telekanal STS', 'Elektra Productions', 'Madison 23', 'Chris Lee Productions', 'Tokyo Movie Shinsha (TMS)', 'Distant Planet Productions', 'Faliro House Productions', 'Goldmann Pictures', 'John Goldwyn Productions', 'Vortex Words Pictures', 'Kenio Films', 'The First Channel', 'Ruby in Paradise', 'Zippcast Films', 'Wildwood Enterprises', 'MBC Beteiligungs Filmproduktion', 'Orion-Nova Productions', 'Reel Chefs Catering', 'White Hat', 'Crystal City Entertainment', 'Also Known As Pictures', 'UK Film & TV Production Company', 'Metal Productions Inc.', 'Corazón International', 'Original Pictures', 'Ozumi Films', 'Yari Film Group', 'Chrysalis Films', '3Foot7', 'International Traders', 'Walt Disney Feature Animation', 'First Independent Films', 'Warp Films', 'Dominion Productions', 'Corrino Media Corporation', 'Arsénico Producciones', 'SVT Drama', 'The Criterion Collection', 'Pacific Standard', 'Scholastic Entertainment', 'Scanbox', 'Rai Cinema', 'DW Studios', 'Haishang Films', 'Tapioca Films', 'Detour Film Production', 'Mad Max Films', 'Cinema Investment', 'Ed Friendly Productions', 'Entertainment', 'Les Films 21', 'A&E Television Networks', 'Shark Productions', 'Random Films', 'Red Om Films', 'Buckaroo Entertainment', 'Sherwood Pictures', 'Red Wagon Productions', 'Unification Church', 'MHF Erste Academy Film GmbH & Co. Produktions KG', 'Dead Crow Productions', 'Post No Bills Films', 'SPI Film Studio', 'C & L', 'Nu Image Entertainment', 'Jerry Bresler Productions', 'Bonne Pioche', 'Alabama Production Group', 'Tequila Gang', 'Prime Focus', 'Cinematograph A/S', 'Pearl Street Films', 'Mill Film', 'Revolution Films', 'thinkfilm', 'Langley Productions', 'Ternion Pictures', 'JD Productions', 'After Dark Films', 'Base 12 Productions', 'Pandora Pictures', 'Inside Track Films', 'The Montecito Picture Company', 'Wind Dancer Films', 'Wega Film', 'Sechzehnte Babelsberg Film', 'Hugo Productions', 'Standard Film Company', 'Into the Wild', 'Happy Madison Productions', 'Dino De Laurentiis Company', 'Corus Entertainment', 'Dimension Films (US version)', 'Paradise/MGN', 'Land Films Inc.', 'Theobald Film Productions', 'Iron Fists', 'Don Simpson/Jerry Bruckheimer Films', 'Dark Lot Entertainment', 'Pierce/Williams Entertainment', 'Blue Parrot Productions', 'Film Väst', 'Castel Film Romania', 'Film & Entertainment VIP Medienfonds 4 GmbH & Co. KG (I)', 'Red Horizon Productions', 'Hemisphere Media Capital', 'Riddick Canada Productions', 'TF1 Droits Audiovisuels', 'Saw Productions Inc.', 'Famous Players Ltd', 'Preferred Content', 'Rovio Entertainment', 'Bungalow 78 Productions', 'Incorporated Television Company (ITC)', 'Reaper Productions', '20th Century Fox Home Entertainment', 'Code Red Productions', 'Guardian Trust Company', 'Memfis Film', 'Why Not Productions', 'Vanguard Films', 'Lone Runner Entertainment', 'Viz Media', 'Mindhunters Productie BV', 'Temple Hill Entertainment', 'Prana Studios', 'Konrad Pictures', 'Allied Vision', 'Splendid Pictures', 'Neverland Films', 'MTV Films', 'Arka Media Works', 'Cannell Studios', 'George Stevens Productions', \"Donners' Company\", 'Atomic Monster', 'Mayhem Pictures', 'WT2 Productions', 'Location Gourmet', 'Senator Entertainment Co', 'Stars Road Entertainment', 'Jasmine Productions Inc.', 'STX Entertainment', 'Cohen/Pearl Productions', 'China Movie Channel', 'Fast Track Productions', 'Atlantic Television', 'Starbucks Entertainment', 'Artemis Films', 'Sierra/Affinity', 'Ebeling Group', 'Albert S. Ruddy Productions', 'Bill Graham Films', 'Rainmaker Entertainment', 'Opus Pictures', 'Kerner Entertainment Company', 'Eon Productions', 'Grey Water Park Productions', 'Trap-Two-Zero Productions', 'New Regency Pictures', 'Hermetof Pictures', 'O Entertainment', 'MTV Productions', 'Applecross']\n"
          ],
          "name": "stdout"
        }
      ]
    },
    {
      "cell_type": "code",
      "metadata": {
        "id": "zdz2xdCziekJ",
        "colab_type": "code",
        "outputId": "c2de0962-4842-4c6e-c585-44bca91e5c98",
        "colab": {
          "base_uri": "https://localhost:8080/",
          "height": 34
        }
      },
      "source": [
        "len(production_companies)"
      ],
      "execution_count": 0,
      "outputs": [
        {
          "output_type": "execute_result",
          "data": {
            "text/plain": [
              "3564"
            ]
          },
          "metadata": {
            "tags": []
          },
          "execution_count": 70
        }
      ]
    },
    {
      "cell_type": "markdown",
      "metadata": {
        "id": "sohJdw5_iq1d",
        "colab_type": "text"
      },
      "source": [
        "Visto o número grande de companhias de produção distintas vamos aplicar o mesmo racionio que foi aplicado para a feature keywords e vamos elimar esta feature "
      ]
    },
    {
      "cell_type": "code",
      "metadata": {
        "id": "j-0Lwms9jGld",
        "colab_type": "code",
        "colab": {}
      },
      "source": [
        "movies = movies.drop(columns=['production_companies'] , axis = 1 )"
      ],
      "execution_count": 0,
      "outputs": []
    },
    {
      "cell_type": "markdown",
      "metadata": {
        "id": "Cr3pIeGrjJQb",
        "colab_type": "text"
      },
      "source": [
        "--production_countries"
      ]
    },
    {
      "cell_type": "code",
      "metadata": {
        "id": "MSDUqT14jR1b",
        "colab_type": "code",
        "outputId": "1df21447-5986-4940-d7a0-c4647b48281f",
        "colab": {
          "base_uri": "https://localhost:8080/",
          "height": 54
        }
      },
      "source": [
        "production_countries = set()\n",
        "for item in movies.production_countries:\n",
        "    for country in item:\n",
        "        production_countries.add(country)\n",
        "production_countries = list(production_countries)\n",
        "print(production_countries)"
      ],
      "execution_count": 0,
      "outputs": [
        {
          "output_type": "stream",
          "text": [
            "['Czech Republic', 'Romania', 'Finland', 'Norway', 'Italy', 'Hong Kong', 'Hungary', 'Singapore', 'Luxembourg', 'New Zealand', 'Bulgaria', 'Chile', 'France', 'Poland', 'Denmark', 'Austria', 'Thailand', 'Fiji', 'Iran', 'Spain', 'Bahamas', 'China', 'Morocco', 'Kazakhstan', 'Slovenia', 'Netherlands', 'Brazil', 'Portugal', 'Argentina', 'United Kingdom', 'Jamaica', 'Belgium', 'Greece', 'Indonesia', 'South Korea', 'Russia', 'Iceland', 'Lithuania', 'Switzerland', 'Dominica', 'South Africa', 'Japan', 'Australia', 'Serbia', 'Israel', 'Germany', 'Peru', 'United Arab Emirates', 'Sweden', 'Mexico', 'United States of America', 'Pakistan', 'Canada', 'Tunisia', 'Malta', 'India', 'Angola', 'Philippines', 'Serbia and Montenegro', 'Taiwan', 'Ireland']\n"
          ],
          "name": "stdout"
        }
      ]
    },
    {
      "cell_type": "code",
      "metadata": {
        "id": "nILKHboLjWb3",
        "colab_type": "code",
        "outputId": "d94be7ce-1156-4946-a61e-b1c1d6722ccd",
        "colab": {
          "base_uri": "https://localhost:8080/",
          "height": 34
        }
      },
      "source": [
        "len(production_countries)"
      ],
      "execution_count": 0,
      "outputs": [
        {
          "output_type": "execute_result",
          "data": {
            "text/plain": [
              "61"
            ]
          },
          "metadata": {
            "tags": []
          },
          "execution_count": 73
        }
      ]
    },
    {
      "cell_type": "code",
      "metadata": {
        "id": "9SLDKXs4kSct",
        "colab_type": "code",
        "outputId": "39582343-4b40-4c56-dc46-8058b2d28d8f",
        "colab": {
          "base_uri": "https://localhost:8080/",
          "height": 120
        }
      },
      "source": [
        "df_production_countries = pd.DataFrame(columns=production_countries)\n",
        "df_production_countries.head()"
      ],
      "execution_count": 0,
      "outputs": [
        {
          "output_type": "execute_result",
          "data": {
            "text/html": [
              "<div>\n",
              "<style scoped>\n",
              "    .dataframe tbody tr th:only-of-type {\n",
              "        vertical-align: middle;\n",
              "    }\n",
              "\n",
              "    .dataframe tbody tr th {\n",
              "        vertical-align: top;\n",
              "    }\n",
              "\n",
              "    .dataframe thead th {\n",
              "        text-align: right;\n",
              "    }\n",
              "</style>\n",
              "<table border=\"1\" class=\"dataframe\">\n",
              "  <thead>\n",
              "    <tr style=\"text-align: right;\">\n",
              "      <th></th>\n",
              "      <th>Czech Republic</th>\n",
              "      <th>Romania</th>\n",
              "      <th>Finland</th>\n",
              "      <th>Norway</th>\n",
              "      <th>Italy</th>\n",
              "      <th>Hong Kong</th>\n",
              "      <th>Hungary</th>\n",
              "      <th>Singapore</th>\n",
              "      <th>Luxembourg</th>\n",
              "      <th>New Zealand</th>\n",
              "      <th>Bulgaria</th>\n",
              "      <th>Chile</th>\n",
              "      <th>France</th>\n",
              "      <th>Poland</th>\n",
              "      <th>Denmark</th>\n",
              "      <th>Austria</th>\n",
              "      <th>Thailand</th>\n",
              "      <th>Fiji</th>\n",
              "      <th>Iran</th>\n",
              "      <th>Spain</th>\n",
              "      <th>Bahamas</th>\n",
              "      <th>China</th>\n",
              "      <th>Morocco</th>\n",
              "      <th>Kazakhstan</th>\n",
              "      <th>Slovenia</th>\n",
              "      <th>Netherlands</th>\n",
              "      <th>Brazil</th>\n",
              "      <th>Portugal</th>\n",
              "      <th>Argentina</th>\n",
              "      <th>United Kingdom</th>\n",
              "      <th>Jamaica</th>\n",
              "      <th>Belgium</th>\n",
              "      <th>Greece</th>\n",
              "      <th>Indonesia</th>\n",
              "      <th>South Korea</th>\n",
              "      <th>Russia</th>\n",
              "      <th>Iceland</th>\n",
              "      <th>Lithuania</th>\n",
              "      <th>Switzerland</th>\n",
              "      <th>Dominica</th>\n",
              "      <th>South Africa</th>\n",
              "      <th>Japan</th>\n",
              "      <th>Australia</th>\n",
              "      <th>Serbia</th>\n",
              "      <th>Israel</th>\n",
              "      <th>Germany</th>\n",
              "      <th>Peru</th>\n",
              "      <th>United Arab Emirates</th>\n",
              "      <th>Sweden</th>\n",
              "      <th>Mexico</th>\n",
              "      <th>United States of America</th>\n",
              "      <th>Pakistan</th>\n",
              "      <th>Canada</th>\n",
              "      <th>Tunisia</th>\n",
              "      <th>Malta</th>\n",
              "      <th>India</th>\n",
              "      <th>Angola</th>\n",
              "      <th>Philippines</th>\n",
              "      <th>Serbia and Montenegro</th>\n",
              "      <th>Taiwan</th>\n",
              "      <th>Ireland</th>\n",
              "    </tr>\n",
              "  </thead>\n",
              "  <tbody>\n",
              "  </tbody>\n",
              "</table>\n",
              "</div>"
            ],
            "text/plain": [
              "Empty DataFrame\n",
              "Columns: [Czech Republic, Romania, Finland, Norway, Italy, Hong Kong, Hungary, Singapore, Luxembourg, New Zealand, Bulgaria, Chile, France, Poland, Denmark, Austria, Thailand, Fiji, Iran, Spain, Bahamas, China, Morocco, Kazakhstan, Slovenia, Netherlands, Brazil, Portugal, Argentina, United Kingdom, Jamaica, Belgium, Greece, Indonesia, South Korea, Russia, Iceland, Lithuania, Switzerland, Dominica, South Africa, Japan, Australia, Serbia, Israel, Germany, Peru, United Arab Emirates, Sweden, Mexico, United States of America, Pakistan, Canada, Tunisia, Malta, India, Angola, Philippines, Serbia and Montenegro, Taiwan, Ireland]\n",
              "Index: []"
            ]
          },
          "metadata": {
            "tags": []
          },
          "execution_count": 74
        }
      ]
    },
    {
      "cell_type": "code",
      "metadata": {
        "id": "RBepdZePkbVW",
        "colab_type": "code",
        "outputId": "0354aeca-13c8-4487-e6b8-48d38731b5b9",
        "colab": {
          "base_uri": "https://localhost:8080/",
          "height": 213
        }
      },
      "source": [
        "for index, row in movies.iterrows():\n",
        "    for item in row['production_countries']:\n",
        "        df_production_countries.loc[index,item] = 1\n",
        "df_production_countries.head(3)"
      ],
      "execution_count": 0,
      "outputs": [
        {
          "output_type": "execute_result",
          "data": {
            "text/html": [
              "<div>\n",
              "<style scoped>\n",
              "    .dataframe tbody tr th:only-of-type {\n",
              "        vertical-align: middle;\n",
              "    }\n",
              "\n",
              "    .dataframe tbody tr th {\n",
              "        vertical-align: top;\n",
              "    }\n",
              "\n",
              "    .dataframe thead th {\n",
              "        text-align: right;\n",
              "    }\n",
              "</style>\n",
              "<table border=\"1\" class=\"dataframe\">\n",
              "  <thead>\n",
              "    <tr style=\"text-align: right;\">\n",
              "      <th></th>\n",
              "      <th>Czech Republic</th>\n",
              "      <th>Romania</th>\n",
              "      <th>Finland</th>\n",
              "      <th>Norway</th>\n",
              "      <th>Italy</th>\n",
              "      <th>Hong Kong</th>\n",
              "      <th>Hungary</th>\n",
              "      <th>Singapore</th>\n",
              "      <th>Luxembourg</th>\n",
              "      <th>New Zealand</th>\n",
              "      <th>Bulgaria</th>\n",
              "      <th>Chile</th>\n",
              "      <th>France</th>\n",
              "      <th>Poland</th>\n",
              "      <th>Denmark</th>\n",
              "      <th>Austria</th>\n",
              "      <th>Thailand</th>\n",
              "      <th>Fiji</th>\n",
              "      <th>Iran</th>\n",
              "      <th>Spain</th>\n",
              "      <th>Bahamas</th>\n",
              "      <th>China</th>\n",
              "      <th>Morocco</th>\n",
              "      <th>Kazakhstan</th>\n",
              "      <th>Slovenia</th>\n",
              "      <th>Netherlands</th>\n",
              "      <th>Brazil</th>\n",
              "      <th>Portugal</th>\n",
              "      <th>Argentina</th>\n",
              "      <th>United Kingdom</th>\n",
              "      <th>Jamaica</th>\n",
              "      <th>Belgium</th>\n",
              "      <th>Greece</th>\n",
              "      <th>Indonesia</th>\n",
              "      <th>South Korea</th>\n",
              "      <th>Russia</th>\n",
              "      <th>Iceland</th>\n",
              "      <th>Lithuania</th>\n",
              "      <th>Switzerland</th>\n",
              "      <th>Dominica</th>\n",
              "      <th>South Africa</th>\n",
              "      <th>Japan</th>\n",
              "      <th>Australia</th>\n",
              "      <th>Serbia</th>\n",
              "      <th>Israel</th>\n",
              "      <th>Germany</th>\n",
              "      <th>Peru</th>\n",
              "      <th>United Arab Emirates</th>\n",
              "      <th>Sweden</th>\n",
              "      <th>Mexico</th>\n",
              "      <th>United States of America</th>\n",
              "      <th>Pakistan</th>\n",
              "      <th>Canada</th>\n",
              "      <th>Tunisia</th>\n",
              "      <th>Malta</th>\n",
              "      <th>India</th>\n",
              "      <th>Angola</th>\n",
              "      <th>Philippines</th>\n",
              "      <th>Serbia and Montenegro</th>\n",
              "      <th>Taiwan</th>\n",
              "      <th>Ireland</th>\n",
              "    </tr>\n",
              "  </thead>\n",
              "  <tbody>\n",
              "    <tr>\n",
              "      <th>0</th>\n",
              "      <td>NaN</td>\n",
              "      <td>NaN</td>\n",
              "      <td>NaN</td>\n",
              "      <td>NaN</td>\n",
              "      <td>NaN</td>\n",
              "      <td>NaN</td>\n",
              "      <td>NaN</td>\n",
              "      <td>NaN</td>\n",
              "      <td>NaN</td>\n",
              "      <td>NaN</td>\n",
              "      <td>NaN</td>\n",
              "      <td>NaN</td>\n",
              "      <td>NaN</td>\n",
              "      <td>NaN</td>\n",
              "      <td>NaN</td>\n",
              "      <td>NaN</td>\n",
              "      <td>NaN</td>\n",
              "      <td>NaN</td>\n",
              "      <td>NaN</td>\n",
              "      <td>NaN</td>\n",
              "      <td>NaN</td>\n",
              "      <td>NaN</td>\n",
              "      <td>NaN</td>\n",
              "      <td>NaN</td>\n",
              "      <td>NaN</td>\n",
              "      <td>NaN</td>\n",
              "      <td>NaN</td>\n",
              "      <td>NaN</td>\n",
              "      <td>NaN</td>\n",
              "      <td>1</td>\n",
              "      <td>NaN</td>\n",
              "      <td>NaN</td>\n",
              "      <td>NaN</td>\n",
              "      <td>NaN</td>\n",
              "      <td>NaN</td>\n",
              "      <td>NaN</td>\n",
              "      <td>NaN</td>\n",
              "      <td>NaN</td>\n",
              "      <td>NaN</td>\n",
              "      <td>NaN</td>\n",
              "      <td>NaN</td>\n",
              "      <td>NaN</td>\n",
              "      <td>NaN</td>\n",
              "      <td>NaN</td>\n",
              "      <td>NaN</td>\n",
              "      <td>NaN</td>\n",
              "      <td>NaN</td>\n",
              "      <td>NaN</td>\n",
              "      <td>NaN</td>\n",
              "      <td>NaN</td>\n",
              "      <td>1</td>\n",
              "      <td>NaN</td>\n",
              "      <td>NaN</td>\n",
              "      <td>NaN</td>\n",
              "      <td>NaN</td>\n",
              "      <td>NaN</td>\n",
              "      <td>NaN</td>\n",
              "      <td>NaN</td>\n",
              "      <td>NaN</td>\n",
              "      <td>NaN</td>\n",
              "      <td>NaN</td>\n",
              "    </tr>\n",
              "    <tr>\n",
              "      <th>1</th>\n",
              "      <td>NaN</td>\n",
              "      <td>NaN</td>\n",
              "      <td>NaN</td>\n",
              "      <td>NaN</td>\n",
              "      <td>NaN</td>\n",
              "      <td>NaN</td>\n",
              "      <td>NaN</td>\n",
              "      <td>NaN</td>\n",
              "      <td>NaN</td>\n",
              "      <td>NaN</td>\n",
              "      <td>NaN</td>\n",
              "      <td>NaN</td>\n",
              "      <td>NaN</td>\n",
              "      <td>NaN</td>\n",
              "      <td>NaN</td>\n",
              "      <td>NaN</td>\n",
              "      <td>NaN</td>\n",
              "      <td>NaN</td>\n",
              "      <td>NaN</td>\n",
              "      <td>NaN</td>\n",
              "      <td>NaN</td>\n",
              "      <td>NaN</td>\n",
              "      <td>NaN</td>\n",
              "      <td>NaN</td>\n",
              "      <td>NaN</td>\n",
              "      <td>NaN</td>\n",
              "      <td>NaN</td>\n",
              "      <td>NaN</td>\n",
              "      <td>NaN</td>\n",
              "      <td>NaN</td>\n",
              "      <td>NaN</td>\n",
              "      <td>NaN</td>\n",
              "      <td>NaN</td>\n",
              "      <td>NaN</td>\n",
              "      <td>NaN</td>\n",
              "      <td>NaN</td>\n",
              "      <td>NaN</td>\n",
              "      <td>NaN</td>\n",
              "      <td>NaN</td>\n",
              "      <td>NaN</td>\n",
              "      <td>NaN</td>\n",
              "      <td>NaN</td>\n",
              "      <td>NaN</td>\n",
              "      <td>NaN</td>\n",
              "      <td>NaN</td>\n",
              "      <td>NaN</td>\n",
              "      <td>NaN</td>\n",
              "      <td>NaN</td>\n",
              "      <td>NaN</td>\n",
              "      <td>NaN</td>\n",
              "      <td>1</td>\n",
              "      <td>NaN</td>\n",
              "      <td>NaN</td>\n",
              "      <td>NaN</td>\n",
              "      <td>NaN</td>\n",
              "      <td>NaN</td>\n",
              "      <td>NaN</td>\n",
              "      <td>NaN</td>\n",
              "      <td>NaN</td>\n",
              "      <td>NaN</td>\n",
              "      <td>NaN</td>\n",
              "    </tr>\n",
              "    <tr>\n",
              "      <th>2</th>\n",
              "      <td>NaN</td>\n",
              "      <td>NaN</td>\n",
              "      <td>NaN</td>\n",
              "      <td>NaN</td>\n",
              "      <td>NaN</td>\n",
              "      <td>NaN</td>\n",
              "      <td>NaN</td>\n",
              "      <td>NaN</td>\n",
              "      <td>NaN</td>\n",
              "      <td>NaN</td>\n",
              "      <td>NaN</td>\n",
              "      <td>NaN</td>\n",
              "      <td>NaN</td>\n",
              "      <td>NaN</td>\n",
              "      <td>NaN</td>\n",
              "      <td>NaN</td>\n",
              "      <td>NaN</td>\n",
              "      <td>NaN</td>\n",
              "      <td>NaN</td>\n",
              "      <td>NaN</td>\n",
              "      <td>NaN</td>\n",
              "      <td>NaN</td>\n",
              "      <td>NaN</td>\n",
              "      <td>NaN</td>\n",
              "      <td>NaN</td>\n",
              "      <td>NaN</td>\n",
              "      <td>NaN</td>\n",
              "      <td>NaN</td>\n",
              "      <td>NaN</td>\n",
              "      <td>1</td>\n",
              "      <td>NaN</td>\n",
              "      <td>NaN</td>\n",
              "      <td>NaN</td>\n",
              "      <td>NaN</td>\n",
              "      <td>NaN</td>\n",
              "      <td>NaN</td>\n",
              "      <td>NaN</td>\n",
              "      <td>NaN</td>\n",
              "      <td>NaN</td>\n",
              "      <td>NaN</td>\n",
              "      <td>NaN</td>\n",
              "      <td>NaN</td>\n",
              "      <td>NaN</td>\n",
              "      <td>NaN</td>\n",
              "      <td>NaN</td>\n",
              "      <td>NaN</td>\n",
              "      <td>NaN</td>\n",
              "      <td>NaN</td>\n",
              "      <td>NaN</td>\n",
              "      <td>NaN</td>\n",
              "      <td>1</td>\n",
              "      <td>NaN</td>\n",
              "      <td>NaN</td>\n",
              "      <td>NaN</td>\n",
              "      <td>NaN</td>\n",
              "      <td>NaN</td>\n",
              "      <td>NaN</td>\n",
              "      <td>NaN</td>\n",
              "      <td>NaN</td>\n",
              "      <td>NaN</td>\n",
              "      <td>NaN</td>\n",
              "    </tr>\n",
              "  </tbody>\n",
              "</table>\n",
              "</div>"
            ],
            "text/plain": [
              "  Czech Republic Romania Finland  ... Serbia and Montenegro Taiwan Ireland\n",
              "0            NaN     NaN     NaN  ...                   NaN    NaN     NaN\n",
              "1            NaN     NaN     NaN  ...                   NaN    NaN     NaN\n",
              "2            NaN     NaN     NaN  ...                   NaN    NaN     NaN\n",
              "\n",
              "[3 rows x 61 columns]"
            ]
          },
          "metadata": {
            "tags": []
          },
          "execution_count": 75
        }
      ]
    },
    {
      "cell_type": "code",
      "metadata": {
        "id": "9QVm6VPElNOO",
        "colab_type": "code",
        "colab": {}
      },
      "source": [
        "df_production_countries.fillna(0,inplace=True)"
      ],
      "execution_count": 0,
      "outputs": []
    },
    {
      "cell_type": "code",
      "metadata": {
        "id": "-8NKLf3TlXBs",
        "colab_type": "code",
        "outputId": "07db1ce0-7d0c-43f2-cf3c-f447c5147543",
        "colab": {
          "base_uri": "https://localhost:8080/",
          "height": 1000
        }
      },
      "source": [
        "# ver a distribuição por pais \n",
        "for column in df_production_countries:\n",
        "  print(\"{}: {}\".format(column,df_production_countries[column][df_production_countries[column]==1].shape[0]))"
      ],
      "execution_count": 0,
      "outputs": [
        {
          "output_type": "stream",
          "text": [
            "Czech Republic: 16\n",
            "Romania: 7\n",
            "Finland: 3\n",
            "Norway: 8\n",
            "Italy: 48\n",
            "Hong Kong: 26\n",
            "Hungary: 8\n",
            "Singapore: 1\n",
            "Luxembourg: 6\n",
            "New Zealand: 21\n",
            "Bulgaria: 3\n",
            "Chile: 2\n",
            "France: 196\n",
            "Poland: 4\n",
            "Denmark: 9\n",
            "Austria: 5\n",
            "Thailand: 3\n",
            "Fiji: 1\n",
            "Iran: 1\n",
            "Spain: 43\n",
            "Bahamas: 3\n",
            "China: 37\n",
            "Morocco: 3\n",
            "Kazakhstan: 1\n",
            "Slovenia: 1\n",
            "Netherlands: 14\n",
            "Brazil: 5\n",
            "Portugal: 1\n",
            "Argentina: 3\n",
            "United Kingdom: 436\n",
            "Jamaica: 2\n",
            "Belgium: 14\n",
            "Greece: 2\n",
            "Indonesia: 1\n",
            "South Korea: 7\n",
            "Russia: 11\n",
            "Iceland: 5\n",
            "Lithuania: 1\n",
            "Switzerland: 12\n",
            "Dominica: 1\n",
            "South Africa: 9\n",
            "Japan: 40\n",
            "Australia: 78\n",
            "Serbia: 1\n",
            "Israel: 1\n",
            "Germany: 233\n",
            "Peru: 2\n",
            "United Arab Emirates: 13\n",
            "Sweden: 8\n",
            "Mexico: 16\n",
            "United States of America: 2907\n",
            "Pakistan: 2\n",
            "Canada: 162\n",
            "Tunisia: 1\n",
            "Malta: 4\n",
            "India: 29\n",
            "Angola: 1\n",
            "Philippines: 1\n",
            "Serbia and Montenegro: 1\n",
            "Taiwan: 4\n",
            "Ireland: 25\n"
          ],
          "name": "stdout"
        }
      ]
    },
    {
      "cell_type": "code",
      "metadata": {
        "id": "ZtlmpDmXnBbB",
        "colab_type": "code",
        "outputId": "50cd941f-7344-4ccd-b4b6-b0f7e94c0b5d",
        "colab": {
          "base_uri": "https://localhost:8080/",
          "height": 34
        }
      },
      "source": [
        "(df_production_countries[df_production_countries['United States of America'] ==1].shape[0]/movies.shape[0])*100"
      ],
      "execution_count": 0,
      "outputs": [
        {
          "output_type": "execute_result",
          "data": {
            "text/plain": [
              "90.08366904245429"
            ]
          },
          "metadata": {
            "tags": []
          },
          "execution_count": 78
        }
      ]
    },
    {
      "cell_type": "markdown",
      "metadata": {
        "id": "K4I3yOcFnybM",
        "colab_type": "text"
      },
      "source": [
        "Verificamos que 90% das observações foram efetuadas em USA e por isso assumimos que não existes variância significatica e vamos elimar ets coluna também. "
      ]
    },
    {
      "cell_type": "code",
      "metadata": {
        "id": "dhTuPymSoOd-",
        "colab_type": "code",
        "colab": {}
      },
      "source": [
        "movies = movies.drop(columns=['production_countries'] , axis = 1 )"
      ],
      "execution_count": 0,
      "outputs": []
    },
    {
      "cell_type": "markdown",
      "metadata": {
        "id": "M7KPew3XJPo2",
        "colab_type": "text"
      },
      "source": [
        "--spoken_languages "
      ]
    },
    {
      "cell_type": "code",
      "metadata": {
        "id": "CGsGvxiGJQ8w",
        "colab_type": "code",
        "outputId": "da22ea91-da84-48a2-94ec-b453a6418b11",
        "colab": {
          "base_uri": "https://localhost:8080/",
          "height": 54
        }
      },
      "source": [
        "spoken_languages  = set()\n",
        "for item in movies.spoken_languages :\n",
        "    for spoken_language in item:\n",
        "        spoken_languages.add(spoken_language)\n",
        "spoken_languages  = list(spoken_languages )\n",
        "print(spoken_languages)"
      ],
      "execution_count": 0,
      "outputs": [
        {
          "output_type": "stream",
          "text": [
            "['', 'हिन्दी', 'العربية', 'Gaeilge', 'ภาษาไทย', 'தமிழ்', 'shqip', 'isiZulu', 'қазақ', 'Somali', 'Slovenčina', 'Français', 'Eesti', 'Galego', '한국어/조선말', 'Português', 'English', 'Norsk', 'Polski', 'తెలుగు', 'ქართული', 'فارسی', '日本語', 'Hrvatski', 'Latin', 'Tiếng Việt', 'עִבְרִית', 'Español', 'Italiano', 'Română', 'Nederlands', 'Íslenska', 'Esperanto', 'ਪੰਜਾਬੀ', 'ελληνικά', 'Český', 'Magyar', 'বাংলা', 'Català', '广州话 / 廣州話', 'Dansk', 'Cymraeg', 'پښتو', 'Bahasa indonesia', '普通话', 'Afrikaans', 'suomi', 'Kiswahili', 'اردو', 'Srpski', 'Türkçe', 'Український', 'Deutsch', 'български език', 'No Language', 'Pусский', 'svenska', 'Bosanski']\n"
          ],
          "name": "stdout"
        }
      ]
    },
    {
      "cell_type": "code",
      "metadata": {
        "id": "kjdxUtZqJnnS",
        "colab_type": "code",
        "outputId": "a1c8dd44-d292-4487-fa44-d679f8ce3b9b",
        "colab": {
          "base_uri": "https://localhost:8080/",
          "height": 34
        }
      },
      "source": [
        "len(spoken_languages)"
      ],
      "execution_count": 0,
      "outputs": [
        {
          "output_type": "execute_result",
          "data": {
            "text/plain": [
              "58"
            ]
          },
          "metadata": {
            "tags": []
          },
          "execution_count": 81
        }
      ]
    },
    {
      "cell_type": "code",
      "metadata": {
        "id": "0dZx8eKEJqhj",
        "colab_type": "code",
        "outputId": "b5951a12-d38f-4347-b3b9-76bf97d97cc6",
        "colab": {
          "base_uri": "https://localhost:8080/",
          "height": 171
        }
      },
      "source": [
        "df_spoken_languages= pd.DataFrame(columns=spoken_languages)\n",
        "df_spoken_languages.head()"
      ],
      "execution_count": 0,
      "outputs": [
        {
          "output_type": "execute_result",
          "data": {
            "text/html": [
              "<div>\n",
              "<style scoped>\n",
              "    .dataframe tbody tr th:only-of-type {\n",
              "        vertical-align: middle;\n",
              "    }\n",
              "\n",
              "    .dataframe tbody tr th {\n",
              "        vertical-align: top;\n",
              "    }\n",
              "\n",
              "    .dataframe thead th {\n",
              "        text-align: right;\n",
              "    }\n",
              "</style>\n",
              "<table border=\"1\" class=\"dataframe\">\n",
              "  <thead>\n",
              "    <tr style=\"text-align: right;\">\n",
              "      <th></th>\n",
              "      <th></th>\n",
              "      <th>हिन्दी</th>\n",
              "      <th>العربية</th>\n",
              "      <th>Gaeilge</th>\n",
              "      <th>ภาษาไทย</th>\n",
              "      <th>தமிழ்</th>\n",
              "      <th>shqip</th>\n",
              "      <th>isiZulu</th>\n",
              "      <th>қазақ</th>\n",
              "      <th>Somali</th>\n",
              "      <th>Slovenčina</th>\n",
              "      <th>Français</th>\n",
              "      <th>Eesti</th>\n",
              "      <th>Galego</th>\n",
              "      <th>한국어/조선말</th>\n",
              "      <th>Português</th>\n",
              "      <th>English</th>\n",
              "      <th>Norsk</th>\n",
              "      <th>Polski</th>\n",
              "      <th>తెలుగు</th>\n",
              "      <th>ქართული</th>\n",
              "      <th>فارسی</th>\n",
              "      <th>日本語</th>\n",
              "      <th>Hrvatski</th>\n",
              "      <th>Latin</th>\n",
              "      <th>Tiếng Việt</th>\n",
              "      <th>עִבְרִית</th>\n",
              "      <th>Español</th>\n",
              "      <th>Italiano</th>\n",
              "      <th>Română</th>\n",
              "      <th>Nederlands</th>\n",
              "      <th>Íslenska</th>\n",
              "      <th>Esperanto</th>\n",
              "      <th>ਪੰਜਾਬੀ</th>\n",
              "      <th>ελληνικά</th>\n",
              "      <th>Český</th>\n",
              "      <th>Magyar</th>\n",
              "      <th>বাংলা</th>\n",
              "      <th>Català</th>\n",
              "      <th>广州话 / 廣州話</th>\n",
              "      <th>Dansk</th>\n",
              "      <th>Cymraeg</th>\n",
              "      <th>پښتو</th>\n",
              "      <th>Bahasa indonesia</th>\n",
              "      <th>普通话</th>\n",
              "      <th>Afrikaans</th>\n",
              "      <th>suomi</th>\n",
              "      <th>Kiswahili</th>\n",
              "      <th>اردو</th>\n",
              "      <th>Srpski</th>\n",
              "      <th>Türkçe</th>\n",
              "      <th>Український</th>\n",
              "      <th>Deutsch</th>\n",
              "      <th>български език</th>\n",
              "      <th>No Language</th>\n",
              "      <th>Pусский</th>\n",
              "      <th>svenska</th>\n",
              "      <th>Bosanski</th>\n",
              "    </tr>\n",
              "  </thead>\n",
              "  <tbody>\n",
              "  </tbody>\n",
              "</table>\n",
              "</div>"
            ],
            "text/plain": [
              "Empty DataFrame\n",
              "Columns: [, हिन्दी, العربية, Gaeilge, ภาษาไทย, தமிழ், shqip, isiZulu, қазақ, Somali, Slovenčina, Français, Eesti, Galego, 한국어/조선말, Português, English, Norsk, Polski, తెలుగు, ქართული, فارسی, 日本語, Hrvatski, Latin, Tiếng Việt, עִבְרִית, Español, Italiano, Română, Nederlands, Íslenska, Esperanto, ਪੰਜਾਬੀ, ελληνικά, Český, Magyar, বাংলা, Català, 广州话 / 廣州話, Dansk, Cymraeg, پښتو, Bahasa indonesia, 普通话, Afrikaans, suomi, Kiswahili, اردو, Srpski, Türkçe, Український, Deutsch, български език, No Language, Pусский, svenska, Bosanski]\n",
              "Index: []"
            ]
          },
          "metadata": {
            "tags": []
          },
          "execution_count": 82
        }
      ]
    },
    {
      "cell_type": "code",
      "metadata": {
        "id": "RWvYTXpBJ2GM",
        "colab_type": "code",
        "outputId": "85f20f9f-ea68-4355-f3bb-89c592b22b1e",
        "colab": {
          "base_uri": "https://localhost:8080/",
          "height": 264
        }
      },
      "source": [
        "for index, row in movies.iterrows():\n",
        "    for item in row['spoken_languages']:\n",
        "        df_spoken_languages.loc[index,item] = 1\n",
        "df_spoken_languages.head(3)"
      ],
      "execution_count": 0,
      "outputs": [
        {
          "output_type": "execute_result",
          "data": {
            "text/html": [
              "<div>\n",
              "<style scoped>\n",
              "    .dataframe tbody tr th:only-of-type {\n",
              "        vertical-align: middle;\n",
              "    }\n",
              "\n",
              "    .dataframe tbody tr th {\n",
              "        vertical-align: top;\n",
              "    }\n",
              "\n",
              "    .dataframe thead th {\n",
              "        text-align: right;\n",
              "    }\n",
              "</style>\n",
              "<table border=\"1\" class=\"dataframe\">\n",
              "  <thead>\n",
              "    <tr style=\"text-align: right;\">\n",
              "      <th></th>\n",
              "      <th></th>\n",
              "      <th>हिन्दी</th>\n",
              "      <th>العربية</th>\n",
              "      <th>Gaeilge</th>\n",
              "      <th>ภาษาไทย</th>\n",
              "      <th>தமிழ்</th>\n",
              "      <th>shqip</th>\n",
              "      <th>isiZulu</th>\n",
              "      <th>қазақ</th>\n",
              "      <th>Somali</th>\n",
              "      <th>Slovenčina</th>\n",
              "      <th>Français</th>\n",
              "      <th>Eesti</th>\n",
              "      <th>Galego</th>\n",
              "      <th>한국어/조선말</th>\n",
              "      <th>Português</th>\n",
              "      <th>English</th>\n",
              "      <th>Norsk</th>\n",
              "      <th>Polski</th>\n",
              "      <th>తెలుగు</th>\n",
              "      <th>ქართული</th>\n",
              "      <th>فارسی</th>\n",
              "      <th>日本語</th>\n",
              "      <th>Hrvatski</th>\n",
              "      <th>Latin</th>\n",
              "      <th>Tiếng Việt</th>\n",
              "      <th>עִבְרִית</th>\n",
              "      <th>Español</th>\n",
              "      <th>Italiano</th>\n",
              "      <th>Română</th>\n",
              "      <th>Nederlands</th>\n",
              "      <th>Íslenska</th>\n",
              "      <th>Esperanto</th>\n",
              "      <th>ਪੰਜਾਬੀ</th>\n",
              "      <th>ελληνικά</th>\n",
              "      <th>Český</th>\n",
              "      <th>Magyar</th>\n",
              "      <th>বাংলা</th>\n",
              "      <th>Català</th>\n",
              "      <th>广州话 / 廣州話</th>\n",
              "      <th>Dansk</th>\n",
              "      <th>Cymraeg</th>\n",
              "      <th>پښتو</th>\n",
              "      <th>Bahasa indonesia</th>\n",
              "      <th>普通话</th>\n",
              "      <th>Afrikaans</th>\n",
              "      <th>suomi</th>\n",
              "      <th>Kiswahili</th>\n",
              "      <th>اردو</th>\n",
              "      <th>Srpski</th>\n",
              "      <th>Türkçe</th>\n",
              "      <th>Український</th>\n",
              "      <th>Deutsch</th>\n",
              "      <th>български език</th>\n",
              "      <th>No Language</th>\n",
              "      <th>Pусский</th>\n",
              "      <th>svenska</th>\n",
              "      <th>Bosanski</th>\n",
              "    </tr>\n",
              "  </thead>\n",
              "  <tbody>\n",
              "    <tr>\n",
              "      <th>0</th>\n",
              "      <td>NaN</td>\n",
              "      <td>NaN</td>\n",
              "      <td>NaN</td>\n",
              "      <td>NaN</td>\n",
              "      <td>NaN</td>\n",
              "      <td>NaN</td>\n",
              "      <td>NaN</td>\n",
              "      <td>NaN</td>\n",
              "      <td>NaN</td>\n",
              "      <td>NaN</td>\n",
              "      <td>NaN</td>\n",
              "      <td>NaN</td>\n",
              "      <td>NaN</td>\n",
              "      <td>NaN</td>\n",
              "      <td>NaN</td>\n",
              "      <td>NaN</td>\n",
              "      <td>1</td>\n",
              "      <td>NaN</td>\n",
              "      <td>NaN</td>\n",
              "      <td>NaN</td>\n",
              "      <td>NaN</td>\n",
              "      <td>NaN</td>\n",
              "      <td>NaN</td>\n",
              "      <td>NaN</td>\n",
              "      <td>NaN</td>\n",
              "      <td>NaN</td>\n",
              "      <td>NaN</td>\n",
              "      <td>1</td>\n",
              "      <td>NaN</td>\n",
              "      <td>NaN</td>\n",
              "      <td>NaN</td>\n",
              "      <td>NaN</td>\n",
              "      <td>NaN</td>\n",
              "      <td>NaN</td>\n",
              "      <td>NaN</td>\n",
              "      <td>NaN</td>\n",
              "      <td>NaN</td>\n",
              "      <td>NaN</td>\n",
              "      <td>NaN</td>\n",
              "      <td>NaN</td>\n",
              "      <td>NaN</td>\n",
              "      <td>NaN</td>\n",
              "      <td>NaN</td>\n",
              "      <td>NaN</td>\n",
              "      <td>NaN</td>\n",
              "      <td>NaN</td>\n",
              "      <td>NaN</td>\n",
              "      <td>NaN</td>\n",
              "      <td>NaN</td>\n",
              "      <td>NaN</td>\n",
              "      <td>NaN</td>\n",
              "      <td>NaN</td>\n",
              "      <td>NaN</td>\n",
              "      <td>NaN</td>\n",
              "      <td>NaN</td>\n",
              "      <td>NaN</td>\n",
              "      <td>NaN</td>\n",
              "      <td>NaN</td>\n",
              "    </tr>\n",
              "    <tr>\n",
              "      <th>1</th>\n",
              "      <td>NaN</td>\n",
              "      <td>NaN</td>\n",
              "      <td>NaN</td>\n",
              "      <td>NaN</td>\n",
              "      <td>NaN</td>\n",
              "      <td>NaN</td>\n",
              "      <td>NaN</td>\n",
              "      <td>NaN</td>\n",
              "      <td>NaN</td>\n",
              "      <td>NaN</td>\n",
              "      <td>NaN</td>\n",
              "      <td>NaN</td>\n",
              "      <td>NaN</td>\n",
              "      <td>NaN</td>\n",
              "      <td>NaN</td>\n",
              "      <td>NaN</td>\n",
              "      <td>1</td>\n",
              "      <td>NaN</td>\n",
              "      <td>NaN</td>\n",
              "      <td>NaN</td>\n",
              "      <td>NaN</td>\n",
              "      <td>NaN</td>\n",
              "      <td>NaN</td>\n",
              "      <td>NaN</td>\n",
              "      <td>NaN</td>\n",
              "      <td>NaN</td>\n",
              "      <td>NaN</td>\n",
              "      <td>NaN</td>\n",
              "      <td>NaN</td>\n",
              "      <td>NaN</td>\n",
              "      <td>NaN</td>\n",
              "      <td>NaN</td>\n",
              "      <td>NaN</td>\n",
              "      <td>NaN</td>\n",
              "      <td>NaN</td>\n",
              "      <td>NaN</td>\n",
              "      <td>NaN</td>\n",
              "      <td>NaN</td>\n",
              "      <td>NaN</td>\n",
              "      <td>NaN</td>\n",
              "      <td>NaN</td>\n",
              "      <td>NaN</td>\n",
              "      <td>NaN</td>\n",
              "      <td>NaN</td>\n",
              "      <td>NaN</td>\n",
              "      <td>NaN</td>\n",
              "      <td>NaN</td>\n",
              "      <td>NaN</td>\n",
              "      <td>NaN</td>\n",
              "      <td>NaN</td>\n",
              "      <td>NaN</td>\n",
              "      <td>NaN</td>\n",
              "      <td>NaN</td>\n",
              "      <td>NaN</td>\n",
              "      <td>NaN</td>\n",
              "      <td>NaN</td>\n",
              "      <td>NaN</td>\n",
              "      <td>NaN</td>\n",
              "    </tr>\n",
              "    <tr>\n",
              "      <th>2</th>\n",
              "      <td>NaN</td>\n",
              "      <td>NaN</td>\n",
              "      <td>NaN</td>\n",
              "      <td>NaN</td>\n",
              "      <td>NaN</td>\n",
              "      <td>NaN</td>\n",
              "      <td>NaN</td>\n",
              "      <td>NaN</td>\n",
              "      <td>NaN</td>\n",
              "      <td>NaN</td>\n",
              "      <td>NaN</td>\n",
              "      <td>1</td>\n",
              "      <td>NaN</td>\n",
              "      <td>NaN</td>\n",
              "      <td>NaN</td>\n",
              "      <td>NaN</td>\n",
              "      <td>1</td>\n",
              "      <td>NaN</td>\n",
              "      <td>NaN</td>\n",
              "      <td>NaN</td>\n",
              "      <td>NaN</td>\n",
              "      <td>NaN</td>\n",
              "      <td>NaN</td>\n",
              "      <td>NaN</td>\n",
              "      <td>NaN</td>\n",
              "      <td>NaN</td>\n",
              "      <td>NaN</td>\n",
              "      <td>1</td>\n",
              "      <td>1</td>\n",
              "      <td>NaN</td>\n",
              "      <td>NaN</td>\n",
              "      <td>NaN</td>\n",
              "      <td>NaN</td>\n",
              "      <td>NaN</td>\n",
              "      <td>NaN</td>\n",
              "      <td>NaN</td>\n",
              "      <td>NaN</td>\n",
              "      <td>NaN</td>\n",
              "      <td>NaN</td>\n",
              "      <td>NaN</td>\n",
              "      <td>NaN</td>\n",
              "      <td>NaN</td>\n",
              "      <td>NaN</td>\n",
              "      <td>NaN</td>\n",
              "      <td>NaN</td>\n",
              "      <td>NaN</td>\n",
              "      <td>NaN</td>\n",
              "      <td>NaN</td>\n",
              "      <td>NaN</td>\n",
              "      <td>NaN</td>\n",
              "      <td>NaN</td>\n",
              "      <td>NaN</td>\n",
              "      <td>1</td>\n",
              "      <td>NaN</td>\n",
              "      <td>NaN</td>\n",
              "      <td>NaN</td>\n",
              "      <td>NaN</td>\n",
              "      <td>NaN</td>\n",
              "    </tr>\n",
              "  </tbody>\n",
              "</table>\n",
              "</div>"
            ],
            "text/plain": [
              "       हिन्दी العربية Gaeilge  ... No Language Pусский svenska Bosanski\n",
              "0  NaN    NaN     NaN     NaN  ...         NaN     NaN     NaN      NaN\n",
              "1  NaN    NaN     NaN     NaN  ...         NaN     NaN     NaN      NaN\n",
              "2  NaN    NaN     NaN     NaN  ...         NaN     NaN     NaN      NaN\n",
              "\n",
              "[3 rows x 58 columns]"
            ]
          },
          "metadata": {
            "tags": []
          },
          "execution_count": 83
        }
      ]
    },
    {
      "cell_type": "code",
      "metadata": {
        "id": "b9pB9LrZKS4L",
        "colab_type": "code",
        "colab": {}
      },
      "source": [
        "df_spoken_languages.fillna(0,inplace=True)"
      ],
      "execution_count": 0,
      "outputs": []
    },
    {
      "cell_type": "code",
      "metadata": {
        "id": "lMvk7ISNKWS6",
        "colab_type": "code",
        "outputId": "b159ae77-150d-4572-c821-0a4acab7dfa3",
        "colab": {
          "base_uri": "https://localhost:8080/",
          "height": 1000
        }
      },
      "source": [
        "# ver a distribuição por lingua\n",
        "for column in df_spoken_languages:\n",
        "  print(\"{}: {}\".format(column,df_spoken_languages[column][df_spoken_languages[column]==1].shape[0]))"
      ],
      "execution_count": 0,
      "outputs": [
        {
          "output_type": "stream",
          "text": [
            ": 36\n",
            "हिन्दी: 23\n",
            "العربية: 55\n",
            "Gaeilge: 4\n",
            "ภาษาไทย: 34\n",
            "தமிழ்: 2\n",
            "shqip: 3\n",
            "isiZulu: 2\n",
            "қазақ: 1\n",
            "Somali: 2\n",
            "Slovenčina: 1\n",
            "Français: 304\n",
            "Eesti: 2\n",
            "Galego: 1\n",
            "한국어/조선말: 23\n",
            "Português: 46\n",
            "English: 3134\n",
            "Norsk: 7\n",
            "Polski: 29\n",
            "తెలుగు: 1\n",
            "ქართული: 1\n",
            "فارسی: 7\n",
            "日本語: 82\n",
            "Hrvatski: 3\n",
            "Latin: 43\n",
            "Tiếng Việt: 15\n",
            "עִבְרִית: 25\n",
            "Español: 273\n",
            "Italiano: 143\n",
            "Română: 9\n",
            "Nederlands: 7\n",
            "Íslenska: 5\n",
            "Esperanto: 2\n",
            "ਪੰਜਾਬੀ: 1\n",
            "ελληνικά: 19\n",
            "Český: 29\n",
            "Magyar: 24\n",
            "বাংলা: 1\n",
            "Català: 1\n",
            "广州话 / 廣州話: 32\n",
            "Dansk: 7\n",
            "Cymraeg: 2\n",
            "پښتو: 1\n",
            "Bahasa indonesia: 2\n",
            "普通话: 79\n",
            "Afrikaans: 5\n",
            "suomi: 3\n",
            "Kiswahili: 5\n",
            "اردو: 13\n",
            "Srpski: 4\n",
            "Türkçe: 15\n",
            "Український: 9\n",
            "Deutsch: 179\n",
            "български език: 3\n",
            "No Language: 2\n",
            "Pусский: 148\n",
            "svenska: 16\n",
            "Bosanski: 1\n"
          ],
          "name": "stdout"
        }
      ]
    },
    {
      "cell_type": "code",
      "metadata": {
        "id": "T7gg60I9Krzc",
        "colab_type": "code",
        "outputId": "8c5be37d-0bcb-4e82-e730-9901e45484f2",
        "colab": {
          "base_uri": "https://localhost:8080/",
          "height": 34
        }
      },
      "source": [
        "(df_spoken_languages[df_spoken_languages['English'] ==1].shape[0]/movies.shape[0])*100"
      ],
      "execution_count": 0,
      "outputs": [
        {
          "output_type": "execute_result",
          "data": {
            "text/plain": [
              "97.11806631546328"
            ]
          },
          "metadata": {
            "tags": []
          },
          "execution_count": 86
        }
      ]
    },
    {
      "cell_type": "markdown",
      "metadata": {
        "id": "TNXjl7lEK2Sm",
        "colab_type": "text"
      },
      "source": [
        "97% dos filmes possuem o inglês como idioma.Uma vez que é uma carateristica quase presente em todas as observações vamos eliminar esta feature também. "
      ]
    },
    {
      "cell_type": "code",
      "metadata": {
        "id": "kTwjZpRTLKoI",
        "colab_type": "code",
        "colab": {}
      },
      "source": [
        "movies = movies.drop(columns=['spoken_languages'] , axis = 1 )"
      ],
      "execution_count": 0,
      "outputs": []
    },
    {
      "cell_type": "markdown",
      "metadata": {
        "id": "Db15Q2tZLavv",
        "colab_type": "text"
      },
      "source": [
        "Vamos eliminar a coluna title também visto que já não necessitamos mais dela e é uma feature identificativa. "
      ]
    },
    {
      "cell_type": "code",
      "metadata": {
        "id": "CjeOoyi7Ljn9",
        "colab_type": "code",
        "colab": {}
      },
      "source": [
        "movies = movies.drop(columns=['title'] , axis = 1 )"
      ],
      "execution_count": 0,
      "outputs": []
    },
    {
      "cell_type": "code",
      "metadata": {
        "id": "P9qxhExXLneS",
        "colab_type": "code",
        "outputId": "a1bd924a-cddb-425c-bb9a-0991ea8093c3",
        "colab": {
          "base_uri": "https://localhost:8080/",
          "height": 241
        }
      },
      "source": [
        "movies.head()"
      ],
      "execution_count": 0,
      "outputs": [
        {
          "output_type": "execute_result",
          "data": {
            "text/html": [
              "<div>\n",
              "<style scoped>\n",
              "    .dataframe tbody tr th:only-of-type {\n",
              "        vertical-align: middle;\n",
              "    }\n",
              "\n",
              "    .dataframe tbody tr th {\n",
              "        vertical-align: top;\n",
              "    }\n",
              "\n",
              "    .dataframe thead th {\n",
              "        text-align: right;\n",
              "    }\n",
              "</style>\n",
              "<table border=\"1\" class=\"dataframe\">\n",
              "  <thead>\n",
              "    <tr style=\"text-align: right;\">\n",
              "      <th></th>\n",
              "      <th>budget</th>\n",
              "      <th>popularity</th>\n",
              "      <th>revenue</th>\n",
              "      <th>runtime</th>\n",
              "      <th>vote_average</th>\n",
              "      <th>vote_count</th>\n",
              "      <th>year</th>\n",
              "      <th>Western</th>\n",
              "      <th>Family</th>\n",
              "      <th>Music</th>\n",
              "      <th>Horror</th>\n",
              "      <th>Thriller</th>\n",
              "      <th>Science Fiction</th>\n",
              "      <th>Animation</th>\n",
              "      <th>Fantasy</th>\n",
              "      <th>Crime</th>\n",
              "      <th>War</th>\n",
              "      <th>Adventure</th>\n",
              "      <th>Documentary</th>\n",
              "      <th>Foreign</th>\n",
              "      <th>Drama</th>\n",
              "      <th>Mystery</th>\n",
              "      <th>Romance</th>\n",
              "      <th>Comedy</th>\n",
              "      <th>History</th>\n",
              "      <th>Action</th>\n",
              "    </tr>\n",
              "  </thead>\n",
              "  <tbody>\n",
              "    <tr>\n",
              "      <th>0</th>\n",
              "      <td>237000000</td>\n",
              "      <td>150.437577</td>\n",
              "      <td>2787965087</td>\n",
              "      <td>162.0</td>\n",
              "      <td>7.2</td>\n",
              "      <td>11800</td>\n",
              "      <td>2009</td>\n",
              "      <td>0.0</td>\n",
              "      <td>0.0</td>\n",
              "      <td>0.0</td>\n",
              "      <td>0.0</td>\n",
              "      <td>0.0</td>\n",
              "      <td>1.0</td>\n",
              "      <td>0.0</td>\n",
              "      <td>1.0</td>\n",
              "      <td>0.0</td>\n",
              "      <td>0.0</td>\n",
              "      <td>1.0</td>\n",
              "      <td>0.0</td>\n",
              "      <td>0.0</td>\n",
              "      <td>0.0</td>\n",
              "      <td>0.0</td>\n",
              "      <td>0.0</td>\n",
              "      <td>0.0</td>\n",
              "      <td>0.0</td>\n",
              "      <td>1.0</td>\n",
              "    </tr>\n",
              "    <tr>\n",
              "      <th>1</th>\n",
              "      <td>300000000</td>\n",
              "      <td>139.082615</td>\n",
              "      <td>961000000</td>\n",
              "      <td>169.0</td>\n",
              "      <td>6.9</td>\n",
              "      <td>4500</td>\n",
              "      <td>2007</td>\n",
              "      <td>0.0</td>\n",
              "      <td>0.0</td>\n",
              "      <td>0.0</td>\n",
              "      <td>0.0</td>\n",
              "      <td>0.0</td>\n",
              "      <td>0.0</td>\n",
              "      <td>0.0</td>\n",
              "      <td>1.0</td>\n",
              "      <td>0.0</td>\n",
              "      <td>0.0</td>\n",
              "      <td>1.0</td>\n",
              "      <td>0.0</td>\n",
              "      <td>0.0</td>\n",
              "      <td>0.0</td>\n",
              "      <td>0.0</td>\n",
              "      <td>0.0</td>\n",
              "      <td>0.0</td>\n",
              "      <td>0.0</td>\n",
              "      <td>1.0</td>\n",
              "    </tr>\n",
              "    <tr>\n",
              "      <th>2</th>\n",
              "      <td>245000000</td>\n",
              "      <td>107.376788</td>\n",
              "      <td>880674609</td>\n",
              "      <td>148.0</td>\n",
              "      <td>6.3</td>\n",
              "      <td>4466</td>\n",
              "      <td>2015</td>\n",
              "      <td>0.0</td>\n",
              "      <td>0.0</td>\n",
              "      <td>0.0</td>\n",
              "      <td>0.0</td>\n",
              "      <td>0.0</td>\n",
              "      <td>0.0</td>\n",
              "      <td>0.0</td>\n",
              "      <td>0.0</td>\n",
              "      <td>1.0</td>\n",
              "      <td>0.0</td>\n",
              "      <td>1.0</td>\n",
              "      <td>0.0</td>\n",
              "      <td>0.0</td>\n",
              "      <td>0.0</td>\n",
              "      <td>0.0</td>\n",
              "      <td>0.0</td>\n",
              "      <td>0.0</td>\n",
              "      <td>0.0</td>\n",
              "      <td>1.0</td>\n",
              "    </tr>\n",
              "    <tr>\n",
              "      <th>3</th>\n",
              "      <td>250000000</td>\n",
              "      <td>112.312950</td>\n",
              "      <td>1084939099</td>\n",
              "      <td>165.0</td>\n",
              "      <td>7.6</td>\n",
              "      <td>9106</td>\n",
              "      <td>2012</td>\n",
              "      <td>0.0</td>\n",
              "      <td>0.0</td>\n",
              "      <td>0.0</td>\n",
              "      <td>0.0</td>\n",
              "      <td>1.0</td>\n",
              "      <td>0.0</td>\n",
              "      <td>0.0</td>\n",
              "      <td>0.0</td>\n",
              "      <td>1.0</td>\n",
              "      <td>0.0</td>\n",
              "      <td>0.0</td>\n",
              "      <td>0.0</td>\n",
              "      <td>0.0</td>\n",
              "      <td>1.0</td>\n",
              "      <td>0.0</td>\n",
              "      <td>0.0</td>\n",
              "      <td>0.0</td>\n",
              "      <td>0.0</td>\n",
              "      <td>1.0</td>\n",
              "    </tr>\n",
              "    <tr>\n",
              "      <th>4</th>\n",
              "      <td>260000000</td>\n",
              "      <td>43.926995</td>\n",
              "      <td>284139100</td>\n",
              "      <td>132.0</td>\n",
              "      <td>6.1</td>\n",
              "      <td>2124</td>\n",
              "      <td>2012</td>\n",
              "      <td>0.0</td>\n",
              "      <td>0.0</td>\n",
              "      <td>0.0</td>\n",
              "      <td>0.0</td>\n",
              "      <td>0.0</td>\n",
              "      <td>1.0</td>\n",
              "      <td>0.0</td>\n",
              "      <td>0.0</td>\n",
              "      <td>0.0</td>\n",
              "      <td>0.0</td>\n",
              "      <td>1.0</td>\n",
              "      <td>0.0</td>\n",
              "      <td>0.0</td>\n",
              "      <td>0.0</td>\n",
              "      <td>0.0</td>\n",
              "      <td>0.0</td>\n",
              "      <td>0.0</td>\n",
              "      <td>0.0</td>\n",
              "      <td>1.0</td>\n",
              "    </tr>\n",
              "  </tbody>\n",
              "</table>\n",
              "</div>"
            ],
            "text/plain": [
              "      budget  popularity     revenue  runtime  ...  Romance  Comedy  History  Action\n",
              "0  237000000  150.437577  2787965087    162.0  ...      0.0     0.0      0.0     1.0\n",
              "1  300000000  139.082615   961000000    169.0  ...      0.0     0.0      0.0     1.0\n",
              "2  245000000  107.376788   880674609    148.0  ...      0.0     0.0      0.0     1.0\n",
              "3  250000000  112.312950  1084939099    165.0  ...      0.0     0.0      0.0     1.0\n",
              "4  260000000   43.926995   284139100    132.0  ...      0.0     0.0      0.0     1.0\n",
              "\n",
              "[5 rows x 26 columns]"
            ]
          },
          "metadata": {
            "tags": []
          },
          "execution_count": 89
        }
      ]
    },
    {
      "cell_type": "code",
      "metadata": {
        "id": "nh35unnAL0Q-",
        "colab_type": "code",
        "outputId": "ba05f157-d37f-4964-f32c-ae215467323f",
        "colab": {
          "base_uri": "https://localhost:8080/",
          "height": 94
        }
      },
      "source": [
        "movies.select_dtypes(exclude=['int64','float64']).head(2)"
      ],
      "execution_count": 0,
      "outputs": [
        {
          "output_type": "execute_result",
          "data": {
            "text/html": [
              "<div>\n",
              "<style scoped>\n",
              "    .dataframe tbody tr th:only-of-type {\n",
              "        vertical-align: middle;\n",
              "    }\n",
              "\n",
              "    .dataframe tbody tr th {\n",
              "        vertical-align: top;\n",
              "    }\n",
              "\n",
              "    .dataframe thead th {\n",
              "        text-align: right;\n",
              "    }\n",
              "</style>\n",
              "<table border=\"1\" class=\"dataframe\">\n",
              "  <thead>\n",
              "    <tr style=\"text-align: right;\">\n",
              "      <th></th>\n",
              "    </tr>\n",
              "  </thead>\n",
              "  <tbody>\n",
              "    <tr>\n",
              "      <th>0</th>\n",
              "    </tr>\n",
              "    <tr>\n",
              "      <th>1</th>\n",
              "    </tr>\n",
              "  </tbody>\n",
              "</table>\n",
              "</div>"
            ],
            "text/plain": [
              "Empty DataFrame\n",
              "Columns: []\n",
              "Index: [0, 1]"
            ]
          },
          "metadata": {
            "tags": []
          },
          "execution_count": 90
        }
      ]
    },
    {
      "cell_type": "markdown",
      "metadata": {
        "id": "adW04z6UL3fJ",
        "colab_type": "text"
      },
      "source": [
        "Já todas as nosssa features estão em formato numérico.  \n"
      ]
    },
    {
      "cell_type": "markdown",
      "metadata": {
        "id": "PdR9qS0_Pc0-",
        "colab_type": "text"
      },
      "source": [
        "## Modelo"
      ]
    },
    {
      "cell_type": "markdown",
      "metadata": {
        "id": "vR9nq2C9PhHZ",
        "colab_type": "text"
      },
      "source": [
        "Vamos então dividir o dataset em treino e teste:"
      ]
    },
    {
      "cell_type": "code",
      "metadata": {
        "id": "HFCGlYJYPfCe",
        "colab_type": "code",
        "colab": {}
      },
      "source": [
        "train_set, test_set = train_test_split(movies, test_size = 0.2, random_state = seed)"
      ],
      "execution_count": 0,
      "outputs": []
    },
    {
      "cell_type": "code",
      "metadata": {
        "id": "H5mJv_A7Qdxr",
        "colab_type": "code",
        "colab": {}
      },
      "source": [
        "X_train = train_set.drop(['vote_average'], axis = 1)\n",
        "y_train = train_set['vote_average']\n",
        "\n",
        "X_test = test_set.drop(['vote_average'], axis = 1)\n",
        "y_test = test_set['vote_average']"
      ],
      "execution_count": 0,
      "outputs": []
    },
    {
      "cell_type": "code",
      "metadata": {
        "id": "eKdnf9OFTytl",
        "colab_type": "code",
        "outputId": "9ac0f283-8e76-4889-cd4a-41ee408da1a0",
        "colab": {
          "base_uri": "https://localhost:8080/",
          "height": 459
        }
      },
      "source": [
        "X_test.isnull().sum()"
      ],
      "execution_count": 0,
      "outputs": [
        {
          "output_type": "execute_result",
          "data": {
            "text/plain": [
              "budget             0\n",
              "popularity         0\n",
              "revenue            0\n",
              "runtime            0\n",
              "vote_count         0\n",
              "year               0\n",
              "Western            0\n",
              "Family             0\n",
              "Music              0\n",
              "Horror             0\n",
              "Thriller           0\n",
              "Science Fiction    0\n",
              "Animation          0\n",
              "Fantasy            0\n",
              "Crime              0\n",
              "War                0\n",
              "Adventure          0\n",
              "Documentary        0\n",
              "Foreign            0\n",
              "Drama              0\n",
              "Mystery            0\n",
              "Romance            0\n",
              "Comedy             0\n",
              "History            0\n",
              "Action             0\n",
              "dtype: int64"
            ]
          },
          "metadata": {
            "tags": []
          },
          "execution_count": 93
        }
      ]
    },
    {
      "cell_type": "markdown",
      "metadata": {
        "id": "DKDmdm9nP-BY",
        "colab_type": "text"
      },
      "source": [
        "Normalização:"
      ]
    },
    {
      "cell_type": "code",
      "metadata": {
        "id": "EQ2GxWF7RWt8",
        "colab_type": "code",
        "colab": {}
      },
      "source": [
        "scaler = MinMaxScaler()\n",
        "\n",
        "features_names = X_train.columns\n",
        "\n",
        "X_train = scaler.fit_transform(X_train)\n",
        "X_train = pd.DataFrame(X_train, columns = features_names)\n",
        "\n",
        "X_test = scaler.transform(X_test)\n",
        "X_test = pd.DataFrame(X_test, columns = features_names)"
      ],
      "execution_count": 0,
      "outputs": []
    },
    {
      "cell_type": "markdown",
      "metadata": {
        "id": "OMUqnF-xRrPH",
        "colab_type": "text"
      },
      "source": [
        "--Regression linear"
      ]
    },
    {
      "cell_type": "code",
      "metadata": {
        "id": "WxKBSkAiRt9Y",
        "colab_type": "code",
        "colab": {}
      },
      "source": [
        "lr = LinearRegression().fit(X_train, y_train)"
      ],
      "execution_count": 0,
      "outputs": []
    },
    {
      "cell_type": "code",
      "metadata": {
        "id": "oacBgTJ1Y_Iv",
        "colab_type": "code",
        "colab": {}
      },
      "source": [
        "y_preds = lr.predict(X_test)"
      ],
      "execution_count": 0,
      "outputs": []
    },
    {
      "cell_type": "code",
      "metadata": {
        "id": "AIwbHCTpZDWl",
        "colab_type": "code",
        "outputId": "52d00b64-df04-4b44-a029-141d9a5688b9",
        "colab": {
          "base_uri": "https://localhost:8080/",
          "height": 34
        }
      },
      "source": [
        "lr.score(X_test, y_test)"
      ],
      "execution_count": 0,
      "outputs": [
        {
          "output_type": "execute_result",
          "data": {
            "text/plain": [
              "0.4046517693714917"
            ]
          },
          "metadata": {
            "tags": []
          },
          "execution_count": 97
        }
      ]
    },
    {
      "cell_type": "code",
      "metadata": {
        "id": "zR5bVtvcZGyZ",
        "colab_type": "code",
        "outputId": "e11229b6-f16e-4e42-c00c-0b389f2b42ba",
        "colab": {
          "base_uri": "https://localhost:8080/",
          "height": 34
        }
      },
      "source": [
        "r2_score(y_test, y_preds)"
      ],
      "execution_count": 0,
      "outputs": [
        {
          "output_type": "execute_result",
          "data": {
            "text/plain": [
              "0.4046517693714917"
            ]
          },
          "metadata": {
            "tags": []
          },
          "execution_count": 98
        }
      ]
    },
    {
      "cell_type": "markdown",
      "metadata": {
        "id": "cd3taja_ZiKP",
        "colab_type": "text"
      },
      "source": [
        "-- Non Linear Multiple Regression"
      ]
    },
    {
      "cell_type": "code",
      "metadata": {
        "id": "QBVpe2zOZly3",
        "colab_type": "code",
        "colab": {}
      },
      "source": [
        "nonlinear_model = Pipeline( steps = [('poly', PolynomialFeatures(degree = 3)),\n",
        "                                 ('linear', LinearRegression())])"
      ],
      "execution_count": 0,
      "outputs": []
    },
    {
      "cell_type": "code",
      "metadata": {
        "id": "Hj5wdZfSaq4n",
        "colab_type": "code",
        "colab": {}
      },
      "source": [
        "multiple_poly_model = nonlinear_model.fit(X_train, y_train)"
      ],
      "execution_count": 0,
      "outputs": []
    },
    {
      "cell_type": "code",
      "metadata": {
        "id": "rEHn9eRFavST",
        "colab_type": "code",
        "colab": {}
      },
      "source": [
        "preds_multiple_poly = nonlinear_model.predict(X_test)"
      ],
      "execution_count": 0,
      "outputs": []
    },
    {
      "cell_type": "code",
      "metadata": {
        "id": "kJS9kUubbH1M",
        "colab_type": "code",
        "colab": {}
      },
      "source": [
        "r2_multiple_poly = r2_score(y_test, preds_multiple_poly)"
      ],
      "execution_count": 0,
      "outputs": []
    },
    {
      "cell_type": "code",
      "metadata": {
        "id": "VmF0hBERbKf-",
        "colab_type": "code",
        "outputId": "1c2735e7-17a3-4635-fbc8-8e26a53674a5",
        "colab": {
          "base_uri": "https://localhost:8080/",
          "height": 34
        }
      },
      "source": [
        "r2_multiple_poly"
      ],
      "execution_count": 0,
      "outputs": [
        {
          "output_type": "execute_result",
          "data": {
            "text/plain": [
              "-1.1285608080348057e+20"
            ]
          },
          "metadata": {
            "tags": []
          },
          "execution_count": 103
        }
      ]
    }
  ]
}